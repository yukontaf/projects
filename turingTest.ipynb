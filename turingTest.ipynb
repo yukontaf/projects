{
 "cells": [
  {
   "cell_type": "code",
   "execution_count": 41,
   "metadata": {},
   "outputs": [],
   "source": [
    "import pandas as pd\n",
    "from IPython.core.interactiveshell import InteractiveShell\n",
    "\n",
    "InteractiveShell.ast_node_interactivity = \"all\"\n",
    "import numpy as np\n",
    "import scipy.stats as stats\n",
    "from scipy.optimize import curve_fit\n"
   ]
  },
  {
   "cell_type": "code",
   "execution_count": 2,
   "metadata": {},
   "outputs": [
    {
     "data": {
      "text/html": [
       "<div>\n",
       "<style scoped>\n",
       "    .dataframe tbody tr th:only-of-type {\n",
       "        vertical-align: middle;\n",
       "    }\n",
       "\n",
       "    .dataframe tbody tr th {\n",
       "        vertical-align: top;\n",
       "    }\n",
       "\n",
       "    .dataframe thead th {\n",
       "        text-align: right;\n",
       "    }\n",
       "</style>\n",
       "<table border=\"1\" class=\"dataframe\">\n",
       "  <thead>\n",
       "    <tr style=\"text-align: right;\">\n",
       "      <th></th>\n",
       "      <th>location</th>\n",
       "      <th>date</th>\n",
       "      <th>new_cases</th>\n",
       "      <th>new_deaths</th>\n",
       "      <th>population</th>\n",
       "      <th>aged_65_older_percent</th>\n",
       "      <th>gdp_per_capita</th>\n",
       "      <th>hospital_beds_per_thousand</th>\n",
       "    </tr>\n",
       "  </thead>\n",
       "  <tbody>\n",
       "    <tr>\n",
       "      <th>0</th>\n",
       "      <td>Afghanistan</td>\n",
       "      <td>2019-12-31</td>\n",
       "      <td>0</td>\n",
       "      <td>0</td>\n",
       "      <td>38928341.0</td>\n",
       "      <td>2.581</td>\n",
       "      <td>1803.987</td>\n",
       "      <td>0.5</td>\n",
       "    </tr>\n",
       "    <tr>\n",
       "      <th>1</th>\n",
       "      <td>Afghanistan</td>\n",
       "      <td>2020-01-01</td>\n",
       "      <td>0</td>\n",
       "      <td>0</td>\n",
       "      <td>38928341.0</td>\n",
       "      <td>2.581</td>\n",
       "      <td>1803.987</td>\n",
       "      <td>0.5</td>\n",
       "    </tr>\n",
       "    <tr>\n",
       "      <th>2</th>\n",
       "      <td>Afghanistan</td>\n",
       "      <td>2020-01-02</td>\n",
       "      <td>0</td>\n",
       "      <td>0</td>\n",
       "      <td>38928341.0</td>\n",
       "      <td>2.581</td>\n",
       "      <td>1803.987</td>\n",
       "      <td>0.5</td>\n",
       "    </tr>\n",
       "    <tr>\n",
       "      <th>3</th>\n",
       "      <td>Afghanistan</td>\n",
       "      <td>2020-01-03</td>\n",
       "      <td>0</td>\n",
       "      <td>0</td>\n",
       "      <td>38928341.0</td>\n",
       "      <td>2.581</td>\n",
       "      <td>1803.987</td>\n",
       "      <td>0.5</td>\n",
       "    </tr>\n",
       "    <tr>\n",
       "      <th>4</th>\n",
       "      <td>Afghanistan</td>\n",
       "      <td>2020-01-04</td>\n",
       "      <td>0</td>\n",
       "      <td>0</td>\n",
       "      <td>38928341.0</td>\n",
       "      <td>2.581</td>\n",
       "      <td>1803.987</td>\n",
       "      <td>0.5</td>\n",
       "    </tr>\n",
       "  </tbody>\n",
       "</table>\n",
       "</div>"
      ],
      "text/plain": [
       "      location        date  new_cases  new_deaths  population  \\\n",
       "0  Afghanistan  2019-12-31          0           0  38928341.0   \n",
       "1  Afghanistan  2020-01-01          0           0  38928341.0   \n",
       "2  Afghanistan  2020-01-02          0           0  38928341.0   \n",
       "3  Afghanistan  2020-01-03          0           0  38928341.0   \n",
       "4  Afghanistan  2020-01-04          0           0  38928341.0   \n",
       "\n",
       "   aged_65_older_percent  gdp_per_capita  hospital_beds_per_thousand  \n",
       "0                  2.581        1803.987                         0.5  \n",
       "1                  2.581        1803.987                         0.5  \n",
       "2                  2.581        1803.987                         0.5  \n",
       "3                  2.581        1803.987                         0.5  \n",
       "4                  2.581        1803.987                         0.5  "
      ]
     },
     "execution_count": 2,
     "metadata": {},
     "output_type": "execute_result"
    },
    {
     "data": {
      "text/html": [
       "<div>\n",
       "<style scoped>\n",
       "    .dataframe tbody tr th:only-of-type {\n",
       "        vertical-align: middle;\n",
       "    }\n",
       "\n",
       "    .dataframe tbody tr th {\n",
       "        vertical-align: top;\n",
       "    }\n",
       "\n",
       "    .dataframe thead th {\n",
       "        text-align: right;\n",
       "    }\n",
       "</style>\n",
       "<table border=\"1\" class=\"dataframe\">\n",
       "  <thead>\n",
       "    <tr style=\"text-align: right;\">\n",
       "      <th></th>\n",
       "      <th>id</th>\n",
       "      <th>age</th>\n",
       "      <th>gender</th>\n",
       "      <th>height</th>\n",
       "      <th>weight</th>\n",
       "      <th>ap_hi</th>\n",
       "      <th>ap_lo</th>\n",
       "      <th>cholesterol</th>\n",
       "      <th>smoke</th>\n",
       "    </tr>\n",
       "  </thead>\n",
       "  <tbody>\n",
       "    <tr>\n",
       "      <th>0</th>\n",
       "      <td>0</td>\n",
       "      <td>18393</td>\n",
       "      <td>2</td>\n",
       "      <td>168</td>\n",
       "      <td>62.0</td>\n",
       "      <td>110</td>\n",
       "      <td>80</td>\n",
       "      <td>1</td>\n",
       "      <td>0</td>\n",
       "    </tr>\n",
       "    <tr>\n",
       "      <th>1</th>\n",
       "      <td>1</td>\n",
       "      <td>20228</td>\n",
       "      <td>1</td>\n",
       "      <td>156</td>\n",
       "      <td>85.0</td>\n",
       "      <td>140</td>\n",
       "      <td>90</td>\n",
       "      <td>3</td>\n",
       "      <td>0</td>\n",
       "    </tr>\n",
       "    <tr>\n",
       "      <th>2</th>\n",
       "      <td>2</td>\n",
       "      <td>18857</td>\n",
       "      <td>1</td>\n",
       "      <td>165</td>\n",
       "      <td>64.0</td>\n",
       "      <td>130</td>\n",
       "      <td>70</td>\n",
       "      <td>3</td>\n",
       "      <td>0</td>\n",
       "    </tr>\n",
       "    <tr>\n",
       "      <th>3</th>\n",
       "      <td>3</td>\n",
       "      <td>17623</td>\n",
       "      <td>2</td>\n",
       "      <td>169</td>\n",
       "      <td>82.0</td>\n",
       "      <td>150</td>\n",
       "      <td>100</td>\n",
       "      <td>1</td>\n",
       "      <td>0</td>\n",
       "    </tr>\n",
       "    <tr>\n",
       "      <th>4</th>\n",
       "      <td>4</td>\n",
       "      <td>17474</td>\n",
       "      <td>1</td>\n",
       "      <td>156</td>\n",
       "      <td>56.0</td>\n",
       "      <td>100</td>\n",
       "      <td>60</td>\n",
       "      <td>1</td>\n",
       "      <td>0</td>\n",
       "    </tr>\n",
       "  </tbody>\n",
       "</table>\n",
       "</div>"
      ],
      "text/plain": [
       "   id    age  gender  height  weight  ap_hi  ap_lo  cholesterol  smoke\n",
       "0   0  18393       2     168    62.0    110     80            1      0\n",
       "1   1  20228       1     156    85.0    140     90            3      0\n",
       "2   2  18857       1     165    64.0    130     70            3      0\n",
       "3   3  17623       2     169    82.0    150    100            1      0\n",
       "4   4  17474       1     156    56.0    100     60            1      0"
      ]
     },
     "execution_count": 2,
     "metadata": {},
     "output_type": "execute_result"
    },
    {
     "data": {
      "text/html": [
       "<div>\n",
       "<style scoped>\n",
       "    .dataframe tbody tr th:only-of-type {\n",
       "        vertical-align: middle;\n",
       "    }\n",
       "\n",
       "    .dataframe tbody tr th {\n",
       "        vertical-align: top;\n",
       "    }\n",
       "\n",
       "    .dataframe thead th {\n",
       "        text-align: right;\n",
       "    }\n",
       "</style>\n",
       "<table border=\"1\" class=\"dataframe\">\n",
       "  <thead>\n",
       "    <tr style=\"text-align: right;\">\n",
       "      <th></th>\n",
       "      <th>id</th>\n",
       "      <th>alco</th>\n",
       "    </tr>\n",
       "  </thead>\n",
       "  <tbody>\n",
       "    <tr>\n",
       "      <th>0</th>\n",
       "      <td>44</td>\n",
       "      <td>0</td>\n",
       "    </tr>\n",
       "    <tr>\n",
       "      <th>1</th>\n",
       "      <td>45</td>\n",
       "      <td>0</td>\n",
       "    </tr>\n",
       "    <tr>\n",
       "      <th>2</th>\n",
       "      <td>46</td>\n",
       "      <td>0</td>\n",
       "    </tr>\n",
       "    <tr>\n",
       "      <th>3</th>\n",
       "      <td>47</td>\n",
       "      <td>0</td>\n",
       "    </tr>\n",
       "    <tr>\n",
       "      <th>4</th>\n",
       "      <td>49</td>\n",
       "      <td>0</td>\n",
       "    </tr>\n",
       "  </tbody>\n",
       "</table>\n",
       "</div>"
      ],
      "text/plain": [
       "   id  alco\n",
       "0  44     0\n",
       "1  45     0\n",
       "2  46     0\n",
       "3  47     0\n",
       "4  49     0"
      ]
     },
     "execution_count": 2,
     "metadata": {},
     "output_type": "execute_result"
    }
   ],
   "source": [
    "covid = pd.read_csv(\"/Users/glebsokolov/Downloads/data/covid_data.csv\")\n",
    "cardio_base = pd.read_csv(\"/Users/glebsokolov/Downloads/data/cardio_base.csv\")\n",
    "cardio_alco = pd.read_csv(\"/Users/glebsokolov/Downloads/data/cardio_alco.csv\", sep=\";\")\n",
    "covid.head()\n",
    "cardio_base.head()\n",
    "cardio_alco.head()\n"
   ]
  },
  {
   "cell_type": "code",
   "execution_count": 3,
   "metadata": {},
   "outputs": [],
   "source": [
    "cardio_base[\">50\"] = cardio_base[\"age\"].apply(lambda x: True if x / 365 > 50 else False)\n"
   ]
  },
  {
   "cell_type": "code",
   "execution_count": 12,
   "metadata": {},
   "outputs": [
    {
     "data": {
      "text/plain": [
       ">50\n",
       "False    1.243186\n",
       "True     1.421436\n",
       "Name: cholesterol, dtype: float64"
      ]
     },
     "execution_count": 12,
     "metadata": {},
     "output_type": "execute_result"
    }
   ],
   "source": [
    "cardio_base.groupby(\">50\").mean()[\"cholesterol\"]\n"
   ]
  },
  {
   "cell_type": "code",
   "execution_count": 14,
   "metadata": {},
   "outputs": [
    {
     "data": {
      "text/plain": [
       "gender\n",
       "1    161.355612\n",
       "2    169.947895\n",
       "Name: height, dtype: float64"
      ]
     },
     "execution_count": 14,
     "metadata": {},
     "output_type": "execute_result"
    }
   ],
   "source": [
    "cardio_base.groupby(\"gender\").mean()[\"height\"]\n"
   ]
  },
  {
   "cell_type": "code",
   "execution_count": 16,
   "metadata": {},
   "outputs": [
    {
     "data": {
      "text/plain": [
       "gender\n",
       "1     813\n",
       "2    5356\n",
       "Name: smoke, dtype: int64"
      ]
     },
     "execution_count": 16,
     "metadata": {},
     "output_type": "execute_result"
    }
   ],
   "source": [
    "cardio_base.groupby(\"gender\").sum()[\"smoke\"]\n"
   ]
  },
  {
   "cell_type": "code",
   "execution_count": 19,
   "metadata": {},
   "outputs": [
    {
     "data": {
      "text/plain": [
       "184.0"
      ]
     },
     "execution_count": 19,
     "metadata": {},
     "output_type": "execute_result"
    }
   ],
   "source": [
    "cardio_base[\"height\"].quantile(0.99)\n"
   ]
  },
  {
   "cell_type": "code",
   "execution_count": 23,
   "metadata": {},
   "outputs": [],
   "source": [
    "correl = cardio_base.corr()\n"
   ]
  },
  {
   "cell_type": "code",
   "execution_count": 28,
   "metadata": {},
   "outputs": [],
   "source": [
    "correl = correl.replace(1, 0)\n"
   ]
  },
  {
   "cell_type": "code",
   "execution_count": 35,
   "metadata": {},
   "outputs": [],
   "source": [
    "correl = correl.drop(\">50\", axis=1).drop(\">50\", axis=0)\n"
   ]
  },
  {
   "cell_type": "code",
   "execution_count": 36,
   "metadata": {},
   "outputs": [
    {
     "data": {
      "text/html": [
       "<style type=\"text/css\">\n",
       "#T_484d6_row1_col7, #T_484d6_row2_col3, #T_484d6_row2_col8, #T_484d6_row3_col2, #T_484d6_row3_col4, #T_484d6_row4_col5, #T_484d6_row4_col6, #T_484d6_row7_col0, #T_484d6_row7_col1 {\n",
       "  background-color: lightgreen;\n",
       "}\n",
       "</style>\n",
       "<table id=\"T_484d6\">\n",
       "  <thead>\n",
       "    <tr>\n",
       "      <th class=\"blank level0\" >&nbsp;</th>\n",
       "      <th id=\"T_484d6_level0_col0\" class=\"col_heading level0 col0\" >id</th>\n",
       "      <th id=\"T_484d6_level0_col1\" class=\"col_heading level0 col1\" >age</th>\n",
       "      <th id=\"T_484d6_level0_col2\" class=\"col_heading level0 col2\" >gender</th>\n",
       "      <th id=\"T_484d6_level0_col3\" class=\"col_heading level0 col3\" >height</th>\n",
       "      <th id=\"T_484d6_level0_col4\" class=\"col_heading level0 col4\" >weight</th>\n",
       "      <th id=\"T_484d6_level0_col5\" class=\"col_heading level0 col5\" >ap_hi</th>\n",
       "      <th id=\"T_484d6_level0_col6\" class=\"col_heading level0 col6\" >ap_lo</th>\n",
       "      <th id=\"T_484d6_level0_col7\" class=\"col_heading level0 col7\" >cholesterol</th>\n",
       "      <th id=\"T_484d6_level0_col8\" class=\"col_heading level0 col8\" >smoke</th>\n",
       "    </tr>\n",
       "  </thead>\n",
       "  <tbody>\n",
       "    <tr>\n",
       "      <th id=\"T_484d6_level0_row0\" class=\"row_heading level0 row0\" >id</th>\n",
       "      <td id=\"T_484d6_row0_col0\" class=\"data row0 col0\" >0.000000</td>\n",
       "      <td id=\"T_484d6_row0_col1\" class=\"data row0 col1\" >0.003457</td>\n",
       "      <td id=\"T_484d6_row0_col2\" class=\"data row0 col2\" >0.003502</td>\n",
       "      <td id=\"T_484d6_row0_col3\" class=\"data row0 col3\" >-0.003038</td>\n",
       "      <td id=\"T_484d6_row0_col4\" class=\"data row0 col4\" >-0.001830</td>\n",
       "      <td id=\"T_484d6_row0_col5\" class=\"data row0 col5\" >0.003356</td>\n",
       "      <td id=\"T_484d6_row0_col6\" class=\"data row0 col6\" >-0.002529</td>\n",
       "      <td id=\"T_484d6_row0_col7\" class=\"data row0 col7\" >0.006106</td>\n",
       "      <td id=\"T_484d6_row0_col8\" class=\"data row0 col8\" >-0.003699</td>\n",
       "    </tr>\n",
       "    <tr>\n",
       "      <th id=\"T_484d6_level0_row1\" class=\"row_heading level0 row1\" >age</th>\n",
       "      <td id=\"T_484d6_row1_col0\" class=\"data row1 col0\" >0.003457</td>\n",
       "      <td id=\"T_484d6_row1_col1\" class=\"data row1 col1\" >0.000000</td>\n",
       "      <td id=\"T_484d6_row1_col2\" class=\"data row1 col2\" >-0.022811</td>\n",
       "      <td id=\"T_484d6_row1_col3\" class=\"data row1 col3\" >-0.081515</td>\n",
       "      <td id=\"T_484d6_row1_col4\" class=\"data row1 col4\" >0.053684</td>\n",
       "      <td id=\"T_484d6_row1_col5\" class=\"data row1 col5\" >0.020764</td>\n",
       "      <td id=\"T_484d6_row1_col6\" class=\"data row1 col6\" >0.017647</td>\n",
       "      <td id=\"T_484d6_row1_col7\" class=\"data row1 col7\" >0.154424</td>\n",
       "      <td id=\"T_484d6_row1_col8\" class=\"data row1 col8\" >-0.047633</td>\n",
       "    </tr>\n",
       "    <tr>\n",
       "      <th id=\"T_484d6_level0_row2\" class=\"row_heading level0 row2\" >gender</th>\n",
       "      <td id=\"T_484d6_row2_col0\" class=\"data row2 col0\" >0.003502</td>\n",
       "      <td id=\"T_484d6_row2_col1\" class=\"data row2 col1\" >-0.022811</td>\n",
       "      <td id=\"T_484d6_row2_col2\" class=\"data row2 col2\" >0.000000</td>\n",
       "      <td id=\"T_484d6_row2_col3\" class=\"data row2 col3\" >0.499033</td>\n",
       "      <td id=\"T_484d6_row2_col4\" class=\"data row2 col4\" >0.155406</td>\n",
       "      <td id=\"T_484d6_row2_col5\" class=\"data row2 col5\" >0.006005</td>\n",
       "      <td id=\"T_484d6_row2_col6\" class=\"data row2 col6\" >0.015254</td>\n",
       "      <td id=\"T_484d6_row2_col7\" class=\"data row2 col7\" >-0.035821</td>\n",
       "      <td id=\"T_484d6_row2_col8\" class=\"data row2 col8\" >0.338135</td>\n",
       "    </tr>\n",
       "    <tr>\n",
       "      <th id=\"T_484d6_level0_row3\" class=\"row_heading level0 row3\" >height</th>\n",
       "      <td id=\"T_484d6_row3_col0\" class=\"data row3 col0\" >-0.003038</td>\n",
       "      <td id=\"T_484d6_row3_col1\" class=\"data row3 col1\" >-0.081515</td>\n",
       "      <td id=\"T_484d6_row3_col2\" class=\"data row3 col2\" >0.499033</td>\n",
       "      <td id=\"T_484d6_row3_col3\" class=\"data row3 col3\" >0.000000</td>\n",
       "      <td id=\"T_484d6_row3_col4\" class=\"data row3 col4\" >0.290968</td>\n",
       "      <td id=\"T_484d6_row3_col5\" class=\"data row3 col5\" >0.005488</td>\n",
       "      <td id=\"T_484d6_row3_col6\" class=\"data row3 col6\" >0.006150</td>\n",
       "      <td id=\"T_484d6_row3_col7\" class=\"data row3 col7\" >-0.050226</td>\n",
       "      <td id=\"T_484d6_row3_col8\" class=\"data row3 col8\" >0.187989</td>\n",
       "    </tr>\n",
       "    <tr>\n",
       "      <th id=\"T_484d6_level0_row4\" class=\"row_heading level0 row4\" >weight</th>\n",
       "      <td id=\"T_484d6_row4_col0\" class=\"data row4 col0\" >-0.001830</td>\n",
       "      <td id=\"T_484d6_row4_col1\" class=\"data row4 col1\" >0.053684</td>\n",
       "      <td id=\"T_484d6_row4_col2\" class=\"data row4 col2\" >0.155406</td>\n",
       "      <td id=\"T_484d6_row4_col3\" class=\"data row4 col3\" >0.290968</td>\n",
       "      <td id=\"T_484d6_row4_col4\" class=\"data row4 col4\" >0.000000</td>\n",
       "      <td id=\"T_484d6_row4_col5\" class=\"data row4 col5\" >0.030702</td>\n",
       "      <td id=\"T_484d6_row4_col6\" class=\"data row4 col6\" >0.043710</td>\n",
       "      <td id=\"T_484d6_row4_col7\" class=\"data row4 col7\" >0.141768</td>\n",
       "      <td id=\"T_484d6_row4_col8\" class=\"data row4 col8\" >0.067780</td>\n",
       "    </tr>\n",
       "    <tr>\n",
       "      <th id=\"T_484d6_level0_row5\" class=\"row_heading level0 row5\" >ap_hi</th>\n",
       "      <td id=\"T_484d6_row5_col0\" class=\"data row5 col0\" >0.003356</td>\n",
       "      <td id=\"T_484d6_row5_col1\" class=\"data row5 col1\" >0.020764</td>\n",
       "      <td id=\"T_484d6_row5_col2\" class=\"data row5 col2\" >0.006005</td>\n",
       "      <td id=\"T_484d6_row5_col3\" class=\"data row5 col3\" >0.005488</td>\n",
       "      <td id=\"T_484d6_row5_col4\" class=\"data row5 col4\" >0.030702</td>\n",
       "      <td id=\"T_484d6_row5_col5\" class=\"data row5 col5\" >0.000000</td>\n",
       "      <td id=\"T_484d6_row5_col6\" class=\"data row5 col6\" >0.016086</td>\n",
       "      <td id=\"T_484d6_row5_col7\" class=\"data row5 col7\" >0.023778</td>\n",
       "      <td id=\"T_484d6_row5_col8\" class=\"data row5 col8\" >-0.000922</td>\n",
       "    </tr>\n",
       "    <tr>\n",
       "      <th id=\"T_484d6_level0_row6\" class=\"row_heading level0 row6\" >ap_lo</th>\n",
       "      <td id=\"T_484d6_row6_col0\" class=\"data row6 col0\" >-0.002529</td>\n",
       "      <td id=\"T_484d6_row6_col1\" class=\"data row6 col1\" >0.017647</td>\n",
       "      <td id=\"T_484d6_row6_col2\" class=\"data row6 col2\" >0.015254</td>\n",
       "      <td id=\"T_484d6_row6_col3\" class=\"data row6 col3\" >0.006150</td>\n",
       "      <td id=\"T_484d6_row6_col4\" class=\"data row6 col4\" >0.043710</td>\n",
       "      <td id=\"T_484d6_row6_col5\" class=\"data row6 col5\" >0.016086</td>\n",
       "      <td id=\"T_484d6_row6_col6\" class=\"data row6 col6\" >0.000000</td>\n",
       "      <td id=\"T_484d6_row6_col7\" class=\"data row6 col7\" >0.024019</td>\n",
       "      <td id=\"T_484d6_row6_col8\" class=\"data row6 col8\" >0.005186</td>\n",
       "    </tr>\n",
       "    <tr>\n",
       "      <th id=\"T_484d6_level0_row7\" class=\"row_heading level0 row7\" >cholesterol</th>\n",
       "      <td id=\"T_484d6_row7_col0\" class=\"data row7 col0\" >0.006106</td>\n",
       "      <td id=\"T_484d6_row7_col1\" class=\"data row7 col1\" >0.154424</td>\n",
       "      <td id=\"T_484d6_row7_col2\" class=\"data row7 col2\" >-0.035821</td>\n",
       "      <td id=\"T_484d6_row7_col3\" class=\"data row7 col3\" >-0.050226</td>\n",
       "      <td id=\"T_484d6_row7_col4\" class=\"data row7 col4\" >0.141768</td>\n",
       "      <td id=\"T_484d6_row7_col5\" class=\"data row7 col5\" >0.023778</td>\n",
       "      <td id=\"T_484d6_row7_col6\" class=\"data row7 col6\" >0.024019</td>\n",
       "      <td id=\"T_484d6_row7_col7\" class=\"data row7 col7\" >0.000000</td>\n",
       "      <td id=\"T_484d6_row7_col8\" class=\"data row7 col8\" >0.010354</td>\n",
       "    </tr>\n",
       "    <tr>\n",
       "      <th id=\"T_484d6_level0_row8\" class=\"row_heading level0 row8\" >smoke</th>\n",
       "      <td id=\"T_484d6_row8_col0\" class=\"data row8 col0\" >-0.003699</td>\n",
       "      <td id=\"T_484d6_row8_col1\" class=\"data row8 col1\" >-0.047633</td>\n",
       "      <td id=\"T_484d6_row8_col2\" class=\"data row8 col2\" >0.338135</td>\n",
       "      <td id=\"T_484d6_row8_col3\" class=\"data row8 col3\" >0.187989</td>\n",
       "      <td id=\"T_484d6_row8_col4\" class=\"data row8 col4\" >0.067780</td>\n",
       "      <td id=\"T_484d6_row8_col5\" class=\"data row8 col5\" >-0.000922</td>\n",
       "      <td id=\"T_484d6_row8_col6\" class=\"data row8 col6\" >0.005186</td>\n",
       "      <td id=\"T_484d6_row8_col7\" class=\"data row8 col7\" >0.010354</td>\n",
       "      <td id=\"T_484d6_row8_col8\" class=\"data row8 col8\" >0.000000</td>\n",
       "    </tr>\n",
       "  </tbody>\n",
       "</table>\n"
      ],
      "text/plain": [
       "<pandas.io.formats.style.Styler at 0x7ff2966f62f0>"
      ]
     },
     "execution_count": 36,
     "metadata": {},
     "output_type": "execute_result"
    }
   ],
   "source": [
    "correl.style.highlight_max(color=\"lightgreen\", axis=0)\n"
   ]
  },
  {
   "cell_type": "code",
   "execution_count": 39,
   "metadata": {},
   "outputs": [],
   "source": [
    "heightleft = cardio_base[\"height\"].mean() - 2 * cardio_base[\"height\"].std()\n",
    "heightright = cardio_base[\"height\"].mean() + 2 * cardio_base[\"height\"].std()\n"
   ]
  },
  {
   "cell_type": "code",
   "execution_count": 40,
   "metadata": {},
   "outputs": [],
   "source": [
    "cardio_base[\"higher\"] = cardio_base[\"height\"].apply(\n",
    "    lambda x: True if heightleft <= x <= heightright else False\n",
    ")\n"
   ]
  },
  {
   "cell_type": "code",
   "execution_count": 42,
   "metadata": {},
   "outputs": [
    {
     "data": {
      "text/plain": [
       "True     0.966643\n",
       "False    0.033357\n",
       "Name: higher, dtype: float64"
      ]
     },
     "execution_count": 42,
     "metadata": {},
     "output_type": "execute_result"
    }
   ],
   "source": [
    "cardio_base[\"higher\"].value_counts(normalize=True)\n"
   ]
  },
  {
   "cell_type": "code",
   "execution_count": 4,
   "metadata": {},
   "outputs": [],
   "source": [
    "cardio_merged = cardio_base.merge(cardio_alco, \"left\", \"id\").dropna()\n"
   ]
  },
  {
   "cell_type": "code",
   "execution_count": 5,
   "metadata": {},
   "outputs": [
    {
     "data": {
      "text/plain": [
       ">50\n",
       "False    1084.0\n",
       "True     1957.0\n",
       "Name: alco, dtype: float64"
      ]
     },
     "execution_count": 5,
     "metadata": {},
     "output_type": "execute_result"
    }
   ],
   "source": [
    "cardio_merged.groupby(\">50\").sum()[\"alco\"]\n"
   ]
  },
  {
   "cell_type": "code",
   "execution_count": 54,
   "metadata": {},
   "outputs": [
    {
     "data": {
      "text/plain": [
       ">50\n",
       "False    17406\n",
       "True     39497\n",
       "Name: alco, dtype: int64"
      ]
     },
     "execution_count": 54,
     "metadata": {},
     "output_type": "execute_result"
    }
   ],
   "source": [
    "cardio_merged.groupby(\">50\").count()[\"alco\"]\n"
   ]
  },
  {
   "cell_type": "code",
   "execution_count": 57,
   "metadata": {},
   "outputs": [
    {
     "data": {
      "text/plain": [
       "4.954806694179305"
      ]
     },
     "execution_count": 57,
     "metadata": {},
     "output_type": "execute_result"
    }
   ],
   "source": [
    "(1957 / 39497) * 100\n"
   ]
  },
  {
   "cell_type": "code",
   "execution_count": 9,
   "metadata": {},
   "outputs": [],
   "source": [
    "no_smoke, smoke = cardio_merged.query(\"smoke==0\"), cardio_merged.query(\"smoke==1\")\n"
   ]
  },
  {
   "cell_type": "code",
   "execution_count": 10,
   "metadata": {},
   "outputs": [],
   "source": [
    "import numpy as np, statsmodels.stats.api as sms\n",
    "\n",
    "X1, X2 = smoke[\"ap_hi\"], no_smoke[\"ap_hi\"]\n",
    "\n",
    "cm = sms.CompareMeans(sms.DescrStatsW(X1), sms.DescrStatsW(X2))\n",
    "cm.tconfint_diff(usevar=\"unequal\")\n"
   ]
  },
  {
   "cell_type": "code",
   "execution_count": 12,
   "metadata": {},
   "outputs": [
    {
     "data": {
      "text/plain": [
       "(0.005145485670791695, 0.04462607557460048)"
      ]
     },
     "execution_count": 12,
     "metadata": {},
     "output_type": "execute_result"
    }
   ],
   "source": [
    "X1, X2 = smoke[\"cholesterol\"], no_smoke[\"cholesterol\"]\n",
    "\n",
    "cm = sms.CompareMeans(sms.DescrStatsW(X1), sms.DescrStatsW(X2))\n",
    "cm.tconfint_diff(usevar=\"unequal\")\n"
   ]
  },
  {
   "cell_type": "code",
   "execution_count": 14,
   "metadata": {},
   "outputs": [
    {
     "data": {
      "text/plain": [
       "(3.0689501010285567, 3.9367553379327007)"
      ]
     },
     "execution_count": 14,
     "metadata": {},
     "output_type": "execute_result"
    }
   ],
   "source": [
    "X1, X2 = smoke[\"weight\"], no_smoke[\"weight\"]\n",
    "\n",
    "cm = sms.CompareMeans(sms.DescrStatsW(X1), sms.DescrStatsW(X2))\n",
    "cm.tconfint_diff(usevar=\"unequal\")\n"
   ]
  },
  {
   "cell_type": "code",
   "execution_count": 17,
   "metadata": {},
   "outputs": [
    {
     "data": {
      "text/plain": [
       "(-4.956625183477737, 0.5820920096339779)"
      ]
     },
     "execution_count": 17,
     "metadata": {},
     "output_type": "execute_result"
    }
   ],
   "source": [
    "X1, X2 = (\n",
    "    cardio_merged.query(\"gender==1\")[\"ap_hi\"],\n",
    "    cardio_merged.query(\"gender==2\")[\"ap_hi\"],\n",
    ")\n",
    "\n",
    "cm = sms.CompareMeans(sms.DescrStatsW(X1), sms.DescrStatsW(X2))\n",
    "cm.tconfint_diff(usevar=\"unequal\")\n"
   ]
  },
  {
   "cell_type": "code",
   "execution_count": 18,
   "metadata": {},
   "outputs": [
    {
     "data": {
      "text/plain": [
       "(-7.5988112806128925, -0.8905736676738054)"
      ]
     },
     "execution_count": 18,
     "metadata": {},
     "output_type": "execute_result"
    }
   ],
   "source": [
    "X1, X2 = (\n",
    "    cardio_merged.query(\"gender==1\")[\"ap_lo\"],\n",
    "    cardio_merged.query(\"gender==2\")[\"ap_lo\"],\n",
    ")\n",
    "\n",
    "cm = sms.CompareMeans(sms.DescrStatsW(X1), sms.DescrStatsW(X2))\n",
    "cm.tconfint_diff(usevar=\"unequal\")\n"
   ]
  },
  {
   "cell_type": "code",
   "execution_count": 20,
   "metadata": {},
   "outputs": [
    {
     "data": {
      "text/plain": [
       "95.26387723619042"
      ]
     },
     "execution_count": 20,
     "metadata": {},
     "output_type": "execute_result"
    },
    {
     "data": {
      "text/plain": [
       "99.50856971033377"
      ]
     },
     "execution_count": 20,
     "metadata": {},
     "output_type": "execute_result"
    }
   ],
   "source": [
    "cardio_merged.query(\"gender==1\")[\"ap_lo\"].mean()\n",
    "cardio_merged.query(\"gender==2\")[\"ap_lo\"].mean()\n"
   ]
  },
  {
   "cell_type": "code",
   "execution_count": 31,
   "metadata": {},
   "outputs": [],
   "source": [
    "covid.date = pd.to_datetime(covid.date)\n"
   ]
  },
  {
   "cell_type": "code",
   "execution_count": 34,
   "metadata": {},
   "outputs": [],
   "source": [
    "italy, germany = (\n",
    "    covid[covid[\"location\"] == \"Italy\"].set_index(\"date\").sort_index(),\n",
    "    covid[covid[\"location\"] == \"Germany\"].set_index(\"date\").sort_index(),\n",
    ")\n"
   ]
  },
  {
   "cell_type": "code",
   "execution_count": null,
   "metadata": {},
   "outputs": [],
   "source": []
  },
  {
   "cell_type": "code",
   "execution_count": 38,
   "metadata": {},
   "outputs": [
    {
     "data": {
      "text/html": [
       "<div>\n",
       "<style scoped>\n",
       "    .dataframe tbody tr th:only-of-type {\n",
       "        vertical-align: middle;\n",
       "    }\n",
       "\n",
       "    .dataframe tbody tr th {\n",
       "        vertical-align: top;\n",
       "    }\n",
       "\n",
       "    .dataframe thead th {\n",
       "        text-align: right;\n",
       "    }\n",
       "</style>\n",
       "<table border=\"1\" class=\"dataframe\">\n",
       "  <thead>\n",
       "    <tr style=\"text-align: right;\">\n",
       "      <th></th>\n",
       "      <th>location</th>\n",
       "      <th>new_cases</th>\n",
       "      <th>new_deaths</th>\n",
       "      <th>population</th>\n",
       "      <th>aged_65_older_percent</th>\n",
       "      <th>gdp_per_capita</th>\n",
       "      <th>hospital_beds_per_thousand</th>\n",
       "    </tr>\n",
       "    <tr>\n",
       "      <th>date</th>\n",
       "      <th></th>\n",
       "      <th></th>\n",
       "      <th></th>\n",
       "      <th></th>\n",
       "      <th></th>\n",
       "      <th></th>\n",
       "      <th></th>\n",
       "    </tr>\n",
       "  </thead>\n",
       "  <tbody>\n",
       "    <tr>\n",
       "      <th>2019-12-31</th>\n",
       "      <td>Germany</td>\n",
       "      <td>0</td>\n",
       "      <td>0</td>\n",
       "      <td>83783945.0</td>\n",
       "      <td>21.453</td>\n",
       "      <td>45229.245</td>\n",
       "      <td>8.0</td>\n",
       "    </tr>\n",
       "    <tr>\n",
       "      <th>2020-01-01</th>\n",
       "      <td>Germany</td>\n",
       "      <td>0</td>\n",
       "      <td>0</td>\n",
       "      <td>83783945.0</td>\n",
       "      <td>21.453</td>\n",
       "      <td>45229.245</td>\n",
       "      <td>8.0</td>\n",
       "    </tr>\n",
       "    <tr>\n",
       "      <th>2020-01-02</th>\n",
       "      <td>Germany</td>\n",
       "      <td>0</td>\n",
       "      <td>0</td>\n",
       "      <td>83783945.0</td>\n",
       "      <td>21.453</td>\n",
       "      <td>45229.245</td>\n",
       "      <td>8.0</td>\n",
       "    </tr>\n",
       "    <tr>\n",
       "      <th>2020-01-03</th>\n",
       "      <td>Germany</td>\n",
       "      <td>0</td>\n",
       "      <td>0</td>\n",
       "      <td>83783945.0</td>\n",
       "      <td>21.453</td>\n",
       "      <td>45229.245</td>\n",
       "      <td>8.0</td>\n",
       "    </tr>\n",
       "    <tr>\n",
       "      <th>2020-01-04</th>\n",
       "      <td>Germany</td>\n",
       "      <td>0</td>\n",
       "      <td>0</td>\n",
       "      <td>83783945.0</td>\n",
       "      <td>21.453</td>\n",
       "      <td>45229.245</td>\n",
       "      <td>8.0</td>\n",
       "    </tr>\n",
       "    <tr>\n",
       "      <th>...</th>\n",
       "      <td>...</td>\n",
       "      <td>...</td>\n",
       "      <td>...</td>\n",
       "      <td>...</td>\n",
       "      <td>...</td>\n",
       "      <td>...</td>\n",
       "      <td>...</td>\n",
       "    </tr>\n",
       "    <tr>\n",
       "      <th>2020-06-06</th>\n",
       "      <td>Germany</td>\n",
       "      <td>407</td>\n",
       "      <td>33</td>\n",
       "      <td>83783945.0</td>\n",
       "      <td>21.453</td>\n",
       "      <td>45229.245</td>\n",
       "      <td>8.0</td>\n",
       "    </tr>\n",
       "    <tr>\n",
       "      <th>2020-06-07</th>\n",
       "      <td>Germany</td>\n",
       "      <td>301</td>\n",
       "      <td>22</td>\n",
       "      <td>83783945.0</td>\n",
       "      <td>21.453</td>\n",
       "      <td>45229.245</td>\n",
       "      <td>8.0</td>\n",
       "    </tr>\n",
       "    <tr>\n",
       "      <th>2020-06-08</th>\n",
       "      <td>Germany</td>\n",
       "      <td>214</td>\n",
       "      <td>6</td>\n",
       "      <td>83783945.0</td>\n",
       "      <td>21.453</td>\n",
       "      <td>45229.245</td>\n",
       "      <td>8.0</td>\n",
       "    </tr>\n",
       "    <tr>\n",
       "      <th>2020-06-09</th>\n",
       "      <td>Germany</td>\n",
       "      <td>350</td>\n",
       "      <td>37</td>\n",
       "      <td>83783945.0</td>\n",
       "      <td>21.453</td>\n",
       "      <td>45229.245</td>\n",
       "      <td>8.0</td>\n",
       "    </tr>\n",
       "    <tr>\n",
       "      <th>2020-06-10</th>\n",
       "      <td>Germany</td>\n",
       "      <td>318</td>\n",
       "      <td>18</td>\n",
       "      <td>83783945.0</td>\n",
       "      <td>21.453</td>\n",
       "      <td>45229.245</td>\n",
       "      <td>8.0</td>\n",
       "    </tr>\n",
       "  </tbody>\n",
       "</table>\n",
       "<p>163 rows × 7 columns</p>\n",
       "</div>"
      ],
      "text/plain": [
       "           location  new_cases  new_deaths  population  aged_65_older_percent  \\\n",
       "date                                                                            \n",
       "2019-12-31  Germany          0           0  83783945.0                 21.453   \n",
       "2020-01-01  Germany          0           0  83783945.0                 21.453   \n",
       "2020-01-02  Germany          0           0  83783945.0                 21.453   \n",
       "2020-01-03  Germany          0           0  83783945.0                 21.453   \n",
       "2020-01-04  Germany          0           0  83783945.0                 21.453   \n",
       "...             ...        ...         ...         ...                    ...   \n",
       "2020-06-06  Germany        407          33  83783945.0                 21.453   \n",
       "2020-06-07  Germany        301          22  83783945.0                 21.453   \n",
       "2020-06-08  Germany        214           6  83783945.0                 21.453   \n",
       "2020-06-09  Germany        350          37  83783945.0                 21.453   \n",
       "2020-06-10  Germany        318          18  83783945.0                 21.453   \n",
       "\n",
       "            gdp_per_capita  hospital_beds_per_thousand  \n",
       "date                                                    \n",
       "2019-12-31       45229.245                         8.0  \n",
       "2020-01-01       45229.245                         8.0  \n",
       "2020-01-02       45229.245                         8.0  \n",
       "2020-01-03       45229.245                         8.0  \n",
       "2020-01-04       45229.245                         8.0  \n",
       "...                    ...                         ...  \n",
       "2020-06-06       45229.245                         8.0  \n",
       "2020-06-07       45229.245                         8.0  \n",
       "2020-06-08       45229.245                         8.0  \n",
       "2020-06-09       45229.245                         8.0  \n",
       "2020-06-10       45229.245                         8.0  \n",
       "\n",
       "[163 rows x 7 columns]"
      ]
     },
     "execution_count": 38,
     "metadata": {},
     "output_type": "execute_result"
    }
   ],
   "source": [
    "germany\n"
   ]
  },
  {
   "cell_type": "code",
   "execution_count": 40,
   "metadata": {},
   "outputs": [
    {
     "data": {
      "text/plain": [
       "date\n",
       "2020-03-12    10895\n",
       "2020-03-13    12744\n",
       "2020-03-14    14598\n",
       "2020-03-15    17362\n",
       "2020-03-16    19142\n",
       "              ...  \n",
       "2020-06-06    50853\n",
       "2020-06-07    50822\n",
       "2020-06-08    50805\n",
       "2020-06-09    50735\n",
       "2020-06-10    50700\n",
       "Name: new_cases, Length: 91, dtype: int64"
      ]
     },
     "execution_count": 40,
     "metadata": {},
     "output_type": "execute_result"
    }
   ],
   "source": [
    "d = italy[\"new_cases\"].cumsum() - germany[\"new_cases\"].cumsum()\n",
    "d[d > 10000]\n"
   ]
  },
  {
   "cell_type": "code",
   "execution_count": 55,
   "metadata": {},
   "outputs": [],
   "source": [
    "italy_cum, germ_cum = italy[\"new_cases\"].cumsum(), germany[\"new_cases\"].cumsum()\n",
    "\n",
    "italy_cum = italy_cum[\n",
    "    (italy_cum.index >= pd.to_datetime(\"2020-02-28\"))\n",
    "    & (italy_cum.index <= pd.to_datetime(\"2020-03-20\"))\n",
    "]\n",
    "germ_cum = germ_cum[\n",
    "    (germ_cum.index >= pd.to_datetime(\"2020-02-28\"))\n",
    "    & (germ_cum.index <= pd.to_datetime(\"2020-03-20\"))\n",
    "]\n"
   ]
  },
  {
   "cell_type": "code",
   "execution_count": 56,
   "metadata": {},
   "outputs": [
    {
     "data": {
      "text/plain": [
       "date\n",
       "2020-02-28      650\n",
       "2020-02-29      888\n",
       "2020-03-01     1128\n",
       "2020-03-02     1689\n",
       "2020-03-03     2036\n",
       "2020-03-04     2502\n",
       "2020-03-05     3089\n",
       "2020-03-06     3858\n",
       "2020-03-07     4636\n",
       "2020-03-08     5883\n",
       "2020-03-09     7375\n",
       "2020-03-10     9172\n",
       "2020-03-11    10149\n",
       "2020-03-12    12462\n",
       "2020-03-13    15113\n",
       "2020-03-14    17660\n",
       "2020-03-15    21157\n",
       "2020-03-16    23980\n",
       "2020-03-17    27980\n",
       "2020-03-18    31506\n",
       "2020-03-19    35713\n",
       "2020-03-20    41035\n",
       "Name: new_cases, dtype: int64"
      ]
     },
     "execution_count": 56,
     "metadata": {},
     "output_type": "execute_result"
    }
   ],
   "source": [
    "italy_cum\n"
   ]
  },
  {
   "cell_type": "code",
   "execution_count": 108,
   "metadata": {},
   "outputs": [],
   "source": [
    "def expon(A, B, x):\n",
    "    return A * np.e ** (B * x)\n"
   ]
  },
  {
   "cell_type": "code",
   "execution_count": 64,
   "metadata": {},
   "outputs": [
    {
     "data": {
      "text/html": [
       "<div>\n",
       "<style scoped>\n",
       "    .dataframe tbody tr th:only-of-type {\n",
       "        vertical-align: middle;\n",
       "    }\n",
       "\n",
       "    .dataframe tbody tr th {\n",
       "        vertical-align: top;\n",
       "    }\n",
       "\n",
       "    .dataframe thead th {\n",
       "        text-align: right;\n",
       "    }\n",
       "</style>\n",
       "<table border=\"1\" class=\"dataframe\">\n",
       "  <thead>\n",
       "    <tr style=\"text-align: right;\">\n",
       "      <th></th>\n",
       "      <th>location</th>\n",
       "      <th>new_cases</th>\n",
       "      <th>new_deaths</th>\n",
       "      <th>population</th>\n",
       "      <th>aged_65_older_percent</th>\n",
       "      <th>gdp_per_capita</th>\n",
       "      <th>hospital_beds_per_thousand</th>\n",
       "    </tr>\n",
       "    <tr>\n",
       "      <th>date</th>\n",
       "      <th></th>\n",
       "      <th></th>\n",
       "      <th></th>\n",
       "      <th></th>\n",
       "      <th></th>\n",
       "      <th></th>\n",
       "      <th></th>\n",
       "    </tr>\n",
       "  </thead>\n",
       "  <tbody>\n",
       "    <tr>\n",
       "      <th>2019-12-31</th>\n",
       "      <td>Italy</td>\n",
       "      <td>0</td>\n",
       "      <td>0</td>\n",
       "      <td>60461828.0</td>\n",
       "      <td>23.021</td>\n",
       "      <td>35220.084</td>\n",
       "      <td>3.18</td>\n",
       "    </tr>\n",
       "    <tr>\n",
       "      <th>2020-01-01</th>\n",
       "      <td>Italy</td>\n",
       "      <td>0</td>\n",
       "      <td>0</td>\n",
       "      <td>60461828.0</td>\n",
       "      <td>23.021</td>\n",
       "      <td>35220.084</td>\n",
       "      <td>3.18</td>\n",
       "    </tr>\n",
       "    <tr>\n",
       "      <th>2020-01-02</th>\n",
       "      <td>Italy</td>\n",
       "      <td>0</td>\n",
       "      <td>0</td>\n",
       "      <td>60461828.0</td>\n",
       "      <td>23.021</td>\n",
       "      <td>35220.084</td>\n",
       "      <td>3.18</td>\n",
       "    </tr>\n",
       "    <tr>\n",
       "      <th>2020-01-03</th>\n",
       "      <td>Italy</td>\n",
       "      <td>0</td>\n",
       "      <td>0</td>\n",
       "      <td>60461828.0</td>\n",
       "      <td>23.021</td>\n",
       "      <td>35220.084</td>\n",
       "      <td>3.18</td>\n",
       "    </tr>\n",
       "    <tr>\n",
       "      <th>2020-01-04</th>\n",
       "      <td>Italy</td>\n",
       "      <td>0</td>\n",
       "      <td>0</td>\n",
       "      <td>60461828.0</td>\n",
       "      <td>23.021</td>\n",
       "      <td>35220.084</td>\n",
       "      <td>3.18</td>\n",
       "    </tr>\n",
       "    <tr>\n",
       "      <th>...</th>\n",
       "      <td>...</td>\n",
       "      <td>...</td>\n",
       "      <td>...</td>\n",
       "      <td>...</td>\n",
       "      <td>...</td>\n",
       "      <td>...</td>\n",
       "      <td>...</td>\n",
       "    </tr>\n",
       "    <tr>\n",
       "      <th>2020-06-06</th>\n",
       "      <td>Italy</td>\n",
       "      <td>518</td>\n",
       "      <td>85</td>\n",
       "      <td>60461828.0</td>\n",
       "      <td>23.021</td>\n",
       "      <td>35220.084</td>\n",
       "      <td>3.18</td>\n",
       "    </tr>\n",
       "    <tr>\n",
       "      <th>2020-06-07</th>\n",
       "      <td>Italy</td>\n",
       "      <td>270</td>\n",
       "      <td>72</td>\n",
       "      <td>60461828.0</td>\n",
       "      <td>23.021</td>\n",
       "      <td>35220.084</td>\n",
       "      <td>3.18</td>\n",
       "    </tr>\n",
       "    <tr>\n",
       "      <th>2020-06-08</th>\n",
       "      <td>Italy</td>\n",
       "      <td>197</td>\n",
       "      <td>53</td>\n",
       "      <td>60461828.0</td>\n",
       "      <td>23.021</td>\n",
       "      <td>35220.084</td>\n",
       "      <td>3.18</td>\n",
       "    </tr>\n",
       "    <tr>\n",
       "      <th>2020-06-09</th>\n",
       "      <td>Italy</td>\n",
       "      <td>280</td>\n",
       "      <td>65</td>\n",
       "      <td>60461828.0</td>\n",
       "      <td>23.021</td>\n",
       "      <td>35220.084</td>\n",
       "      <td>3.18</td>\n",
       "    </tr>\n",
       "    <tr>\n",
       "      <th>2020-06-10</th>\n",
       "      <td>Italy</td>\n",
       "      <td>283</td>\n",
       "      <td>79</td>\n",
       "      <td>60461828.0</td>\n",
       "      <td>23.021</td>\n",
       "      <td>35220.084</td>\n",
       "      <td>3.18</td>\n",
       "    </tr>\n",
       "  </tbody>\n",
       "</table>\n",
       "<p>163 rows × 7 columns</p>\n",
       "</div>"
      ],
      "text/plain": [
       "           location  new_cases  new_deaths  population  aged_65_older_percent  \\\n",
       "date                                                                            \n",
       "2019-12-31    Italy          0           0  60461828.0                 23.021   \n",
       "2020-01-01    Italy          0           0  60461828.0                 23.021   \n",
       "2020-01-02    Italy          0           0  60461828.0                 23.021   \n",
       "2020-01-03    Italy          0           0  60461828.0                 23.021   \n",
       "2020-01-04    Italy          0           0  60461828.0                 23.021   \n",
       "...             ...        ...         ...         ...                    ...   \n",
       "2020-06-06    Italy        518          85  60461828.0                 23.021   \n",
       "2020-06-07    Italy        270          72  60461828.0                 23.021   \n",
       "2020-06-08    Italy        197          53  60461828.0                 23.021   \n",
       "2020-06-09    Italy        280          65  60461828.0                 23.021   \n",
       "2020-06-10    Italy        283          79  60461828.0                 23.021   \n",
       "\n",
       "            gdp_per_capita  hospital_beds_per_thousand  \n",
       "date                                                    \n",
       "2019-12-31       35220.084                        3.18  \n",
       "2020-01-01       35220.084                        3.18  \n",
       "2020-01-02       35220.084                        3.18  \n",
       "2020-01-03       35220.084                        3.18  \n",
       "2020-01-04       35220.084                        3.18  \n",
       "...                    ...                         ...  \n",
       "2020-06-06       35220.084                        3.18  \n",
       "2020-06-07       35220.084                        3.18  \n",
       "2020-06-08       35220.084                        3.18  \n",
       "2020-06-09       35220.084                        3.18  \n",
       "2020-06-10       35220.084                        3.18  \n",
       "\n",
       "[163 rows x 7 columns]"
      ]
     },
     "execution_count": 64,
     "metadata": {},
     "output_type": "execute_result"
    }
   ],
   "source": [
    "italy\n"
   ]
  },
  {
   "cell_type": "code",
   "execution_count": 93,
   "metadata": {},
   "outputs": [],
   "source": [
    "italy_cum.index = (\n",
    "    italy[\n",
    "        (italy.index >= pd.to_datetime(\"2020-02-28\"))\n",
    "        & (italy.index <= pd.to_datetime(\"2020-03-20\"))\n",
    "    ]\n",
    "    .reset_index()[\"date\"]\n",
    "    .astype(str)\n",
    "    .apply(lambda x: int(datetime.strptime(x, \"%Y-%m-%d\").timestamp()))\n",
    ")\n"
   ]
  },
  {
   "cell_type": "code",
   "execution_count": 103,
   "metadata": {},
   "outputs": [],
   "source": [
    "italy_cum.index = list(range(22))\n"
   ]
  },
  {
   "cell_type": "code",
   "execution_count": 117,
   "metadata": {},
   "outputs": [
    {
     "data": {
      "text/plain": [
       "0       650\n",
       "1       888\n",
       "2      1128\n",
       "3      1689\n",
       "4      2036\n",
       "5      2502\n",
       "6      3089\n",
       "7      3858\n",
       "8      4636\n",
       "9      5883\n",
       "10     7375\n",
       "11     9172\n",
       "12    10149\n",
       "13    12462\n",
       "14    15113\n",
       "15    17660\n",
       "16    21157\n",
       "17    23980\n",
       "18    27980\n",
       "19    31506\n",
       "20    35713\n",
       "21    41035\n",
       "Name: new_cases, dtype: int64"
      ]
     },
     "execution_count": 117,
     "metadata": {},
     "output_type": "execute_result"
    }
   ],
   "source": [
    "italy_cum\n"
   ]
  },
  {
   "cell_type": "code",
   "execution_count": 119,
   "metadata": {},
   "outputs": [
    {
     "data": {
      "text/plain": [
       "-695.5793997384317"
      ]
     },
     "execution_count": 119,
     "metadata": {},
     "output_type": "execute_result"
    }
   ],
   "source": [
    "41035 - expon(1610.0, 0.155, 21)\n"
   ]
  },
  {
   "cell_type": "code",
   "execution_count": 113,
   "metadata": {},
   "outputs": [
    {
     "data": {
      "text/plain": [
       "array([1.61382416e+03, 1.55878443e-01])"
      ]
     },
     "execution_count": 113,
     "metadata": {},
     "output_type": "execute_result"
    }
   ],
   "source": [
    "curve_fit(lambda t, a, b: a * np.exp(b * t), italy_cum.index, italy_cum.tolist())[0]\n"
   ]
  },
  {
   "cell_type": "code",
   "execution_count": 124,
   "metadata": {},
   "outputs": [
    {
     "data": {
      "text/html": [
       "<div>\n",
       "<style scoped>\n",
       "    .dataframe tbody tr th:only-of-type {\n",
       "        vertical-align: middle;\n",
       "    }\n",
       "\n",
       "    .dataframe tbody tr th {\n",
       "        vertical-align: top;\n",
       "    }\n",
       "\n",
       "    .dataframe thead th {\n",
       "        text-align: right;\n",
       "    }\n",
       "</style>\n",
       "<table border=\"1\" class=\"dataframe\">\n",
       "  <thead>\n",
       "    <tr style=\"text-align: right;\">\n",
       "      <th></th>\n",
       "      <th>location</th>\n",
       "      <th>date</th>\n",
       "      <th>new_cases</th>\n",
       "      <th>new_deaths</th>\n",
       "      <th>population</th>\n",
       "      <th>aged_65_older_percent</th>\n",
       "      <th>gdp_per_capita</th>\n",
       "      <th>hospital_beds_per_thousand</th>\n",
       "    </tr>\n",
       "  </thead>\n",
       "  <tbody>\n",
       "    <tr>\n",
       "      <th>0</th>\n",
       "      <td>Afghanistan</td>\n",
       "      <td>2019-12-31</td>\n",
       "      <td>0</td>\n",
       "      <td>0</td>\n",
       "      <td>38928341.0</td>\n",
       "      <td>2.581</td>\n",
       "      <td>1803.987</td>\n",
       "      <td>0.5</td>\n",
       "    </tr>\n",
       "    <tr>\n",
       "      <th>1</th>\n",
       "      <td>Afghanistan</td>\n",
       "      <td>2020-01-01</td>\n",
       "      <td>0</td>\n",
       "      <td>0</td>\n",
       "      <td>38928341.0</td>\n",
       "      <td>2.581</td>\n",
       "      <td>1803.987</td>\n",
       "      <td>0.5</td>\n",
       "    </tr>\n",
       "    <tr>\n",
       "      <th>2</th>\n",
       "      <td>Afghanistan</td>\n",
       "      <td>2020-01-02</td>\n",
       "      <td>0</td>\n",
       "      <td>0</td>\n",
       "      <td>38928341.0</td>\n",
       "      <td>2.581</td>\n",
       "      <td>1803.987</td>\n",
       "      <td>0.5</td>\n",
       "    </tr>\n",
       "    <tr>\n",
       "      <th>3</th>\n",
       "      <td>Afghanistan</td>\n",
       "      <td>2020-01-03</td>\n",
       "      <td>0</td>\n",
       "      <td>0</td>\n",
       "      <td>38928341.0</td>\n",
       "      <td>2.581</td>\n",
       "      <td>1803.987</td>\n",
       "      <td>0.5</td>\n",
       "    </tr>\n",
       "    <tr>\n",
       "      <th>4</th>\n",
       "      <td>Afghanistan</td>\n",
       "      <td>2020-01-04</td>\n",
       "      <td>0</td>\n",
       "      <td>0</td>\n",
       "      <td>38928341.0</td>\n",
       "      <td>2.581</td>\n",
       "      <td>1803.987</td>\n",
       "      <td>0.5</td>\n",
       "    </tr>\n",
       "    <tr>\n",
       "      <th>...</th>\n",
       "      <td>...</td>\n",
       "      <td>...</td>\n",
       "      <td>...</td>\n",
       "      <td>...</td>\n",
       "      <td>...</td>\n",
       "      <td>...</td>\n",
       "      <td>...</td>\n",
       "      <td>...</td>\n",
       "    </tr>\n",
       "    <tr>\n",
       "      <th>23077</th>\n",
       "      <td>International</td>\n",
       "      <td>2020-02-28</td>\n",
       "      <td>0</td>\n",
       "      <td>0</td>\n",
       "      <td>NaN</td>\n",
       "      <td>NaN</td>\n",
       "      <td>NaN</td>\n",
       "      <td>NaN</td>\n",
       "    </tr>\n",
       "    <tr>\n",
       "      <th>23078</th>\n",
       "      <td>International</td>\n",
       "      <td>2020-02-29</td>\n",
       "      <td>0</td>\n",
       "      <td>2</td>\n",
       "      <td>NaN</td>\n",
       "      <td>NaN</td>\n",
       "      <td>NaN</td>\n",
       "      <td>NaN</td>\n",
       "    </tr>\n",
       "    <tr>\n",
       "      <th>23079</th>\n",
       "      <td>International</td>\n",
       "      <td>2020-03-01</td>\n",
       "      <td>0</td>\n",
       "      <td>0</td>\n",
       "      <td>NaN</td>\n",
       "      <td>NaN</td>\n",
       "      <td>NaN</td>\n",
       "      <td>NaN</td>\n",
       "    </tr>\n",
       "    <tr>\n",
       "      <th>23080</th>\n",
       "      <td>International</td>\n",
       "      <td>2020-03-02</td>\n",
       "      <td>0</td>\n",
       "      <td>0</td>\n",
       "      <td>NaN</td>\n",
       "      <td>NaN</td>\n",
       "      <td>NaN</td>\n",
       "      <td>NaN</td>\n",
       "    </tr>\n",
       "    <tr>\n",
       "      <th>23081</th>\n",
       "      <td>International</td>\n",
       "      <td>2020-03-10</td>\n",
       "      <td>-9</td>\n",
       "      <td>1</td>\n",
       "      <td>NaN</td>\n",
       "      <td>NaN</td>\n",
       "      <td>NaN</td>\n",
       "      <td>NaN</td>\n",
       "    </tr>\n",
       "  </tbody>\n",
       "</table>\n",
       "<p>23082 rows × 8 columns</p>\n",
       "</div>"
      ],
      "text/plain": [
       "            location       date  new_cases  new_deaths  population  \\\n",
       "0        Afghanistan 2019-12-31          0           0  38928341.0   \n",
       "1        Afghanistan 2020-01-01          0           0  38928341.0   \n",
       "2        Afghanistan 2020-01-02          0           0  38928341.0   \n",
       "3        Afghanistan 2020-01-03          0           0  38928341.0   \n",
       "4        Afghanistan 2020-01-04          0           0  38928341.0   \n",
       "...              ...        ...        ...         ...         ...   \n",
       "23077  International 2020-02-28          0           0         NaN   \n",
       "23078  International 2020-02-29          0           2         NaN   \n",
       "23079  International 2020-03-01          0           0         NaN   \n",
       "23080  International 2020-03-02          0           0         NaN   \n",
       "23081  International 2020-03-10         -9           1         NaN   \n",
       "\n",
       "       aged_65_older_percent  gdp_per_capita  hospital_beds_per_thousand  \n",
       "0                      2.581        1803.987                         0.5  \n",
       "1                      2.581        1803.987                         0.5  \n",
       "2                      2.581        1803.987                         0.5  \n",
       "3                      2.581        1803.987                         0.5  \n",
       "4                      2.581        1803.987                         0.5  \n",
       "...                      ...             ...                         ...  \n",
       "23077                    NaN             NaN                         NaN  \n",
       "23078                    NaN             NaN                         NaN  \n",
       "23079                    NaN             NaN                         NaN  \n",
       "23080                    NaN             NaN                         NaN  \n",
       "23081                    NaN             NaN                         NaN  \n",
       "\n",
       "[23082 rows x 8 columns]"
      ]
     },
     "execution_count": 124,
     "metadata": {},
     "output_type": "execute_result"
    }
   ],
   "source": [
    "covid\n"
   ]
  },
  {
   "cell_type": "code",
   "execution_count": 140,
   "metadata": {},
   "outputs": [],
   "source": [
    "c = covid.groupby(\"location\").sum()[[\"new_deaths\"]]\n"
   ]
  },
  {
   "cell_type": "code",
   "execution_count": 144,
   "metadata": {},
   "outputs": [],
   "source": [
    "c = c.reset_index().sort_values(\"new_deaths\")\n"
   ]
  },
  {
   "cell_type": "code",
   "execution_count": 162,
   "metadata": {},
   "outputs": [
    {
     "data": {
      "text/plain": [
       "26221.0"
      ]
     },
     "execution_count": 162,
     "metadata": {},
     "output_type": "execute_result"
    }
   ],
   "source": [
    "covid[covid[\"location\"] == c.iloc[0][\"location\"]][\"population\"].unique()[0]\n"
   ]
  },
  {
   "cell_type": "code",
   "execution_count": 171,
   "metadata": {},
   "outputs": [],
   "source": [
    "vals = {}\n",
    "for i in range(len(c)):\n",
    "    location = c.iloc[i][\"location\"]\n",
    "    pop = covid[covid[\"location\"] == location][\"population\"].unique()[0] / 1000000\n",
    "    vals[location] = c.iloc[i][\"new_deaths\"] / pop\n"
   ]
  },
  {
   "cell_type": "code",
   "execution_count": 173,
   "metadata": {},
   "outputs": [
    {
     "data": {
      "text/plain": [
       "{'Bonaire Sint Eustatius and Saba': 0.0,\n",
       " 'Timor': 0.0,\n",
       " 'French Polynesia': 0.0,\n",
       " 'Namibia': 0.0,\n",
       " 'Fiji': 0.0,\n",
       " 'Cambodia': 0.0,\n",
       " 'Falkland Islands': 0.0,\n",
       " 'Bhutan': 0.0,\n",
       " 'Faeroe Islands': 0.0,\n",
       " 'Eritrea': 0.0,\n",
       " 'Papua New Guinea': 0.0,\n",
       " 'Dominica': 0.0,\n",
       " 'Saint Kitts and Nevis': 0.0,\n",
       " 'Saint Lucia': 0.0,\n",
       " 'Seychelles': 0.0,\n",
       " 'New Caledonia': 0.0,\n",
       " 'Gibraltar': 0.0,\n",
       " 'Saint Vincent and the Grenadines': 0.0,\n",
       " 'Vietnam': 0.0,\n",
       " 'Anguilla': 0.0,\n",
       " 'Grenada': 0.0,\n",
       " 'Lesotho': 0.0,\n",
       " 'Mongolia': 0.0,\n",
       " 'Greenland': 0.0,\n",
       " 'Uganda': 0.0,\n",
       " 'Vatican': 0.0,\n",
       " 'Laos': 0.0,\n",
       " 'Hong Kong': 0.0,\n",
       " 'Mozambique': 0.06398887105554603,\n",
       " 'Burundi': 0.08409876525351867,\n",
       " 'Myanmar': 0.11027426422529739,\n",
       " 'Angola': 0.1217053302188128,\n",
       " 'Rwanda': 0.15441381466281157,\n",
       " 'Malawi': 0.20909615312738583,\n",
       " 'Zimbabwe': 0.26912599382342384,\n",
       " 'Ethiopia': 0.2783490142265312,\n",
       " 'Taiwan': 0.2939104895604044,\n",
       " 'Madagascar': 0.325015124939967,\n",
       " 'Benin': 0.3299459433063784,\n",
       " 'Syria': 0.34284427150363556,\n",
       " 'Tanzania': 0.35155732276911394,\n",
       " 'Gambia': 0.4137935600480663,\n",
       " 'Botswana': 0.42523786743209485,\n",
       " 'Sri Lanka': 0.5137006292832709,\n",
       " 'Nepal': 0.5148127413270527,\n",
       " 'Uzbekistan': 0.53780791108864,\n",
       " 'Zambia': 0.5439525638551354,\n",
       " 'Libya': 0.7276657196824992,\n",
       " 'Venezuela': 0.8088354938677433,\n",
       " 'Thailand': 0.8309458206419492,\n",
       " 'Jordan': 0.882081398471451,\n",
       " 'Palestine': 0.9801200294192828,\n",
       " 'Democratic Republic of Congo': 0.9937316302008844,\n",
       " 'Central African Republic': 1.0352472708811444,\n",
       " \"Cote d'Ivoire\": 1.4405794162051917,\n",
       " 'Paraguay': 1.542229755780908,\n",
       " 'Ghana': 1.5447521951974619,\n",
       " 'Togo': 1.5702878349680633,\n",
       " 'Kenya': 1.6365607675470002,\n",
       " 'Western Sahara': 1.6741164850250279,\n",
       " 'South Sudan': 1.6973789520900497,\n",
       " 'Guinea': 1.7513412227955791,\n",
       " 'Nigeria': 1.7706448592040693,\n",
       " 'Costa Rica': 2.1593548946882617,\n",
       " 'Comoros': 2.2999212276979515,\n",
       " 'Burkina Faso': 2.535487496267332,\n",
       " 'Swaziland': 2.5858413120903596,\n",
       " 'Niger': 2.685214087574994,\n",
       " 'Senegal': 3.105603045402125,\n",
       " 'China': 3.2223465517495162,\n",
       " 'Kazakhstan': 3.2487059631915227,\n",
       " 'Georgia': 3.258819179404263,\n",
       " 'Jamaica': 3.37705379748011,\n",
       " 'Suriname': 3.4092807440414297,\n",
       " 'Malaysia': 3.6149047528211553,\n",
       " 'Kyrgyzstan': 3.985168429311772,\n",
       " 'Australia': 4.000018666753778,\n",
       " 'Tunisia': 4.146000826831021,\n",
       " 'Yemen': 4.2580344751928925,\n",
       " 'Singapore': 4.273253722046725,\n",
       " 'Chad': 4.322452786183055,\n",
       " 'Congo': 4.349329442133259,\n",
       " 'Lebanon': 4.395319746325586,\n",
       " 'New Zealand': 4.5622017849407115,\n",
       " 'Brunei': 4.571606210984198,\n",
       " 'Mali': 4.641784135902748,\n",
       " 'Haiti': 4.911189469918657,\n",
       " 'Belize': 5.02991542197218,\n",
       " 'Tajikistan': 5.032690470034417,\n",
       " 'Slovakia': 5.1285404558503185,\n",
       " 'Somalia': 5.34819283620266,\n",
       " 'South Korea': 5.383350852304395,\n",
       " 'India': 5.612301007289916,\n",
       " 'Morocco': 5.68942902461675,\n",
       " 'Trinidad and Tobago': 5.716364020919034,\n",
       " 'Bangladesh': 5.920235914661238,\n",
       " 'Curacao': 6.0938452163315056,\n",
       " 'Guinea-Bissau': 6.0975671723243625,\n",
       " 'Liberia': 6.129296117565436,\n",
       " 'Sierra Leone': 6.268032345554116,\n",
       " 'Uruguay': 6.621130560922031,\n",
       " 'Nicaragua': 6.943863692559529,\n",
       " 'Indonesia': 7.030471419504936,\n",
       " 'Japan': 7.266174389545286,\n",
       " 'Cuba': 7.327872685010245,\n",
       " 'Cameroon': 7.835495578520254,\n",
       " 'Mauritius': 7.863075547643554,\n",
       " 'Sudan': 8.483607788307713,\n",
       " 'Equatorial Guinea': 8.553191944318721,\n",
       " 'Cape Verde': 8.992999848917602,\n",
       " 'El Salvador': 9.250407133543964,\n",
       " 'Philippines': 9.280798780190942,\n",
       " 'Gabon': 9.435115162319924,\n",
       " 'Azerbaijan': 9.66548067273718,\n",
       " 'Iraq': 9.745788321527378,\n",
       " 'Afghanistan': 9.86427857277555,\n",
       " 'Pakistan': 10.208593434599592,\n",
       " 'Albania': 11.814580582389324,\n",
       " 'Egypt': 12.762081584626042,\n",
       " 'Mauritania': 13.119238826064702,\n",
       " 'Latvia': 13.784313663117736,\n",
       " 'Montenegro': 14.329795466052714,\n",
       " 'Maldives': 14.799960040107893,\n",
       " 'Cayman Islands': 15.216068167985393,\n",
       " 'Guyana': 15.256325336052349,\n",
       " 'Argentina': 15.86431404863335,\n",
       " 'Kosovo': 16.039123042838945,\n",
       " 'Guatemala': 16.131222640064923,\n",
       " 'Oman': 16.253405871826818,\n",
       " 'Algeria': 16.51043967186824,\n",
       " 'Bahrain': 17.04295353209335,\n",
       " 'Greece': 17.55723081599101,\n",
       " 'Ukraine': 18.521161192661257,\n",
       " 'South Africa': 19.592407116056687,\n",
       " 'Malta': 20.3832504037016,\n",
       " 'Cyprus': 20.550314591065867,\n",
       " 'Qatar': 21.51985727475304,\n",
       " 'Saudi Arabia': 22.491037838456727,\n",
       " 'Bulgaria': 24.034154404330753,\n",
       " 'Barbados': 24.358755754756046,\n",
       " 'Croatia': 25.820482365584905,\n",
       " 'Turks and Caicos Islands': 25.827780360555813,\n",
       " 'Liechtenstein': 26.221254949261873,\n",
       " 'Lithuania': 26.448311367153625,\n",
       " 'Colombia': 26.96388042784682,\n",
       " 'Honduras': 27.36100207095526,\n",
       " 'Bahamas': 27.972170233542194,\n",
       " 'Aruba': 28.09883296180432,\n",
       " 'United Arab Emirates': 28.613605112027827,\n",
       " 'Guam': 29.62383652382053,\n",
       " 'Belarus': 29.843414145841802,\n",
       " 'Czech Republic': 30.62849484666236,\n",
       " 'Antigua and Barbuda': 30.63475206273997,\n",
       " 'Poland': 31.257757465960292,\n",
       " 'British Virgin Islands': 33.07206402751596,\n",
       " 'Djibouti': 34.412885803874886,\n",
       " 'Israel': 34.54434563940024,\n",
       " 'Northern Mariana Islands': 34.74816269089772,\n",
       " 'Serbia': 36.739874049833375,\n",
       " 'Bolivia': 41.72010538138816,\n",
       " 'Russia': 42.08053396024489,\n",
       " 'Norway': 44.08583863254951,\n",
       " 'Bosnia and Herzegovina': 48.46356774155202,\n",
       " 'Puerto Rico': 49.63577131192237,\n",
       " 'Dominican Republic': 50.14793641241663,\n",
       " 'Slovenia': 51.94975112221083,\n",
       " 'Estonia': 52.01505572018614,\n",
       " 'World': 52.752484611331646,\n",
       " 'Turkey': 56.071286631615216,\n",
       " 'Hungary': 56.93375498817331,\n",
       " 'United States Virgin Islands': 57.458605862693084,\n",
       " 'Finland': 58.47617583136337,\n",
       " 'Kuwait': 63.925997579241894,\n",
       " 'Romania': 69.91486812184544,\n",
       " 'Armenia': 73.2308012124591,\n",
       " 'Austria': 74.61360810090603,\n",
       " 'Macedonia': 75.35831197381178,\n",
       " 'Moldova': 90.48174214785807,\n",
       " 'Panama': 93.40015500254012,\n",
       " 'Iran': 100.3060340074006,\n",
       " 'Denmark': 102.37900847052495,\n",
       " 'Germany': 104.18463823826868,\n",
       " 'Mexico': 113.61736765211242,\n",
       " 'Chile': 119.42744505461307,\n",
       " 'Monaco': 127.40801141575781,\n",
       " 'International': nan,\n",
       " 'Iceland': 29.304029304029303,\n",
       " 'Sao Tome and Principe': 54.754267410716324,\n",
       " 'Bermuda': 144.52491448942558,\n",
       " 'Portugal': 146.32174877634515,\n",
       " 'Peru': 174.02725949890703,\n",
       " 'Luxembourg': 175.72558692346033,\n",
       " 'Brazil': 180.68360361314328,\n",
       " 'Switzerland': 192.0362054107992,\n",
       " 'Guernsey': 193.87937719978524,\n",
       " 'Montserrat': 200.0400080016003,\n",
       " 'Ecuador': 209.14739279920832,\n",
       " 'Canada': 209.23552408517617,\n",
       " 'Isle of Man': 282.2466836014677,\n",
       " 'Jersey': 296.81517319165357,\n",
       " 'United States': 338.38400089894145,\n",
       " 'Ireland': 342.460482369057,\n",
       " 'Sint Maarten (Dutch part)': 349.79711767175036,\n",
       " 'Netherlands': 351.97226148101595,\n",
       " 'France': 448.8191167038783,\n",
       " 'Sweden': 467.0634610224303,\n",
       " 'Italy': 563.0494665162952,\n",
       " 'Spain': 580.3898180855635,\n",
       " 'United Kingdom': 602.2301739840218,\n",
       " 'Andorra': 660.0660066006601,\n",
       " 'Belgium': 829.967101584729,\n",
       " 'San Marino': 1237.5508279804349}"
      ]
     },
     "execution_count": 173,
     "metadata": {},
     "output_type": "execute_result"
    }
   ],
   "source": [
    "dict(sorted(vals.items(), key=lambda item: item[1]))\n"
   ]
  },
  {
   "cell_type": "code",
   "execution_count": 174,
   "metadata": {},
   "outputs": [
    {
     "data": {
      "text/html": [
       "<div>\n",
       "<style scoped>\n",
       "    .dataframe tbody tr th:only-of-type {\n",
       "        vertical-align: middle;\n",
       "    }\n",
       "\n",
       "    .dataframe tbody tr th {\n",
       "        vertical-align: top;\n",
       "    }\n",
       "\n",
       "    .dataframe thead th {\n",
       "        text-align: right;\n",
       "    }\n",
       "</style>\n",
       "<table border=\"1\" class=\"dataframe\">\n",
       "  <thead>\n",
       "    <tr style=\"text-align: right;\">\n",
       "      <th></th>\n",
       "      <th>location</th>\n",
       "      <th>date</th>\n",
       "      <th>new_cases</th>\n",
       "      <th>new_deaths</th>\n",
       "      <th>population</th>\n",
       "      <th>aged_65_older_percent</th>\n",
       "      <th>gdp_per_capita</th>\n",
       "      <th>hospital_beds_per_thousand</th>\n",
       "    </tr>\n",
       "  </thead>\n",
       "  <tbody>\n",
       "    <tr>\n",
       "      <th>3293</th>\n",
       "      <td>Bulgaria</td>\n",
       "      <td>2020-03-08</td>\n",
       "      <td>2</td>\n",
       "      <td>0</td>\n",
       "      <td>6948445.0</td>\n",
       "      <td>20.801</td>\n",
       "      <td>18563.307</td>\n",
       "      <td>7.454</td>\n",
       "    </tr>\n",
       "    <tr>\n",
       "      <th>3294</th>\n",
       "      <td>Bulgaria</td>\n",
       "      <td>2020-03-09</td>\n",
       "      <td>2</td>\n",
       "      <td>0</td>\n",
       "      <td>6948445.0</td>\n",
       "      <td>20.801</td>\n",
       "      <td>18563.307</td>\n",
       "      <td>7.454</td>\n",
       "    </tr>\n",
       "    <tr>\n",
       "      <th>3295</th>\n",
       "      <td>Bulgaria</td>\n",
       "      <td>2020-03-12</td>\n",
       "      <td>3</td>\n",
       "      <td>1</td>\n",
       "      <td>6948445.0</td>\n",
       "      <td>20.801</td>\n",
       "      <td>18563.307</td>\n",
       "      <td>7.454</td>\n",
       "    </tr>\n",
       "    <tr>\n",
       "      <th>3296</th>\n",
       "      <td>Bulgaria</td>\n",
       "      <td>2020-03-13</td>\n",
       "      <td>16</td>\n",
       "      <td>0</td>\n",
       "      <td>6948445.0</td>\n",
       "      <td>20.801</td>\n",
       "      <td>18563.307</td>\n",
       "      <td>7.454</td>\n",
       "    </tr>\n",
       "    <tr>\n",
       "      <th>3297</th>\n",
       "      <td>Bulgaria</td>\n",
       "      <td>2020-03-14</td>\n",
       "      <td>8</td>\n",
       "      <td>0</td>\n",
       "      <td>6948445.0</td>\n",
       "      <td>20.801</td>\n",
       "      <td>18563.307</td>\n",
       "      <td>7.454</td>\n",
       "    </tr>\n",
       "    <tr>\n",
       "      <th>...</th>\n",
       "      <td>...</td>\n",
       "      <td>...</td>\n",
       "      <td>...</td>\n",
       "      <td>...</td>\n",
       "      <td>...</td>\n",
       "      <td>...</td>\n",
       "      <td>...</td>\n",
       "      <td>...</td>\n",
       "    </tr>\n",
       "    <tr>\n",
       "      <th>16933</th>\n",
       "      <td>Portugal</td>\n",
       "      <td>2020-06-06</td>\n",
       "      <td>377</td>\n",
       "      <td>10</td>\n",
       "      <td>10196707.0</td>\n",
       "      <td>21.502</td>\n",
       "      <td>27936.896</td>\n",
       "      <td>3.390</td>\n",
       "    </tr>\n",
       "    <tr>\n",
       "      <th>16934</th>\n",
       "      <td>Portugal</td>\n",
       "      <td>2020-06-07</td>\n",
       "      <td>382</td>\n",
       "      <td>9</td>\n",
       "      <td>10196707.0</td>\n",
       "      <td>21.502</td>\n",
       "      <td>27936.896</td>\n",
       "      <td>3.390</td>\n",
       "    </tr>\n",
       "    <tr>\n",
       "      <th>16935</th>\n",
       "      <td>Portugal</td>\n",
       "      <td>2020-06-08</td>\n",
       "      <td>142</td>\n",
       "      <td>5</td>\n",
       "      <td>10196707.0</td>\n",
       "      <td>21.502</td>\n",
       "      <td>27936.896</td>\n",
       "      <td>3.390</td>\n",
       "    </tr>\n",
       "    <tr>\n",
       "      <th>16936</th>\n",
       "      <td>Portugal</td>\n",
       "      <td>2020-06-09</td>\n",
       "      <td>392</td>\n",
       "      <td>6</td>\n",
       "      <td>10196707.0</td>\n",
       "      <td>21.502</td>\n",
       "      <td>27936.896</td>\n",
       "      <td>3.390</td>\n",
       "    </tr>\n",
       "    <tr>\n",
       "      <th>16937</th>\n",
       "      <td>Portugal</td>\n",
       "      <td>2020-06-10</td>\n",
       "      <td>421</td>\n",
       "      <td>7</td>\n",
       "      <td>10196707.0</td>\n",
       "      <td>21.502</td>\n",
       "      <td>27936.896</td>\n",
       "      <td>3.390</td>\n",
       "    </tr>\n",
       "  </tbody>\n",
       "</table>\n",
       "<p>1010 rows × 8 columns</p>\n",
       "</div>"
      ],
      "text/plain": [
       "       location       date  new_cases  new_deaths  population  \\\n",
       "3293   Bulgaria 2020-03-08          2           0   6948445.0   \n",
       "3294   Bulgaria 2020-03-09          2           0   6948445.0   \n",
       "3295   Bulgaria 2020-03-12          3           1   6948445.0   \n",
       "3296   Bulgaria 2020-03-13         16           0   6948445.0   \n",
       "3297   Bulgaria 2020-03-14          8           0   6948445.0   \n",
       "...         ...        ...        ...         ...         ...   \n",
       "16933  Portugal 2020-06-06        377          10  10196707.0   \n",
       "16934  Portugal 2020-06-07        382           9  10196707.0   \n",
       "16935  Portugal 2020-06-08        142           5  10196707.0   \n",
       "16936  Portugal 2020-06-09        392           6  10196707.0   \n",
       "16937  Portugal 2020-06-10        421           7  10196707.0   \n",
       "\n",
       "       aged_65_older_percent  gdp_per_capita  hospital_beds_per_thousand  \n",
       "3293                  20.801       18563.307                       7.454  \n",
       "3294                  20.801       18563.307                       7.454  \n",
       "3295                  20.801       18563.307                       7.454  \n",
       "3296                  20.801       18563.307                       7.454  \n",
       "3297                  20.801       18563.307                       7.454  \n",
       "...                      ...             ...                         ...  \n",
       "16933                 21.502       27936.896                       3.390  \n",
       "16934                 21.502       27936.896                       3.390  \n",
       "16935                 21.502       27936.896                       3.390  \n",
       "16936                 21.502       27936.896                       3.390  \n",
       "16937                 21.502       27936.896                       3.390  \n",
       "\n",
       "[1010 rows x 8 columns]"
      ]
     },
     "execution_count": 174,
     "metadata": {},
     "output_type": "execute_result"
    }
   ],
   "source": [
    "eld = covid[covid[\"aged_65_older_percent\"] >= 20]\n",
    "eld\n"
   ]
  },
  {
   "cell_type": "code",
   "execution_count": 175,
   "metadata": {},
   "outputs": [],
   "source": [
    "c = eld.groupby(\"location\").sum()[[\"new_deaths\"]]\n",
    "c = c.reset_index().sort_values(\"new_deaths\")\n",
    "vals_eld = {}\n",
    "for i in range(len(c)):\n",
    "    location = c.iloc[i][\"location\"]\n",
    "    pop = covid[covid[\"location\"] == location][\"population\"].unique()[0] / 1000000\n",
    "    vals_eld[location] = c.iloc[i][\"new_deaths\"] / pop\n"
   ]
  },
  {
   "cell_type": "code",
   "execution_count": 177,
   "metadata": {},
   "outputs": [
    {
     "data": {
      "text/plain": [
       "array(['Bulgaria', 'Finland', 'Germany', 'Greece', 'Italy', 'Japan',\n",
       "       'Portugal'], dtype=object)"
      ]
     },
     "execution_count": 177,
     "metadata": {},
     "output_type": "execute_result"
    }
   ],
   "source": [
    "eld.location.unique()\n"
   ]
  },
  {
   "cell_type": "code",
   "execution_count": 176,
   "metadata": {},
   "outputs": [
    {
     "data": {
      "text/plain": [
       "{'Bulgaria': 24.034154404330753,\n",
       " 'Greece': 17.55723081599101,\n",
       " 'Finland': 58.47617583136337,\n",
       " 'Japan': 7.266174389545286,\n",
       " 'Portugal': 146.32174877634515,\n",
       " 'Germany': 104.18463823826868,\n",
       " 'Italy': 563.0494665162952}"
      ]
     },
     "execution_count": 176,
     "metadata": {},
     "output_type": "execute_result"
    }
   ],
   "source": [
    "vals_eld\n"
   ]
  },
  {
   "cell_type": "markdown",
   "metadata": {},
   "source": [
    "$$p(gdp|nbeds) = \\frac{p(nbeds|gdp)*p(gdp)}{p(nbeds)}$$"
   ]
  },
  {
   "cell_type": "code",
   "execution_count": 182,
   "metadata": {},
   "outputs": [],
   "source": [
    "p_gdp_over10000 = len(\n",
    "    covid[covid[\"gdp_per_capita\"] >= 10000][\"location\"].unique()\n",
    ") / len(covid[\"location\"].unique())\n",
    "p_nbeds_more5 = len(\n",
    "    covid[covid[\"hospital_beds_per_thousand\"] > 5][\"location\"].unique()\n",
    ") / len(covid[\"location\"].unique())\n"
   ]
  },
  {
   "cell_type": "code",
   "execution_count": 198,
   "metadata": {},
   "outputs": [],
   "source": [
    "p_nbeds_more5 = len(covid[covid[\"hospital_beds_per_thousand\"] > 5][\"location\"])/len(covid['location'])"
   ]
  },
  {
   "cell_type": "code",
   "execution_count": 201,
   "metadata": {},
   "outputs": [
    {
     "data": {
      "text/plain": [
       "1000.0"
      ]
     },
     "execution_count": 201,
     "metadata": {},
     "output_type": "execute_result"
    }
   ],
   "source": [
    "np.sqrt(1000000)"
   ]
  },
  {
   "cell_type": "code",
   "execution_count": 199,
   "metadata": {},
   "outputs": [],
   "source": [
    "p_intersect = (len(\n",
    "    covid.query(\"gdp_per_capita>10000 and hospital_beds_per_thousand>=5\")[\n",
    "        \"location\"\n",
    "    ]\n",
    ") / len(covid[\"location\"]))/p_nbeds_more5\n"
   ]
  },
  {
   "cell_type": "code",
   "execution_count": 1,
   "metadata": {},
   "outputs": [],
   "source": [
    "import tensorflow as tf"
   ]
  },
  {
   "cell_type": "code",
   "execution_count": 4,
   "metadata": {},
   "outputs": [
    {
     "name": "stdout",
     "output_type": "stream",
     "text": [
      "Model: \"sequential_2\"\n",
      "_________________________________________________________________\n",
      " Layer (type)                Output Shape              Param #   \n",
      "=================================================================\n",
      " dense_5 (Dense)             (None, 100)               1100      \n",
      "                                                                 \n",
      " dense_6 (Dense)             (None, 100)               10100     \n",
      "                                                                 \n",
      " dense_7 (Dense)             (None, 10)                1010      \n",
      "                                                                 \n",
      "=================================================================\n",
      "Total params: 12,210\n",
      "Trainable params: 12,210\n",
      "Non-trainable params: 0\n",
      "_________________________________________________________________\n"
     ]
    }
   ],
   "source": [
    "from keras import models\n",
    "from keras import layers\n",
    "\n",
    "model = models.Sequential()\n",
    "model.add(layers.Dense(100, activation=\"relu\", input_shape=(10,)))\n",
    "model.add(layers.Dense(100, activation=\"relu\"))\n",
    "model.add(layers.Dense(10, activation=\"softmax\"))\n",
    "model.summary()\n"
   ]
  },
  {
   "cell_type": "code",
   "execution_count": 5,
   "metadata": {},
   "outputs": [],
   "source": [
    "p_qual = 0.01\n",
    "p_passed_qualif = 0.9\n",
    "p_passed = 0.01*0.9+0.99*0.1\n",
    "p_qual_passed = p_passed_qualif*p_qual/p_passed"
   ]
  },
  {
   "cell_type": "code",
   "execution_count": 196,
   "metadata": {},
   "outputs": [
    {
     "data": {
      "text/plain": [
       "array(['Argentina', 'Austria', 'Barbados', 'Belarus', 'Belgium',\n",
       "       'Bulgaria', 'Croatia', 'Czech Republic', 'France', 'Gabon',\n",
       "       'Germany', 'Hungary', 'Japan', 'Kazakhstan', 'Latvia', 'Lithuania',\n",
       "       'Mongolia', 'Poland', 'Romania', 'Russia', 'Serbia', 'Slovakia',\n",
       "       'South Korea'], dtype=object)"
      ]
     },
     "execution_count": 196,
     "metadata": {},
     "output_type": "execute_result"
    }
   ],
   "source": [
    "covid.query(\"gdp_per_capita>10000 and hospital_beds_per_thousand>=5\")[\n",
    "        \"location\"\n",
    "    ].unique()"
   ]
  },
  {
   "cell_type": "code",
   "execution_count": 193,
   "metadata": {},
   "outputs": [],
   "source": [
    "p = (p_intersect*p_gdp_over10000)/p_nbeds_more5"
   ]
  },
  {
   "cell_type": "code",
   "execution_count": 194,
   "metadata": {},
   "outputs": [
    {
     "data": {
      "text/plain": [
       "3.0803571428571432"
      ]
     },
     "execution_count": 194,
     "metadata": {},
     "output_type": "execute_result"
    }
   ],
   "source": [
    "p"
   ]
  },
  {
   "cell_type": "code",
   "execution_count": 6,
   "metadata": {},
   "outputs": [],
   "source": [
    "ops = input().split()"
   ]
  },
  {
   "cell_type": "code",
   "execution_count": 7,
   "metadata": {},
   "outputs": [],
   "source": [
    "def calculate_score(ops):\n",
    "    numbers = []\n",
    "    for el in ops:\n",
    "        try:\n",
    "            numbers.append(int(el))\n",
    "        except:\n",
    "            if el == 'C':\n",
    "                numbers.pop(-1)\n",
    "            elif el == 'D':\n",
    "                numbers.append(2*numbers[-1])\n",
    "            elif el == '+':\n",
    "                numbers.append(numbers[-1]+numbers[-2]) \n",
    "    return sum(numbers)"
   ]
  },
  {
   "cell_type": "code",
   "execution_count": 8,
   "metadata": {},
   "outputs": [
    {
     "data": {
      "text/plain": [
       "30"
      ]
     },
     "execution_count": 8,
     "metadata": {},
     "output_type": "execute_result"
    }
   ],
   "source": [
    "calculate_score(ops)"
   ]
  },
  {
   "cell_type": "code",
   "execution_count": null,
   "metadata": {},
   "outputs": [],
   "source": []
  }
 ],
 "metadata": {
  "kernelspec": {
   "display_name": "Python 3.10.0 ('defaultenv')",
   "language": "python",
   "name": "python3"
  },
  "language_info": {
   "codemirror_mode": {
    "name": "ipython",
    "version": 3
   },
   "file_extension": ".py",
   "mimetype": "text/x-python",
   "name": "python",
   "nbconvert_exporter": "python",
   "pygments_lexer": "ipython3",
   "version": "3.10.0"
  },
  "orig_nbformat": 4,
  "vscode": {
   "interpreter": {
    "hash": "c1d7054af77ba560f87b9c7884b1cfb54f44503b6d572a00787a3ee06861aa5a"
   }
  }
 },
 "nbformat": 4,
 "nbformat_minor": 2
}
