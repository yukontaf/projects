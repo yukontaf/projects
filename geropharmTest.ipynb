{
 "cells": [
  {
   "cell_type": "code",
   "execution_count": 1,
   "metadata": {},
   "outputs": [],
   "source": [
    "import pandas as pd\n"
   ]
  },
  {
   "cell_type": "code",
   "execution_count": 6,
   "metadata": {},
   "outputs": [],
   "source": [
    "df = pd.read_excel(\n",
    "    \"/Users/glebsokolov/Downloads/Задание отдел аналитики данных.xlsx\", sheet_name=0\n",
    ")\n",
    "df = df.drop(labels=[\"Unnamed: 5\", \"Unnamed: 6\", \"Unnamed: 7\"], axis=1)\n"
   ]
  },
  {
   "cell_type": "code",
   "execution_count": 13,
   "metadata": {},
   "outputs": [],
   "source": [
    "df[\"Год\"] = df[\"Дата продажи\"].apply(lambda x: x.year)\n"
   ]
  },
  {
   "cell_type": "code",
   "execution_count": 14,
   "metadata": {},
   "outputs": [
    {
     "data": {
      "text/html": [
       "<div>\n",
       "<style scoped>\n",
       "    .dataframe tbody tr th:only-of-type {\n",
       "        vertical-align: middle;\n",
       "    }\n",
       "\n",
       "    .dataframe tbody tr th {\n",
       "        vertical-align: top;\n",
       "    }\n",
       "\n",
       "    .dataframe thead th {\n",
       "        text-align: right;\n",
       "    }\n",
       "</style>\n",
       "<table border=\"1\" class=\"dataframe\">\n",
       "  <thead>\n",
       "    <tr style=\"text-align: right;\">\n",
       "      <th></th>\n",
       "      <th>Номер заказа</th>\n",
       "      <th>Дата продажи</th>\n",
       "      <th>SKU</th>\n",
       "      <th>Цена</th>\n",
       "      <th>Упаковки</th>\n",
       "      <th>Год</th>\n",
       "    </tr>\n",
       "  </thead>\n",
       "  <tbody>\n",
       "    <tr>\n",
       "      <th>0</th>\n",
       "      <td>Unit-0355</td>\n",
       "      <td>2019-01-09</td>\n",
       "      <td>VM8726</td>\n",
       "      <td>2345</td>\n",
       "      <td>1.0</td>\n",
       "      <td>2019</td>\n",
       "    </tr>\n",
       "    <tr>\n",
       "      <th>1</th>\n",
       "      <td>Unit-0356</td>\n",
       "      <td>2021-03-14</td>\n",
       "      <td>VM3801</td>\n",
       "      <td>1369</td>\n",
       "      <td>2.0</td>\n",
       "      <td>2021</td>\n",
       "    </tr>\n",
       "    <tr>\n",
       "      <th>2</th>\n",
       "      <td>Unit-0357</td>\n",
       "      <td>2019-09-29</td>\n",
       "      <td>VM2632</td>\n",
       "      <td>1496</td>\n",
       "      <td>2.0</td>\n",
       "      <td>2019</td>\n",
       "    </tr>\n",
       "    <tr>\n",
       "      <th>3</th>\n",
       "      <td>Unit-0358</td>\n",
       "      <td>2018-03-12</td>\n",
       "      <td>VM2632</td>\n",
       "      <td>1496</td>\n",
       "      <td>10.0</td>\n",
       "      <td>2018</td>\n",
       "    </tr>\n",
       "    <tr>\n",
       "      <th>4</th>\n",
       "      <td>Unit-0359</td>\n",
       "      <td>2019-11-28</td>\n",
       "      <td>VKL28</td>\n",
       "      <td>867</td>\n",
       "      <td>15.0</td>\n",
       "      <td>2019</td>\n",
       "    </tr>\n",
       "  </tbody>\n",
       "</table>\n",
       "</div>"
      ],
      "text/plain": [
       "  Номер заказа Дата продажи     SKU  Цена  Упаковки   Год\n",
       "0    Unit-0355   2019-01-09  VM8726  2345       1.0  2019\n",
       "1    Unit-0356   2021-03-14  VM3801  1369       2.0  2021\n",
       "2    Unit-0357   2019-09-29  VM2632  1496       2.0  2019\n",
       "3    Unit-0358   2018-03-12  VM2632  1496      10.0  2018\n",
       "4    Unit-0359   2019-11-28   VKL28   867      15.0  2019"
      ]
     },
     "execution_count": 14,
     "metadata": {},
     "output_type": "execute_result"
    }
   ],
   "source": [
    "df.head()\n"
   ]
  },
  {
   "cell_type": "markdown",
   "metadata": {},
   "source": [
    "1. Дубликат в первой колонке"
   ]
  },
  {
   "cell_type": "code",
   "execution_count": 34,
   "metadata": {},
   "outputs": [
    {
     "data": {
      "text/html": [
       "<div>\n",
       "<style scoped>\n",
       "    .dataframe tbody tr th:only-of-type {\n",
       "        vertical-align: middle;\n",
       "    }\n",
       "\n",
       "    .dataframe tbody tr th {\n",
       "        vertical-align: top;\n",
       "    }\n",
       "\n",
       "    .dataframe thead th {\n",
       "        text-align: right;\n",
       "    }\n",
       "</style>\n",
       "<table border=\"1\" class=\"dataframe\">\n",
       "  <thead>\n",
       "    <tr style=\"text-align: right;\">\n",
       "      <th></th>\n",
       "      <th>Номер заказа</th>\n",
       "      <th>Дата продажи</th>\n",
       "      <th>SKU</th>\n",
       "      <th>Цена</th>\n",
       "      <th>Упаковки</th>\n",
       "      <th>Год</th>\n",
       "    </tr>\n",
       "  </thead>\n",
       "  <tbody>\n",
       "    <tr>\n",
       "      <th>103</th>\n",
       "      <td>Unit-0461</td>\n",
       "      <td>2019-10-01</td>\n",
       "      <td>VKL0327</td>\n",
       "      <td>905</td>\n",
       "      <td>5.0</td>\n",
       "      <td>2019</td>\n",
       "    </tr>\n",
       "  </tbody>\n",
       "</table>\n",
       "</div>"
      ],
      "text/plain": [
       "    Номер заказа Дата продажи      SKU  Цена  Упаковки   Год\n",
       "103    Unit-0461   2019-10-01  VKL0327   905       5.0  2019"
      ]
     },
     "execution_count": 34,
     "metadata": {},
     "output_type": "execute_result"
    }
   ],
   "source": [
    "d = df.duplicated(subset=\"Номер заказа\")\n",
    "df[d]\n"
   ]
  },
  {
   "cell_type": "code",
   "execution_count": null,
   "metadata": {},
   "outputs": [],
   "source": [
    "u = df.query(\"Год==2019\")[\"SKU\"].unique()\n",
    "df.at[87, \"SKU\"] = u[-2]\n",
    "df.at[36, \"SKU\"] = u[1]\n"
   ]
  },
  {
   "cell_type": "markdown",
   "metadata": {},
   "source": [
    "2. Сумма упаковок по году и SKU"
   ]
  },
  {
   "cell_type": "code",
   "execution_count": 86,
   "metadata": {},
   "outputs": [
    {
     "data": {
      "text/html": [
       "<div>\n",
       "<style scoped>\n",
       "    .dataframe tbody tr th:only-of-type {\n",
       "        vertical-align: middle;\n",
       "    }\n",
       "\n",
       "    .dataframe tbody tr th {\n",
       "        vertical-align: top;\n",
       "    }\n",
       "\n",
       "    .dataframe thead th {\n",
       "        text-align: right;\n",
       "    }\n",
       "</style>\n",
       "<table border=\"1\" class=\"dataframe\">\n",
       "  <thead>\n",
       "    <tr style=\"text-align: right;\">\n",
       "      <th>Год</th>\n",
       "      <th>2018</th>\n",
       "      <th>2019</th>\n",
       "      <th>2020</th>\n",
       "      <th>2021</th>\n",
       "    </tr>\n",
       "    <tr>\n",
       "      <th>SKU</th>\n",
       "      <th></th>\n",
       "      <th></th>\n",
       "      <th></th>\n",
       "      <th></th>\n",
       "    </tr>\n",
       "  </thead>\n",
       "  <tbody>\n",
       "    <tr>\n",
       "      <th>VKL0327</th>\n",
       "      <td>71.0</td>\n",
       "      <td>162.0</td>\n",
       "      <td>71.0</td>\n",
       "      <td>157.0</td>\n",
       "    </tr>\n",
       "    <tr>\n",
       "      <th>VKL28</th>\n",
       "      <td>154.0</td>\n",
       "      <td>217.0</td>\n",
       "      <td>202.3</td>\n",
       "      <td>81.0</td>\n",
       "    </tr>\n",
       "    <tr>\n",
       "      <th>VM2632</th>\n",
       "      <td>78.0</td>\n",
       "      <td>918.2</td>\n",
       "      <td>762.0</td>\n",
       "      <td>350.0</td>\n",
       "    </tr>\n",
       "    <tr>\n",
       "      <th>VM3801</th>\n",
       "      <td>19.0</td>\n",
       "      <td>13.0</td>\n",
       "      <td>41.0</td>\n",
       "      <td>18.0</td>\n",
       "    </tr>\n",
       "    <tr>\n",
       "      <th>VM8726</th>\n",
       "      <td>36.0</td>\n",
       "      <td>43.0</td>\n",
       "      <td>79.0</td>\n",
       "      <td>39.0</td>\n",
       "    </tr>\n",
       "    <tr>\n",
       "      <th>VM9355</th>\n",
       "      <td>23.0</td>\n",
       "      <td>51.0</td>\n",
       "      <td>49.0</td>\n",
       "      <td>17.0</td>\n",
       "    </tr>\n",
       "  </tbody>\n",
       "</table>\n",
       "</div>"
      ],
      "text/plain": [
       "Год       2018   2019   2020   2021\n",
       "SKU                                \n",
       "VKL0327   71.0  162.0   71.0  157.0\n",
       "VKL28    154.0  217.0  202.3   81.0\n",
       "VM2632    78.0  918.2  762.0  350.0\n",
       "VM3801    19.0   13.0   41.0   18.0\n",
       "VM8726    36.0   43.0   79.0   39.0\n",
       "VM9355    23.0   51.0   49.0   17.0"
      ]
     },
     "execution_count": 86,
     "metadata": {},
     "output_type": "execute_result"
    }
   ],
   "source": [
    "df.pivot_table(values=\"Упаковки\", index=\"SKU\", columns=\"Год\", aggfunc=\"sum\")\n"
   ]
  },
  {
   "cell_type": "markdown",
   "metadata": {},
   "source": [
    "3. Среднее количество упаковок по году и SKU"
   ]
  },
  {
   "cell_type": "code",
   "execution_count": 85,
   "metadata": {},
   "outputs": [
    {
     "data": {
      "text/html": [
       "<div>\n",
       "<style scoped>\n",
       "    .dataframe tbody tr th:only-of-type {\n",
       "        vertical-align: middle;\n",
       "    }\n",
       "\n",
       "    .dataframe tbody tr th {\n",
       "        vertical-align: top;\n",
       "    }\n",
       "\n",
       "    .dataframe thead th {\n",
       "        text-align: right;\n",
       "    }\n",
       "</style>\n",
       "<table border=\"1\" class=\"dataframe\">\n",
       "  <thead>\n",
       "    <tr style=\"text-align: right;\">\n",
       "      <th>Год</th>\n",
       "      <th>2018</th>\n",
       "      <th>2019</th>\n",
       "      <th>2020</th>\n",
       "      <th>2021</th>\n",
       "    </tr>\n",
       "    <tr>\n",
       "      <th>SKU</th>\n",
       "      <th></th>\n",
       "      <th></th>\n",
       "      <th></th>\n",
       "      <th></th>\n",
       "    </tr>\n",
       "  </thead>\n",
       "  <tbody>\n",
       "    <tr>\n",
       "      <th>VKL0327</th>\n",
       "      <td>35.500000</td>\n",
       "      <td>27.000000</td>\n",
       "      <td>35.500000</td>\n",
       "      <td>31.400000</td>\n",
       "    </tr>\n",
       "    <tr>\n",
       "      <th>VKL28</th>\n",
       "      <td>38.500000</td>\n",
       "      <td>24.111111</td>\n",
       "      <td>25.287500</td>\n",
       "      <td>27.000000</td>\n",
       "    </tr>\n",
       "    <tr>\n",
       "      <th>VM2632</th>\n",
       "      <td>19.500000</td>\n",
       "      <td>83.472727</td>\n",
       "      <td>33.130435</td>\n",
       "      <td>31.818182</td>\n",
       "    </tr>\n",
       "    <tr>\n",
       "      <th>VM3801</th>\n",
       "      <td>2.375000</td>\n",
       "      <td>1.444444</td>\n",
       "      <td>3.153846</td>\n",
       "      <td>3.000000</td>\n",
       "    </tr>\n",
       "    <tr>\n",
       "      <th>VM8726</th>\n",
       "      <td>2.769231</td>\n",
       "      <td>1.869565</td>\n",
       "      <td>1.680851</td>\n",
       "      <td>1.772727</td>\n",
       "    </tr>\n",
       "    <tr>\n",
       "      <th>VM9355</th>\n",
       "      <td>2.555556</td>\n",
       "      <td>2.318182</td>\n",
       "      <td>2.130435</td>\n",
       "      <td>2.428571</td>\n",
       "    </tr>\n",
       "  </tbody>\n",
       "</table>\n",
       "</div>"
      ],
      "text/plain": [
       "Год           2018       2019       2020       2021\n",
       "SKU                                                \n",
       "VKL0327  35.500000  27.000000  35.500000  31.400000\n",
       "VKL28    38.500000  24.111111  25.287500  27.000000\n",
       "VM2632   19.500000  83.472727  33.130435  31.818182\n",
       "VM3801    2.375000   1.444444   3.153846   3.000000\n",
       "VM8726    2.769231   1.869565   1.680851   1.772727\n",
       "VM9355    2.555556   2.318182   2.130435   2.428571"
      ]
     },
     "execution_count": 85,
     "metadata": {},
     "output_type": "execute_result"
    }
   ],
   "source": [
    "df.pivot_table(values=\"Упаковки\", index=\"SKU\", columns=\"Год\", aggfunc=\"mean\")\n"
   ]
  }
 ],
 "metadata": {
  "kernelspec": {
   "display_name": "Python 3.10.0 ('defaultenv')",
   "language": "python",
   "name": "python3"
  },
  "language_info": {
   "codemirror_mode": {
    "name": "ipython",
    "version": 3
   },
   "file_extension": ".py",
   "mimetype": "text/x-python",
   "name": "python",
   "nbconvert_exporter": "python",
   "pygments_lexer": "ipython3",
   "version": "3.10.0"
  },
  "orig_nbformat": 4,
  "vscode": {
   "interpreter": {
    "hash": "c1d7054af77ba560f87b9c7884b1cfb54f44503b6d572a00787a3ee06861aa5a"
   }
  }
 },
 "nbformat": 4,
 "nbformat_minor": 2
}
