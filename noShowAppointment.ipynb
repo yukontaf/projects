{
 "cells": [
  {
   "cell_type": "code",
   "execution_count": 2,
   "metadata": {
    "tags": []
   },
   "outputs": [],
   "source": [
    "import pandas as pd\n",
    "from scipy import stats\n",
    "from IPython.core.interactiveshell import InteractiveShell\n",
    "import hvplot.pandas\n",
    "\n",
    "pd.options.plotting.backend = \"holoviews\"\n",
    "\n",
    "\n",
    "InteractiveShell.ast_node_interactivity = \"all\"\n",
    "import numpy as np\n",
    "import panel as pn\n",
    "import scipy\n",
    "from panel.template import DefaultTheme\n",
    "\n",
    "pn.extension()\n"
   ]
  },
  {
   "cell_type": "code",
   "execution_count": 4,
   "metadata": {},
   "outputs": [],
   "source": [
    "from plotnine import ggplot, aes, geom_histogram\n",
    "cred = {\"host\": 'localhost', 'dbname': 'yukontaf', 'user': 'glebsokolov', 'password': ''}\n",
    "from sqlalchemy import create_engine\n",
    "\n",
    "con = create_engine(\n",
    "    f'postgresql://{cred[\"user\"]}:{cred[\"password\"]}@{cred[\"host\"]}/{cred[\"dbname\"]}'\n",
    ")\n",
    "\n",
    "\n",
    "def select(sql):\n",
    "    return pd.read_sql(sql, con)\n"
   ]
  },
  {
   "cell_type": "code",
   "execution_count": 5,
   "metadata": {
    "collapsed": false,
    "jupyter": {
     "outputs_hidden": false
    },
    "pycharm": {
     "name": "#%%\n"
    }
   },
   "outputs": [
    {
     "name": "stdout",
     "output_type": "stream",
     "text": [
      "<class 'pandas.core.frame.DataFrame'>\n",
      "RangeIndex: 110527 entries, 0 to 110526\n",
      "Data columns (total 15 columns):\n",
      " #   Column          Non-Null Count   Dtype  \n",
      "---  ------          --------------   -----  \n",
      " 0   index           110527 non-null  int64  \n",
      " 1   Unnamed: 0      110527 non-null  int64  \n",
      " 2   PatientId       110527 non-null  float64\n",
      " 3   Gender          110527 non-null  float64\n",
      " 4   ScheduledDay    110527 non-null  object \n",
      " 5   AppointmentDay  110527 non-null  object \n",
      " 6   Age             110527 non-null  int64  \n",
      " 7   Neighbourhood   110527 non-null  float64\n",
      " 8   Scholarship     110527 non-null  int64  \n",
      " 9   Hypertension    110527 non-null  int64  \n",
      " 10  Diabetes        110527 non-null  int64  \n",
      " 11  Alcoholism      110527 non-null  int64  \n",
      " 12  Handcap         110527 non-null  int64  \n",
      " 13  SMS_received    110527 non-null  int64  \n",
      " 14  No-show         110527 non-null  float64\n",
      "dtypes: float64(4), int64(9), object(2)\n",
      "memory usage: 12.6+ MB\n"
     ]
    }
   ],
   "source": [
    "sql = '''select * from noshowappointment'''\n",
    "df = select(sql)\n",
    "df.info()\n"
   ]
  },
  {
   "cell_type": "code",
   "execution_count": 6,
   "metadata": {
    "collapsed": false,
    "jupyter": {
     "outputs_hidden": false
    },
    "pycharm": {
     "name": "#%%\n"
    }
   },
   "outputs": [
    {
     "data": {},
     "metadata": {},
     "output_type": "display_data"
    },
    {
     "data": {
      "application/vnd.holoviews_exec.v0+json": "",
      "text/html": [
       "<div id='1002'>\n",
       "\n",
       "\n",
       "\n",
       "\n",
       "\n",
       "  <div class=\"bk-root\" id=\"03bdca01-49e4-435c-87cc-a5123b47d9fa\" data-root-id=\"1002\"></div>\n",
       "</div>\n",
       "<script type=\"application/javascript\">(function(root) {\n",
       "  function embed_document(root) {\n",
       "    var docs_json = {\"af4803c2-729f-4fd5-ab6a-36bd8d4d0d60\":{\"defs\":[{\"extends\":null,\"module\":null,\"name\":\"ReactiveHTML1\",\"overrides\":[],\"properties\":[]},{\"extends\":null,\"module\":null,\"name\":\"FlexBox1\",\"overrides\":[],\"properties\":[{\"default\":\"flex-start\",\"kind\":null,\"name\":\"align_content\"},{\"default\":\"flex-start\",\"kind\":null,\"name\":\"align_items\"},{\"default\":\"row\",\"kind\":null,\"name\":\"flex_direction\"},{\"default\":\"wrap\",\"kind\":null,\"name\":\"flex_wrap\"},{\"default\":\"flex-start\",\"kind\":null,\"name\":\"justify_content\"}]},{\"extends\":null,\"module\":null,\"name\":\"GridStack1\",\"overrides\":[],\"properties\":[{\"default\":\"warn\",\"kind\":null,\"name\":\"mode\"},{\"default\":null,\"kind\":null,\"name\":\"ncols\"},{\"default\":null,\"kind\":null,\"name\":\"nrows\"},{\"default\":true,\"kind\":null,\"name\":\"allow_resize\"},{\"default\":true,\"kind\":null,\"name\":\"allow_drag\"},{\"default\":[],\"kind\":null,\"name\":\"state\"}]},{\"extends\":null,\"module\":null,\"name\":\"click1\",\"overrides\":[],\"properties\":[{\"default\":\"\",\"kind\":null,\"name\":\"terminal_output\"},{\"default\":\"\",\"kind\":null,\"name\":\"debug_name\"},{\"default\":0,\"kind\":null,\"name\":\"clears\"}]},{\"extends\":null,\"module\":null,\"name\":\"TemplateActions1\",\"overrides\":[],\"properties\":[{\"default\":0,\"kind\":null,\"name\":\"open_modal\"},{\"default\":0,\"kind\":null,\"name\":\"close_modal\"}]},{\"extends\":null,\"module\":null,\"name\":\"MaterialTemplateActions1\",\"overrides\":[],\"properties\":[{\"default\":0,\"kind\":null,\"name\":\"open_modal\"},{\"default\":0,\"kind\":null,\"name\":\"close_modal\"}]}],\"roots\":{\"references\":[{\"attributes\":{},\"id\":\"1052\",\"type\":\"IntEditor\"},{\"attributes\":{},\"id\":\"1071\",\"type\":\"NumberFormatter\"},{\"attributes\":{\"editor\":{\"id\":\"1052\"},\"field\":\"Hypertension\",\"formatter\":{\"id\":\"1051\"},\"title\":\"Hypertension\"},\"id\":\"1053\",\"type\":\"TableColumn\"},{\"attributes\":{},\"id\":\"1057\",\"type\":\"IntEditor\"},{\"attributes\":{\"format\":\"0,0.0[00000]\"},\"id\":\"1076\",\"type\":\"NumberFormatter\"},{\"attributes\":{\"editor\":{\"id\":\"1057\"},\"field\":\"Diabetes\",\"formatter\":{\"id\":\"1056\"},\"title\":\"Diabetes\"},\"id\":\"1058\",\"type\":\"TableColumn\"},{\"attributes\":{},\"id\":\"1062\",\"type\":\"IntEditor\"},{\"attributes\":{\"editor\":{\"id\":\"1062\"},\"field\":\"Alcoholism\",\"formatter\":{\"id\":\"1061\"},\"title\":\"Alcoholism\"},\"id\":\"1063\",\"type\":\"TableColumn\"},{\"attributes\":{},\"id\":\"1067\",\"type\":\"IntEditor\"},{\"attributes\":{\"editor\":{\"id\":\"1067\"},\"field\":\"Handcap\",\"formatter\":{\"id\":\"1066\"},\"title\":\"Handcap\"},\"id\":\"1068\",\"type\":\"TableColumn\"},{\"attributes\":{},\"id\":\"1007\",\"type\":\"IntEditor\"},{\"attributes\":{},\"id\":\"1072\",\"type\":\"IntEditor\"},{\"attributes\":{},\"id\":\"1031\",\"type\":\"StringFormatter\"},{\"attributes\":{\"editor\":{\"id\":\"1077\"},\"field\":\"No_hyphen_minus_show\",\"formatter\":{\"id\":\"1076\"},\"title\":\"No-show\"},\"id\":\"1078\",\"type\":\"TableColumn\"},{\"attributes\":{},\"id\":\"1012\",\"type\":\"IntEditor\"},{\"attributes\":{\"editor\":{\"id\":\"1072\"},\"field\":\"SMS_received\",\"formatter\":{\"id\":\"1071\"},\"title\":\"SMS_received\"},\"id\":\"1073\",\"type\":\"TableColumn\"},{\"attributes\":{},\"id\":\"1011\",\"type\":\"NumberFormatter\"},{\"attributes\":{},\"id\":\"1077\",\"type\":\"NumberEditor\"},{\"attributes\":{},\"id\":\"1006\",\"type\":\"NumberFormatter\"},{\"attributes\":{\"columns\":[{\"id\":\"1008\"},{\"id\":\"1013\"},{\"id\":\"1018\"},{\"id\":\"1023\"},{\"id\":\"1028\"},{\"id\":\"1033\"},{\"id\":\"1038\"},{\"id\":\"1043\"},{\"id\":\"1048\"},{\"id\":\"1053\"},{\"id\":\"1058\"},{\"id\":\"1063\"},{\"id\":\"1068\"},{\"id\":\"1073\"},{\"id\":\"1078\"}],\"height\":240,\"reorderable\":false,\"source\":{\"id\":\"1004\"},\"view\":{\"id\":\"1083\"},\"width\":1480},\"id\":\"1081\",\"type\":\"DataTable\"},{\"attributes\":{\"format\":\"0,0.0[00000]\"},\"id\":\"1016\",\"type\":\"NumberFormatter\"},{\"attributes\":{\"source\":{\"id\":\"1004\"}},\"id\":\"1083\",\"type\":\"CDSView\"},{\"attributes\":{},\"id\":\"1022\",\"type\":\"NumberEditor\"},{\"attributes\":{\"editor\":{\"id\":\"1017\"},\"field\":\"PatientId\",\"formatter\":{\"id\":\"1016\"},\"title\":\"PatientId\"},\"id\":\"1018\",\"type\":\"TableColumn\"},{\"attributes\":{\"editor\":{\"id\":\"1012\"},\"field\":\"Unnamed_colon_0\",\"formatter\":{\"id\":\"1011\"},\"title\":\"Unnamed: 0\"},\"id\":\"1013\",\"type\":\"TableColumn\"},{\"attributes\":{\"data\":{\"Age\":[62,56,62,8,56],\"Alcoholism\":[0,0,0,0,0],\"AppointmentDay\":[\"2016-04-29 00:00:00+00:00\",\"2016-04-29 00:00:00+00:00\",\"2016-04-29 00:00:00+00:00\",\"2016-04-29 00:00:00+00:00\",\"2016-04-29 00:00:00+00:00\"],\"Diabetes\":[0,0,0,0,1],\"Gender\":{\"__ndarray__\":\"AAAAAAAAAAAAAAAAAADwPwAAAAAAAAAAAAAAAAAAAAAAAAAAAAAAAA==\",\"dtype\":\"float64\",\"order\":\"little\",\"shape\":[5]},\"Handcap\":[0,0,0,0,0],\"Hypertension\":[1,0,0,0,1],\"Neighbourhood\":{\"__ndarray__\":\"AAAAAACAQ0AAAAAAAIBDQAAAAAAAgEZAAAAAAAAAS0AAAAAAAIBDQA==\",\"dtype\":\"float64\",\"order\":\"little\",\"shape\":[5]},\"No_hyphen_minus_show\":{\"__ndarray__\":\"AAAAAAAAAAAAAAAAAAAAAAAAAAAAAAAAAAAAAAAAAAAAAAAAAAAAAA==\",\"dtype\":\"float64\",\"order\":\"little\",\"shape\":[5]},\"PatientId\":{\"__ndarray__\":\"AKiWvTsru0Jgyo/+fMb/QgB4IdRiBI9CAMBOj71CaUIAbiaO/xSgQg==\",\"dtype\":\"float64\",\"order\":\"little\",\"shape\":[5]},\"SMS_received\":[0,0,0,0,0],\"ScheduledDay\":[\"2016-04-29 18:38:08+00:00\",\"2016-04-29 16:08:27+00:00\",\"2016-04-29 16:19:04+00:00\",\"2016-04-29 17:29:31+00:00\",\"2016-04-29 16:07:23+00:00\"],\"Scholarship\":[0,0,0,0,0],\"Unnamed_colon_0\":[0,1,2,3,4],\"index\":[0,1,2,3,4]},\"selected\":{\"id\":\"1005\"},\"selection_policy\":{\"id\":\"1084\"}},\"id\":\"1004\",\"type\":\"ColumnDataSource\"},{\"attributes\":{},\"id\":\"1017\",\"type\":\"NumberEditor\"},{\"attributes\":{\"editor\":{\"id\":\"1022\"},\"field\":\"Gender\",\"formatter\":{\"id\":\"1021\"},\"title\":\"Gender\"},\"id\":\"1023\",\"type\":\"TableColumn\"},{\"attributes\":{},\"id\":\"1084\",\"type\":\"UnionRenderers\"},{\"attributes\":{},\"id\":\"1027\",\"type\":\"StringEditor\"},{\"attributes\":{\"children\":[{\"id\":\"1003\"},{\"id\":\"1081\"},{\"id\":\"1088\"}],\"margin\":[0,0,0,0],\"name\":\"Row01636\",\"tags\":[\"embedded\"]},\"id\":\"1002\",\"type\":\"Row\"},{\"attributes\":{\"format\":\"0,0.0[00000]\"},\"id\":\"1021\",\"type\":\"NumberFormatter\"},{\"attributes\":{\"format\":\"0,0.0[00000]\"},\"id\":\"1041\",\"type\":\"NumberFormatter\"},{\"attributes\":{\"margin\":[5,5,5,5],\"name\":\"HSpacer01640\",\"sizing_mode\":\"stretch_width\"},\"id\":\"1003\",\"type\":\"Spacer\"},{\"attributes\":{},\"id\":\"1036\",\"type\":\"NumberFormatter\"},{\"attributes\":{},\"id\":\"1026\",\"type\":\"StringFormatter\"},{\"attributes\":{},\"id\":\"1051\",\"type\":\"NumberFormatter\"},{\"attributes\":{\"margin\":[5,5,5,5],\"name\":\"HSpacer01641\",\"sizing_mode\":\"stretch_width\"},\"id\":\"1088\",\"type\":\"Spacer\"},{\"attributes\":{\"editor\":{\"id\":\"1027\"},\"field\":\"ScheduledDay\",\"formatter\":{\"id\":\"1026\"},\"title\":\"ScheduledDay\"},\"id\":\"1028\",\"type\":\"TableColumn\"},{\"attributes\":{},\"id\":\"1005\",\"type\":\"Selection\"},{\"attributes\":{},\"id\":\"1032\",\"type\":\"StringEditor\"},{\"attributes\":{},\"id\":\"1047\",\"type\":\"IntEditor\"},{\"attributes\":{\"editor\":{\"id\":\"1032\"},\"field\":\"AppointmentDay\",\"formatter\":{\"id\":\"1031\"},\"title\":\"AppointmentDay\"},\"id\":\"1033\",\"type\":\"TableColumn\"},{\"attributes\":{},\"id\":\"1037\",\"type\":\"IntEditor\"},{\"attributes\":{\"editor\":{\"id\":\"1042\"},\"field\":\"Neighbourhood\",\"formatter\":{\"id\":\"1041\"},\"title\":\"Neighbourhood\"},\"id\":\"1043\",\"type\":\"TableColumn\"},{\"attributes\":{\"editor\":{\"id\":\"1037\"},\"field\":\"Age\",\"formatter\":{\"id\":\"1036\"},\"title\":\"Age\"},\"id\":\"1038\",\"type\":\"TableColumn\"},{\"attributes\":{},\"id\":\"1042\",\"type\":\"NumberEditor\"},{\"attributes\":{},\"id\":\"1061\",\"type\":\"NumberFormatter\"},{\"attributes\":{},\"id\":\"1056\",\"type\":\"NumberFormatter\"},{\"attributes\":{},\"id\":\"1046\",\"type\":\"NumberFormatter\"},{\"attributes\":{},\"id\":\"1066\",\"type\":\"NumberFormatter\"},{\"attributes\":{\"editor\":{\"id\":\"1047\"},\"field\":\"Scholarship\",\"formatter\":{\"id\":\"1046\"},\"title\":\"Scholarship\"},\"id\":\"1048\",\"type\":\"TableColumn\"},{\"attributes\":{\"editor\":{\"id\":\"1007\"},\"field\":\"index\",\"formatter\":{\"id\":\"1006\"},\"title\":\"index\"},\"id\":\"1008\",\"type\":\"TableColumn\"}],\"root_ids\":[\"1002\"]},\"title\":\"Bokeh Application\",\"version\":\"2.4.2\"}};\n",
       "    var render_items = [{\"docid\":\"af4803c2-729f-4fd5-ab6a-36bd8d4d0d60\",\"root_ids\":[\"1002\"],\"roots\":{\"1002\":\"03bdca01-49e4-435c-87cc-a5123b47d9fa\"}}];\n",
       "    root.Bokeh.embed.embed_items_notebook(docs_json, render_items);\n",
       "  }\n",
       "  if (root.Bokeh !== undefined && root.Bokeh.Panel !== undefined) {\n",
       "    embed_document(root);\n",
       "  } else {\n",
       "    var attempts = 0;\n",
       "    var timer = setInterval(function(root) {\n",
       "      if (root.Bokeh !== undefined && root.Bokeh.Panel !== undefined) {\n",
       "        clearInterval(timer);\n",
       "        embed_document(root);\n",
       "      } else if (document.readyState == \"complete\") {\n",
       "        attempts++;\n",
       "        if (attempts > 200) {\n",
       "          clearInterval(timer);\n",
       "          console.log(\"Bokeh: ERROR: Unable to run BokehJS code because BokehJS library is missing\");\n",
       "        }\n",
       "      }\n",
       "    }, 25, root)\n",
       "  }\n",
       "})(window);</script>"
      ],
      "text/plain": [
       ":Table   [index,Unnamed: 0,PatientId,Gender,ScheduledDay,AppointmentDay,Age,Neighbourhood,Scholarship,Hypertension,Diabetes,Alcoholism,Handcap,SMS_received,No-show]"
      ]
     },
     "execution_count": 6,
     "metadata": {
      "application/vnd.holoviews_exec.v0+json": {
       "id": "1002"
      }
     },
     "output_type": "execute_result"
    }
   ],
   "source": [
    "df.head().hvplot.table(width=1480, height=240)\n"
   ]
  },
  {
   "cell_type": "code",
   "execution_count": 377,
   "metadata": {
    "collapsed": false,
    "jupyter": {
     "outputs_hidden": false
    },
    "pycharm": {
     "name": "#%% md\n"
    }
   },
   "outputs": [],
   "source": [
    "text1 = \"\"\"First, let's preprocess the data: make the target variable boolean, make ordinal\n",
    "encoding for the Neighborhood and Gender column, cast columns, containing dates to\n",
    "datetime type, drop AppointmentID (as we wont need it), and I will also calculate a new feature - awaiting time. Then, let's also check the data for outliers and ridiculous records (i.e. negative age and so on)\"\"\"\n"
   ]
  },
  {
   "cell_type": "code",
   "execution_count": 7,
   "metadata": {
    "collapsed": false,
    "jupyter": {
     "outputs_hidden": false
    },
    "pycharm": {
     "name": "#%%\n"
    }
   },
   "outputs": [],
   "source": [
    "from sklearn.preprocessing import OrdinalEncoder\n",
    "\n",
    "del df[\"Unnamed: 0\"]\n",
    "df[[\"ScheduledDay\", \"AppointmentDay\"]] = df[[\"ScheduledDay\", \"AppointmentDay\"]].apply(\n",
    "    lambda x: pd.to_datetime(x)\n",
    ")\n",
    "enc = OrdinalEncoder()\n",
    "df[[\"Gender\", \"Neighbourhood\", \"No-show\"]] = enc.fit_transform(\n",
    "    df[[\"Gender\", \"Neighbourhood\", \"No-show\"]]\n",
    ")\n",
    "df[\"AwaitingTime\"] = -(df[\"ScheduledDay\"] - df[\"AppointmentDay\"]).dt.days\n",
    "text2 = \"\"\"After preprocessing our\"\"\"\n",
    "tab2 = df.head().hvplot.table(width=820 * 2, height=420 * 2)\n"
   ]
  },
  {
   "cell_type": "code",
   "execution_count": 8,
   "metadata": {},
   "outputs": [],
   "source": [
    "sql = '''select * from heart_uci'''\n",
    "heartUci = select(sql)"
   ]
  },
  {
   "cell_type": "code",
   "execution_count": 9,
   "metadata": {},
   "outputs": [
    {
     "data": {
      "text/html": [
       "<div>\n",
       "<style scoped>\n",
       "    .dataframe tbody tr th:only-of-type {\n",
       "        vertical-align: middle;\n",
       "    }\n",
       "\n",
       "    .dataframe tbody tr th {\n",
       "        vertical-align: top;\n",
       "    }\n",
       "\n",
       "    .dataframe thead th {\n",
       "        text-align: right;\n",
       "    }\n",
       "</style>\n",
       "<table border=\"1\" class=\"dataframe\">\n",
       "  <thead>\n",
       "    <tr style=\"text-align: right;\">\n",
       "      <th></th>\n",
       "      <th>index</th>\n",
       "      <th>Age</th>\n",
       "      <th>Sex</th>\n",
       "      <th>ChestPainType</th>\n",
       "      <th>RestingBP</th>\n",
       "      <th>Cholesterol</th>\n",
       "      <th>FastingBS</th>\n",
       "      <th>RestingECG</th>\n",
       "      <th>MaxHR</th>\n",
       "      <th>ExerciseAngina</th>\n",
       "      <th>Oldpeak</th>\n",
       "      <th>ST_Slope</th>\n",
       "      <th>HeartDisease</th>\n",
       "    </tr>\n",
       "  </thead>\n",
       "  <tbody>\n",
       "    <tr>\n",
       "      <th>0</th>\n",
       "      <td>0</td>\n",
       "      <td>40</td>\n",
       "      <td>M</td>\n",
       "      <td>ATA</td>\n",
       "      <td>140</td>\n",
       "      <td>289</td>\n",
       "      <td>0</td>\n",
       "      <td>Normal</td>\n",
       "      <td>172</td>\n",
       "      <td>N</td>\n",
       "      <td>0.0</td>\n",
       "      <td>Up</td>\n",
       "      <td>0</td>\n",
       "    </tr>\n",
       "    <tr>\n",
       "      <th>1</th>\n",
       "      <td>1</td>\n",
       "      <td>49</td>\n",
       "      <td>F</td>\n",
       "      <td>NAP</td>\n",
       "      <td>160</td>\n",
       "      <td>180</td>\n",
       "      <td>0</td>\n",
       "      <td>Normal</td>\n",
       "      <td>156</td>\n",
       "      <td>N</td>\n",
       "      <td>1.0</td>\n",
       "      <td>Flat</td>\n",
       "      <td>1</td>\n",
       "    </tr>\n",
       "    <tr>\n",
       "      <th>2</th>\n",
       "      <td>2</td>\n",
       "      <td>37</td>\n",
       "      <td>M</td>\n",
       "      <td>ATA</td>\n",
       "      <td>130</td>\n",
       "      <td>283</td>\n",
       "      <td>0</td>\n",
       "      <td>ST</td>\n",
       "      <td>98</td>\n",
       "      <td>N</td>\n",
       "      <td>0.0</td>\n",
       "      <td>Up</td>\n",
       "      <td>0</td>\n",
       "    </tr>\n",
       "    <tr>\n",
       "      <th>3</th>\n",
       "      <td>3</td>\n",
       "      <td>48</td>\n",
       "      <td>F</td>\n",
       "      <td>ASY</td>\n",
       "      <td>138</td>\n",
       "      <td>214</td>\n",
       "      <td>0</td>\n",
       "      <td>Normal</td>\n",
       "      <td>108</td>\n",
       "      <td>Y</td>\n",
       "      <td>1.5</td>\n",
       "      <td>Flat</td>\n",
       "      <td>1</td>\n",
       "    </tr>\n",
       "    <tr>\n",
       "      <th>4</th>\n",
       "      <td>4</td>\n",
       "      <td>54</td>\n",
       "      <td>M</td>\n",
       "      <td>NAP</td>\n",
       "      <td>150</td>\n",
       "      <td>195</td>\n",
       "      <td>0</td>\n",
       "      <td>Normal</td>\n",
       "      <td>122</td>\n",
       "      <td>N</td>\n",
       "      <td>0.0</td>\n",
       "      <td>Up</td>\n",
       "      <td>0</td>\n",
       "    </tr>\n",
       "  </tbody>\n",
       "</table>\n",
       "</div>"
      ],
      "text/plain": [
       "   index  Age Sex ChestPainType  RestingBP  Cholesterol  FastingBS RestingECG  \\\n",
       "0      0   40   M           ATA        140          289          0     Normal   \n",
       "1      1   49   F           NAP        160          180          0     Normal   \n",
       "2      2   37   M           ATA        130          283          0         ST   \n",
       "3      3   48   F           ASY        138          214          0     Normal   \n",
       "4      4   54   M           NAP        150          195          0     Normal   \n",
       "\n",
       "   MaxHR ExerciseAngina  Oldpeak ST_Slope  HeartDisease  \n",
       "0    172              N      0.0       Up             0  \n",
       "1    156              N      1.0     Flat             1  \n",
       "2     98              N      0.0       Up             0  \n",
       "3    108              Y      1.5     Flat             1  \n",
       "4    122              N      0.0       Up             0  "
      ]
     },
     "execution_count": 9,
     "metadata": {},
     "output_type": "execute_result"
    }
   ],
   "source": [
    "heartUci.head()"
   ]
  },
  {
   "cell_type": "code",
   "execution_count": 8,
   "metadata": {},
   "outputs": [
    {
     "data": {
      "text/html": [
       "<div><div id=7e1643da-a440-42d5-a1d6-4c09b2670bd1 style=\"display:none; background-color:#9D6CFF; color:white; width:200px; height:30px; padding-left:5px; border-radius:4px; flex-direction:row; justify-content:space-around; align-items:center;\" onmouseover=\"this.style.backgroundColor='#BA9BF8'\" onmouseout=\"this.style.backgroundColor='#9D6CFF'\" onclick=\"window.commands?.execute('create-mitosheet-from-dataframe-output');\">See Full Dataframe in Mito</div> <script> if (window.commands?.hasCommand('create-mitosheet-from-dataframe-output')) document.getElementById('7e1643da-a440-42d5-a1d6-4c09b2670bd1').style.display = 'flex' </script> <table border=\"1\" class=\"dataframe\">\n",
       "  <thead>\n",
       "    <tr style=\"text-align: right;\">\n",
       "      <th></th>\n",
       "      <th>index</th>\n",
       "      <th>PatientId</th>\n",
       "      <th>Gender</th>\n",
       "      <th>ScheduledDay</th>\n",
       "      <th>AppointmentDay</th>\n",
       "      <th>Age</th>\n",
       "      <th>Neighbourhood</th>\n",
       "      <th>Scholarship</th>\n",
       "      <th>Hypertension</th>\n",
       "      <th>Diabetes</th>\n",
       "      <th>Alcoholism</th>\n",
       "      <th>Handcap</th>\n",
       "      <th>SMS_received</th>\n",
       "      <th>No-show</th>\n",
       "      <th>AwaitingTime</th>\n",
       "    </tr>\n",
       "  </thead>\n",
       "  <tbody>\n",
       "    <tr>\n",
       "      <th>27033</th>\n",
       "      <td>27033</td>\n",
       "      <td>7.839273e+12</td>\n",
       "      <td>1.0</td>\n",
       "      <td>2016-05-10 10:51:53+00:00</td>\n",
       "      <td>2016-05-09 00:00:00+00:00</td>\n",
       "      <td>38</td>\n",
       "      <td>59.0</td>\n",
       "      <td>0</td>\n",
       "      <td>0</td>\n",
       "      <td>0</td>\n",
       "      <td>0</td>\n",
       "      <td>1</td>\n",
       "      <td>0</td>\n",
       "      <td>1.0</td>\n",
       "      <td>-1</td>\n",
       "    </tr>\n",
       "    <tr>\n",
       "      <th>55226</th>\n",
       "      <td>55226</td>\n",
       "      <td>7.896294e+12</td>\n",
       "      <td>0.0</td>\n",
       "      <td>2016-05-18 14:50:41+00:00</td>\n",
       "      <td>2016-05-17 00:00:00+00:00</td>\n",
       "      <td>19</td>\n",
       "      <td>69.0</td>\n",
       "      <td>0</td>\n",
       "      <td>0</td>\n",
       "      <td>0</td>\n",
       "      <td>0</td>\n",
       "      <td>1</td>\n",
       "      <td>0</td>\n",
       "      <td>1.0</td>\n",
       "      <td>-1</td>\n",
       "    </tr>\n",
       "    <tr>\n",
       "      <th>64175</th>\n",
       "      <td>64175</td>\n",
       "      <td>2.425226e+13</td>\n",
       "      <td>0.0</td>\n",
       "      <td>2016-05-05 13:43:58+00:00</td>\n",
       "      <td>2016-05-04 00:00:00+00:00</td>\n",
       "      <td>22</td>\n",
       "      <td>13.0</td>\n",
       "      <td>0</td>\n",
       "      <td>0</td>\n",
       "      <td>0</td>\n",
       "      <td>0</td>\n",
       "      <td>0</td>\n",
       "      <td>0</td>\n",
       "      <td>1.0</td>\n",
       "      <td>-1</td>\n",
       "    </tr>\n",
       "    <tr>\n",
       "      <th>71533</th>\n",
       "      <td>71533</td>\n",
       "      <td>9.982316e+14</td>\n",
       "      <td>0.0</td>\n",
       "      <td>2016-05-11 13:49:20+00:00</td>\n",
       "      <td>2016-05-05 00:00:00+00:00</td>\n",
       "      <td>81</td>\n",
       "      <td>69.0</td>\n",
       "      <td>0</td>\n",
       "      <td>0</td>\n",
       "      <td>0</td>\n",
       "      <td>0</td>\n",
       "      <td>0</td>\n",
       "      <td>0</td>\n",
       "      <td>1.0</td>\n",
       "      <td>-6</td>\n",
       "    </tr>\n",
       "    <tr>\n",
       "      <th>72362</th>\n",
       "      <td>72362</td>\n",
       "      <td>3.787482e+12</td>\n",
       "      <td>1.0</td>\n",
       "      <td>2016-05-04 06:50:57+00:00</td>\n",
       "      <td>2016-05-03 00:00:00+00:00</td>\n",
       "      <td>7</td>\n",
       "      <td>78.0</td>\n",
       "      <td>0</td>\n",
       "      <td>0</td>\n",
       "      <td>0</td>\n",
       "      <td>0</td>\n",
       "      <td>0</td>\n",
       "      <td>0</td>\n",
       "      <td>1.0</td>\n",
       "      <td>-1</td>\n",
       "    </tr>\n",
       "    <tr>\n",
       "      <th>99832</th>\n",
       "      <td>99832</td>\n",
       "      <td>4.659432e+14</td>\n",
       "      <td>0.0</td>\n",
       "      <td>2016-06-06 08:58:13+00:00</td>\n",
       "      <td>2016-06-06 00:00:00+00:00</td>\n",
       "      <td>-1</td>\n",
       "      <td>60.0</td>\n",
       "      <td>0</td>\n",
       "      <td>0</td>\n",
       "      <td>0</td>\n",
       "      <td>0</td>\n",
       "      <td>0</td>\n",
       "      <td>0</td>\n",
       "      <td>0.0</td>\n",
       "      <td>0</td>\n",
       "    </tr>\n",
       "  </tbody>\n",
       "</table></div>"
      ],
      "text/plain": [
       "       index     PatientId  Gender              ScheduledDay  \\\n",
       "27033  27033  7.839273e+12     1.0 2016-05-10 10:51:53+00:00   \n",
       "55226  55226  7.896294e+12     0.0 2016-05-18 14:50:41+00:00   \n",
       "64175  64175  2.425226e+13     0.0 2016-05-05 13:43:58+00:00   \n",
       "71533  71533  9.982316e+14     0.0 2016-05-11 13:49:20+00:00   \n",
       "72362  72362  3.787482e+12     1.0 2016-05-04 06:50:57+00:00   \n",
       "99832  99832  4.659432e+14     0.0 2016-06-06 08:58:13+00:00   \n",
       "\n",
       "                 AppointmentDay  Age  Neighbourhood  Scholarship  \\\n",
       "27033 2016-05-09 00:00:00+00:00   38           59.0            0   \n",
       "55226 2016-05-17 00:00:00+00:00   19           69.0            0   \n",
       "64175 2016-05-04 00:00:00+00:00   22           13.0            0   \n",
       "71533 2016-05-05 00:00:00+00:00   81           69.0            0   \n",
       "72362 2016-05-03 00:00:00+00:00    7           78.0            0   \n",
       "99832 2016-06-06 00:00:00+00:00   -1           60.0            0   \n",
       "\n",
       "       Hypertension  Diabetes  Alcoholism  Handcap  SMS_received  No-show  \\\n",
       "27033             0         0           0        1             0      1.0   \n",
       "55226             0         0           0        1             0      1.0   \n",
       "64175             0         0           0        0             0      1.0   \n",
       "71533             0         0           0        0             0      1.0   \n",
       "72362             0         0           0        0             0      1.0   \n",
       "99832             0         0           0        0             0      0.0   \n",
       "\n",
       "       AwaitingTime  \n",
       "27033            -1  \n",
       "55226            -1  \n",
       "64175            -1  \n",
       "71533            -6  \n",
       "72362            -1  \n",
       "99832             0  "
      ]
     },
     "execution_count": 8,
     "metadata": {},
     "output_type": "execute_result"
    },
    {
     "data": {
      "text/plain": [
       "array([-1,  0,  1,  2,  3,  4,  5,  6,  7,  8])"
      ]
     },
     "execution_count": 8,
     "metadata": {},
     "output_type": "execute_result"
    }
   ],
   "source": [
    "df.query(\"Age==-1 or AwaitingTime<0\")\n",
    "df.sort_values(by=\"Age\", ascending=True)[\"Age\"].unique()[:10]\n",
    "df = df.drop(index=df.query(\"Age==-1 or AwaitingTime<0\").index)\n"
   ]
  },
  {
   "cell_type": "markdown",
   "metadata": {},
   "source": [
    "As we can see here, we have several recordings with negative awaiting time, we delete them. We also see, that we have a recording with negative age."
   ]
  },
  {
   "cell_type": "markdown",
   "metadata": {},
   "source": [
    "Now and further 1 will encode a group who didn't come, and 0 who come."
   ]
  },
  {
   "cell_type": "markdown",
   "metadata": {
    "pycharm": {
     "name": "#%% md\n"
    }
   },
   "source": [
    "Now let's view at the distributions of the categorical variables, in order to do so,\n",
    "let's build bar plots, and  histogram for age, one more bar plot will include all the neighborhoods."
   ]
  },
  {
   "cell_type": "code",
   "execution_count": 9,
   "metadata": {},
   "outputs": [],
   "source": [
    "show_opts = [\n",
    "    1.0,\n",
    "    0.0,\n",
    "]\n",
    "show_opt = pn.widgets.Select(name=\"No-show\", options=show_opts)\n",
    "idf = df.interactive()\n",
    "data_pipeline = idf[idf[\"No-show\"] == show_opt]\n"
   ]
  },
  {
   "cell_type": "code",
   "execution_count": 10,
   "metadata": {},
   "outputs": [
    {
     "data": {},
     "metadata": {},
     "output_type": "display_data"
    },
    {
     "data": {
      "application/vnd.holoviews_exec.v0+json": "",
      "text/html": [
       "<div id='1100'>\n",
       "\n",
       "\n",
       "\n",
       "\n",
       "\n",
       "  <div class=\"bk-root\" id=\"b0a236db-a178-4fbf-816f-4905d01d8f0b\" data-root-id=\"1100\"></div>\n",
       "</div>\n",
       "<script type=\"application/javascript\">(function(root) {\n",
       "  function embed_document(root) {\n",
       "    var docs_json = {\"55f7ce25-c87c-4939-aa13-35f89eb23736\":{\"defs\":[{\"extends\":null,\"module\":null,\"name\":\"ReactiveHTML1\",\"overrides\":[],\"properties\":[]},{\"extends\":null,\"module\":null,\"name\":\"FlexBox1\",\"overrides\":[],\"properties\":[{\"default\":\"flex-start\",\"kind\":null,\"name\":\"align_content\"},{\"default\":\"flex-start\",\"kind\":null,\"name\":\"align_items\"},{\"default\":\"row\",\"kind\":null,\"name\":\"flex_direction\"},{\"default\":\"wrap\",\"kind\":null,\"name\":\"flex_wrap\"},{\"default\":\"flex-start\",\"kind\":null,\"name\":\"justify_content\"}]},{\"extends\":null,\"module\":null,\"name\":\"GridStack1\",\"overrides\":[],\"properties\":[{\"default\":\"warn\",\"kind\":null,\"name\":\"mode\"},{\"default\":null,\"kind\":null,\"name\":\"ncols\"},{\"default\":null,\"kind\":null,\"name\":\"nrows\"},{\"default\":true,\"kind\":null,\"name\":\"allow_resize\"},{\"default\":true,\"kind\":null,\"name\":\"allow_drag\"},{\"default\":[],\"kind\":null,\"name\":\"state\"}]},{\"extends\":null,\"module\":null,\"name\":\"click1\",\"overrides\":[],\"properties\":[{\"default\":\"\",\"kind\":null,\"name\":\"terminal_output\"},{\"default\":\"\",\"kind\":null,\"name\":\"debug_name\"},{\"default\":0,\"kind\":null,\"name\":\"clears\"}]},{\"extends\":null,\"module\":null,\"name\":\"TemplateActions1\",\"overrides\":[],\"properties\":[{\"default\":0,\"kind\":null,\"name\":\"open_modal\"},{\"default\":0,\"kind\":null,\"name\":\"close_modal\"}]},{\"extends\":null,\"module\":null,\"name\":\"MaterialTemplateActions1\",\"overrides\":[],\"properties\":[{\"default\":0,\"kind\":null,\"name\":\"open_modal\"},{\"default\":0,\"kind\":null,\"name\":\"close_modal\"}]}],\"roots\":{\"references\":[{\"attributes\":{\"margin\":[5,5,5,5],\"name\":\"HSpacer01960\",\"sizing_mode\":\"stretch_width\"},\"id\":\"1170\",\"type\":\"Spacer\"},{\"attributes\":{\"source\":{\"id\":\"1135\"}},\"id\":\"1142\",\"type\":\"CDSView\"},{\"attributes\":{},\"id\":\"1122\",\"type\":\"SaveTool\"},{\"attributes\":{},\"id\":\"1123\",\"type\":\"PanTool\"},{\"attributes\":{},\"id\":\"1124\",\"type\":\"WheelZoomTool\"},{\"attributes\":{},\"id\":\"1157\",\"type\":\"UnionRenderers\"},{\"attributes\":{\"overlay\":{\"id\":\"1127\"}},\"id\":\"1125\",\"type\":\"BoxZoomTool\"},{\"attributes\":{},\"id\":\"1145\",\"type\":\"BasicTickFormatter\"},{\"attributes\":{},\"id\":\"1126\",\"type\":\"ResetTool\"},{\"attributes\":{},\"id\":\"1148\",\"type\":\"BasicTickFormatter\"},{\"attributes\":{\"bottom_units\":\"screen\",\"coordinates\":null,\"fill_alpha\":0.5,\"fill_color\":\"lightgrey\",\"group\":null,\"left_units\":\"screen\",\"level\":\"overlay\",\"line_alpha\":1.0,\"line_color\":\"black\",\"line_dash\":[4,4],\"line_width\":2,\"right_units\":\"screen\",\"syncable\":false,\"top_units\":\"screen\"},\"id\":\"1127\",\"type\":\"BoxAnnotation\"},{\"attributes\":{\"end\":12904.1,\"reset_end\":12904.1,\"reset_start\":0.0,\"tags\":[[[\"Age_count\",\"Count\",null]]]},\"id\":\"1103\",\"type\":\"Range1d\"},{\"attributes\":{\"tools\":[{\"id\":\"1104\"},{\"id\":\"1122\"},{\"id\":\"1123\"},{\"id\":\"1124\"},{\"id\":\"1125\"},{\"id\":\"1126\"}]},\"id\":\"1128\",\"type\":\"Toolbar\"},{\"attributes\":{},\"id\":\"1149\",\"type\":\"AllLabels\"},{\"attributes\":{},\"id\":\"1115\",\"type\":\"BasicTicker\"},{\"attributes\":{\"coordinates\":null,\"data_source\":{\"id\":\"1135\"},\"glyph\":{\"id\":\"1138\"},\"group\":null,\"hover_glyph\":null,\"muted_glyph\":{\"id\":\"1140\"},\"nonselection_glyph\":{\"id\":\"1139\"},\"selection_glyph\":{\"id\":\"1143\"},\"view\":{\"id\":\"1142\"}},\"id\":\"1141\",\"type\":\"GlyphRenderer\"},{\"attributes\":{\"coordinates\":null,\"group\":null,\"text\":\"Histogram for Ages\",\"text_color\":\"black\",\"text_font_size\":\"12pt\"},\"id\":\"1106\",\"type\":\"Title\"},{\"attributes\":{\"callback\":null,\"renderers\":[{\"id\":\"1141\"}],\"tags\":[\"hv_created\"],\"tooltips\":[[\"Age\",\"@{Age}\"],[\"Count\",\"@{Age_count}\"]]},\"id\":\"1104\",\"type\":\"HoverTool\"},{\"attributes\":{},\"id\":\"1146\",\"type\":\"AllLabels\"},{\"attributes\":{\"bottom\":{\"value\":0},\"fill_color\":{\"value\":\"#30a2da\"},\"hatch_color\":{\"value\":\"#30a2da\"},\"left\":{\"field\":\"left\"},\"right\":{\"field\":\"right\"},\"top\":{\"field\":\"top\"}},\"id\":\"1138\",\"type\":\"Quad\"},{\"attributes\":{\"end\":119.92857142857143,\"reset_end\":119.92857142857143,\"reset_start\":-4.928571428571429,\"start\":-4.928571428571429,\"tags\":[[[\"Age\",\"Age\",null]]]},\"id\":\"1102\",\"type\":\"Range1d\"},{\"attributes\":{},\"id\":\"1136\",\"type\":\"Selection\"},{\"attributes\":{\"bottom\":{\"value\":0},\"fill_alpha\":{\"value\":0.1},\"fill_color\":{\"value\":\"#30a2da\"},\"hatch_alpha\":{\"value\":0.1},\"hatch_color\":{\"value\":\"#30a2da\"},\"left\":{\"field\":\"left\"},\"line_alpha\":{\"value\":0.1},\"right\":{\"field\":\"right\"},\"top\":{\"field\":\"top\"}},\"id\":\"1139\",\"type\":\"Quad\"},{\"attributes\":{\"data\":{\"Age\":{\"__ndarray__\":\"AAAAAAAAB0AAAAAAAEAhQAAAAAAAwCxAAAAAAAAgNEAAAAAAAOA5QAAAAAAAoD9AAAAAAACwQkAAAAAAAJBFQAAAAAAAcEhAAAAAAABQS0AAAAAAADBOQAAAAAAAiFBAAAAAAAD4UUAAAAAAAGhTQAAAAAAA2FRAAAAAAABIVkAAAAAAALhXQAAAAAAAKFlAAAAAAACYWkAAAAAAAAhcQA==\",\"dtype\":\"float64\",\"order\":\"little\",\"shape\":[20]},\"Age_count\":[11731,8212,7435,7295,8031,8918,9057,6902,9085,9590,8533,5604,4193,3084,1951,658,224,13,0,5],\"left\":{\"__ndarray__\":\"AAAAAAAAAAAAAAAAAAAXQAAAAAAAACdAAAAAAABAMUAAAAAAAAA3QAAAAAAAwDxAAAAAAABAQUAAAAAAACBEQAAAAAAAAEdAAAAAAADgSUAAAAAAAMBMQAAAAAAAoE9AAAAAAABAUUAAAAAAALBSQAAAAAAAIFRAAAAAAACQVUAAAAAAAABXQAAAAAAAcFhAAAAAAADgWUAAAAAAAFBbQA==\",\"dtype\":\"float64\",\"order\":\"little\",\"shape\":[20]},\"right\":{\"__ndarray__\":\"AAAAAAAAF0AAAAAAAAAnQAAAAAAAQDFAAAAAAAAAN0AAAAAAAMA8QAAAAAAAQEFAAAAAAAAgREAAAAAAAABHQAAAAAAA4ElAAAAAAADATEAAAAAAAKBPQAAAAAAAQFFAAAAAAACwUkAAAAAAACBUQAAAAAAAkFVAAAAAAAAAV0AAAAAAAHBYQAAAAAAA4FlAAAAAAABQW0AAAAAAAMBcQA==\",\"dtype\":\"float64\",\"order\":\"little\",\"shape\":[20]},\"top\":[11731,8212,7435,7295,8031,8918,9057,6902,9085,9590,8533,5604,4193,3084,1951,658,224,13,0,5]},\"selected\":{\"id\":\"1136\"},\"selection_policy\":{\"id\":\"1157\"}},\"id\":\"1135\",\"type\":\"ColumnDataSource\"},{\"attributes\":{},\"id\":\"1112\",\"type\":\"LinearScale\"},{\"attributes\":{\"bottom\":{\"value\":0},\"fill_alpha\":{\"value\":1.0},\"fill_color\":{\"value\":\"#30a2da\"},\"hatch_alpha\":{\"value\":1.0},\"hatch_color\":{\"value\":\"#30a2da\"},\"hatch_scale\":{\"value\":12.0},\"hatch_weight\":{\"value\":1.0},\"left\":{\"field\":\"left\"},\"line_alpha\":{\"value\":1.0},\"line_cap\":{\"value\":\"butt\"},\"line_color\":{\"value\":\"black\"},\"line_dash\":{\"value\":[]},\"line_dash_offset\":{\"value\":0},\"line_join\":{\"value\":\"bevel\"},\"line_width\":{\"value\":1},\"right\":{\"field\":\"right\"},\"top\":{\"field\":\"top\"}},\"id\":\"1143\",\"type\":\"Quad\"},{\"attributes\":{\"below\":[{\"id\":\"1114\"}],\"center\":[{\"id\":\"1117\"},{\"id\":\"1121\"}],\"height\":300,\"left\":[{\"id\":\"1118\"}],\"margin\":[5,5,5,5],\"min_border_bottom\":10,\"min_border_left\":10,\"min_border_right\":10,\"min_border_top\":10,\"renderers\":[{\"id\":\"1141\"}],\"sizing_mode\":\"fixed\",\"title\":{\"id\":\"1106\"},\"toolbar\":{\"id\":\"1128\"},\"width\":700,\"x_range\":{\"id\":\"1102\"},\"x_scale\":{\"id\":\"1110\"},\"y_range\":{\"id\":\"1103\"},\"y_scale\":{\"id\":\"1112\"}},\"id\":\"1105\",\"subtype\":\"Figure\",\"type\":\"Plot\"},{\"attributes\":{\"axis\":{\"id\":\"1118\"},\"coordinates\":null,\"dimension\":1,\"grid_line_color\":null,\"group\":null,\"ticker\":null},\"id\":\"1121\",\"type\":\"Grid\"},{\"attributes\":{},\"id\":\"1110\",\"type\":\"LinearScale\"},{\"attributes\":{\"axis\":{\"id\":\"1114\"},\"coordinates\":null,\"grid_line_color\":null,\"group\":null,\"ticker\":null},\"id\":\"1117\",\"type\":\"Grid\"},{\"attributes\":{\"bottom\":{\"value\":0},\"fill_alpha\":{\"value\":0.2},\"fill_color\":{\"value\":\"#30a2da\"},\"hatch_alpha\":{\"value\":0.2},\"hatch_color\":{\"value\":\"#30a2da\"},\"left\":{\"field\":\"left\"},\"line_alpha\":{\"value\":0.2},\"right\":{\"field\":\"right\"},\"top\":{\"field\":\"top\"}},\"id\":\"1140\",\"type\":\"Quad\"},{\"attributes\":{\"axis_label\":\"Age\",\"coordinates\":null,\"formatter\":{\"id\":\"1145\"},\"group\":null,\"major_label_policy\":{\"id\":\"1146\"},\"ticker\":{\"id\":\"1115\"}},\"id\":\"1114\",\"type\":\"LinearAxis\"},{\"attributes\":{\"children\":[{\"id\":\"1101\"},{\"id\":\"1105\"},{\"id\":\"1170\"}],\"margin\":[0,0,0,0],\"name\":\"Row01955\",\"tags\":[\"embedded\"]},\"id\":\"1100\",\"type\":\"Row\"},{\"attributes\":{\"axis_label\":\"\",\"coordinates\":null,\"formatter\":{\"id\":\"1148\"},\"group\":null,\"major_label_policy\":{\"id\":\"1149\"},\"ticker\":{\"id\":\"1119\"}},\"id\":\"1118\",\"type\":\"LinearAxis\"},{\"attributes\":{\"margin\":[5,5,5,5],\"name\":\"HSpacer01959\",\"sizing_mode\":\"stretch_width\"},\"id\":\"1101\",\"type\":\"Spacer\"},{\"attributes\":{},\"id\":\"1119\",\"type\":\"BasicTicker\"}],\"root_ids\":[\"1100\"]},\"title\":\"Bokeh Application\",\"version\":\"2.4.2\"}};\n",
       "    var render_items = [{\"docid\":\"55f7ce25-c87c-4939-aa13-35f89eb23736\",\"root_ids\":[\"1100\"],\"roots\":{\"1100\":\"b0a236db-a178-4fbf-816f-4905d01d8f0b\"}}];\n",
       "    root.Bokeh.embed.embed_items_notebook(docs_json, render_items);\n",
       "  }\n",
       "  if (root.Bokeh !== undefined && root.Bokeh.Panel !== undefined) {\n",
       "    embed_document(root);\n",
       "  } else {\n",
       "    var attempts = 0;\n",
       "    var timer = setInterval(function(root) {\n",
       "      if (root.Bokeh !== undefined && root.Bokeh.Panel !== undefined) {\n",
       "        clearInterval(timer);\n",
       "        embed_document(root);\n",
       "      } else if (document.readyState == \"complete\") {\n",
       "        attempts++;\n",
       "        if (attempts > 200) {\n",
       "          clearInterval(timer);\n",
       "          console.log(\"Bokeh: ERROR: Unable to run BokehJS code because BokehJS library is missing\");\n",
       "        }\n",
       "      }\n",
       "    }, 25, root)\n",
       "  }\n",
       "})(window);</script>"
      ],
      "text/plain": [
       ":Histogram   [Age]   (Age_count)"
      ]
     },
     "execution_count": 10,
     "metadata": {
      "application/vnd.holoviews_exec.v0+json": {
       "id": "1100"
      }
     },
     "output_type": "execute_result"
    },
    {
     "ename": "NameError",
     "evalue": "name 'text1' is not defined",
     "output_type": "error",
     "traceback": [
      "\u001b[0;31m---------------------------------------------------------------------------\u001b[0m",
      "\u001b[0;31mNameError\u001b[0m                                 Traceback (most recent call last)",
      "Input \u001b[0;32mIn [10]\u001b[0m, in \u001b[0;36m<cell line: 3>\u001b[0;34m()\u001b[0m\n\u001b[1;32m      1\u001b[0m text01 \u001b[38;5;241m=\u001b[39m \u001b[38;5;124m'''\u001b[39m\u001b[38;5;124mFirst, let\u001b[39m\u001b[38;5;124m'\u001b[39m\u001b[38;5;124ms have a look at the distributions of ages and neighbourhoods\u001b[39m\u001b[38;5;124m'''\u001b[39m\n\u001b[1;32m      2\u001b[0m viz1 \u001b[38;5;241m=\u001b[39m df[\u001b[38;5;124m\"\u001b[39m\u001b[38;5;124mAge\u001b[39m\u001b[38;5;124m\"\u001b[39m]\u001b[38;5;241m.\u001b[39mhvplot(kind\u001b[38;5;241m=\u001b[39m\u001b[38;5;124m\"\u001b[39m\u001b[38;5;124mhist\u001b[39m\u001b[38;5;124m\"\u001b[39m, title\u001b[38;5;241m=\u001b[39m\u001b[38;5;124m'\u001b[39m\u001b[38;5;124mHistogram for Ages\u001b[39m\u001b[38;5;124m'\u001b[39m)\n\u001b[0;32m----> 3\u001b[0m viz1; \u001b[43mtext1\u001b[49m\n",
      "\u001b[0;31mNameError\u001b[0m: name 'text1' is not defined"
     ]
    }
   ],
   "source": [
    "text01 = '''First, let's have a look at the distributions of ages and neighbourhoods'''\n",
    "viz1 = df[\"Age\"].hvplot(kind=\"hist\", title='Histogram for Ages')\n",
    "viz1; text1"
   ]
  },
  {
   "cell_type": "code",
   "execution_count": 24,
   "metadata": {},
   "outputs": [
    {
     "data": {},
     "metadata": {},
     "output_type": "display_data"
    },
    {
     "data": {
      "application/vnd.holoviews_exec.v0+json": "",
      "text/html": [
       "<div id='1124'>\n",
       "\n",
       "\n",
       "\n",
       "\n",
       "\n",
       "  <div class=\"bk-root\" id=\"8426a53e-5ee4-47ad-b1c9-92f95cdb052e\" data-root-id=\"1124\"></div>\n",
       "</div>\n",
       "<script type=\"application/javascript\">(function(root) {\n",
       "  function embed_document(root) {\n",
       "    var docs_json = {\"92d95d1b-b47e-4ea3-afa8-d36a12eb3aa1\":{\"defs\":[{\"extends\":null,\"module\":null,\"name\":\"ReactiveHTML1\",\"overrides\":[],\"properties\":[]},{\"extends\":null,\"module\":null,\"name\":\"FlexBox1\",\"overrides\":[],\"properties\":[{\"default\":\"flex-start\",\"kind\":null,\"name\":\"align_content\"},{\"default\":\"flex-start\",\"kind\":null,\"name\":\"align_items\"},{\"default\":\"row\",\"kind\":null,\"name\":\"flex_direction\"},{\"default\":\"wrap\",\"kind\":null,\"name\":\"flex_wrap\"},{\"default\":\"flex-start\",\"kind\":null,\"name\":\"justify_content\"}]},{\"extends\":null,\"module\":null,\"name\":\"GridStack1\",\"overrides\":[],\"properties\":[{\"default\":\"warn\",\"kind\":null,\"name\":\"mode\"},{\"default\":null,\"kind\":null,\"name\":\"ncols\"},{\"default\":null,\"kind\":null,\"name\":\"nrows\"},{\"default\":true,\"kind\":null,\"name\":\"allow_resize\"},{\"default\":true,\"kind\":null,\"name\":\"allow_drag\"},{\"default\":[],\"kind\":null,\"name\":\"state\"}]},{\"extends\":null,\"module\":null,\"name\":\"click1\",\"overrides\":[],\"properties\":[{\"default\":\"\",\"kind\":null,\"name\":\"terminal_output\"},{\"default\":\"\",\"kind\":null,\"name\":\"debug_name\"},{\"default\":0,\"kind\":null,\"name\":\"clears\"}]},{\"extends\":null,\"module\":null,\"name\":\"TemplateActions1\",\"overrides\":[],\"properties\":[{\"default\":0,\"kind\":null,\"name\":\"open_modal\"},{\"default\":0,\"kind\":null,\"name\":\"close_modal\"}]},{\"extends\":null,\"module\":null,\"name\":\"MaterialTemplateActions1\",\"overrides\":[],\"properties\":[{\"default\":0,\"kind\":null,\"name\":\"open_modal\"},{\"default\":0,\"kind\":null,\"name\":\"close_modal\"}]}],\"roots\":{\"references\":[{\"attributes\":{\"data\":{\"Neighbourhood\":{\"__ndarray__\":\"AAAAAAAAAAAAAAAAAAAAAAAAAAAAAPA/AAAAAAAA8D8AAAAAAAAAQAAAAAAAAABAAAAAAAAACEAAAAAAAAAIQAAAAAAAABBAAAAAAAAAEEAAAAAAAAAUQAAAAAAAABRAAAAAAAAAGEAAAAAAAAAYQAAAAAAAABxAAAAAAAAAHEAAAAAAAAAgQAAAAAAAACBAAAAAAAAAIkAAAAAAAAAiQAAAAAAAACRAAAAAAAAAJEAAAAAAAAAmQAAAAAAAACZAAAAAAAAAKEAAAAAAAAAoQAAAAAAAACpAAAAAAAAAKkAAAAAAAAAsQAAAAAAAACxAAAAAAAAALkAAAAAAAAAuQAAAAAAAADBAAAAAAAAAMEAAAAAAAAAxQAAAAAAAADFAAAAAAAAAMkAAAAAAAAAyQAAAAAAAADNAAAAAAAAAM0AAAAAAAAA0QAAAAAAAADRAAAAAAAAANUAAAAAAAAA1QAAAAAAAADZAAAAAAAAANkAAAAAAAAA3QAAAAAAAADdAAAAAAAAAOEAAAAAAAAA4QAAAAAAAADlAAAAAAAAAOUAAAAAAAAA6QAAAAAAAADpAAAAAAAAAO0AAAAAAAAA7QAAAAAAAADxAAAAAAAAAPEAAAAAAAAA9QAAAAAAAAD1AAAAAAAAAPkAAAAAAAAA+QAAAAAAAAD9AAAAAAAAAP0AAAAAAAABAQAAAAAAAAEBAAAAAAACAQEAAAAAAAIBAQAAAAAAAAEFAAAAAAACAQUAAAAAAAIBBQAAAAAAAAEJAAAAAAAAAQkAAAAAAAIBCQAAAAAAAgEJAAAAAAAAAQ0AAAAAAAABDQAAAAAAAgENAAAAAAACAQ0AAAAAAAABEQAAAAAAAAERAAAAAAACAREAAAAAAAIBEQAAAAAAAAEVAAAAAAAAARUAAAAAAAIBFQAAAAAAAgEVAAAAAAAAARkAAAAAAAABGQAAAAAAAgEZAAAAAAACARkAAAAAAAABHQAAAAAAAAEdAAAAAAACAR0AAAAAAAIBHQAAAAAAAAEhAAAAAAAAASEAAAAAAAIBIQAAAAAAAgEhAAAAAAAAASUAAAAAAAABJQAAAAAAAgElAAAAAAAAASkAAAAAAAABKQAAAAAAAgEpAAAAAAACASkAAAAAAAABLQAAAAAAAAEtAAAAAAACAS0AAAAAAAIBLQAAAAAAAAExAAAAAAAAATEAAAAAAAIBMQAAAAAAAgExAAAAAAAAATUAAAAAAAABNQAAAAAAAgE1AAAAAAACATUAAAAAAAABOQAAAAAAAAE5AAAAAAACATkAAAAAAAIBOQAAAAAAAAE9AAAAAAAAAT0AAAAAAAIBPQAAAAAAAgE9AAAAAAAAAUEAAAAAAAABQQAAAAAAAQFBAAAAAAABAUEAAAAAAAIBQQAAAAAAAgFBAAAAAAADAUEAAAAAAAMBQQAAAAAAAAFFAAAAAAAAAUUAAAAAAAEBRQAAAAAAAQFFAAAAAAACAUUAAAAAAAIBRQAAAAAAAwFFAAAAAAADAUUAAAAAAAABSQAAAAAAAAFJAAAAAAABAUkAAAAAAAEBSQAAAAAAAgFJAAAAAAACAUkAAAAAAAMBSQAAAAAAAwFJAAAAAAAAAU0AAAAAAAABTQAAAAAAAQFNAAAAAAABAU0AAAAAAAIBTQAAAAAAAgFNAAAAAAADAU0AAAAAAAMBTQAAAAAAAAFRAAAAAAAAAVEA=\",\"dtype\":\"float64\",\"order\":\"little\",\"shape\":[160]},\"No_hyphen_minus_show\":{\"__ndarray__\":\"AAAAAAAAAAAAAAAAAADwPwAAAAAAAAAAAAAAAAAA8D8AAAAAAAAAAAAAAAAAAPA/AAAAAAAAAAAAAAAAAADwPwAAAAAAAAAAAAAAAAAA8D8AAAAAAAAAAAAAAAAAAPA/AAAAAAAAAAAAAAAAAADwPwAAAAAAAAAAAAAAAAAA8D8AAAAAAAAAAAAAAAAAAPA/AAAAAAAAAAAAAAAAAADwPwAAAAAAAAAAAAAAAAAA8D8AAAAAAAAAAAAAAAAAAPA/AAAAAAAAAAAAAAAAAADwPwAAAAAAAAAAAAAAAAAA8D8AAAAAAAAAAAAAAAAAAPA/AAAAAAAAAAAAAAAAAADwPwAAAAAAAAAAAAAAAAAA8D8AAAAAAAAAAAAAAAAAAPA/AAAAAAAAAAAAAAAAAADwPwAAAAAAAAAAAAAAAAAA8D8AAAAAAAAAAAAAAAAAAPA/AAAAAAAAAAAAAAAAAADwPwAAAAAAAAAAAAAAAAAA8D8AAAAAAAAAAAAAAAAAAPA/AAAAAAAAAAAAAAAAAADwPwAAAAAAAAAAAAAAAAAA8D8AAAAAAAAAAAAAAAAAAPA/AAAAAAAAAAAAAAAAAADwPwAAAAAAAAAAAAAAAAAA8D8AAAAAAAAAAAAAAAAAAPA/AAAAAAAAAAAAAAAAAADwPwAAAAAAAAAAAAAAAAAA8D8AAAAAAAAAAAAAAAAAAPA/AAAAAAAAAAAAAAAAAADwPwAAAAAAAPA/AAAAAAAAAAAAAAAAAADwPwAAAAAAAAAAAAAAAAAA8D8AAAAAAAAAAAAAAAAAAPA/AAAAAAAAAAAAAAAAAADwPwAAAAAAAAAAAAAAAAAA8D8AAAAAAAAAAAAAAAAAAPA/AAAAAAAAAAAAAAAAAADwPwAAAAAAAAAAAAAAAAAA8D8AAAAAAAAAAAAAAAAAAPA/AAAAAAAAAAAAAAAAAADwPwAAAAAAAAAAAAAAAAAA8D8AAAAAAAAAAAAAAAAAAPA/AAAAAAAAAAAAAAAAAADwPwAAAAAAAAAAAAAAAAAA8D8AAAAAAAAAAAAAAAAAAPA/AAAAAAAAAAAAAAAAAADwPwAAAAAAAAAAAAAAAAAAAAAAAAAAAADwPwAAAAAAAAAAAAAAAAAA8D8AAAAAAAAAAAAAAAAAAPA/AAAAAAAAAAAAAAAAAADwPwAAAAAAAAAAAAAAAAAA8D8AAAAAAAAAAAAAAAAAAPA/AAAAAAAAAAAAAAAAAADwPwAAAAAAAAAAAAAAAAAA8D8AAAAAAAAAAAAAAAAAAPA/AAAAAAAAAAAAAAAAAADwPwAAAAAAAAAAAAAAAAAA8D8AAAAAAAAAAAAAAAAAAPA/AAAAAAAAAAAAAAAAAADwPwAAAAAAAAAAAAAAAAAA8D8AAAAAAAAAAAAAAAAAAPA/AAAAAAAAAAAAAAAAAADwPwAAAAAAAAAAAAAAAAAA8D8AAAAAAAAAAAAAAAAAAPA/AAAAAAAAAAAAAAAAAADwPwAAAAAAAAAAAAAAAAAA8D8AAAAAAAAAAAAAAAAAAPA/AAAAAAAAAAAAAAAAAADwPwAAAAAAAAAAAAAAAAAA8D8AAAAAAAAAAAAAAAAAAPA/AAAAAAAAAAAAAAAAAADwPwAAAAAAAAAAAAAAAAAA8D8AAAAAAAAAAAAAAAAAAPA/AAAAAAAAAAAAAAAAAADwPwAAAAAAAAAAAAAAAAAA8D8=\",\"dtype\":\"float64\",\"order\":\"little\",\"shape\":[160]},\"PatientId\":[7,1,1741,521,221,50,220,62,332,91,1523,384,665,193,254,58,2223,550,1974,591,2631,703,254,56,689,160,1139,236,1094,304,1788,429,258,47,472,88,321,92,709,140,183,52,432,106,533,149,1543,346,210,48,563,137,854,217,1562,456,133,42,836,235,1524,361,32,3,8,2,1734,532,2,855,202,2591,923,2058,451,6252,1465,3246,631,2157,696,1169,258,561,133,4586,1219,1478,424,534,110,658,166,80,16,317,54,106,29,1862,402,1,623,179,364,88,57,12,845,190,994,294,1278,275,692,143,3525,905,1740,474,325,123,372,134,141,37,351,77,352,86,2635,496,1060,272,2063,508,2262,482,907,369,435,112,117,28,400,69,1152,287,1473,363,1549,428,1933,515,2559,572,120,32,710,141]},\"selected\":{\"id\":\"1187\"},\"selection_policy\":{\"id\":\"1217\"}},\"id\":\"1186\",\"type\":\"ColumnDataSource\"},{\"attributes\":{\"margin\":[5,5,5,5],\"name\":\"HSpacer02064\",\"sizing_mode\":\"stretch_width\"},\"id\":\"1125\",\"type\":\"Spacer\"},{\"attributes\":{\"format\":\"0,0.0[00000]\"},\"id\":\"1188\",\"type\":\"NumberFormatter\"},{\"attributes\":{\"editor\":{\"id\":\"1194\"},\"field\":\"No_hyphen_minus_show\",\"formatter\":{\"id\":\"1193\"},\"title\":\"No-show\"},\"id\":\"1195\",\"type\":\"TableColumn\"},{\"attributes\":{},\"id\":\"1173\",\"type\":\"AllLabels\"},{\"attributes\":{\"factors\":[\"0\",\"1\"],\"palette\":[\"#30a2da\",\"#fc4f30\"]},\"id\":\"1158\",\"type\":\"CategoricalColorMapper\"},{\"attributes\":{\"tools\":[{\"id\":\"1128\"},{\"id\":\"1145\"},{\"id\":\"1146\"},{\"id\":\"1147\"},{\"id\":\"1148\"},{\"id\":\"1149\"}]},\"id\":\"1151\",\"type\":\"Toolbar\"},{\"attributes\":{\"children\":[{\"id\":\"1125\"},{\"id\":\"1222\"},{\"id\":\"1331\"}],\"margin\":[0,0,0,0],\"name\":\"Row02060\",\"tags\":[\"embedded\"]},\"id\":\"1124\",\"type\":\"Row\"},{\"attributes\":{},\"id\":\"1172\",\"type\":\"CategoricalTickFormatter\"},{\"attributes\":{\"bottom\":{\"field\":\"bottom\"},\"fill_alpha\":{\"value\":0.1},\"fill_color\":{\"field\":\"No_hyphen_minus_show\",\"transform\":{\"id\":\"1158\"}},\"hatch_alpha\":{\"value\":0.1},\"hatch_color\":{\"field\":\"No_hyphen_minus_show\",\"transform\":{\"id\":\"1158\"}},\"line_alpha\":{\"value\":0.1},\"top\":{\"field\":\"top\"},\"width\":{\"value\":0.8},\"x\":{\"field\":\"Neighbourhood\"}},\"id\":\"1163\",\"type\":\"VBar\"},{\"attributes\":{},\"id\":\"1170\",\"type\":\"AllLabels\"},{\"attributes\":{\"margin\":[5,5,5,5],\"name\":\"HSpacer02065\",\"sizing_mode\":\"stretch_width\"},\"id\":\"1331\",\"type\":\"Spacer\"},{\"attributes\":{},\"id\":\"1194\",\"type\":\"NumberEditor\"},{\"attributes\":{\"axis\":{\"id\":\"1138\"},\"coordinates\":null,\"grid_line_color\":null,\"group\":null,\"ticker\":null},\"id\":\"1140\",\"type\":\"Grid\"},{\"attributes\":{},\"id\":\"1174\",\"type\":\"UnionRenderers\"},{\"attributes\":{},\"id\":\"1189\",\"type\":\"NumberEditor\"},{\"attributes\":{},\"id\":\"1147\",\"type\":\"WheelZoomTool\"},{\"attributes\":{},\"id\":\"1134\",\"type\":\"CategoricalScale\"},{\"attributes\":{\"coordinates\":null,\"group\":null,\"text\":\"Neighbourhood\",\"text_color\":\"black\",\"text_font_size\":\"12pt\"},\"id\":\"1130\",\"type\":\"Title\"},{\"attributes\":{\"callback\":null,\"renderers\":[{\"id\":\"1165\"}],\"tags\":[\"hv_created\"],\"tooltips\":[[\"Neighbourhood\",\"@{Neighbourhood}\"],[\"No-show\",\"@{No_hyphen_minus_show}\"],[\"PatientId\",\"@{PatientId}\"]]},\"id\":\"1128\",\"type\":\"HoverTool\"},{\"attributes\":{\"editor\":{\"id\":\"1199\"},\"field\":\"PatientId\",\"formatter\":{\"id\":\"1198\"},\"title\":\"PatientId\"},\"id\":\"1200\",\"type\":\"TableColumn\"},{\"attributes\":{},\"id\":\"1146\",\"type\":\"PanTool\"},{\"attributes\":{\"label\":{\"field\":\"No_hyphen_minus_show\"},\"renderers\":[{\"id\":\"1165\"}]},\"id\":\"1178\",\"type\":\"LegendItem\"},{\"attributes\":{\"columns\":[{\"id\":\"1190\"},{\"id\":\"1195\"},{\"id\":\"1200\"}],\"height\":300,\"reorderable\":false,\"source\":{\"id\":\"1186\"},\"view\":{\"id\":\"1205\"},\"width\":360},\"id\":\"1203\",\"type\":\"DataTable\"},{\"attributes\":{},\"id\":\"1199\",\"type\":\"IntEditor\"},{\"attributes\":{\"below\":[{\"id\":\"1138\"}],\"center\":[{\"id\":\"1140\"},{\"id\":\"1144\"},{\"id\":\"1177\"}],\"height\":300,\"left\":[{\"id\":\"1141\"}],\"margin\":null,\"min_border_bottom\":10,\"min_border_left\":10,\"min_border_right\":10,\"min_border_top\":10,\"renderers\":[{\"id\":\"1165\"}],\"right\":[{\"id\":\"1177\"}],\"sizing_mode\":\"fixed\",\"title\":{\"id\":\"1130\"},\"toolbar\":{\"id\":\"1151\"},\"toolbar_location\":null,\"width\":1024,\"x_range\":{\"id\":\"1126\"},\"x_scale\":{\"id\":\"1134\"},\"y_range\":{\"id\":\"1127\"},\"y_scale\":{\"id\":\"1136\"}},\"id\":\"1129\",\"subtype\":\"Figure\",\"type\":\"Plot\"},{\"attributes\":{\"bottom\":{\"field\":\"bottom\"},\"fill_alpha\":{\"value\":1.0},\"fill_color\":{\"field\":\"No_hyphen_minus_show\",\"transform\":{\"id\":\"1158\"}},\"hatch_alpha\":{\"value\":1.0},\"hatch_color\":{\"field\":\"No_hyphen_minus_show\",\"transform\":{\"id\":\"1158\"}},\"hatch_scale\":{\"value\":12.0},\"hatch_weight\":{\"value\":1.0},\"line_alpha\":{\"value\":1.0},\"line_cap\":{\"value\":\"butt\"},\"line_color\":{\"value\":\"black\"},\"line_dash\":{\"value\":[]},\"line_dash_offset\":{\"value\":0},\"line_join\":{\"value\":\"bevel\"},\"line_width\":{\"value\":1},\"top\":{\"field\":\"top\"},\"width\":{\"value\":0.8},\"x\":{\"field\":\"Neighbourhood\"}},\"id\":\"1179\",\"type\":\"VBar\"},{\"attributes\":{\"bottom\":{\"field\":\"bottom\"},\"fill_alpha\":{\"value\":0.2},\"fill_color\":{\"field\":\"No_hyphen_minus_show\",\"transform\":{\"id\":\"1158\"}},\"hatch_alpha\":{\"value\":0.2},\"hatch_color\":{\"field\":\"No_hyphen_minus_show\",\"transform\":{\"id\":\"1158\"}},\"line_alpha\":{\"value\":0.2},\"top\":{\"field\":\"top\"},\"width\":{\"value\":0.8},\"x\":{\"field\":\"Neighbourhood\"}},\"id\":\"1164\",\"type\":\"VBar\"},{\"attributes\":{},\"id\":\"1198\",\"type\":\"NumberFormatter\"},{\"attributes\":{\"bottom_units\":\"screen\",\"coordinates\":null,\"fill_alpha\":0.5,\"fill_color\":\"lightgrey\",\"group\":null,\"left_units\":\"screen\",\"level\":\"overlay\",\"line_alpha\":1.0,\"line_color\":\"black\",\"line_dash\":[4,4],\"line_width\":2,\"right_units\":\"screen\",\"syncable\":false,\"top_units\":\"screen\"},\"id\":\"1150\",\"type\":\"BoxAnnotation\"},{\"attributes\":{},\"id\":\"1187\",\"type\":\"Selection\"},{\"attributes\":{\"data\":{\"Neighbourhood\":[\"0\",\"52\",\"51\",\"50\",\"49\",\"48\",\"47\",\"46\",\"45\",\"44\",\"43\",\"42\",\"41\",\"80\",\"39\",\"38\",\"37\",\"36\",\"35\",\"33\",\"32\",\"31\",\"30\",\"29\",\"53\",\"28\",\"54\",\"56\",\"79\",\"78\",\"77\",\"76\",\"75\",\"74\",\"73\",\"72\",\"71\",\"70\",\"69\",\"68\",\"67\",\"66\",\"65\",\"64\",\"63\",\"62\",\"61\",\"60\",\"59\",\"58\",\"57\",\"55\",\"27\",\"40\",\"26\",\"19\",\"18\",\"17\",\"16\",\"15\",\"14\",\"12\",\"11\",\"20\",\"10\",\"8\",\"7\",\"6\",\"5\",\"4\",\"3\",\"2\",\"1\",\"9\",\"21\",\"13\",\"25\",\"23\",\"24\",\"22\",\"38\",\"68\",\"24\",\"67\",\"6\",\"66\",\"30\",\"65\",\"7\",\"64\",\"63\",\"8\",\"62\",\"31\",\"61\",\"5\",\"69\",\"70\",\"9\",\"79\",\"0\",\"78\",\"27\",\"77\",\"1\",\"76\",\"25\",\"75\",\"2\",\"74\",\"28\",\"73\",\"3\",\"72\",\"71\",\"4\",\"29\",\"60\",\"59\",\"37\",\"47\",\"16\",\"46\",\"35\",\"45\",\"17\",\"44\",\"43\",\"18\",\"42\",\"36\",\"41\",\"19\",\"40\",\"21\",\"39\",\"20\",\"22\",\"23\",\"48\",\"49\",\"10\",\"58\",\"32\",\"57\",\"11\",\"56\",\"55\",\"12\",\"54\",\"26\",\"53\",\"13\",\"52\",\"33\",\"14\",\"50\",\"34\",\"15\",\"80\"],\"No_hyphen_minus_show\":[\"0\",\"0\",\"0\",\"0\",\"0\",\"0\",\"0\",\"0\",\"0\",\"0\",\"0\",\"0\",\"0\",\"0\",\"0\",\"0\",\"0\",\"0\",\"0\",\"0\",\"0\",\"0\",\"0\",\"0\",\"0\",\"0\",\"0\",\"0\",\"0\",\"0\",\"0\",\"0\",\"0\",\"0\",\"0\",\"0\",\"0\",\"0\",\"0\",\"0\",\"0\",\"0\",\"0\",\"0\",\"0\",\"0\",\"0\",\"0\",\"0\",\"0\",\"0\",\"0\",\"0\",\"0\",\"0\",\"0\",\"0\",\"0\",\"0\",\"0\",\"0\",\"0\",\"0\",\"0\",\"0\",\"0\",\"0\",\"0\",\"0\",\"0\",\"0\",\"0\",\"0\",\"0\",\"0\",\"0\",\"0\",\"0\",\"0\",\"0\",\"1\",\"1\",\"1\",\"1\",\"1\",\"1\",\"1\",\"1\",\"1\",\"1\",\"1\",\"1\",\"1\",\"1\",\"1\",\"1\",\"1\",\"1\",\"1\",\"1\",\"1\",\"1\",\"1\",\"1\",\"1\",\"1\",\"1\",\"1\",\"1\",\"1\",\"1\",\"1\",\"1\",\"1\",\"1\",\"1\",\"1\",\"1\",\"1\",\"1\",\"1\",\"1\",\"1\",\"1\",\"1\",\"1\",\"1\",\"1\",\"1\",\"1\",\"1\",\"1\",\"1\",\"1\",\"1\",\"1\",\"1\",\"1\",\"1\",\"1\",\"1\",\"1\",\"1\",\"1\",\"1\",\"1\",\"1\",\"1\",\"1\",\"1\",\"1\",\"1\",\"1\",\"1\",\"1\",\"1\",\"1\",\"1\",\"1\",\"1\"],\"PatientId\":[7,623,1,1862,106,317,80,658,534,1478,4586,561,1169,710,3246,6252,2058,2591,855,1734,8,32,1524,836,364,133,57,994,120,2559,1933,1549,1473,1152,400,117,435,907,2262,2063,1060,2635,352,351,141,372,325,1740,3525,692,1278,845,1562,2157,854,709,321,472,258,1788,1094,689,254,183,2631,2223,254,665,1523,332,220,221,1741,1974,432,1139,563,1543,210,533,1465,508,48,272,193,496,361,86,58,77,37,550,134,3,123,384,482,369,591,32,1,572,456,515,521,428,137,363,50,287,42,69,62,28,112,91,235,474,905,451,16,47,166,202,110,88,424,1219,92,133,923,258,140,696,106,631,52,149,346,54,29,703,143,2,275,56,294,190,160,12,217,88,236,179,532,304,402,2,429,141],\"bottom\":{\"__ndarray__\":\"AAAAAAAAAAAAAAAAAAAAAAAAAAAAAAAAAAAAAAAAAAAAAAAAAAAAAAAAAAAAAAAAAAAAAAAAAAAAAAAAAAAAAAAAAAAAAAAAAAAAAAAAAAAAAAAAAAAAAAAAAAAAAAAAAAAAAAAAAAAAAAAAAAAAAAAAAAAAAAAAAAAAAAAAAAAAAAAAAAAAAAAAAAAAAAAAAAAAAAAAAAAAAAAAAAAAAAAAAAAAAAAAAAAAAAAAAAAAAAAAAAAAAAAAAAAAAAAAAAAAAAAAAAAAAAAAAAAAAAAAAAAAAAAAAAAAAAAAAAAAAAAAAAAAAAAAAAAAAAAAAAAAAAAAAAAAAAAAAAAAAAAAAAAAAAAAAAAAAAAAAAAAAAAAAAAAAAAAAAAAAAAAAAAAAAAAAAAAAAAAAAAAAAAAAAAAAAAAAAAAAAAAAAAAAAAAAAAAAAAAAAAAAAAAAAAAAAAAAAAAAAAAAAAAAAAAAAAAAAAAAAAAAAAAAAAAAAAAAAAAAAAAAAAAAAAAAAAAAAAAAAAAAAAAAAAAAAAAAAAAAAAAAAAAAAAAAAAAAAAAAAAAAAAAAAAAAAAAAAAAAAAAAAAAAAAAAAAAAAAAAAAAAAAAAAAAAAAAAAAAAAAAAAAAAAAAAAAAAAAAAAAAAAAAAAAAAAAAAAAAAAAAAAAAAAAAAAAAAAAAAAAAAAAAAAAAAAAAAAAAAAAAAAAAAAAAAAAAAAAAAAAAAAAAAAAAAAAAAAAAAAAAAAAAAAAAAAAAAAAAAAAAAAAAAAAAAAAAAAAAAAAAAAAAAAAAAAAAAAAAAAAAAAAAAAAAAAAAAAAAAAAAAAAAAAAAAAAAAAAAAAAAAAAAAAAAAAAAAAAAbLhAAAAAAAAeoEAAAAAAAEBqQAAAAAAAkJBAAAAAAADIhEAAAAAAAJakQAAAAAAA0JdAAAAAAAAAdkAAAAAAAMBvQAAAAAAA8HVAAAAAAACgYUAAAAAAAF6hQAAAAAAAQHdAAAAAAAAAQEAAAAAAAFB0QAAAAAAAzJdAAAAAAACsoUAAAAAAAFiMQAAAAAAA2J5AAAAAAAAAXkAAAAAAAAAcQAAAAAAA/qNAAAAAAABomEAAAAAAADSeQAAAAAAANJtAAAAAAAA0mEAAAAAAAJiBQAAAAAAABJdAAAAAAACga0AAAAAAAACSQAAAAAAAoGBAAAAAAAAAeUAAAAAAAIBrQAAAAAAAQF1AAAAAAAAwe0AAAAAAAMB0QAAAAAAAIIpAAAAAAAAwm0AAAAAAAIqrQAAAAAAAFKBAAAAAAAAAVEAAAAAAACBwQAAAAAAAkIRAAAAAAAC4ikAAAAAAALCAQAAAAAAAgH1AAAAAAAAYl0AAAAAAAOqxQAAAAAAAEHRAAAAAAACIgUAAAAAAAD6kQAAAAAAARJJAAAAAAAAohkAAAAAAANqgQAAAAAAAAHtAAAAAAABcqUAAAAAAAOBmQAAAAAAAqIBAAAAAAAAcmEAAAAAAANBzQAAAAAAAgFpAAAAAAACOpEAAAAAAAKCFQAAAAAAAACBAAAAAAAD4k0AAAAAAAMBvQAAAAAAAEI9AAAAAAABoikAAAAAAAIiFQAAAAAAAgExAAAAAAACwikAAAAAAAMB2QAAAAAAAzJFAAAAAAAB4g0AAAAAAABibQAAAAAAAGJFAAAAAAAAYnUAAAAAAAAAAAAAAAAAA8JtAAAAAAAAwhkA=\",\"dtype\":\"float64\",\"order\":\"little\",\"shape\":[160]},\"top\":{\"__ndarray__\":\"AAAAAAAAHEAAAAAAAHiDQAAAAAAAAPA/AAAAAAAYnUAAAAAAAIBaQAAAAAAA0HNAAAAAAAAAVEAAAAAAAJCEQAAAAAAAsIBAAAAAAAAYl0AAAAAAAOqxQAAAAAAAiIFAAAAAAABEkkAAAAAAADCGQAAAAAAAXKlAAAAAAABsuEAAAAAAABSgQAAAAAAAPqRAAAAAAAC4ikAAAAAAABibQAAAAAAAACBAAAAAAAAAQEAAAAAAANCXQAAAAAAAIIpAAAAAAADAdkAAAAAAAKBgQAAAAAAAgExAAAAAAAAQj0AAAAAAAABeQAAAAAAA/qNAAAAAAAA0nkAAAAAAADSYQAAAAAAABJdAAAAAAAAAkkAAAAAAAAB5QAAAAAAAQF1AAAAAAAAwe0AAAAAAAFiMQAAAAAAArKFAAAAAAAAeoEAAAAAAAJCQQAAAAAAAlqRAAAAAAAAAdkAAAAAAAPB1QAAAAAAAoGFAAAAAAABAd0AAAAAAAFB0QAAAAAAAMJtAAAAAAACKq0AAAAAAAKCFQAAAAAAA+JNAAAAAAABoikAAAAAAAGiYQAAAAAAA2qBAAAAAAACwikAAAAAAACiGQAAAAAAAEHRAAAAAAACAfUAAAAAAACBwQAAAAAAA8JtAAAAAAAAYkUAAAAAAAIiFQAAAAAAAwG9AAAAAAADgZkAAAAAAAI6kQAAAAAAAXqFAAAAAAADAb0AAAAAAAMiEQAAAAAAAzJdAAAAAAADAdEAAAAAAAIBrQAAAAAAAoGtAAAAAAAA0m0AAAAAAANieQAAAAAAAAHtAAAAAAADMkUAAAAAAAJiBQAAAAAAAHJhAAAAAAABAakAAAAAAAKiAQAAAAAAAJb5AAAAAAAAWpEAAAAAAACBwQAAAAAAA0JRAAAAAAADQikAAAAAAAHaoQAAAAAAAdJ1AAAAAAABge0AAAAAAAIBzQAAAAAAAwHpAAAAAAABAZkAAAAAAAKqlQAAAAAAAoH9AAAAAAACAQUAAAAAAAAB8QAAAAAAAzJ1AAAAAAABwpUAAAAAAAPCTQAAAAAAACqRAAAAAAAAAY0AAAAAAAAAgQAAAAAAAdqhAAAAAAACIn0AAAAAAACCjQAAAAAAArKFAAAAAAADknkAAAAAAAOCFQAAAAAAAsJxAAAAAAADwcEAAAAAAAHyWQAAAAAAA4GVAAAAAAABQfUAAAAAAAKBxQAAAAAAAIGJAAAAAAAAYgUAAAAAAAHB6QAAAAAAAvJBAAAAAAABMoUAAAAAAAE6xQAAAAAAAmqNAAAAAAAAAWEAAAAAAABBzQAAAAAAAwIlAAAAAAACEkEAAAAAAACCEQAAAAAAAgIFAAAAAAAC4nUAAAAAAAK22QAAAAAAA0HlAAAAAAACwhUAAAAAAAHSrQAAAAAAATJZAAAAAAACIikAAAAAAAEqmQAAAAAAA0IBAAAAAAABKrkAAAAAAAGBtQAAAAAAAUIVAAAAAAACEnUAAAAAAADB3QAAAAAAA4GBAAAAAAAAMqkAAAAAAABiKQAAAAAAAACRAAAAAAABEmEAAAAAAAGBzQAAAAAAAIJRAAAAAAAAskEAAAAAAAIiKQAAAAAAAQFFAAAAAAAC8kEAAAAAAAEB8QAAAAAAAfJVAAAAAAAAQiUAAAAAAALShQAAAAAAA2JVAAAAAAACwoUAAAAAAAAAAQAAAAAAAUqFAAAAAAACYikA=\",\"dtype\":\"float64\",\"order\":\"little\",\"shape\":[160]}},\"selected\":{\"id\":\"1160\"},\"selection_policy\":{\"id\":\"1174\"}},\"id\":\"1159\",\"type\":\"ColumnDataSource\"},{\"attributes\":{},\"id\":\"1142\",\"type\":\"BasicTicker\"},{\"attributes\":{},\"id\":\"1139\",\"type\":\"CategoricalTicker\"},{\"attributes\":{\"editor\":{\"id\":\"1189\"},\"field\":\"Neighbourhood\",\"formatter\":{\"id\":\"1188\"},\"title\":\"Neighbourhood\"},\"id\":\"1190\",\"type\":\"TableColumn\"},{\"attributes\":{\"coordinates\":null,\"data_source\":{\"id\":\"1159\"},\"glyph\":{\"id\":\"1162\"},\"group\":null,\"hover_glyph\":null,\"muted_glyph\":{\"id\":\"1164\"},\"nonselection_glyph\":{\"id\":\"1163\"},\"selection_glyph\":{\"id\":\"1179\"},\"view\":{\"id\":\"1166\"}},\"id\":\"1165\",\"type\":\"GlyphRenderer\"},{\"attributes\":{\"source\":{\"id\":\"1186\"}},\"id\":\"1205\",\"type\":\"CDSView\"},{\"attributes\":{},\"id\":\"1217\",\"type\":\"UnionRenderers\"},{\"attributes\":{\"overlay\":{\"id\":\"1150\"}},\"id\":\"1148\",\"type\":\"BoxZoomTool\"},{\"attributes\":{},\"id\":\"1149\",\"type\":\"ResetTool\"},{\"attributes\":{\"coordinates\":null,\"group\":null,\"items\":[{\"id\":\"1178\"}],\"location\":[0,0]},\"id\":\"1177\",\"type\":\"Legend\"},{\"attributes\":{\"factors\":[\"0\",\"1\",\"2\",\"3\",\"4\",\"5\",\"6\",\"7\",\"8\",\"9\",\"10\",\"11\",\"12\",\"13\",\"14\",\"15\",\"16\",\"17\",\"18\",\"19\",\"20\",\"21\",\"22\",\"23\",\"24\",\"25\",\"26\",\"27\",\"28\",\"29\",\"30\",\"31\",\"32\",\"33\",\"34\",\"35\",\"36\",\"37\",\"38\",\"39\",\"40\",\"41\",\"42\",\"43\",\"44\",\"45\",\"46\",\"47\",\"48\",\"49\",\"50\",\"51\",\"52\",\"53\",\"54\",\"55\",\"56\",\"57\",\"58\",\"59\",\"60\",\"61\",\"62\",\"63\",\"64\",\"65\",\"66\",\"67\",\"68\",\"69\",\"70\",\"71\",\"72\",\"73\",\"74\",\"75\",\"76\",\"77\",\"78\",\"79\",\"80\"],\"tags\":[[[\"Neighbourhood\",\"Neighbourhood\",null]]]},\"id\":\"1126\",\"type\":\"FactorRange\"},{\"attributes\":{\"axis\":{\"id\":\"1141\"},\"coordinates\":null,\"dimension\":1,\"grid_line_color\":null,\"group\":null,\"ticker\":null},\"id\":\"1144\",\"type\":\"Grid\"},{\"attributes\":{},\"id\":\"1160\",\"type\":\"Selection\"},{\"attributes\":{\"toolbars\":[{\"id\":\"1151\"}],\"tools\":[{\"id\":\"1128\"},{\"id\":\"1145\"},{\"id\":\"1146\"},{\"id\":\"1147\"},{\"id\":\"1148\"},{\"id\":\"1149\"}]},\"id\":\"1220\",\"type\":\"ProxyToolbar\"},{\"attributes\":{\"toolbar\":{\"id\":\"1220\"},\"toolbar_location\":\"above\"},\"id\":\"1221\",\"type\":\"ToolbarBox\"},{\"attributes\":{\"axis_label\":\"Neighbourhood\",\"coordinates\":null,\"formatter\":{\"id\":\"1172\"},\"group\":null,\"major_label_orientation\":1.5707963267948966,\"major_label_policy\":{\"id\":\"1173\"},\"ticker\":{\"id\":\"1139\"}},\"id\":\"1138\",\"type\":\"CategoricalAxis\"},{\"attributes\":{\"end\":8488.6,\"reset_end\":8488.6,\"reset_start\":0.0,\"tags\":[[[\"PatientId\",\"PatientId\",null]]]},\"id\":\"1127\",\"type\":\"Range1d\"},{\"attributes\":{\"children\":[{\"id\":\"1221\"},{\"id\":\"1219\"}]},\"id\":\"1222\",\"type\":\"Column\"},{\"attributes\":{},\"id\":\"1136\",\"type\":\"LinearScale\"},{\"attributes\":{\"format\":\"0,0.0[00000]\"},\"id\":\"1193\",\"type\":\"NumberFormatter\"},{\"attributes\":{\"bottom\":{\"field\":\"bottom\"},\"fill_color\":{\"field\":\"No_hyphen_minus_show\",\"transform\":{\"id\":\"1158\"}},\"hatch_color\":{\"field\":\"No_hyphen_minus_show\",\"transform\":{\"id\":\"1158\"}},\"top\":{\"field\":\"top\"},\"width\":{\"value\":0.8},\"x\":{\"field\":\"Neighbourhood\"}},\"id\":\"1162\",\"type\":\"VBar\"},{\"attributes\":{\"source\":{\"id\":\"1159\"}},\"id\":\"1166\",\"type\":\"CDSView\"},{\"attributes\":{},\"id\":\"1145\",\"type\":\"SaveTool\"},{\"attributes\":{},\"id\":\"1169\",\"type\":\"BasicTickFormatter\"},{\"attributes\":{\"axis_label\":\"\",\"coordinates\":null,\"formatter\":{\"id\":\"1169\"},\"group\":null,\"major_label_policy\":{\"id\":\"1170\"},\"ticker\":{\"id\":\"1142\"}},\"id\":\"1141\",\"type\":\"LinearAxis\"},{\"attributes\":{\"children\":[[{\"id\":\"1129\"},0,0],[{\"id\":\"1203\"},0,1]]},\"id\":\"1219\",\"type\":\"GridBox\"}],\"root_ids\":[\"1124\"]},\"title\":\"Bokeh Application\",\"version\":\"2.4.2\"}};\n",
       "    var render_items = [{\"docid\":\"92d95d1b-b47e-4ea3-afa8-d36a12eb3aa1\",\"root_ids\":[\"1124\"],\"roots\":{\"1124\":\"8426a53e-5ee4-47ad-b1c9-92f95cdb052e\"}}];\n",
       "    root.Bokeh.embed.embed_items_notebook(docs_json, render_items);\n",
       "  }\n",
       "  if (root.Bokeh !== undefined && root.Bokeh.Panel !== undefined) {\n",
       "    embed_document(root);\n",
       "  } else {\n",
       "    var attempts = 0;\n",
       "    var timer = setInterval(function(root) {\n",
       "      if (root.Bokeh !== undefined && root.Bokeh.Panel !== undefined) {\n",
       "        clearInterval(timer);\n",
       "        embed_document(root);\n",
       "      } else if (document.readyState == \"complete\") {\n",
       "        attempts++;\n",
       "        if (attempts > 200) {\n",
       "          clearInterval(timer);\n",
       "          console.log(\"Bokeh: ERROR: Unable to run BokehJS code because BokehJS library is missing\");\n",
       "        }\n",
       "      }\n",
       "    }, 25, root)\n",
       "  }\n",
       "})(window);</script>"
      ],
      "text/plain": [
       ":Layout\n",
       "   .Bars.PatientId :Bars   [Neighbourhood,No-show]   (PatientId)\n",
       "   .Table.I        :Table   [Neighbourhood,No-show,PatientId]"
      ]
     },
     "execution_count": 24,
     "metadata": {
      "application/vnd.holoviews_exec.v0+json": {
       "id": "1124"
      }
     },
     "output_type": "execute_result"
    }
   ],
   "source": [
    "group = df.groupby([\"Neighbourhood\", \"No-show\"]).count()[\"PatientId\"]\n",
    "viz2 = group.plot.bar(\n",
    "    stacked=True, title=\"Neighbourhood\", rot=90, width=1024\n",
    ") + group.hvplot.table(width=360)\n",
    "viz2"
   ]
  },
  {
   "cell_type": "code",
   "execution_count": 396,
   "metadata": {
    "collapsed": false,
    "jupyter": {
     "outputs_hidden": false
    },
    "pycharm": {
     "name": "#%% md\n"
    }
   },
   "outputs": [],
   "source": [
    "text3 = \"\"\"Now, lets write a function that will calculate confidence interval for the difference\n",
    " of the two proportions (for the show and not-show groups). Then, write a function that will draw a conclusion given the confidence interval.\"\"\"\n"
   ]
  },
  {
   "cell_type": "code",
   "execution_count": 25,
   "metadata": {},
   "outputs": [],
   "source": [
    "def proportions_confint_diff(sample1, sample2, alpha=0.05):\n",
    "    z = scipy.stats.norm.ppf(1 - alpha / 2.0)\n",
    "    p1 = float(sum(sample1)) / len(sample1)\n",
    "    p2 = float(sum(sample2)) / len(sample2)\n",
    "\n",
    "    left_boundary = (p1 - p2) - z * np.sqrt(\n",
    "        p1 * (1 - p1) / len(sample1) + p2 * (1 - p2) / len(sample2)\n",
    "    )\n",
    "    right_boundary = (p1 - p2) + z * np.sqrt(\n",
    "        p1 * (1 - p1) / len(sample1) + p2 * (1 - p2) / len(sample2)\n",
    "    )\n",
    "    return (round(left_boundary*100, 3), round(right_boundary*100, 3))\n",
    "\n",
    "\n",
    "def calculate_ci(group, alpha):\n",
    "    boundaries = proportions_confint_diff(\n",
    "        df[df[group] == 1][\"No-show\"], df[df[group] == 0][\"No-show\"], alpha=alpha\n",
    "    )\n",
    "    if boundaries[0] < 0 and boundaries[1] < 0:\n",
    "        return f\"CI is {boundaries}, proportion in the first ({group}=0) group tends to be less\"\n",
    "    elif boundaries[0] > 0 and boundaries[1] > 0:\n",
    "        return (\n",
    "            f\"CI is {boundaries}, proportion in the first group ({group}=0) tends to be greater\"\n",
    "        )\n",
    "    else:\n",
    "        return f\"CI is {boundaries}, can not make definitive decision\"\n"
   ]
  },
  {
   "cell_type": "code",
   "execution_count": 26,
   "metadata": {},
   "outputs": [],
   "source": [
    "from scipy.stats import bootstrap"
   ]
  },
  {
   "cell_type": "code",
   "execution_count": 485,
   "metadata": {},
   "outputs": [],
   "source": [
    "code_ci = '''Below listed the code for computing confidence interval and making decision based on its value\n",
    "```python \n",
    "def proportions_confint_diff(sample1, sample2, alpha=0.05):\n",
    "    z = scipy.stats.norm.ppf(1 - alpha / 2.0)\n",
    "    p1 = float(sum(sample1)) / len(sample1)\n",
    "    p2 = float(sum(sample2)) / len(sample2)\n",
    "\n",
    "    left_boundary = (p1 - p2) - z * np.sqrt(\n",
    "        p1 * (1 - p1) / len(sample1) + p2 * (1 - p2) / len(sample2)\n",
    "    )\n",
    "    right_boundary = (p1 - p2) + z * np.sqrt(\n",
    "        p1 * (1 - p1) / len(sample1) + p2 * (1 - p2) / len(sample2)\n",
    "    )\n",
    "    return (round(left_boundary*100, 3), round(right_boundary*100, 3))\n",
    "\n",
    "\n",
    "def calculate_ci(group, alpha):\n",
    "    boundaries = proportions_confint_diff(\n",
    "        df[df[group] == 1][\"No-show\"], df[df[group] == 0][\"No-show\"], alpha=alpha\n",
    "    )\n",
    "    if boundaries[0] < 0 and boundaries[1] < 0:\n",
    "        return f\"CI is {boundaries}, proportion in the no-show group tends to be less\"\n",
    "    elif boundaries[0] > 0 and boundaries[1] > 0:\n",
    "        return (\n",
    "            f\"CI is {boundaries}, proportion in the no-show group tends to be greater\"\n",
    "        )\n",
    "    else:\n",
    "        return f\"CI is {boundaries}, can not make definitive decision\"\n",
    "```'''"
   ]
  },
  {
   "cell_type": "markdown",
   "metadata": {},
   "source": [
    "The function below will draw a bar plot for each categorical variable with a table, where a prior probability for show and no-show situations for each subcategory will be calculated"
   ]
  },
  {
   "cell_type": "code",
   "execution_count": 27,
   "metadata": {},
   "outputs": [],
   "source": [
    "def group_draw(by):\n",
    "    group = (\n",
    "        df.groupby([by, \"No-show\"])\n",
    "        .count()[[\"PatientId\"]]\n",
    "        .rename(columns={\"PatientId\": \"Count\"})\n",
    "    )\n",
    "    ind = group.index\n",
    "    group = group.reset_index()\n",
    "    group[\"ShowProb\"] = pd.concat(\n",
    "        [\n",
    "            group[group[by] == 0].transform(lambda x: x / sum(x))[\"Count\"],\n",
    "            group[group[by] == 1].transform(lambda x: x / sum(x))[\"Count\"],\n",
    "        ]\n",
    "    )\n",
    "    group = group[[\"Count\", \"ShowProb\"]].set_index(ind)\n",
    "    return group.plot.bar(stacked=True, title=by) + group.hvplot.table(\n",
    "        width=360\n",
    "    )\n"
   ]
  },
  {
   "cell_type": "code",
   "execution_count": 28,
   "metadata": {
    "collapsed": false,
    "jupyter": {
     "outputs_hidden": false
    },
    "pycharm": {
     "name": "#%%\n"
    }
   },
   "outputs": [
    {
     "data": {},
     "metadata": {},
     "output_type": "display_data"
    },
    {
     "data": {
      "application/vnd.holoviews_exec.v0+json": "",
      "text/html": [
       "<div id='1393'>\n",
       "\n",
       "\n",
       "\n",
       "\n",
       "\n",
       "  <div class=\"bk-root\" id=\"c4d647cc-f316-4ebb-8830-066589fa39e2\" data-root-id=\"1393\"></div>\n",
       "</div>\n",
       "<script type=\"application/javascript\">(function(root) {\n",
       "  function embed_document(root) {\n",
       "    var docs_json = {\"304b1829-fc91-4fb3-94b5-34a7de8656c2\":{\"defs\":[{\"extends\":null,\"module\":null,\"name\":\"ReactiveHTML1\",\"overrides\":[],\"properties\":[]},{\"extends\":null,\"module\":null,\"name\":\"FlexBox1\",\"overrides\":[],\"properties\":[{\"default\":\"flex-start\",\"kind\":null,\"name\":\"align_content\"},{\"default\":\"flex-start\",\"kind\":null,\"name\":\"align_items\"},{\"default\":\"row\",\"kind\":null,\"name\":\"flex_direction\"},{\"default\":\"wrap\",\"kind\":null,\"name\":\"flex_wrap\"},{\"default\":\"flex-start\",\"kind\":null,\"name\":\"justify_content\"}]},{\"extends\":null,\"module\":null,\"name\":\"GridStack1\",\"overrides\":[],\"properties\":[{\"default\":\"warn\",\"kind\":null,\"name\":\"mode\"},{\"default\":null,\"kind\":null,\"name\":\"ncols\"},{\"default\":null,\"kind\":null,\"name\":\"nrows\"},{\"default\":true,\"kind\":null,\"name\":\"allow_resize\"},{\"default\":true,\"kind\":null,\"name\":\"allow_drag\"},{\"default\":[],\"kind\":null,\"name\":\"state\"}]},{\"extends\":null,\"module\":null,\"name\":\"click1\",\"overrides\":[],\"properties\":[{\"default\":\"\",\"kind\":null,\"name\":\"terminal_output\"},{\"default\":\"\",\"kind\":null,\"name\":\"debug_name\"},{\"default\":0,\"kind\":null,\"name\":\"clears\"}]},{\"extends\":null,\"module\":null,\"name\":\"TemplateActions1\",\"overrides\":[],\"properties\":[{\"default\":0,\"kind\":null,\"name\":\"open_modal\"},{\"default\":0,\"kind\":null,\"name\":\"close_modal\"}]},{\"extends\":null,\"module\":null,\"name\":\"MaterialTemplateActions1\",\"overrides\":[],\"properties\":[{\"default\":0,\"kind\":null,\"name\":\"open_modal\"},{\"default\":0,\"kind\":null,\"name\":\"close_modal\"}]}],\"roots\":{\"references\":[{\"attributes\":{},\"id\":\"1414\",\"type\":\"SaveTool\"},{\"attributes\":{\"data\":{\"Count\":[79924,8283,19736,2578],\"No_hyphen_minus_show\":[\"0\",\"0\",\"1\",\"1\"],\"Scholarship\":[\"0\",\"1\",\"0\",\"1\"],\"bottom\":{\"__ndarray__\":\"AAAAAAAAAAAAAAAAAAAAAAAAAABAg/NAAAAAAIAtwEA=\",\"dtype\":\"float64\",\"order\":\"little\",\"shape\":[4]},\"top\":{\"__ndarray__\":\"AAAAAECD80AAAAAAgC3AQAAAAADAVPhAAAAAAIA2xUA=\",\"dtype\":\"float64\",\"order\":\"little\",\"shape\":[4]}},\"selected\":{\"id\":\"1429\"},\"selection_policy\":{\"id\":\"1443\"}},\"id\":\"1428\",\"type\":\"ColumnDataSource\"},{\"attributes\":{},\"id\":\"1458\",\"type\":\"IntEditor\"},{\"attributes\":{\"columns\":[{\"id\":\"1459\"},{\"id\":\"1464\"},{\"id\":\"1469\"},{\"id\":\"1474\"}],\"height\":300,\"reorderable\":false,\"source\":{\"id\":\"1455\"},\"view\":{\"id\":\"1479\"},\"width\":360},\"id\":\"1477\",\"type\":\"DataTable\"},{\"attributes\":{},\"id\":\"1473\",\"type\":\"NumberEditor\"},{\"attributes\":{},\"id\":\"1429\",\"type\":\"Selection\"},{\"attributes\":{\"bottom_units\":\"screen\",\"coordinates\":null,\"fill_alpha\":0.5,\"fill_color\":\"lightgrey\",\"group\":null,\"left_units\":\"screen\",\"level\":\"overlay\",\"line_alpha\":1.0,\"line_color\":\"black\",\"line_dash\":[4,4],\"line_width\":2,\"right_units\":\"screen\",\"syncable\":false,\"top_units\":\"screen\"},\"id\":\"1419\",\"type\":\"BoxAnnotation\"},{\"attributes\":{\"format\":\"0,0.0[00000]\"},\"id\":\"1472\",\"type\":\"NumberFormatter\"},{\"attributes\":{\"overlay\":{\"id\":\"1419\"}},\"id\":\"1417\",\"type\":\"BoxZoomTool\"},{\"attributes\":{},\"id\":\"1408\",\"type\":\"CategoricalTicker\"},{\"attributes\":{},\"id\":\"1415\",\"type\":\"PanTool\"},{\"attributes\":{\"margin\":[5,5,5,5],\"name\":\"HSpacer02489\",\"sizing_mode\":\"stretch_width\"},\"id\":\"1394\",\"type\":\"Spacer\"},{\"attributes\":{\"editor\":{\"id\":\"1473\"},\"field\":\"ShowProb\",\"formatter\":{\"id\":\"1472\"},\"title\":\"ShowProb\"},\"id\":\"1474\",\"type\":\"TableColumn\"},{\"attributes\":{\"axis_label\":\"Count\",\"coordinates\":null,\"formatter\":{\"id\":\"1438\"},\"group\":null,\"major_label_policy\":{\"id\":\"1439\"},\"ticker\":{\"id\":\"1411\"}},\"id\":\"1410\",\"type\":\"LinearAxis\"},{\"attributes\":{},\"id\":\"1416\",\"type\":\"WheelZoomTool\"},{\"attributes\":{\"toolbars\":[{\"id\":\"1420\"}],\"tools\":[{\"id\":\"1397\"},{\"id\":\"1414\"},{\"id\":\"1415\"},{\"id\":\"1416\"},{\"id\":\"1417\"},{\"id\":\"1418\"}]},\"id\":\"1494\",\"type\":\"ProxyToolbar\"},{\"attributes\":{\"bottom\":{\"field\":\"bottom\"},\"fill_color\":{\"field\":\"No_hyphen_minus_show\",\"transform\":{\"id\":\"1427\"}},\"hatch_color\":{\"field\":\"No_hyphen_minus_show\",\"transform\":{\"id\":\"1427\"}},\"top\":{\"field\":\"top\"},\"width\":{\"value\":0.8},\"x\":{\"field\":\"Scholarship\"}},\"id\":\"1431\",\"type\":\"VBar\"},{\"attributes\":{},\"id\":\"1439\",\"type\":\"AllLabels\"},{\"attributes\":{},\"id\":\"1411\",\"type\":\"BasicTicker\"},{\"attributes\":{\"axis_label\":\"Scholarship\",\"coordinates\":null,\"formatter\":{\"id\":\"1441\"},\"group\":null,\"major_label_policy\":{\"id\":\"1442\"},\"ticker\":{\"id\":\"1408\"}},\"id\":\"1407\",\"type\":\"CategoricalAxis\"},{\"attributes\":{\"bottom\":{\"field\":\"bottom\"},\"fill_alpha\":{\"value\":1.0},\"fill_color\":{\"field\":\"No_hyphen_minus_show\",\"transform\":{\"id\":\"1427\"}},\"hatch_alpha\":{\"value\":1.0},\"hatch_color\":{\"field\":\"No_hyphen_minus_show\",\"transform\":{\"id\":\"1427\"}},\"hatch_scale\":{\"value\":12.0},\"hatch_weight\":{\"value\":1.0},\"line_alpha\":{\"value\":1.0},\"line_cap\":{\"value\":\"butt\"},\"line_color\":{\"value\":\"black\"},\"line_dash\":{\"value\":[]},\"line_dash_offset\":{\"value\":0},\"line_join\":{\"value\":\"bevel\"},\"line_width\":{\"value\":1},\"top\":{\"field\":\"top\"},\"width\":{\"value\":0.8},\"x\":{\"field\":\"Scholarship\"}},\"id\":\"1448\",\"type\":\"VBar\"},{\"attributes\":{\"bottom\":{\"field\":\"bottom\"},\"fill_alpha\":{\"value\":0.2},\"fill_color\":{\"field\":\"No_hyphen_minus_show\",\"transform\":{\"id\":\"1427\"}},\"hatch_alpha\":{\"value\":0.2},\"hatch_color\":{\"field\":\"No_hyphen_minus_show\",\"transform\":{\"id\":\"1427\"}},\"line_alpha\":{\"value\":0.2},\"top\":{\"field\":\"top\"},\"width\":{\"value\":0.8},\"x\":{\"field\":\"Scholarship\"}},\"id\":\"1433\",\"type\":\"VBar\"},{\"attributes\":{\"axis\":{\"id\":\"1407\"},\"coordinates\":null,\"grid_line_color\":null,\"group\":null,\"ticker\":null},\"id\":\"1409\",\"type\":\"Grid\"},{\"attributes\":{},\"id\":\"1442\",\"type\":\"AllLabels\"},{\"attributes\":{\"toolbar\":{\"id\":\"1494\"},\"toolbar_location\":\"above\"},\"id\":\"1495\",\"type\":\"ToolbarBox\"},{\"attributes\":{\"factors\":[\"0\",\"1\"],\"tags\":[[[\"Scholarship\",\"Scholarship\",null]]]},\"id\":\"1395\",\"type\":\"FactorRange\"},{\"attributes\":{},\"id\":\"1491\",\"type\":\"UnionRenderers\"},{\"attributes\":{\"children\":[{\"id\":\"1495\"},{\"id\":\"1493\"}]},\"id\":\"1496\",\"type\":\"Column\"},{\"attributes\":{\"factors\":[\"0\",\"1\"],\"palette\":[\"#30a2da\",\"#fc4f30\"]},\"id\":\"1427\",\"type\":\"CategoricalColorMapper\"},{\"attributes\":{},\"id\":\"1441\",\"type\":\"CategoricalTickFormatter\"},{\"attributes\":{\"callback\":null,\"renderers\":[{\"id\":\"1434\"}],\"tags\":[\"hv_created\"],\"tooltips\":[[\"Scholarship\",\"@{Scholarship}\"],[\"No-show\",\"@{No_hyphen_minus_show}\"],[\"Count\",\"@{Count}\"]]},\"id\":\"1397\",\"type\":\"HoverTool\"},{\"attributes\":{},\"id\":\"1463\",\"type\":\"NumberEditor\"},{\"attributes\":{},\"id\":\"1457\",\"type\":\"NumberFormatter\"},{\"attributes\":{},\"id\":\"1443\",\"type\":\"UnionRenderers\"},{\"attributes\":{},\"id\":\"1405\",\"type\":\"LinearScale\"},{\"attributes\":{\"editor\":{\"id\":\"1463\"},\"field\":\"No_hyphen_minus_show\",\"formatter\":{\"id\":\"1462\"},\"title\":\"No-show\"},\"id\":\"1464\",\"type\":\"TableColumn\"},{\"attributes\":{\"children\":[[{\"id\":\"1398\"},0,0],[{\"id\":\"1477\"},0,1]]},\"id\":\"1493\",\"type\":\"GridBox\"},{\"attributes\":{},\"id\":\"1456\",\"type\":\"Selection\"},{\"attributes\":{},\"id\":\"1467\",\"type\":\"NumberFormatter\"},{\"attributes\":{\"coordinates\":null,\"group\":null,\"items\":[{\"id\":\"1447\"}],\"location\":[0,0]},\"id\":\"1446\",\"type\":\"Legend\"},{\"attributes\":{\"source\":{\"id\":\"1428\"}},\"id\":\"1435\",\"type\":\"CDSView\"},{\"attributes\":{\"end\":108539.9,\"reset_end\":108539.9,\"reset_start\":0.0,\"tags\":[[[\"Count\",\"Count\",null]]]},\"id\":\"1396\",\"type\":\"Range1d\"},{\"attributes\":{\"bottom\":{\"field\":\"bottom\"},\"fill_alpha\":{\"value\":0.1},\"fill_color\":{\"field\":\"No_hyphen_minus_show\",\"transform\":{\"id\":\"1427\"}},\"hatch_alpha\":{\"value\":0.1},\"hatch_color\":{\"field\":\"No_hyphen_minus_show\",\"transform\":{\"id\":\"1427\"}},\"line_alpha\":{\"value\":0.1},\"top\":{\"field\":\"top\"},\"width\":{\"value\":0.8},\"x\":{\"field\":\"Scholarship\"}},\"id\":\"1432\",\"type\":\"VBar\"},{\"attributes\":{\"data\":{\"Count\":[79924,19736,8283,2578],\"No_hyphen_minus_show\":{\"__ndarray__\":\"AAAAAAAAAAAAAAAAAADwPwAAAAAAAAAAAAAAAAAA8D8=\",\"dtype\":\"float64\",\"order\":\"little\",\"shape\":[4]},\"Scholarship\":[0,0,1,1],\"ShowProb\":{\"__ndarray__\":\"ckCACrap6T85/v7VJ1nJPzv8H5+FZ+g/Fg+Ag+lhzj8=\",\"dtype\":\"float64\",\"order\":\"little\",\"shape\":[4]}},\"selected\":{\"id\":\"1456\"},\"selection_policy\":{\"id\":\"1491\"}},\"id\":\"1455\",\"type\":\"ColumnDataSource\"},{\"attributes\":{\"coordinates\":null,\"data_source\":{\"id\":\"1428\"},\"glyph\":{\"id\":\"1431\"},\"group\":null,\"hover_glyph\":null,\"muted_glyph\":{\"id\":\"1433\"},\"nonselection_glyph\":{\"id\":\"1432\"},\"selection_glyph\":{\"id\":\"1448\"},\"view\":{\"id\":\"1435\"}},\"id\":\"1434\",\"type\":\"GlyphRenderer\"},{\"attributes\":{\"children\":[{\"id\":\"1394\"},{\"id\":\"1496\"},{\"id\":\"1605\"}],\"margin\":[0,0,0,0],\"name\":\"Row02485\",\"tags\":[\"embedded\"]},\"id\":\"1393\",\"type\":\"Row\"},{\"attributes\":{\"editor\":{\"id\":\"1468\"},\"field\":\"Count\",\"formatter\":{\"id\":\"1467\"},\"title\":\"Count\"},\"id\":\"1469\",\"type\":\"TableColumn\"},{\"attributes\":{\"below\":[{\"id\":\"1407\"}],\"center\":[{\"id\":\"1409\"},{\"id\":\"1413\"},{\"id\":\"1446\"}],\"height\":300,\"left\":[{\"id\":\"1410\"}],\"margin\":null,\"min_border_bottom\":10,\"min_border_left\":10,\"min_border_right\":10,\"min_border_top\":10,\"renderers\":[{\"id\":\"1434\"}],\"right\":[{\"id\":\"1446\"}],\"sizing_mode\":\"fixed\",\"title\":{\"id\":\"1399\"},\"toolbar\":{\"id\":\"1420\"},\"toolbar_location\":null,\"width\":700,\"x_range\":{\"id\":\"1395\"},\"x_scale\":{\"id\":\"1403\"},\"y_range\":{\"id\":\"1396\"},\"y_scale\":{\"id\":\"1405\"}},\"id\":\"1398\",\"subtype\":\"Figure\",\"type\":\"Plot\"},{\"attributes\":{},\"id\":\"1438\",\"type\":\"BasicTickFormatter\"},{\"attributes\":{\"source\":{\"id\":\"1455\"}},\"id\":\"1479\",\"type\":\"CDSView\"},{\"attributes\":{\"label\":{\"field\":\"No_hyphen_minus_show\"},\"renderers\":[{\"id\":\"1434\"}]},\"id\":\"1447\",\"type\":\"LegendItem\"},{\"attributes\":{},\"id\":\"1468\",\"type\":\"IntEditor\"},{\"attributes\":{\"tools\":[{\"id\":\"1397\"},{\"id\":\"1414\"},{\"id\":\"1415\"},{\"id\":\"1416\"},{\"id\":\"1417\"},{\"id\":\"1418\"}]},\"id\":\"1420\",\"type\":\"Toolbar\"},{\"attributes\":{\"format\":\"0,0.0[00000]\"},\"id\":\"1462\",\"type\":\"NumberFormatter\"},{\"attributes\":{\"margin\":[5,5,5,5],\"name\":\"HSpacer02490\",\"sizing_mode\":\"stretch_width\"},\"id\":\"1605\",\"type\":\"Spacer\"},{\"attributes\":{},\"id\":\"1418\",\"type\":\"ResetTool\"},{\"attributes\":{\"editor\":{\"id\":\"1458\"},\"field\":\"Scholarship\",\"formatter\":{\"id\":\"1457\"},\"title\":\"Scholarship\"},\"id\":\"1459\",\"type\":\"TableColumn\"},{\"attributes\":{\"coordinates\":null,\"group\":null,\"text\":\"Scholarship\",\"text_color\":\"black\",\"text_font_size\":\"12pt\"},\"id\":\"1399\",\"type\":\"Title\"},{\"attributes\":{},\"id\":\"1403\",\"type\":\"CategoricalScale\"},{\"attributes\":{\"axis\":{\"id\":\"1410\"},\"coordinates\":null,\"dimension\":1,\"grid_line_color\":null,\"group\":null,\"ticker\":null},\"id\":\"1413\",\"type\":\"Grid\"}],\"root_ids\":[\"1393\"]},\"title\":\"Bokeh Application\",\"version\":\"2.4.2\"}};\n",
       "    var render_items = [{\"docid\":\"304b1829-fc91-4fb3-94b5-34a7de8656c2\",\"root_ids\":[\"1393\"],\"roots\":{\"1393\":\"c4d647cc-f316-4ebb-8830-066589fa39e2\"}}];\n",
       "    root.Bokeh.embed.embed_items_notebook(docs_json, render_items);\n",
       "  }\n",
       "  if (root.Bokeh !== undefined && root.Bokeh.Panel !== undefined) {\n",
       "    embed_document(root);\n",
       "  } else {\n",
       "    var attempts = 0;\n",
       "    var timer = setInterval(function(root) {\n",
       "      if (root.Bokeh !== undefined && root.Bokeh.Panel !== undefined) {\n",
       "        clearInterval(timer);\n",
       "        embed_document(root);\n",
       "      } else if (document.readyState == \"complete\") {\n",
       "        attempts++;\n",
       "        if (attempts > 200) {\n",
       "          clearInterval(timer);\n",
       "          console.log(\"Bokeh: ERROR: Unable to run BokehJS code because BokehJS library is missing\");\n",
       "        }\n",
       "      }\n",
       "    }, 25, root)\n",
       "  }\n",
       "})(window);</script>"
      ],
      "text/plain": [
       ":Layout\n",
       "   .Bars.I  :Bars   [Scholarship,No-show]   (Count)\n",
       "   .Table.I :Table   [Scholarship,No-show,Count,ShowProb]"
      ]
     },
     "execution_count": 28,
     "metadata": {
      "application/vnd.holoviews_exec.v0+json": {
       "id": "1393"
      }
     },
     "output_type": "execute_result"
    },
    {
     "data": {
      "text/plain": [
       "'CI is (3.095, 4.771), proportion in the first group (Scholarship=0) tends to be greater'"
      ]
     },
     "execution_count": 28,
     "metadata": {},
     "output_type": "execute_result"
    }
   ],
   "source": [
    "text03 = \"\"\"Now lets's have a look at the barplots for each category combined with the tables where the probability of (no)-show is calculated\"\"\"\n",
    "viz3 = group_draw(\"Scholarship\")\n",
    "text3 = calculate_ci(\"Scholarship\", 0.05)\n",
    "viz3; text3\n"
   ]
  },
  {
   "cell_type": "code",
   "execution_count": 29,
   "metadata": {},
   "outputs": [
    {
     "data": {},
     "metadata": {},
     "output_type": "display_data"
    },
    {
     "data": {
      "application/vnd.holoviews_exec.v0+json": "",
      "text/html": [
       "<div id='1667'>\n",
       "\n",
       "\n",
       "\n",
       "\n",
       "\n",
       "  <div class=\"bk-root\" id=\"e7336ed1-eca4-4318-b5df-1ddb7a6aa397\" data-root-id=\"1667\"></div>\n",
       "</div>\n",
       "<script type=\"application/javascript\">(function(root) {\n",
       "  function embed_document(root) {\n",
       "    var docs_json = {\"0445fa97-facb-4bd2-a2dd-394a1ece2026\":{\"defs\":[{\"extends\":null,\"module\":null,\"name\":\"ReactiveHTML1\",\"overrides\":[],\"properties\":[]},{\"extends\":null,\"module\":null,\"name\":\"FlexBox1\",\"overrides\":[],\"properties\":[{\"default\":\"flex-start\",\"kind\":null,\"name\":\"align_content\"},{\"default\":\"flex-start\",\"kind\":null,\"name\":\"align_items\"},{\"default\":\"row\",\"kind\":null,\"name\":\"flex_direction\"},{\"default\":\"wrap\",\"kind\":null,\"name\":\"flex_wrap\"},{\"default\":\"flex-start\",\"kind\":null,\"name\":\"justify_content\"}]},{\"extends\":null,\"module\":null,\"name\":\"GridStack1\",\"overrides\":[],\"properties\":[{\"default\":\"warn\",\"kind\":null,\"name\":\"mode\"},{\"default\":null,\"kind\":null,\"name\":\"ncols\"},{\"default\":null,\"kind\":null,\"name\":\"nrows\"},{\"default\":true,\"kind\":null,\"name\":\"allow_resize\"},{\"default\":true,\"kind\":null,\"name\":\"allow_drag\"},{\"default\":[],\"kind\":null,\"name\":\"state\"}]},{\"extends\":null,\"module\":null,\"name\":\"click1\",\"overrides\":[],\"properties\":[{\"default\":\"\",\"kind\":null,\"name\":\"terminal_output\"},{\"default\":\"\",\"kind\":null,\"name\":\"debug_name\"},{\"default\":0,\"kind\":null,\"name\":\"clears\"}]},{\"extends\":null,\"module\":null,\"name\":\"TemplateActions1\",\"overrides\":[],\"properties\":[{\"default\":0,\"kind\":null,\"name\":\"open_modal\"},{\"default\":0,\"kind\":null,\"name\":\"close_modal\"}]},{\"extends\":null,\"module\":null,\"name\":\"MaterialTemplateActions1\",\"overrides\":[],\"properties\":[{\"default\":0,\"kind\":null,\"name\":\"open_modal\"},{\"default\":0,\"kind\":null,\"name\":\"close_modal\"}]}],\"roots\":{\"references\":[{\"attributes\":{\"bottom_units\":\"screen\",\"coordinates\":null,\"fill_alpha\":0.5,\"fill_color\":\"lightgrey\",\"group\":null,\"left_units\":\"screen\",\"level\":\"overlay\",\"line_alpha\":1.0,\"line_color\":\"black\",\"line_dash\":[4,4],\"line_width\":2,\"right_units\":\"screen\",\"syncable\":false,\"top_units\":\"screen\"},\"id\":\"1693\",\"type\":\"BoxAnnotation\"},{\"attributes\":{},\"id\":\"1741\",\"type\":\"NumberFormatter\"},{\"attributes\":{},\"id\":\"1732\",\"type\":\"NumberEditor\"},{\"attributes\":{\"source\":{\"id\":\"1729\"}},\"id\":\"1753\",\"type\":\"CDSView\"},{\"attributes\":{\"tools\":[{\"id\":\"1671\"},{\"id\":\"1688\"},{\"id\":\"1689\"},{\"id\":\"1690\"},{\"id\":\"1691\"},{\"id\":\"1692\"}]},\"id\":\"1694\",\"type\":\"Toolbar\"},{\"attributes\":{},\"id\":\"1747\",\"type\":\"NumberEditor\"},{\"attributes\":{\"format\":\"0,0.0[00000]\"},\"id\":\"1736\",\"type\":\"NumberFormatter\"},{\"attributes\":{},\"id\":\"1679\",\"type\":\"LinearScale\"},{\"attributes\":{},\"id\":\"1677\",\"type\":\"CategoricalScale\"},{\"attributes\":{},\"id\":\"1692\",\"type\":\"ResetTool\"},{\"attributes\":{\"axis\":{\"id\":\"1684\"},\"coordinates\":null,\"dimension\":1,\"grid_line_color\":null,\"group\":null,\"ticker\":null},\"id\":\"1687\",\"type\":\"Grid\"},{\"attributes\":{},\"id\":\"1713\",\"type\":\"AllLabels\"},{\"attributes\":{},\"id\":\"1765\",\"type\":\"UnionRenderers\"},{\"attributes\":{\"data\":{\"Count\":[57245,30962,14591,7723],\"Gender\":[\"0\",\"1\",\"0\",\"1\"],\"No_hyphen_minus_show\":[\"0\",\"0\",\"1\",\"1\"],\"bottom\":{\"__ndarray__\":\"AAAAAAAAAAAAAAAAAAAAAAAAAACg8+tAAAAAAIA83kA=\",\"dtype\":\"float64\",\"order\":\"little\",\"shape\":[4]},\"top\":{\"__ndarray__\":\"AAAAAKDz60AAAAAAgDzeQAAAAADAifFAAAAAAKDj4kA=\",\"dtype\":\"float64\",\"order\":\"little\",\"shape\":[4]}},\"selected\":{\"id\":\"1703\"},\"selection_policy\":{\"id\":\"1717\"}},\"id\":\"1702\",\"type\":\"ColumnDataSource\"},{\"attributes\":{\"axis\":{\"id\":\"1681\"},\"coordinates\":null,\"grid_line_color\":null,\"group\":null,\"ticker\":null},\"id\":\"1683\",\"type\":\"Grid\"},{\"attributes\":{\"format\":\"0,0.0[00000]\"},\"id\":\"1731\",\"type\":\"NumberFormatter\"},{\"attributes\":{\"factors\":[\"0\",\"1\"],\"palette\":[\"#30a2da\",\"#fc4f30\"]},\"id\":\"1701\",\"type\":\"CategoricalColorMapper\"},{\"attributes\":{},\"id\":\"1703\",\"type\":\"Selection\"},{\"attributes\":{\"editor\":{\"id\":\"1747\"},\"field\":\"ShowProb\",\"formatter\":{\"id\":\"1746\"},\"title\":\"ShowProb\"},\"id\":\"1748\",\"type\":\"TableColumn\"},{\"attributes\":{\"axis_label\":\"Gender\",\"coordinates\":null,\"formatter\":{\"id\":\"1715\"},\"group\":null,\"major_label_policy\":{\"id\":\"1716\"},\"ticker\":{\"id\":\"1682\"}},\"id\":\"1681\",\"type\":\"CategoricalAxis\"},{\"attributes\":{\"bottom\":{\"field\":\"bottom\"},\"fill_alpha\":{\"value\":1.0},\"fill_color\":{\"field\":\"No_hyphen_minus_show\",\"transform\":{\"id\":\"1701\"}},\"hatch_alpha\":{\"value\":1.0},\"hatch_color\":{\"field\":\"No_hyphen_minus_show\",\"transform\":{\"id\":\"1701\"}},\"hatch_scale\":{\"value\":12.0},\"hatch_weight\":{\"value\":1.0},\"line_alpha\":{\"value\":1.0},\"line_cap\":{\"value\":\"butt\"},\"line_color\":{\"value\":\"black\"},\"line_dash\":{\"value\":[]},\"line_dash_offset\":{\"value\":0},\"line_join\":{\"value\":\"bevel\"},\"line_width\":{\"value\":1},\"top\":{\"field\":\"top\"},\"width\":{\"value\":0.8},\"x\":{\"field\":\"Gender\"}},\"id\":\"1722\",\"type\":\"VBar\"},{\"attributes\":{\"bottom\":{\"field\":\"bottom\"},\"fill_alpha\":{\"value\":0.1},\"fill_color\":{\"field\":\"No_hyphen_minus_show\",\"transform\":{\"id\":\"1701\"}},\"hatch_alpha\":{\"value\":0.1},\"hatch_color\":{\"field\":\"No_hyphen_minus_show\",\"transform\":{\"id\":\"1701\"}},\"line_alpha\":{\"value\":0.1},\"top\":{\"field\":\"top\"},\"width\":{\"value\":0.8},\"x\":{\"field\":\"Gender\"}},\"id\":\"1706\",\"type\":\"VBar\"},{\"attributes\":{\"margin\":[5,5,5,5],\"name\":\"HSpacer02919\",\"sizing_mode\":\"stretch_width\"},\"id\":\"1879\",\"type\":\"Spacer\"},{\"attributes\":{},\"id\":\"1730\",\"type\":\"Selection\"},{\"attributes\":{\"overlay\":{\"id\":\"1693\"}},\"id\":\"1691\",\"type\":\"BoxZoomTool\"},{\"attributes\":{\"children\":[[{\"id\":\"1672\"},0,0],[{\"id\":\"1751\"},0,1]]},\"id\":\"1767\",\"type\":\"GridBox\"},{\"attributes\":{\"coordinates\":null,\"data_source\":{\"id\":\"1702\"},\"glyph\":{\"id\":\"1705\"},\"group\":null,\"hover_glyph\":null,\"muted_glyph\":{\"id\":\"1707\"},\"nonselection_glyph\":{\"id\":\"1706\"},\"selection_glyph\":{\"id\":\"1722\"},\"view\":{\"id\":\"1709\"}},\"id\":\"1708\",\"type\":\"GlyphRenderer\"},{\"attributes\":{\"bottom\":{\"field\":\"bottom\"},\"fill_color\":{\"field\":\"No_hyphen_minus_show\",\"transform\":{\"id\":\"1701\"}},\"hatch_color\":{\"field\":\"No_hyphen_minus_show\",\"transform\":{\"id\":\"1701\"}},\"top\":{\"field\":\"top\"},\"width\":{\"value\":0.8},\"x\":{\"field\":\"Gender\"}},\"id\":\"1705\",\"type\":\"VBar\"},{\"attributes\":{},\"id\":\"1685\",\"type\":\"BasicTicker\"},{\"attributes\":{\"axis_label\":\"Count\",\"coordinates\":null,\"formatter\":{\"id\":\"1712\"},\"group\":null,\"major_label_policy\":{\"id\":\"1713\"},\"ticker\":{\"id\":\"1685\"}},\"id\":\"1684\",\"type\":\"LinearAxis\"},{\"attributes\":{},\"id\":\"1689\",\"type\":\"PanTool\"},{\"attributes\":{},\"id\":\"1737\",\"type\":\"NumberEditor\"},{\"attributes\":{\"coordinates\":null,\"group\":null,\"text\":\"Gender\",\"text_color\":\"black\",\"text_font_size\":\"12pt\"},\"id\":\"1673\",\"type\":\"Title\"},{\"attributes\":{\"end\":75151.1,\"reset_end\":75151.1,\"reset_start\":0.0,\"tags\":[[[\"Count\",\"Count\",null]]]},\"id\":\"1670\",\"type\":\"Range1d\"},{\"attributes\":{},\"id\":\"1682\",\"type\":\"CategoricalTicker\"},{\"attributes\":{},\"id\":\"1688\",\"type\":\"SaveTool\"},{\"attributes\":{\"margin\":[5,5,5,5],\"name\":\"HSpacer02918\",\"sizing_mode\":\"stretch_width\"},\"id\":\"1668\",\"type\":\"Spacer\"},{\"attributes\":{\"editor\":{\"id\":\"1742\"},\"field\":\"Count\",\"formatter\":{\"id\":\"1741\"},\"title\":\"Count\"},\"id\":\"1743\",\"type\":\"TableColumn\"},{\"attributes\":{\"factors\":[\"0\",\"1\"],\"tags\":[[[\"Gender\",\"Gender\",null]]]},\"id\":\"1669\",\"type\":\"FactorRange\"},{\"attributes\":{},\"id\":\"1715\",\"type\":\"CategoricalTickFormatter\"},{\"attributes\":{\"toolbars\":[{\"id\":\"1694\"}],\"tools\":[{\"id\":\"1671\"},{\"id\":\"1688\"},{\"id\":\"1689\"},{\"id\":\"1690\"},{\"id\":\"1691\"},{\"id\":\"1692\"}]},\"id\":\"1768\",\"type\":\"ProxyToolbar\"},{\"attributes\":{\"children\":[{\"id\":\"1668\"},{\"id\":\"1770\"},{\"id\":\"1879\"}],\"margin\":[0,0,0,0],\"name\":\"Row02914\",\"tags\":[\"embedded\"]},\"id\":\"1667\",\"type\":\"Row\"},{\"attributes\":{\"source\":{\"id\":\"1702\"}},\"id\":\"1709\",\"type\":\"CDSView\"},{\"attributes\":{\"label\":{\"field\":\"No_hyphen_minus_show\"},\"renderers\":[{\"id\":\"1708\"}]},\"id\":\"1721\",\"type\":\"LegendItem\"},{\"attributes\":{},\"id\":\"1717\",\"type\":\"UnionRenderers\"},{\"attributes\":{},\"id\":\"1716\",\"type\":\"AllLabels\"},{\"attributes\":{\"editor\":{\"id\":\"1732\"},\"field\":\"Gender\",\"formatter\":{\"id\":\"1731\"},\"title\":\"Gender\"},\"id\":\"1733\",\"type\":\"TableColumn\"},{\"attributes\":{\"callback\":null,\"renderers\":[{\"id\":\"1708\"}],\"tags\":[\"hv_created\"],\"tooltips\":[[\"Gender\",\"@{Gender}\"],[\"No-show\",\"@{No_hyphen_minus_show}\"],[\"Count\",\"@{Count}\"]]},\"id\":\"1671\",\"type\":\"HoverTool\"},{\"attributes\":{\"toolbar\":{\"id\":\"1768\"},\"toolbar_location\":\"above\"},\"id\":\"1769\",\"type\":\"ToolbarBox\"},{\"attributes\":{\"data\":{\"Count\":[57245,14591,30962,7723],\"Gender\":{\"__ndarray__\":\"AAAAAAAAAAAAAAAAAAAAAAAAAAAAAPA/AAAAAAAA8D8=\",\"dtype\":\"float64\",\"order\":\"little\",\"shape\":[4]},\"No_hyphen_minus_show\":{\"__ndarray__\":\"AAAAAAAAAAAAAAAAAADwPwAAAAAAAAAAAAAAAAAA8D8=\",\"dtype\":\"float64\",\"order\":\"little\",\"shape\":[4]},\"ShowProb\":{\"__ndarray__\":\"0y8TEhSA6T+0QLO3r//JP1dBxo2QnOk/ovrmyL2NyT8=\",\"dtype\":\"float64\",\"order\":\"little\",\"shape\":[4]}},\"selected\":{\"id\":\"1730\"},\"selection_policy\":{\"id\":\"1765\"}},\"id\":\"1729\",\"type\":\"ColumnDataSource\"},{\"attributes\":{\"bottom\":{\"field\":\"bottom\"},\"fill_alpha\":{\"value\":0.2},\"fill_color\":{\"field\":\"No_hyphen_minus_show\",\"transform\":{\"id\":\"1701\"}},\"hatch_alpha\":{\"value\":0.2},\"hatch_color\":{\"field\":\"No_hyphen_minus_show\",\"transform\":{\"id\":\"1701\"}},\"line_alpha\":{\"value\":0.2},\"top\":{\"field\":\"top\"},\"width\":{\"value\":0.8},\"x\":{\"field\":\"Gender\"}},\"id\":\"1707\",\"type\":\"VBar\"},{\"attributes\":{\"children\":[{\"id\":\"1769\"},{\"id\":\"1767\"}]},\"id\":\"1770\",\"type\":\"Column\"},{\"attributes\":{},\"id\":\"1742\",\"type\":\"IntEditor\"},{\"attributes\":{\"columns\":[{\"id\":\"1733\"},{\"id\":\"1738\"},{\"id\":\"1743\"},{\"id\":\"1748\"}],\"height\":300,\"reorderable\":false,\"source\":{\"id\":\"1729\"},\"view\":{\"id\":\"1753\"},\"width\":360},\"id\":\"1751\",\"type\":\"DataTable\"},{\"attributes\":{\"below\":[{\"id\":\"1681\"}],\"center\":[{\"id\":\"1683\"},{\"id\":\"1687\"},{\"id\":\"1720\"}],\"height\":300,\"left\":[{\"id\":\"1684\"}],\"margin\":null,\"min_border_bottom\":10,\"min_border_left\":10,\"min_border_right\":10,\"min_border_top\":10,\"renderers\":[{\"id\":\"1708\"}],\"right\":[{\"id\":\"1720\"}],\"sizing_mode\":\"fixed\",\"title\":{\"id\":\"1673\"},\"toolbar\":{\"id\":\"1694\"},\"toolbar_location\":null,\"width\":700,\"x_range\":{\"id\":\"1669\"},\"x_scale\":{\"id\":\"1677\"},\"y_range\":{\"id\":\"1670\"},\"y_scale\":{\"id\":\"1679\"}},\"id\":\"1672\",\"subtype\":\"Figure\",\"type\":\"Plot\"},{\"attributes\":{\"coordinates\":null,\"group\":null,\"items\":[{\"id\":\"1721\"}],\"location\":[0,0]},\"id\":\"1720\",\"type\":\"Legend\"},{\"attributes\":{},\"id\":\"1712\",\"type\":\"BasicTickFormatter\"},{\"attributes\":{\"format\":\"0,0.0[00000]\"},\"id\":\"1746\",\"type\":\"NumberFormatter\"},{\"attributes\":{\"editor\":{\"id\":\"1737\"},\"field\":\"No_hyphen_minus_show\",\"formatter\":{\"id\":\"1736\"},\"title\":\"No-show\"},\"id\":\"1738\",\"type\":\"TableColumn\"},{\"attributes\":{},\"id\":\"1690\",\"type\":\"WheelZoomTool\"}],\"root_ids\":[\"1667\"]},\"title\":\"Bokeh Application\",\"version\":\"2.4.2\"}};\n",
       "    var render_items = [{\"docid\":\"0445fa97-facb-4bd2-a2dd-394a1ece2026\",\"root_ids\":[\"1667\"],\"roots\":{\"1667\":\"e7336ed1-eca4-4318-b5df-1ddb7a6aa397\"}}];\n",
       "    root.Bokeh.embed.embed_items_notebook(docs_json, render_items);\n",
       "  }\n",
       "  if (root.Bokeh !== undefined && root.Bokeh.Panel !== undefined) {\n",
       "    embed_document(root);\n",
       "  } else {\n",
       "    var attempts = 0;\n",
       "    var timer = setInterval(function(root) {\n",
       "      if (root.Bokeh !== undefined && root.Bokeh.Panel !== undefined) {\n",
       "        clearInterval(timer);\n",
       "        embed_document(root);\n",
       "      } else if (document.readyState == \"complete\") {\n",
       "        attempts++;\n",
       "        if (attempts > 200) {\n",
       "          clearInterval(timer);\n",
       "          console.log(\"Bokeh: ERROR: Unable to run BokehJS code because BokehJS library is missing\");\n",
       "        }\n",
       "      }\n",
       "    }, 25, root)\n",
       "  }\n",
       "})(window);</script>"
      ],
      "text/plain": [
       ":Layout\n",
       "   .Bars.I  :Bars   [Gender,No-show]   (Count)\n",
       "   .Table.I :Table   [Gender,No-show,Count,ShowProb]"
      ]
     },
     "execution_count": 29,
     "metadata": {
      "application/vnd.holoviews_exec.v0+json": {
       "id": "1667"
      }
     },
     "output_type": "execute_result"
    },
    {
     "data": {
      "text/plain": [
       "'CI is (-0.843, 0.147), can not make definitive decision'"
      ]
     },
     "execution_count": 29,
     "metadata": {},
     "output_type": "execute_result"
    }
   ],
   "source": [
    "viz4 = group_draw(\"Gender\")\n",
    "text4 = calculate_ci(\"Gender\", 0.05)\n",
    "viz4; text4"
   ]
  },
  {
   "cell_type": "code",
   "execution_count": 30,
   "metadata": {
    "collapsed": false,
    "jupyter": {
     "outputs_hidden": false
    },
    "pycharm": {
     "name": "#%%\n"
    }
   },
   "outputs": [
    {
     "data": {},
     "metadata": {},
     "output_type": "display_data"
    },
    {
     "data": {
      "application/vnd.holoviews_exec.v0+json": "",
      "text/html": [
       "<div id='1941'>\n",
       "\n",
       "\n",
       "\n",
       "\n",
       "\n",
       "  <div class=\"bk-root\" id=\"539c8090-df08-4450-a2c0-1396c6466e2d\" data-root-id=\"1941\"></div>\n",
       "</div>\n",
       "<script type=\"application/javascript\">(function(root) {\n",
       "  function embed_document(root) {\n",
       "    var docs_json = {\"427247d1-fe1a-44b5-8be8-7a568fc6675d\":{\"defs\":[{\"extends\":null,\"module\":null,\"name\":\"ReactiveHTML1\",\"overrides\":[],\"properties\":[]},{\"extends\":null,\"module\":null,\"name\":\"FlexBox1\",\"overrides\":[],\"properties\":[{\"default\":\"flex-start\",\"kind\":null,\"name\":\"align_content\"},{\"default\":\"flex-start\",\"kind\":null,\"name\":\"align_items\"},{\"default\":\"row\",\"kind\":null,\"name\":\"flex_direction\"},{\"default\":\"wrap\",\"kind\":null,\"name\":\"flex_wrap\"},{\"default\":\"flex-start\",\"kind\":null,\"name\":\"justify_content\"}]},{\"extends\":null,\"module\":null,\"name\":\"GridStack1\",\"overrides\":[],\"properties\":[{\"default\":\"warn\",\"kind\":null,\"name\":\"mode\"},{\"default\":null,\"kind\":null,\"name\":\"ncols\"},{\"default\":null,\"kind\":null,\"name\":\"nrows\"},{\"default\":true,\"kind\":null,\"name\":\"allow_resize\"},{\"default\":true,\"kind\":null,\"name\":\"allow_drag\"},{\"default\":[],\"kind\":null,\"name\":\"state\"}]},{\"extends\":null,\"module\":null,\"name\":\"click1\",\"overrides\":[],\"properties\":[{\"default\":\"\",\"kind\":null,\"name\":\"terminal_output\"},{\"default\":\"\",\"kind\":null,\"name\":\"debug_name\"},{\"default\":0,\"kind\":null,\"name\":\"clears\"}]},{\"extends\":null,\"module\":null,\"name\":\"TemplateActions1\",\"overrides\":[],\"properties\":[{\"default\":0,\"kind\":null,\"name\":\"open_modal\"},{\"default\":0,\"kind\":null,\"name\":\"close_modal\"}]},{\"extends\":null,\"module\":null,\"name\":\"MaterialTemplateActions1\",\"overrides\":[],\"properties\":[{\"default\":0,\"kind\":null,\"name\":\"open_modal\"},{\"default\":0,\"kind\":null,\"name\":\"close_modal\"}]}],\"roots\":{\"references\":[{\"attributes\":{},\"id\":\"1959\",\"type\":\"BasicTicker\"},{\"attributes\":{\"axis_label\":\"Hypertension\",\"coordinates\":null,\"formatter\":{\"id\":\"1989\"},\"group\":null,\"major_label_policy\":{\"id\":\"1990\"},\"ticker\":{\"id\":\"1956\"}},\"id\":\"1955\",\"type\":\"CategoricalAxis\"},{\"attributes\":{},\"id\":\"1987\",\"type\":\"AllLabels\"},{\"attributes\":{\"bottom\":{\"field\":\"bottom\"},\"fill_alpha\":{\"value\":0.2},\"fill_color\":{\"field\":\"No_hyphen_minus_show\",\"transform\":{\"id\":\"1975\"}},\"hatch_alpha\":{\"value\":0.2},\"hatch_color\":{\"field\":\"No_hyphen_minus_show\",\"transform\":{\"id\":\"1975\"}},\"line_alpha\":{\"value\":0.2},\"top\":{\"field\":\"top\"},\"width\":{\"value\":0.8},\"x\":{\"field\":\"Hypertension\"}},\"id\":\"1981\",\"type\":\"VBar\"},{\"attributes\":{\"axis\":{\"id\":\"1955\"},\"coordinates\":null,\"grid_line_color\":null,\"group\":null,\"ticker\":null},\"id\":\"1957\",\"type\":\"Grid\"},{\"attributes\":{},\"id\":\"1990\",\"type\":\"AllLabels\"},{\"attributes\":{\"label\":{\"field\":\"No_hyphen_minus_show\"},\"renderers\":[{\"id\":\"1982\"}]},\"id\":\"1995\",\"type\":\"LegendItem\"},{\"attributes\":{\"toolbar\":{\"id\":\"2042\"},\"toolbar_location\":\"above\"},\"id\":\"2043\",\"type\":\"ToolbarBox\"},{\"attributes\":{\"factors\":[\"0\",\"1\"],\"tags\":[[[\"Hypertension\",\"Hypertension\",null]]]},\"id\":\"1943\",\"type\":\"FactorRange\"},{\"attributes\":{},\"id\":\"2005\",\"type\":\"NumberFormatter\"},{\"attributes\":{},\"id\":\"2015\",\"type\":\"NumberFormatter\"},{\"attributes\":{\"toolbars\":[{\"id\":\"1968\"}],\"tools\":[{\"id\":\"1945\"},{\"id\":\"1962\"},{\"id\":\"1963\"},{\"id\":\"1964\"},{\"id\":\"1965\"},{\"id\":\"1966\"}]},\"id\":\"2042\",\"type\":\"ProxyToolbar\"},{\"attributes\":{\"source\":{\"id\":\"1976\"}},\"id\":\"1983\",\"type\":\"CDSView\"},{\"attributes\":{\"children\":[{\"id\":\"2043\"},{\"id\":\"2041\"}]},\"id\":\"2044\",\"type\":\"Column\"},{\"attributes\":{},\"id\":\"1989\",\"type\":\"CategoricalTickFormatter\"},{\"attributes\":{},\"id\":\"2039\",\"type\":\"UnionRenderers\"},{\"attributes\":{\"callback\":null,\"renderers\":[{\"id\":\"1982\"}],\"tags\":[\"hv_created\"],\"tooltips\":[[\"Hypertension\",\"@{Hypertension}\"],[\"No-show\",\"@{No_hyphen_minus_show}\"],[\"Count\",\"@{Count}\"]]},\"id\":\"1945\",\"type\":\"HoverTool\"},{\"attributes\":{\"source\":{\"id\":\"2003\"}},\"id\":\"2027\",\"type\":\"CDSView\"},{\"attributes\":{},\"id\":\"2004\",\"type\":\"Selection\"},{\"attributes\":{},\"id\":\"2006\",\"type\":\"IntEditor\"},{\"attributes\":{},\"id\":\"1991\",\"type\":\"UnionRenderers\"},{\"attributes\":{},\"id\":\"1953\",\"type\":\"LinearScale\"},{\"attributes\":{\"columns\":[{\"id\":\"2007\"},{\"id\":\"2012\"},{\"id\":\"2017\"},{\"id\":\"2022\"}],\"height\":300,\"reorderable\":false,\"source\":{\"id\":\"2003\"},\"view\":{\"id\":\"2027\"},\"width\":360},\"id\":\"2025\",\"type\":\"DataTable\"},{\"attributes\":{\"editor\":{\"id\":\"2021\"},\"field\":\"ShowProb\",\"formatter\":{\"id\":\"2020\"},\"title\":\"ShowProb\"},\"id\":\"2022\",\"type\":\"TableColumn\"},{\"attributes\":{\"coordinates\":null,\"group\":null,\"items\":[{\"id\":\"1995\"}],\"location\":[0,0]},\"id\":\"1994\",\"type\":\"Legend\"},{\"attributes\":{},\"id\":\"1986\",\"type\":\"BasicTickFormatter\"},{\"attributes\":{\"end\":95411.9,\"reset_end\":95411.9,\"reset_start\":0.0,\"tags\":[[[\"Count\",\"Count\",null]]]},\"id\":\"1944\",\"type\":\"Range1d\"},{\"attributes\":{\"editor\":{\"id\":\"2011\"},\"field\":\"No_hyphen_minus_show\",\"formatter\":{\"id\":\"2010\"},\"title\":\"No-show\"},\"id\":\"2012\",\"type\":\"TableColumn\"},{\"attributes\":{\"bottom\":{\"field\":\"bottom\"},\"fill_alpha\":{\"value\":0.1},\"fill_color\":{\"field\":\"No_hyphen_minus_show\",\"transform\":{\"id\":\"1975\"}},\"hatch_alpha\":{\"value\":0.1},\"hatch_color\":{\"field\":\"No_hyphen_minus_show\",\"transform\":{\"id\":\"1975\"}},\"line_alpha\":{\"value\":0.1},\"top\":{\"field\":\"top\"},\"width\":{\"value\":0.8},\"x\":{\"field\":\"Hypertension\"}},\"id\":\"1980\",\"type\":\"VBar\"},{\"attributes\":{\"format\":\"0,0.0[00000]\"},\"id\":\"2010\",\"type\":\"NumberFormatter\"},{\"attributes\":{\"coordinates\":null,\"data_source\":{\"id\":\"1976\"},\"glyph\":{\"id\":\"1979\"},\"group\":null,\"hover_glyph\":null,\"muted_glyph\":{\"id\":\"1981\"},\"nonselection_glyph\":{\"id\":\"1980\"},\"selection_glyph\":{\"id\":\"1996\"},\"view\":{\"id\":\"1983\"}},\"id\":\"1982\",\"type\":\"GlyphRenderer\"},{\"attributes\":{\"editor\":{\"id\":\"2006\"},\"field\":\"Hypertension\",\"formatter\":{\"id\":\"2005\"},\"title\":\"Hypertension\"},\"id\":\"2007\",\"type\":\"TableColumn\"},{\"attributes\":{},\"id\":\"2016\",\"type\":\"IntEditor\"},{\"attributes\":{\"below\":[{\"id\":\"1955\"}],\"center\":[{\"id\":\"1957\"},{\"id\":\"1961\"},{\"id\":\"1994\"}],\"height\":300,\"left\":[{\"id\":\"1958\"}],\"margin\":null,\"min_border_bottom\":10,\"min_border_left\":10,\"min_border_right\":10,\"min_border_top\":10,\"renderers\":[{\"id\":\"1982\"}],\"right\":[{\"id\":\"1994\"}],\"sizing_mode\":\"fixed\",\"title\":{\"id\":\"1947\"},\"toolbar\":{\"id\":\"1968\"},\"toolbar_location\":null,\"width\":700,\"x_range\":{\"id\":\"1943\"},\"x_scale\":{\"id\":\"1951\"},\"y_range\":{\"id\":\"1944\"},\"y_scale\":{\"id\":\"1953\"}},\"id\":\"1946\",\"subtype\":\"Figure\",\"type\":\"Plot\"},{\"attributes\":{},\"id\":\"2011\",\"type\":\"NumberEditor\"},{\"attributes\":{\"tools\":[{\"id\":\"1945\"},{\"id\":\"1962\"},{\"id\":\"1963\"},{\"id\":\"1964\"},{\"id\":\"1965\"},{\"id\":\"1966\"}]},\"id\":\"1968\",\"type\":\"Toolbar\"},{\"attributes\":{},\"id\":\"1966\",\"type\":\"ResetTool\"},{\"attributes\":{\"format\":\"0,0.0[00000]\"},\"id\":\"2020\",\"type\":\"NumberFormatter\"},{\"attributes\":{\"margin\":[5,5,5,5],\"name\":\"HSpacer03348\",\"sizing_mode\":\"stretch_width\"},\"id\":\"2153\",\"type\":\"Spacer\"},{\"attributes\":{\"coordinates\":null,\"group\":null,\"text\":\"Hypertension\",\"text_color\":\"black\",\"text_font_size\":\"12pt\"},\"id\":\"1947\",\"type\":\"Title\"},{\"attributes\":{},\"id\":\"1951\",\"type\":\"CategoricalScale\"},{\"attributes\":{\"axis\":{\"id\":\"1958\"},\"coordinates\":null,\"dimension\":1,\"grid_line_color\":null,\"group\":null,\"ticker\":null},\"id\":\"1961\",\"type\":\"Grid\"},{\"attributes\":{\"bottom\":{\"field\":\"bottom\"},\"fill_alpha\":{\"value\":1.0},\"fill_color\":{\"field\":\"No_hyphen_minus_show\",\"transform\":{\"id\":\"1975\"}},\"hatch_alpha\":{\"value\":1.0},\"hatch_color\":{\"field\":\"No_hyphen_minus_show\",\"transform\":{\"id\":\"1975\"}},\"hatch_scale\":{\"value\":12.0},\"hatch_weight\":{\"value\":1.0},\"line_alpha\":{\"value\":1.0},\"line_cap\":{\"value\":\"butt\"},\"line_color\":{\"value\":\"black\"},\"line_dash\":{\"value\":[]},\"line_dash_offset\":{\"value\":0},\"line_join\":{\"value\":\"bevel\"},\"line_width\":{\"value\":1},\"top\":{\"field\":\"top\"},\"width\":{\"value\":0.8},\"x\":{\"field\":\"Hypertension\"}},\"id\":\"1996\",\"type\":\"VBar\"},{\"attributes\":{},\"id\":\"1962\",\"type\":\"SaveTool\"},{\"attributes\":{\"editor\":{\"id\":\"2016\"},\"field\":\"Count\",\"formatter\":{\"id\":\"2015\"},\"title\":\"Count\"},\"id\":\"2017\",\"type\":\"TableColumn\"},{\"attributes\":{\"data\":{\"Count\":[70178,18029,18542,3772],\"Hypertension\":[\"0\",\"1\",\"0\",\"1\"],\"No_hyphen_minus_show\":[\"0\",\"0\",\"1\",\"1\"],\"bottom\":{\"__ndarray__\":\"AAAAAAAAAAAAAAAAAAAAAAAAAAAgIvFAAAAAAECb0UA=\",\"dtype\":\"float64\",\"order\":\"little\",\"shape\":[4]},\"top\":{\"__ndarray__\":\"AAAAACAi8UAAAAAAQJvRQAAAAAAAqfVAAAAAAEBK1UA=\",\"dtype\":\"float64\",\"order\":\"little\",\"shape\":[4]}},\"selected\":{\"id\":\"1977\"},\"selection_policy\":{\"id\":\"1991\"}},\"id\":\"1976\",\"type\":\"ColumnDataSource\"},{\"attributes\":{\"data\":{\"Count\":[70178,18542,18029,3772],\"Hypertension\":[0,0,1,1],\"No_hyphen_minus_show\":{\"__ndarray__\":\"AAAAAAAAAAAAAAAAAADwPwAAAAAAAAAAAAAAAAAA8D8=\",\"dtype\":\"float64\",\"order\":\"little\",\"shape\":[4]},\"ShowProb\":{\"__ndarray__\":\"PYIDlOpP6T8L9/GvVcDKP/eb7qCfduo/JJBFfIElxj8=\",\"dtype\":\"float64\",\"order\":\"little\",\"shape\":[4]}},\"selected\":{\"id\":\"2004\"},\"selection_policy\":{\"id\":\"2039\"}},\"id\":\"2003\",\"type\":\"ColumnDataSource\"},{\"attributes\":{\"margin\":[5,5,5,5],\"name\":\"HSpacer03347\",\"sizing_mode\":\"stretch_width\"},\"id\":\"1942\",\"type\":\"Spacer\"},{\"attributes\":{\"factors\":[\"0\",\"1\"],\"palette\":[\"#30a2da\",\"#fc4f30\"]},\"id\":\"1975\",\"type\":\"CategoricalColorMapper\"},{\"attributes\":{},\"id\":\"1977\",\"type\":\"Selection\"},{\"attributes\":{\"bottom_units\":\"screen\",\"coordinates\":null,\"fill_alpha\":0.5,\"fill_color\":\"lightgrey\",\"group\":null,\"left_units\":\"screen\",\"level\":\"overlay\",\"line_alpha\":1.0,\"line_color\":\"black\",\"line_dash\":[4,4],\"line_width\":2,\"right_units\":\"screen\",\"syncable\":false,\"top_units\":\"screen\"},\"id\":\"1967\",\"type\":\"BoxAnnotation\"},{\"attributes\":{\"overlay\":{\"id\":\"1967\"}},\"id\":\"1965\",\"type\":\"BoxZoomTool\"},{\"attributes\":{},\"id\":\"1956\",\"type\":\"CategoricalTicker\"},{\"attributes\":{},\"id\":\"1963\",\"type\":\"PanTool\"},{\"attributes\":{\"axis_label\":\"Count\",\"coordinates\":null,\"formatter\":{\"id\":\"1986\"},\"group\":null,\"major_label_policy\":{\"id\":\"1987\"},\"ticker\":{\"id\":\"1959\"}},\"id\":\"1958\",\"type\":\"LinearAxis\"},{\"attributes\":{},\"id\":\"2021\",\"type\":\"NumberEditor\"},{\"attributes\":{},\"id\":\"1964\",\"type\":\"WheelZoomTool\"},{\"attributes\":{\"children\":[[{\"id\":\"1946\"},0,0],[{\"id\":\"2025\"},0,1]]},\"id\":\"2041\",\"type\":\"GridBox\"},{\"attributes\":{\"children\":[{\"id\":\"1942\"},{\"id\":\"2044\"},{\"id\":\"2153\"}],\"margin\":[0,0,0,0],\"name\":\"Row03343\",\"tags\":[\"embedded\"]},\"id\":\"1941\",\"type\":\"Row\"},{\"attributes\":{\"bottom\":{\"field\":\"bottom\"},\"fill_color\":{\"field\":\"No_hyphen_minus_show\",\"transform\":{\"id\":\"1975\"}},\"hatch_color\":{\"field\":\"No_hyphen_minus_show\",\"transform\":{\"id\":\"1975\"}},\"top\":{\"field\":\"top\"},\"width\":{\"value\":0.8},\"x\":{\"field\":\"Hypertension\"}},\"id\":\"1979\",\"type\":\"VBar\"}],\"root_ids\":[\"1941\"]},\"title\":\"Bokeh Application\",\"version\":\"2.4.2\"}};\n",
       "    var render_items = [{\"docid\":\"427247d1-fe1a-44b5-8be8-7a568fc6675d\",\"root_ids\":[\"1941\"],\"roots\":{\"1941\":\"539c8090-df08-4450-a2c0-1396c6466e2d\"}}];\n",
       "    root.Bokeh.embed.embed_items_notebook(docs_json, render_items);\n",
       "  }\n",
       "  if (root.Bokeh !== undefined && root.Bokeh.Panel !== undefined) {\n",
       "    embed_document(root);\n",
       "  } else {\n",
       "    var attempts = 0;\n",
       "    var timer = setInterval(function(root) {\n",
       "      if (root.Bokeh !== undefined && root.Bokeh.Panel !== undefined) {\n",
       "        clearInterval(timer);\n",
       "        embed_document(root);\n",
       "      } else if (document.readyState == \"complete\") {\n",
       "        attempts++;\n",
       "        if (attempts > 200) {\n",
       "          clearInterval(timer);\n",
       "          console.log(\"Bokeh: ERROR: Unable to run BokehJS code because BokehJS library is missing\");\n",
       "        }\n",
       "      }\n",
       "    }, 25, root)\n",
       "  }\n",
       "})(window);</script>"
      ],
      "text/plain": [
       ":Layout\n",
       "   .Bars.I  :Bars   [Hypertension,No-show]   (Count)\n",
       "   .Table.I :Table   [Hypertension,No-show,Count,ShowProb]"
      ]
     },
     "execution_count": 30,
     "metadata": {
      "application/vnd.holoviews_exec.v0+json": {
       "id": "1941"
      }
     },
     "output_type": "execute_result"
    },
    {
     "data": {
      "text/plain": [
       "'CI is (-4.166, -3.029), proportion in the first (Hypertension=0) group tends to be less'"
      ]
     },
     "execution_count": 30,
     "metadata": {},
     "output_type": "execute_result"
    }
   ],
   "source": [
    "viz5 = group_draw(\"Hypertension\")\n",
    "text5 = calculate_ci(\"Hypertension\", 0.05)\n",
    "viz5; text5"
   ]
  },
  {
   "cell_type": "code",
   "execution_count": 493,
   "metadata": {
    "collapsed": false,
    "jupyter": {
     "outputs_hidden": false
    },
    "pycharm": {
     "name": "#%%\n"
    }
   },
   "outputs": [],
   "source": [
    "viz6 = group_draw(\"Diabetes\")\n",
    "text6 = calculate_ci(\"Diabetes\", 0.05)\n"
   ]
  },
  {
   "cell_type": "code",
   "execution_count": 494,
   "metadata": {
    "collapsed": false,
    "jupyter": {
     "outputs_hidden": false
    },
    "pycharm": {
     "name": "#%%\n"
    }
   },
   "outputs": [],
   "source": [
    "viz7 = group_draw(\"Alcoholism\")\n",
    "text7 = calculate_ci(\"Alcoholism\", 0.05)\n"
   ]
  },
  {
   "cell_type": "code",
   "execution_count": 495,
   "metadata": {
    "collapsed": false,
    "jupyter": {
     "outputs_hidden": false
    },
    "pycharm": {
     "name": "#%%\n"
    }
   },
   "outputs": [],
   "source": [
    "viz8 = group_draw(\"SMS_received\")\n",
    "text8 = calculate_ci(\"SMS_received\", 0.05)\n"
   ]
  },
  {
   "cell_type": "markdown",
   "metadata": {},
   "source": [
    "Now, let's calculate probabilitites of no-show for each age, neighborhood, scheduled hour and awaiting time and see if there are any patterns"
   ]
  },
  {
   "cell_type": "code",
   "execution_count": 406,
   "metadata": {},
   "outputs": [],
   "source": [
    "probs_age = pd.crosstab(index=df[\"Age\"], columns=df[\"No-show\"])\n",
    "probs_age[\"prob_show\"] = probs_age.loc[:, 1] / (\n",
    "    probs_age.loc[:, 0] + probs_age.loc[:, 1]\n",
    ")\n",
    "viz9 = probs_age.hvplot.scatter(x=\"Age\", y=\"prob_show\")\n"
   ]
  },
  {
   "cell_type": "code",
   "execution_count": 407,
   "metadata": {},
   "outputs": [],
   "source": [
    "probs_place = pd.crosstab(index=df[\"Neighbourhood\"], columns=df[\"No-show\"])\n",
    "probs_place[\"prob_show\"] = probs_place.loc[:, 1] / (\n",
    "    probs_place.loc[:, 0] + probs_place.loc[:, 1]\n",
    ")\n",
    "viz10 = probs_place.hvplot.scatter(x=\"Neighbourhood\", y=\"prob_show\")\n"
   ]
  },
  {
   "cell_type": "markdown",
   "metadata": {},
   "source": [
    "As we can see here age's and neighborhood's probabilities are distributed almost uniformly (except for a single peculiar points for each graph)"
   ]
  },
  {
   "cell_type": "code",
   "execution_count": 408,
   "metadata": {},
   "outputs": [],
   "source": [
    "probs_hour = (\n",
    "    pd.crosstab(index=df[\"ScheduledDay\"].dt.hour, columns=df[\"No-show\"])\n",
    "    .reset_index()\n",
    "    .rename(columns={\"ScheduledDay\": \"ScheduledHour\"})\n",
    ")\n",
    "probs_hour[\"prob_hour\"] = probs_hour.loc[:, 1] / (\n",
    "    probs_hour.loc[:, 0] + probs_hour.loc[:, 1]\n",
    ")\n",
    "viz11 = probs_hour.hvplot.scatter(x=\"ScheduledHour\", y=\"prob_hour\")\n"
   ]
  },
  {
   "cell_type": "code",
   "execution_count": 409,
   "metadata": {},
   "outputs": [],
   "source": [
    "probs_await = pd.crosstab(index=df[\"AwaitingTime\"], columns=df[\"No-show\"])\n",
    "probs_await[\"prob_await\"] = probs_await.loc[:, 1] / (\n",
    "    probs_await.loc[:, 0] + probs_await.loc[:, 1]\n",
    ")\n",
    "viz12 = probs_await.hvplot.scatter(x=\"AwaitingTime\", y=\"prob_await\")\n"
   ]
  },
  {
   "cell_type": "code",
   "execution_count": 117,
   "metadata": {},
   "outputs": [],
   "source": [
    "# import matplotlib.pyplot as plt\n",
    "from sklearn.preprocessing import OneHotEncoder\n",
    "\n",
    "encoder = OneHotEncoder()\n",
    "X, y = (\n",
    "    encoder.fit_transform(\n",
    "        df.drop([\"ScheduledDay\", \"AppointmentDay\", \"PatientId\", \"No-show\"], axis=1)\n",
    "    ),\n",
    "    df[\"No-show\"],\n",
    ")\n"
   ]
  },
  {
   "cell_type": "markdown",
   "metadata": {},
   "source": [
    "Now let's train and compair a pair of classifiers that will try to predict our target variable."
   ]
  },
  {
   "cell_type": "code",
   "execution_count": 248,
   "metadata": {},
   "outputs": [
    {
     "data": {
      "text/plain": [
       "MultinomialNB()"
      ]
     },
     "execution_count": 248,
     "metadata": {},
     "output_type": "execute_result"
    },
    {
     "data": {
      "text/plain": [
       "BernoulliNB()"
      ]
     },
     "execution_count": 248,
     "metadata": {},
     "output_type": "execute_result"
    },
    {
     "name": "stdout",
     "output_type": "stream",
     "text": [
      "Accuracy: 71.0 %\n",
      "Accuracy: 80.0 %\n"
     ]
    }
   ],
   "source": [
    "from sklearn.metrics import accuracy_score\n",
    "from sklearn.naive_bayes import BernoulliNB, MultinomialNB\n",
    "from sklearn.model_selection import train_test_split\n",
    "\n",
    "X_train, X_test, y_train, y_test = train_test_split(\n",
    "    df.drop([\"ScheduledDay\", \"AppointmentDay\", \"PatientId\", \"No-show\"], axis=1),\n",
    "    df[\"No-show\"],\n",
    "    test_size=0.2,\n",
    ")\n",
    "mclf, bclf = MultinomialNB(), BernoulliNB()\n",
    "mclf.fit(X_train, y_train)\n",
    "bclf.fit(X_test, y_test)\n",
    "print(\"Accuracy:\", round(accuracy_score(y_test, mclf.predict(X_test)), 2) * 100, \"%\")\n",
    "print(\"Accuracy:\", round(accuracy_score(y_test, bclf.predict(X_test)), 2) * 100, \"%\")\n"
   ]
  },
  {
   "cell_type": "markdown",
   "metadata": {},
   "source": [
    "Such a result is excpectable. Bernoulli classifier is well adopted for situations like we have here: a variety of binary features."
   ]
  },
  {
   "cell_type": "code",
   "execution_count": 470,
   "metadata": {},
   "outputs": [],
   "source": [
    "df_pane = pn.pane.DataFrame(df.head(), width=1400)"
   ]
  },
  {
   "cell_type": "code",
   "execution_count": 496,
   "metadata": {},
   "outputs": [],
   "source": [
    "template = pn.template.FastListTemplate(\n",
    "    theme=DefaultTheme,\n",
    "    title=\"No Show Appointment Interactive Dashboard and Analysis\",\n",
    "    sidebar=[\n",
    "        pn.pane.Markdown(\"# About the project\"),\n",
    "    ],\n",
    "    main=[\n",
    "        pn.Row(pn.Column(pn.pane.Markdown(text1), df_pane)),\n",
    "        pn.Row(pn.Column(text01, viz1, viz2)),\n",
    "        pn.Row(\n",
    "            pn.Column(\n",
    "                pn.pane.Markdown(code_ci),\n",
    "                text03,\n",
    "                viz3,\n",
    "                text3,\n",
    "                viz4,\n",
    "                text4,\n",
    "                viz5,\n",
    "                text5,\n",
    "                viz6,\n",
    "                text6,\n",
    "                viz7,\n",
    "                text7,\n",
    "                viz8,\n",
    "                text8,\n",
    "            )\n",
    "        ),\n",
    "    ],\n",
    ")\n",
    "template.servable();\n"
   ]
  },
  {
   "cell_type": "code",
   "execution_count": 497,
   "metadata": {},
   "outputs": [
    {
     "name": "stdout",
     "output_type": "stream",
     "text": [
      "Launching server at http://localhost:60989\n"
     ]
    },
    {
     "data": {
      "text/plain": [
       "<bokeh.server.server.Server at 0x7fadbb7d1e10>"
      ]
     },
     "execution_count": 497,
     "metadata": {},
     "output_type": "execute_result"
    },
    {
     "name": "stderr",
     "output_type": "stream",
     "text": [
      "WARNING:tornado.access:404 GET /static/extensions/panel/bundled/fastbasetemplate/images/header-columns-over-bg.gif (::1) 0.76ms\n"
     ]
    }
   ],
   "source": [
    "template.show()\n"
   ]
  },
  {
   "cell_type": "code",
   "execution_count": null,
   "metadata": {},
   "outputs": [],
   "source": []
  }
 ],
 "metadata": {
  "kernelspec": {
   "display_name": "Python 3 (ipykernel)",
   "language": "python",
   "name": "python3"
  },
  "language_info": {
   "codemirror_mode": {
    "name": "ipython",
    "version": 3
   },
   "file_extension": ".py",
   "mimetype": "text/x-python",
   "name": "python",
   "nbconvert_exporter": "python",
   "pygments_lexer": "ipython3",
   "version": "3.10.4"
  }
 },
 "nbformat": 4,
 "nbformat_minor": 4
}
