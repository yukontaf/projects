{
 "cells": [
  {
   "cell_type": "code",
   "execution_count": 274,
   "metadata": {
    "collapsed": true
   },
   "outputs": [],
   "source": [
    "import pandas as pd\n",
    "from scipy import stats\n",
    "from IPython.core.interactiveshell import InteractiveShell\n",
    "import hvplot.pandas\n",
    "\n",
    "pd.options.plotting.backend = \"holoviews\"\n",
    "\n",
    "\n",
    "InteractiveShell.ast_node_interactivity = \"all\"\n",
    "import numpy as np\n",
    "import panel as pn\n",
    "import scipy\n",
    "\n",
    "pn.extension()\n"
   ]
  },
  {
   "cell_type": "code",
   "execution_count": 354,
   "metadata": {
    "collapsed": false,
    "pycharm": {
     "name": "#%%\n"
    }
   },
   "outputs": [
    {
     "name": "stdout",
     "output_type": "stream",
     "text": [
      "<class 'pandas.core.frame.DataFrame'>\n",
      "RangeIndex: 110527 entries, 0 to 110526\n",
      "Data columns (total 14 columns):\n",
      " #   Column          Non-Null Count   Dtype  \n",
      "---  ------          --------------   -----  \n",
      " 0   Unnamed: 0      110527 non-null  int64  \n",
      " 1   PatientId       110527 non-null  float64\n",
      " 2   Gender          110527 non-null  float64\n",
      " 3   ScheduledDay    110527 non-null  object \n",
      " 4   AppointmentDay  110527 non-null  object \n",
      " 5   Age             110527 non-null  int64  \n",
      " 6   Neighbourhood   110527 non-null  float64\n",
      " 7   Scholarship     110527 non-null  int64  \n",
      " 8   Hypertension    110527 non-null  int64  \n",
      " 9   Diabetes        110527 non-null  int64  \n",
      " 10  Alcoholism      110527 non-null  int64  \n",
      " 11  Handcap         110527 non-null  int64  \n",
      " 12  SMS_received    110527 non-null  int64  \n",
      " 13  No-show         110527 non-null  float64\n",
      "dtypes: float64(4), int64(8), object(2)\n",
      "memory usage: 11.8+ MB\n"
     ]
    }
   ],
   "source": [
    "df = pd.read_csv(\"/Users/glebsokolov/projects/noshowappointments.csv\")\n",
    "df.info()\n"
   ]
  },
  {
   "cell_type": "code",
   "execution_count": 355,
   "metadata": {
    "collapsed": false,
    "pycharm": {
     "name": "#%%\n"
    }
   },
   "outputs": [
    {
     "data": {
      "text/html": [
       "<div>\n",
       "<style scoped>\n",
       "    .dataframe tbody tr th:only-of-type {\n",
       "        vertical-align: middle;\n",
       "    }\n",
       "\n",
       "    .dataframe tbody tr th {\n",
       "        vertical-align: top;\n",
       "    }\n",
       "\n",
       "    .dataframe thead th {\n",
       "        text-align: right;\n",
       "    }\n",
       "</style>\n",
       "<table border=\"1\" class=\"dataframe\">\n",
       "  <thead>\n",
       "    <tr style=\"text-align: right;\">\n",
       "      <th></th>\n",
       "      <th>Unnamed: 0</th>\n",
       "      <th>PatientId</th>\n",
       "      <th>Gender</th>\n",
       "      <th>ScheduledDay</th>\n",
       "      <th>AppointmentDay</th>\n",
       "      <th>Age</th>\n",
       "      <th>Neighbourhood</th>\n",
       "      <th>Scholarship</th>\n",
       "      <th>Hypertension</th>\n",
       "      <th>Diabetes</th>\n",
       "      <th>Alcoholism</th>\n",
       "      <th>Handcap</th>\n",
       "      <th>SMS_received</th>\n",
       "      <th>No-show</th>\n",
       "    </tr>\n",
       "  </thead>\n",
       "  <tbody>\n",
       "    <tr>\n",
       "      <th>0</th>\n",
       "      <td>0</td>\n",
       "      <td>2.987250e+13</td>\n",
       "      <td>0.0</td>\n",
       "      <td>2016-04-29 18:38:08+00:00</td>\n",
       "      <td>2016-04-29 00:00:00+00:00</td>\n",
       "      <td>62</td>\n",
       "      <td>39.0</td>\n",
       "      <td>0</td>\n",
       "      <td>1</td>\n",
       "      <td>0</td>\n",
       "      <td>0</td>\n",
       "      <td>0</td>\n",
       "      <td>0</td>\n",
       "      <td>0.0</td>\n",
       "    </tr>\n",
       "    <tr>\n",
       "      <th>1</th>\n",
       "      <td>1</td>\n",
       "      <td>5.589978e+14</td>\n",
       "      <td>1.0</td>\n",
       "      <td>2016-04-29 16:08:27+00:00</td>\n",
       "      <td>2016-04-29 00:00:00+00:00</td>\n",
       "      <td>56</td>\n",
       "      <td>39.0</td>\n",
       "      <td>0</td>\n",
       "      <td>0</td>\n",
       "      <td>0</td>\n",
       "      <td>0</td>\n",
       "      <td>0</td>\n",
       "      <td>0</td>\n",
       "      <td>0.0</td>\n",
       "    </tr>\n",
       "    <tr>\n",
       "      <th>2</th>\n",
       "      <td>2</td>\n",
       "      <td>4.262962e+12</td>\n",
       "      <td>0.0</td>\n",
       "      <td>2016-04-29 16:19:04+00:00</td>\n",
       "      <td>2016-04-29 00:00:00+00:00</td>\n",
       "      <td>62</td>\n",
       "      <td>45.0</td>\n",
       "      <td>0</td>\n",
       "      <td>0</td>\n",
       "      <td>0</td>\n",
       "      <td>0</td>\n",
       "      <td>0</td>\n",
       "      <td>0</td>\n",
       "      <td>0.0</td>\n",
       "    </tr>\n",
       "    <tr>\n",
       "      <th>3</th>\n",
       "      <td>3</td>\n",
       "      <td>8.679512e+11</td>\n",
       "      <td>0.0</td>\n",
       "      <td>2016-04-29 17:29:31+00:00</td>\n",
       "      <td>2016-04-29 00:00:00+00:00</td>\n",
       "      <td>8</td>\n",
       "      <td>54.0</td>\n",
       "      <td>0</td>\n",
       "      <td>0</td>\n",
       "      <td>0</td>\n",
       "      <td>0</td>\n",
       "      <td>0</td>\n",
       "      <td>0</td>\n",
       "      <td>0.0</td>\n",
       "    </tr>\n",
       "    <tr>\n",
       "      <th>4</th>\n",
       "      <td>4</td>\n",
       "      <td>8.841186e+12</td>\n",
       "      <td>0.0</td>\n",
       "      <td>2016-04-29 16:07:23+00:00</td>\n",
       "      <td>2016-04-29 00:00:00+00:00</td>\n",
       "      <td>56</td>\n",
       "      <td>39.0</td>\n",
       "      <td>0</td>\n",
       "      <td>1</td>\n",
       "      <td>1</td>\n",
       "      <td>0</td>\n",
       "      <td>0</td>\n",
       "      <td>0</td>\n",
       "      <td>0.0</td>\n",
       "    </tr>\n",
       "  </tbody>\n",
       "</table>\n",
       "</div>"
      ],
      "text/plain": [
       "   Unnamed: 0     PatientId  Gender               ScheduledDay  \\\n",
       "0           0  2.987250e+13     0.0  2016-04-29 18:38:08+00:00   \n",
       "1           1  5.589978e+14     1.0  2016-04-29 16:08:27+00:00   \n",
       "2           2  4.262962e+12     0.0  2016-04-29 16:19:04+00:00   \n",
       "3           3  8.679512e+11     0.0  2016-04-29 17:29:31+00:00   \n",
       "4           4  8.841186e+12     0.0  2016-04-29 16:07:23+00:00   \n",
       "\n",
       "              AppointmentDay  Age  Neighbourhood  Scholarship  Hypertension  \\\n",
       "0  2016-04-29 00:00:00+00:00   62           39.0            0             1   \n",
       "1  2016-04-29 00:00:00+00:00   56           39.0            0             0   \n",
       "2  2016-04-29 00:00:00+00:00   62           45.0            0             0   \n",
       "3  2016-04-29 00:00:00+00:00    8           54.0            0             0   \n",
       "4  2016-04-29 00:00:00+00:00   56           39.0            0             1   \n",
       "\n",
       "   Diabetes  Alcoholism  Handcap  SMS_received  No-show  \n",
       "0         0           0        0             0      0.0  \n",
       "1         0           0        0             0      0.0  \n",
       "2         0           0        0             0      0.0  \n",
       "3         0           0        0             0      0.0  \n",
       "4         1           0        0             0      0.0  "
      ]
     },
     "execution_count": 355,
     "metadata": {},
     "output_type": "execute_result"
    }
   ],
   "source": [
    "df.head()\n"
   ]
  },
  {
   "cell_type": "markdown",
   "metadata": {
    "collapsed": false,
    "pycharm": {
     "name": "#%% md\n"
    }
   },
   "source": [
    "First, let's preprocess the data: make the target variable boolean, make ordinal\n",
    "encoding for the Neighborhood and Gender column, cast columns, containing dates to\n",
    "datetime type, drop AppointmentID (as we wont need it), and I will also calculate a new feature - awaiting time. Then, let's also check the data for outliers and ridiculous records (i.e. negative age and so on)"
   ]
  },
  {
   "cell_type": "code",
   "execution_count": 356,
   "metadata": {
    "collapsed": false,
    "pycharm": {
     "name": "#%%\n"
    }
   },
   "outputs": [
    {
     "data": {
      "text/html": [
       "<div>\n",
       "<style scoped>\n",
       "    .dataframe tbody tr th:only-of-type {\n",
       "        vertical-align: middle;\n",
       "    }\n",
       "\n",
       "    .dataframe tbody tr th {\n",
       "        vertical-align: top;\n",
       "    }\n",
       "\n",
       "    .dataframe thead th {\n",
       "        text-align: right;\n",
       "    }\n",
       "</style>\n",
       "<table border=\"1\" class=\"dataframe\">\n",
       "  <thead>\n",
       "    <tr style=\"text-align: right;\">\n",
       "      <th></th>\n",
       "      <th>PatientId</th>\n",
       "      <th>Gender</th>\n",
       "      <th>ScheduledDay</th>\n",
       "      <th>AppointmentDay</th>\n",
       "      <th>Age</th>\n",
       "      <th>Neighbourhood</th>\n",
       "      <th>Scholarship</th>\n",
       "      <th>Hypertension</th>\n",
       "      <th>Diabetes</th>\n",
       "      <th>Alcoholism</th>\n",
       "      <th>Handcap</th>\n",
       "      <th>SMS_received</th>\n",
       "      <th>No-show</th>\n",
       "      <th>AwaitingTime</th>\n",
       "    </tr>\n",
       "  </thead>\n",
       "  <tbody>\n",
       "    <tr>\n",
       "      <th>0</th>\n",
       "      <td>2.987250e+13</td>\n",
       "      <td>0.0</td>\n",
       "      <td>2016-04-29 18:38:08+00:00</td>\n",
       "      <td>2016-04-29 00:00:00+00:00</td>\n",
       "      <td>62</td>\n",
       "      <td>39.0</td>\n",
       "      <td>0</td>\n",
       "      <td>1</td>\n",
       "      <td>0</td>\n",
       "      <td>0</td>\n",
       "      <td>0</td>\n",
       "      <td>0</td>\n",
       "      <td>0.0</td>\n",
       "      <td>0</td>\n",
       "    </tr>\n",
       "    <tr>\n",
       "      <th>1</th>\n",
       "      <td>5.589978e+14</td>\n",
       "      <td>1.0</td>\n",
       "      <td>2016-04-29 16:08:27+00:00</td>\n",
       "      <td>2016-04-29 00:00:00+00:00</td>\n",
       "      <td>56</td>\n",
       "      <td>39.0</td>\n",
       "      <td>0</td>\n",
       "      <td>0</td>\n",
       "      <td>0</td>\n",
       "      <td>0</td>\n",
       "      <td>0</td>\n",
       "      <td>0</td>\n",
       "      <td>0.0</td>\n",
       "      <td>0</td>\n",
       "    </tr>\n",
       "    <tr>\n",
       "      <th>2</th>\n",
       "      <td>4.262962e+12</td>\n",
       "      <td>0.0</td>\n",
       "      <td>2016-04-29 16:19:04+00:00</td>\n",
       "      <td>2016-04-29 00:00:00+00:00</td>\n",
       "      <td>62</td>\n",
       "      <td>45.0</td>\n",
       "      <td>0</td>\n",
       "      <td>0</td>\n",
       "      <td>0</td>\n",
       "      <td>0</td>\n",
       "      <td>0</td>\n",
       "      <td>0</td>\n",
       "      <td>0.0</td>\n",
       "      <td>0</td>\n",
       "    </tr>\n",
       "    <tr>\n",
       "      <th>3</th>\n",
       "      <td>8.679512e+11</td>\n",
       "      <td>0.0</td>\n",
       "      <td>2016-04-29 17:29:31+00:00</td>\n",
       "      <td>2016-04-29 00:00:00+00:00</td>\n",
       "      <td>8</td>\n",
       "      <td>54.0</td>\n",
       "      <td>0</td>\n",
       "      <td>0</td>\n",
       "      <td>0</td>\n",
       "      <td>0</td>\n",
       "      <td>0</td>\n",
       "      <td>0</td>\n",
       "      <td>0.0</td>\n",
       "      <td>0</td>\n",
       "    </tr>\n",
       "    <tr>\n",
       "      <th>4</th>\n",
       "      <td>8.841186e+12</td>\n",
       "      <td>0.0</td>\n",
       "      <td>2016-04-29 16:07:23+00:00</td>\n",
       "      <td>2016-04-29 00:00:00+00:00</td>\n",
       "      <td>56</td>\n",
       "      <td>39.0</td>\n",
       "      <td>0</td>\n",
       "      <td>1</td>\n",
       "      <td>1</td>\n",
       "      <td>0</td>\n",
       "      <td>0</td>\n",
       "      <td>0</td>\n",
       "      <td>0.0</td>\n",
       "      <td>0</td>\n",
       "    </tr>\n",
       "  </tbody>\n",
       "</table>\n",
       "</div>"
      ],
      "text/plain": [
       "      PatientId  Gender              ScheduledDay            AppointmentDay  \\\n",
       "0  2.987250e+13     0.0 2016-04-29 18:38:08+00:00 2016-04-29 00:00:00+00:00   \n",
       "1  5.589978e+14     1.0 2016-04-29 16:08:27+00:00 2016-04-29 00:00:00+00:00   \n",
       "2  4.262962e+12     0.0 2016-04-29 16:19:04+00:00 2016-04-29 00:00:00+00:00   \n",
       "3  8.679512e+11     0.0 2016-04-29 17:29:31+00:00 2016-04-29 00:00:00+00:00   \n",
       "4  8.841186e+12     0.0 2016-04-29 16:07:23+00:00 2016-04-29 00:00:00+00:00   \n",
       "\n",
       "   Age  Neighbourhood  Scholarship  Hypertension  Diabetes  Alcoholism  \\\n",
       "0   62           39.0            0             1         0           0   \n",
       "1   56           39.0            0             0         0           0   \n",
       "2   62           45.0            0             0         0           0   \n",
       "3    8           54.0            0             0         0           0   \n",
       "4   56           39.0            0             1         1           0   \n",
       "\n",
       "   Handcap  SMS_received  No-show  AwaitingTime  \n",
       "0        0             0      0.0             0  \n",
       "1        0             0      0.0             0  \n",
       "2        0             0      0.0             0  \n",
       "3        0             0      0.0             0  \n",
       "4        0             0      0.0             0  "
      ]
     },
     "execution_count": 356,
     "metadata": {},
     "output_type": "execute_result"
    }
   ],
   "source": [
    "from sklearn.preprocessing import OrdinalEncoder\n",
    "\n",
    "del df[\"Unnamed: 0\"]\n",
    "df[[\"ScheduledDay\", \"AppointmentDay\"]] = df[[\"ScheduledDay\", \"AppointmentDay\"]].apply(\n",
    "    lambda x: pd.to_datetime(x)\n",
    ")\n",
    "enc = OrdinalEncoder()\n",
    "df[[\"Gender\", \"Neighbourhood\", \"No-show\"]] = enc.fit_transform(\n",
    "    df[[\"Gender\", \"Neighbourhood\", \"No-show\"]]\n",
    ")\n",
    "df[\"AwaitingTime\"] = -(df[\"ScheduledDay\"] - df[\"AppointmentDay\"]).dt.days\n",
    "df.head()\n"
   ]
  },
  {
   "cell_type": "code",
   "execution_count": 282,
   "metadata": {},
   "outputs": [
    {
     "data": {
      "text/html": [
       "<div>\n",
       "<style scoped>\n",
       "    .dataframe tbody tr th:only-of-type {\n",
       "        vertical-align: middle;\n",
       "    }\n",
       "\n",
       "    .dataframe tbody tr th {\n",
       "        vertical-align: top;\n",
       "    }\n",
       "\n",
       "    .dataframe thead th {\n",
       "        text-align: right;\n",
       "    }\n",
       "</style>\n",
       "<table border=\"1\" class=\"dataframe\">\n",
       "  <thead>\n",
       "    <tr style=\"text-align: right;\">\n",
       "      <th></th>\n",
       "      <th>PatientId</th>\n",
       "      <th>Gender</th>\n",
       "      <th>ScheduledDay</th>\n",
       "      <th>AppointmentDay</th>\n",
       "      <th>Age</th>\n",
       "      <th>Neighbourhood</th>\n",
       "      <th>Scholarship</th>\n",
       "      <th>Hypertension</th>\n",
       "      <th>Diabetes</th>\n",
       "      <th>Alcoholism</th>\n",
       "      <th>Handcap</th>\n",
       "      <th>SMS_received</th>\n",
       "      <th>No-show</th>\n",
       "      <th>AwaitingTime</th>\n",
       "    </tr>\n",
       "  </thead>\n",
       "  <tbody>\n",
       "    <tr>\n",
       "      <th>27033</th>\n",
       "      <td>7.839273e+12</td>\n",
       "      <td>1.0</td>\n",
       "      <td>2016-05-10 10:51:53+00:00</td>\n",
       "      <td>2016-05-09 00:00:00+00:00</td>\n",
       "      <td>38</td>\n",
       "      <td>59.0</td>\n",
       "      <td>0</td>\n",
       "      <td>0</td>\n",
       "      <td>0</td>\n",
       "      <td>0</td>\n",
       "      <td>1</td>\n",
       "      <td>0</td>\n",
       "      <td>1.0</td>\n",
       "      <td>-1</td>\n",
       "    </tr>\n",
       "    <tr>\n",
       "      <th>55226</th>\n",
       "      <td>7.896294e+12</td>\n",
       "      <td>0.0</td>\n",
       "      <td>2016-05-18 14:50:41+00:00</td>\n",
       "      <td>2016-05-17 00:00:00+00:00</td>\n",
       "      <td>19</td>\n",
       "      <td>69.0</td>\n",
       "      <td>0</td>\n",
       "      <td>0</td>\n",
       "      <td>0</td>\n",
       "      <td>0</td>\n",
       "      <td>1</td>\n",
       "      <td>0</td>\n",
       "      <td>1.0</td>\n",
       "      <td>-1</td>\n",
       "    </tr>\n",
       "    <tr>\n",
       "      <th>64175</th>\n",
       "      <td>2.425226e+13</td>\n",
       "      <td>0.0</td>\n",
       "      <td>2016-05-05 13:43:58+00:00</td>\n",
       "      <td>2016-05-04 00:00:00+00:00</td>\n",
       "      <td>22</td>\n",
       "      <td>13.0</td>\n",
       "      <td>0</td>\n",
       "      <td>0</td>\n",
       "      <td>0</td>\n",
       "      <td>0</td>\n",
       "      <td>0</td>\n",
       "      <td>0</td>\n",
       "      <td>1.0</td>\n",
       "      <td>-1</td>\n",
       "    </tr>\n",
       "    <tr>\n",
       "      <th>71533</th>\n",
       "      <td>9.982316e+14</td>\n",
       "      <td>0.0</td>\n",
       "      <td>2016-05-11 13:49:20+00:00</td>\n",
       "      <td>2016-05-05 00:00:00+00:00</td>\n",
       "      <td>81</td>\n",
       "      <td>69.0</td>\n",
       "      <td>0</td>\n",
       "      <td>0</td>\n",
       "      <td>0</td>\n",
       "      <td>0</td>\n",
       "      <td>0</td>\n",
       "      <td>0</td>\n",
       "      <td>1.0</td>\n",
       "      <td>-6</td>\n",
       "    </tr>\n",
       "    <tr>\n",
       "      <th>72362</th>\n",
       "      <td>3.787482e+12</td>\n",
       "      <td>1.0</td>\n",
       "      <td>2016-05-04 06:50:57+00:00</td>\n",
       "      <td>2016-05-03 00:00:00+00:00</td>\n",
       "      <td>7</td>\n",
       "      <td>78.0</td>\n",
       "      <td>0</td>\n",
       "      <td>0</td>\n",
       "      <td>0</td>\n",
       "      <td>0</td>\n",
       "      <td>0</td>\n",
       "      <td>0</td>\n",
       "      <td>1.0</td>\n",
       "      <td>-1</td>\n",
       "    </tr>\n",
       "    <tr>\n",
       "      <th>99832</th>\n",
       "      <td>4.659432e+14</td>\n",
       "      <td>0.0</td>\n",
       "      <td>2016-06-06 08:58:13+00:00</td>\n",
       "      <td>2016-06-06 00:00:00+00:00</td>\n",
       "      <td>-1</td>\n",
       "      <td>60.0</td>\n",
       "      <td>0</td>\n",
       "      <td>0</td>\n",
       "      <td>0</td>\n",
       "      <td>0</td>\n",
       "      <td>0</td>\n",
       "      <td>0</td>\n",
       "      <td>0.0</td>\n",
       "      <td>0</td>\n",
       "    </tr>\n",
       "  </tbody>\n",
       "</table>\n",
       "</div>"
      ],
      "text/plain": [
       "          PatientId  Gender              ScheduledDay  \\\n",
       "27033  7.839273e+12     1.0 2016-05-10 10:51:53+00:00   \n",
       "55226  7.896294e+12     0.0 2016-05-18 14:50:41+00:00   \n",
       "64175  2.425226e+13     0.0 2016-05-05 13:43:58+00:00   \n",
       "71533  9.982316e+14     0.0 2016-05-11 13:49:20+00:00   \n",
       "72362  3.787482e+12     1.0 2016-05-04 06:50:57+00:00   \n",
       "99832  4.659432e+14     0.0 2016-06-06 08:58:13+00:00   \n",
       "\n",
       "                 AppointmentDay  Age  Neighbourhood  Scholarship  \\\n",
       "27033 2016-05-09 00:00:00+00:00   38           59.0            0   \n",
       "55226 2016-05-17 00:00:00+00:00   19           69.0            0   \n",
       "64175 2016-05-04 00:00:00+00:00   22           13.0            0   \n",
       "71533 2016-05-05 00:00:00+00:00   81           69.0            0   \n",
       "72362 2016-05-03 00:00:00+00:00    7           78.0            0   \n",
       "99832 2016-06-06 00:00:00+00:00   -1           60.0            0   \n",
       "\n",
       "       Hypertension  Diabetes  Alcoholism  Handcap  SMS_received  No-show  \\\n",
       "27033             0         0           0        1             0      1.0   \n",
       "55226             0         0           0        1             0      1.0   \n",
       "64175             0         0           0        0             0      1.0   \n",
       "71533             0         0           0        0             0      1.0   \n",
       "72362             0         0           0        0             0      1.0   \n",
       "99832             0         0           0        0             0      0.0   \n",
       "\n",
       "       AwaitingTime  \n",
       "27033            -1  \n",
       "55226            -1  \n",
       "64175            -1  \n",
       "71533            -6  \n",
       "72362            -1  \n",
       "99832             0  "
      ]
     },
     "execution_count": 282,
     "metadata": {},
     "output_type": "execute_result"
    },
    {
     "data": {
      "text/plain": [
       "array([-1,  0,  1,  2,  3,  4,  5,  6,  7,  8])"
      ]
     },
     "execution_count": 282,
     "metadata": {},
     "output_type": "execute_result"
    }
   ],
   "source": [
    "df.query(\"Age==-1 or AwaitingTime<0\")\n",
    "df.sort_values(by=\"Age\", ascending=True)[\"Age\"].unique()[:10]\n",
    "df = df.drop(index=df.query(\"Age==-1 or AwaitingTime<0\").index)\n"
   ]
  },
  {
   "cell_type": "markdown",
   "metadata": {},
   "source": [
    "As we can see here, we have several recordings with negative awaiting time, we delete them. We also see, that we have a recording with negative age."
   ]
  },
  {
   "cell_type": "markdown",
   "metadata": {},
   "source": [
    "Now and further 1 will encode a group who didn't come, and 0 who come."
   ]
  },
  {
   "cell_type": "markdown",
   "metadata": {
    "collapsed": false,
    "pycharm": {
     "name": "#%% md\n"
    }
   },
   "source": [
    "Now let's view at the distributions of the categorical variables, in order to do so,\n",
    "let's build bar plots, and  histogram for age, one more bar plot will include all the neighborhoods."
   ]
  },
  {
   "cell_type": "code",
   "execution_count": 6,
   "metadata": {},
   "outputs": [],
   "source": [
    "show_opts = [\n",
    "    1.0,\n",
    "    0.0,\n",
    "]\n",
    "show_opt = pn.widgets.Select(name=\"No-show\", options=show_opts)\n",
    "idf = df.interactive()\n",
    "data_pipeline = idf[idf[\"No-show\"] == show_opt]\n"
   ]
  },
  {
   "cell_type": "code",
   "execution_count": 357,
   "metadata": {},
   "outputs": [
    {
     "data": {},
     "metadata": {},
     "output_type": "display_data"
    },
    {
     "data": {
      "application/vnd.holoviews_exec.v0+json": "",
      "text/html": [
       "<div id='14153'>\n",
       "\n",
       "\n",
       "\n",
       "\n",
       "\n",
       "  <div class=\"bk-root\" id=\"d09db1d9-faaa-451d-80e8-b3e4a8a4d3ae\" data-root-id=\"14153\"></div>\n",
       "</div>\n",
       "<script type=\"application/javascript\">(function(root) {\n",
       "  function embed_document(root) {\n",
       "    var docs_json = {\"bfb4658c-8b9a-4089-8705-e93c3487859c\":{\"defs\":[{\"extends\":null,\"module\":null,\"name\":\"ReactiveHTML1\",\"overrides\":[],\"properties\":[]},{\"extends\":null,\"module\":null,\"name\":\"FlexBox1\",\"overrides\":[],\"properties\":[{\"default\":\"flex-start\",\"kind\":null,\"name\":\"align_content\"},{\"default\":\"flex-start\",\"kind\":null,\"name\":\"align_items\"},{\"default\":\"row\",\"kind\":null,\"name\":\"flex_direction\"},{\"default\":\"wrap\",\"kind\":null,\"name\":\"flex_wrap\"},{\"default\":\"flex-start\",\"kind\":null,\"name\":\"justify_content\"}]},{\"extends\":null,\"module\":null,\"name\":\"GridStack1\",\"overrides\":[],\"properties\":[{\"default\":\"warn\",\"kind\":null,\"name\":\"mode\"},{\"default\":null,\"kind\":null,\"name\":\"ncols\"},{\"default\":null,\"kind\":null,\"name\":\"nrows\"},{\"default\":true,\"kind\":null,\"name\":\"allow_resize\"},{\"default\":true,\"kind\":null,\"name\":\"allow_drag\"},{\"default\":[],\"kind\":null,\"name\":\"state\"}]},{\"extends\":null,\"module\":null,\"name\":\"click1\",\"overrides\":[],\"properties\":[{\"default\":\"\",\"kind\":null,\"name\":\"terminal_output\"},{\"default\":\"\",\"kind\":null,\"name\":\"debug_name\"},{\"default\":0,\"kind\":null,\"name\":\"clears\"}]},{\"extends\":null,\"module\":null,\"name\":\"TemplateActions1\",\"overrides\":[],\"properties\":[{\"default\":0,\"kind\":null,\"name\":\"open_modal\"},{\"default\":0,\"kind\":null,\"name\":\"close_modal\"}]},{\"extends\":null,\"module\":null,\"name\":\"MaterialTemplateActions1\",\"overrides\":[],\"properties\":[{\"default\":0,\"kind\":null,\"name\":\"open_modal\"},{\"default\":0,\"kind\":null,\"name\":\"close_modal\"}]}],\"roots\":{\"references\":[{\"attributes\":{},\"id\":\"14176\",\"type\":\"PanTool\"},{\"attributes\":{\"bottom_units\":\"screen\",\"coordinates\":null,\"fill_alpha\":0.5,\"fill_color\":\"lightgrey\",\"group\":null,\"left_units\":\"screen\",\"level\":\"overlay\",\"line_alpha\":1.0,\"line_color\":\"black\",\"line_dash\":[4,4],\"line_width\":2,\"right_units\":\"screen\",\"syncable\":false,\"top_units\":\"screen\"},\"id\":\"14180\",\"type\":\"BoxAnnotation\"},{\"attributes\":{},\"id\":\"14165\",\"type\":\"LinearScale\"},{\"attributes\":{},\"id\":\"14199\",\"type\":\"AllLabels\"},{\"attributes\":{\"coordinates\":null,\"data_source\":{\"id\":\"14188\"},\"glyph\":{\"id\":\"14191\"},\"group\":null,\"hover_glyph\":null,\"muted_glyph\":{\"id\":\"14193\"},\"nonselection_glyph\":{\"id\":\"14192\"},\"selection_glyph\":{\"id\":\"14196\"},\"view\":{\"id\":\"14195\"}},\"id\":\"14194\",\"type\":\"GlyphRenderer\"},{\"attributes\":{},\"id\":\"14177\",\"type\":\"WheelZoomTool\"},{\"attributes\":{\"coordinates\":null,\"group\":null,\"text_color\":\"black\",\"text_font_size\":\"12pt\"},\"id\":\"14159\",\"type\":\"Title\"},{\"attributes\":{\"bottom\":{\"value\":0},\"fill_alpha\":{\"value\":1.0},\"fill_color\":{\"value\":\"#30a2da\"},\"hatch_alpha\":{\"value\":1.0},\"hatch_color\":{\"value\":\"#30a2da\"},\"hatch_scale\":{\"value\":12.0},\"hatch_weight\":{\"value\":1.0},\"left\":{\"field\":\"left\"},\"line_alpha\":{\"value\":1.0},\"line_cap\":{\"value\":\"butt\"},\"line_color\":{\"value\":\"black\"},\"line_dash\":{\"value\":[]},\"line_dash_offset\":{\"value\":0},\"line_join\":{\"value\":\"bevel\"},\"line_width\":{\"value\":1},\"right\":{\"field\":\"right\"},\"top\":{\"field\":\"top\"}},\"id\":\"14196\",\"type\":\"Quad\"},{\"attributes\":{},\"id\":\"14175\",\"type\":\"SaveTool\"},{\"attributes\":{\"source\":{\"id\":\"14188\"}},\"id\":\"14195\",\"type\":\"CDSView\"},{\"attributes\":{},\"id\":\"14179\",\"type\":\"ResetTool\"},{\"attributes\":{\"end\":20624.5,\"reset_end\":20624.5,\"reset_start\":0.0,\"tags\":[[[\"Age_count\",\"Count\",null]]]},\"id\":\"14156\",\"type\":\"Range1d\"},{\"attributes\":{},\"id\":\"14202\",\"type\":\"AllLabels\"},{\"attributes\":{\"bottom\":{\"value\":0},\"fill_alpha\":{\"value\":0.2},\"fill_color\":{\"value\":\"#30a2da\"},\"hatch_alpha\":{\"value\":0.2},\"hatch_color\":{\"value\":\"#30a2da\"},\"left\":{\"field\":\"left\"},\"line_alpha\":{\"value\":0.2},\"right\":{\"field\":\"right\"},\"top\":{\"field\":\"top\"}},\"id\":\"14193\",\"type\":\"Quad\"},{\"attributes\":{},\"id\":\"14168\",\"type\":\"BasicTicker\"},{\"attributes\":{\"tools\":[{\"id\":\"14157\"},{\"id\":\"14175\"},{\"id\":\"14176\"},{\"id\":\"14177\"},{\"id\":\"14178\"},{\"id\":\"14179\"}]},\"id\":\"14181\",\"type\":\"Toolbar\"},{\"attributes\":{},\"id\":\"14189\",\"type\":\"Selection\"},{\"attributes\":{\"data\":{\"Age\":{\"__ndarray__\":\"MzMzMzMzE0BmZmZmZmYwQAAAAAAAADxAzMzMzMzMQ0CamZmZmZlJQGZmZmZmZk9AmpmZmZmZUkAAAAAAAIBVQGZmZmZmZlhAzMzMzMxMW0A=\",\"dtype\":\"float64\",\"order\":\"little\",\"shape\":[10]},\"Age_count\":[18750,15927,15423,17486,17072,15740,7277,2610,237,5],\"left\":{\"__ndarray__\":\"AAAAAAAA8L8zMzMzMzMlQDMzMzMzMzZAZmZmZmbmQEAzMzMzM7NGQAAAAAAAgExAZmZmZmYmUUDNzMzMzAxUQDMzMzMz81ZAmZmZmZnZWUA=\",\"dtype\":\"float64\",\"order\":\"little\",\"shape\":[10]},\"right\":{\"__ndarray__\":\"MzMzMzMzJUAzMzMzMzM2QGZmZmZm5kBAMzMzMzOzRkAAAAAAAIBMQGZmZmZmJlFAzczMzMwMVEAzMzMzM/NWQJmZmZmZ2VlAAAAAAADAXEA=\",\"dtype\":\"float64\",\"order\":\"little\",\"shape\":[10]},\"top\":[18750,15927,15423,17486,17072,15740,7277,2610,237,5]},\"selected\":{\"id\":\"14189\"},\"selection_policy\":{\"id\":\"14212\"}},\"id\":\"14188\",\"type\":\"ColumnDataSource\"},{\"attributes\":{\"axis_label\":\"\",\"coordinates\":null,\"formatter\":{\"id\":\"14201\"},\"group\":null,\"major_label_policy\":{\"id\":\"14202\"},\"ticker\":{\"id\":\"14172\"}},\"id\":\"14171\",\"type\":\"LinearAxis\"},{\"attributes\":{\"bottom\":{\"value\":0},\"fill_alpha\":{\"value\":0.1},\"fill_color\":{\"value\":\"#30a2da\"},\"hatch_alpha\":{\"value\":0.1},\"hatch_color\":{\"value\":\"#30a2da\"},\"left\":{\"field\":\"left\"},\"line_alpha\":{\"value\":0.1},\"right\":{\"field\":\"right\"},\"top\":{\"field\":\"top\"}},\"id\":\"14192\",\"type\":\"Quad\"},{\"attributes\":{\"callback\":null,\"renderers\":[{\"id\":\"14194\"}],\"tags\":[\"hv_created\"],\"tooltips\":[[\"Age\",\"@{Age}\"],[\"Count\",\"@{Age_count}\"]]},\"id\":\"14157\",\"type\":\"HoverTool\"},{\"attributes\":{\"end\":119.97142857142858,\"reset_end\":119.97142857142858,\"reset_start\":-5.9714285714285715,\"start\":-5.9714285714285715,\"tags\":[[[\"Age\",\"Age\",null]]]},\"id\":\"14155\",\"type\":\"Range1d\"},{\"attributes\":{\"bottom\":{\"value\":0},\"fill_color\":{\"value\":\"#30a2da\"},\"hatch_color\":{\"value\":\"#30a2da\"},\"left\":{\"field\":\"left\"},\"right\":{\"field\":\"right\"},\"top\":{\"field\":\"top\"}},\"id\":\"14191\",\"type\":\"Quad\"},{\"attributes\":{\"axis\":{\"id\":\"14167\"},\"coordinates\":null,\"group\":null,\"ticker\":{\"id\":\"14168\"}},\"id\":\"14170\",\"type\":\"Grid\"},{\"attributes\":{},\"id\":\"14198\",\"type\":\"BasicTickFormatter\"},{\"attributes\":{\"children\":[{\"id\":\"14154\"},{\"id\":\"14158\"},{\"id\":\"14225\"}],\"margin\":[0,0,0,0],\"name\":\"Row23278\",\"tags\":[\"embedded\"]},\"id\":\"14153\",\"type\":\"Row\"},{\"attributes\":{},\"id\":\"14212\",\"type\":\"UnionRenderers\"},{\"attributes\":{\"below\":[{\"id\":\"14167\"}],\"center\":[{\"id\":\"14170\"},{\"id\":\"14174\"}],\"height\":300,\"left\":[{\"id\":\"14171\"}],\"margin\":[5,5,5,5],\"min_border_bottom\":10,\"min_border_left\":10,\"min_border_right\":10,\"min_border_top\":10,\"renderers\":[{\"id\":\"14194\"}],\"sizing_mode\":\"fixed\",\"title\":{\"id\":\"14159\"},\"toolbar\":{\"id\":\"14181\"},\"width\":700,\"x_range\":{\"id\":\"14155\"},\"x_scale\":{\"id\":\"14163\"},\"y_range\":{\"id\":\"14156\"},\"y_scale\":{\"id\":\"14165\"}},\"id\":\"14158\",\"subtype\":\"Figure\",\"type\":\"Plot\"},{\"attributes\":{},\"id\":\"14201\",\"type\":\"BasicTickFormatter\"},{\"attributes\":{},\"id\":\"14163\",\"type\":\"LinearScale\"},{\"attributes\":{\"margin\":[5,5,5,5],\"name\":\"HSpacer23283\",\"sizing_mode\":\"stretch_width\"},\"id\":\"14225\",\"type\":\"Spacer\"},{\"attributes\":{\"axis_label\":\"Age\",\"coordinates\":null,\"formatter\":{\"id\":\"14198\"},\"group\":null,\"major_label_policy\":{\"id\":\"14199\"},\"ticker\":{\"id\":\"14168\"}},\"id\":\"14167\",\"type\":\"LinearAxis\"},{\"attributes\":{},\"id\":\"14172\",\"type\":\"BasicTicker\"},{\"attributes\":{\"overlay\":{\"id\":\"14180\"}},\"id\":\"14178\",\"type\":\"BoxZoomTool\"},{\"attributes\":{\"axis\":{\"id\":\"14171\"},\"coordinates\":null,\"dimension\":1,\"group\":null,\"ticker\":{\"id\":\"14172\"}},\"id\":\"14174\",\"type\":\"Grid\"},{\"attributes\":{\"margin\":[5,5,5,5],\"name\":\"HSpacer23282\",\"sizing_mode\":\"stretch_width\"},\"id\":\"14154\",\"type\":\"Spacer\"}],\"root_ids\":[\"14153\"]},\"title\":\"Bokeh Application\",\"version\":\"2.4.2\"}};\n",
       "    var render_items = [{\"docid\":\"bfb4658c-8b9a-4089-8705-e93c3487859c\",\"root_ids\":[\"14153\"],\"roots\":{\"14153\":\"d09db1d9-faaa-451d-80e8-b3e4a8a4d3ae\"}}];\n",
       "    root.Bokeh.embed.embed_items_notebook(docs_json, render_items);\n",
       "  }\n",
       "  if (root.Bokeh !== undefined && root.Bokeh.Panel !== undefined) {\n",
       "    embed_document(root);\n",
       "  } else {\n",
       "    var attempts = 0;\n",
       "    var timer = setInterval(function(root) {\n",
       "      if (root.Bokeh !== undefined && root.Bokeh.Panel !== undefined) {\n",
       "        clearInterval(timer);\n",
       "        embed_document(root);\n",
       "      } else if (document.readyState == \"complete\") {\n",
       "        attempts++;\n",
       "        if (attempts > 200) {\n",
       "          clearInterval(timer);\n",
       "          console.log(\"Bokeh: ERROR: Unable to run BokehJS code because BokehJS library is missing\");\n",
       "        }\n",
       "      }\n",
       "    }, 25, root)\n",
       "  }\n",
       "})(window);</script>"
      ],
      "text/plain": [
       ":Histogram   [Age]   (Age_count)"
      ]
     },
     "execution_count": 357,
     "metadata": {
      "application/vnd.holoviews_exec.v0+json": {
       "id": "14153"
      }
     },
     "output_type": "execute_result"
    }
   ],
   "source": [
    "df.Age.hist()\n"
   ]
  },
  {
   "cell_type": "code",
   "execution_count": 360,
   "metadata": {},
   "outputs": [
    {
     "data": {},
     "metadata": {},
     "output_type": "display_data"
    },
    {
     "data": {
      "application/vnd.holoviews_exec.v0+json": "",
      "text/html": [
       "<div id='14546'>\n",
       "\n",
       "\n",
       "\n",
       "\n",
       "\n",
       "  <div class=\"bk-root\" id=\"8e06febb-bb1f-4547-b1f5-59022014a8c4\" data-root-id=\"14546\"></div>\n",
       "</div>\n",
       "<script type=\"application/javascript\">(function(root) {\n",
       "  function embed_document(root) {\n",
       "    var docs_json = {\"4acadc13-0f01-43f9-8330-f61945b9ebe1\":{\"defs\":[{\"extends\":null,\"module\":null,\"name\":\"ReactiveHTML1\",\"overrides\":[],\"properties\":[]},{\"extends\":null,\"module\":null,\"name\":\"FlexBox1\",\"overrides\":[],\"properties\":[{\"default\":\"flex-start\",\"kind\":null,\"name\":\"align_content\"},{\"default\":\"flex-start\",\"kind\":null,\"name\":\"align_items\"},{\"default\":\"row\",\"kind\":null,\"name\":\"flex_direction\"},{\"default\":\"wrap\",\"kind\":null,\"name\":\"flex_wrap\"},{\"default\":\"flex-start\",\"kind\":null,\"name\":\"justify_content\"}]},{\"extends\":null,\"module\":null,\"name\":\"GridStack1\",\"overrides\":[],\"properties\":[{\"default\":\"warn\",\"kind\":null,\"name\":\"mode\"},{\"default\":null,\"kind\":null,\"name\":\"ncols\"},{\"default\":null,\"kind\":null,\"name\":\"nrows\"},{\"default\":true,\"kind\":null,\"name\":\"allow_resize\"},{\"default\":true,\"kind\":null,\"name\":\"allow_drag\"},{\"default\":[],\"kind\":null,\"name\":\"state\"}]},{\"extends\":null,\"module\":null,\"name\":\"click1\",\"overrides\":[],\"properties\":[{\"default\":\"\",\"kind\":null,\"name\":\"terminal_output\"},{\"default\":\"\",\"kind\":null,\"name\":\"debug_name\"},{\"default\":0,\"kind\":null,\"name\":\"clears\"}]},{\"extends\":null,\"module\":null,\"name\":\"TemplateActions1\",\"overrides\":[],\"properties\":[{\"default\":0,\"kind\":null,\"name\":\"open_modal\"},{\"default\":0,\"kind\":null,\"name\":\"close_modal\"}]},{\"extends\":null,\"module\":null,\"name\":\"MaterialTemplateActions1\",\"overrides\":[],\"properties\":[{\"default\":0,\"kind\":null,\"name\":\"open_modal\"},{\"default\":0,\"kind\":null,\"name\":\"close_modal\"}]}],\"roots\":{\"references\":[{\"attributes\":{},\"id\":\"14621\",\"type\":\"IntEditor\"},{\"attributes\":{},\"id\":\"14556\",\"type\":\"CategoricalScale\"},{\"attributes\":{\"margin\":[5,5,5,5],\"name\":\"HSpacer23935\",\"sizing_mode\":\"stretch_width\"},\"id\":\"14753\",\"type\":\"Spacer\"},{\"attributes\":{},\"id\":\"14564\",\"type\":\"BasicTicker\"},{\"attributes\":{},\"id\":\"14639\",\"type\":\"UnionRenderers\"},{\"attributes\":{\"factors\":[\"0\",\"1\"],\"palette\":[\"#30a2da\",\"#fc4f30\"]},\"id\":\"14580\",\"type\":\"CategoricalColorMapper\"},{\"attributes\":{},\"id\":\"14567\",\"type\":\"SaveTool\"},{\"attributes\":{\"overlay\":{\"id\":\"14572\"}},\"id\":\"14570\",\"type\":\"BoxZoomTool\"},{\"attributes\":{\"editor\":{\"id\":\"14616\"},\"field\":\"No_hyphen_minus_show\",\"formatter\":{\"id\":\"14615\"},\"title\":\"No-show\"},\"id\":\"14617\",\"type\":\"TableColumn\"},{\"attributes\":{\"data\":{\"Neighbourhood\":[\"0\",\"52\",\"51\",\"50\",\"49\",\"48\",\"47\",\"46\",\"45\",\"44\",\"43\",\"42\",\"41\",\"80\",\"39\",\"38\",\"37\",\"36\",\"35\",\"33\",\"32\",\"31\",\"30\",\"29\",\"53\",\"28\",\"54\",\"56\",\"79\",\"78\",\"77\",\"76\",\"75\",\"74\",\"73\",\"72\",\"71\",\"70\",\"69\",\"68\",\"67\",\"66\",\"65\",\"64\",\"63\",\"62\",\"61\",\"60\",\"59\",\"58\",\"57\",\"55\",\"27\",\"40\",\"26\",\"19\",\"18\",\"17\",\"16\",\"15\",\"14\",\"12\",\"11\",\"20\",\"10\",\"8\",\"7\",\"6\",\"5\",\"4\",\"3\",\"2\",\"1\",\"9\",\"21\",\"13\",\"25\",\"23\",\"24\",\"22\",\"38\",\"68\",\"24\",\"67\",\"6\",\"66\",\"30\",\"65\",\"7\",\"64\",\"63\",\"8\",\"62\",\"31\",\"61\",\"5\",\"69\",\"70\",\"9\",\"79\",\"0\",\"78\",\"27\",\"77\",\"1\",\"76\",\"25\",\"75\",\"2\",\"74\",\"28\",\"73\",\"3\",\"72\",\"71\",\"4\",\"29\",\"60\",\"59\",\"37\",\"47\",\"16\",\"46\",\"35\",\"45\",\"17\",\"44\",\"43\",\"18\",\"42\",\"36\",\"41\",\"19\",\"40\",\"21\",\"39\",\"20\",\"22\",\"23\",\"48\",\"49\",\"10\",\"58\",\"32\",\"57\",\"11\",\"56\",\"55\",\"12\",\"54\",\"26\",\"53\",\"13\",\"52\",\"33\",\"14\",\"50\",\"34\",\"15\",\"80\"],\"No_hyphen_minus_show\":[\"0\",\"0\",\"0\",\"0\",\"0\",\"0\",\"0\",\"0\",\"0\",\"0\",\"0\",\"0\",\"0\",\"0\",\"0\",\"0\",\"0\",\"0\",\"0\",\"0\",\"0\",\"0\",\"0\",\"0\",\"0\",\"0\",\"0\",\"0\",\"0\",\"0\",\"0\",\"0\",\"0\",\"0\",\"0\",\"0\",\"0\",\"0\",\"0\",\"0\",\"0\",\"0\",\"0\",\"0\",\"0\",\"0\",\"0\",\"0\",\"0\",\"0\",\"0\",\"0\",\"0\",\"0\",\"0\",\"0\",\"0\",\"0\",\"0\",\"0\",\"0\",\"0\",\"0\",\"0\",\"0\",\"0\",\"0\",\"0\",\"0\",\"0\",\"0\",\"0\",\"0\",\"0\",\"0\",\"0\",\"0\",\"0\",\"0\",\"0\",\"1\",\"1\",\"1\",\"1\",\"1\",\"1\",\"1\",\"1\",\"1\",\"1\",\"1\",\"1\",\"1\",\"1\",\"1\",\"1\",\"1\",\"1\",\"1\",\"1\",\"1\",\"1\",\"1\",\"1\",\"1\",\"1\",\"1\",\"1\",\"1\",\"1\",\"1\",\"1\",\"1\",\"1\",\"1\",\"1\",\"1\",\"1\",\"1\",\"1\",\"1\",\"1\",\"1\",\"1\",\"1\",\"1\",\"1\",\"1\",\"1\",\"1\",\"1\",\"1\",\"1\",\"1\",\"1\",\"1\",\"1\",\"1\",\"1\",\"1\",\"1\",\"1\",\"1\",\"1\",\"1\",\"1\",\"1\",\"1\",\"1\",\"1\",\"1\",\"1\",\"1\",\"1\",\"1\",\"1\",\"1\",\"1\",\"1\",\"1\"],\"PatientId\":[7,623,1,1862,106,317,80,658,534,1478,4586,561,1169,710,3246,6252,2058,2591,855,1734,8,32,1524,836,364,133,57,994,120,2559,1933,1549,1473,1152,400,117,435,907,2262,2063,1060,2635,352,351,141,372,325,1741,3525,692,1278,845,1562,2157,854,709,321,472,258,1788,1094,689,254,183,2631,2223,254,665,1523,332,220,221,1741,1974,432,1139,563,1543,210,533,1465,508,48,272,193,496,361,86,58,77,37,550,134,3,123,384,484,369,591,32,1,573,456,515,521,428,137,363,50,287,42,69,62,28,112,91,235,474,906,451,16,47,166,202,110,88,424,1219,92,133,923,258,140,696,106,631,52,149,346,54,29,703,143,2,275,56,294,190,160,12,217,88,237,179,532,304,402,2,429,141],\"bottom\":{\"__ndarray__\":\"AAAAAAAAAAAAAAAAAAAAAAAAAAAAAAAAAAAAAAAAAAAAAAAAAAAAAAAAAAAAAAAAAAAAAAAAAAAAAAAAAAAAAAAAAAAAAAAAAAAAAAAAAAAAAAAAAAAAAAAAAAAAAAAAAAAAAAAAAAAAAAAAAAAAAAAAAAAAAAAAAAAAAAAAAAAAAAAAAAAAAAAAAAAAAAAAAAAAAAAAAAAAAAAAAAAAAAAAAAAAAAAAAAAAAAAAAAAAAAAAAAAAAAAAAAAAAAAAAAAAAAAAAAAAAAAAAAAAAAAAAAAAAAAAAAAAAAAAAAAAAAAAAAAAAAAAAAAAAAAAAAAAAAAAAAAAAAAAAAAAAAAAAAAAAAAAAAAAAAAAAAAAAAAAAAAAAAAAAAAAAAAAAAAAAAAAAAAAAAAAAAAAAAAAAAAAAAAAAAAAAAAAAAAAAAAAAAAAAAAAAAAAAAAAAAAAAAAAAAAAAAAAAAAAAAAAAAAAAAAAAAAAAAAAAAAAAAAAAAAAAAAAAAAAAAAAAAAAAAAAAAAAAAAAAAAAAAAAAAAAAAAAAAAAAAAAAAAAAAAAAAAAAAAAAAAAAAAAAAAAAAAAAAAAAAAAAAAAAAAAAAAAAAAAAAAAAAAAAAAAAAAAAAAAAAAAAAAAAAAAAAAAAAAAAAAAAAAAAAAAAAAAAAAAAAAAAAAAAAAAAAAAAAAAAAAAAAAAAAAAAAAAAAAAAAAAAAAAAAAAAAAAAAAAAAAAAAAAAAAAAAAAAAAAAAAAAAAAAAAAAAAAAAAAAAAAAAAAAAAAAAAAAAAAAAAAAAAAAAAAAAAAAAAAAAAAAAAAAAAAAAAAAAAAAAAAAAAAAAAAAAAAAAAAAAAAAAAAAAAAbLhAAAAAAAAeoEAAAAAAAEBqQAAAAAAAkJBAAAAAAADIhEAAAAAAAJakQAAAAAAA0JdAAAAAAAAAdkAAAAAAAMBvQAAAAAAA8HVAAAAAAACgYUAAAAAAAF6hQAAAAAAAQHdAAAAAAAAAQEAAAAAAAFB0QAAAAAAAzJdAAAAAAACsoUAAAAAAAFiMQAAAAAAA2J5AAAAAAAAAXkAAAAAAAAAcQAAAAAAA/qNAAAAAAABomEAAAAAAADSeQAAAAAAANJtAAAAAAAA0mEAAAAAAAJiBQAAAAAAABJdAAAAAAACga0AAAAAAAACSQAAAAAAAoGBAAAAAAAAAeUAAAAAAAIBrQAAAAAAAQF1AAAAAAAAwe0AAAAAAAMB0QAAAAAAAIIpAAAAAAAA0m0AAAAAAAIqrQAAAAAAAFKBAAAAAAAAAVEAAAAAAACBwQAAAAAAAkIRAAAAAAAC4ikAAAAAAALCAQAAAAAAAgH1AAAAAAAAYl0AAAAAAAOqxQAAAAAAAEHRAAAAAAACIgUAAAAAAAD6kQAAAAAAARJJAAAAAAAAohkAAAAAAANqgQAAAAAAAAHtAAAAAAABcqUAAAAAAAOBmQAAAAAAAqIBAAAAAAAAcmEAAAAAAANBzQAAAAAAAgFpAAAAAAACOpEAAAAAAAKCFQAAAAAAAACBAAAAAAAD4k0AAAAAAAMBvQAAAAAAAEI9AAAAAAABoikAAAAAAAIiFQAAAAAAAgExAAAAAAACwikAAAAAAAMB2QAAAAAAAzJFAAAAAAAB4g0AAAAAAABibQAAAAAAAGJFAAAAAAAAYnUAAAAAAAAAAAAAAAAAA8JtAAAAAAAAwhkA=\",\"dtype\":\"float64\",\"order\":\"little\",\"shape\":[160]},\"top\":{\"__ndarray__\":\"AAAAAAAAHEAAAAAAAHiDQAAAAAAAAPA/AAAAAAAYnUAAAAAAAIBaQAAAAAAA0HNAAAAAAAAAVEAAAAAAAJCEQAAAAAAAsIBAAAAAAAAYl0AAAAAAAOqxQAAAAAAAiIFAAAAAAABEkkAAAAAAADCGQAAAAAAAXKlAAAAAAABsuEAAAAAAABSgQAAAAAAAPqRAAAAAAAC4ikAAAAAAABibQAAAAAAAACBAAAAAAAAAQEAAAAAAANCXQAAAAAAAIIpAAAAAAADAdkAAAAAAAKBgQAAAAAAAgExAAAAAAAAQj0AAAAAAAABeQAAAAAAA/qNAAAAAAAA0nkAAAAAAADSYQAAAAAAABJdAAAAAAAAAkkAAAAAAAAB5QAAAAAAAQF1AAAAAAAAwe0AAAAAAAFiMQAAAAAAArKFAAAAAAAAeoEAAAAAAAJCQQAAAAAAAlqRAAAAAAAAAdkAAAAAAAPB1QAAAAAAAoGFAAAAAAABAd0AAAAAAAFB0QAAAAAAANJtAAAAAAACKq0AAAAAAAKCFQAAAAAAA+JNAAAAAAABoikAAAAAAAGiYQAAAAAAA2qBAAAAAAACwikAAAAAAACiGQAAAAAAAEHRAAAAAAACAfUAAAAAAACBwQAAAAAAA8JtAAAAAAAAYkUAAAAAAAIiFQAAAAAAAwG9AAAAAAADgZkAAAAAAAI6kQAAAAAAAXqFAAAAAAADAb0AAAAAAAMiEQAAAAAAAzJdAAAAAAADAdEAAAAAAAIBrQAAAAAAAoGtAAAAAAAA0m0AAAAAAANieQAAAAAAAAHtAAAAAAADMkUAAAAAAAJiBQAAAAAAAHJhAAAAAAABAakAAAAAAAKiAQAAAAAAAJb5AAAAAAAAWpEAAAAAAACBwQAAAAAAA0JRAAAAAAADQikAAAAAAAHaoQAAAAAAAdJ1AAAAAAABge0AAAAAAAIBzQAAAAAAAwHpAAAAAAABAZkAAAAAAAKqlQAAAAAAAoH9AAAAAAACAQUAAAAAAAAB8QAAAAAAAzJ1AAAAAAAB0pUAAAAAAAPCTQAAAAAAACqRAAAAAAAAAY0AAAAAAAAAgQAAAAAAAeKhAAAAAAACIn0AAAAAAACCjQAAAAAAArKFAAAAAAADknkAAAAAAAOCFQAAAAAAAsJxAAAAAAADwcEAAAAAAAHyWQAAAAAAA4GVAAAAAAABQfUAAAAAAAKBxQAAAAAAAIGJAAAAAAAAYgUAAAAAAAHB6QAAAAAAAvJBAAAAAAABOoUAAAAAAAE+xQAAAAAAAmqNAAAAAAAAAWEAAAAAAABBzQAAAAAAAwIlAAAAAAACEkEAAAAAAACCEQAAAAAAAgIFAAAAAAAC4nUAAAAAAAK22QAAAAAAA0HlAAAAAAACwhUAAAAAAAHSrQAAAAAAATJZAAAAAAACIikAAAAAAAEqmQAAAAAAA0IBAAAAAAABKrkAAAAAAAGBtQAAAAAAAUIVAAAAAAACEnUAAAAAAADB3QAAAAAAA4GBAAAAAAAAMqkAAAAAAABiKQAAAAAAAACRAAAAAAABEmEAAAAAAAGBzQAAAAAAAIJRAAAAAAAAskEAAAAAAAIiKQAAAAAAAQFFAAAAAAAC8kEAAAAAAAEB8QAAAAAAAgJVAAAAAAAAQiUAAAAAAALShQAAAAAAA2JVAAAAAAACwoUAAAAAAAAAAQAAAAAAAUqFAAAAAAACYikA=\",\"dtype\":\"float64\",\"order\":\"little\",\"shape\":[160]}},\"selected\":{\"id\":\"14582\"},\"selection_policy\":{\"id\":\"14596\"}},\"id\":\"14581\",\"type\":\"ColumnDataSource\"},{\"attributes\":{\"columns\":[{\"id\":\"14612\"},{\"id\":\"14617\"},{\"id\":\"14622\"}],\"height\":300,\"reorderable\":false,\"source\":{\"id\":\"14608\"},\"view\":{\"id\":\"14627\"},\"width\":240},\"id\":\"14625\",\"type\":\"DataTable\"},{\"attributes\":{},\"id\":\"14592\",\"type\":\"AllLabels\"},{\"attributes\":{},\"id\":\"14568\",\"type\":\"PanTool\"},{\"attributes\":{\"label\":{\"field\":\"No_hyphen_minus_show\"},\"renderers\":[{\"id\":\"14587\"}]},\"id\":\"14600\",\"type\":\"LegendItem\"},{\"attributes\":{},\"id\":\"14611\",\"type\":\"NumberEditor\"},{\"attributes\":{\"data\":{\"Neighbourhood\":{\"__ndarray__\":\"AAAAAAAAAAAAAAAAAAAAAAAAAAAAAPA/AAAAAAAA8D8AAAAAAAAAQAAAAAAAAABAAAAAAAAACEAAAAAAAAAIQAAAAAAAABBAAAAAAAAAEEAAAAAAAAAUQAAAAAAAABRAAAAAAAAAGEAAAAAAAAAYQAAAAAAAABxAAAAAAAAAHEAAAAAAAAAgQAAAAAAAACBAAAAAAAAAIkAAAAAAAAAiQAAAAAAAACRAAAAAAAAAJEAAAAAAAAAmQAAAAAAAACZAAAAAAAAAKEAAAAAAAAAoQAAAAAAAACpAAAAAAAAAKkAAAAAAAAAsQAAAAAAAACxAAAAAAAAALkAAAAAAAAAuQAAAAAAAADBAAAAAAAAAMEAAAAAAAAAxQAAAAAAAADFAAAAAAAAAMkAAAAAAAAAyQAAAAAAAADNAAAAAAAAAM0AAAAAAAAA0QAAAAAAAADRAAAAAAAAANUAAAAAAAAA1QAAAAAAAADZAAAAAAAAANkAAAAAAAAA3QAAAAAAAADdAAAAAAAAAOEAAAAAAAAA4QAAAAAAAADlAAAAAAAAAOUAAAAAAAAA6QAAAAAAAADpAAAAAAAAAO0AAAAAAAAA7QAAAAAAAADxAAAAAAAAAPEAAAAAAAAA9QAAAAAAAAD1AAAAAAAAAPkAAAAAAAAA+QAAAAAAAAD9AAAAAAAAAP0AAAAAAAABAQAAAAAAAAEBAAAAAAACAQEAAAAAAAIBAQAAAAAAAAEFAAAAAAACAQUAAAAAAAIBBQAAAAAAAAEJAAAAAAAAAQkAAAAAAAIBCQAAAAAAAgEJAAAAAAAAAQ0AAAAAAAABDQAAAAAAAgENAAAAAAACAQ0AAAAAAAABEQAAAAAAAAERAAAAAAACAREAAAAAAAIBEQAAAAAAAAEVAAAAAAAAARUAAAAAAAIBFQAAAAAAAgEVAAAAAAAAARkAAAAAAAABGQAAAAAAAgEZAAAAAAACARkAAAAAAAABHQAAAAAAAAEdAAAAAAACAR0AAAAAAAIBHQAAAAAAAAEhAAAAAAAAASEAAAAAAAIBIQAAAAAAAgEhAAAAAAAAASUAAAAAAAABJQAAAAAAAgElAAAAAAAAASkAAAAAAAABKQAAAAAAAgEpAAAAAAACASkAAAAAAAABLQAAAAAAAAEtAAAAAAACAS0AAAAAAAIBLQAAAAAAAAExAAAAAAAAATEAAAAAAAIBMQAAAAAAAgExAAAAAAAAATUAAAAAAAABNQAAAAAAAgE1AAAAAAACATUAAAAAAAABOQAAAAAAAAE5AAAAAAACATkAAAAAAAIBOQAAAAAAAAE9AAAAAAAAAT0AAAAAAAIBPQAAAAAAAgE9AAAAAAAAAUEAAAAAAAABQQAAAAAAAQFBAAAAAAABAUEAAAAAAAIBQQAAAAAAAgFBAAAAAAADAUEAAAAAAAMBQQAAAAAAAAFFAAAAAAAAAUUAAAAAAAEBRQAAAAAAAQFFAAAAAAACAUUAAAAAAAIBRQAAAAAAAwFFAAAAAAADAUUAAAAAAAABSQAAAAAAAAFJAAAAAAABAUkAAAAAAAEBSQAAAAAAAgFJAAAAAAACAUkAAAAAAAMBSQAAAAAAAwFJAAAAAAAAAU0AAAAAAAABTQAAAAAAAQFNAAAAAAABAU0AAAAAAAIBTQAAAAAAAgFNAAAAAAADAU0AAAAAAAMBTQAAAAAAAAFRAAAAAAAAAVEA=\",\"dtype\":\"float64\",\"order\":\"little\",\"shape\":[160]},\"No_hyphen_minus_show\":{\"__ndarray__\":\"AAAAAAAAAAAAAAAAAADwPwAAAAAAAAAAAAAAAAAA8D8AAAAAAAAAAAAAAAAAAPA/AAAAAAAAAAAAAAAAAADwPwAAAAAAAAAAAAAAAAAA8D8AAAAAAAAAAAAAAAAAAPA/AAAAAAAAAAAAAAAAAADwPwAAAAAAAAAAAAAAAAAA8D8AAAAAAAAAAAAAAAAAAPA/AAAAAAAAAAAAAAAAAADwPwAAAAAAAAAAAAAAAAAA8D8AAAAAAAAAAAAAAAAAAPA/AAAAAAAAAAAAAAAAAADwPwAAAAAAAAAAAAAAAAAA8D8AAAAAAAAAAAAAAAAAAPA/AAAAAAAAAAAAAAAAAADwPwAAAAAAAAAAAAAAAAAA8D8AAAAAAAAAAAAAAAAAAPA/AAAAAAAAAAAAAAAAAADwPwAAAAAAAAAAAAAAAAAA8D8AAAAAAAAAAAAAAAAAAPA/AAAAAAAAAAAAAAAAAADwPwAAAAAAAAAAAAAAAAAA8D8AAAAAAAAAAAAAAAAAAPA/AAAAAAAAAAAAAAAAAADwPwAAAAAAAAAAAAAAAAAA8D8AAAAAAAAAAAAAAAAAAPA/AAAAAAAAAAAAAAAAAADwPwAAAAAAAAAAAAAAAAAA8D8AAAAAAAAAAAAAAAAAAPA/AAAAAAAAAAAAAAAAAADwPwAAAAAAAAAAAAAAAAAA8D8AAAAAAAAAAAAAAAAAAPA/AAAAAAAAAAAAAAAAAADwPwAAAAAAAPA/AAAAAAAAAAAAAAAAAADwPwAAAAAAAAAAAAAAAAAA8D8AAAAAAAAAAAAAAAAAAPA/AAAAAAAAAAAAAAAAAADwPwAAAAAAAAAAAAAAAAAA8D8AAAAAAAAAAAAAAAAAAPA/AAAAAAAAAAAAAAAAAADwPwAAAAAAAAAAAAAAAAAA8D8AAAAAAAAAAAAAAAAAAPA/AAAAAAAAAAAAAAAAAADwPwAAAAAAAAAAAAAAAAAA8D8AAAAAAAAAAAAAAAAAAPA/AAAAAAAAAAAAAAAAAADwPwAAAAAAAAAAAAAAAAAA8D8AAAAAAAAAAAAAAAAAAPA/AAAAAAAAAAAAAAAAAADwPwAAAAAAAAAAAAAAAAAAAAAAAAAAAADwPwAAAAAAAAAAAAAAAAAA8D8AAAAAAAAAAAAAAAAAAPA/AAAAAAAAAAAAAAAAAADwPwAAAAAAAAAAAAAAAAAA8D8AAAAAAAAAAAAAAAAAAPA/AAAAAAAAAAAAAAAAAADwPwAAAAAAAAAAAAAAAAAA8D8AAAAAAAAAAAAAAAAAAPA/AAAAAAAAAAAAAAAAAADwPwAAAAAAAAAAAAAAAAAA8D8AAAAAAAAAAAAAAAAAAPA/AAAAAAAAAAAAAAAAAADwPwAAAAAAAAAAAAAAAAAA8D8AAAAAAAAAAAAAAAAAAPA/AAAAAAAAAAAAAAAAAADwPwAAAAAAAAAAAAAAAAAA8D8AAAAAAAAAAAAAAAAAAPA/AAAAAAAAAAAAAAAAAADwPwAAAAAAAAAAAAAAAAAA8D8AAAAAAAAAAAAAAAAAAPA/AAAAAAAAAAAAAAAAAADwPwAAAAAAAAAAAAAAAAAA8D8AAAAAAAAAAAAAAAAAAPA/AAAAAAAAAAAAAAAAAADwPwAAAAAAAAAAAAAAAAAA8D8AAAAAAAAAAAAAAAAAAPA/AAAAAAAAAAAAAAAAAADwPwAAAAAAAAAAAAAAAAAA8D8=\",\"dtype\":\"float64\",\"order\":\"little\",\"shape\":[160]},\"PatientId\":[7,1,1741,521,221,50,220,62,332,91,1523,384,665,193,254,58,2223,550,1974,591,2631,703,254,56,689,160,1139,237,1094,304,1788,429,258,47,472,88,321,92,709,140,183,52,432,106,533,149,1543,346,210,48,563,137,854,217,1562,456,133,42,836,235,1524,361,32,3,8,2,1734,532,2,855,202,2591,923,2058,451,6252,1465,3246,631,2157,696,1169,258,561,133,4586,1219,1478,424,534,110,658,166,80,16,317,54,106,29,1862,402,1,623,179,364,88,57,12,845,190,994,294,1278,275,692,143,3525,906,1741,474,325,123,372,134,141,37,351,77,352,86,2635,496,1060,272,2063,508,2262,484,907,369,435,112,117,28,400,69,1152,287,1473,363,1549,428,1933,515,2559,573,120,32,710,141]},\"selected\":{\"id\":\"14609\"},\"selection_policy\":{\"id\":\"14639\"}},\"id\":\"14608\",\"type\":\"ColumnDataSource\"},{\"attributes\":{\"editor\":{\"id\":\"14611\"},\"field\":\"Neighbourhood\",\"formatter\":{\"id\":\"14610\"},\"title\":\"Neighbourhood\"},\"id\":\"14612\",\"type\":\"TableColumn\"},{\"attributes\":{\"bottom_units\":\"screen\",\"coordinates\":null,\"fill_alpha\":0.5,\"fill_color\":\"lightgrey\",\"group\":null,\"left_units\":\"screen\",\"level\":\"overlay\",\"line_alpha\":1.0,\"line_color\":\"black\",\"line_dash\":[4,4],\"line_width\":2,\"right_units\":\"screen\",\"syncable\":false,\"top_units\":\"screen\"},\"id\":\"14572\",\"type\":\"BoxAnnotation\"},{\"attributes\":{},\"id\":\"14591\",\"type\":\"BasicTickFormatter\"},{\"attributes\":{\"source\":{\"id\":\"14608\"}},\"id\":\"14627\",\"type\":\"CDSView\"},{\"attributes\":{\"factors\":[\"0\",\"1\",\"2\",\"3\",\"4\",\"5\",\"6\",\"7\",\"8\",\"9\",\"10\",\"11\",\"12\",\"13\",\"14\",\"15\",\"16\",\"17\",\"18\",\"19\",\"20\",\"21\",\"22\",\"23\",\"24\",\"25\",\"26\",\"27\",\"28\",\"29\",\"30\",\"31\",\"32\",\"33\",\"34\",\"35\",\"36\",\"37\",\"38\",\"39\",\"40\",\"41\",\"42\",\"43\",\"44\",\"45\",\"46\",\"47\",\"48\",\"49\",\"50\",\"51\",\"52\",\"53\",\"54\",\"55\",\"56\",\"57\",\"58\",\"59\",\"60\",\"61\",\"62\",\"63\",\"64\",\"65\",\"66\",\"67\",\"68\",\"69\",\"70\",\"71\",\"72\",\"73\",\"74\",\"75\",\"76\",\"77\",\"78\",\"79\",\"80\"],\"tags\":[[[\"Neighbourhood\",\"Neighbourhood\",null]]]},\"id\":\"14548\",\"type\":\"FactorRange\"},{\"attributes\":{\"format\":\"0,0.0[00000]\"},\"id\":\"14610\",\"type\":\"NumberFormatter\"},{\"attributes\":{},\"id\":\"14569\",\"type\":\"WheelZoomTool\"},{\"attributes\":{\"coordinates\":null,\"group\":null,\"items\":[{\"id\":\"14600\"}],\"location\":[0,0]},\"id\":\"14599\",\"type\":\"Legend\"},{\"attributes\":{\"bottom\":{\"field\":\"bottom\"},\"fill_alpha\":{\"value\":0.1},\"fill_color\":{\"field\":\"No_hyphen_minus_show\",\"transform\":{\"id\":\"14580\"}},\"hatch_alpha\":{\"value\":0.1},\"hatch_color\":{\"field\":\"No_hyphen_minus_show\",\"transform\":{\"id\":\"14580\"}},\"line_alpha\":{\"value\":0.1},\"top\":{\"field\":\"top\"},\"width\":{\"value\":0.8},\"x\":{\"field\":\"Neighbourhood\"}},\"id\":\"14585\",\"type\":\"VBar\"},{\"attributes\":{\"axis\":{\"id\":\"14563\"},\"coordinates\":null,\"dimension\":1,\"grid_line_color\":null,\"group\":null,\"ticker\":null},\"id\":\"14566\",\"type\":\"Grid\"},{\"attributes\":{\"children\":[[{\"id\":\"14551\"},0,0],[{\"id\":\"14625\"},0,1]]},\"id\":\"14641\",\"type\":\"GridBox\"},{\"attributes\":{\"format\":\"0,0.0[00000]\"},\"id\":\"14615\",\"type\":\"NumberFormatter\"},{\"attributes\":{\"tools\":[{\"id\":\"14550\"},{\"id\":\"14567\"},{\"id\":\"14568\"},{\"id\":\"14569\"},{\"id\":\"14570\"},{\"id\":\"14571\"}]},\"id\":\"14573\",\"type\":\"Toolbar\"},{\"attributes\":{},\"id\":\"14596\",\"type\":\"UnionRenderers\"},{\"attributes\":{\"bottom\":{\"field\":\"bottom\"},\"fill_alpha\":{\"value\":1.0},\"fill_color\":{\"field\":\"No_hyphen_minus_show\",\"transform\":{\"id\":\"14580\"}},\"hatch_alpha\":{\"value\":1.0},\"hatch_color\":{\"field\":\"No_hyphen_minus_show\",\"transform\":{\"id\":\"14580\"}},\"hatch_scale\":{\"value\":12.0},\"hatch_weight\":{\"value\":1.0},\"line_alpha\":{\"value\":1.0},\"line_cap\":{\"value\":\"butt\"},\"line_color\":{\"value\":\"black\"},\"line_dash\":{\"value\":[]},\"line_dash_offset\":{\"value\":0},\"line_join\":{\"value\":\"bevel\"},\"line_width\":{\"value\":1},\"top\":{\"field\":\"top\"},\"width\":{\"value\":0.8},\"x\":{\"field\":\"Neighbourhood\"}},\"id\":\"14601\",\"type\":\"VBar\"},{\"attributes\":{\"editor\":{\"id\":\"14621\"},\"field\":\"PatientId\",\"formatter\":{\"id\":\"14620\"},\"title\":\"PatientId\"},\"id\":\"14622\",\"type\":\"TableColumn\"},{\"attributes\":{\"axis_label\":\"Neighbourhood\",\"coordinates\":null,\"formatter\":{\"id\":\"14594\"},\"group\":null,\"major_label_orientation\":1.5707963267948966,\"major_label_policy\":{\"id\":\"14595\"},\"ticker\":{\"id\":\"14561\"}},\"id\":\"14560\",\"type\":\"CategoricalAxis\"},{\"attributes\":{\"axis\":{\"id\":\"14560\"},\"coordinates\":null,\"grid_line_color\":null,\"group\":null,\"ticker\":null},\"id\":\"14562\",\"type\":\"Grid\"},{\"attributes\":{},\"id\":\"14616\",\"type\":\"NumberEditor\"},{\"attributes\":{},\"id\":\"14571\",\"type\":\"ResetTool\"},{\"attributes\":{\"toolbar\":{\"id\":\"14642\"},\"toolbar_location\":\"above\"},\"id\":\"14643\",\"type\":\"ToolbarBox\"},{\"attributes\":{\"bottom\":{\"field\":\"bottom\"},\"fill_alpha\":{\"value\":0.2},\"fill_color\":{\"field\":\"No_hyphen_minus_show\",\"transform\":{\"id\":\"14580\"}},\"hatch_alpha\":{\"value\":0.2},\"hatch_color\":{\"field\":\"No_hyphen_minus_show\",\"transform\":{\"id\":\"14580\"}},\"line_alpha\":{\"value\":0.2},\"top\":{\"field\":\"top\"},\"width\":{\"value\":0.8},\"x\":{\"field\":\"Neighbourhood\"}},\"id\":\"14586\",\"type\":\"VBar\"},{\"attributes\":{},\"id\":\"14609\",\"type\":\"Selection\"},{\"attributes\":{},\"id\":\"14582\",\"type\":\"Selection\"},{\"attributes\":{\"children\":[{\"id\":\"14643\"},{\"id\":\"14641\"}]},\"id\":\"14644\",\"type\":\"Column\"},{\"attributes\":{},\"id\":\"14561\",\"type\":\"CategoricalTicker\"},{\"attributes\":{\"margin\":[5,5,5,5],\"name\":\"HSpacer23934\",\"sizing_mode\":\"stretch_width\"},\"id\":\"14547\",\"type\":\"Spacer\"},{\"attributes\":{\"coordinates\":null,\"data_source\":{\"id\":\"14581\"},\"glyph\":{\"id\":\"14584\"},\"group\":null,\"hover_glyph\":null,\"muted_glyph\":{\"id\":\"14586\"},\"nonselection_glyph\":{\"id\":\"14585\"},\"selection_glyph\":{\"id\":\"14601\"},\"view\":{\"id\":\"14588\"}},\"id\":\"14587\",\"type\":\"GlyphRenderer\"},{\"attributes\":{\"end\":8488.6,\"reset_end\":8488.6,\"reset_start\":0.0,\"tags\":[[[\"PatientId\",\"PatientId\",null]]]},\"id\":\"14549\",\"type\":\"Range1d\"},{\"attributes\":{},\"id\":\"14595\",\"type\":\"AllLabels\"},{\"attributes\":{\"children\":[{\"id\":\"14547\"},{\"id\":\"14644\"},{\"id\":\"14753\"}],\"margin\":[0,0,0,0],\"name\":\"Row23930\",\"tags\":[\"embedded\"]},\"id\":\"14546\",\"type\":\"Row\"},{\"attributes\":{\"axis_label\":\"\",\"coordinates\":null,\"formatter\":{\"id\":\"14591\"},\"group\":null,\"major_label_policy\":{\"id\":\"14592\"},\"ticker\":{\"id\":\"14564\"}},\"id\":\"14563\",\"type\":\"LinearAxis\"},{\"attributes\":{\"toolbars\":[{\"id\":\"14573\"}],\"tools\":[{\"id\":\"14550\"},{\"id\":\"14567\"},{\"id\":\"14568\"},{\"id\":\"14569\"},{\"id\":\"14570\"},{\"id\":\"14571\"}]},\"id\":\"14642\",\"type\":\"ProxyToolbar\"},{\"attributes\":{},\"id\":\"14558\",\"type\":\"LinearScale\"},{\"attributes\":{\"bottom\":{\"field\":\"bottom\"},\"fill_color\":{\"field\":\"No_hyphen_minus_show\",\"transform\":{\"id\":\"14580\"}},\"hatch_color\":{\"field\":\"No_hyphen_minus_show\",\"transform\":{\"id\":\"14580\"}},\"top\":{\"field\":\"top\"},\"width\":{\"value\":0.8},\"x\":{\"field\":\"Neighbourhood\"}},\"id\":\"14584\",\"type\":\"VBar\"},{\"attributes\":{\"source\":{\"id\":\"14581\"}},\"id\":\"14588\",\"type\":\"CDSView\"},{\"attributes\":{},\"id\":\"14620\",\"type\":\"NumberFormatter\"},{\"attributes\":{\"callback\":null,\"renderers\":[{\"id\":\"14587\"}],\"tags\":[\"hv_created\"],\"tooltips\":[[\"Neighbourhood\",\"@{Neighbourhood}\"],[\"No-show\",\"@{No_hyphen_minus_show}\"],[\"PatientId\",\"@{PatientId}\"]]},\"id\":\"14550\",\"type\":\"HoverTool\"},{\"attributes\":{},\"id\":\"14594\",\"type\":\"CategoricalTickFormatter\"},{\"attributes\":{\"coordinates\":null,\"group\":null,\"text\":\"Neighbourhood\",\"text_color\":\"black\",\"text_font_size\":\"12pt\"},\"id\":\"14552\",\"type\":\"Title\"},{\"attributes\":{\"below\":[{\"id\":\"14560\"}],\"center\":[{\"id\":\"14562\"},{\"id\":\"14566\"},{\"id\":\"14599\"}],\"height\":300,\"left\":[{\"id\":\"14563\"}],\"margin\":null,\"min_border_bottom\":10,\"min_border_left\":10,\"min_border_right\":10,\"min_border_top\":10,\"renderers\":[{\"id\":\"14587\"}],\"right\":[{\"id\":\"14599\"}],\"sizing_mode\":\"fixed\",\"title\":{\"id\":\"14552\"},\"toolbar\":{\"id\":\"14573\"},\"toolbar_location\":null,\"width\":1024,\"x_range\":{\"id\":\"14548\"},\"x_scale\":{\"id\":\"14556\"},\"y_range\":{\"id\":\"14549\"},\"y_scale\":{\"id\":\"14558\"}},\"id\":\"14551\",\"subtype\":\"Figure\",\"type\":\"Plot\"}],\"root_ids\":[\"14546\"]},\"title\":\"Bokeh Application\",\"version\":\"2.4.2\"}};\n",
       "    var render_items = [{\"docid\":\"4acadc13-0f01-43f9-8330-f61945b9ebe1\",\"root_ids\":[\"14546\"],\"roots\":{\"14546\":\"8e06febb-bb1f-4547-b1f5-59022014a8c4\"}}];\n",
       "    root.Bokeh.embed.embed_items_notebook(docs_json, render_items);\n",
       "  }\n",
       "  if (root.Bokeh !== undefined && root.Bokeh.Panel !== undefined) {\n",
       "    embed_document(root);\n",
       "  } else {\n",
       "    var attempts = 0;\n",
       "    var timer = setInterval(function(root) {\n",
       "      if (root.Bokeh !== undefined && root.Bokeh.Panel !== undefined) {\n",
       "        clearInterval(timer);\n",
       "        embed_document(root);\n",
       "      } else if (document.readyState == \"complete\") {\n",
       "        attempts++;\n",
       "        if (attempts > 200) {\n",
       "          clearInterval(timer);\n",
       "          console.log(\"Bokeh: ERROR: Unable to run BokehJS code because BokehJS library is missing\");\n",
       "        }\n",
       "      }\n",
       "    }, 25, root)\n",
       "  }\n",
       "})(window);</script>"
      ],
      "text/plain": [
       ":Layout\n",
       "   .Bars.PatientId :Bars   [Neighbourhood,No-show]   (PatientId)\n",
       "   .Table.I        :Table   [Neighbourhood,No-show,PatientId]"
      ]
     },
     "execution_count": 360,
     "metadata": {
      "application/vnd.holoviews_exec.v0+json": {
       "id": "14546"
      }
     },
     "output_type": "execute_result"
    }
   ],
   "source": [
    "group = df.groupby(['Neighbourhood', \"No-show\"]).count()[\"PatientId\"]\n",
    "group.plot.bar(stacked=True, title='Neighbourhood', rot=90, width=1024) + group.hvplot.table(width=240)"
   ]
  },
  {
   "cell_type": "markdown",
   "metadata": {
    "collapsed": false,
    "pycharm": {
     "name": "#%% md\n"
    }
   },
   "source": [
    "Now, lets write a function that will calculate confidence interval for the difference\n",
    " of the two proportions (for the show and not-show groups). Then, write a function that will draw a conclusion given the confidence interval."
   ]
  },
  {
   "cell_type": "code",
   "execution_count": 55,
   "metadata": {},
   "outputs": [],
   "source": [
    "def proportions_confint_diff(sample1, sample2, alpha=0.05):\n",
    "    z = scipy.stats.norm.ppf(1 - alpha / 2.0)\n",
    "    p1 = float(sum(sample1)) / len(sample1)\n",
    "    p2 = float(sum(sample2)) / len(sample2)\n",
    "\n",
    "    left_boundary = (p1 - p2) - z * np.sqrt(\n",
    "        p1 * (1 - p1) / len(sample1) + p2 * (1 - p2) / len(sample2)\n",
    "    )\n",
    "    right_boundary = (p1 - p2) + z * np.sqrt(\n",
    "        p1 * (1 - p1) / len(sample1) + p2 * (1 - p2) / len(sample2)\n",
    "    )\n",
    "    return (left_boundary, right_boundary)\n",
    "\n",
    "\n",
    "def calculate_ci(group, alpha):\n",
    "    boundaries = proportions_confint_diff(\n",
    "        df[df[group] == 1][\"No-show\"], df[df[group] == 0][\"No-show\"], alpha=alpha\n",
    "    )\n",
    "    if boundaries[0] < 0 and boundaries[1] < 0:\n",
    "        print(f\"CI is {boundaries}, proportion in the no-show group tends to be less\")\n",
    "    elif boundaries[0] > 0 and boundaries[1] > 0:\n",
    "        print(\n",
    "            f\"CI is {boundaries}, proportion in the no-show group tends to be greater\"\n",
    "        )\n",
    "    else:\n",
    "        print(f\"CI is {boundaries}, can not make definitive decision\")\n"
   ]
  },
  {
   "cell_type": "markdown",
   "metadata": {},
   "source": [
    "The function below will draw a bar plot for each categorical variable with a table, where a prior probability for show and no-show situations for each subcategory will be calculated"
   ]
  },
  {
   "cell_type": "code",
   "execution_count": 346,
   "metadata": {},
   "outputs": [],
   "source": [
    "def group_draw(by):\n",
    "    group = (\n",
    "        df.groupby([by, \"No-show\"])\n",
    "        .count()[[\"PatientId\"]]\n",
    "        .rename(columns={\"PatientId\": \"Count\"})\n",
    "    )\n",
    "    ind = group.index\n",
    "    group = group.reset_index()\n",
    "    group[\"ShowProb\"] = pd.concat(\n",
    "        [\n",
    "            group[group[by] == 0].transform(lambda x: x / sum(x))[\"Count\"],\n",
    "            group[group[by] == 1].transform(lambda x: x / sum(x))[\"Count\"],\n",
    "        ]\n",
    "    )\n",
    "    group = group[['Count', 'ShowProb']].set_index(ind)\n",
    "    return group.plot.bar(stacked=True, title=by, rot=90) + group.hvplot.table(\n",
    "        width=360\n",
    "    )\n"
   ]
  },
  {
   "cell_type": "code",
   "execution_count": 347,
   "metadata": {
    "collapsed": false,
    "pycharm": {
     "name": "#%%\n"
    }
   },
   "outputs": [
    {
     "data": {},
     "metadata": {},
     "output_type": "display_data"
    },
    {
     "data": {
      "application/vnd.holoviews_exec.v0+json": "",
      "text/html": [
       "<div id='12509'>\n",
       "\n",
       "\n",
       "\n",
       "\n",
       "\n",
       "  <div class=\"bk-root\" id=\"31768453-0b34-4fd9-81e2-57ffff4a0a4a\" data-root-id=\"12509\"></div>\n",
       "</div>\n",
       "<script type=\"application/javascript\">(function(root) {\n",
       "  function embed_document(root) {\n",
       "    var docs_json = {\"dec21d9a-64e5-4b15-b467-4f9736ee6c27\":{\"defs\":[{\"extends\":null,\"module\":null,\"name\":\"ReactiveHTML1\",\"overrides\":[],\"properties\":[]},{\"extends\":null,\"module\":null,\"name\":\"FlexBox1\",\"overrides\":[],\"properties\":[{\"default\":\"flex-start\",\"kind\":null,\"name\":\"align_content\"},{\"default\":\"flex-start\",\"kind\":null,\"name\":\"align_items\"},{\"default\":\"row\",\"kind\":null,\"name\":\"flex_direction\"},{\"default\":\"wrap\",\"kind\":null,\"name\":\"flex_wrap\"},{\"default\":\"flex-start\",\"kind\":null,\"name\":\"justify_content\"}]},{\"extends\":null,\"module\":null,\"name\":\"GridStack1\",\"overrides\":[],\"properties\":[{\"default\":\"warn\",\"kind\":null,\"name\":\"mode\"},{\"default\":null,\"kind\":null,\"name\":\"ncols\"},{\"default\":null,\"kind\":null,\"name\":\"nrows\"},{\"default\":true,\"kind\":null,\"name\":\"allow_resize\"},{\"default\":true,\"kind\":null,\"name\":\"allow_drag\"},{\"default\":[],\"kind\":null,\"name\":\"state\"}]},{\"extends\":null,\"module\":null,\"name\":\"click1\",\"overrides\":[],\"properties\":[{\"default\":\"\",\"kind\":null,\"name\":\"terminal_output\"},{\"default\":\"\",\"kind\":null,\"name\":\"debug_name\"},{\"default\":0,\"kind\":null,\"name\":\"clears\"}]},{\"extends\":null,\"module\":null,\"name\":\"TemplateActions1\",\"overrides\":[],\"properties\":[{\"default\":0,\"kind\":null,\"name\":\"open_modal\"},{\"default\":0,\"kind\":null,\"name\":\"close_modal\"}]},{\"extends\":null,\"module\":null,\"name\":\"MaterialTemplateActions1\",\"overrides\":[],\"properties\":[{\"default\":0,\"kind\":null,\"name\":\"open_modal\"},{\"default\":0,\"kind\":null,\"name\":\"close_modal\"}]}],\"roots\":{\"references\":[{\"attributes\":{\"axis_label\":\"Count\",\"coordinates\":null,\"formatter\":{\"id\":\"12554\"},\"group\":null,\"major_label_policy\":{\"id\":\"12555\"},\"ticker\":{\"id\":\"12527\"}},\"id\":\"12526\",\"type\":\"LinearAxis\"},{\"attributes\":{},\"id\":\"12607\",\"type\":\"UnionRenderers\"},{\"attributes\":{},\"id\":\"12532\",\"type\":\"WheelZoomTool\"},{\"attributes\":{\"toolbars\":[{\"id\":\"12536\"}],\"tools\":[{\"id\":\"12513\"},{\"id\":\"12530\"},{\"id\":\"12531\"},{\"id\":\"12532\"},{\"id\":\"12533\"},{\"id\":\"12534\"}]},\"id\":\"12610\",\"type\":\"ProxyToolbar\"},{\"attributes\":{\"bottom\":{\"field\":\"bottom\"},\"fill_color\":{\"field\":\"No_hyphen_minus_show\",\"transform\":{\"id\":\"12543\"}},\"hatch_color\":{\"field\":\"No_hyphen_minus_show\",\"transform\":{\"id\":\"12543\"}},\"top\":{\"field\":\"top\"},\"width\":{\"value\":0.8},\"x\":{\"field\":\"Scholarship\"}},\"id\":\"12547\",\"type\":\"VBar\"},{\"attributes\":{},\"id\":\"12555\",\"type\":\"AllLabels\"},{\"attributes\":{},\"id\":\"12527\",\"type\":\"BasicTicker\"},{\"attributes\":{\"axis_label\":\"Scholarship\",\"coordinates\":null,\"formatter\":{\"id\":\"12557\"},\"group\":null,\"major_label_orientation\":1.5707963267948966,\"major_label_policy\":{\"id\":\"12558\"},\"ticker\":{\"id\":\"12524\"}},\"id\":\"12523\",\"type\":\"CategoricalAxis\"},{\"attributes\":{\"bottom\":{\"field\":\"bottom\"},\"fill_alpha\":{\"value\":0.2},\"fill_color\":{\"field\":\"No_hyphen_minus_show\",\"transform\":{\"id\":\"12543\"}},\"hatch_alpha\":{\"value\":0.2},\"hatch_color\":{\"field\":\"No_hyphen_minus_show\",\"transform\":{\"id\":\"12543\"}},\"line_alpha\":{\"value\":0.2},\"top\":{\"field\":\"top\"},\"width\":{\"value\":0.8},\"x\":{\"field\":\"Scholarship\"}},\"id\":\"12549\",\"type\":\"VBar\"},{\"attributes\":{\"axis\":{\"id\":\"12523\"},\"coordinates\":null,\"grid_line_color\":null,\"group\":null,\"ticker\":null},\"id\":\"12525\",\"type\":\"Grid\"},{\"attributes\":{},\"id\":\"12558\",\"type\":\"AllLabels\"},{\"attributes\":{\"children\":[{\"id\":\"12611\"},{\"id\":\"12609\"}]},\"id\":\"12612\",\"type\":\"Column\"},{\"attributes\":{\"coordinates\":null,\"data_source\":{\"id\":\"12544\"},\"glyph\":{\"id\":\"12547\"},\"group\":null,\"hover_glyph\":null,\"muted_glyph\":{\"id\":\"12549\"},\"nonselection_glyph\":{\"id\":\"12548\"},\"selection_glyph\":{\"id\":\"12564\"},\"view\":{\"id\":\"12551\"}},\"id\":\"12550\",\"type\":\"GlyphRenderer\"},{\"attributes\":{\"factors\":[\"0\",\"1\"],\"palette\":[\"#30a2da\",\"#fc4f30\"]},\"id\":\"12543\",\"type\":\"CategoricalColorMapper\"},{\"attributes\":{\"margin\":[5,5,5,5],\"name\":\"HSpacer20773\",\"sizing_mode\":\"stretch_width\"},\"id\":\"12510\",\"type\":\"Spacer\"},{\"attributes\":{},\"id\":\"12557\",\"type\":\"CategoricalTickFormatter\"},{\"attributes\":{\"callback\":null,\"renderers\":[{\"id\":\"12550\"}],\"tags\":[\"hv_created\"],\"tooltips\":[[\"Scholarship\",\"@{Scholarship}\"],[\"No-show\",\"@{No_hyphen_minus_show}\"],[\"Count\",\"@{Count}\"]]},\"id\":\"12513\",\"type\":\"HoverTool\"},{\"attributes\":{},\"id\":\"12574\",\"type\":\"IntEditor\"},{\"attributes\":{\"format\":\"0,0.0[00000]\"},\"id\":\"12588\",\"type\":\"NumberFormatter\"},{\"attributes\":{},\"id\":\"12584\",\"type\":\"IntEditor\"},{\"attributes\":{},\"id\":\"12559\",\"type\":\"UnionRenderers\"},{\"attributes\":{},\"id\":\"12521\",\"type\":\"LinearScale\"},{\"attributes\":{},\"id\":\"12573\",\"type\":\"NumberFormatter\"},{\"attributes\":{\"source\":{\"id\":\"12544\"}},\"id\":\"12551\",\"type\":\"CDSView\"},{\"attributes\":{\"columns\":[{\"id\":\"12575\"},{\"id\":\"12580\"},{\"id\":\"12585\"},{\"id\":\"12590\"}],\"height\":300,\"reorderable\":false,\"source\":{\"id\":\"12571\"},\"view\":{\"id\":\"12595\"},\"width\":360},\"id\":\"12593\",\"type\":\"DataTable\"},{\"attributes\":{\"coordinates\":null,\"group\":null,\"items\":[{\"id\":\"12563\"}],\"location\":[0,0]},\"id\":\"12562\",\"type\":\"Legend\"},{\"attributes\":{\"end\":108539.9,\"reset_end\":108539.9,\"reset_start\":0.0,\"tags\":[[[\"Count\",\"Count\",null]]]},\"id\":\"12512\",\"type\":\"Range1d\"},{\"attributes\":{},\"id\":\"12589\",\"type\":\"NumberEditor\"},{\"attributes\":{\"bottom\":{\"field\":\"bottom\"},\"fill_alpha\":{\"value\":0.1},\"fill_color\":{\"field\":\"No_hyphen_minus_show\",\"transform\":{\"id\":\"12543\"}},\"hatch_alpha\":{\"value\":0.1},\"hatch_color\":{\"field\":\"No_hyphen_minus_show\",\"transform\":{\"id\":\"12543\"}},\"line_alpha\":{\"value\":0.1},\"top\":{\"field\":\"top\"},\"width\":{\"value\":0.8},\"x\":{\"field\":\"Scholarship\"}},\"id\":\"12548\",\"type\":\"VBar\"},{\"attributes\":{\"children\":[{\"id\":\"12510\"},{\"id\":\"12612\"},{\"id\":\"12721\"}],\"margin\":[0,0,0,0],\"name\":\"Row20769\",\"tags\":[\"embedded\"]},\"id\":\"12509\",\"type\":\"Row\"},{\"attributes\":{},\"id\":\"12554\",\"type\":\"BasicTickFormatter\"},{\"attributes\":{\"below\":[{\"id\":\"12523\"}],\"center\":[{\"id\":\"12525\"},{\"id\":\"12529\"},{\"id\":\"12562\"}],\"height\":300,\"left\":[{\"id\":\"12526\"}],\"margin\":null,\"min_border_bottom\":10,\"min_border_left\":10,\"min_border_right\":10,\"min_border_top\":10,\"renderers\":[{\"id\":\"12550\"}],\"right\":[{\"id\":\"12562\"}],\"sizing_mode\":\"fixed\",\"title\":{\"id\":\"12515\"},\"toolbar\":{\"id\":\"12536\"},\"toolbar_location\":null,\"width\":700,\"x_range\":{\"id\":\"12511\"},\"x_scale\":{\"id\":\"12519\"},\"y_range\":{\"id\":\"12512\"},\"y_scale\":{\"id\":\"12521\"}},\"id\":\"12514\",\"subtype\":\"Figure\",\"type\":\"Plot\"},{\"attributes\":{\"children\":[[{\"id\":\"12514\"},0,0],[{\"id\":\"12593\"},0,1]]},\"id\":\"12609\",\"type\":\"GridBox\"},{\"attributes\":{\"label\":{\"field\":\"No_hyphen_minus_show\"},\"renderers\":[{\"id\":\"12550\"}]},\"id\":\"12563\",\"type\":\"LegendItem\"},{\"attributes\":{},\"id\":\"12579\",\"type\":\"NumberEditor\"},{\"attributes\":{\"tools\":[{\"id\":\"12513\"},{\"id\":\"12530\"},{\"id\":\"12531\"},{\"id\":\"12532\"},{\"id\":\"12533\"},{\"id\":\"12534\"}]},\"id\":\"12536\",\"type\":\"Toolbar\"},{\"attributes\":{\"format\":\"0,0.0[00000]\"},\"id\":\"12578\",\"type\":\"NumberFormatter\"},{\"attributes\":{\"margin\":[5,5,5,5],\"name\":\"HSpacer20774\",\"sizing_mode\":\"stretch_width\"},\"id\":\"12721\",\"type\":\"Spacer\"},{\"attributes\":{},\"id\":\"12534\",\"type\":\"ResetTool\"},{\"attributes\":{\"editor\":{\"id\":\"12579\"},\"field\":\"No_hyphen_minus_show\",\"formatter\":{\"id\":\"12578\"},\"title\":\"No-show\"},\"id\":\"12580\",\"type\":\"TableColumn\"},{\"attributes\":{\"factors\":[\"0\",\"1\"],\"tags\":[[[\"Scholarship\",\"Scholarship\",null]]]},\"id\":\"12511\",\"type\":\"FactorRange\"},{\"attributes\":{\"source\":{\"id\":\"12571\"}},\"id\":\"12595\",\"type\":\"CDSView\"},{\"attributes\":{\"coordinates\":null,\"group\":null,\"text\":\"Scholarship\",\"text_color\":\"black\",\"text_font_size\":\"12pt\"},\"id\":\"12515\",\"type\":\"Title\"},{\"attributes\":{},\"id\":\"12519\",\"type\":\"CategoricalScale\"},{\"attributes\":{\"editor\":{\"id\":\"12589\"},\"field\":\"ShowProb\",\"formatter\":{\"id\":\"12588\"},\"title\":\"ShowProb\"},\"id\":\"12590\",\"type\":\"TableColumn\"},{\"attributes\":{\"axis\":{\"id\":\"12526\"},\"coordinates\":null,\"dimension\":1,\"grid_line_color\":null,\"group\":null,\"ticker\":null},\"id\":\"12529\",\"type\":\"Grid\"},{\"attributes\":{\"bottom\":{\"field\":\"bottom\"},\"fill_alpha\":{\"value\":1.0},\"fill_color\":{\"field\":\"No_hyphen_minus_show\",\"transform\":{\"id\":\"12543\"}},\"hatch_alpha\":{\"value\":1.0},\"hatch_color\":{\"field\":\"No_hyphen_minus_show\",\"transform\":{\"id\":\"12543\"}},\"hatch_scale\":{\"value\":12.0},\"hatch_weight\":{\"value\":1.0},\"line_alpha\":{\"value\":1.0},\"line_cap\":{\"value\":\"butt\"},\"line_color\":{\"value\":\"black\"},\"line_dash\":{\"value\":[]},\"line_dash_offset\":{\"value\":0},\"line_join\":{\"value\":\"bevel\"},\"line_width\":{\"value\":1},\"top\":{\"field\":\"top\"},\"width\":{\"value\":0.8},\"x\":{\"field\":\"Scholarship\"}},\"id\":\"12564\",\"type\":\"VBar\"},{\"attributes\":{},\"id\":\"12530\",\"type\":\"SaveTool\"},{\"attributes\":{\"toolbar\":{\"id\":\"12610\"},\"toolbar_location\":\"above\"},\"id\":\"12611\",\"type\":\"ToolbarBox\"},{\"attributes\":{\"data\":{\"Count\":[79924,8283,19736,2578],\"No_hyphen_minus_show\":[\"0\",\"0\",\"1\",\"1\"],\"Scholarship\":[\"0\",\"1\",\"0\",\"1\"],\"bottom\":{\"__ndarray__\":\"AAAAAAAAAAAAAAAAAAAAAAAAAABAg/NAAAAAAIAtwEA=\",\"dtype\":\"float64\",\"order\":\"little\",\"shape\":[4]},\"top\":{\"__ndarray__\":\"AAAAAECD80AAAAAAgC3AQAAAAADAVPhAAAAAAIA2xUA=\",\"dtype\":\"float64\",\"order\":\"little\",\"shape\":[4]}},\"selected\":{\"id\":\"12545\"},\"selection_policy\":{\"id\":\"12559\"}},\"id\":\"12544\",\"type\":\"ColumnDataSource\"},{\"attributes\":{\"editor\":{\"id\":\"12584\"},\"field\":\"Count\",\"formatter\":{\"id\":\"12583\"},\"title\":\"Count\"},\"id\":\"12585\",\"type\":\"TableColumn\"},{\"attributes\":{},\"id\":\"12572\",\"type\":\"Selection\"},{\"attributes\":{\"data\":{\"Count\":[79924,19736,8283,2578],\"No_hyphen_minus_show\":{\"__ndarray__\":\"AAAAAAAAAAAAAAAAAADwPwAAAAAAAAAAAAAAAAAA8D8=\",\"dtype\":\"float64\",\"order\":\"little\",\"shape\":[4]},\"Scholarship\":[0,0,1,1],\"ShowProb\":{\"__ndarray__\":\"ckCACrap6T85/v7VJ1nJPzv8H5+FZ+g/Fg+Ag+lhzj8=\",\"dtype\":\"float64\",\"order\":\"little\",\"shape\":[4]}},\"selected\":{\"id\":\"12572\"},\"selection_policy\":{\"id\":\"12607\"}},\"id\":\"12571\",\"type\":\"ColumnDataSource\"},{\"attributes\":{},\"id\":\"12545\",\"type\":\"Selection\"},{\"attributes\":{\"bottom_units\":\"screen\",\"coordinates\":null,\"fill_alpha\":0.5,\"fill_color\":\"lightgrey\",\"group\":null,\"left_units\":\"screen\",\"level\":\"overlay\",\"line_alpha\":1.0,\"line_color\":\"black\",\"line_dash\":[4,4],\"line_width\":2,\"right_units\":\"screen\",\"syncable\":false,\"top_units\":\"screen\"},\"id\":\"12535\",\"type\":\"BoxAnnotation\"},{\"attributes\":{\"overlay\":{\"id\":\"12535\"}},\"id\":\"12533\",\"type\":\"BoxZoomTool\"},{\"attributes\":{},\"id\":\"12524\",\"type\":\"CategoricalTicker\"},{\"attributes\":{},\"id\":\"12531\",\"type\":\"PanTool\"},{\"attributes\":{\"editor\":{\"id\":\"12574\"},\"field\":\"Scholarship\",\"formatter\":{\"id\":\"12573\"},\"title\":\"Scholarship\"},\"id\":\"12575\",\"type\":\"TableColumn\"},{\"attributes\":{},\"id\":\"12583\",\"type\":\"NumberFormatter\"}],\"root_ids\":[\"12509\"]},\"title\":\"Bokeh Application\",\"version\":\"2.4.2\"}};\n",
       "    var render_items = [{\"docid\":\"dec21d9a-64e5-4b15-b467-4f9736ee6c27\",\"root_ids\":[\"12509\"],\"roots\":{\"12509\":\"31768453-0b34-4fd9-81e2-57ffff4a0a4a\"}}];\n",
       "    root.Bokeh.embed.embed_items_notebook(docs_json, render_items);\n",
       "  }\n",
       "  if (root.Bokeh !== undefined && root.Bokeh.Panel !== undefined) {\n",
       "    embed_document(root);\n",
       "  } else {\n",
       "    var attempts = 0;\n",
       "    var timer = setInterval(function(root) {\n",
       "      if (root.Bokeh !== undefined && root.Bokeh.Panel !== undefined) {\n",
       "        clearInterval(timer);\n",
       "        embed_document(root);\n",
       "      } else if (document.readyState == \"complete\") {\n",
       "        attempts++;\n",
       "        if (attempts > 200) {\n",
       "          clearInterval(timer);\n",
       "          console.log(\"Bokeh: ERROR: Unable to run BokehJS code because BokehJS library is missing\");\n",
       "        }\n",
       "      }\n",
       "    }, 25, root)\n",
       "  }\n",
       "})(window);</script>"
      ],
      "text/plain": [
       ":Layout\n",
       "   .Bars.I  :Bars   [Scholarship,No-show]   (Count)\n",
       "   .Table.I :Table   [Scholarship,No-show,Count,ShowProb]"
      ]
     },
     "execution_count": 347,
     "metadata": {
      "application/vnd.holoviews_exec.v0+json": {
       "id": "12509"
      }
     },
     "output_type": "execute_result"
    },
    {
     "name": "stdout",
     "output_type": "stream",
     "text": [
      "CI is (0.0309542999362394, 0.04770515768787152), proportion in the no-show group tends to be greater\n"
     ]
    }
   ],
   "source": [
    "group_draw(\"Scholarship\")\n",
    "calculate_ci(\"Scholarship\", 0.05)\n"
   ]
  },
  {
   "cell_type": "code",
   "execution_count": 348,
   "metadata": {},
   "outputs": [
    {
     "data": {},
     "metadata": {},
     "output_type": "display_data"
    },
    {
     "data": {
      "application/vnd.holoviews_exec.v0+json": "",
      "text/html": [
       "<div id='12783'>\n",
       "\n",
       "\n",
       "\n",
       "\n",
       "\n",
       "  <div class=\"bk-root\" id=\"bb1ae0f5-023a-48b1-b223-516751cb40a2\" data-root-id=\"12783\"></div>\n",
       "</div>\n",
       "<script type=\"application/javascript\">(function(root) {\n",
       "  function embed_document(root) {\n",
       "    var docs_json = {\"7aa9effb-f303-4a81-9fa1-a5ad560681e6\":{\"defs\":[{\"extends\":null,\"module\":null,\"name\":\"ReactiveHTML1\",\"overrides\":[],\"properties\":[]},{\"extends\":null,\"module\":null,\"name\":\"FlexBox1\",\"overrides\":[],\"properties\":[{\"default\":\"flex-start\",\"kind\":null,\"name\":\"align_content\"},{\"default\":\"flex-start\",\"kind\":null,\"name\":\"align_items\"},{\"default\":\"row\",\"kind\":null,\"name\":\"flex_direction\"},{\"default\":\"wrap\",\"kind\":null,\"name\":\"flex_wrap\"},{\"default\":\"flex-start\",\"kind\":null,\"name\":\"justify_content\"}]},{\"extends\":null,\"module\":null,\"name\":\"GridStack1\",\"overrides\":[],\"properties\":[{\"default\":\"warn\",\"kind\":null,\"name\":\"mode\"},{\"default\":null,\"kind\":null,\"name\":\"ncols\"},{\"default\":null,\"kind\":null,\"name\":\"nrows\"},{\"default\":true,\"kind\":null,\"name\":\"allow_resize\"},{\"default\":true,\"kind\":null,\"name\":\"allow_drag\"},{\"default\":[],\"kind\":null,\"name\":\"state\"}]},{\"extends\":null,\"module\":null,\"name\":\"click1\",\"overrides\":[],\"properties\":[{\"default\":\"\",\"kind\":null,\"name\":\"terminal_output\"},{\"default\":\"\",\"kind\":null,\"name\":\"debug_name\"},{\"default\":0,\"kind\":null,\"name\":\"clears\"}]},{\"extends\":null,\"module\":null,\"name\":\"TemplateActions1\",\"overrides\":[],\"properties\":[{\"default\":0,\"kind\":null,\"name\":\"open_modal\"},{\"default\":0,\"kind\":null,\"name\":\"close_modal\"}]},{\"extends\":null,\"module\":null,\"name\":\"MaterialTemplateActions1\",\"overrides\":[],\"properties\":[{\"default\":0,\"kind\":null,\"name\":\"open_modal\"},{\"default\":0,\"kind\":null,\"name\":\"close_modal\"}]}],\"roots\":{\"references\":[{\"attributes\":{\"toolbar\":{\"id\":\"12884\"},\"toolbar_location\":\"above\"},\"id\":\"12885\",\"type\":\"ToolbarBox\"},{\"attributes\":{\"editor\":{\"id\":\"12848\"},\"field\":\"Gender\",\"formatter\":{\"id\":\"12847\"},\"title\":\"Gender\"},\"id\":\"12849\",\"type\":\"TableColumn\"},{\"attributes\":{\"coordinates\":null,\"group\":null,\"text\":\"Gender\",\"text_color\":\"black\",\"text_font_size\":\"12pt\"},\"id\":\"12789\",\"type\":\"Title\"},{\"attributes\":{},\"id\":\"12793\",\"type\":\"CategoricalScale\"},{\"attributes\":{\"bottom\":{\"field\":\"bottom\"},\"fill_alpha\":{\"value\":0.2},\"fill_color\":{\"field\":\"No_hyphen_minus_show\",\"transform\":{\"id\":\"12817\"}},\"hatch_alpha\":{\"value\":0.2},\"hatch_color\":{\"field\":\"No_hyphen_minus_show\",\"transform\":{\"id\":\"12817\"}},\"line_alpha\":{\"value\":0.2},\"top\":{\"field\":\"top\"},\"width\":{\"value\":0.8},\"x\":{\"field\":\"Gender\"}},\"id\":\"12823\",\"type\":\"VBar\"},{\"attributes\":{},\"id\":\"12804\",\"type\":\"SaveTool\"},{\"attributes\":{\"data\":{\"Count\":[57245,30962,14591,7723],\"Gender\":[\"0\",\"1\",\"0\",\"1\"],\"No_hyphen_minus_show\":[\"0\",\"0\",\"1\",\"1\"],\"bottom\":{\"__ndarray__\":\"AAAAAAAAAAAAAAAAAAAAAAAAAACg8+tAAAAAAIA83kA=\",\"dtype\":\"float64\",\"order\":\"little\",\"shape\":[4]},\"top\":{\"__ndarray__\":\"AAAAAKDz60AAAAAAgDzeQAAAAADAifFAAAAAAKDj4kA=\",\"dtype\":\"float64\",\"order\":\"little\",\"shape\":[4]}},\"selected\":{\"id\":\"12819\"},\"selection_policy\":{\"id\":\"12833\"}},\"id\":\"12818\",\"type\":\"ColumnDataSource\"},{\"attributes\":{\"source\":{\"id\":\"12845\"}},\"id\":\"12869\",\"type\":\"CDSView\"},{\"attributes\":{\"factors\":[\"0\",\"1\"],\"palette\":[\"#30a2da\",\"#fc4f30\"]},\"id\":\"12817\",\"type\":\"CategoricalColorMapper\"},{\"attributes\":{},\"id\":\"12819\",\"type\":\"Selection\"},{\"attributes\":{\"bottom_units\":\"screen\",\"coordinates\":null,\"fill_alpha\":0.5,\"fill_color\":\"lightgrey\",\"group\":null,\"left_units\":\"screen\",\"level\":\"overlay\",\"line_alpha\":1.0,\"line_color\":\"black\",\"line_dash\":[4,4],\"line_width\":2,\"right_units\":\"screen\",\"syncable\":false,\"top_units\":\"screen\"},\"id\":\"12809\",\"type\":\"BoxAnnotation\"},{\"attributes\":{\"bottom\":{\"field\":\"bottom\"},\"fill_alpha\":{\"value\":1.0},\"fill_color\":{\"field\":\"No_hyphen_minus_show\",\"transform\":{\"id\":\"12817\"}},\"hatch_alpha\":{\"value\":1.0},\"hatch_color\":{\"field\":\"No_hyphen_minus_show\",\"transform\":{\"id\":\"12817\"}},\"hatch_scale\":{\"value\":12.0},\"hatch_weight\":{\"value\":1.0},\"line_alpha\":{\"value\":1.0},\"line_cap\":{\"value\":\"butt\"},\"line_color\":{\"value\":\"black\"},\"line_dash\":{\"value\":[]},\"line_dash_offset\":{\"value\":0},\"line_join\":{\"value\":\"bevel\"},\"line_width\":{\"value\":1},\"top\":{\"field\":\"top\"},\"width\":{\"value\":0.8},\"x\":{\"field\":\"Gender\"}},\"id\":\"12838\",\"type\":\"VBar\"},{\"attributes\":{\"columns\":[{\"id\":\"12849\"},{\"id\":\"12854\"},{\"id\":\"12859\"},{\"id\":\"12864\"}],\"height\":300,\"reorderable\":false,\"source\":{\"id\":\"12845\"},\"view\":{\"id\":\"12869\"},\"width\":360},\"id\":\"12867\",\"type\":\"DataTable\"},{\"attributes\":{\"overlay\":{\"id\":\"12809\"}},\"id\":\"12807\",\"type\":\"BoxZoomTool\"},{\"attributes\":{},\"id\":\"12863\",\"type\":\"NumberEditor\"},{\"attributes\":{\"margin\":[5,5,5,5],\"name\":\"HSpacer21203\",\"sizing_mode\":\"stretch_width\"},\"id\":\"12995\",\"type\":\"Spacer\"},{\"attributes\":{\"axis\":{\"id\":\"12800\"},\"coordinates\":null,\"dimension\":1,\"grid_line_color\":null,\"group\":null,\"ticker\":null},\"id\":\"12803\",\"type\":\"Grid\"},{\"attributes\":{},\"id\":\"12857\",\"type\":\"NumberFormatter\"},{\"attributes\":{\"axis_label\":\"Count\",\"coordinates\":null,\"formatter\":{\"id\":\"12828\"},\"group\":null,\"major_label_policy\":{\"id\":\"12829\"},\"ticker\":{\"id\":\"12801\"}},\"id\":\"12800\",\"type\":\"LinearAxis\"},{\"attributes\":{},\"id\":\"12808\",\"type\":\"ResetTool\"},{\"attributes\":{},\"id\":\"12805\",\"type\":\"PanTool\"},{\"attributes\":{\"children\":[[{\"id\":\"12788\"},0,0],[{\"id\":\"12867\"},0,1]]},\"id\":\"12883\",\"type\":\"GridBox\"},{\"attributes\":{\"bottom\":{\"field\":\"bottom\"},\"fill_color\":{\"field\":\"No_hyphen_minus_show\",\"transform\":{\"id\":\"12817\"}},\"hatch_color\":{\"field\":\"No_hyphen_minus_show\",\"transform\":{\"id\":\"12817\"}},\"top\":{\"field\":\"top\"},\"width\":{\"value\":0.8},\"x\":{\"field\":\"Gender\"}},\"id\":\"12821\",\"type\":\"VBar\"},{\"attributes\":{},\"id\":\"12806\",\"type\":\"WheelZoomTool\"},{\"attributes\":{},\"id\":\"12829\",\"type\":\"AllLabels\"},{\"attributes\":{},\"id\":\"12853\",\"type\":\"NumberEditor\"},{\"attributes\":{},\"id\":\"12801\",\"type\":\"BasicTicker\"},{\"attributes\":{\"axis_label\":\"Gender\",\"coordinates\":null,\"formatter\":{\"id\":\"12831\"},\"group\":null,\"major_label_orientation\":1.5707963267948966,\"major_label_policy\":{\"id\":\"12832\"},\"ticker\":{\"id\":\"12798\"}},\"id\":\"12797\",\"type\":\"CategoricalAxis\"},{\"attributes\":{},\"id\":\"12858\",\"type\":\"IntEditor\"},{\"attributes\":{\"format\":\"0,0.0[00000]\"},\"id\":\"12847\",\"type\":\"NumberFormatter\"},{\"attributes\":{\"axis\":{\"id\":\"12797\"},\"coordinates\":null,\"grid_line_color\":null,\"group\":null,\"ticker\":null},\"id\":\"12799\",\"type\":\"Grid\"},{\"attributes\":{\"source\":{\"id\":\"12818\"}},\"id\":\"12825\",\"type\":\"CDSView\"},{\"attributes\":{\"margin\":[5,5,5,5],\"name\":\"HSpacer21202\",\"sizing_mode\":\"stretch_width\"},\"id\":\"12784\",\"type\":\"Spacer\"},{\"attributes\":{\"factors\":[\"0\",\"1\"],\"tags\":[[[\"Gender\",\"Gender\",null]]]},\"id\":\"12785\",\"type\":\"FactorRange\"},{\"attributes\":{\"data\":{\"Count\":[57245,14591,30962,7723],\"Gender\":{\"__ndarray__\":\"AAAAAAAAAAAAAAAAAAAAAAAAAAAAAPA/AAAAAAAA8D8=\",\"dtype\":\"float64\",\"order\":\"little\",\"shape\":[4]},\"No_hyphen_minus_show\":{\"__ndarray__\":\"AAAAAAAAAAAAAAAAAADwPwAAAAAAAAAAAAAAAAAA8D8=\",\"dtype\":\"float64\",\"order\":\"little\",\"shape\":[4]},\"ShowProb\":{\"__ndarray__\":\"0y8TEhSA6T+0QLO3r//JP1dBxo2QnOk/ovrmyL2NyT8=\",\"dtype\":\"float64\",\"order\":\"little\",\"shape\":[4]}},\"selected\":{\"id\":\"12846\"},\"selection_policy\":{\"id\":\"12881\"}},\"id\":\"12845\",\"type\":\"ColumnDataSource\"},{\"attributes\":{\"label\":{\"field\":\"No_hyphen_minus_show\"},\"renderers\":[{\"id\":\"12824\"}]},\"id\":\"12837\",\"type\":\"LegendItem\"},{\"attributes\":{\"format\":\"0,0.0[00000]\"},\"id\":\"12852\",\"type\":\"NumberFormatter\"},{\"attributes\":{\"toolbars\":[{\"id\":\"12810\"}],\"tools\":[{\"id\":\"12787\"},{\"id\":\"12804\"},{\"id\":\"12805\"},{\"id\":\"12806\"},{\"id\":\"12807\"},{\"id\":\"12808\"}]},\"id\":\"12884\",\"type\":\"ProxyToolbar\"},{\"attributes\":{\"coordinates\":null,\"data_source\":{\"id\":\"12818\"},\"glyph\":{\"id\":\"12821\"},\"group\":null,\"hover_glyph\":null,\"muted_glyph\":{\"id\":\"12823\"},\"nonselection_glyph\":{\"id\":\"12822\"},\"selection_glyph\":{\"id\":\"12838\"},\"view\":{\"id\":\"12825\"}},\"id\":\"12824\",\"type\":\"GlyphRenderer\"},{\"attributes\":{\"coordinates\":null,\"group\":null,\"items\":[{\"id\":\"12837\"}],\"location\":[0,0]},\"id\":\"12836\",\"type\":\"Legend\"},{\"attributes\":{},\"id\":\"12832\",\"type\":\"AllLabels\"},{\"attributes\":{\"children\":[{\"id\":\"12784\"},{\"id\":\"12886\"},{\"id\":\"12995\"}],\"margin\":[0,0,0,0],\"name\":\"Row21198\",\"tags\":[\"embedded\"]},\"id\":\"12783\",\"type\":\"Row\"},{\"attributes\":{},\"id\":\"12831\",\"type\":\"CategoricalTickFormatter\"},{\"attributes\":{\"callback\":null,\"renderers\":[{\"id\":\"12824\"}],\"tags\":[\"hv_created\"],\"tooltips\":[[\"Gender\",\"@{Gender}\"],[\"No-show\",\"@{No_hyphen_minus_show}\"],[\"Count\",\"@{Count}\"]]},\"id\":\"12787\",\"type\":\"HoverTool\"},{\"attributes\":{\"format\":\"0,0.0[00000]\"},\"id\":\"12862\",\"type\":\"NumberFormatter\"},{\"attributes\":{\"editor\":{\"id\":\"12858\"},\"field\":\"Count\",\"formatter\":{\"id\":\"12857\"},\"title\":\"Count\"},\"id\":\"12859\",\"type\":\"TableColumn\"},{\"attributes\":{\"editor\":{\"id\":\"12853\"},\"field\":\"No_hyphen_minus_show\",\"formatter\":{\"id\":\"12852\"},\"title\":\"No-show\"},\"id\":\"12854\",\"type\":\"TableColumn\"},{\"attributes\":{\"children\":[{\"id\":\"12885\"},{\"id\":\"12883\"}]},\"id\":\"12886\",\"type\":\"Column\"},{\"attributes\":{},\"id\":\"12795\",\"type\":\"LinearScale\"},{\"attributes\":{},\"id\":\"12798\",\"type\":\"CategoricalTicker\"},{\"attributes\":{},\"id\":\"12846\",\"type\":\"Selection\"},{\"attributes\":{},\"id\":\"12833\",\"type\":\"UnionRenderers\"},{\"attributes\":{\"editor\":{\"id\":\"12863\"},\"field\":\"ShowProb\",\"formatter\":{\"id\":\"12862\"},\"title\":\"ShowProb\"},\"id\":\"12864\",\"type\":\"TableColumn\"},{\"attributes\":{\"end\":75151.1,\"reset_end\":75151.1,\"reset_start\":0.0,\"tags\":[[[\"Count\",\"Count\",null]]]},\"id\":\"12786\",\"type\":\"Range1d\"},{\"attributes\":{},\"id\":\"12828\",\"type\":\"BasicTickFormatter\"},{\"attributes\":{\"bottom\":{\"field\":\"bottom\"},\"fill_alpha\":{\"value\":0.1},\"fill_color\":{\"field\":\"No_hyphen_minus_show\",\"transform\":{\"id\":\"12817\"}},\"hatch_alpha\":{\"value\":0.1},\"hatch_color\":{\"field\":\"No_hyphen_minus_show\",\"transform\":{\"id\":\"12817\"}},\"line_alpha\":{\"value\":0.1},\"top\":{\"field\":\"top\"},\"width\":{\"value\":0.8},\"x\":{\"field\":\"Gender\"}},\"id\":\"12822\",\"type\":\"VBar\"},{\"attributes\":{\"below\":[{\"id\":\"12797\"}],\"center\":[{\"id\":\"12799\"},{\"id\":\"12803\"},{\"id\":\"12836\"}],\"height\":300,\"left\":[{\"id\":\"12800\"}],\"margin\":null,\"min_border_bottom\":10,\"min_border_left\":10,\"min_border_right\":10,\"min_border_top\":10,\"renderers\":[{\"id\":\"12824\"}],\"right\":[{\"id\":\"12836\"}],\"sizing_mode\":\"fixed\",\"title\":{\"id\":\"12789\"},\"toolbar\":{\"id\":\"12810\"},\"toolbar_location\":null,\"width\":700,\"x_range\":{\"id\":\"12785\"},\"x_scale\":{\"id\":\"12793\"},\"y_range\":{\"id\":\"12786\"},\"y_scale\":{\"id\":\"12795\"}},\"id\":\"12788\",\"subtype\":\"Figure\",\"type\":\"Plot\"},{\"attributes\":{},\"id\":\"12848\",\"type\":\"NumberEditor\"},{\"attributes\":{},\"id\":\"12881\",\"type\":\"UnionRenderers\"},{\"attributes\":{\"tools\":[{\"id\":\"12787\"},{\"id\":\"12804\"},{\"id\":\"12805\"},{\"id\":\"12806\"},{\"id\":\"12807\"},{\"id\":\"12808\"}]},\"id\":\"12810\",\"type\":\"Toolbar\"}],\"root_ids\":[\"12783\"]},\"title\":\"Bokeh Application\",\"version\":\"2.4.2\"}};\n",
       "    var render_items = [{\"docid\":\"7aa9effb-f303-4a81-9fa1-a5ad560681e6\",\"root_ids\":[\"12783\"],\"roots\":{\"12783\":\"bb1ae0f5-023a-48b1-b223-516751cb40a2\"}}];\n",
       "    root.Bokeh.embed.embed_items_notebook(docs_json, render_items);\n",
       "  }\n",
       "  if (root.Bokeh !== undefined && root.Bokeh.Panel !== undefined) {\n",
       "    embed_document(root);\n",
       "  } else {\n",
       "    var attempts = 0;\n",
       "    var timer = setInterval(function(root) {\n",
       "      if (root.Bokeh !== undefined && root.Bokeh.Panel !== undefined) {\n",
       "        clearInterval(timer);\n",
       "        embed_document(root);\n",
       "      } else if (document.readyState == \"complete\") {\n",
       "        attempts++;\n",
       "        if (attempts > 200) {\n",
       "          clearInterval(timer);\n",
       "          console.log(\"Bokeh: ERROR: Unable to run BokehJS code because BokehJS library is missing\");\n",
       "        }\n",
       "      }\n",
       "    }, 25, root)\n",
       "  }\n",
       "})(window);</script>"
      ],
      "text/plain": [
       ":Layout\n",
       "   .Bars.I  :Bars   [Gender,No-show]   (Count)\n",
       "   .Table.I :Table   [Gender,No-show,Count,ShowProb]"
      ]
     },
     "execution_count": 348,
     "metadata": {
      "application/vnd.holoviews_exec.v0+json": {
       "id": "12783"
      }
     },
     "output_type": "execute_result"
    },
    {
     "name": "stdout",
     "output_type": "stream",
     "text": [
      "CI is (-0.008429305123660698, 0.0014746511919310262), can not make definitive decision\n"
     ]
    }
   ],
   "source": [
    "group_draw(\"Gender\")\n",
    "calculate_ci(\"Gender\", 0.05)\n"
   ]
  },
  {
   "cell_type": "code",
   "execution_count": 349,
   "metadata": {
    "collapsed": false,
    "pycharm": {
     "name": "#%%\n"
    }
   },
   "outputs": [
    {
     "data": {},
     "metadata": {},
     "output_type": "display_data"
    },
    {
     "data": {
      "application/vnd.holoviews_exec.v0+json": "",
      "text/html": [
       "<div id='13057'>\n",
       "\n",
       "\n",
       "\n",
       "\n",
       "\n",
       "  <div class=\"bk-root\" id=\"860a5539-d9c2-4e7c-bf1c-ec41f58fe00b\" data-root-id=\"13057\"></div>\n",
       "</div>\n",
       "<script type=\"application/javascript\">(function(root) {\n",
       "  function embed_document(root) {\n",
       "    var docs_json = {\"8cc18ecb-9192-4a24-8870-c036b35975ba\":{\"defs\":[{\"extends\":null,\"module\":null,\"name\":\"ReactiveHTML1\",\"overrides\":[],\"properties\":[]},{\"extends\":null,\"module\":null,\"name\":\"FlexBox1\",\"overrides\":[],\"properties\":[{\"default\":\"flex-start\",\"kind\":null,\"name\":\"align_content\"},{\"default\":\"flex-start\",\"kind\":null,\"name\":\"align_items\"},{\"default\":\"row\",\"kind\":null,\"name\":\"flex_direction\"},{\"default\":\"wrap\",\"kind\":null,\"name\":\"flex_wrap\"},{\"default\":\"flex-start\",\"kind\":null,\"name\":\"justify_content\"}]},{\"extends\":null,\"module\":null,\"name\":\"GridStack1\",\"overrides\":[],\"properties\":[{\"default\":\"warn\",\"kind\":null,\"name\":\"mode\"},{\"default\":null,\"kind\":null,\"name\":\"ncols\"},{\"default\":null,\"kind\":null,\"name\":\"nrows\"},{\"default\":true,\"kind\":null,\"name\":\"allow_resize\"},{\"default\":true,\"kind\":null,\"name\":\"allow_drag\"},{\"default\":[],\"kind\":null,\"name\":\"state\"}]},{\"extends\":null,\"module\":null,\"name\":\"click1\",\"overrides\":[],\"properties\":[{\"default\":\"\",\"kind\":null,\"name\":\"terminal_output\"},{\"default\":\"\",\"kind\":null,\"name\":\"debug_name\"},{\"default\":0,\"kind\":null,\"name\":\"clears\"}]},{\"extends\":null,\"module\":null,\"name\":\"TemplateActions1\",\"overrides\":[],\"properties\":[{\"default\":0,\"kind\":null,\"name\":\"open_modal\"},{\"default\":0,\"kind\":null,\"name\":\"close_modal\"}]},{\"extends\":null,\"module\":null,\"name\":\"MaterialTemplateActions1\",\"overrides\":[],\"properties\":[{\"default\":0,\"kind\":null,\"name\":\"open_modal\"},{\"default\":0,\"kind\":null,\"name\":\"close_modal\"}]}],\"roots\":{\"references\":[{\"attributes\":{\"source\":{\"id\":\"13092\"}},\"id\":\"13099\",\"type\":\"CDSView\"},{\"attributes\":{\"editor\":{\"id\":\"13137\"},\"field\":\"ShowProb\",\"formatter\":{\"id\":\"13136\"},\"title\":\"ShowProb\"},\"id\":\"13138\",\"type\":\"TableColumn\"},{\"attributes\":{\"coordinates\":null,\"group\":null,\"items\":[{\"id\":\"13111\"}],\"location\":[0,0]},\"id\":\"13110\",\"type\":\"Legend\"},{\"attributes\":{\"end\":95411.9,\"reset_end\":95411.9,\"reset_start\":0.0,\"tags\":[[[\"Count\",\"Count\",null]]]},\"id\":\"13060\",\"type\":\"Range1d\"},{\"attributes\":{\"editor\":{\"id\":\"13127\"},\"field\":\"No_hyphen_minus_show\",\"formatter\":{\"id\":\"13126\"},\"title\":\"No-show\"},\"id\":\"13128\",\"type\":\"TableColumn\"},{\"attributes\":{\"bottom\":{\"field\":\"bottom\"},\"fill_alpha\":{\"value\":0.1},\"fill_color\":{\"field\":\"No_hyphen_minus_show\",\"transform\":{\"id\":\"13091\"}},\"hatch_alpha\":{\"value\":0.1},\"hatch_color\":{\"field\":\"No_hyphen_minus_show\",\"transform\":{\"id\":\"13091\"}},\"line_alpha\":{\"value\":0.1},\"top\":{\"field\":\"top\"},\"width\":{\"value\":0.8},\"x\":{\"field\":\"Hypertension\"}},\"id\":\"13096\",\"type\":\"VBar\"},{\"attributes\":{\"format\":\"0,0.0[00000]\"},\"id\":\"13126\",\"type\":\"NumberFormatter\"},{\"attributes\":{\"editor\":{\"id\":\"13122\"},\"field\":\"Hypertension\",\"formatter\":{\"id\":\"13121\"},\"title\":\"Hypertension\"},\"id\":\"13123\",\"type\":\"TableColumn\"},{\"attributes\":{},\"id\":\"13132\",\"type\":\"IntEditor\"},{\"attributes\":{},\"id\":\"13102\",\"type\":\"BasicTickFormatter\"},{\"attributes\":{\"below\":[{\"id\":\"13071\"}],\"center\":[{\"id\":\"13073\"},{\"id\":\"13077\"},{\"id\":\"13110\"}],\"height\":300,\"left\":[{\"id\":\"13074\"}],\"margin\":null,\"min_border_bottom\":10,\"min_border_left\":10,\"min_border_right\":10,\"min_border_top\":10,\"renderers\":[{\"id\":\"13098\"}],\"right\":[{\"id\":\"13110\"}],\"sizing_mode\":\"fixed\",\"title\":{\"id\":\"13063\"},\"toolbar\":{\"id\":\"13084\"},\"toolbar_location\":null,\"width\":700,\"x_range\":{\"id\":\"13059\"},\"x_scale\":{\"id\":\"13067\"},\"y_range\":{\"id\":\"13060\"},\"y_scale\":{\"id\":\"13069\"}},\"id\":\"13062\",\"subtype\":\"Figure\",\"type\":\"Plot\"},{\"attributes\":{},\"id\":\"13127\",\"type\":\"NumberEditor\"},{\"attributes\":{},\"id\":\"13155\",\"type\":\"UnionRenderers\"},{\"attributes\":{\"tools\":[{\"id\":\"13061\"},{\"id\":\"13078\"},{\"id\":\"13079\"},{\"id\":\"13080\"},{\"id\":\"13081\"},{\"id\":\"13082\"}]},\"id\":\"13084\",\"type\":\"Toolbar\"},{\"attributes\":{\"margin\":[5,5,5,5],\"name\":\"HSpacer21632\",\"sizing_mode\":\"stretch_width\"},\"id\":\"13269\",\"type\":\"Spacer\"},{\"attributes\":{},\"id\":\"13082\",\"type\":\"ResetTool\"},{\"attributes\":{\"format\":\"0,0.0[00000]\"},\"id\":\"13136\",\"type\":\"NumberFormatter\"},{\"attributes\":{\"coordinates\":null,\"group\":null,\"text\":\"Hypertension\",\"text_color\":\"black\",\"text_font_size\":\"12pt\"},\"id\":\"13063\",\"type\":\"Title\"},{\"attributes\":{},\"id\":\"13067\",\"type\":\"CategoricalScale\"},{\"attributes\":{\"axis\":{\"id\":\"13074\"},\"coordinates\":null,\"dimension\":1,\"grid_line_color\":null,\"group\":null,\"ticker\":null},\"id\":\"13077\",\"type\":\"Grid\"},{\"attributes\":{\"bottom\":{\"field\":\"bottom\"},\"fill_alpha\":{\"value\":1.0},\"fill_color\":{\"field\":\"No_hyphen_minus_show\",\"transform\":{\"id\":\"13091\"}},\"hatch_alpha\":{\"value\":1.0},\"hatch_color\":{\"field\":\"No_hyphen_minus_show\",\"transform\":{\"id\":\"13091\"}},\"hatch_scale\":{\"value\":12.0},\"hatch_weight\":{\"value\":1.0},\"line_alpha\":{\"value\":1.0},\"line_cap\":{\"value\":\"butt\"},\"line_color\":{\"value\":\"black\"},\"line_dash\":{\"value\":[]},\"line_dash_offset\":{\"value\":0},\"line_join\":{\"value\":\"bevel\"},\"line_width\":{\"value\":1},\"top\":{\"field\":\"top\"},\"width\":{\"value\":0.8},\"x\":{\"field\":\"Hypertension\"}},\"id\":\"13112\",\"type\":\"VBar\"},{\"attributes\":{},\"id\":\"13078\",\"type\":\"SaveTool\"},{\"attributes\":{\"editor\":{\"id\":\"13132\"},\"field\":\"Count\",\"formatter\":{\"id\":\"13131\"},\"title\":\"Count\"},\"id\":\"13133\",\"type\":\"TableColumn\"},{\"attributes\":{\"data\":{\"Count\":[70178,18029,18542,3772],\"Hypertension\":[\"0\",\"1\",\"0\",\"1\"],\"No_hyphen_minus_show\":[\"0\",\"0\",\"1\",\"1\"],\"bottom\":{\"__ndarray__\":\"AAAAAAAAAAAAAAAAAAAAAAAAAAAgIvFAAAAAAECb0UA=\",\"dtype\":\"float64\",\"order\":\"little\",\"shape\":[4]},\"top\":{\"__ndarray__\":\"AAAAACAi8UAAAAAAQJvRQAAAAAAAqfVAAAAAAEBK1UA=\",\"dtype\":\"float64\",\"order\":\"little\",\"shape\":[4]}},\"selected\":{\"id\":\"13093\"},\"selection_policy\":{\"id\":\"13107\"}},\"id\":\"13092\",\"type\":\"ColumnDataSource\"},{\"attributes\":{},\"id\":\"13120\",\"type\":\"Selection\"},{\"attributes\":{\"data\":{\"Count\":[70178,18542,18029,3772],\"Hypertension\":[0,0,1,1],\"No_hyphen_minus_show\":{\"__ndarray__\":\"AAAAAAAAAAAAAAAAAADwPwAAAAAAAAAAAAAAAAAA8D8=\",\"dtype\":\"float64\",\"order\":\"little\",\"shape\":[4]},\"ShowProb\":{\"__ndarray__\":\"PYIDlOpP6T8L9/GvVcDKP/eb7qCfduo/JJBFfIElxj8=\",\"dtype\":\"float64\",\"order\":\"little\",\"shape\":[4]}},\"selected\":{\"id\":\"13120\"},\"selection_policy\":{\"id\":\"13155\"}},\"id\":\"13119\",\"type\":\"ColumnDataSource\"},{\"attributes\":{\"source\":{\"id\":\"13119\"}},\"id\":\"13143\",\"type\":\"CDSView\"},{\"attributes\":{\"columns\":[{\"id\":\"13123\"},{\"id\":\"13128\"},{\"id\":\"13133\"},{\"id\":\"13138\"}],\"height\":300,\"reorderable\":false,\"source\":{\"id\":\"13119\"},\"view\":{\"id\":\"13143\"},\"width\":360},\"id\":\"13141\",\"type\":\"DataTable\"},{\"attributes\":{},\"id\":\"13093\",\"type\":\"Selection\"},{\"attributes\":{\"bottom_units\":\"screen\",\"coordinates\":null,\"fill_alpha\":0.5,\"fill_color\":\"lightgrey\",\"group\":null,\"left_units\":\"screen\",\"level\":\"overlay\",\"line_alpha\":1.0,\"line_color\":\"black\",\"line_dash\":[4,4],\"line_width\":2,\"right_units\":\"screen\",\"syncable\":false,\"top_units\":\"screen\"},\"id\":\"13083\",\"type\":\"BoxAnnotation\"},{\"attributes\":{\"overlay\":{\"id\":\"13083\"}},\"id\":\"13081\",\"type\":\"BoxZoomTool\"},{\"attributes\":{},\"id\":\"13072\",\"type\":\"CategoricalTicker\"},{\"attributes\":{},\"id\":\"13079\",\"type\":\"PanTool\"},{\"attributes\":{\"axis_label\":\"Count\",\"coordinates\":null,\"formatter\":{\"id\":\"13102\"},\"group\":null,\"major_label_policy\":{\"id\":\"13103\"},\"ticker\":{\"id\":\"13075\"}},\"id\":\"13074\",\"type\":\"LinearAxis\"},{\"attributes\":{},\"id\":\"13137\",\"type\":\"NumberEditor\"},{\"attributes\":{},\"id\":\"13080\",\"type\":\"WheelZoomTool\"},{\"attributes\":{\"children\":[[{\"id\":\"13062\"},0,0],[{\"id\":\"13141\"},0,1]]},\"id\":\"13157\",\"type\":\"GridBox\"},{\"attributes\":{\"bottom\":{\"field\":\"bottom\"},\"fill_color\":{\"field\":\"No_hyphen_minus_show\",\"transform\":{\"id\":\"13091\"}},\"hatch_color\":{\"field\":\"No_hyphen_minus_show\",\"transform\":{\"id\":\"13091\"}},\"top\":{\"field\":\"top\"},\"width\":{\"value\":0.8},\"x\":{\"field\":\"Hypertension\"}},\"id\":\"13095\",\"type\":\"VBar\"},{\"attributes\":{},\"id\":\"13103\",\"type\":\"AllLabels\"},{\"attributes\":{},\"id\":\"13075\",\"type\":\"BasicTicker\"},{\"attributes\":{\"axis_label\":\"Hypertension\",\"coordinates\":null,\"formatter\":{\"id\":\"13105\"},\"group\":null,\"major_label_orientation\":1.5707963267948966,\"major_label_policy\":{\"id\":\"13106\"},\"ticker\":{\"id\":\"13072\"}},\"id\":\"13071\",\"type\":\"CategoricalAxis\"},{\"attributes\":{\"bottom\":{\"field\":\"bottom\"},\"fill_alpha\":{\"value\":0.2},\"fill_color\":{\"field\":\"No_hyphen_minus_show\",\"transform\":{\"id\":\"13091\"}},\"hatch_alpha\":{\"value\":0.2},\"hatch_color\":{\"field\":\"No_hyphen_minus_show\",\"transform\":{\"id\":\"13091\"}},\"line_alpha\":{\"value\":0.2},\"top\":{\"field\":\"top\"},\"width\":{\"value\":0.8},\"x\":{\"field\":\"Hypertension\"}},\"id\":\"13097\",\"type\":\"VBar\"},{\"attributes\":{\"axis\":{\"id\":\"13071\"},\"coordinates\":null,\"grid_line_color\":null,\"group\":null,\"ticker\":null},\"id\":\"13073\",\"type\":\"Grid\"},{\"attributes\":{\"toolbar\":{\"id\":\"13158\"},\"toolbar_location\":\"above\"},\"id\":\"13159\",\"type\":\"ToolbarBox\"},{\"attributes\":{},\"id\":\"13106\",\"type\":\"AllLabels\"},{\"attributes\":{\"factors\":[\"0\",\"1\"],\"tags\":[[[\"Hypertension\",\"Hypertension\",null]]]},\"id\":\"13059\",\"type\":\"FactorRange\"},{\"attributes\":{\"label\":{\"field\":\"No_hyphen_minus_show\"},\"renderers\":[{\"id\":\"13098\"}]},\"id\":\"13111\",\"type\":\"LegendItem\"},{\"attributes\":{},\"id\":\"13131\",\"type\":\"NumberFormatter\"},{\"attributes\":{},\"id\":\"13121\",\"type\":\"NumberFormatter\"},{\"attributes\":{\"children\":[{\"id\":\"13159\"},{\"id\":\"13157\"}]},\"id\":\"13160\",\"type\":\"Column\"},{\"attributes\":{\"toolbars\":[{\"id\":\"13084\"}],\"tools\":[{\"id\":\"13061\"},{\"id\":\"13078\"},{\"id\":\"13079\"},{\"id\":\"13080\"},{\"id\":\"13081\"},{\"id\":\"13082\"}]},\"id\":\"13158\",\"type\":\"ProxyToolbar\"},{\"attributes\":{\"coordinates\":null,\"data_source\":{\"id\":\"13092\"},\"glyph\":{\"id\":\"13095\"},\"group\":null,\"hover_glyph\":null,\"muted_glyph\":{\"id\":\"13097\"},\"nonselection_glyph\":{\"id\":\"13096\"},\"selection_glyph\":{\"id\":\"13112\"},\"view\":{\"id\":\"13099\"}},\"id\":\"13098\",\"type\":\"GlyphRenderer\"},{\"attributes\":{\"factors\":[\"0\",\"1\"],\"palette\":[\"#30a2da\",\"#fc4f30\"]},\"id\":\"13091\",\"type\":\"CategoricalColorMapper\"},{\"attributes\":{\"children\":[{\"id\":\"13058\"},{\"id\":\"13160\"},{\"id\":\"13269\"}],\"margin\":[0,0,0,0],\"name\":\"Row21627\",\"tags\":[\"embedded\"]},\"id\":\"13057\",\"type\":\"Row\"},{\"attributes\":{},\"id\":\"13105\",\"type\":\"CategoricalTickFormatter\"},{\"attributes\":{\"callback\":null,\"renderers\":[{\"id\":\"13098\"}],\"tags\":[\"hv_created\"],\"tooltips\":[[\"Hypertension\",\"@{Hypertension}\"],[\"No-show\",\"@{No_hyphen_minus_show}\"],[\"Count\",\"@{Count}\"]]},\"id\":\"13061\",\"type\":\"HoverTool\"},{\"attributes\":{\"margin\":[5,5,5,5],\"name\":\"HSpacer21631\",\"sizing_mode\":\"stretch_width\"},\"id\":\"13058\",\"type\":\"Spacer\"},{\"attributes\":{},\"id\":\"13122\",\"type\":\"IntEditor\"},{\"attributes\":{},\"id\":\"13107\",\"type\":\"UnionRenderers\"},{\"attributes\":{},\"id\":\"13069\",\"type\":\"LinearScale\"}],\"root_ids\":[\"13057\"]},\"title\":\"Bokeh Application\",\"version\":\"2.4.2\"}};\n",
       "    var render_items = [{\"docid\":\"8cc18ecb-9192-4a24-8870-c036b35975ba\",\"root_ids\":[\"13057\"],\"roots\":{\"13057\":\"860a5539-d9c2-4e7c-bf1c-ec41f58fe00b\"}}];\n",
       "    root.Bokeh.embed.embed_items_notebook(docs_json, render_items);\n",
       "  }\n",
       "  if (root.Bokeh !== undefined && root.Bokeh.Panel !== undefined) {\n",
       "    embed_document(root);\n",
       "  } else {\n",
       "    var attempts = 0;\n",
       "    var timer = setInterval(function(root) {\n",
       "      if (root.Bokeh !== undefined && root.Bokeh.Panel !== undefined) {\n",
       "        clearInterval(timer);\n",
       "        embed_document(root);\n",
       "      } else if (document.readyState == \"complete\") {\n",
       "        attempts++;\n",
       "        if (attempts > 200) {\n",
       "          clearInterval(timer);\n",
       "          console.log(\"Bokeh: ERROR: Unable to run BokehJS code because BokehJS library is missing\");\n",
       "        }\n",
       "      }\n",
       "    }, 25, root)\n",
       "  }\n",
       "})(window);</script>"
      ],
      "text/plain": [
       ":Layout\n",
       "   .Bars.I  :Bars   [Hypertension,No-show]   (Count)\n",
       "   .Table.I :Table   [Hypertension,No-show,Count,ShowProb]"
      ]
     },
     "execution_count": 349,
     "metadata": {
      "application/vnd.holoviews_exec.v0+json": {
       "id": "13057"
      }
     },
     "output_type": "execute_result"
    },
    {
     "name": "stdout",
     "output_type": "stream",
     "text": [
      "CI is (-0.041664478829214646, -0.030285528096700872), proportion in the no-show group tends to be less\n"
     ]
    }
   ],
   "source": [
    "group_draw(\"Hypertension\")\n",
    "calculate_ci(\"Hypertension\", 0.05)\n"
   ]
  },
  {
   "cell_type": "code",
   "execution_count": 350,
   "metadata": {
    "collapsed": false,
    "pycharm": {
     "name": "#%%\n"
    }
   },
   "outputs": [
    {
     "data": {},
     "metadata": {},
     "output_type": "display_data"
    },
    {
     "data": {
      "application/vnd.holoviews_exec.v0+json": "",
      "text/html": [
       "<div id='13331'>\n",
       "\n",
       "\n",
       "\n",
       "\n",
       "\n",
       "  <div class=\"bk-root\" id=\"554a0c7d-f4cb-4fe5-81d0-6dd76c038c02\" data-root-id=\"13331\"></div>\n",
       "</div>\n",
       "<script type=\"application/javascript\">(function(root) {\n",
       "  function embed_document(root) {\n",
       "    var docs_json = {\"a31ad10a-6872-443b-b7c9-f6622bf67f70\":{\"defs\":[{\"extends\":null,\"module\":null,\"name\":\"ReactiveHTML1\",\"overrides\":[],\"properties\":[]},{\"extends\":null,\"module\":null,\"name\":\"FlexBox1\",\"overrides\":[],\"properties\":[{\"default\":\"flex-start\",\"kind\":null,\"name\":\"align_content\"},{\"default\":\"flex-start\",\"kind\":null,\"name\":\"align_items\"},{\"default\":\"row\",\"kind\":null,\"name\":\"flex_direction\"},{\"default\":\"wrap\",\"kind\":null,\"name\":\"flex_wrap\"},{\"default\":\"flex-start\",\"kind\":null,\"name\":\"justify_content\"}]},{\"extends\":null,\"module\":null,\"name\":\"GridStack1\",\"overrides\":[],\"properties\":[{\"default\":\"warn\",\"kind\":null,\"name\":\"mode\"},{\"default\":null,\"kind\":null,\"name\":\"ncols\"},{\"default\":null,\"kind\":null,\"name\":\"nrows\"},{\"default\":true,\"kind\":null,\"name\":\"allow_resize\"},{\"default\":true,\"kind\":null,\"name\":\"allow_drag\"},{\"default\":[],\"kind\":null,\"name\":\"state\"}]},{\"extends\":null,\"module\":null,\"name\":\"click1\",\"overrides\":[],\"properties\":[{\"default\":\"\",\"kind\":null,\"name\":\"terminal_output\"},{\"default\":\"\",\"kind\":null,\"name\":\"debug_name\"},{\"default\":0,\"kind\":null,\"name\":\"clears\"}]},{\"extends\":null,\"module\":null,\"name\":\"TemplateActions1\",\"overrides\":[],\"properties\":[{\"default\":0,\"kind\":null,\"name\":\"open_modal\"},{\"default\":0,\"kind\":null,\"name\":\"close_modal\"}]},{\"extends\":null,\"module\":null,\"name\":\"MaterialTemplateActions1\",\"overrides\":[],\"properties\":[{\"default\":0,\"kind\":null,\"name\":\"open_modal\"},{\"default\":0,\"kind\":null,\"name\":\"close_modal\"}]}],\"roots\":{\"references\":[{\"attributes\":{},\"id\":\"13349\",\"type\":\"BasicTicker\"},{\"attributes\":{\"axis_label\":\"Diabetes\",\"coordinates\":null,\"formatter\":{\"id\":\"13379\"},\"group\":null,\"major_label_orientation\":1.5707963267948966,\"major_label_policy\":{\"id\":\"13380\"},\"ticker\":{\"id\":\"13346\"}},\"id\":\"13345\",\"type\":\"CategoricalAxis\"},{\"attributes\":{\"source\":{\"id\":\"13393\"}},\"id\":\"13417\",\"type\":\"CDSView\"},{\"attributes\":{\"axis\":{\"id\":\"13345\"},\"coordinates\":null,\"grid_line_color\":null,\"group\":null,\"ticker\":null},\"id\":\"13347\",\"type\":\"Grid\"},{\"attributes\":{\"editor\":{\"id\":\"13396\"},\"field\":\"Diabetes\",\"formatter\":{\"id\":\"13395\"},\"title\":\"Diabetes\"},\"id\":\"13397\",\"type\":\"TableColumn\"},{\"attributes\":{\"source\":{\"id\":\"13366\"}},\"id\":\"13373\",\"type\":\"CDSView\"},{\"attributes\":{\"editor\":{\"id\":\"13411\"},\"field\":\"ShowProb\",\"formatter\":{\"id\":\"13410\"},\"title\":\"ShowProb\"},\"id\":\"13412\",\"type\":\"TableColumn\"},{\"attributes\":{\"bottom\":{\"field\":\"bottom\"},\"fill_alpha\":{\"value\":0.2},\"fill_color\":{\"field\":\"No_hyphen_minus_show\",\"transform\":{\"id\":\"13365\"}},\"hatch_alpha\":{\"value\":0.2},\"hatch_color\":{\"field\":\"No_hyphen_minus_show\",\"transform\":{\"id\":\"13365\"}},\"line_alpha\":{\"value\":0.2},\"top\":{\"field\":\"top\"},\"width\":{\"value\":0.8},\"x\":{\"field\":\"Diabetes\"}},\"id\":\"13371\",\"type\":\"VBar\"},{\"attributes\":{},\"id\":\"13394\",\"type\":\"Selection\"},{\"attributes\":{\"factors\":[\"0\",\"1\"],\"tags\":[[[\"Diabetes\",\"Diabetes\",null]]]},\"id\":\"13333\",\"type\":\"FactorRange\"},{\"attributes\":{\"margin\":[5,5,5,5],\"name\":\"HSpacer22060\",\"sizing_mode\":\"stretch_width\"},\"id\":\"13332\",\"type\":\"Spacer\"},{\"attributes\":{\"label\":{\"field\":\"No_hyphen_minus_show\"},\"renderers\":[{\"id\":\"13372\"}]},\"id\":\"13385\",\"type\":\"LegendItem\"},{\"attributes\":{},\"id\":\"13395\",\"type\":\"NumberFormatter\"},{\"attributes\":{\"toolbar\":{\"id\":\"13432\"},\"toolbar_location\":\"above\"},\"id\":\"13433\",\"type\":\"ToolbarBox\"},{\"attributes\":{\"coordinates\":null,\"data_source\":{\"id\":\"13366\"},\"glyph\":{\"id\":\"13369\"},\"group\":null,\"hover_glyph\":null,\"muted_glyph\":{\"id\":\"13371\"},\"nonselection_glyph\":{\"id\":\"13370\"},\"selection_glyph\":{\"id\":\"13386\"},\"view\":{\"id\":\"13373\"}},\"id\":\"13372\",\"type\":\"GlyphRenderer\"},{\"attributes\":{\"coordinates\":null,\"group\":null,\"items\":[{\"id\":\"13385\"}],\"location\":[0,0]},\"id\":\"13384\",\"type\":\"Legend\"},{\"attributes\":{},\"id\":\"13379\",\"type\":\"CategoricalTickFormatter\"},{\"attributes\":{\"children\":[{\"id\":\"13433\"},{\"id\":\"13431\"}]},\"id\":\"13434\",\"type\":\"Column\"},{\"attributes\":{\"children\":[{\"id\":\"13332\"},{\"id\":\"13434\"},{\"id\":\"13543\"}],\"margin\":[0,0,0,0],\"name\":\"Row22056\",\"tags\":[\"embedded\"]},\"id\":\"13331\",\"type\":\"Row\"},{\"attributes\":{\"callback\":null,\"renderers\":[{\"id\":\"13372\"}],\"tags\":[\"hv_created\"],\"tooltips\":[[\"Diabetes\",\"@{Diabetes}\"],[\"No-show\",\"@{No_hyphen_minus_show}\"],[\"Count\",\"@{Count}\"]]},\"id\":\"13335\",\"type\":\"HoverTool\"},{\"attributes\":{\"format\":\"0,0.0[00000]\"},\"id\":\"13400\",\"type\":\"NumberFormatter\"},{\"attributes\":{},\"id\":\"13396\",\"type\":\"IntEditor\"},{\"attributes\":{},\"id\":\"13343\",\"type\":\"LinearScale\"},{\"attributes\":{\"data\":{\"Count\":[81694,20884,6513,1430],\"Diabetes\":[0,0,1,1],\"No_hyphen_minus_show\":{\"__ndarray__\":\"AAAAAAAAAAAAAAAAAADwPwAAAAAAAAAAAAAAAAAA8D8=\",\"dtype\":\"float64\",\"order\":\"little\",\"shape\":[4]},\"ShowProb\":{\"__ndarray__\":\"ym873C186T/WQBKPSA/KP4b1Uv4rPeo/5im0BlALxz8=\",\"dtype\":\"float64\",\"order\":\"little\",\"shape\":[4]}},\"selected\":{\"id\":\"13394\"},\"selection_policy\":{\"id\":\"13429\"}},\"id\":\"13393\",\"type\":\"ColumnDataSource\"},{\"attributes\":{},\"id\":\"13429\",\"type\":\"UnionRenderers\"},{\"attributes\":{},\"id\":\"13376\",\"type\":\"BasicTickFormatter\"},{\"attributes\":{\"end\":112041.5,\"reset_end\":112041.5,\"reset_start\":0.0,\"tags\":[[[\"Count\",\"Count\",null]]]},\"id\":\"13334\",\"type\":\"Range1d\"},{\"attributes\":{},\"id\":\"13381\",\"type\":\"UnionRenderers\"},{\"attributes\":{\"bottom\":{\"field\":\"bottom\"},\"fill_alpha\":{\"value\":0.1},\"fill_color\":{\"field\":\"No_hyphen_minus_show\",\"transform\":{\"id\":\"13365\"}},\"hatch_alpha\":{\"value\":0.1},\"hatch_color\":{\"field\":\"No_hyphen_minus_show\",\"transform\":{\"id\":\"13365\"}},\"line_alpha\":{\"value\":0.1},\"top\":{\"field\":\"top\"},\"width\":{\"value\":0.8},\"x\":{\"field\":\"Diabetes\"}},\"id\":\"13370\",\"type\":\"VBar\"},{\"attributes\":{\"editor\":{\"id\":\"13401\"},\"field\":\"No_hyphen_minus_show\",\"formatter\":{\"id\":\"13400\"},\"title\":\"No-show\"},\"id\":\"13402\",\"type\":\"TableColumn\"},{\"attributes\":{\"below\":[{\"id\":\"13345\"}],\"center\":[{\"id\":\"13347\"},{\"id\":\"13351\"},{\"id\":\"13384\"}],\"height\":300,\"left\":[{\"id\":\"13348\"}],\"margin\":null,\"min_border_bottom\":10,\"min_border_left\":10,\"min_border_right\":10,\"min_border_top\":10,\"renderers\":[{\"id\":\"13372\"}],\"right\":[{\"id\":\"13384\"}],\"sizing_mode\":\"fixed\",\"title\":{\"id\":\"13337\"},\"toolbar\":{\"id\":\"13358\"},\"toolbar_location\":null,\"width\":700,\"x_range\":{\"id\":\"13333\"},\"x_scale\":{\"id\":\"13341\"},\"y_range\":{\"id\":\"13334\"},\"y_scale\":{\"id\":\"13343\"}},\"id\":\"13336\",\"subtype\":\"Figure\",\"type\":\"Plot\"},{\"attributes\":{},\"id\":\"13341\",\"type\":\"CategoricalScale\"},{\"attributes\":{\"format\":\"0,0.0[00000]\"},\"id\":\"13410\",\"type\":\"NumberFormatter\"},{\"attributes\":{\"columns\":[{\"id\":\"13397\"},{\"id\":\"13402\"},{\"id\":\"13407\"},{\"id\":\"13412\"}],\"height\":300,\"reorderable\":false,\"source\":{\"id\":\"13393\"},\"view\":{\"id\":\"13417\"},\"width\":360},\"id\":\"13415\",\"type\":\"DataTable\"},{\"attributes\":{\"tools\":[{\"id\":\"13335\"},{\"id\":\"13352\"},{\"id\":\"13353\"},{\"id\":\"13354\"},{\"id\":\"13355\"},{\"id\":\"13356\"}]},\"id\":\"13358\",\"type\":\"Toolbar\"},{\"attributes\":{},\"id\":\"13356\",\"type\":\"ResetTool\"},{\"attributes\":{\"editor\":{\"id\":\"13406\"},\"field\":\"Count\",\"formatter\":{\"id\":\"13405\"},\"title\":\"Count\"},\"id\":\"13407\",\"type\":\"TableColumn\"},{\"attributes\":{\"coordinates\":null,\"group\":null,\"text\":\"Diabetes\",\"text_color\":\"black\",\"text_font_size\":\"12pt\"},\"id\":\"13337\",\"type\":\"Title\"},{\"attributes\":{\"toolbars\":[{\"id\":\"13358\"}],\"tools\":[{\"id\":\"13335\"},{\"id\":\"13352\"},{\"id\":\"13353\"},{\"id\":\"13354\"},{\"id\":\"13355\"},{\"id\":\"13356\"}]},\"id\":\"13432\",\"type\":\"ProxyToolbar\"},{\"attributes\":{\"axis\":{\"id\":\"13348\"},\"coordinates\":null,\"dimension\":1,\"grid_line_color\":null,\"group\":null,\"ticker\":null},\"id\":\"13351\",\"type\":\"Grid\"},{\"attributes\":{\"bottom\":{\"field\":\"bottom\"},\"fill_color\":{\"field\":\"No_hyphen_minus_show\",\"transform\":{\"id\":\"13365\"}},\"hatch_color\":{\"field\":\"No_hyphen_minus_show\",\"transform\":{\"id\":\"13365\"}},\"top\":{\"field\":\"top\"},\"width\":{\"value\":0.8},\"x\":{\"field\":\"Diabetes\"}},\"id\":\"13369\",\"type\":\"VBar\"},{\"attributes\":{},\"id\":\"13352\",\"type\":\"SaveTool\"},{\"attributes\":{\"data\":{\"Count\":[81694,6513,20884,1430],\"Diabetes\":[\"0\",\"1\",\"0\",\"1\"],\"No_hyphen_minus_show\":[\"0\",\"0\",\"1\",\"1\"],\"bottom\":{\"__ndarray__\":\"AAAAAAAAAAAAAAAAAAAAAAAAAADg8fNAAAAAAABxuUA=\",\"dtype\":\"float64\",\"order\":\"little\",\"shape\":[4]},\"top\":{\"__ndarray__\":\"AAAAAODx80AAAAAAAHG5QAAAAAAgC/lAAAAAAAAHv0A=\",\"dtype\":\"float64\",\"order\":\"little\",\"shape\":[4]}},\"selected\":{\"id\":\"13367\"},\"selection_policy\":{\"id\":\"13381\"}},\"id\":\"13366\",\"type\":\"ColumnDataSource\"},{\"attributes\":{\"margin\":[5,5,5,5],\"name\":\"HSpacer22061\",\"sizing_mode\":\"stretch_width\"},\"id\":\"13543\",\"type\":\"Spacer\"},{\"attributes\":{},\"id\":\"13401\",\"type\":\"NumberEditor\"},{\"attributes\":{\"factors\":[\"0\",\"1\"],\"palette\":[\"#30a2da\",\"#fc4f30\"]},\"id\":\"13365\",\"type\":\"CategoricalColorMapper\"},{\"attributes\":{},\"id\":\"13367\",\"type\":\"Selection\"},{\"attributes\":{\"bottom_units\":\"screen\",\"coordinates\":null,\"fill_alpha\":0.5,\"fill_color\":\"lightgrey\",\"group\":null,\"left_units\":\"screen\",\"level\":\"overlay\",\"line_alpha\":1.0,\"line_color\":\"black\",\"line_dash\":[4,4],\"line_width\":2,\"right_units\":\"screen\",\"syncable\":false,\"top_units\":\"screen\"},\"id\":\"13357\",\"type\":\"BoxAnnotation\"},{\"attributes\":{\"bottom\":{\"field\":\"bottom\"},\"fill_alpha\":{\"value\":1.0},\"fill_color\":{\"field\":\"No_hyphen_minus_show\",\"transform\":{\"id\":\"13365\"}},\"hatch_alpha\":{\"value\":1.0},\"hatch_color\":{\"field\":\"No_hyphen_minus_show\",\"transform\":{\"id\":\"13365\"}},\"hatch_scale\":{\"value\":12.0},\"hatch_weight\":{\"value\":1.0},\"line_alpha\":{\"value\":1.0},\"line_cap\":{\"value\":\"butt\"},\"line_color\":{\"value\":\"black\"},\"line_dash\":{\"value\":[]},\"line_dash_offset\":{\"value\":0},\"line_join\":{\"value\":\"bevel\"},\"line_width\":{\"value\":1},\"top\":{\"field\":\"top\"},\"width\":{\"value\":0.8},\"x\":{\"field\":\"Diabetes\"}},\"id\":\"13386\",\"type\":\"VBar\"},{\"attributes\":{},\"id\":\"13406\",\"type\":\"IntEditor\"},{\"attributes\":{\"overlay\":{\"id\":\"13357\"}},\"id\":\"13355\",\"type\":\"BoxZoomTool\"},{\"attributes\":{},\"id\":\"13346\",\"type\":\"CategoricalTicker\"},{\"attributes\":{},\"id\":\"13353\",\"type\":\"PanTool\"},{\"attributes\":{},\"id\":\"13411\",\"type\":\"NumberEditor\"},{\"attributes\":{},\"id\":\"13380\",\"type\":\"AllLabels\"},{\"attributes\":{\"axis_label\":\"Count\",\"coordinates\":null,\"formatter\":{\"id\":\"13376\"},\"group\":null,\"major_label_policy\":{\"id\":\"13377\"},\"ticker\":{\"id\":\"13349\"}},\"id\":\"13348\",\"type\":\"LinearAxis\"},{\"attributes\":{},\"id\":\"13405\",\"type\":\"NumberFormatter\"},{\"attributes\":{},\"id\":\"13354\",\"type\":\"WheelZoomTool\"},{\"attributes\":{\"children\":[[{\"id\":\"13336\"},0,0],[{\"id\":\"13415\"},0,1]]},\"id\":\"13431\",\"type\":\"GridBox\"},{\"attributes\":{},\"id\":\"13377\",\"type\":\"AllLabels\"}],\"root_ids\":[\"13331\"]},\"title\":\"Bokeh Application\",\"version\":\"2.4.2\"}};\n",
       "    var render_items = [{\"docid\":\"a31ad10a-6872-443b-b7c9-f6622bf67f70\",\"root_ids\":[\"13331\"],\"roots\":{\"13331\":\"554a0c7d-f4cb-4fe5-81d0-6dd76c038c02\"}}];\n",
       "    root.Bokeh.embed.embed_items_notebook(docs_json, render_items);\n",
       "  }\n",
       "  if (root.Bokeh !== undefined && root.Bokeh.Panel !== undefined) {\n",
       "    embed_document(root);\n",
       "  } else {\n",
       "    var attempts = 0;\n",
       "    var timer = setInterval(function(root) {\n",
       "      if (root.Bokeh !== undefined && root.Bokeh.Panel !== undefined) {\n",
       "        clearInterval(timer);\n",
       "        embed_document(root);\n",
       "      } else if (document.readyState == \"complete\") {\n",
       "        attempts++;\n",
       "        if (attempts > 200) {\n",
       "          clearInterval(timer);\n",
       "          console.log(\"Bokeh: ERROR: Unable to run BokehJS code because BokehJS library is missing\");\n",
       "        }\n",
       "      }\n",
       "    }, 25, root)\n",
       "  }\n",
       "})(window);</script>"
      ],
      "text/plain": [
       ":Layout\n",
       "   .Bars.I  :Bars   [Diabetes,No-show]   (Count)\n",
       "   .Table.I :Table   [Diabetes,No-show,Count,ShowProb]"
      ]
     },
     "execution_count": 350,
     "metadata": {
      "application/vnd.holoviews_exec.v0+json": {
       "id": "13331"
      }
     },
     "output_type": "execute_result"
    },
    {
     "name": "stdout",
     "output_type": "stream",
     "text": [
      "CI is (-0.03236014206542362, -0.014757218213109685), proportion in the no-show group tends to be less\n"
     ]
    }
   ],
   "source": [
    "group_draw(\"Diabetes\")\n",
    "calculate_ci(\"Diabetes\", 0.05)\n"
   ]
  },
  {
   "cell_type": "code",
   "execution_count": 351,
   "metadata": {
    "collapsed": false,
    "pycharm": {
     "name": "#%%\n"
    }
   },
   "outputs": [
    {
     "data": {},
     "metadata": {},
     "output_type": "display_data"
    },
    {
     "data": {
      "application/vnd.holoviews_exec.v0+json": "",
      "text/html": [
       "<div id='13605'>\n",
       "\n",
       "\n",
       "\n",
       "\n",
       "\n",
       "  <div class=\"bk-root\" id=\"2f2a30f7-f136-4f52-ad66-abe8618f2083\" data-root-id=\"13605\"></div>\n",
       "</div>\n",
       "<script type=\"application/javascript\">(function(root) {\n",
       "  function embed_document(root) {\n",
       "    var docs_json = {\"a9942d14-3130-4bfd-9e18-acf95c6e8080\":{\"defs\":[{\"extends\":null,\"module\":null,\"name\":\"ReactiveHTML1\",\"overrides\":[],\"properties\":[]},{\"extends\":null,\"module\":null,\"name\":\"FlexBox1\",\"overrides\":[],\"properties\":[{\"default\":\"flex-start\",\"kind\":null,\"name\":\"align_content\"},{\"default\":\"flex-start\",\"kind\":null,\"name\":\"align_items\"},{\"default\":\"row\",\"kind\":null,\"name\":\"flex_direction\"},{\"default\":\"wrap\",\"kind\":null,\"name\":\"flex_wrap\"},{\"default\":\"flex-start\",\"kind\":null,\"name\":\"justify_content\"}]},{\"extends\":null,\"module\":null,\"name\":\"GridStack1\",\"overrides\":[],\"properties\":[{\"default\":\"warn\",\"kind\":null,\"name\":\"mode\"},{\"default\":null,\"kind\":null,\"name\":\"ncols\"},{\"default\":null,\"kind\":null,\"name\":\"nrows\"},{\"default\":true,\"kind\":null,\"name\":\"allow_resize\"},{\"default\":true,\"kind\":null,\"name\":\"allow_drag\"},{\"default\":[],\"kind\":null,\"name\":\"state\"}]},{\"extends\":null,\"module\":null,\"name\":\"click1\",\"overrides\":[],\"properties\":[{\"default\":\"\",\"kind\":null,\"name\":\"terminal_output\"},{\"default\":\"\",\"kind\":null,\"name\":\"debug_name\"},{\"default\":0,\"kind\":null,\"name\":\"clears\"}]},{\"extends\":null,\"module\":null,\"name\":\"TemplateActions1\",\"overrides\":[],\"properties\":[{\"default\":0,\"kind\":null,\"name\":\"open_modal\"},{\"default\":0,\"kind\":null,\"name\":\"close_modal\"}]},{\"extends\":null,\"module\":null,\"name\":\"MaterialTemplateActions1\",\"overrides\":[],\"properties\":[{\"default\":0,\"kind\":null,\"name\":\"open_modal\"},{\"default\":0,\"kind\":null,\"name\":\"close_modal\"}]}],\"roots\":{\"references\":[{\"attributes\":{},\"id\":\"13641\",\"type\":\"Selection\"},{\"attributes\":{\"margin\":[5,5,5,5],\"name\":\"HSpacer22490\",\"sizing_mode\":\"stretch_width\"},\"id\":\"13817\",\"type\":\"Spacer\"},{\"attributes\":{},\"id\":\"13630\",\"type\":\"ResetTool\"},{\"attributes\":{\"coordinates\":null,\"group\":null,\"items\":[{\"id\":\"13659\"}],\"location\":[0,0]},\"id\":\"13658\",\"type\":\"Legend\"},{\"attributes\":{\"format\":\"0,0.0[00000]\"},\"id\":\"13684\",\"type\":\"NumberFormatter\"},{\"attributes\":{\"coordinates\":null,\"group\":null,\"text\":\"Alcoholism\",\"text_color\":\"black\",\"text_font_size\":\"12pt\"},\"id\":\"13611\",\"type\":\"Title\"},{\"attributes\":{\"toolbars\":[{\"id\":\"13632\"}],\"tools\":[{\"id\":\"13609\"},{\"id\":\"13626\"},{\"id\":\"13627\"},{\"id\":\"13628\"},{\"id\":\"13629\"},{\"id\":\"13630\"}]},\"id\":\"13706\",\"type\":\"ProxyToolbar\"},{\"attributes\":{\"axis\":{\"id\":\"13622\"},\"coordinates\":null,\"dimension\":1,\"grid_line_color\":null,\"group\":null,\"ticker\":null},\"id\":\"13625\",\"type\":\"Grid\"},{\"attributes\":{\"bottom\":{\"field\":\"bottom\"},\"fill_alpha\":{\"value\":1.0},\"fill_color\":{\"field\":\"No_hyphen_minus_show\",\"transform\":{\"id\":\"13639\"}},\"hatch_alpha\":{\"value\":1.0},\"hatch_color\":{\"field\":\"No_hyphen_minus_show\",\"transform\":{\"id\":\"13639\"}},\"hatch_scale\":{\"value\":12.0},\"hatch_weight\":{\"value\":1.0},\"line_alpha\":{\"value\":1.0},\"line_cap\":{\"value\":\"butt\"},\"line_color\":{\"value\":\"black\"},\"line_dash\":{\"value\":[]},\"line_dash_offset\":{\"value\":0},\"line_join\":{\"value\":\"bevel\"},\"line_width\":{\"value\":1},\"top\":{\"field\":\"top\"},\"width\":{\"value\":0.8},\"x\":{\"field\":\"Alcoholism\"}},\"id\":\"13660\",\"type\":\"VBar\"},{\"attributes\":{},\"id\":\"13626\",\"type\":\"SaveTool\"},{\"attributes\":{\"below\":[{\"id\":\"13619\"}],\"center\":[{\"id\":\"13621\"},{\"id\":\"13625\"},{\"id\":\"13658\"}],\"height\":300,\"left\":[{\"id\":\"13622\"}],\"margin\":null,\"min_border_bottom\":10,\"min_border_left\":10,\"min_border_right\":10,\"min_border_top\":10,\"renderers\":[{\"id\":\"13646\"}],\"right\":[{\"id\":\"13658\"}],\"sizing_mode\":\"fixed\",\"title\":{\"id\":\"13611\"},\"toolbar\":{\"id\":\"13632\"},\"toolbar_location\":null,\"width\":700,\"x_range\":{\"id\":\"13607\"},\"x_scale\":{\"id\":\"13615\"},\"y_range\":{\"id\":\"13608\"},\"y_scale\":{\"id\":\"13617\"}},\"id\":\"13610\",\"subtype\":\"Figure\",\"type\":\"Plot\"},{\"attributes\":{\"editor\":{\"id\":\"13680\"},\"field\":\"Count\",\"formatter\":{\"id\":\"13679\"},\"title\":\"Count\"},\"id\":\"13681\",\"type\":\"TableColumn\"},{\"attributes\":{},\"id\":\"13668\",\"type\":\"Selection\"},{\"attributes\":{\"source\":{\"id\":\"13667\"}},\"id\":\"13691\",\"type\":\"CDSView\"},{\"attributes\":{\"data\":{\"Alcoholism\":[\"0\",\"1\",\"0\",\"1\"],\"Count\":[85524,2683,21637,677],\"No_hyphen_minus_show\":[\"0\",\"0\",\"1\",\"1\"],\"bottom\":{\"__ndarray__\":\"AAAAAAAAAAAAAAAAAAAAAAAAAABA4fRAAAAAAAD2pEA=\",\"dtype\":\"float64\",\"order\":\"little\",\"shape\":[4]},\"top\":{\"__ndarray__\":\"AAAAAEDh9EAAAAAAAPakQAAAAACQKfpAAAAAAABAqkA=\",\"dtype\":\"float64\",\"order\":\"little\",\"shape\":[4]}},\"selected\":{\"id\":\"13641\"},\"selection_policy\":{\"id\":\"13655\"}},\"id\":\"13640\",\"type\":\"ColumnDataSource\"},{\"attributes\":{\"columns\":[{\"id\":\"13671\"},{\"id\":\"13676\"},{\"id\":\"13681\"},{\"id\":\"13686\"}],\"height\":300,\"reorderable\":false,\"source\":{\"id\":\"13667\"},\"view\":{\"id\":\"13691\"},\"width\":360},\"id\":\"13689\",\"type\":\"DataTable\"},{\"attributes\":{\"bottom_units\":\"screen\",\"coordinates\":null,\"fill_alpha\":0.5,\"fill_color\":\"lightgrey\",\"group\":null,\"left_units\":\"screen\",\"level\":\"overlay\",\"line_alpha\":1.0,\"line_color\":\"black\",\"line_dash\":[4,4],\"line_width\":2,\"right_units\":\"screen\",\"syncable\":false,\"top_units\":\"screen\"},\"id\":\"13631\",\"type\":\"BoxAnnotation\"},{\"attributes\":{},\"id\":\"13651\",\"type\":\"AllLabels\"},{\"attributes\":{\"overlay\":{\"id\":\"13631\"}},\"id\":\"13629\",\"type\":\"BoxZoomTool\"},{\"attributes\":{},\"id\":\"13620\",\"type\":\"CategoricalTicker\"},{\"attributes\":{},\"id\":\"13653\",\"type\":\"CategoricalTickFormatter\"},{\"attributes\":{},\"id\":\"13627\",\"type\":\"PanTool\"},{\"attributes\":{\"bottom\":{\"field\":\"bottom\"},\"fill_color\":{\"field\":\"No_hyphen_minus_show\",\"transform\":{\"id\":\"13639\"}},\"hatch_color\":{\"field\":\"No_hyphen_minus_show\",\"transform\":{\"id\":\"13639\"}},\"top\":{\"field\":\"top\"},\"width\":{\"value\":0.8},\"x\":{\"field\":\"Alcoholism\"}},\"id\":\"13643\",\"type\":\"VBar\"},{\"attributes\":{\"source\":{\"id\":\"13640\"}},\"id\":\"13647\",\"type\":\"CDSView\"},{\"attributes\":{\"axis_label\":\"Count\",\"coordinates\":null,\"formatter\":{\"id\":\"13650\"},\"group\":null,\"major_label_policy\":{\"id\":\"13651\"},\"ticker\":{\"id\":\"13623\"}},\"id\":\"13622\",\"type\":\"LinearAxis\"},{\"attributes\":{},\"id\":\"13650\",\"type\":\"BasicTickFormatter\"},{\"attributes\":{\"label\":{\"field\":\"No_hyphen_minus_show\"},\"renderers\":[{\"id\":\"13646\"}]},\"id\":\"13659\",\"type\":\"LegendItem\"},{\"attributes\":{},\"id\":\"13685\",\"type\":\"NumberEditor\"},{\"attributes\":{},\"id\":\"13628\",\"type\":\"WheelZoomTool\"},{\"attributes\":{\"children\":[[{\"id\":\"13610\"},0,0],[{\"id\":\"13689\"},0,1]]},\"id\":\"13705\",\"type\":\"GridBox\"},{\"attributes\":{},\"id\":\"13623\",\"type\":\"BasicTicker\"},{\"attributes\":{\"axis_label\":\"Alcoholism\",\"coordinates\":null,\"formatter\":{\"id\":\"13653\"},\"group\":null,\"major_label_orientation\":1.5707963267948966,\"major_label_policy\":{\"id\":\"13654\"},\"ticker\":{\"id\":\"13620\"}},\"id\":\"13619\",\"type\":\"CategoricalAxis\"},{\"attributes\":{\"bottom\":{\"field\":\"bottom\"},\"fill_alpha\":{\"value\":0.2},\"fill_color\":{\"field\":\"No_hyphen_minus_show\",\"transform\":{\"id\":\"13639\"}},\"hatch_alpha\":{\"value\":0.2},\"hatch_color\":{\"field\":\"No_hyphen_minus_show\",\"transform\":{\"id\":\"13639\"}},\"line_alpha\":{\"value\":0.2},\"top\":{\"field\":\"top\"},\"width\":{\"value\":0.8},\"x\":{\"field\":\"Alcoholism\"}},\"id\":\"13645\",\"type\":\"VBar\"},{\"attributes\":{\"axis\":{\"id\":\"13619\"},\"coordinates\":null,\"grid_line_color\":null,\"group\":null,\"ticker\":null},\"id\":\"13621\",\"type\":\"Grid\"},{\"attributes\":{\"toolbar\":{\"id\":\"13706\"},\"toolbar_location\":\"above\"},\"id\":\"13707\",\"type\":\"ToolbarBox\"},{\"attributes\":{},\"id\":\"13654\",\"type\":\"AllLabels\"},{\"attributes\":{\"factors\":[\"0\",\"1\"],\"tags\":[[[\"Alcoholism\",\"Alcoholism\",null]]]},\"id\":\"13607\",\"type\":\"FactorRange\"},{\"attributes\":{\"margin\":[5,5,5,5],\"name\":\"HSpacer22489\",\"sizing_mode\":\"stretch_width\"},\"id\":\"13606\",\"type\":\"Spacer\"},{\"attributes\":{},\"id\":\"13675\",\"type\":\"NumberEditor\"},{\"attributes\":{},\"id\":\"13669\",\"type\":\"NumberFormatter\"},{\"attributes\":{\"children\":[{\"id\":\"13707\"},{\"id\":\"13705\"}]},\"id\":\"13708\",\"type\":\"Column\"},{\"attributes\":{},\"id\":\"13679\",\"type\":\"NumberFormatter\"},{\"attributes\":{\"factors\":[\"0\",\"1\"],\"palette\":[\"#30a2da\",\"#fc4f30\"]},\"id\":\"13639\",\"type\":\"CategoricalColorMapper\"},{\"attributes\":{\"children\":[{\"id\":\"13606\"},{\"id\":\"13708\"},{\"id\":\"13817\"}],\"margin\":[0,0,0,0],\"name\":\"Row22485\",\"tags\":[\"embedded\"]},\"id\":\"13605\",\"type\":\"Row\"},{\"attributes\":{\"callback\":null,\"renderers\":[{\"id\":\"13646\"}],\"tags\":[\"hv_created\"],\"tooltips\":[[\"Alcoholism\",\"@{Alcoholism}\"],[\"No-show\",\"@{No_hyphen_minus_show}\"],[\"Count\",\"@{Count}\"]]},\"id\":\"13609\",\"type\":\"HoverTool\"},{\"attributes\":{},\"id\":\"13703\",\"type\":\"UnionRenderers\"},{\"attributes\":{},\"id\":\"13670\",\"type\":\"IntEditor\"},{\"attributes\":{},\"id\":\"13617\",\"type\":\"LinearScale\"},{\"attributes\":{},\"id\":\"13655\",\"type\":\"UnionRenderers\"},{\"attributes\":{\"coordinates\":null,\"data_source\":{\"id\":\"13640\"},\"glyph\":{\"id\":\"13643\"},\"group\":null,\"hover_glyph\":null,\"muted_glyph\":{\"id\":\"13645\"},\"nonselection_glyph\":{\"id\":\"13644\"},\"selection_glyph\":{\"id\":\"13660\"},\"view\":{\"id\":\"13647\"}},\"id\":\"13646\",\"type\":\"GlyphRenderer\"},{\"attributes\":{\"editor\":{\"id\":\"13685\"},\"field\":\"ShowProb\",\"formatter\":{\"id\":\"13684\"},\"title\":\"ShowProb\"},\"id\":\"13686\",\"type\":\"TableColumn\"},{\"attributes\":{\"bottom\":{\"field\":\"bottom\"},\"fill_alpha\":{\"value\":0.1},\"fill_color\":{\"field\":\"No_hyphen_minus_show\",\"transform\":{\"id\":\"13639\"}},\"hatch_alpha\":{\"value\":0.1},\"hatch_color\":{\"field\":\"No_hyphen_minus_show\",\"transform\":{\"id\":\"13639\"}},\"line_alpha\":{\"value\":0.1},\"top\":{\"field\":\"top\"},\"width\":{\"value\":0.8},\"x\":{\"field\":\"Alcoholism\"}},\"id\":\"13644\",\"type\":\"VBar\"},{\"attributes\":{\"end\":117541.1,\"reset_end\":117541.1,\"reset_start\":0.0,\"tags\":[[[\"Count\",\"Count\",null]]]},\"id\":\"13608\",\"type\":\"Range1d\"},{\"attributes\":{\"editor\":{\"id\":\"13675\"},\"field\":\"No_hyphen_minus_show\",\"formatter\":{\"id\":\"13674\"},\"title\":\"No-show\"},\"id\":\"13676\",\"type\":\"TableColumn\"},{\"attributes\":{\"format\":\"0,0.0[00000]\"},\"id\":\"13674\",\"type\":\"NumberFormatter\"},{\"attributes\":{\"editor\":{\"id\":\"13670\"},\"field\":\"Alcoholism\",\"formatter\":{\"id\":\"13669\"},\"title\":\"Alcoholism\"},\"id\":\"13671\",\"type\":\"TableColumn\"},{\"attributes\":{\"data\":{\"Alcoholism\":[0,0,1,1],\"Count\":[85524,21637,2683,677],\"No_hyphen_minus_show\":{\"__ndarray__\":\"AAAAAAAAAAAAAAAAAADwPwAAAAAAAAAAAAAAAAAA8D8=\",\"dtype\":\"float64\",\"order\":\"little\",\"shape\":[4]},\"ShowProb\":{\"__ndarray__\":\"h1x9pPGJ6T/mjQpuOdjJP9dojdZojek/plzKpVzKyT8=\",\"dtype\":\"float64\",\"order\":\"little\",\"shape\":[4]}},\"selected\":{\"id\":\"13668\"},\"selection_policy\":{\"id\":\"13703\"}},\"id\":\"13667\",\"type\":\"ColumnDataSource\"},{\"attributes\":{},\"id\":\"13680\",\"type\":\"IntEditor\"},{\"attributes\":{},\"id\":\"13615\",\"type\":\"CategoricalScale\"},{\"attributes\":{\"tools\":[{\"id\":\"13609\"},{\"id\":\"13626\"},{\"id\":\"13627\"},{\"id\":\"13628\"},{\"id\":\"13629\"},{\"id\":\"13630\"}]},\"id\":\"13632\",\"type\":\"Toolbar\"}],\"root_ids\":[\"13605\"]},\"title\":\"Bokeh Application\",\"version\":\"2.4.2\"}};\n",
       "    var render_items = [{\"docid\":\"a9942d14-3130-4bfd-9e18-acf95c6e8080\",\"root_ids\":[\"13605\"],\"roots\":{\"13605\":\"2f2a30f7-f136-4f52-ad66-abe8618f2083\"}}];\n",
       "    root.Bokeh.embed.embed_items_notebook(docs_json, render_items);\n",
       "  }\n",
       "  if (root.Bokeh !== undefined && root.Bokeh.Panel !== undefined) {\n",
       "    embed_document(root);\n",
       "  } else {\n",
       "    var attempts = 0;\n",
       "    var timer = setInterval(function(root) {\n",
       "      if (root.Bokeh !== undefined && root.Bokeh.Panel !== undefined) {\n",
       "        clearInterval(timer);\n",
       "        embed_document(root);\n",
       "      } else if (document.readyState == \"complete\") {\n",
       "        attempts++;\n",
       "        if (attempts > 200) {\n",
       "          clearInterval(timer);\n",
       "          console.log(\"Bokeh: ERROR: Unable to run BokehJS code because BokehJS library is missing\");\n",
       "        }\n",
       "      }\n",
       "    }, 25, root)\n",
       "  }\n",
       "})(window);</script>"
      ],
      "text/plain": [
       ":Layout\n",
       "   .Bars.I  :Bars   [Alcoholism,No-show]   (Count)\n",
       "   .Table.I :Table   [Alcoholism,No-show,Count,ShowProb]"
      ]
     },
     "execution_count": 351,
     "metadata": {
      "application/vnd.holoviews_exec.v0+json": {
       "id": "13605"
      }
     },
     "output_type": "execute_result"
    },
    {
     "name": "stdout",
     "output_type": "stream",
     "text": [
      "CI is (-0.014196989031092205, 0.01335089341439441), can not make definitive decision\n"
     ]
    }
   ],
   "source": [
    "group_draw(\"Alcoholism\")\n",
    "calculate_ci(\"Alcoholism\", 0.05)\n"
   ]
  },
  {
   "cell_type": "code",
   "execution_count": 352,
   "metadata": {
    "collapsed": false,
    "pycharm": {
     "name": "#%%\n"
    }
   },
   "outputs": [
    {
     "data": {},
     "metadata": {},
     "output_type": "display_data"
    },
    {
     "data": {
      "application/vnd.holoviews_exec.v0+json": "",
      "text/html": [
       "<div id='13879'>\n",
       "\n",
       "\n",
       "\n",
       "\n",
       "\n",
       "  <div class=\"bk-root\" id=\"95d4d40a-2210-4ff2-8e25-5dbcfb9159f3\" data-root-id=\"13879\"></div>\n",
       "</div>\n",
       "<script type=\"application/javascript\">(function(root) {\n",
       "  function embed_document(root) {\n",
       "    var docs_json = {\"c7b5f419-bb7d-4424-b472-08a7f0844679\":{\"defs\":[{\"extends\":null,\"module\":null,\"name\":\"ReactiveHTML1\",\"overrides\":[],\"properties\":[]},{\"extends\":null,\"module\":null,\"name\":\"FlexBox1\",\"overrides\":[],\"properties\":[{\"default\":\"flex-start\",\"kind\":null,\"name\":\"align_content\"},{\"default\":\"flex-start\",\"kind\":null,\"name\":\"align_items\"},{\"default\":\"row\",\"kind\":null,\"name\":\"flex_direction\"},{\"default\":\"wrap\",\"kind\":null,\"name\":\"flex_wrap\"},{\"default\":\"flex-start\",\"kind\":null,\"name\":\"justify_content\"}]},{\"extends\":null,\"module\":null,\"name\":\"GridStack1\",\"overrides\":[],\"properties\":[{\"default\":\"warn\",\"kind\":null,\"name\":\"mode\"},{\"default\":null,\"kind\":null,\"name\":\"ncols\"},{\"default\":null,\"kind\":null,\"name\":\"nrows\"},{\"default\":true,\"kind\":null,\"name\":\"allow_resize\"},{\"default\":true,\"kind\":null,\"name\":\"allow_drag\"},{\"default\":[],\"kind\":null,\"name\":\"state\"}]},{\"extends\":null,\"module\":null,\"name\":\"click1\",\"overrides\":[],\"properties\":[{\"default\":\"\",\"kind\":null,\"name\":\"terminal_output\"},{\"default\":\"\",\"kind\":null,\"name\":\"debug_name\"},{\"default\":0,\"kind\":null,\"name\":\"clears\"}]},{\"extends\":null,\"module\":null,\"name\":\"TemplateActions1\",\"overrides\":[],\"properties\":[{\"default\":0,\"kind\":null,\"name\":\"open_modal\"},{\"default\":0,\"kind\":null,\"name\":\"close_modal\"}]},{\"extends\":null,\"module\":null,\"name\":\"MaterialTemplateActions1\",\"overrides\":[],\"properties\":[{\"default\":0,\"kind\":null,\"name\":\"open_modal\"},{\"default\":0,\"kind\":null,\"name\":\"close_modal\"}]}],\"roots\":{\"references\":[{\"attributes\":{},\"id\":\"13891\",\"type\":\"LinearScale\"},{\"attributes\":{\"editor\":{\"id\":\"13959\"},\"field\":\"ShowProb\",\"formatter\":{\"id\":\"13958\"},\"title\":\"ShowProb\"},\"id\":\"13960\",\"type\":\"TableColumn\"},{\"attributes\":{},\"id\":\"13977\",\"type\":\"UnionRenderers\"},{\"attributes\":{\"end\":78994.7,\"reset_end\":78994.7,\"reset_start\":0.0,\"tags\":[[[\"Count\",\"Count\",null]]]},\"id\":\"13882\",\"type\":\"Range1d\"},{\"attributes\":{},\"id\":\"13929\",\"type\":\"UnionRenderers\"},{\"attributes\":{},\"id\":\"13924\",\"type\":\"BasicTickFormatter\"},{\"attributes\":{\"format\":\"0,0.0[00000]\"},\"id\":\"13958\",\"type\":\"NumberFormatter\"},{\"attributes\":{},\"id\":\"13889\",\"type\":\"CategoricalScale\"},{\"attributes\":{\"below\":[{\"id\":\"13893\"}],\"center\":[{\"id\":\"13895\"},{\"id\":\"13899\"},{\"id\":\"13932\"}],\"height\":300,\"left\":[{\"id\":\"13896\"}],\"margin\":null,\"min_border_bottom\":10,\"min_border_left\":10,\"min_border_right\":10,\"min_border_top\":10,\"renderers\":[{\"id\":\"13920\"}],\"right\":[{\"id\":\"13932\"}],\"sizing_mode\":\"fixed\",\"title\":{\"id\":\"13885\"},\"toolbar\":{\"id\":\"13906\"},\"toolbar_location\":null,\"width\":700,\"x_range\":{\"id\":\"13881\"},\"x_scale\":{\"id\":\"13889\"},\"y_range\":{\"id\":\"13882\"},\"y_scale\":{\"id\":\"13891\"}},\"id\":\"13884\",\"subtype\":\"Figure\",\"type\":\"Plot\"},{\"attributes\":{\"editor\":{\"id\":\"13944\"},\"field\":\"SMS_received\",\"formatter\":{\"id\":\"13943\"},\"title\":\"SMS_received\"},\"id\":\"13945\",\"type\":\"TableColumn\"},{\"attributes\":{\"tools\":[{\"id\":\"13883\"},{\"id\":\"13900\"},{\"id\":\"13901\"},{\"id\":\"13902\"},{\"id\":\"13903\"},{\"id\":\"13904\"}]},\"id\":\"13906\",\"type\":\"Toolbar\"},{\"attributes\":{\"coordinates\":null,\"group\":null,\"items\":[{\"id\":\"13933\"}],\"location\":[0,0]},\"id\":\"13932\",\"type\":\"Legend\"},{\"attributes\":{\"columns\":[{\"id\":\"13945\"},{\"id\":\"13950\"},{\"id\":\"13955\"},{\"id\":\"13960\"}],\"height\":300,\"reorderable\":false,\"source\":{\"id\":\"13941\"},\"view\":{\"id\":\"13965\"},\"width\":360},\"id\":\"13963\",\"type\":\"DataTable\"},{\"attributes\":{},\"id\":\"13925\",\"type\":\"AllLabels\"},{\"attributes\":{\"source\":{\"id\":\"13914\"}},\"id\":\"13921\",\"type\":\"CDSView\"},{\"attributes\":{},\"id\":\"13904\",\"type\":\"ResetTool\"},{\"attributes\":{\"margin\":[5,5,5,5],\"name\":\"HSpacer22919\",\"sizing_mode\":\"stretch_width\"},\"id\":\"14091\",\"type\":\"Spacer\"},{\"attributes\":{\"editor\":{\"id\":\"13954\"},\"field\":\"Count\",\"formatter\":{\"id\":\"13953\"},\"title\":\"Count\"},\"id\":\"13955\",\"type\":\"TableColumn\"},{\"attributes\":{\"coordinates\":null,\"group\":null,\"text\":\"SMS_received\",\"text_color\":\"black\",\"text_font_size\":\"12pt\"},\"id\":\"13885\",\"type\":\"Title\"},{\"attributes\":{\"toolbars\":[{\"id\":\"13906\"}],\"tools\":[{\"id\":\"13883\"},{\"id\":\"13900\"},{\"id\":\"13901\"},{\"id\":\"13902\"},{\"id\":\"13903\"},{\"id\":\"13904\"}]},\"id\":\"13980\",\"type\":\"ProxyToolbar\"},{\"attributes\":{},\"id\":\"13927\",\"type\":\"CategoricalTickFormatter\"},{\"attributes\":{\"axis\":{\"id\":\"13896\"},\"coordinates\":null,\"dimension\":1,\"grid_line_color\":null,\"group\":null,\"ticker\":null},\"id\":\"13899\",\"type\":\"Grid\"},{\"attributes\":{\"factors\":[\"0\",\"1\"],\"palette\":[\"#30a2da\",\"#fc4f30\"]},\"id\":\"13913\",\"type\":\"CategoricalColorMapper\"},{\"attributes\":{},\"id\":\"13900\",\"type\":\"SaveTool\"},{\"attributes\":{\"coordinates\":null,\"data_source\":{\"id\":\"13914\"},\"glyph\":{\"id\":\"13917\"},\"group\":null,\"hover_glyph\":null,\"muted_glyph\":{\"id\":\"13919\"},\"nonselection_glyph\":{\"id\":\"13918\"},\"selection_glyph\":{\"id\":\"13934\"},\"view\":{\"id\":\"13921\"}},\"id\":\"13920\",\"type\":\"GlyphRenderer\"},{\"attributes\":{\"label\":{\"field\":\"No_hyphen_minus_show\"},\"renderers\":[{\"id\":\"13920\"}]},\"id\":\"13933\",\"type\":\"LegendItem\"},{\"attributes\":{\"bottom\":{\"field\":\"bottom\"},\"fill_alpha\":{\"value\":0.1},\"fill_color\":{\"field\":\"No_hyphen_minus_show\",\"transform\":{\"id\":\"13913\"}},\"hatch_alpha\":{\"value\":0.1},\"hatch_color\":{\"field\":\"No_hyphen_minus_show\",\"transform\":{\"id\":\"13913\"}},\"line_alpha\":{\"value\":0.1},\"top\":{\"field\":\"top\"},\"width\":{\"value\":0.8},\"x\":{\"field\":\"SMS_received\"}},\"id\":\"13918\",\"type\":\"VBar\"},{\"attributes\":{},\"id\":\"13953\",\"type\":\"NumberFormatter\"},{\"attributes\":{},\"id\":\"13954\",\"type\":\"IntEditor\"},{\"attributes\":{\"bottom_units\":\"screen\",\"coordinates\":null,\"fill_alpha\":0.5,\"fill_color\":\"lightgrey\",\"group\":null,\"left_units\":\"screen\",\"level\":\"overlay\",\"line_alpha\":1.0,\"line_color\":\"black\",\"line_dash\":[4,4],\"line_width\":2,\"right_units\":\"screen\",\"syncable\":false,\"top_units\":\"screen\"},\"id\":\"13905\",\"type\":\"BoxAnnotation\"},{\"attributes\":{\"bottom\":{\"field\":\"bottom\"},\"fill_alpha\":{\"value\":1.0},\"fill_color\":{\"field\":\"No_hyphen_minus_show\",\"transform\":{\"id\":\"13913\"}},\"hatch_alpha\":{\"value\":1.0},\"hatch_color\":{\"field\":\"No_hyphen_minus_show\",\"transform\":{\"id\":\"13913\"}},\"hatch_scale\":{\"value\":12.0},\"hatch_weight\":{\"value\":1.0},\"line_alpha\":{\"value\":1.0},\"line_cap\":{\"value\":\"butt\"},\"line_color\":{\"value\":\"black\"},\"line_dash\":{\"value\":[]},\"line_dash_offset\":{\"value\":0},\"line_join\":{\"value\":\"bevel\"},\"line_width\":{\"value\":1},\"top\":{\"field\":\"top\"},\"width\":{\"value\":0.8},\"x\":{\"field\":\"SMS_received\"}},\"id\":\"13934\",\"type\":\"VBar\"},{\"attributes\":{},\"id\":\"13942\",\"type\":\"Selection\"},{\"attributes\":{\"overlay\":{\"id\":\"13905\"}},\"id\":\"13903\",\"type\":\"BoxZoomTool\"},{\"attributes\":{},\"id\":\"13894\",\"type\":\"CategoricalTicker\"},{\"attributes\":{},\"id\":\"13915\",\"type\":\"Selection\"},{\"attributes\":{},\"id\":\"13901\",\"type\":\"PanTool\"},{\"attributes\":{\"bottom\":{\"field\":\"bottom\"},\"fill_alpha\":{\"value\":0.2},\"fill_color\":{\"field\":\"No_hyphen_minus_show\",\"transform\":{\"id\":\"13913\"}},\"hatch_alpha\":{\"value\":0.2},\"hatch_color\":{\"field\":\"No_hyphen_minus_show\",\"transform\":{\"id\":\"13913\"}},\"line_alpha\":{\"value\":0.2},\"top\":{\"field\":\"top\"},\"width\":{\"value\":0.8},\"x\":{\"field\":\"SMS_received\"}},\"id\":\"13919\",\"type\":\"VBar\"},{\"attributes\":{},\"id\":\"13943\",\"type\":\"NumberFormatter\"},{\"attributes\":{\"source\":{\"id\":\"13941\"}},\"id\":\"13965\",\"type\":\"CDSView\"},{\"attributes\":{},\"id\":\"13959\",\"type\":\"NumberEditor\"},{\"attributes\":{\"editor\":{\"id\":\"13949\"},\"field\":\"No_hyphen_minus_show\",\"formatter\":{\"id\":\"13948\"},\"title\":\"No-show\"},\"id\":\"13950\",\"type\":\"TableColumn\"},{\"attributes\":{\"axis_label\":\"Count\",\"coordinates\":null,\"formatter\":{\"id\":\"13924\"},\"group\":null,\"major_label_policy\":{\"id\":\"13925\"},\"ticker\":{\"id\":\"13897\"}},\"id\":\"13896\",\"type\":\"LinearAxis\"},{\"attributes\":{},\"id\":\"13902\",\"type\":\"WheelZoomTool\"},{\"attributes\":{\"children\":[[{\"id\":\"13884\"},0,0],[{\"id\":\"13963\"},0,1]]},\"id\":\"13979\",\"type\":\"GridBox\"},{\"attributes\":{},\"id\":\"13897\",\"type\":\"BasicTicker\"},{\"attributes\":{\"axis_label\":\"SMS_received\",\"coordinates\":null,\"formatter\":{\"id\":\"13927\"},\"group\":null,\"major_label_orientation\":1.5707963267948966,\"major_label_policy\":{\"id\":\"13928\"},\"ticker\":{\"id\":\"13894\"}},\"id\":\"13893\",\"type\":\"CategoricalAxis\"},{\"attributes\":{\"data\":{\"Count\":[62509,12530,25698,9784],\"No_hyphen_minus_show\":{\"__ndarray__\":\"AAAAAAAAAAAAAAAAAADwPwAAAAAAAAAAAAAAAAAA8D8=\",\"dtype\":\"float64\",\"order\":\"little\",\"shape\":[4]},\"SMS_received\":[0,0,1,1],\"ShowProb\":{\"__ndarray__\":\"Zv6K5hmo6j9mBtRlmF/FP0y8o+EXLec/aYe4PNCl0T8=\",\"dtype\":\"float64\",\"order\":\"little\",\"shape\":[4]}},\"selected\":{\"id\":\"13942\"},\"selection_policy\":{\"id\":\"13977\"}},\"id\":\"13941\",\"type\":\"ColumnDataSource\"},{\"attributes\":{\"bottom\":{\"field\":\"bottom\"},\"fill_color\":{\"field\":\"No_hyphen_minus_show\",\"transform\":{\"id\":\"13913\"}},\"hatch_color\":{\"field\":\"No_hyphen_minus_show\",\"transform\":{\"id\":\"13913\"}},\"top\":{\"field\":\"top\"},\"width\":{\"value\":0.8},\"x\":{\"field\":\"SMS_received\"}},\"id\":\"13917\",\"type\":\"VBar\"},{\"attributes\":{\"axis\":{\"id\":\"13893\"},\"coordinates\":null,\"grid_line_color\":null,\"group\":null,\"ticker\":null},\"id\":\"13895\",\"type\":\"Grid\"},{\"attributes\":{\"format\":\"0,0.0[00000]\"},\"id\":\"13948\",\"type\":\"NumberFormatter\"},{\"attributes\":{},\"id\":\"13944\",\"type\":\"IntEditor\"},{\"attributes\":{\"factors\":[\"0\",\"1\"],\"tags\":[[[\"SMS_received\",\"SMS_received\",null]]]},\"id\":\"13881\",\"type\":\"FactorRange\"},{\"attributes\":{\"toolbar\":{\"id\":\"13980\"},\"toolbar_location\":\"above\"},\"id\":\"13981\",\"type\":\"ToolbarBox\"},{\"attributes\":{\"margin\":[5,5,5,5],\"name\":\"HSpacer22918\",\"sizing_mode\":\"stretch_width\"},\"id\":\"13880\",\"type\":\"Spacer\"},{\"attributes\":{\"children\":[{\"id\":\"13981\"},{\"id\":\"13979\"}]},\"id\":\"13982\",\"type\":\"Column\"},{\"attributes\":{},\"id\":\"13928\",\"type\":\"AllLabels\"},{\"attributes\":{\"children\":[{\"id\":\"13880\"},{\"id\":\"13982\"},{\"id\":\"14091\"}],\"margin\":[0,0,0,0],\"name\":\"Row22914\",\"tags\":[\"embedded\"]},\"id\":\"13879\",\"type\":\"Row\"},{\"attributes\":{\"callback\":null,\"renderers\":[{\"id\":\"13920\"}],\"tags\":[\"hv_created\"],\"tooltips\":[[\"SMS_received\",\"@{SMS_received}\"],[\"No-show\",\"@{No_hyphen_minus_show}\"],[\"Count\",\"@{Count}\"]]},\"id\":\"13883\",\"type\":\"HoverTool\"},{\"attributes\":{\"data\":{\"Count\":[62509,25698,12530,9784],\"No_hyphen_minus_show\":[\"0\",\"0\",\"1\",\"1\"],\"SMS_received\":[\"0\",\"1\",\"0\",\"1\"],\"bottom\":{\"__ndarray__\":\"AAAAAAAAAAAAAAAAAAAAAAAAAACghe5AAAAAAIAY2UA=\",\"dtype\":\"float64\",\"order\":\"little\",\"shape\":[4]},\"top\":{\"__ndarray__\":\"AAAAAKCF7kAAAAAAgBjZQAAAAADwUfJAAAAAAEBT4UA=\",\"dtype\":\"float64\",\"order\":\"little\",\"shape\":[4]}},\"selected\":{\"id\":\"13915\"},\"selection_policy\":{\"id\":\"13929\"}},\"id\":\"13914\",\"type\":\"ColumnDataSource\"},{\"attributes\":{},\"id\":\"13949\",\"type\":\"NumberEditor\"}],\"root_ids\":[\"13879\"]},\"title\":\"Bokeh Application\",\"version\":\"2.4.2\"}};\n",
       "    var render_items = [{\"docid\":\"c7b5f419-bb7d-4424-b472-08a7f0844679\",\"root_ids\":[\"13879\"],\"roots\":{\"13879\":\"95d4d40a-2210-4ff2-8e25-5dbcfb9159f3\"}}];\n",
       "    root.Bokeh.embed.embed_items_notebook(docs_json, render_items);\n",
       "  }\n",
       "  if (root.Bokeh !== undefined && root.Bokeh.Panel !== undefined) {\n",
       "    embed_document(root);\n",
       "  } else {\n",
       "    var attempts = 0;\n",
       "    var timer = setInterval(function(root) {\n",
       "      if (root.Bokeh !== undefined && root.Bokeh.Panel !== undefined) {\n",
       "        clearInterval(timer);\n",
       "        embed_document(root);\n",
       "      } else if (document.readyState == \"complete\") {\n",
       "        attempts++;\n",
       "        if (attempts > 200) {\n",
       "          clearInterval(timer);\n",
       "          console.log(\"Bokeh: ERROR: Unable to run BokehJS code because BokehJS library is missing\");\n",
       "        }\n",
       "      }\n",
       "    }, 25, root)\n",
       "  }\n",
       "})(window);</script>"
      ],
      "text/plain": [
       ":Layout\n",
       "   .Bars.I  :Bars   [SMS_received,No-show]   (Count)\n",
       "   .Table.I :Table   [SMS_received,No-show,Count,ShowProb]"
      ]
     },
     "execution_count": 352,
     "metadata": {
      "application/vnd.holoviews_exec.v0+json": {
       "id": "13879"
      }
     },
     "output_type": "execute_result"
    },
    {
     "name": "stdout",
     "output_type": "stream",
     "text": [
      "CI is (0.10340441820466297, 0.11412680428538112), proportion in the no-show group tends to be greater\n"
     ]
    }
   ],
   "source": [
    "group_draw(\"SMS_received\")\n",
    "calculate_ci(\"SMS_received\", 0.05)\n"
   ]
  },
  {
   "cell_type": "markdown",
   "metadata": {},
   "source": [
    "Now, let's calculate probabilitites of no-show for each age, neighborhood, scheduled hour and awaiting time and see if there are any patterns"
   ]
  },
  {
   "cell_type": "code",
   "execution_count": 149,
   "metadata": {},
   "outputs": [
    {
     "data": {},
     "metadata": {},
     "output_type": "display_data"
    },
    {
     "data": {
      "application/vnd.holoviews_exec.v0+json": "",
      "text/html": [
       "<div id='2868'>\n",
       "\n",
       "\n",
       "\n",
       "\n",
       "\n",
       "  <div class=\"bk-root\" id=\"d9ebc811-bf84-446a-92ae-f2c3a4464dd7\" data-root-id=\"2868\"></div>\n",
       "</div>\n",
       "<script type=\"application/javascript\">(function(root) {\n",
       "  function embed_document(root) {\n",
       "    var docs_json = {\"37f4bc39-89c4-42b4-a646-01e0dde5d300\":{\"defs\":[{\"extends\":null,\"module\":null,\"name\":\"ReactiveHTML1\",\"overrides\":[],\"properties\":[]},{\"extends\":null,\"module\":null,\"name\":\"FlexBox1\",\"overrides\":[],\"properties\":[{\"default\":\"flex-start\",\"kind\":null,\"name\":\"align_content\"},{\"default\":\"flex-start\",\"kind\":null,\"name\":\"align_items\"},{\"default\":\"row\",\"kind\":null,\"name\":\"flex_direction\"},{\"default\":\"wrap\",\"kind\":null,\"name\":\"flex_wrap\"},{\"default\":\"flex-start\",\"kind\":null,\"name\":\"justify_content\"}]},{\"extends\":null,\"module\":null,\"name\":\"GridStack1\",\"overrides\":[],\"properties\":[{\"default\":\"warn\",\"kind\":null,\"name\":\"mode\"},{\"default\":null,\"kind\":null,\"name\":\"ncols\"},{\"default\":null,\"kind\":null,\"name\":\"nrows\"},{\"default\":true,\"kind\":null,\"name\":\"allow_resize\"},{\"default\":true,\"kind\":null,\"name\":\"allow_drag\"},{\"default\":[],\"kind\":null,\"name\":\"state\"}]},{\"extends\":null,\"module\":null,\"name\":\"click1\",\"overrides\":[],\"properties\":[{\"default\":\"\",\"kind\":null,\"name\":\"terminal_output\"},{\"default\":\"\",\"kind\":null,\"name\":\"debug_name\"},{\"default\":0,\"kind\":null,\"name\":\"clears\"}]},{\"extends\":null,\"module\":null,\"name\":\"TemplateActions1\",\"overrides\":[],\"properties\":[{\"default\":0,\"kind\":null,\"name\":\"open_modal\"},{\"default\":0,\"kind\":null,\"name\":\"close_modal\"}]},{\"extends\":null,\"module\":null,\"name\":\"MaterialTemplateActions1\",\"overrides\":[],\"properties\":[{\"default\":0,\"kind\":null,\"name\":\"open_modal\"},{\"default\":0,\"kind\":null,\"name\":\"close_modal\"}]}],\"roots\":{\"references\":[{\"attributes\":{\"fill_alpha\":{\"value\":0.2},\"fill_color\":{\"value\":\"#30a2da\"},\"hatch_alpha\":{\"value\":0.2},\"hatch_color\":{\"value\":\"#30a2da\"},\"line_alpha\":{\"value\":0.2},\"line_color\":{\"value\":\"#30a2da\"},\"size\":{\"value\":5.477225575051661},\"x\":{\"field\":\"Age\"},\"y\":{\"field\":\"prob_show\"}},\"id\":\"2908\",\"type\":\"Scatter\"},{\"attributes\":{\"angle\":{\"value\":0.0},\"fill_alpha\":{\"value\":1.0},\"fill_color\":{\"value\":\"#30a2da\"},\"hatch_alpha\":{\"value\":1.0},\"hatch_color\":{\"value\":\"#30a2da\"},\"hatch_scale\":{\"value\":12.0},\"hatch_weight\":{\"value\":1.0},\"line_alpha\":{\"value\":1.0},\"line_cap\":{\"value\":\"butt\"},\"line_color\":{\"value\":\"#30a2da\"},\"line_dash\":{\"value\":[]},\"line_dash_offset\":{\"value\":0},\"line_join\":{\"value\":\"bevel\"},\"line_width\":{\"value\":1},\"marker\":{\"value\":\"circle\"},\"size\":{\"value\":5.477225575051661},\"x\":{\"field\":\"Age\"},\"y\":{\"field\":\"prob_show\"}},\"id\":\"2911\",\"type\":\"Scatter\"},{\"attributes\":{\"coordinates\":null,\"data_source\":{\"id\":\"2903\"},\"glyph\":{\"id\":\"2906\"},\"group\":null,\"hover_glyph\":null,\"muted_glyph\":{\"id\":\"2908\"},\"nonselection_glyph\":{\"id\":\"2907\"},\"selection_glyph\":{\"id\":\"2911\"},\"view\":{\"id\":\"2910\"}},\"id\":\"2909\",\"type\":\"GlyphRenderer\"},{\"attributes\":{\"source\":{\"id\":\"2903\"}},\"id\":\"2910\",\"type\":\"CDSView\"},{\"attributes\":{\"below\":[{\"id\":\"2882\"}],\"center\":[{\"id\":\"2885\"},{\"id\":\"2889\"}],\"height\":300,\"left\":[{\"id\":\"2886\"}],\"margin\":[5,5,5,5],\"min_border_bottom\":10,\"min_border_left\":10,\"min_border_right\":10,\"min_border_top\":10,\"renderers\":[{\"id\":\"2909\"}],\"sizing_mode\":\"fixed\",\"title\":{\"id\":\"2874\"},\"toolbar\":{\"id\":\"2896\"},\"width\":700,\"x_range\":{\"id\":\"2870\"},\"x_scale\":{\"id\":\"2878\"},\"y_range\":{\"id\":\"2871\"},\"y_scale\":{\"id\":\"2880\"}},\"id\":\"2873\",\"subtype\":\"Figure\",\"type\":\"Plot\"},{\"attributes\":{},\"id\":\"2878\",\"type\":\"LinearScale\"},{\"attributes\":{\"fill_color\":{\"value\":\"#30a2da\"},\"hatch_color\":{\"value\":\"#30a2da\"},\"line_color\":{\"value\":\"#30a2da\"},\"size\":{\"value\":5.477225575051661},\"x\":{\"field\":\"Age\"},\"y\":{\"field\":\"prob_show\"}},\"id\":\"2906\",\"type\":\"Scatter\"},{\"attributes\":{\"data\":{\"Age\":[-1,0,1,2,3,4,5,6,7,8,9,10,11,12,13,14,15,16,17,18,19,20,21,22,23,24,25,26,27,28,29,30,31,32,33,34,35,36,37,38,39,40,41,42,43,44,45,46,47,48,49,50,51,52,53,54,55,56,57,58,59,60,61,62,63,64,65,66,67,68,69,70,71,72,73,74,75,76,77,78,79,80,81,82,83,84,85,86,87,88,89,90,91,92,93,94,95,96,97,98,99,100,102,115],\"prob_show\":{\"__ndarray__\":\"AAAAAAAAAAABF/aykhzHP27uGwi4Xsc/ttnQjIvvwz9KbIAhKm/HP2ZD7n2bycs/o1v7KiaCyz+kH4Tf0JfKP0sgBBPS/8o/yUpWspKVzD8/NNaHxvrQP2hWHUMNi84/Ng8rpfd0yj8g/uEf/uHPPy6mjL7FlNE/SzNw5eUW0j8sqmF2cATRP15r4iQ3HdA/7Bd3GpTL0D8+W7LMtSDOP7tKlWMvUtA/vPbDRBafzz96uSvGdUvPP5U1ZU1ZU9A/T+D63tVF0D+zYX8Xg4rQP5sOIam06dA/tNTyFYYgzz8QqHjXGZXOP5M4eN8aWc0/ZIcus14bzj+LBDUVog3PP1bDiozWdsw/PdqdYMgmzD9Pp9PpdDrNPyawaT9ZAss/yBfAaz7Yyj9W0dd5TN7LP36n+Z3md8o/EvHqPe4kyT9VVVVVVVXMP6/K+eQRe8s/HdO14ixKzT+rqqqqqqrKP9u2bdu2bc0/uI7NyrrNyz+spkYLwHbGP/qMswCbz8g/hFgHTDmEyD/a2kyEe8vIPxhtkEPvFsc/iRY62qUXxz81gr2I5R3HP9YPOirwxcU/VtwBPE+7yD8WwWsWwWvGP4+krM+8Fcc/b0mZL/CWxD/sFD/nyDLGP30aiG+AC8Y/4kd1iVkLxT+XQDSgr2jFP8XLbUDSD8M/r0TtStSuxD+iEpII56zAP/2+ZVWsgME/6zzif0Jqwz9KOMnpbE3DPxDUQgo9eMM/P2ojYSBgxT92Yid2YifCPyJIualonsA/Oq4RsO5Ixj8FlVZQaQXFP12VdWfv8sA/uzQKRHDswj8PDw8PDw/DPxi+iH04ZsQ/MJMfURcwwz/dUS9Mqw7FP1RABVRABcQ/okSJEiVKxD+VUkoppZTCP2N9aKwPjcU/LL7iK77iyz9BVxogb8+8P8+W6mypzsY/1Uqt1EqtxD8tZCELWcjCPxiGYRiGYbg/kdYL2OZ0xT8msGk/WQLLPzbZZJNNNsk/cUfcEXfEzT/yVvY5pCbIP0YXXXTRRcc/AAAAAAAA0D8eHh4eHh6uP0YXXXTRRcc/VVVVVVVVxT8AAAAAAAAAAAAAAAAAAAAAAAAAAAAAAAAzMzMzMzPjPw==\",\"dtype\":\"float64\",\"order\":\"little\",\"shape\":[104]}},\"selected\":{\"id\":\"2904\"},\"selection_policy\":{\"id\":\"2925\"}},\"id\":\"2903\",\"type\":\"ColumnDataSource\"},{\"attributes\":{\"end\":119.97142857142858,\"reset_end\":119.97142857142858,\"reset_start\":-5.9714285714285715,\"start\":-5.9714285714285715,\"tags\":[[[\"Age\",\"Age\",null]]]},\"id\":\"2870\",\"type\":\"Range1d\"},{\"attributes\":{\"coordinates\":null,\"group\":null,\"text_color\":\"black\",\"text_font_size\":\"12pt\"},\"id\":\"2874\",\"type\":\"Title\"},{\"attributes\":{\"end\":0.6599999999999999,\"reset_end\":0.6599999999999999,\"reset_start\":-0.06,\"start\":-0.06,\"tags\":[[[\"prob_show\",\"prob_show\",null]]]},\"id\":\"2871\",\"type\":\"Range1d\"},{\"attributes\":{\"callback\":null,\"renderers\":[{\"id\":\"2909\"}],\"tags\":[\"hv_created\"],\"tooltips\":[[\"Age\",\"@{Age}\"],[\"prob_show\",\"@{prob_show}\"]]},\"id\":\"2872\",\"type\":\"HoverTool\"},{\"attributes\":{},\"id\":\"2891\",\"type\":\"PanTool\"},{\"attributes\":{},\"id\":\"2880\",\"type\":\"LinearScale\"},{\"attributes\":{\"children\":[{\"id\":\"2869\"},{\"id\":\"2873\"},{\"id\":\"2938\"}],\"margin\":[0,0,0,0],\"name\":\"Row05179\",\"tags\":[\"embedded\"]},\"id\":\"2868\",\"type\":\"Row\"},{\"attributes\":{\"axis\":{\"id\":\"2886\"},\"coordinates\":null,\"dimension\":1,\"grid_line_color\":null,\"group\":null,\"ticker\":null},\"id\":\"2889\",\"type\":\"Grid\"},{\"attributes\":{\"fill_alpha\":{\"value\":0.1},\"fill_color\":{\"value\":\"#30a2da\"},\"hatch_alpha\":{\"value\":0.1},\"hatch_color\":{\"value\":\"#30a2da\"},\"line_alpha\":{\"value\":0.1},\"line_color\":{\"value\":\"#30a2da\"},\"size\":{\"value\":5.477225575051661},\"x\":{\"field\":\"Age\"},\"y\":{\"field\":\"prob_show\"}},\"id\":\"2907\",\"type\":\"Scatter\"},{\"attributes\":{\"axis\":{\"id\":\"2882\"},\"coordinates\":null,\"grid_line_color\":null,\"group\":null,\"ticker\":null},\"id\":\"2885\",\"type\":\"Grid\"},{\"attributes\":{},\"id\":\"2904\",\"type\":\"Selection\"},{\"attributes\":{\"axis_label\":\"Age\",\"coordinates\":null,\"formatter\":{\"id\":\"2913\"},\"group\":null,\"major_label_policy\":{\"id\":\"2914\"},\"ticker\":{\"id\":\"2883\"}},\"id\":\"2882\",\"type\":\"LinearAxis\"},{\"attributes\":{},\"id\":\"2913\",\"type\":\"BasicTickFormatter\"},{\"attributes\":{},\"id\":\"2883\",\"type\":\"BasicTicker\"},{\"attributes\":{\"axis_label\":\"prob_show\",\"coordinates\":null,\"formatter\":{\"id\":\"2916\"},\"group\":null,\"major_label_policy\":{\"id\":\"2917\"},\"ticker\":{\"id\":\"2887\"}},\"id\":\"2886\",\"type\":\"LinearAxis\"},{\"attributes\":{},\"id\":\"2887\",\"type\":\"BasicTicker\"},{\"attributes\":{\"margin\":[5,5,5,5],\"name\":\"HSpacer05184\",\"sizing_mode\":\"stretch_width\"},\"id\":\"2938\",\"type\":\"Spacer\"},{\"attributes\":{},\"id\":\"2892\",\"type\":\"WheelZoomTool\"},{\"attributes\":{},\"id\":\"2925\",\"type\":\"UnionRenderers\"},{\"attributes\":{},\"id\":\"2890\",\"type\":\"SaveTool\"},{\"attributes\":{},\"id\":\"2917\",\"type\":\"AllLabels\"},{\"attributes\":{\"margin\":[5,5,5,5],\"name\":\"HSpacer05183\",\"sizing_mode\":\"stretch_width\"},\"id\":\"2869\",\"type\":\"Spacer\"},{\"attributes\":{\"overlay\":{\"id\":\"2895\"}},\"id\":\"2893\",\"type\":\"BoxZoomTool\"},{\"attributes\":{},\"id\":\"2894\",\"type\":\"ResetTool\"},{\"attributes\":{},\"id\":\"2916\",\"type\":\"BasicTickFormatter\"},{\"attributes\":{\"bottom_units\":\"screen\",\"coordinates\":null,\"fill_alpha\":0.5,\"fill_color\":\"lightgrey\",\"group\":null,\"left_units\":\"screen\",\"level\":\"overlay\",\"line_alpha\":1.0,\"line_color\":\"black\",\"line_dash\":[4,4],\"line_width\":2,\"right_units\":\"screen\",\"syncable\":false,\"top_units\":\"screen\"},\"id\":\"2895\",\"type\":\"BoxAnnotation\"},{\"attributes\":{\"tools\":[{\"id\":\"2872\"},{\"id\":\"2890\"},{\"id\":\"2891\"},{\"id\":\"2892\"},{\"id\":\"2893\"},{\"id\":\"2894\"}]},\"id\":\"2896\",\"type\":\"Toolbar\"},{\"attributes\":{},\"id\":\"2914\",\"type\":\"AllLabels\"}],\"root_ids\":[\"2868\"]},\"title\":\"Bokeh Application\",\"version\":\"2.4.2\"}};\n",
       "    var render_items = [{\"docid\":\"37f4bc39-89c4-42b4-a646-01e0dde5d300\",\"root_ids\":[\"2868\"],\"roots\":{\"2868\":\"d9ebc811-bf84-446a-92ae-f2c3a4464dd7\"}}];\n",
       "    root.Bokeh.embed.embed_items_notebook(docs_json, render_items);\n",
       "  }\n",
       "  if (root.Bokeh !== undefined && root.Bokeh.Panel !== undefined) {\n",
       "    embed_document(root);\n",
       "  } else {\n",
       "    var attempts = 0;\n",
       "    var timer = setInterval(function(root) {\n",
       "      if (root.Bokeh !== undefined && root.Bokeh.Panel !== undefined) {\n",
       "        clearInterval(timer);\n",
       "        embed_document(root);\n",
       "      } else if (document.readyState == \"complete\") {\n",
       "        attempts++;\n",
       "        if (attempts > 200) {\n",
       "          clearInterval(timer);\n",
       "          console.log(\"Bokeh: ERROR: Unable to run BokehJS code because BokehJS library is missing\");\n",
       "        }\n",
       "      }\n",
       "    }, 25, root)\n",
       "  }\n",
       "})(window);</script>"
      ],
      "text/plain": [
       ":Scatter   [Age]   (prob_show)"
      ]
     },
     "execution_count": 149,
     "metadata": {
      "application/vnd.holoviews_exec.v0+json": {
       "id": "2868"
      }
     },
     "output_type": "execute_result"
    }
   ],
   "source": [
    "probs_age = pd.crosstab(index=df[\"Age\"], columns=df[\"No-show\"])\n",
    "probs_age[\"prob_show\"] = probs_age.loc[:, 1] / (\n",
    "    probs_age.loc[:, 0] + probs_age.loc[:, 1]\n",
    ")\n",
    "probs_age.hvplot.scatter(x=\"Age\", y=\"prob_show\")\n"
   ]
  },
  {
   "cell_type": "code",
   "execution_count": 153,
   "metadata": {},
   "outputs": [
    {
     "data": {},
     "metadata": {},
     "output_type": "display_data"
    },
    {
     "data": {
      "application/vnd.holoviews_exec.v0+json": "",
      "text/html": [
       "<div id='2990'>\n",
       "\n",
       "\n",
       "\n",
       "\n",
       "\n",
       "  <div class=\"bk-root\" id=\"67f7f0ea-d7b1-4ecf-9ad2-2cf78a0366b8\" data-root-id=\"2990\"></div>\n",
       "</div>\n",
       "<script type=\"application/javascript\">(function(root) {\n",
       "  function embed_document(root) {\n",
       "    var docs_json = {\"a5cc5859-418b-455d-a903-56d22002d9c9\":{\"defs\":[{\"extends\":null,\"module\":null,\"name\":\"ReactiveHTML1\",\"overrides\":[],\"properties\":[]},{\"extends\":null,\"module\":null,\"name\":\"FlexBox1\",\"overrides\":[],\"properties\":[{\"default\":\"flex-start\",\"kind\":null,\"name\":\"align_content\"},{\"default\":\"flex-start\",\"kind\":null,\"name\":\"align_items\"},{\"default\":\"row\",\"kind\":null,\"name\":\"flex_direction\"},{\"default\":\"wrap\",\"kind\":null,\"name\":\"flex_wrap\"},{\"default\":\"flex-start\",\"kind\":null,\"name\":\"justify_content\"}]},{\"extends\":null,\"module\":null,\"name\":\"GridStack1\",\"overrides\":[],\"properties\":[{\"default\":\"warn\",\"kind\":null,\"name\":\"mode\"},{\"default\":null,\"kind\":null,\"name\":\"ncols\"},{\"default\":null,\"kind\":null,\"name\":\"nrows\"},{\"default\":true,\"kind\":null,\"name\":\"allow_resize\"},{\"default\":true,\"kind\":null,\"name\":\"allow_drag\"},{\"default\":[],\"kind\":null,\"name\":\"state\"}]},{\"extends\":null,\"module\":null,\"name\":\"click1\",\"overrides\":[],\"properties\":[{\"default\":\"\",\"kind\":null,\"name\":\"terminal_output\"},{\"default\":\"\",\"kind\":null,\"name\":\"debug_name\"},{\"default\":0,\"kind\":null,\"name\":\"clears\"}]},{\"extends\":null,\"module\":null,\"name\":\"TemplateActions1\",\"overrides\":[],\"properties\":[{\"default\":0,\"kind\":null,\"name\":\"open_modal\"},{\"default\":0,\"kind\":null,\"name\":\"close_modal\"}]},{\"extends\":null,\"module\":null,\"name\":\"MaterialTemplateActions1\",\"overrides\":[],\"properties\":[{\"default\":0,\"kind\":null,\"name\":\"open_modal\"},{\"default\":0,\"kind\":null,\"name\":\"close_modal\"}]}],\"roots\":{\"references\":[{\"attributes\":{\"tools\":[{\"id\":\"2994\"},{\"id\":\"3012\"},{\"id\":\"3013\"},{\"id\":\"3014\"},{\"id\":\"3015\"},{\"id\":\"3016\"}]},\"id\":\"3018\",\"type\":\"Toolbar\"},{\"attributes\":{\"margin\":[5,5,5,5],\"name\":\"HSpacer05375\",\"sizing_mode\":\"stretch_width\"},\"id\":\"3060\",\"type\":\"Spacer\"},{\"attributes\":{},\"id\":\"3036\",\"type\":\"AllLabels\"},{\"attributes\":{},\"id\":\"3000\",\"type\":\"LinearScale\"},{\"attributes\":{\"fill_alpha\":{\"value\":0.2},\"fill_color\":{\"value\":\"#30a2da\"},\"hatch_alpha\":{\"value\":0.2},\"hatch_color\":{\"value\":\"#30a2da\"},\"line_alpha\":{\"value\":0.2},\"line_color\":{\"value\":\"#30a2da\"},\"size\":{\"value\":5.477225575051661},\"x\":{\"field\":\"Neighbourhood\"},\"y\":{\"field\":\"prob_show\"}},\"id\":\"3030\",\"type\":\"Scatter\"},{\"attributes\":{\"end\":1.1,\"reset_end\":1.1,\"reset_start\":-0.1,\"start\":-0.1,\"tags\":[[[\"prob_show\",\"prob_show\",null]]]},\"id\":\"2993\",\"type\":\"Range1d\"},{\"attributes\":{\"angle\":{\"value\":0.0},\"fill_alpha\":{\"value\":1.0},\"fill_color\":{\"value\":\"#30a2da\"},\"hatch_alpha\":{\"value\":1.0},\"hatch_color\":{\"value\":\"#30a2da\"},\"hatch_scale\":{\"value\":12.0},\"hatch_weight\":{\"value\":1.0},\"line_alpha\":{\"value\":1.0},\"line_cap\":{\"value\":\"butt\"},\"line_color\":{\"value\":\"#30a2da\"},\"line_dash\":{\"value\":[]},\"line_dash_offset\":{\"value\":0},\"line_join\":{\"value\":\"bevel\"},\"line_width\":{\"value\":1},\"marker\":{\"value\":\"circle\"},\"size\":{\"value\":5.477225575051661},\"x\":{\"field\":\"Neighbourhood\"},\"y\":{\"field\":\"prob_show\"}},\"id\":\"3033\",\"type\":\"Scatter\"},{\"attributes\":{\"coordinates\":null,\"data_source\":{\"id\":\"3025\"},\"glyph\":{\"id\":\"3028\"},\"group\":null,\"hover_glyph\":null,\"muted_glyph\":{\"id\":\"3030\"},\"nonselection_glyph\":{\"id\":\"3029\"},\"selection_glyph\":{\"id\":\"3033\"},\"view\":{\"id\":\"3032\"}},\"id\":\"3031\",\"type\":\"GlyphRenderer\"},{\"attributes\":{\"source\":{\"id\":\"3025\"}},\"id\":\"3032\",\"type\":\"CDSView\"},{\"attributes\":{\"margin\":[5,5,5,5],\"name\":\"HSpacer05374\",\"sizing_mode\":\"stretch_width\"},\"id\":\"2991\",\"type\":\"Spacer\"},{\"attributes\":{\"coordinates\":null,\"group\":null,\"text_color\":\"black\",\"text_font_size\":\"12pt\"},\"id\":\"2996\",\"type\":\"Title\"},{\"attributes\":{\"below\":[{\"id\":\"3004\"}],\"center\":[{\"id\":\"3007\"},{\"id\":\"3011\"}],\"height\":300,\"left\":[{\"id\":\"3008\"}],\"margin\":[5,5,5,5],\"min_border_bottom\":10,\"min_border_left\":10,\"min_border_right\":10,\"min_border_top\":10,\"renderers\":[{\"id\":\"3031\"}],\"sizing_mode\":\"fixed\",\"title\":{\"id\":\"2996\"},\"toolbar\":{\"id\":\"3018\"},\"width\":700,\"x_range\":{\"id\":\"2992\"},\"x_scale\":{\"id\":\"3000\"},\"y_range\":{\"id\":\"2993\"},\"y_scale\":{\"id\":\"3002\"}},\"id\":\"2995\",\"subtype\":\"Figure\",\"type\":\"Plot\"},{\"attributes\":{\"callback\":null,\"renderers\":[{\"id\":\"3031\"}],\"tags\":[\"hv_created\"],\"tooltips\":[[\"Neighbourhood\",\"@{Neighbourhood}\"],[\"prob_show\",\"@{prob_show}\"]]},\"id\":\"2994\",\"type\":\"HoverTool\"},{\"attributes\":{\"fill_color\":{\"value\":\"#30a2da\"},\"hatch_color\":{\"value\":\"#30a2da\"},\"line_color\":{\"value\":\"#30a2da\"},\"size\":{\"value\":5.477225575051661},\"x\":{\"field\":\"Neighbourhood\"},\"y\":{\"field\":\"prob_show\"}},\"id\":\"3028\",\"type\":\"Scatter\"},{\"attributes\":{\"children\":[{\"id\":\"2991\"},{\"id\":\"2995\"},{\"id\":\"3060\"}],\"margin\":[0,0,0,0],\"name\":\"Row05370\",\"tags\":[\"embedded\"]},\"id\":\"2990\",\"type\":\"Row\"},{\"attributes\":{},\"id\":\"3002\",\"type\":\"LinearScale\"},{\"attributes\":{},\"id\":\"3013\",\"type\":\"PanTool\"},{\"attributes\":{\"axis\":{\"id\":\"3008\"},\"coordinates\":null,\"dimension\":1,\"grid_line_color\":null,\"group\":null,\"ticker\":null},\"id\":\"3011\",\"type\":\"Grid\"},{\"attributes\":{\"fill_alpha\":{\"value\":0.1},\"fill_color\":{\"value\":\"#30a2da\"},\"hatch_alpha\":{\"value\":0.1},\"hatch_color\":{\"value\":\"#30a2da\"},\"line_alpha\":{\"value\":0.1},\"line_color\":{\"value\":\"#30a2da\"},\"size\":{\"value\":5.477225575051661},\"x\":{\"field\":\"Neighbourhood\"},\"y\":{\"field\":\"prob_show\"}},\"id\":\"3029\",\"type\":\"Scatter\"},{\"attributes\":{\"axis\":{\"id\":\"3004\"},\"coordinates\":null,\"grid_line_color\":null,\"group\":null,\"ticker\":null},\"id\":\"3007\",\"type\":\"Grid\"},{\"attributes\":{\"data\":{\"Neighbourhood\":{\"__ndarray__\":\"AAAAAAAAAAAAAAAAAADwPwAAAAAAAABAAAAAAAAACEAAAAAAAAAQQAAAAAAAABRAAAAAAAAAGEAAAAAAAAAcQAAAAAAAACBAAAAAAAAAIkAAAAAAAAAkQAAAAAAAACZAAAAAAAAAKEAAAAAAAAAqQAAAAAAAACxAAAAAAAAALkAAAAAAAAAwQAAAAAAAADFAAAAAAAAAMkAAAAAAAAAzQAAAAAAAADRAAAAAAAAANUAAAAAAAAA2QAAAAAAAADdAAAAAAAAAOEAAAAAAAAA5QAAAAAAAADpAAAAAAAAAO0AAAAAAAAA8QAAAAAAAAD1AAAAAAAAAPkAAAAAAAAA/QAAAAAAAAEBAAAAAAACAQEAAAAAAAABBQAAAAAAAgEFAAAAAAAAAQkAAAAAAAIBCQAAAAAAAAENAAAAAAACAQ0AAAAAAAABEQAAAAAAAgERAAAAAAAAARUAAAAAAAIBFQAAAAAAAAEZAAAAAAACARkAAAAAAAABHQAAAAAAAgEdAAAAAAAAASEAAAAAAAIBIQAAAAAAAAElAAAAAAACASUAAAAAAAABKQAAAAAAAgEpAAAAAAAAAS0AAAAAAAIBLQAAAAAAAAExAAAAAAACATEAAAAAAAABNQAAAAAAAgE1AAAAAAAAATkAAAAAAAIBOQAAAAAAAAE9AAAAAAACAT0AAAAAAAABQQAAAAAAAQFBAAAAAAACAUEAAAAAAAMBQQAAAAAAAAFFAAAAAAABAUUAAAAAAAIBRQAAAAAAAwFFAAAAAAAAAUkAAAAAAAEBSQAAAAAAAgFJAAAAAAADAUkAAAAAAAABTQAAAAAAAQFNAAAAAAACAU0AAAAAAAMBTQAAAAAAAAFRA\",\"dtype\":\"float64\",\"order\":\"little\",\"shape\":[81]},\"prob_show\":{\"__ndarray__\":\"AAAAAAAAwD9MU7AfXHvNP6r0M6fBncc/cUrz4k8kzD8ZUfZvYYnLP3zHhpxGxsk/aLUQ9OPKzD+4fMu3fMvHP+NdayE+Y8k/4dfpxQ1+zT/lj52qY/3KPx8X9nFhH8c/0J+O91sfyD+DvqAv6AvGP3cBNDaE1cs/XEemYMPEyD8FGrG9frnDP9RBHdRBHcQ/TAllwWiDzD/Wy5x4cBvFP6T7C5/KUsw//U4hESY4yT/322+//fbLP39YUzn5ccc/9AV9QV/Qxz+fXUBsKg3JP5pE75lE78k/pcVFvXbszD+4HoXrUbjOP5z9FZz9Fcw/35mvj3aDyD8WX/EVX/G1P5qZmZmZmck/zPNN4xoNzj8AAAAAAADwP8TYYewwdsg/KLBzHnvP0D+QXReHJALHP91MN3myTMg/NihzcCXVxD83c0w84DnPP9JkuutqJMc/y1frE7+HyD/aSDxt/+DKP7Lt26m/iMw/gu4qxQTdxT8vi/gEUsnJP1VVVVVVVcU/TevpX3ehwj/xtylGDX/LP5P6caZYusY/AAAAAAAAAADP/DRdjpHMP8W5jlGc68g/ZCELWchCxj8j3FKzYX/HP9Ob3vSmN80/4iiIZnKqxj/1C7Pow+vFP4dXWz0GLMo/lnl8PTRkyz8lSZIkSZLRP4TWnInY8tA/qk1talObyj8m0Dt1LQfHPx6SeUjmIck/+9liZfhGxD82omEFXSPKP18ezVyUSsk/4eirnpGPxj+lTuKaAYLSP0AoTlNaNco/0nmLIZ23yD9GAxLj4NTCP/5zDAZih8k/+aNO+aNOyT9+SwGm7rXLP0OY7UKY7co/7APMcOlqxz8or6G8hvLKP+XYNd8+NcU/\",\"dtype\":\"float64\",\"order\":\"little\",\"shape\":[81]}},\"selected\":{\"id\":\"3026\"},\"selection_policy\":{\"id\":\"3047\"}},\"id\":\"3025\",\"type\":\"ColumnDataSource\"},{\"attributes\":{},\"id\":\"3026\",\"type\":\"Selection\"},{\"attributes\":{\"axis_label\":\"Neighbourhood\",\"coordinates\":null,\"formatter\":{\"id\":\"3035\"},\"group\":null,\"major_label_policy\":{\"id\":\"3036\"},\"ticker\":{\"id\":\"3005\"}},\"id\":\"3004\",\"type\":\"LinearAxis\"},{\"attributes\":{},\"id\":\"3035\",\"type\":\"BasicTickFormatter\"},{\"attributes\":{},\"id\":\"3005\",\"type\":\"BasicTicker\"},{\"attributes\":{\"axis_label\":\"prob_show\",\"coordinates\":null,\"formatter\":{\"id\":\"3038\"},\"group\":null,\"major_label_policy\":{\"id\":\"3039\"},\"ticker\":{\"id\":\"3009\"}},\"id\":\"3008\",\"type\":\"LinearAxis\"},{\"attributes\":{},\"id\":\"3009\",\"type\":\"BasicTicker\"},{\"attributes\":{},\"id\":\"3014\",\"type\":\"WheelZoomTool\"},{\"attributes\":{},\"id\":\"3012\",\"type\":\"SaveTool\"},{\"attributes\":{},\"id\":\"3039\",\"type\":\"AllLabels\"},{\"attributes\":{\"overlay\":{\"id\":\"3017\"}},\"id\":\"3015\",\"type\":\"BoxZoomTool\"},{\"attributes\":{\"end\":83.42857142857143,\"reset_end\":83.42857142857143,\"reset_start\":-3.428571428571429,\"start\":-3.428571428571429,\"tags\":[[[\"Neighbourhood\",\"Neighbourhood\",null]]]},\"id\":\"2992\",\"type\":\"Range1d\"},{\"attributes\":{},\"id\":\"3016\",\"type\":\"ResetTool\"},{\"attributes\":{},\"id\":\"3047\",\"type\":\"UnionRenderers\"},{\"attributes\":{},\"id\":\"3038\",\"type\":\"BasicTickFormatter\"},{\"attributes\":{\"bottom_units\":\"screen\",\"coordinates\":null,\"fill_alpha\":0.5,\"fill_color\":\"lightgrey\",\"group\":null,\"left_units\":\"screen\",\"level\":\"overlay\",\"line_alpha\":1.0,\"line_color\":\"black\",\"line_dash\":[4,4],\"line_width\":2,\"right_units\":\"screen\",\"syncable\":false,\"top_units\":\"screen\"},\"id\":\"3017\",\"type\":\"BoxAnnotation\"}],\"root_ids\":[\"2990\"]},\"title\":\"Bokeh Application\",\"version\":\"2.4.2\"}};\n",
       "    var render_items = [{\"docid\":\"a5cc5859-418b-455d-a903-56d22002d9c9\",\"root_ids\":[\"2990\"],\"roots\":{\"2990\":\"67f7f0ea-d7b1-4ecf-9ad2-2cf78a0366b8\"}}];\n",
       "    root.Bokeh.embed.embed_items_notebook(docs_json, render_items);\n",
       "  }\n",
       "  if (root.Bokeh !== undefined && root.Bokeh.Panel !== undefined) {\n",
       "    embed_document(root);\n",
       "  } else {\n",
       "    var attempts = 0;\n",
       "    var timer = setInterval(function(root) {\n",
       "      if (root.Bokeh !== undefined && root.Bokeh.Panel !== undefined) {\n",
       "        clearInterval(timer);\n",
       "        embed_document(root);\n",
       "      } else if (document.readyState == \"complete\") {\n",
       "        attempts++;\n",
       "        if (attempts > 200) {\n",
       "          clearInterval(timer);\n",
       "          console.log(\"Bokeh: ERROR: Unable to run BokehJS code because BokehJS library is missing\");\n",
       "        }\n",
       "      }\n",
       "    }, 25, root)\n",
       "  }\n",
       "})(window);</script>"
      ],
      "text/plain": [
       ":Scatter   [Neighbourhood]   (prob_show)"
      ]
     },
     "execution_count": 153,
     "metadata": {
      "application/vnd.holoviews_exec.v0+json": {
       "id": "2990"
      }
     },
     "output_type": "execute_result"
    }
   ],
   "source": [
    "probs_place = pd.crosstab(index=df[\"Neighbourhood\"], columns=df[\"No-show\"])\n",
    "probs_place[\"prob_show\"] = probs_place.loc[:, 1] / (\n",
    "    probs_place.loc[:, 0] + probs_place.loc[:, 1]\n",
    ")\n",
    "probs_place.hvplot.scatter(x=\"Neighbourhood\", y=\"prob_show\")\n"
   ]
  },
  {
   "cell_type": "markdown",
   "metadata": {},
   "source": [
    "As we can see here age's and neighborhood's probabilities are distributed almost uniformly (except for a single peculiar points for each graph)"
   ]
  },
  {
   "cell_type": "code",
   "execution_count": 234,
   "metadata": {},
   "outputs": [
    {
     "data": {},
     "metadata": {},
     "output_type": "display_data"
    },
    {
     "data": {
      "application/vnd.holoviews_exec.v0+json": "",
      "text/html": [
       "<div id='7670'>\n",
       "\n",
       "\n",
       "\n",
       "\n",
       "\n",
       "  <div class=\"bk-root\" id=\"f279a9d3-d04e-4da5-b5e8-c3e16353452e\" data-root-id=\"7670\"></div>\n",
       "</div>\n",
       "<script type=\"application/javascript\">(function(root) {\n",
       "  function embed_document(root) {\n",
       "    var docs_json = {\"771f6128-c17c-4604-a69a-70577d1d9a13\":{\"defs\":[{\"extends\":null,\"module\":null,\"name\":\"ReactiveHTML1\",\"overrides\":[],\"properties\":[]},{\"extends\":null,\"module\":null,\"name\":\"FlexBox1\",\"overrides\":[],\"properties\":[{\"default\":\"flex-start\",\"kind\":null,\"name\":\"align_content\"},{\"default\":\"flex-start\",\"kind\":null,\"name\":\"align_items\"},{\"default\":\"row\",\"kind\":null,\"name\":\"flex_direction\"},{\"default\":\"wrap\",\"kind\":null,\"name\":\"flex_wrap\"},{\"default\":\"flex-start\",\"kind\":null,\"name\":\"justify_content\"}]},{\"extends\":null,\"module\":null,\"name\":\"GridStack1\",\"overrides\":[],\"properties\":[{\"default\":\"warn\",\"kind\":null,\"name\":\"mode\"},{\"default\":null,\"kind\":null,\"name\":\"ncols\"},{\"default\":null,\"kind\":null,\"name\":\"nrows\"},{\"default\":true,\"kind\":null,\"name\":\"allow_resize\"},{\"default\":true,\"kind\":null,\"name\":\"allow_drag\"},{\"default\":[],\"kind\":null,\"name\":\"state\"}]},{\"extends\":null,\"module\":null,\"name\":\"click1\",\"overrides\":[],\"properties\":[{\"default\":\"\",\"kind\":null,\"name\":\"terminal_output\"},{\"default\":\"\",\"kind\":null,\"name\":\"debug_name\"},{\"default\":0,\"kind\":null,\"name\":\"clears\"}]},{\"extends\":null,\"module\":null,\"name\":\"TemplateActions1\",\"overrides\":[],\"properties\":[{\"default\":0,\"kind\":null,\"name\":\"open_modal\"},{\"default\":0,\"kind\":null,\"name\":\"close_modal\"}]},{\"extends\":null,\"module\":null,\"name\":\"MaterialTemplateActions1\",\"overrides\":[],\"properties\":[{\"default\":0,\"kind\":null,\"name\":\"open_modal\"},{\"default\":0,\"kind\":null,\"name\":\"close_modal\"}]}],\"roots\":{\"references\":[{\"attributes\":{\"axis_label\":\"ScheduledHour\",\"coordinates\":null,\"formatter\":{\"id\":\"7715\"},\"group\":null,\"major_label_policy\":{\"id\":\"7716\"},\"ticker\":{\"id\":\"7685\"}},\"id\":\"7684\",\"type\":\"LinearAxis\"},{\"attributes\":{\"source\":{\"id\":\"7705\"}},\"id\":\"7712\",\"type\":\"CDSView\"},{\"attributes\":{},\"id\":\"7715\",\"type\":\"BasicTickFormatter\"},{\"attributes\":{},\"id\":\"7685\",\"type\":\"BasicTicker\"},{\"attributes\":{\"axis_label\":\"prob_hour\",\"coordinates\":null,\"formatter\":{\"id\":\"7718\"},\"group\":null,\"major_label_policy\":{\"id\":\"7719\"},\"ticker\":{\"id\":\"7689\"}},\"id\":\"7688\",\"type\":\"LinearAxis\"},{\"attributes\":{\"children\":[{\"id\":\"7671\"},{\"id\":\"7675\"},{\"id\":\"7740\"}],\"margin\":[0,0,0,0],\"name\":\"Row12975\",\"tags\":[\"embedded\"]},\"id\":\"7670\",\"type\":\"Row\"},{\"attributes\":{\"margin\":[5,5,5,5],\"name\":\"HSpacer12979\",\"sizing_mode\":\"stretch_width\"},\"id\":\"7671\",\"type\":\"Spacer\"},{\"attributes\":{\"fill_color\":{\"value\":\"#30a2da\"},\"hatch_color\":{\"value\":\"#30a2da\"},\"line_color\":{\"value\":\"#30a2da\"},\"size\":{\"value\":5.477225575051661},\"x\":{\"field\":\"ScheduledHour\"},\"y\":{\"field\":\"prob_hour\"}},\"id\":\"7708\",\"type\":\"Scatter\"},{\"attributes\":{},\"id\":\"7689\",\"type\":\"BasicTicker\"},{\"attributes\":{},\"id\":\"7719\",\"type\":\"AllLabels\"},{\"attributes\":{},\"id\":\"7694\",\"type\":\"WheelZoomTool\"},{\"attributes\":{},\"id\":\"7718\",\"type\":\"BasicTickFormatter\"},{\"attributes\":{},\"id\":\"7692\",\"type\":\"SaveTool\"},{\"attributes\":{},\"id\":\"7727\",\"type\":\"UnionRenderers\"},{\"attributes\":{\"overlay\":{\"id\":\"7697\"}},\"id\":\"7695\",\"type\":\"BoxZoomTool\"},{\"attributes\":{},\"id\":\"7696\",\"type\":\"ResetTool\"},{\"attributes\":{\"bottom_units\":\"screen\",\"coordinates\":null,\"fill_alpha\":0.5,\"fill_color\":\"lightgrey\",\"group\":null,\"left_units\":\"screen\",\"level\":\"overlay\",\"line_alpha\":1.0,\"line_color\":\"black\",\"line_dash\":[4,4],\"line_width\":2,\"right_units\":\"screen\",\"syncable\":false,\"top_units\":\"screen\"},\"id\":\"7697\",\"type\":\"BoxAnnotation\"},{\"attributes\":{\"fill_alpha\":{\"value\":0.2},\"fill_color\":{\"value\":\"#30a2da\"},\"hatch_alpha\":{\"value\":0.2},\"hatch_color\":{\"value\":\"#30a2da\"},\"line_alpha\":{\"value\":0.2},\"line_color\":{\"value\":\"#30a2da\"},\"size\":{\"value\":5.477225575051661},\"x\":{\"field\":\"ScheduledHour\"},\"y\":{\"field\":\"prob_hour\"}},\"id\":\"7710\",\"type\":\"Scatter\"},{\"attributes\":{\"end\":21.642857142857142,\"reset_end\":21.642857142857142,\"reset_start\":5.357142857142857,\"start\":5.357142857142857,\"tags\":[[[\"ScheduledHour\",\"ScheduledHour\",null]]]},\"id\":\"7672\",\"type\":\"Range1d\"},{\"attributes\":{\"tools\":[{\"id\":\"7674\"},{\"id\":\"7692\"},{\"id\":\"7693\"},{\"id\":\"7694\"},{\"id\":\"7695\"},{\"id\":\"7696\"}]},\"id\":\"7698\",\"type\":\"Toolbar\"},{\"attributes\":{\"below\":[{\"id\":\"7684\"}],\"center\":[{\"id\":\"7687\"},{\"id\":\"7691\"}],\"height\":300,\"left\":[{\"id\":\"7688\"}],\"margin\":[5,5,5,5],\"min_border_bottom\":10,\"min_border_left\":10,\"min_border_right\":10,\"min_border_top\":10,\"renderers\":[{\"id\":\"7711\"}],\"sizing_mode\":\"fixed\",\"title\":{\"id\":\"7676\"},\"toolbar\":{\"id\":\"7698\"},\"width\":700,\"x_range\":{\"id\":\"7672\"},\"x_scale\":{\"id\":\"7680\"},\"y_range\":{\"id\":\"7673\"},\"y_scale\":{\"id\":\"7682\"}},\"id\":\"7675\",\"subtype\":\"Figure\",\"type\":\"Plot\"},{\"attributes\":{\"margin\":[5,5,5,5],\"name\":\"HSpacer12980\",\"sizing_mode\":\"stretch_width\"},\"id\":\"7740\",\"type\":\"Spacer\"},{\"attributes\":{\"data\":{\"ScheduledHour\":[6,7,8,9,10,11,12,13,14,15,16,17,18,19,20,21],\"prob_hour\":{\"__ndarray__\":\"c6bDUfSTyD/cbTfAvmTDP9bY5iyLYsc/SZjsE/Y2yT/EWkneuD/MP+aYFzbuKc0/mjkSmQ0Qyj/U60WtfcnKP09cU/zEB80/3OzjKcqszT94Bh55+2rOPyRc/bXcxM8/WGMiPVA5yz+5ZAjW0ebNPzMzMzMzM9M/VVVVVVVV1T8=\",\"dtype\":\"float64\",\"order\":\"little\",\"shape\":[16]}},\"selected\":{\"id\":\"7706\"},\"selection_policy\":{\"id\":\"7727\"}},\"id\":\"7705\",\"type\":\"ColumnDataSource\"},{\"attributes\":{},\"id\":\"7716\",\"type\":\"AllLabels\"},{\"attributes\":{\"coordinates\":null,\"group\":null,\"text_color\":\"black\",\"text_font_size\":\"12pt\"},\"id\":\"7676\",\"type\":\"Title\"},{\"attributes\":{\"end\":0.35151546695813596,\"reset_end\":0.35151546695813596,\"reset_start\":0.13332986346050418,\"start\":0.13332986346050418,\"tags\":[[[\"prob_hour\",\"prob_hour\",null]]]},\"id\":\"7673\",\"type\":\"Range1d\"},{\"attributes\":{\"callback\":null,\"renderers\":[{\"id\":\"7711\"}],\"tags\":[\"hv_created\"],\"tooltips\":[[\"ScheduledHour\",\"@{ScheduledHour}\"],[\"prob_hour\",\"@{prob_hour}\"]]},\"id\":\"7674\",\"type\":\"HoverTool\"},{\"attributes\":{\"angle\":{\"value\":0.0},\"fill_alpha\":{\"value\":1.0},\"fill_color\":{\"value\":\"#30a2da\"},\"hatch_alpha\":{\"value\":1.0},\"hatch_color\":{\"value\":\"#30a2da\"},\"hatch_scale\":{\"value\":12.0},\"hatch_weight\":{\"value\":1.0},\"line_alpha\":{\"value\":1.0},\"line_cap\":{\"value\":\"butt\"},\"line_color\":{\"value\":\"#30a2da\"},\"line_dash\":{\"value\":[]},\"line_dash_offset\":{\"value\":0},\"line_join\":{\"value\":\"bevel\"},\"line_width\":{\"value\":1},\"marker\":{\"value\":\"circle\"},\"size\":{\"value\":5.477225575051661},\"x\":{\"field\":\"ScheduledHour\"},\"y\":{\"field\":\"prob_hour\"}},\"id\":\"7713\",\"type\":\"Scatter\"},{\"attributes\":{},\"id\":\"7693\",\"type\":\"PanTool\"},{\"attributes\":{},\"id\":\"7682\",\"type\":\"LinearScale\"},{\"attributes\":{\"coordinates\":null,\"data_source\":{\"id\":\"7705\"},\"glyph\":{\"id\":\"7708\"},\"group\":null,\"hover_glyph\":null,\"muted_glyph\":{\"id\":\"7710\"},\"nonselection_glyph\":{\"id\":\"7709\"},\"selection_glyph\":{\"id\":\"7713\"},\"view\":{\"id\":\"7712\"}},\"id\":\"7711\",\"type\":\"GlyphRenderer\"},{\"attributes\":{\"axis\":{\"id\":\"7688\"},\"coordinates\":null,\"dimension\":1,\"grid_line_color\":null,\"group\":null,\"ticker\":null},\"id\":\"7691\",\"type\":\"Grid\"},{\"attributes\":{\"fill_alpha\":{\"value\":0.1},\"fill_color\":{\"value\":\"#30a2da\"},\"hatch_alpha\":{\"value\":0.1},\"hatch_color\":{\"value\":\"#30a2da\"},\"line_alpha\":{\"value\":0.1},\"line_color\":{\"value\":\"#30a2da\"},\"size\":{\"value\":5.477225575051661},\"x\":{\"field\":\"ScheduledHour\"},\"y\":{\"field\":\"prob_hour\"}},\"id\":\"7709\",\"type\":\"Scatter\"},{\"attributes\":{\"axis\":{\"id\":\"7684\"},\"coordinates\":null,\"grid_line_color\":null,\"group\":null,\"ticker\":null},\"id\":\"7687\",\"type\":\"Grid\"},{\"attributes\":{},\"id\":\"7680\",\"type\":\"LinearScale\"},{\"attributes\":{},\"id\":\"7706\",\"type\":\"Selection\"}],\"root_ids\":[\"7670\"]},\"title\":\"Bokeh Application\",\"version\":\"2.4.2\"}};\n",
       "    var render_items = [{\"docid\":\"771f6128-c17c-4604-a69a-70577d1d9a13\",\"root_ids\":[\"7670\"],\"roots\":{\"7670\":\"f279a9d3-d04e-4da5-b5e8-c3e16353452e\"}}];\n",
       "    root.Bokeh.embed.embed_items_notebook(docs_json, render_items);\n",
       "  }\n",
       "  if (root.Bokeh !== undefined && root.Bokeh.Panel !== undefined) {\n",
       "    embed_document(root);\n",
       "  } else {\n",
       "    var attempts = 0;\n",
       "    var timer = setInterval(function(root) {\n",
       "      if (root.Bokeh !== undefined && root.Bokeh.Panel !== undefined) {\n",
       "        clearInterval(timer);\n",
       "        embed_document(root);\n",
       "      } else if (document.readyState == \"complete\") {\n",
       "        attempts++;\n",
       "        if (attempts > 200) {\n",
       "          clearInterval(timer);\n",
       "          console.log(\"Bokeh: ERROR: Unable to run BokehJS code because BokehJS library is missing\");\n",
       "        }\n",
       "      }\n",
       "    }, 25, root)\n",
       "  }\n",
       "})(window);</script>"
      ],
      "text/plain": [
       ":Scatter   [ScheduledHour]   (prob_hour)"
      ]
     },
     "execution_count": 234,
     "metadata": {
      "application/vnd.holoviews_exec.v0+json": {
       "id": "7670"
      }
     },
     "output_type": "execute_result"
    }
   ],
   "source": [
    "probs_hour = (\n",
    "    pd.crosstab(index=df[\"ScheduledDay\"].dt.hour, columns=df[\"No-show\"])\n",
    "    .reset_index()\n",
    "    .rename(columns={\"ScheduledDay\": \"ScheduledHour\"})\n",
    ")\n",
    "probs_hour[\"prob_hour\"] = probs_hour.loc[:, 1] / (\n",
    "    probs_hour.loc[:, 0] + probs_hour.loc[:, 1]\n",
    ")\n",
    "probs_hour.hvplot.scatter(x=\"ScheduledHour\", y=\"prob_hour\")\n"
   ]
  },
  {
   "cell_type": "code",
   "execution_count": 179,
   "metadata": {},
   "outputs": [
    {
     "data": {},
     "metadata": {},
     "output_type": "display_data"
    },
    {
     "data": {
      "application/vnd.holoviews_exec.v0+json": "",
      "text/html": [
       "<div id='3234'>\n",
       "\n",
       "\n",
       "\n",
       "\n",
       "\n",
       "  <div class=\"bk-root\" id=\"12ea507f-ad64-402f-afd7-a0d66ef00a7d\" data-root-id=\"3234\"></div>\n",
       "</div>\n",
       "<script type=\"application/javascript\">(function(root) {\n",
       "  function embed_document(root) {\n",
       "    var docs_json = {\"66fc8623-0b08-437c-928a-298869b1c015\":{\"defs\":[{\"extends\":null,\"module\":null,\"name\":\"ReactiveHTML1\",\"overrides\":[],\"properties\":[]},{\"extends\":null,\"module\":null,\"name\":\"FlexBox1\",\"overrides\":[],\"properties\":[{\"default\":\"flex-start\",\"kind\":null,\"name\":\"align_content\"},{\"default\":\"flex-start\",\"kind\":null,\"name\":\"align_items\"},{\"default\":\"row\",\"kind\":null,\"name\":\"flex_direction\"},{\"default\":\"wrap\",\"kind\":null,\"name\":\"flex_wrap\"},{\"default\":\"flex-start\",\"kind\":null,\"name\":\"justify_content\"}]},{\"extends\":null,\"module\":null,\"name\":\"GridStack1\",\"overrides\":[],\"properties\":[{\"default\":\"warn\",\"kind\":null,\"name\":\"mode\"},{\"default\":null,\"kind\":null,\"name\":\"ncols\"},{\"default\":null,\"kind\":null,\"name\":\"nrows\"},{\"default\":true,\"kind\":null,\"name\":\"allow_resize\"},{\"default\":true,\"kind\":null,\"name\":\"allow_drag\"},{\"default\":[],\"kind\":null,\"name\":\"state\"}]},{\"extends\":null,\"module\":null,\"name\":\"click1\",\"overrides\":[],\"properties\":[{\"default\":\"\",\"kind\":null,\"name\":\"terminal_output\"},{\"default\":\"\",\"kind\":null,\"name\":\"debug_name\"},{\"default\":0,\"kind\":null,\"name\":\"clears\"}]},{\"extends\":null,\"module\":null,\"name\":\"TemplateActions1\",\"overrides\":[],\"properties\":[{\"default\":0,\"kind\":null,\"name\":\"open_modal\"},{\"default\":0,\"kind\":null,\"name\":\"close_modal\"}]},{\"extends\":null,\"module\":null,\"name\":\"MaterialTemplateActions1\",\"overrides\":[],\"properties\":[{\"default\":0,\"kind\":null,\"name\":\"open_modal\"},{\"default\":0,\"kind\":null,\"name\":\"close_modal\"}]}],\"roots\":{\"references\":[{\"attributes\":{},\"id\":\"3244\",\"type\":\"LinearScale\"},{\"attributes\":{},\"id\":\"3258\",\"type\":\"WheelZoomTool\"},{\"attributes\":{},\"id\":\"3291\",\"type\":\"UnionRenderers\"},{\"attributes\":{},\"id\":\"3256\",\"type\":\"SaveTool\"},{\"attributes\":{},\"id\":\"3280\",\"type\":\"AllLabels\"},{\"attributes\":{\"overlay\":{\"id\":\"3261\"}},\"id\":\"3259\",\"type\":\"BoxZoomTool\"},{\"attributes\":{},\"id\":\"3260\",\"type\":\"ResetTool\"},{\"attributes\":{\"end\":185.92857142857142,\"reset_end\":185.92857142857142,\"reset_start\":-14.928571428571429,\"start\":-14.928571428571429,\"tags\":[[[\"AwaitingTime\",\"AwaitingTime\",null]]]},\"id\":\"3236\",\"type\":\"Range1d\"},{\"attributes\":{\"bottom_units\":\"screen\",\"coordinates\":null,\"fill_alpha\":0.5,\"fill_color\":\"lightgrey\",\"group\":null,\"left_units\":\"screen\",\"level\":\"overlay\",\"line_alpha\":1.0,\"line_color\":\"black\",\"line_dash\":[4,4],\"line_width\":2,\"right_units\":\"screen\",\"syncable\":false,\"top_units\":\"screen\"},\"id\":\"3261\",\"type\":\"BoxAnnotation\"},{\"attributes\":{},\"id\":\"3253\",\"type\":\"BasicTicker\"},{\"attributes\":{\"children\":[{\"id\":\"3235\"},{\"id\":\"3239\"},{\"id\":\"3304\"}],\"margin\":[0,0,0,0],\"name\":\"Row05722\",\"tags\":[\"embedded\"]},\"id\":\"3234\",\"type\":\"Row\"},{\"attributes\":{\"tools\":[{\"id\":\"3238\"},{\"id\":\"3256\"},{\"id\":\"3257\"},{\"id\":\"3258\"},{\"id\":\"3259\"},{\"id\":\"3260\"}]},\"id\":\"3262\",\"type\":\"Toolbar\"},{\"attributes\":{\"margin\":[5,5,5,5],\"name\":\"HSpacer05727\",\"sizing_mode\":\"stretch_width\"},\"id\":\"3304\",\"type\":\"Spacer\"},{\"attributes\":{\"angle\":{\"value\":0.0},\"fill_alpha\":{\"value\":1.0},\"fill_color\":{\"value\":\"#30a2da\"},\"hatch_alpha\":{\"value\":1.0},\"hatch_color\":{\"value\":\"#30a2da\"},\"hatch_scale\":{\"value\":12.0},\"hatch_weight\":{\"value\":1.0},\"line_alpha\":{\"value\":1.0},\"line_cap\":{\"value\":\"butt\"},\"line_color\":{\"value\":\"#30a2da\"},\"line_dash\":{\"value\":[]},\"line_dash_offset\":{\"value\":0},\"line_join\":{\"value\":\"bevel\"},\"line_width\":{\"value\":1},\"marker\":{\"value\":\"circle\"},\"size\":{\"value\":5.477225575051661},\"x\":{\"field\":\"AwaitingTime\"},\"y\":{\"field\":\"prob_await\"}},\"id\":\"3277\",\"type\":\"Scatter\"},{\"attributes\":{\"fill_alpha\":{\"value\":0.2},\"fill_color\":{\"value\":\"#30a2da\"},\"hatch_alpha\":{\"value\":0.2},\"hatch_color\":{\"value\":\"#30a2da\"},\"line_alpha\":{\"value\":0.2},\"line_color\":{\"value\":\"#30a2da\"},\"size\":{\"value\":5.477225575051661},\"x\":{\"field\":\"AwaitingTime\"},\"y\":{\"field\":\"prob_await\"}},\"id\":\"3274\",\"type\":\"Scatter\"},{\"attributes\":{},\"id\":\"3283\",\"type\":\"AllLabels\"},{\"attributes\":{\"fill_alpha\":{\"value\":0.1},\"fill_color\":{\"value\":\"#30a2da\"},\"hatch_alpha\":{\"value\":0.1},\"hatch_color\":{\"value\":\"#30a2da\"},\"line_alpha\":{\"value\":0.1},\"line_color\":{\"value\":\"#30a2da\"},\"size\":{\"value\":5.477225575051661},\"x\":{\"field\":\"AwaitingTime\"},\"y\":{\"field\":\"prob_await\"}},\"id\":\"3273\",\"type\":\"Scatter\"},{\"attributes\":{},\"id\":\"3282\",\"type\":\"BasicTickFormatter\"},{\"attributes\":{\"data\":{\"AwaitingTime\":[-7,-2,-1,0,1,2,3,4,5,6,7,8,9,10,11,12,13,14,15,16,17,18,19,20,21,22,23,24,25,26,27,28,29,30,31,32,33,34,35,36,37,38,39,40,41,42,43,44,45,46,47,48,49,50,51,52,53,54,55,56,57,58,59,60,61,62,63,64,65,66,67,68,69,70,71,72,73,74,75,76,77,78,79,80,81,82,83,84,85,86,87,88,89,90,91,92,93,94,95,96,97,100,101,102,103,104,106,107,108,109,110,111,114,116,118,121,122,124,125,126,131,132,138,141,145,150,154,161,168,175,178],\"prob_await\":{\"__ndarray__\":\"AAAAAAAA8D8AAAAAAADwP1noGMjWyqc/pmiROx9Uyz8nJXBm2X3OPx4eHh4eHs4/QdcQCjjJzT++exDhuwfRPyBOcBEJvc8/nIiXBIQT0T8bpTgJPWPSP68kUlmQi9E/aGU33ZI+1D/j/OMDIzvUP38IgcoKQ9Q/HH09hg9l1D+jfr+dHQ/UP/n2avQ7YNU/UOcQTFaE0z8gzTNgIDzUPyQwQACrjtM/xQtkUrxA1j8u2buTkf/VP5WbEYA5xtM/Q9NYhekK1j+zoNpzMn3VP/L2zLEYLtg/0S0m9Xa42T/v4uhlpwbXP68/dOSYN9Q/5wlj3q/e0j+HgZmzBOzUPwAAAAAAANE/Pc/zPM/z1D/mRfApkH/WP02dX3vIZdU/50Hu+tli1T9vIAKo2NvXPwnLPY2w3NM/SAlc+1EC1z9t/e2Bjd7VP7W0tLS0tNQ/fT6fz+fz2T9LaiupraTWP8m485Ovotc/ymQymUwm0z8VzzWrwyjTPxwpGuKPW9c/RhdddNFF1z8FNu0nS2DTP5MpmZIpmdI/juM4juM41j+xEzuxEzvRP1dzNVdzNdc/sAVbsAVb0D8AAAAAAADWP7169erVq9c/VcytzkjF3D8g1SVmLRTQPwpeTsHLKdg/8pQgTwny1D93d3d3d3fXP9myZcuWLds/SNa58oBkzT/lEzGbS4fKP/YoXI/C9dA/5RdLfrHk1z/TsN0sTyLTP2gvob2E9tI/0zRN0zRN0z91UAd1UAfVP5VLuZRLudQ/AAAAAAAA1D8pXI/C9SjMP8F4K/scUtM/yWfdYIp81j9VVVVVVVXVP+Q4juM4jtM/FDuxEzux0z/Z55CaYLzVPzbZZJNNNtk/kYUsZCEL2T8cx3Ecx3HcP5qZmZmZmdk/AAAAAAAAAAAAAAAAAADAPxzHcRzHccw/0LrBFPmsyz9VVVVVVVXFPwAAAAAAANQ/AAAAAAAA1D9aWlpaWlraP0dY7mmE5c4/27Zt27Ztyz8AAAAAAAAAAAAAAAAAAAAAAAAAAAAAAACamZmZmZnJPwAAAAAAANA/AAAAAAAAAACamZmZmZnJPwAAAAAAAAAAAAAAAAAA0D8zMzMzMzPjPwAAAAAAAOg/AAAAAAAAAAAAAAAAAAAAAAAAAAAAAAAAAAAAAAAAAAAAAAAAAADgP5qZmZmZmck/AAAAAAAAAAAAAAAAAAAAAAAAAAAAAAAAAAAAAAAAAAAAAAAAAAAAAAAAAAAAAAAAAAAAAAAAAAAAAAAAAADwPwAAAAAAAAAAAAAAAAAA8D9GF1100UXXPwAAAAAAAPA/AAAAAAAA2D8AAAAAAADwPwAAAAAAAPA/MzMzMzMz4z9GF1100UXHPwAAAAAAAMA/AAAAAAAA2D+amZmZmZnJPw==\",\"dtype\":\"float64\",\"order\":\"little\",\"shape\":[131]}},\"selected\":{\"id\":\"3270\"},\"selection_policy\":{\"id\":\"3291\"}},\"id\":\"3269\",\"type\":\"ColumnDataSource\"},{\"attributes\":{\"axis_label\":\"prob_await\",\"coordinates\":null,\"formatter\":{\"id\":\"3282\"},\"group\":null,\"major_label_policy\":{\"id\":\"3283\"},\"ticker\":{\"id\":\"3253\"}},\"id\":\"3252\",\"type\":\"LinearAxis\"},{\"attributes\":{},\"id\":\"3249\",\"type\":\"BasicTicker\"},{\"attributes\":{\"source\":{\"id\":\"3269\"}},\"id\":\"3276\",\"type\":\"CDSView\"},{\"attributes\":{},\"id\":\"3279\",\"type\":\"BasicTickFormatter\"},{\"attributes\":{\"coordinates\":null,\"data_source\":{\"id\":\"3269\"},\"glyph\":{\"id\":\"3272\"},\"group\":null,\"hover_glyph\":null,\"muted_glyph\":{\"id\":\"3274\"},\"nonselection_glyph\":{\"id\":\"3273\"},\"selection_glyph\":{\"id\":\"3277\"},\"view\":{\"id\":\"3276\"}},\"id\":\"3275\",\"type\":\"GlyphRenderer\"},{\"attributes\":{\"axis_label\":\"AwaitingTime\",\"coordinates\":null,\"formatter\":{\"id\":\"3279\"},\"group\":null,\"major_label_policy\":{\"id\":\"3280\"},\"ticker\":{\"id\":\"3249\"}},\"id\":\"3248\",\"type\":\"LinearAxis\"},{\"attributes\":{\"fill_color\":{\"value\":\"#30a2da\"},\"hatch_color\":{\"value\":\"#30a2da\"},\"line_color\":{\"value\":\"#30a2da\"},\"size\":{\"value\":5.477225575051661},\"x\":{\"field\":\"AwaitingTime\"},\"y\":{\"field\":\"prob_await\"}},\"id\":\"3272\",\"type\":\"Scatter\"},{\"attributes\":{},\"id\":\"3270\",\"type\":\"Selection\"},{\"attributes\":{\"axis\":{\"id\":\"3248\"},\"coordinates\":null,\"grid_line_color\":null,\"group\":null,\"ticker\":null},\"id\":\"3251\",\"type\":\"Grid\"},{\"attributes\":{\"axis\":{\"id\":\"3252\"},\"coordinates\":null,\"dimension\":1,\"grid_line_color\":null,\"group\":null,\"ticker\":null},\"id\":\"3255\",\"type\":\"Grid\"},{\"attributes\":{},\"id\":\"3246\",\"type\":\"LinearScale\"},{\"attributes\":{},\"id\":\"3257\",\"type\":\"PanTool\"},{\"attributes\":{\"callback\":null,\"renderers\":[{\"id\":\"3275\"}],\"tags\":[\"hv_created\"],\"tooltips\":[[\"AwaitingTime\",\"@{AwaitingTime}\"],[\"prob_await\",\"@{prob_await}\"]]},\"id\":\"3238\",\"type\":\"HoverTool\"},{\"attributes\":{\"end\":1.1,\"reset_end\":1.1,\"reset_start\":-0.1,\"start\":-0.1,\"tags\":[[[\"prob_await\",\"prob_await\",null]]]},\"id\":\"3237\",\"type\":\"Range1d\"},{\"attributes\":{\"coordinates\":null,\"group\":null,\"text_color\":\"black\",\"text_font_size\":\"12pt\"},\"id\":\"3240\",\"type\":\"Title\"},{\"attributes\":{\"below\":[{\"id\":\"3248\"}],\"center\":[{\"id\":\"3251\"},{\"id\":\"3255\"}],\"height\":300,\"left\":[{\"id\":\"3252\"}],\"margin\":[5,5,5,5],\"min_border_bottom\":10,\"min_border_left\":10,\"min_border_right\":10,\"min_border_top\":10,\"renderers\":[{\"id\":\"3275\"}],\"sizing_mode\":\"fixed\",\"title\":{\"id\":\"3240\"},\"toolbar\":{\"id\":\"3262\"},\"width\":700,\"x_range\":{\"id\":\"3236\"},\"x_scale\":{\"id\":\"3244\"},\"y_range\":{\"id\":\"3237\"},\"y_scale\":{\"id\":\"3246\"}},\"id\":\"3239\",\"subtype\":\"Figure\",\"type\":\"Plot\"},{\"attributes\":{\"margin\":[5,5,5,5],\"name\":\"HSpacer05726\",\"sizing_mode\":\"stretch_width\"},\"id\":\"3235\",\"type\":\"Spacer\"}],\"root_ids\":[\"3234\"]},\"title\":\"Bokeh Application\",\"version\":\"2.4.2\"}};\n",
       "    var render_items = [{\"docid\":\"66fc8623-0b08-437c-928a-298869b1c015\",\"root_ids\":[\"3234\"],\"roots\":{\"3234\":\"12ea507f-ad64-402f-afd7-a0d66ef00a7d\"}}];\n",
       "    root.Bokeh.embed.embed_items_notebook(docs_json, render_items);\n",
       "  }\n",
       "  if (root.Bokeh !== undefined && root.Bokeh.Panel !== undefined) {\n",
       "    embed_document(root);\n",
       "  } else {\n",
       "    var attempts = 0;\n",
       "    var timer = setInterval(function(root) {\n",
       "      if (root.Bokeh !== undefined && root.Bokeh.Panel !== undefined) {\n",
       "        clearInterval(timer);\n",
       "        embed_document(root);\n",
       "      } else if (document.readyState == \"complete\") {\n",
       "        attempts++;\n",
       "        if (attempts > 200) {\n",
       "          clearInterval(timer);\n",
       "          console.log(\"Bokeh: ERROR: Unable to run BokehJS code because BokehJS library is missing\");\n",
       "        }\n",
       "      }\n",
       "    }, 25, root)\n",
       "  }\n",
       "})(window);</script>"
      ],
      "text/plain": [
       ":Scatter   [AwaitingTime]   (prob_await)"
      ]
     },
     "execution_count": 179,
     "metadata": {
      "application/vnd.holoviews_exec.v0+json": {
       "id": "3234"
      }
     },
     "output_type": "execute_result"
    }
   ],
   "source": [
    "probs_await = pd.crosstab(index=df[\"AwaitingTime\"], columns=df[\"No-show\"])\n",
    "probs_await[\"prob_await\"] = probs_await.loc[:, 1] / (\n",
    "    probs_await.loc[:, 0] + probs_await.loc[:, 1]\n",
    ")\n",
    "probs_await.hvplot.scatter(x=\"AwaitingTime\", y=\"prob_await\")\n"
   ]
  },
  {
   "cell_type": "code",
   "execution_count": 117,
   "metadata": {},
   "outputs": [],
   "source": [
    "# import matplotlib.pyplot as plt\n",
    "from sklearn.preprocessing import OneHotEncoder\n",
    "\n",
    "encoder = OneHotEncoder()\n",
    "X, y = (\n",
    "    encoder.fit_transform(\n",
    "        df.drop([\"ScheduledDay\", \"AppointmentDay\", \"PatientId\", \"No-show\"], axis=1)\n",
    "    ),\n",
    "    df[\"No-show\"],\n",
    ")\n"
   ]
  },
  {
   "cell_type": "markdown",
   "metadata": {},
   "source": [
    "Now let's train and compair a pair of classifiers that will try to predict our target variable."
   ]
  },
  {
   "cell_type": "code",
   "execution_count": 248,
   "metadata": {},
   "outputs": [
    {
     "data": {
      "text/plain": [
       "MultinomialNB()"
      ]
     },
     "execution_count": 248,
     "metadata": {},
     "output_type": "execute_result"
    },
    {
     "data": {
      "text/plain": [
       "BernoulliNB()"
      ]
     },
     "execution_count": 248,
     "metadata": {},
     "output_type": "execute_result"
    },
    {
     "name": "stdout",
     "output_type": "stream",
     "text": [
      "Accuracy: 71.0 %\n",
      "Accuracy: 80.0 %\n"
     ]
    }
   ],
   "source": [
    "from sklearn.metrics import accuracy_score\n",
    "from sklearn.naive_bayes import BernoulliNB, MultinomialNB\n",
    "from sklearn.model_selection import train_test_split\n",
    "\n",
    "X_train, X_test, y_train, y_test = train_test_split(\n",
    "    df.drop([\"ScheduledDay\", \"AppointmentDay\", \"PatientId\", \"No-show\"], axis=1),\n",
    "    df[\"No-show\"],\n",
    "    test_size=0.2,\n",
    ")\n",
    "mclf, bclf = MultinomialNB(), BernoulliNB()\n",
    "mclf.fit(X_train, y_train); bclf.fit(X_test, y_test)\n",
    "print(\"Accuracy:\", round(accuracy_score(y_test, mclf.predict(X_test)), 2) * 100, \"%\")\n",
    "print(\"Accuracy:\", round(accuracy_score(y_test, bclf.predict(X_test)), 2) * 100, \"%\")"
   ]
  },
  {
   "cell_type": "markdown",
   "metadata": {},
   "source": [
    "Such a result is excpectable. Bernoulli classifier is well adopted for situations like we have here: a variety of binary features."
   ]
  },
  {
   "cell_type": "code",
   "execution_count": null,
   "metadata": {},
   "outputs": [],
   "source": []
  }
 ],
 "metadata": {
  "kernelspec": {
   "display_name": "Python 3",
   "language": "python",
   "name": "python3"
  },
  "language_info": {
   "codemirror_mode": {
    "name": "ipython",
    "version": 3
   },
   "file_extension": ".py",
   "mimetype": "text/x-python",
   "name": "python",
   "nbconvert_exporter": "python",
   "pygments_lexer": "ipython3",
   "version": "3.10.4"
  }
 },
 "nbformat": 4,
 "nbformat_minor": 0
}
