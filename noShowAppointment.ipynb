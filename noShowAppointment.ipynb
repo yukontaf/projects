{
 "cells": [
  {
   "cell_type": "code",
   "execution_count": 368,
   "metadata": {
    "collapsed": true
   },
   "outputs": [],
   "source": [
    "import pandas as pd\n",
    "from scipy import stats\n",
    "from IPython.core.interactiveshell import InteractiveShell\n",
    "import hvplot.pandas\n",
    "\n",
    "pd.options.plotting.backend = \"holoviews\"\n",
    "\n",
    "\n",
    "InteractiveShell.ast_node_interactivity = \"all\"\n",
    "import numpy as np\n",
    "import panel as pn\n",
    "import scipy\n",
    "from panel.template import DefaultTheme\n",
    "\n",
    "pn.extension()\n"
   ]
  },
  {
   "cell_type": "code",
   "execution_count": 364,
   "metadata": {
    "collapsed": false,
    "pycharm": {
     "name": "#%%\n"
    }
   },
   "outputs": [
    {
     "name": "stdout",
     "output_type": "stream",
     "text": [
      "<class 'pandas.core.frame.DataFrame'>\n",
      "RangeIndex: 110527 entries, 0 to 110526\n",
      "Data columns (total 14 columns):\n",
      " #   Column          Non-Null Count   Dtype  \n",
      "---  ------          --------------   -----  \n",
      " 0   Unnamed: 0      110527 non-null  int64  \n",
      " 1   PatientId       110527 non-null  float64\n",
      " 2   Gender          110527 non-null  float64\n",
      " 3   ScheduledDay    110527 non-null  object \n",
      " 4   AppointmentDay  110527 non-null  object \n",
      " 5   Age             110527 non-null  int64  \n",
      " 6   Neighbourhood   110527 non-null  float64\n",
      " 7   Scholarship     110527 non-null  int64  \n",
      " 8   Hypertension    110527 non-null  int64  \n",
      " 9   Diabetes        110527 non-null  int64  \n",
      " 10  Alcoholism      110527 non-null  int64  \n",
      " 11  Handcap         110527 non-null  int64  \n",
      " 12  SMS_received    110527 non-null  int64  \n",
      " 13  No-show         110527 non-null  float64\n",
      "dtypes: float64(4), int64(8), object(2)\n",
      "memory usage: 11.8+ MB\n"
     ]
    }
   ],
   "source": [
    "df = pd.read_csv(\"/Users/glebsokolov/projects/noshowappointments.csv\")\n",
    "df.info()\n"
   ]
  },
  {
   "cell_type": "code",
   "execution_count": 463,
   "metadata": {
    "collapsed": false,
    "pycharm": {
     "name": "#%%\n"
    }
   },
   "outputs": [],
   "source": [
    "tab1 = df.head().hvplot.table(width=1480, height=240)\n"
   ]
  },
  {
   "cell_type": "code",
   "execution_count": 377,
   "metadata": {
    "collapsed": false,
    "pycharm": {
     "name": "#%% md\n"
    }
   },
   "outputs": [],
   "source": [
    "text1 = \"\"\"First, let's preprocess the data: make the target variable boolean, make ordinal\n",
    "encoding for the Neighborhood and Gender column, cast columns, containing dates to\n",
    "datetime type, drop AppointmentID (as we wont need it), and I will also calculate a new feature - awaiting time. Then, let's also check the data for outliers and ridiculous records (i.e. negative age and so on)\"\"\"\n"
   ]
  },
  {
   "cell_type": "code",
   "execution_count": 380,
   "metadata": {
    "collapsed": false,
    "pycharm": {
     "name": "#%%\n"
    }
   },
   "outputs": [],
   "source": [
    "from sklearn.preprocessing import OrdinalEncoder\n",
    "\n",
    "del df[\"Unnamed: 0\"]\n",
    "df[[\"ScheduledDay\", \"AppointmentDay\"]] = df[[\"ScheduledDay\", \"AppointmentDay\"]].apply(\n",
    "    lambda x: pd.to_datetime(x)\n",
    ")\n",
    "enc = OrdinalEncoder()\n",
    "df[[\"Gender\", \"Neighbourhood\", \"No-show\"]] = enc.fit_transform(\n",
    "    df[[\"Gender\", \"Neighbourhood\", \"No-show\"]]\n",
    ")\n",
    "df[\"AwaitingTime\"] = -(df[\"ScheduledDay\"] - df[\"AppointmentDay\"]).dt.days\n",
    "text2 = \"\"\"After preprocessing our\"\"\"\n",
    "tab2 = df.head().hvplot.table(width=820 * 2, height=420 * 2)\n"
   ]
  },
  {
   "cell_type": "code",
   "execution_count": 282,
   "metadata": {},
   "outputs": [
    {
     "data": {
      "text/html": [
       "<div>\n",
       "<style scoped>\n",
       "    .dataframe tbody tr th:only-of-type {\n",
       "        vertical-align: middle;\n",
       "    }\n",
       "\n",
       "    .dataframe tbody tr th {\n",
       "        vertical-align: top;\n",
       "    }\n",
       "\n",
       "    .dataframe thead th {\n",
       "        text-align: right;\n",
       "    }\n",
       "</style>\n",
       "<table border=\"1\" class=\"dataframe\">\n",
       "  <thead>\n",
       "    <tr style=\"text-align: right;\">\n",
       "      <th></th>\n",
       "      <th>PatientId</th>\n",
       "      <th>Gender</th>\n",
       "      <th>ScheduledDay</th>\n",
       "      <th>AppointmentDay</th>\n",
       "      <th>Age</th>\n",
       "      <th>Neighbourhood</th>\n",
       "      <th>Scholarship</th>\n",
       "      <th>Hypertension</th>\n",
       "      <th>Diabetes</th>\n",
       "      <th>Alcoholism</th>\n",
       "      <th>Handcap</th>\n",
       "      <th>SMS_received</th>\n",
       "      <th>No-show</th>\n",
       "      <th>AwaitingTime</th>\n",
       "    </tr>\n",
       "  </thead>\n",
       "  <tbody>\n",
       "    <tr>\n",
       "      <th>27033</th>\n",
       "      <td>7.839273e+12</td>\n",
       "      <td>1.0</td>\n",
       "      <td>2016-05-10 10:51:53+00:00</td>\n",
       "      <td>2016-05-09 00:00:00+00:00</td>\n",
       "      <td>38</td>\n",
       "      <td>59.0</td>\n",
       "      <td>0</td>\n",
       "      <td>0</td>\n",
       "      <td>0</td>\n",
       "      <td>0</td>\n",
       "      <td>1</td>\n",
       "      <td>0</td>\n",
       "      <td>1.0</td>\n",
       "      <td>-1</td>\n",
       "    </tr>\n",
       "    <tr>\n",
       "      <th>55226</th>\n",
       "      <td>7.896294e+12</td>\n",
       "      <td>0.0</td>\n",
       "      <td>2016-05-18 14:50:41+00:00</td>\n",
       "      <td>2016-05-17 00:00:00+00:00</td>\n",
       "      <td>19</td>\n",
       "      <td>69.0</td>\n",
       "      <td>0</td>\n",
       "      <td>0</td>\n",
       "      <td>0</td>\n",
       "      <td>0</td>\n",
       "      <td>1</td>\n",
       "      <td>0</td>\n",
       "      <td>1.0</td>\n",
       "      <td>-1</td>\n",
       "    </tr>\n",
       "    <tr>\n",
       "      <th>64175</th>\n",
       "      <td>2.425226e+13</td>\n",
       "      <td>0.0</td>\n",
       "      <td>2016-05-05 13:43:58+00:00</td>\n",
       "      <td>2016-05-04 00:00:00+00:00</td>\n",
       "      <td>22</td>\n",
       "      <td>13.0</td>\n",
       "      <td>0</td>\n",
       "      <td>0</td>\n",
       "      <td>0</td>\n",
       "      <td>0</td>\n",
       "      <td>0</td>\n",
       "      <td>0</td>\n",
       "      <td>1.0</td>\n",
       "      <td>-1</td>\n",
       "    </tr>\n",
       "    <tr>\n",
       "      <th>71533</th>\n",
       "      <td>9.982316e+14</td>\n",
       "      <td>0.0</td>\n",
       "      <td>2016-05-11 13:49:20+00:00</td>\n",
       "      <td>2016-05-05 00:00:00+00:00</td>\n",
       "      <td>81</td>\n",
       "      <td>69.0</td>\n",
       "      <td>0</td>\n",
       "      <td>0</td>\n",
       "      <td>0</td>\n",
       "      <td>0</td>\n",
       "      <td>0</td>\n",
       "      <td>0</td>\n",
       "      <td>1.0</td>\n",
       "      <td>-6</td>\n",
       "    </tr>\n",
       "    <tr>\n",
       "      <th>72362</th>\n",
       "      <td>3.787482e+12</td>\n",
       "      <td>1.0</td>\n",
       "      <td>2016-05-04 06:50:57+00:00</td>\n",
       "      <td>2016-05-03 00:00:00+00:00</td>\n",
       "      <td>7</td>\n",
       "      <td>78.0</td>\n",
       "      <td>0</td>\n",
       "      <td>0</td>\n",
       "      <td>0</td>\n",
       "      <td>0</td>\n",
       "      <td>0</td>\n",
       "      <td>0</td>\n",
       "      <td>1.0</td>\n",
       "      <td>-1</td>\n",
       "    </tr>\n",
       "    <tr>\n",
       "      <th>99832</th>\n",
       "      <td>4.659432e+14</td>\n",
       "      <td>0.0</td>\n",
       "      <td>2016-06-06 08:58:13+00:00</td>\n",
       "      <td>2016-06-06 00:00:00+00:00</td>\n",
       "      <td>-1</td>\n",
       "      <td>60.0</td>\n",
       "      <td>0</td>\n",
       "      <td>0</td>\n",
       "      <td>0</td>\n",
       "      <td>0</td>\n",
       "      <td>0</td>\n",
       "      <td>0</td>\n",
       "      <td>0.0</td>\n",
       "      <td>0</td>\n",
       "    </tr>\n",
       "  </tbody>\n",
       "</table>\n",
       "</div>"
      ],
      "text/plain": [
       "          PatientId  Gender              ScheduledDay  \\\n",
       "27033  7.839273e+12     1.0 2016-05-10 10:51:53+00:00   \n",
       "55226  7.896294e+12     0.0 2016-05-18 14:50:41+00:00   \n",
       "64175  2.425226e+13     0.0 2016-05-05 13:43:58+00:00   \n",
       "71533  9.982316e+14     0.0 2016-05-11 13:49:20+00:00   \n",
       "72362  3.787482e+12     1.0 2016-05-04 06:50:57+00:00   \n",
       "99832  4.659432e+14     0.0 2016-06-06 08:58:13+00:00   \n",
       "\n",
       "                 AppointmentDay  Age  Neighbourhood  Scholarship  \\\n",
       "27033 2016-05-09 00:00:00+00:00   38           59.0            0   \n",
       "55226 2016-05-17 00:00:00+00:00   19           69.0            0   \n",
       "64175 2016-05-04 00:00:00+00:00   22           13.0            0   \n",
       "71533 2016-05-05 00:00:00+00:00   81           69.0            0   \n",
       "72362 2016-05-03 00:00:00+00:00    7           78.0            0   \n",
       "99832 2016-06-06 00:00:00+00:00   -1           60.0            0   \n",
       "\n",
       "       Hypertension  Diabetes  Alcoholism  Handcap  SMS_received  No-show  \\\n",
       "27033             0         0           0        1             0      1.0   \n",
       "55226             0         0           0        1             0      1.0   \n",
       "64175             0         0           0        0             0      1.0   \n",
       "71533             0         0           0        0             0      1.0   \n",
       "72362             0         0           0        0             0      1.0   \n",
       "99832             0         0           0        0             0      0.0   \n",
       "\n",
       "       AwaitingTime  \n",
       "27033            -1  \n",
       "55226            -1  \n",
       "64175            -1  \n",
       "71533            -6  \n",
       "72362            -1  \n",
       "99832             0  "
      ]
     },
     "execution_count": 282,
     "metadata": {},
     "output_type": "execute_result"
    },
    {
     "data": {
      "text/plain": [
       "array([-1,  0,  1,  2,  3,  4,  5,  6,  7,  8])"
      ]
     },
     "execution_count": 282,
     "metadata": {},
     "output_type": "execute_result"
    }
   ],
   "source": [
    "df.query(\"Age==-1 or AwaitingTime<0\")\n",
    "df.sort_values(by=\"Age\", ascending=True)[\"Age\"].unique()[:10]\n",
    "df = df.drop(index=df.query(\"Age==-1 or AwaitingTime<0\").index)\n"
   ]
  },
  {
   "cell_type": "markdown",
   "metadata": {},
   "source": [
    "As we can see here, we have several recordings with negative awaiting time, we delete them. We also see, that we have a recording with negative age."
   ]
  },
  {
   "cell_type": "markdown",
   "metadata": {},
   "source": [
    "Now and further 1 will encode a group who didn't come, and 0 who come."
   ]
  },
  {
   "cell_type": "markdown",
   "metadata": {
    "collapsed": false,
    "pycharm": {
     "name": "#%% md\n"
    }
   },
   "source": [
    "Now let's view at the distributions of the categorical variables, in order to do so,\n",
    "let's build bar plots, and  histogram for age, one more bar plot will include all the neighborhoods."
   ]
  },
  {
   "cell_type": "code",
   "execution_count": 6,
   "metadata": {},
   "outputs": [],
   "source": [
    "show_opts = [\n",
    "    1.0,\n",
    "    0.0,\n",
    "]\n",
    "show_opt = pn.widgets.Select(name=\"No-show\", options=show_opts)\n",
    "idf = df.interactive()\n",
    "data_pipeline = idf[idf[\"No-show\"] == show_opt]\n"
   ]
  },
  {
   "cell_type": "code",
   "execution_count": 386,
   "metadata": {},
   "outputs": [
    {
     "data": {},
     "metadata": {},
     "output_type": "display_data"
    },
    {
     "data": {
      "application/vnd.holoviews_exec.v0+json": "",
      "text/html": [
       "<div id='16277'>\n",
       "\n",
       "\n",
       "\n",
       "\n",
       "\n",
       "  <div class=\"bk-root\" id=\"19bdbb42-b26e-4570-a22e-b3dc699b2ffd\" data-root-id=\"16277\"></div>\n",
       "</div>\n",
       "<script type=\"application/javascript\">(function(root) {\n",
       "  function embed_document(root) {\n",
       "    var docs_json = {\"d29d6f8d-6c3d-43e1-b4b9-a089474b350f\":{\"defs\":[{\"extends\":null,\"module\":null,\"name\":\"ReactiveHTML1\",\"overrides\":[],\"properties\":[]},{\"extends\":null,\"module\":null,\"name\":\"FlexBox1\",\"overrides\":[],\"properties\":[{\"default\":\"flex-start\",\"kind\":null,\"name\":\"align_content\"},{\"default\":\"flex-start\",\"kind\":null,\"name\":\"align_items\"},{\"default\":\"row\",\"kind\":null,\"name\":\"flex_direction\"},{\"default\":\"wrap\",\"kind\":null,\"name\":\"flex_wrap\"},{\"default\":\"flex-start\",\"kind\":null,\"name\":\"justify_content\"}]},{\"extends\":null,\"module\":null,\"name\":\"GridStack1\",\"overrides\":[],\"properties\":[{\"default\":\"warn\",\"kind\":null,\"name\":\"mode\"},{\"default\":null,\"kind\":null,\"name\":\"ncols\"},{\"default\":null,\"kind\":null,\"name\":\"nrows\"},{\"default\":true,\"kind\":null,\"name\":\"allow_resize\"},{\"default\":true,\"kind\":null,\"name\":\"allow_drag\"},{\"default\":[],\"kind\":null,\"name\":\"state\"}]},{\"extends\":null,\"module\":null,\"name\":\"click1\",\"overrides\":[],\"properties\":[{\"default\":\"\",\"kind\":null,\"name\":\"terminal_output\"},{\"default\":\"\",\"kind\":null,\"name\":\"debug_name\"},{\"default\":0,\"kind\":null,\"name\":\"clears\"}]},{\"extends\":null,\"module\":null,\"name\":\"TemplateActions1\",\"overrides\":[],\"properties\":[{\"default\":0,\"kind\":null,\"name\":\"open_modal\"},{\"default\":0,\"kind\":null,\"name\":\"close_modal\"}]},{\"extends\":null,\"module\":null,\"name\":\"MaterialTemplateActions1\",\"overrides\":[],\"properties\":[{\"default\":0,\"kind\":null,\"name\":\"open_modal\"},{\"default\":0,\"kind\":null,\"name\":\"close_modal\"}]}],\"roots\":{\"references\":[{\"attributes\":{\"bottom_units\":\"screen\",\"coordinates\":null,\"fill_alpha\":0.5,\"fill_color\":\"lightgrey\",\"group\":null,\"left_units\":\"screen\",\"level\":\"overlay\",\"line_alpha\":1.0,\"line_color\":\"black\",\"line_dash\":[4,4],\"line_width\":2,\"right_units\":\"screen\",\"syncable\":false,\"top_units\":\"screen\"},\"id\":\"16304\",\"type\":\"BoxAnnotation\"},{\"attributes\":{\"axis\":{\"id\":\"16291\"},\"coordinates\":null,\"grid_line_color\":null,\"group\":null,\"ticker\":null},\"id\":\"16294\",\"type\":\"Grid\"},{\"attributes\":{},\"id\":\"16301\",\"type\":\"WheelZoomTool\"},{\"attributes\":{},\"id\":\"16313\",\"type\":\"Selection\"},{\"attributes\":{\"axis_label\":\"\",\"coordinates\":null,\"formatter\":{\"id\":\"16325\"},\"group\":null,\"major_label_policy\":{\"id\":\"16326\"},\"ticker\":{\"id\":\"16296\"}},\"id\":\"16295\",\"type\":\"LinearAxis\"},{\"attributes\":{\"coordinates\":null,\"data_source\":{\"id\":\"16312\"},\"glyph\":{\"id\":\"16315\"},\"group\":null,\"hover_glyph\":null,\"muted_glyph\":{\"id\":\"16317\"},\"nonselection_glyph\":{\"id\":\"16316\"},\"selection_glyph\":{\"id\":\"16320\"},\"view\":{\"id\":\"16319\"}},\"id\":\"16318\",\"type\":\"GlyphRenderer\"},{\"attributes\":{\"tools\":[{\"id\":\"16281\"},{\"id\":\"16299\"},{\"id\":\"16300\"},{\"id\":\"16301\"},{\"id\":\"16302\"},{\"id\":\"16303\"}]},\"id\":\"16305\",\"type\":\"Toolbar\"},{\"attributes\":{\"end\":11267.3,\"reset_end\":11267.3,\"reset_start\":0.0,\"tags\":[[[\"Age_count\",\"Count\",null]]]},\"id\":\"16280\",\"type\":\"Range1d\"},{\"attributes\":{\"bottom\":{\"value\":0},\"fill_alpha\":{\"value\":0.2},\"fill_color\":{\"value\":\"#30a2da\"},\"hatch_alpha\":{\"value\":0.2},\"hatch_color\":{\"value\":\"#30a2da\"},\"left\":{\"field\":\"left\"},\"line_alpha\":{\"value\":0.2},\"right\":{\"field\":\"right\"},\"top\":{\"field\":\"top\"}},\"id\":\"16317\",\"type\":\"Quad\"},{\"attributes\":{\"callback\":null,\"renderers\":[{\"id\":\"16318\"}],\"tags\":[\"hv_created\"],\"tooltips\":[[\"Age\",\"@{Age}\"],[\"Count\",\"@{Age_count}\"]]},\"id\":\"16281\",\"type\":\"HoverTool\"},{\"attributes\":{\"end\":119.97142857142858,\"reset_end\":119.97142857142858,\"reset_start\":-5.9714285714285715,\"start\":-5.9714285714285715,\"tags\":[[[\"Age\",\"Age\",null]]]},\"id\":\"16279\",\"type\":\"Range1d\"},{\"attributes\":{\"bottom\":{\"value\":0},\"fill_alpha\":{\"value\":0.1},\"fill_color\":{\"value\":\"#30a2da\"},\"hatch_alpha\":{\"value\":0.1},\"hatch_color\":{\"value\":\"#30a2da\"},\"left\":{\"field\":\"left\"},\"line_alpha\":{\"value\":0.1},\"right\":{\"field\":\"right\"},\"top\":{\"field\":\"top\"}},\"id\":\"16316\",\"type\":\"Quad\"},{\"attributes\":{\"source\":{\"id\":\"16312\"}},\"id\":\"16319\",\"type\":\"CDSView\"},{\"attributes\":{\"axis_label\":\"Age\",\"coordinates\":null,\"formatter\":{\"id\":\"16322\"},\"group\":null,\"major_label_policy\":{\"id\":\"16323\"},\"ticker\":{\"id\":\"16292\"}},\"id\":\"16291\",\"type\":\"LinearAxis\"},{\"attributes\":{},\"id\":\"16299\",\"type\":\"SaveTool\"},{\"attributes\":{},\"id\":\"16303\",\"type\":\"ResetTool\"},{\"attributes\":{},\"id\":\"16326\",\"type\":\"AllLabels\"},{\"attributes\":{},\"id\":\"16322\",\"type\":\"BasicTickFormatter\"},{\"attributes\":{},\"id\":\"16289\",\"type\":\"LinearScale\"},{\"attributes\":{},\"id\":\"16323\",\"type\":\"AllLabels\"},{\"attributes\":{\"coordinates\":null,\"group\":null,\"text_color\":\"black\",\"text_font_size\":\"12pt\"},\"id\":\"16283\",\"type\":\"Title\"},{\"attributes\":{\"children\":[{\"id\":\"16278\"},{\"id\":\"16282\"},{\"id\":\"16347\"}],\"margin\":[0,0,0,0],\"name\":\"Row27479\",\"tags\":[\"embedded\"]},\"id\":\"16277\",\"type\":\"Row\"},{\"attributes\":{},\"id\":\"16325\",\"type\":\"BasicTickFormatter\"},{\"attributes\":{},\"id\":\"16300\",\"type\":\"PanTool\"},{\"attributes\":{\"below\":[{\"id\":\"16291\"}],\"center\":[{\"id\":\"16294\"},{\"id\":\"16298\"}],\"height\":300,\"left\":[{\"id\":\"16295\"}],\"margin\":[5,5,5,5],\"min_border_bottom\":10,\"min_border_left\":10,\"min_border_right\":10,\"min_border_top\":10,\"renderers\":[{\"id\":\"16318\"}],\"sizing_mode\":\"fixed\",\"title\":{\"id\":\"16283\"},\"toolbar\":{\"id\":\"16305\"},\"width\":700,\"x_range\":{\"id\":\"16279\"},\"x_scale\":{\"id\":\"16287\"},\"y_range\":{\"id\":\"16280\"},\"y_scale\":{\"id\":\"16289\"}},\"id\":\"16282\",\"subtype\":\"Figure\",\"type\":\"Plot\"},{\"attributes\":{\"overlay\":{\"id\":\"16304\"}},\"id\":\"16302\",\"type\":\"BoxZoomTool\"},{\"attributes\":{\"bottom\":{\"value\":0},\"fill_alpha\":{\"value\":1.0},\"fill_color\":{\"value\":\"#30a2da\"},\"hatch_alpha\":{\"value\":1.0},\"hatch_color\":{\"value\":\"#30a2da\"},\"hatch_scale\":{\"value\":12.0},\"hatch_weight\":{\"value\":1.0},\"left\":{\"field\":\"left\"},\"line_alpha\":{\"value\":1.0},\"line_cap\":{\"value\":\"butt\"},\"line_color\":{\"value\":\"black\"},\"line_dash\":{\"value\":[]},\"line_dash_offset\":{\"value\":0},\"line_join\":{\"value\":\"bevel\"},\"line_width\":{\"value\":1},\"right\":{\"field\":\"right\"},\"top\":{\"field\":\"top\"}},\"id\":\"16320\",\"type\":\"Quad\"},{\"attributes\":{},\"id\":\"16334\",\"type\":\"UnionRenderers\"},{\"attributes\":{\"data\":{\"Age\":{\"__ndarray__\":\"ZmZmZmZm/j/MzMzMzMweQAAAAAAAACtAzMzMzMxMM0CamZmZmRk5QGZmZmZm5j5AmpmZmZlZQkAAAAAAAEBFQGZmZmZmJkhAzMzMzMwMS0AzMzMzM/NNQMzMzMzMbFBAAAAAAADgUUAzMzMzM1NTQGZmZmZmxlRAmpmZmZk5VkDMzMzMzKxXQAAAAAAAIFlAMzMzMzOTWkBmZmZmZgZcQA==\",\"dtype\":\"float64\",\"order\":\"little\",\"shape\":[20]},\"Age_count\":[10243,8507,7121,8806,6583,8840,9182,8304,9085,7987,8762,6978,4193,3084,1692,918,224,13,0,5],\"left\":{\"__ndarray__\":\"AAAAAAAA8L8zMzMzMzMTQDMzMzMzMyVAZmZmZmZmMEAzMzMzMzM2QAAAAAAAADxAZmZmZmbmQEDNzMzMzMxDQDMzMzMzs0ZAmZmZmZmZSUAAAAAAAIBMQGZmZmZmZk9AZmZmZmYmUUCZmZmZmZlSQM3MzMzMDFRAAAAAAACAVUAzMzMzM/NWQGZmZmZmZlhAmZmZmZnZWUDNzMzMzExbQA==\",\"dtype\":\"float64\",\"order\":\"little\",\"shape\":[20]},\"right\":{\"__ndarray__\":\"MzMzMzMzE0AzMzMzMzMlQGZmZmZmZjBAMzMzMzMzNkAAAAAAAAA8QGZmZmZm5kBAzczMzMzMQ0AzMzMzM7NGQJmZmZmZmUlAAAAAAACATEBmZmZmZmZPQGZmZmZmJlFAmZmZmZmZUkDNzMzMzAxUQAAAAAAAgFVAMzMzMzPzVkBmZmZmZmZYQJmZmZmZ2VlAzczMzMxMW0AAAAAAAMBcQA==\",\"dtype\":\"float64\",\"order\":\"little\",\"shape\":[20]},\"top\":[10243,8507,7121,8806,6583,8840,9182,8304,9085,7987,8762,6978,4193,3084,1692,918,224,13,0,5]},\"selected\":{\"id\":\"16313\"},\"selection_policy\":{\"id\":\"16334\"}},\"id\":\"16312\",\"type\":\"ColumnDataSource\"},{\"attributes\":{\"axis\":{\"id\":\"16295\"},\"coordinates\":null,\"dimension\":1,\"grid_line_color\":null,\"group\":null,\"ticker\":null},\"id\":\"16298\",\"type\":\"Grid\"},{\"attributes\":{},\"id\":\"16287\",\"type\":\"LinearScale\"},{\"attributes\":{},\"id\":\"16292\",\"type\":\"BasicTicker\"},{\"attributes\":{\"margin\":[5,5,5,5],\"name\":\"HSpacer27484\",\"sizing_mode\":\"stretch_width\"},\"id\":\"16347\",\"type\":\"Spacer\"},{\"attributes\":{},\"id\":\"16296\",\"type\":\"BasicTicker\"},{\"attributes\":{\"margin\":[5,5,5,5],\"name\":\"HSpacer27483\",\"sizing_mode\":\"stretch_width\"},\"id\":\"16278\",\"type\":\"Spacer\"},{\"attributes\":{\"bottom\":{\"value\":0},\"fill_color\":{\"value\":\"#30a2da\"},\"hatch_color\":{\"value\":\"#30a2da\"},\"left\":{\"field\":\"left\"},\"right\":{\"field\":\"right\"},\"top\":{\"field\":\"top\"}},\"id\":\"16315\",\"type\":\"Quad\"}],\"root_ids\":[\"16277\"]},\"title\":\"Bokeh Application\",\"version\":\"2.4.2\"}};\n",
       "    var render_items = [{\"docid\":\"d29d6f8d-6c3d-43e1-b4b9-a089474b350f\",\"root_ids\":[\"16277\"],\"roots\":{\"16277\":\"19bdbb42-b26e-4570-a22e-b3dc699b2ffd\"}}];\n",
       "    root.Bokeh.embed.embed_items_notebook(docs_json, render_items);\n",
       "  }\n",
       "  if (root.Bokeh !== undefined && root.Bokeh.Panel !== undefined) {\n",
       "    embed_document(root);\n",
       "  } else {\n",
       "    var attempts = 0;\n",
       "    var timer = setInterval(function(root) {\n",
       "      if (root.Bokeh !== undefined && root.Bokeh.Panel !== undefined) {\n",
       "        clearInterval(timer);\n",
       "        embed_document(root);\n",
       "      } else if (document.readyState == \"complete\") {\n",
       "        attempts++;\n",
       "        if (attempts > 200) {\n",
       "          clearInterval(timer);\n",
       "          console.log(\"Bokeh: ERROR: Unable to run BokehJS code because BokehJS library is missing\");\n",
       "        }\n",
       "      }\n",
       "    }, 25, root)\n",
       "  }\n",
       "})(window);</script>"
      ],
      "text/plain": [
       ":Histogram   [Age]   (Age_count)"
      ]
     },
     "execution_count": 386,
     "metadata": {
      "application/vnd.holoviews_exec.v0+json": {
       "id": "16277"
      }
     },
     "output_type": "execute_result"
    }
   ],
   "source": []
  },
  {
   "cell_type": "code",
   "execution_count": 478,
   "metadata": {},
   "outputs": [],
   "source": [
    "text01 = '''First, let's have a look at the distributions of ages and neighbourhoods'''\n",
    "viz1 = df[\"Age\"].hvplot(kind=\"hist\", title='Histogram for Ages')\n"
   ]
  },
  {
   "cell_type": "code",
   "execution_count": 476,
   "metadata": {},
   "outputs": [],
   "source": [
    "group = df.groupby([\"Neighbourhood\", \"No-show\"]).count()[\"PatientId\"]\n",
    "viz2 = group.plot.bar(\n",
    "    stacked=True, title=\"Neighbourhood\", rot=90, width=1024\n",
    ") + group.hvplot.table(width=360)\n"
   ]
  },
  {
   "cell_type": "code",
   "execution_count": 396,
   "metadata": {
    "collapsed": false,
    "pycharm": {
     "name": "#%% md\n"
    }
   },
   "outputs": [],
   "source": [
    "text3 = \"\"\"Now, lets write a function that will calculate confidence interval for the difference\n",
    " of the two proportions (for the show and not-show groups). Then, write a function that will draw a conclusion given the confidence interval.\"\"\"\n"
   ]
  },
  {
   "cell_type": "code",
   "execution_count": 489,
   "metadata": {},
   "outputs": [],
   "source": [
    "def proportions_confint_diff(sample1, sample2, alpha=0.05):\n",
    "    z = scipy.stats.norm.ppf(1 - alpha / 2.0)\n",
    "    p1 = float(sum(sample1)) / len(sample1)\n",
    "    p2 = float(sum(sample2)) / len(sample2)\n",
    "\n",
    "    left_boundary = (p1 - p2) - z * np.sqrt(\n",
    "        p1 * (1 - p1) / len(sample1) + p2 * (1 - p2) / len(sample2)\n",
    "    )\n",
    "    right_boundary = (p1 - p2) + z * np.sqrt(\n",
    "        p1 * (1 - p1) / len(sample1) + p2 * (1 - p2) / len(sample2)\n",
    "    )\n",
    "    return (round(left_boundary*100, 3), round(right_boundary*100, 3))\n",
    "\n",
    "\n",
    "def calculate_ci(group, alpha):\n",
    "    boundaries = proportions_confint_diff(\n",
    "        df[df[group] == 1][\"No-show\"], df[df[group] == 0][\"No-show\"], alpha=alpha\n",
    "    )\n",
    "    if boundaries[0] < 0 and boundaries[1] < 0:\n",
    "        return f\"CI is {boundaries}, proportion in the first ({group}=0) group tends to be less\"\n",
    "    elif boundaries[0] > 0 and boundaries[1] > 0:\n",
    "        return (\n",
    "            f\"CI is {boundaries}, proportion in the first group ({group}=0) tends to be greater\"\n",
    "        )\n",
    "    else:\n",
    "        return f\"CI is {boundaries}, can not make definitive decision\"\n"
   ]
  },
  {
   "cell_type": "code",
   "execution_count": 485,
   "metadata": {},
   "outputs": [],
   "source": [
    "code_ci = '''Below listed the code for computing confidence interval and making decision based on its value\n",
    "```python \n",
    "def proportions_confint_diff(sample1, sample2, alpha=0.05):\n",
    "    z = scipy.stats.norm.ppf(1 - alpha / 2.0)\n",
    "    p1 = float(sum(sample1)) / len(sample1)\n",
    "    p2 = float(sum(sample2)) / len(sample2)\n",
    "\n",
    "    left_boundary = (p1 - p2) - z * np.sqrt(\n",
    "        p1 * (1 - p1) / len(sample1) + p2 * (1 - p2) / len(sample2)\n",
    "    )\n",
    "    right_boundary = (p1 - p2) + z * np.sqrt(\n",
    "        p1 * (1 - p1) / len(sample1) + p2 * (1 - p2) / len(sample2)\n",
    "    )\n",
    "    return (round(left_boundary*100, 3), round(right_boundary*100, 3))\n",
    "\n",
    "\n",
    "def calculate_ci(group, alpha):\n",
    "    boundaries = proportions_confint_diff(\n",
    "        df[df[group] == 1][\"No-show\"], df[df[group] == 0][\"No-show\"], alpha=alpha\n",
    "    )\n",
    "    if boundaries[0] < 0 and boundaries[1] < 0:\n",
    "        return f\"CI is {boundaries}, proportion in the no-show group tends to be less\"\n",
    "    elif boundaries[0] > 0 and boundaries[1] > 0:\n",
    "        return (\n",
    "            f\"CI is {boundaries}, proportion in the no-show group tends to be greater\"\n",
    "        )\n",
    "    else:\n",
    "        return f\"CI is {boundaries}, can not make definitive decision\"\n",
    "```'''"
   ]
  },
  {
   "cell_type": "markdown",
   "metadata": {},
   "source": [
    "The function below will draw a bar plot for each categorical variable with a table, where a prior probability for show and no-show situations for each subcategory will be calculated"
   ]
  },
  {
   "cell_type": "code",
   "execution_count": 441,
   "metadata": {},
   "outputs": [],
   "source": [
    "def group_draw(by):\n",
    "    group = (\n",
    "        df.groupby([by, \"No-show\"])\n",
    "        .count()[[\"PatientId\"]]\n",
    "        .rename(columns={\"PatientId\": \"Count\"})\n",
    "    )\n",
    "    ind = group.index\n",
    "    group = group.reset_index()\n",
    "    group[\"ShowProb\"] = pd.concat(\n",
    "        [\n",
    "            group[group[by] == 0].transform(lambda x: x / sum(x))[\"Count\"],\n",
    "            group[group[by] == 1].transform(lambda x: x / sum(x))[\"Count\"],\n",
    "        ]\n",
    "    )\n",
    "    group = group[[\"Count\", \"ShowProb\"]].set_index(ind)\n",
    "    return group.plot.bar(stacked=True, title=by) + group.hvplot.table(\n",
    "        width=360\n",
    "    )\n"
   ]
  },
  {
   "cell_type": "code",
   "execution_count": 490,
   "metadata": {
    "collapsed": false,
    "pycharm": {
     "name": "#%%\n"
    }
   },
   "outputs": [],
   "source": [
    "text03 = \"\"\"Now lets's have a look at the barplots for each category combined with the tables where the probability of (no)-show is calculated\"\"\"\n",
    "viz3 = group_draw(\"Scholarship\")\n",
    "text3 = calculate_ci(\"Scholarship\", 0.05)\n"
   ]
  },
  {
   "cell_type": "code",
   "execution_count": 491,
   "metadata": {},
   "outputs": [],
   "source": [
    "viz4 = group_draw(\"Gender\")\n",
    "text4 = calculate_ci(\"Gender\", 0.05)\n"
   ]
  },
  {
   "cell_type": "code",
   "execution_count": 492,
   "metadata": {
    "collapsed": false,
    "pycharm": {
     "name": "#%%\n"
    }
   },
   "outputs": [],
   "source": [
    "viz5 = group_draw(\"Hypertension\")\n",
    "text5 = calculate_ci(\"Hypertension\", 0.05)\n"
   ]
  },
  {
   "cell_type": "code",
   "execution_count": 493,
   "metadata": {
    "collapsed": false,
    "pycharm": {
     "name": "#%%\n"
    }
   },
   "outputs": [],
   "source": [
    "viz6 = group_draw(\"Diabetes\")\n",
    "text6 = calculate_ci(\"Diabetes\", 0.05)\n"
   ]
  },
  {
   "cell_type": "code",
   "execution_count": 494,
   "metadata": {
    "collapsed": false,
    "pycharm": {
     "name": "#%%\n"
    }
   },
   "outputs": [],
   "source": [
    "viz7 = group_draw(\"Alcoholism\")\n",
    "text7 = calculate_ci(\"Alcoholism\", 0.05)\n"
   ]
  },
  {
   "cell_type": "code",
   "execution_count": 495,
   "metadata": {
    "collapsed": false,
    "pycharm": {
     "name": "#%%\n"
    }
   },
   "outputs": [],
   "source": [
    "viz8 = group_draw(\"SMS_received\")\n",
    "text8 = calculate_ci(\"SMS_received\", 0.05)\n"
   ]
  },
  {
   "cell_type": "markdown",
   "metadata": {},
   "source": [
    "Now, let's calculate probabilitites of no-show for each age, neighborhood, scheduled hour and awaiting time and see if there are any patterns"
   ]
  },
  {
   "cell_type": "code",
   "execution_count": 406,
   "metadata": {},
   "outputs": [],
   "source": [
    "probs_age = pd.crosstab(index=df[\"Age\"], columns=df[\"No-show\"])\n",
    "probs_age[\"prob_show\"] = probs_age.loc[:, 1] / (\n",
    "    probs_age.loc[:, 0] + probs_age.loc[:, 1]\n",
    ")\n",
    "viz9 = probs_age.hvplot.scatter(x=\"Age\", y=\"prob_show\")\n"
   ]
  },
  {
   "cell_type": "code",
   "execution_count": 407,
   "metadata": {},
   "outputs": [],
   "source": [
    "probs_place = pd.crosstab(index=df[\"Neighbourhood\"], columns=df[\"No-show\"])\n",
    "probs_place[\"prob_show\"] = probs_place.loc[:, 1] / (\n",
    "    probs_place.loc[:, 0] + probs_place.loc[:, 1]\n",
    ")\n",
    "viz10 = probs_place.hvplot.scatter(x=\"Neighbourhood\", y=\"prob_show\")\n"
   ]
  },
  {
   "cell_type": "markdown",
   "metadata": {},
   "source": [
    "As we can see here age's and neighborhood's probabilities are distributed almost uniformly (except for a single peculiar points for each graph)"
   ]
  },
  {
   "cell_type": "code",
   "execution_count": 408,
   "metadata": {},
   "outputs": [],
   "source": [
    "probs_hour = (\n",
    "    pd.crosstab(index=df[\"ScheduledDay\"].dt.hour, columns=df[\"No-show\"])\n",
    "    .reset_index()\n",
    "    .rename(columns={\"ScheduledDay\": \"ScheduledHour\"})\n",
    ")\n",
    "probs_hour[\"prob_hour\"] = probs_hour.loc[:, 1] / (\n",
    "    probs_hour.loc[:, 0] + probs_hour.loc[:, 1]\n",
    ")\n",
    "viz11 = probs_hour.hvplot.scatter(x=\"ScheduledHour\", y=\"prob_hour\")\n"
   ]
  },
  {
   "cell_type": "code",
   "execution_count": 409,
   "metadata": {},
   "outputs": [],
   "source": [
    "probs_await = pd.crosstab(index=df[\"AwaitingTime\"], columns=df[\"No-show\"])\n",
    "probs_await[\"prob_await\"] = probs_await.loc[:, 1] / (\n",
    "    probs_await.loc[:, 0] + probs_await.loc[:, 1]\n",
    ")\n",
    "viz12 = probs_await.hvplot.scatter(x=\"AwaitingTime\", y=\"prob_await\")\n"
   ]
  },
  {
   "cell_type": "code",
   "execution_count": 117,
   "metadata": {},
   "outputs": [],
   "source": [
    "# import matplotlib.pyplot as plt\n",
    "from sklearn.preprocessing import OneHotEncoder\n",
    "\n",
    "encoder = OneHotEncoder()\n",
    "X, y = (\n",
    "    encoder.fit_transform(\n",
    "        df.drop([\"ScheduledDay\", \"AppointmentDay\", \"PatientId\", \"No-show\"], axis=1)\n",
    "    ),\n",
    "    df[\"No-show\"],\n",
    ")\n"
   ]
  },
  {
   "cell_type": "markdown",
   "metadata": {},
   "source": [
    "Now let's train and compair a pair of classifiers that will try to predict our target variable."
   ]
  },
  {
   "cell_type": "code",
   "execution_count": 248,
   "metadata": {},
   "outputs": [
    {
     "data": {
      "text/plain": [
       "MultinomialNB()"
      ]
     },
     "execution_count": 248,
     "metadata": {},
     "output_type": "execute_result"
    },
    {
     "data": {
      "text/plain": [
       "BernoulliNB()"
      ]
     },
     "execution_count": 248,
     "metadata": {},
     "output_type": "execute_result"
    },
    {
     "name": "stdout",
     "output_type": "stream",
     "text": [
      "Accuracy: 71.0 %\n",
      "Accuracy: 80.0 %\n"
     ]
    }
   ],
   "source": [
    "from sklearn.metrics import accuracy_score\n",
    "from sklearn.naive_bayes import BernoulliNB, MultinomialNB\n",
    "from sklearn.model_selection import train_test_split\n",
    "\n",
    "X_train, X_test, y_train, y_test = train_test_split(\n",
    "    df.drop([\"ScheduledDay\", \"AppointmentDay\", \"PatientId\", \"No-show\"], axis=1),\n",
    "    df[\"No-show\"],\n",
    "    test_size=0.2,\n",
    ")\n",
    "mclf, bclf = MultinomialNB(), BernoulliNB()\n",
    "mclf.fit(X_train, y_train)\n",
    "bclf.fit(X_test, y_test)\n",
    "print(\"Accuracy:\", round(accuracy_score(y_test, mclf.predict(X_test)), 2) * 100, \"%\")\n",
    "print(\"Accuracy:\", round(accuracy_score(y_test, bclf.predict(X_test)), 2) * 100, \"%\")\n"
   ]
  },
  {
   "cell_type": "markdown",
   "metadata": {},
   "source": [
    "Such a result is excpectable. Bernoulli classifier is well adopted for situations like we have here: a variety of binary features."
   ]
  },
  {
   "cell_type": "code",
   "execution_count": 470,
   "metadata": {},
   "outputs": [],
   "source": [
    "df_pane = pn.pane.DataFrame(df.head(), width=1400)"
   ]
  },
  {
   "cell_type": "code",
   "execution_count": 496,
   "metadata": {},
   "outputs": [],
   "source": [
    "template = pn.template.FastListTemplate(\n",
    "    theme=DefaultTheme,\n",
    "    title=\"No Show Appointment Interactive Dashboard and Analysis\",\n",
    "    sidebar=[\n",
    "        pn.pane.Markdown(\"# About the project\"),\n",
    "    ],\n",
    "    main=[\n",
    "        pn.Row(pn.Column(pn.pane.Markdown(text1), df_pane)),\n",
    "        pn.Row(pn.Column(text01, viz1, viz2)),\n",
    "        pn.Row(\n",
    "            pn.Column(\n",
    "                pn.pane.Markdown(code_ci),\n",
    "                text03,\n",
    "                viz3,\n",
    "                text3,\n",
    "                viz4,\n",
    "                text4,\n",
    "                viz5,\n",
    "                text5,\n",
    "                viz6,\n",
    "                text6,\n",
    "                viz7,\n",
    "                text7,\n",
    "                viz8,\n",
    "                text8,\n",
    "            )\n",
    "        ),\n",
    "    ],\n",
    ")\n",
    "template.servable();\n"
   ]
  },
  {
   "cell_type": "code",
   "execution_count": 497,
   "metadata": {},
   "outputs": [
    {
     "name": "stdout",
     "output_type": "stream",
     "text": [
      "Launching server at http://localhost:60989\n"
     ]
    },
    {
     "data": {
      "text/plain": [
       "<bokeh.server.server.Server at 0x7fadbb7d1e10>"
      ]
     },
     "execution_count": 497,
     "metadata": {},
     "output_type": "execute_result"
    },
    {
     "name": "stderr",
     "output_type": "stream",
     "text": [
      "WARNING:tornado.access:404 GET /static/extensions/panel/bundled/fastbasetemplate/images/header-columns-over-bg.gif (::1) 0.76ms\n"
     ]
    }
   ],
   "source": [
    "template.show()\n"
   ]
  },
  {
   "cell_type": "code",
   "execution_count": null,
   "metadata": {},
   "outputs": [],
   "source": []
  }
 ],
 "metadata": {
  "kernelspec": {
   "display_name": "Python 3",
   "language": "python",
   "name": "python3"
  },
  "language_info": {
   "codemirror_mode": {
    "name": "ipython",
    "version": 3
   },
   "file_extension": ".py",
   "mimetype": "text/x-python",
   "name": "python",
   "nbconvert_exporter": "python",
   "pygments_lexer": "ipython3",
   "version": "3.10.4"
  }
 },
 "nbformat": 4,
 "nbformat_minor": 0
}
