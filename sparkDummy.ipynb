{
 "cells": [
  {
   "cell_type": "code",
   "execution_count": 1,
   "metadata": {},
   "outputs": [],
   "source": [
    "import findspark as initiate_pyspark\n",
    "initiate_pyspark.init('/usr/local/spark')"
   ]
  },
  {
   "cell_type": "code",
   "execution_count": 2,
   "metadata": {},
   "outputs": [
    {
     "name": "stderr",
     "output_type": "stream",
     "text": [
      "WARNING: An illegal reflective access operation has occurred\n",
      "WARNING: Illegal reflective access by org.apache.spark.unsafe.Platform (file:/usr/local/spark/jars/spark-unsafe_2.12-3.2.1.jar) to constructor java.nio.DirectByteBuffer(long,int)\n",
      "WARNING: Please consider reporting this to the maintainers of org.apache.spark.unsafe.Platform\n",
      "WARNING: Use --illegal-access=warn to enable warnings of further illegal reflective access operations\n",
      "WARNING: All illegal access operations will be denied in a future release\n",
      "Using Spark's default log4j profile: org/apache/spark/log4j-defaults.properties\n",
      "Setting default log level to \"WARN\".\n",
      "To adjust logging level use sc.setLogLevel(newLevel). For SparkR, use setLogLevel(newLevel).\n",
      "22/06/03 01:10:31 WARN NativeCodeLoader: Unable to load native-hadoop library for your platform... using builtin-java classes where applicable\n"
     ]
    }
   ],
   "source": [
    "from pyspark.sql import SparkSession\n",
    "spark = SparkSession \\\n",
    "    .builder \\\n",
    "    .appName(\"sparkLoad\") \\\n",
    "    .getOrCreate()"
   ]
  },
  {
   "cell_type": "code",
   "execution_count": 3,
   "metadata": {},
   "outputs": [],
   "source": [
    "def load_table(name):\n",
    "    return spark.read \\\n",
    "    .format(\"jdbc\") \\\n",
    "    .option(\"url\", \"jdbc:postgresql://localhost:5432/yukontaf\") \\\n",
    "    .option(\"dbtable\", name) \\\n",
    "    .option(\"user\", \"glebsokolov\") \\\n",
    "    .option(\"password\", \"\") \\\n",
    "    .option(\"driver\", \"org.postgresql.Driver\") \\\n",
    "    .load()"
   ]
  },
  {
   "cell_type": "code",
   "execution_count": 5,
   "metadata": {},
   "outputs": [],
   "source": [
    "body = load_table('body_measurements')"
   ]
  },
  {
   "cell_type": "code",
   "execution_count": 9,
   "metadata": {},
   "outputs": [],
   "source": [
    "body.write.csv('body_measurements.csv', header=True)"
   ]
  },
  {
   "cell_type": "code",
   "execution_count": 7,
   "metadata": {},
   "outputs": [
    {
     "name": "stdout",
     "output_type": "stream",
     "text": [
      "+-----+-----+----------+-------------------+-----------------+------------------+----------------------+-------------------+------+\n",
      "|index|   ID|arm_length|chest_circumference|hip_circumference|neck_circumference|shoulder_circumference|waist_circumference|gender|\n",
      "+-----+-----+----------+-------------------+-----------------+------------------+----------------------+-------------------+------+\n",
      "|    0|17459|       536|                906|              335|               313|                   992|                716|female|\n",
      "|    1|17596|       525|               1077|              357|               361|                  1111|               1000|female|\n",
      "|    2|13889|       541|               1039|              349|               326|                  1032|               1000|female|\n",
      "|    3|17755|       532|                912|              368|               326|                  1050|                800|female|\n",
      "|    4|14055|       512|               1031|              346|               323|                  1029|                972|female|\n",
      "|    5|21593|       554|               1035|              397|               341|                  1111|                897|female|\n",
      "|    6|28848|       525|                925|              344|               317|                   948|                770|female|\n",
      "|    7|25281|       544|                882|              315|               310|                   948|                700|female|\n",
      "|    8|25751|       575|                922|              362|               342|                   990|                842|female|\n",
      "|    9|25583|       525|                848|              327|               304|                   956|                788|female|\n",
      "|   10|25614|       566|                983|              353|               339|                  1040|                882|female|\n",
      "|   11|23954|       560|                925|              313|               319|                   970|                741|female|\n",
      "|   12|25901|       517|               1040|              348|               357|                  1004|                940|female|\n",
      "|   13|18107|       565|               1009|              373|               334|                  1102|                947|female|\n",
      "|   14|17946|       575|                901|              346|               330|                  1063|                877|female|\n",
      "|   15|28171|       550|                850|              344|               312|                   993|                715|female|\n",
      "|   16|28728|       602|               1014|              366|               368|                  1138|                918|female|\n",
      "|   17|18186|       537|                850|              346|               313|                  1005|                768|female|\n",
      "|   18|23660|       515|                936|              341|               314|                   955|                820|female|\n",
      "|   19|25224|       533|                919|              360|               330|                   997|                868|female|\n",
      "+-----+-----+----------+-------------------+-----------------+------------------+----------------------+-------------------+------+\n",
      "only showing top 20 rows\n",
      "\n"
     ]
    }
   ],
   "source": [
    "body.show()"
   ]
  },
  {
   "cell_type": "code",
   "execution_count": 10,
   "metadata": {},
   "outputs": [
    {
     "name": "stdout",
     "output_type": "stream",
     "text": [
      "root\n",
      " |-- index: long (nullable = true)\n",
      " |-- ID: long (nullable = true)\n",
      " |-- arm_length: long (nullable = true)\n",
      " |-- chest_circumference: long (nullable = true)\n",
      " |-- hip_circumference: long (nullable = true)\n",
      " |-- neck_circumference: long (nullable = true)\n",
      " |-- shoulder_circumference: long (nullable = true)\n",
      " |-- waist_circumference: long (nullable = true)\n",
      " |-- gender: string (nullable = true)\n",
      "\n"
     ]
    }
   ],
   "source": [
    "body.printSchema()"
   ]
  },
  {
   "cell_type": "code",
   "execution_count": null,
   "metadata": {},
   "outputs": [],
   "source": []
  }
 ],
 "metadata": {
  "kernelspec": {
   "display_name": "Python 3.10.0 ('defaultenv')",
   "language": "python",
   "name": "python3"
  },
  "language_info": {
   "codemirror_mode": {
    "name": "ipython",
    "version": 3
   },
   "file_extension": ".py",
   "mimetype": "text/x-python",
   "name": "python",
   "nbconvert_exporter": "python",
   "pygments_lexer": "ipython3",
   "version": "3.10.0"
  },
  "orig_nbformat": 4,
  "vscode": {
   "interpreter": {
    "hash": "c1d7054af77ba560f87b9c7884b1cfb54f44503b6d572a00787a3ee06861aa5a"
   }
  }
 },
 "nbformat": 4,
 "nbformat_minor": 2
}
