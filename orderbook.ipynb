{
 "cells": [
  {
   "cell_type": "code",
   "execution_count": 1,
   "id": "b9ffa063",
   "metadata": {
    "execution": {
     "iopub.execute_input": "2021-11-26T20:46:33.962944Z",
     "iopub.status.busy": "2021-11-26T20:46:33.961847Z",
     "iopub.status.idle": "2021-11-26T20:46:35.013108Z",
     "shell.execute_reply": "2021-11-26T20:46:35.011990Z",
     "shell.execute_reply.started": "2021-11-26T20:43:53.648187Z"
    },
    "papermill": {
     "duration": 1.066079,
     "end_time": "2021-11-26T20:46:35.013310",
     "exception": false,
     "start_time": "2021-11-26T20:46:33.947231",
     "status": "completed"
    },
    "tags": []
   },
   "outputs": [],
   "source": [
    "import json\n",
    "import queue\n",
    "import threading\n",
    "from datetime import datetime\n",
    "from threading import Thread\n",
    "\n",
    "import numpy as np\n",
    "import requests\n",
    "from websocket import create_connection\n",
    "import time\n",
    "import matplotlib.pyplot as plt\n",
    "import seaborn as sns\n",
    "import pandas as pd\n",
    "from IPython.display import clear_output\n",
    "import matplotlib.ticker as ticker"
   ]
  },
  {
   "cell_type": "code",
   "execution_count": 2,
   "id": "8fb5fbdd",
   "metadata": {
    "execution": {
     "iopub.execute_input": "2021-11-26T20:46:35.036804Z",
     "iopub.status.busy": "2021-11-26T20:46:35.035831Z",
     "iopub.status.idle": "2021-11-26T20:46:35.040949Z",
     "shell.execute_reply": "2021-11-26T20:46:35.040353Z",
     "shell.execute_reply.started": "2021-11-25T08:29:23.947734Z"
    },
    "jupyter": {
     "source_hidden": true
    },
    "papermill": {
     "duration": 0.018375,
     "end_time": "2021-11-26T20:46:35.041107",
     "exception": false,
     "start_time": "2021-11-26T20:46:35.022732",
     "status": "completed"
    },
    "tags": []
   },
   "outputs": [],
   "source": [
    "# class Cache:\n",
    "#     def __init__(self):\n",
    "#         self.contents = np.array([])\n",
    "\n",
    "#     def read(self, stream):\n",
    "#         read_proc = threading.currentThread()\n",
    "#         while getattr(read_proc, \"do_run\", True):\n",
    "#             self.contents = np.append(self.contents, Message(stream.recieve()))\n",
    "#             if (\n",
    "#                 len(self.contents) > 2\n",
    "#                 and self.contents[-1].U != self.contents[-2].u + 1\n",
    "#             ):\n",
    "#                 print(\"?\")\n",
    "#                 stream.close()\n",
    "#                 break\n",
    "\n",
    "#     def clear_previous(self, book):\n",
    "#         id_start = 0\n",
    "#         for num, msg in enumerate(self.contents):\n",
    "#             if book.find_beg(msg):\n",
    "#                 id_start = num\n",
    "#         inds = list(range(id_start))\n",
    "#         np.delete(self.contents, inds)\n",
    "\n",
    "#     def clear(self):\n",
    "#         self.contents = np.array([])\n",
    "\n",
    "#     def length(self):\n",
    "#         return print(len(self.contents))\n",
    "\n",
    "#     def give(self):\n",
    "#         block = self.contents[0]\n",
    "#         np.delete(self.contents, 0)\n",
    "#         return block"
   ]
  },
  {
   "cell_type": "code",
   "execution_count": 3,
   "id": "b8f5219e",
   "metadata": {
    "execution": {
     "iopub.execute_input": "2021-11-26T20:46:35.067101Z",
     "iopub.status.busy": "2021-11-26T20:46:35.066395Z",
     "iopub.status.idle": "2021-11-26T20:46:35.067803Z",
     "shell.execute_reply": "2021-11-26T20:46:35.068301Z",
     "shell.execute_reply.started": "2021-11-26T15:36:11.08452Z"
    },
    "jupyter": {
     "source_hidden": true
    },
    "papermill": {
     "duration": 0.018267,
     "end_time": "2021-11-26T20:46:35.068497",
     "exception": false,
     "start_time": "2021-11-26T20:46:35.050230",
     "status": "completed"
    },
    "tags": []
   },
   "outputs": [],
   "source": [
    "class Stream:\n",
    "    def __init__(self, symbol):\n",
    "        self.endpoint = \"wss://stream.binance.com:9443/ws/\" + symbol.lower() + \"@depth\"\n",
    "        self.ws = create_connection(self.endpoint)\n",
    "\n",
    "    def close(self):\n",
    "        self.ws.close()\n",
    "\n",
    "    def recieve(self):\n",
    "        return json.loads(self.ws.recv())"
   ]
  },
  {
   "cell_type": "code",
   "execution_count": 4,
   "id": "1b961254",
   "metadata": {
    "execution": {
     "iopub.execute_input": "2021-11-26T20:46:35.093835Z",
     "iopub.status.busy": "2021-11-26T20:46:35.093178Z",
     "iopub.status.idle": "2021-11-26T20:46:35.100223Z",
     "shell.execute_reply": "2021-11-26T20:46:35.100710Z",
     "shell.execute_reply.started": "2021-11-26T15:44:01.552741Z"
    },
    "jupyter": {
     "source_hidden": true
    },
    "papermill": {
     "duration": 0.020128,
     "end_time": "2021-11-26T20:46:35.100905",
     "exception": false,
     "start_time": "2021-11-26T20:46:35.080777",
     "status": "completed"
    },
    "tags": []
   },
   "outputs": [],
   "source": [
    "class Message:\n",
    "    def __init__(self, message):\n",
    "        self.u, self.U = message[\"u\"], message[\"U\"]\n",
    "        if len(message['b']) != 0:\n",
    "            self.bids = np.array(message[\"b\"])[:, 0].astype(\"float\")\n",
    "            self.bq = np.array(message[\"b\"])[:, 1].astype(\"float\")\n",
    "        else:\n",
    "            self.bids, self.bq = np.array([]), np.array([])\n",
    "        if len(message['a']) != 0:\n",
    "            self.asks = np.array(message[\"a\"], dtype='float')[:,0]\n",
    "            self.aq =np.array(message[\"a\"], dtype='float')[:, 1]\n",
    "        else:\n",
    "            self.asks, self.aq = np.array([]), np.array([])\n",
    "        self.date = message[\"E\"] / 1000"
   ]
  },
  {
   "cell_type": "code",
   "execution_count": 5,
   "id": "1cadc1c5",
   "metadata": {
    "execution": {
     "iopub.execute_input": "2021-11-26T20:46:35.122637Z",
     "iopub.status.busy": "2021-11-26T20:46:35.121963Z",
     "iopub.status.idle": "2021-11-26T20:46:35.124609Z",
     "shell.execute_reply": "2021-11-26T20:46:35.125178Z"
    },
    "jupyter": {
     "source_hidden": true
    },
    "papermill": {
     "duration": 0.015197,
     "end_time": "2021-11-26T20:46:35.125397",
     "exception": false,
     "start_time": "2021-11-26T20:46:35.110200",
     "status": "completed"
    },
    "tags": []
   },
   "outputs": [],
   "source": [
    "#         self.book_dict = defaultdict()\n",
    "#         self.book_dict['bids'] = []\n",
    "#         for bid, bq in zip(self.bids, self.bq):\n",
    "#             self.book_dict[bid] = bq\n",
    "#             self.book_dict['bids'].append(self.book_dict[bid])\n",
    "#         self.book_dict['asks'] = []\n",
    "#         for ask, aq in zip(self.asks, self.aq):\n",
    "#             self.book_dict[ask] = aq\n",
    "#             self.book_dict['asks'].append(self.book_dict[ask])"
   ]
  },
  {
   "cell_type": "code",
   "execution_count": 6,
   "id": "808e8809",
   "metadata": {
    "execution": {
     "iopub.execute_input": "2021-11-26T20:46:35.155309Z",
     "iopub.status.busy": "2021-11-26T20:46:35.154555Z",
     "iopub.status.idle": "2021-11-26T20:46:35.155931Z",
     "shell.execute_reply": "2021-11-26T20:46:35.156400Z",
     "shell.execute_reply.started": "2021-11-26T20:41:34.333589Z"
    },
    "papermill": {
     "duration": 0.022152,
     "end_time": "2021-11-26T20:46:35.156619",
     "exception": false,
     "start_time": "2021-11-26T20:46:35.134467",
     "status": "completed"
    },
    "tags": []
   },
   "outputs": [],
   "source": [
    "class OrderBook:\n",
    "    def __init__(self, symbol):\n",
    "        self.endpoint = (\n",
    "            \"https://api.binance.com/api/v3/depth?symbol=\"\n",
    "            + symbol.upper()\n",
    "            + \"&limit=1000\"\n",
    "        )\n",
    "        self.snapshot = requests.get(self.endpoint).json()\n",
    "        self.lastUpdateId = self.snapshot[\"lastUpdateId\"]\n",
    "        self.bids = np.array(self.snapshot[\"bids\"])[:, 0].astype(\"float\")\n",
    "        self.bq = np.array(self.snapshot[\"bids\"])[:, 1].astype(\"float\")\n",
    "        self.asks, self.aq = np.array(self.snapshot[\"asks\"])[:, 0].astype(\n",
    "            \"float\"\n",
    "        ), np.array(self.snapshot[\"asks\"])[:, 1].astype(\"float\")\n",
    "    def find_beg(self, message):\n",
    "        if message.u <= self.lastUpdateId:\n",
    "            return False\n",
    "        elif message.U <= self.lastUpdateId + 1 and message.u >= self.lastUpdateId + 1:\n",
    "            return True\n",
    "\n",
    "    def update_bids(self, message):\n",
    "        for num, i in enumerate(message.bids):\n",
    "            ind = np.where(self.bids == i)\n",
    "            if ind[0].any():\n",
    "                if i == 0:\n",
    "                    np.delete(self.bids, ind)\n",
    "                else:\n",
    "                    self.bq[ind] += message.bq[num]\n",
    "            else:\n",
    "                np.searchsorted(self.bids, i)\n",
    "\n",
    "    def update_asks(self, message):\n",
    "        for num, i in enumerate(message.asks):\n",
    "            ind = np.where(self.asks == i)\n",
    "            if ind[0].any():\n",
    "                if i == 0:\n",
    "                    np.delete(self.asks, ind)\n",
    "                else:\n",
    "                    self.aq[ind] += message.aq[num]\n",
    "            else:\n",
    "                np.searchsorted(self.asks, i)"
   ]
  },
  {
   "cell_type": "code",
   "execution_count": 7,
   "id": "a447bd2b",
   "metadata": {
    "execution": {
     "iopub.execute_input": "2021-11-26T20:46:35.178057Z",
     "iopub.status.busy": "2021-11-26T20:46:35.177371Z",
     "iopub.status.idle": "2021-11-26T20:46:35.181070Z",
     "shell.execute_reply": "2021-11-26T20:46:35.181584Z",
     "shell.execute_reply.started": "2021-11-26T15:38:58.198774Z"
    },
    "jupyter": {
     "source_hidden": true
    },
    "papermill": {
     "duration": 0.016008,
     "end_time": "2021-11-26T20:46:35.181776",
     "exception": false,
     "start_time": "2021-11-26T20:46:35.165768",
     "status": "completed"
    },
    "tags": []
   },
   "outputs": [],
   "source": [
    "def producer(stream, t):\n",
    "    for i in range(10*60*t):\n",
    "        cacheQueue.put(stream.recieve())"
   ]
  },
  {
   "cell_type": "code",
   "execution_count": 8,
   "id": "40fbd346",
   "metadata": {
    "execution": {
     "iopub.execute_input": "2021-11-26T20:46:35.203385Z",
     "iopub.status.busy": "2021-11-26T20:46:35.202763Z",
     "iopub.status.idle": "2021-11-26T20:46:35.207107Z",
     "shell.execute_reply": "2021-11-26T20:46:35.207584Z",
     "shell.execute_reply.started": "2021-11-26T20:43:23.704251Z"
    },
    "papermill": {
     "duration": 0.016593,
     "end_time": "2021-11-26T20:46:35.207802",
     "exception": false,
     "start_time": "2021-11-26T20:46:35.191209",
     "status": "completed"
    },
    "tags": []
   },
   "outputs": [],
   "source": [
    "def create_dataframe():\n",
    "    bids_df = pd.DataFrame({'bids':book.bids, 'bq': book.bq})\n",
    "    asks_df = pd.DataFrame({'asks':book.asks, 'aq': book.aq})\n",
    "    data = bids_df\n",
    "    data['asks'], data['aq'] = asks_df['asks'], asks_df['aq']\n",
    "    data.sort_values(by=['aq', 'bq'])\n",
    "    return data"
   ]
  },
  {
   "cell_type": "code",
   "execution_count": 9,
   "id": "61880316",
   "metadata": {
    "execution": {
     "iopub.execute_input": "2021-11-26T20:46:35.229569Z",
     "iopub.status.busy": "2021-11-26T20:46:35.228840Z",
     "iopub.status.idle": "2021-11-26T20:46:35.235172Z",
     "shell.execute_reply": "2021-11-26T20:46:35.235630Z",
     "shell.execute_reply.started": "2021-11-26T17:24:07.299937Z"
    },
    "jupyter": {
     "source_hidden": true
    },
    "papermill": {
     "duration": 0.018965,
     "end_time": "2021-11-26T20:46:35.235835",
     "exception": false,
     "start_time": "2021-11-26T20:46:35.216870",
     "status": "completed"
    },
    "tags": []
   },
   "outputs": [],
   "source": [
    "dfs = []\n",
    "cacheQueue = queue.Queue()\n",
    "def construct_table(symbol, depth, period, t):\n",
    "    global stream, book\n",
    "    stream = Stream(symbol)\n",
    "    t1 = Thread(target=producer, args=(stream,t))\n",
    "    t1.start()\n",
    "    time.sleep(2)\n",
    "    book = OrderBook(symbol)\n",
    "\n",
    "    beg_time, cur_time = 0, 0\n",
    "    while True:\n",
    "        mes = Message(cacheQueue.get())\n",
    "        if not book.find_beg(mes):\n",
    "            beg_time = mes.date\n",
    "            break\n",
    "    c_time = 0\n",
    "    while c_time <= t*60:\n",
    "        while cur_time - beg_time < period:\n",
    "            mes = Message(cacheQueue.get())\n",
    "            cur_time = mes.date\n",
    "            book.update_bids(mes)\n",
    "            book.update_asks(mes)\n",
    "        beg_time = cur_time\n",
    "        dfs.append(create_dataframe())\n",
    "        print(dfs[-1].iloc[:5])\n",
    "        time.sleep(period)\n",
    "        c_time += period\n",
    "#     stream.close()"
   ]
  },
  {
   "cell_type": "code",
   "execution_count": 10,
   "id": "42f1938c",
   "metadata": {
    "execution": {
     "iopub.execute_input": "2021-11-26T20:46:35.261799Z",
     "iopub.status.busy": "2021-11-26T20:46:35.261151Z",
     "iopub.status.idle": "2021-11-26T20:46:35.262970Z",
     "shell.execute_reply": "2021-11-26T20:46:35.263401Z",
     "shell.execute_reply.started": "2021-11-26T18:09:35.796017Z"
    },
    "jupyter": {
     "source_hidden": true
    },
    "papermill": {
     "duration": 0.01885,
     "end_time": "2021-11-26T20:46:35.263583",
     "exception": false,
     "start_time": "2021-11-26T20:46:35.244733",
     "status": "completed"
    },
    "tags": []
   },
   "outputs": [],
   "source": [
    "def draw_plot(symbol, depth, refresh_rate, total_time):\n",
    "    dfs = []\n",
    "    for i in range(total_time*60):\n",
    "        clear_output(wait=True)\n",
    "        fig, ax = plt.subplots()\n",
    "        book = OrderBook(symbol)\n",
    "        dfs.append(create_dataframe().iloc[:depth, :])\n",
    "        sns.ecdfplot(x=\"bids\", weights=\"bq\", stat=\"count\", complementary=True, data=dfs[i], ax=ax)\n",
    "        sns.ecdfplot(x=\"asks\", weights=\"aq\", stat=\"count\", data=dfs[i], ax=ax)\n",
    "        ax.xaxis.set_major_formatter(ticker.FuncFormatter(lambda x, pos: '{:,.6f}'.format(x)))\n",
    "        ax.set_xlabel(\"Price\")\n",
    "        ax.set_ylabel(\"Quantity\")\n",
    "\n",
    "        plt.show()\n",
    "        time.sleep(refresh_rate)"
   ]
  },
  {
   "cell_type": "code",
   "execution_count": 11,
   "id": "a774cff3",
   "metadata": {
    "execution": {
     "iopub.execute_input": "2021-11-26T20:46:35.284777Z",
     "iopub.status.busy": "2021-11-26T20:46:35.284181Z",
     "iopub.status.idle": "2021-11-26T20:47:34.944469Z",
     "shell.execute_reply": "2021-11-26T20:47:34.943705Z"
    },
    "papermill": {
     "duration": 59.672144,
     "end_time": "2021-11-26T20:47:34.944636",
     "exception": false,
     "start_time": "2021-11-26T20:46:35.272492",
     "status": "completed"
    },
    "tags": []
   },
   "outputs": [
    {
     "data": {
      "image/png": "[encoded data removed]",
      "text/plain": [
       "<Figure size 864x432 with 1 Axes>"
      ]
     },
     "metadata": {
      "needs_background": "light"
     },
     "output_type": "display_data"
    }
   ],
   "source": [
    "symbol='bnbbtc'\n",
    "depth=10\n",
    "refresh_rate=0.5\n",
    "total_time=1\n",
    "dfs = []\n",
    "for i in range(total_time*60):\n",
    "    clear_output(wait=True)\n",
    "    fig, ax = plt.subplots(figsize=(12,6))\n",
    "    book = OrderBook(symbol)\n",
    "    dfs.append(create_dataframe().iloc[:depth, :])\n",
    "    sns.ecdfplot(x=\"bids\", weights=\"bq\", stat=\"count\", complementary=True, data=dfs[-1], ax=ax)\n",
    "    sns.ecdfplot(x=\"asks\", weights=\"aq\", stat=\"count\", data=dfs[-1], ax=ax)\n",
    "    ax.xaxis.set_major_formatter(ticker.FuncFormatter(lambda x, pos: '{:,.6f}'.format(x)))\n",
    "    ax.set_xlabel(\"Price\")\n",
    "    ax.set_ylabel(\"Quantity\")\n",
    "\n",
    "    plt.show()\n",
    "    dfs.pop(0)\n",
    "    time.sleep(refresh_rate)"
   ]
  },
  {
   "cell_type": "code",
   "execution_count": null,
   "id": "9cc48704",
   "metadata": {
    "papermill": {
     "duration": 0.009449,
     "end_time": "2021-11-26T20:47:34.964152",
     "exception": false,
     "start_time": "2021-11-26T20:47:34.954703",
     "status": "completed"
    },
    "tags": []
   },
   "outputs": [],
   "source": []
  }
 ],
 "metadata": {
  "kernelspec": {
   "display_name": "Python 3 (ipykernel)",
   "language": "python",
   "name": "python3"
  },
  "language_info": {
   "codemirror_mode": {
    "name": "ipython",
    "version": 3
   },
   "file_extension": ".py",
   "mimetype": "text/x-python",
   "name": "python",
   "nbconvert_exporter": "python",
   "pygments_lexer": "ipython3",
   "version": "3.10.4"
  },
  "papermill": {
   "default_parameters": {},
   "duration": 70.421624,
   "end_time": "2021-11-26T20:47:35.685832",
   "environment_variables": {},
   "exception": null,
   "input_path": "__notebook__.ipynb",
   "output_path": "__notebook__.ipynb",
   "parameters": {},
   "start_time": "2021-11-26T20:46:25.264208",
   "version": "2.3.3"
  }
 },
 "nbformat": 4,
 "nbformat_minor": 5
}
