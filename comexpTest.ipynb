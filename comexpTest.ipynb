{
 "cells": [
  {
   "cell_type": "code",
   "execution_count": 1,
   "metadata": {},
   "outputs": [],
   "source": [
    "from tensorflow import keras"
   ]
  },
  {
   "cell_type": "code",
   "execution_count": 2,
   "metadata": {},
   "outputs": [
    {
     "name": "stdout",
     "output_type": "stream",
     "text": [
      "Found 12240 files belonging to 3 classes.\n"
     ]
    },
    {
     "name": "stderr",
     "output_type": "stream",
     "text": [
      "2022-06-02 18:29:53.096713: I tensorflow/core/platform/cpu_feature_guard.cc:193] This TensorFlow binary is optimized with oneAPI Deep Neural Network Library (oneDNN) to use the following CPU instructions in performance-critical operations:  AVX2 FMA\n",
      "To enable them in other operations, rebuild TensorFlow with the appropriate compiler flags.\n"
     ]
    }
   ],
   "source": [
    "first = keras.preprocessing.image_dataset_from_directory('/Users/glebsokolov/Downloads/Test/Crops')"
   ]
  },
  {
   "cell_type": "code",
   "execution_count": 5,
   "metadata": {},
   "outputs": [],
   "source": [
    "import plotly.express as px"
   ]
  },
  {
   "cell_type": "code",
   "execution_count": 12,
   "metadata": {},
   "outputs": [
    {
     "data": {
      "text/plain": [
       "<BatchDataset element_spec=(TensorSpec(shape=(None, 256, 256, 3), dtype=tf.float32, name=None), TensorSpec(shape=(None,), dtype=tf.int32, name=None))>"
      ]
     },
     "execution_count": 12,
     "metadata": {},
     "output_type": "execute_result"
    }
   ],
   "source": [
    "first"
   ]
  },
  {
   "cell_type": "code",
   "execution_count": 6,
   "metadata": {},
   "outputs": [
    {
     "name": "stderr",
     "output_type": "stream",
     "text": [
      "/Volumes/Environment/conda/miniconda3/envs/defaultenv/lib/python3.10/site-packages/plotly/express/_imshow.py:323: VisibleDeprecationWarning:\n",
      "\n",
      "Creating an ndarray from ragged nested sequences (which is a list-or-tuple of lists-or-tuples-or ndarrays with different lengths or shapes) is deprecated. If you meant to do this, you must specify 'dtype=object' when creating the ndarray.\n",
      "\n"
     ]
    },
    {
     "ename": "ValueError",
     "evalue": "could not broadcast input array from shape (32,256,256,3) into shape (32,)",
     "output_type": "error",
     "traceback": [
      "\u001b[0;31m---------------------------------------------------------------------------\u001b[0m",
      "\u001b[0;31mValueError\u001b[0m                                Traceback (most recent call last)",
      "\u001b[1;32m/Users/glebsokolov/projects/comexpTest.ipynb Cell 4'\u001b[0m in \u001b[0;36m<cell line: 1>\u001b[0;34m()\u001b[0m\n\u001b[0;32m----> <a href='vscode-notebook-cell:/Users/glebsokolov/projects/comexpTest.ipynb#ch0000002?line=0'>1</a>\u001b[0m px\u001b[39m.\u001b[39;49mimshow(\u001b[39mnext\u001b[39;49m(\u001b[39miter\u001b[39;49m(first)))\n",
      "File \u001b[0;32m/Volumes/Environment/conda/miniconda3/envs/defaultenv/lib/python3.10/site-packages/plotly/express/_imshow.py:323\u001b[0m, in \u001b[0;36mimshow\u001b[0;34m(img, zmin, zmax, origin, labels, x, y, animation_frame, facet_col, facet_col_wrap, facet_col_spacing, facet_row_spacing, color_continuous_scale, color_continuous_midpoint, range_color, title, template, width, height, aspect, contrast_rescaling, binary_string, binary_backend, binary_compression_level, binary_format)\u001b[0m\n\u001b[1;32m    <a href='file:///Volumes/Environment/conda/miniconda3/envs/defaultenv/lib/python3.10/site-packages/plotly/express/_imshow.py?line=319'>320</a>\u001b[0m     is_dataframe \u001b[39m=\u001b[39m \u001b[39mFalse\u001b[39;00m\n\u001b[1;32m    <a href='file:///Volumes/Environment/conda/miniconda3/envs/defaultenv/lib/python3.10/site-packages/plotly/express/_imshow.py?line=321'>322</a>\u001b[0m \u001b[39m# --------------- Starting from here img is always a numpy array --------\u001b[39;00m\n\u001b[0;32m--> <a href='file:///Volumes/Environment/conda/miniconda3/envs/defaultenv/lib/python3.10/site-packages/plotly/express/_imshow.py?line=322'>323</a>\u001b[0m img \u001b[39m=\u001b[39m np\u001b[39m.\u001b[39;49masanyarray(img)\n\u001b[1;32m    <a href='file:///Volumes/Environment/conda/miniconda3/envs/defaultenv/lib/python3.10/site-packages/plotly/express/_imshow.py?line=323'>324</a>\u001b[0m \u001b[39m# Reshape array so that animation dimension comes first, then facets, then images\u001b[39;00m\n\u001b[1;32m    <a href='file:///Volumes/Environment/conda/miniconda3/envs/defaultenv/lib/python3.10/site-packages/plotly/express/_imshow.py?line=324'>325</a>\u001b[0m \u001b[39mif\u001b[39;00m facet_col \u001b[39mis\u001b[39;00m \u001b[39mnot\u001b[39;00m \u001b[39mNone\u001b[39;00m:\n",
      "\u001b[0;31mValueError\u001b[0m: could not broadcast input array from shape (32,256,256,3) into shape (32,)"
     ]
    }
   ],
   "source": [
    "px.imshow()"
   ]
  },
  {
   "cell_type": "code",
   "execution_count": null,
   "metadata": {},
   "outputs": [],
   "source": []
  }
 ],
 "metadata": {
  "kernelspec": {
   "display_name": "Python 3.10.0 ('defaultenv')",
   "language": "python",
   "name": "python3"
  },
  "language_info": {
   "codemirror_mode": {
    "name": "ipython",
    "version": 3
   },
   "file_extension": ".py",
   "mimetype": "text/x-python",
   "name": "python",
   "nbconvert_exporter": "python",
   "pygments_lexer": "ipython3",
   "version": "3.10.0"
  },
  "orig_nbformat": 4,
  "vscode": {
   "interpreter": {
    "hash": "c1d7054af77ba560f87b9c7884b1cfb54f44503b6d572a00787a3ee06861aa5a"
   }
  }
 },
 "nbformat": 4,
 "nbformat_minor": 2
}
