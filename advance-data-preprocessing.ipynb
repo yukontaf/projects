{
 "cells": [
  {
   "cell_type": "markdown",
   "id": "a22c4658",
   "metadata": {
    "papermill": {
     "duration": 0.075167,
     "end_time": "2022-04-14T14:28:36.449741",
     "exception": false,
     "start_time": "2022-04-14T14:28:36.374574",
     "status": "completed"
    },
    "tags": []
   },
   "source": [
    " <h1 style=\"text-align: center;\" class=\"list-group-item list-group-item-action active\">Table of Contents</h1>\n",
    "\n",
    "<ul style=\"list-style-type:none;\">\n",
    "        <li><a class=\"list-group-item list-group-item-action\" data-toggle=\"list\" href=\"#1\" role=\"tab\"\n",
    "                aria-controls=\"settings\">1. Introduction<span class=\"badge badge-primary badge-pill\">1</span></a>\n",
    "        </li>\n",
    "        <li><a class=\"list-group-item list-group-item-action\" data-toggle=\"list\" href=\"#2\" role=\"tab\"\n",
    "                aria-controls=\"settings\">2. Handling Missing Values<span\n",
    "                    class=\"badge badge-primary badge-pill\">2</span></a>\n",
    "            <ul style=\"list-style-type:none;\">\n",
    "                <li><a class=\"list-group-item list-group-item-action\" data-toggle=\"list\" href=\"#2.1\" role=\"tab\"\n",
    "                        aria-controls=\"settings\">2.1 Visualizing Missing Data <span\n",
    "                            class=\"badge badge-primary badge-pill\">3</span></a>\n",
    "                    <ul style=\"list-style-type:none;\">\n",
    "                        <li><a class=\"list-group-item list-group-item-action\" data-toggle=\"list\" href=\"#2.1.1\"\n",
    "                                role=\"tab\" aria-controls=\"settings\">2.1.1 Matrix <span\n",
    "                                    class=\"badge badge-primary badge-pill\">4</span></a></li>\n",
    "                        <li><a class=\"list-group-item list-group-item-action\" data-toggle=\"list\" href=\"#2.1.2\"\n",
    "                                role=\"tab\" aria-controls=\"settings\">2.1.2 Correlation Heatmap <span\n",
    "                                    class=\"badge badge-primary badge-pill\">5</span></a></li>\n",
    "                        <li><a class=\"list-group-item list-group-item-action\" data-toggle=\"list\" href=\"#2.1.3\"\n",
    "                                role=\"tab\" aria-controls=\"settings\">2.1.3 Dendrogram <span\n",
    "                                    class=\"badge badge-primary badge-pill\">6</span></a></li>\n",
    "                        <li><a class=\"list-group-item list-group-item-action\" data-toggle=\"list\" href=\"#2.1.4\"\n",
    "                                role=\"tab\" aria-controls=\"settings\">2.1.4 Simple Numeric Summaries<span\n",
    "                                    class=\"badge badge-primary badge-pill\">7</span></a></li>\n",
    "                    </ul>\n",
    "                </li>\n",
    "                <li><a class=\"list-group-item list-group-item-action\" data-toggle=\"list\" href=\"#2.2\" role=\"tab\"\n",
    "                        aria-controls=\"settings\">2.2 Method to Handle Missing Data<span\n",
    "                            class=\"badge badge-primary badge-pill\">8</span></a>\n",
    "                    <ul style=\"list-style-type:none;\">\n",
    "                        <li><a class=\"list-group-item list-group-item-action\" data-toggle=\"list\" href=\"#2.2.1\"\n",
    "                                role=\"tab\" aria-controls=\"settings\">2.2.1 Deletion of Data <span\n",
    "                                    class=\"badge badge-primary badge-pill\">9</span></a></li>\n",
    "                        <li><a class=\"list-group-item list-group-item-action\" data-toggle=\"list\" href=\"#2.2.2\"\n",
    "                                role=\"tab\" aria-controls=\"settings\">2.2.2 Encoding Missingness<span\n",
    "                                    class=\"badge badge-primary badge-pill\">10</span></a></li>\n",
    "                        <li><a class=\"list-group-item list-group-item-action\" data-toggle=\"list\" href=\"#2.2.3\"\n",
    "                                role=\"tab\" aria-controls=\"settings\">2.2.3 Imputation Methods<span\n",
    "                                    class=\"badge badge-primary badge-pill\">11</span></a></li>\n",
    "                    </ul>\n",
    "                </li>\n",
    "            </ul>\n",
    "        </li>\n",
    "        <li><a class=\"list-group-item list-group-item-action\" data-toggle=\"list\" href=\"#3\" role=\"tab\"\n",
    "                aria-controls=\"settings\">3. Encoding Categorical Attributes<span\n",
    "                    class=\"badge badge-primary badge-pill\">12</span></a>\n",
    "            <ul style=\"list-style-type:none;\">\n",
    "                <li><a class=\"list-group-item list-group-item-action\" data-toggle=\"list\" href=\"#3.1\" role=\"tab\"\n",
    "                        aria-controls=\"settings\">3.1 Supervised Encoding Methods <span\n",
    "                            class=\"badge badge-primary badge-pill\">13</span></a>\n",
    "                    <ul style=\"list-style-type:none;\">\n",
    "                        <li><a class=\"list-group-item list-group-item-action\" data-toggle=\"list\" href=\"#3.1.1\"\n",
    "                                role=\"tab\" aria-controls=\"settings\">3.1.1 Likelihood Encoding <span\n",
    "                                    class=\"badge badge-primary badge-pill\">14</span></a></li>\n",
    "                        <li><a class=\"list-group-item list-group-item-action\" data-toggle=\"list\" href=\"#3.1.2\"\n",
    "                                role=\"tab\" aria-controls=\"settings\">3.1.2 Target Encoding <span\n",
    "                                    class=\"badge badge-primary badge-pill\">15</span></a></li>\n",
    "                        <li><a class=\"list-group-item list-group-item-action\" data-toggle=\"list\" href=\"#3.1.3\"\n",
    "                                role=\"tab\" aria-controls=\"settings\">3.1.3 Deep Learning Methods <span\n",
    "                                    class=\"badge badge-primary badge-pill\">16</span></a></li>\n",
    "                    </ul>\n",
    "                </li>\n",
    "                <li><a class=\"list-group-item list-group-item-action\" data-toggle=\"list\" href=\"#3.2\" role=\"tab\"\n",
    "                        aria-controls=\"settings\">3.2 Approaches for Novel Categories<span\n",
    "                            class=\"badge badge-primary badge-pill\">17</span></a>\n",
    "            </ul>\n",
    "        </li>\n",
    "        <li><a class=\"list-group-item list-group-item-action\" data-toggle=\"list\" href=\"#4\" role=\"tab\"\n",
    "            aria-controls=\"settings\">4. References <span\n",
    "                class=\"badge badge-primary badge-pill\">18</span></a> </li>\n",
    "\n",
    "\n",
    " </ul>\n"
   ]
  },
  {
   "cell_type": "markdown",
   "id": "27be5136",
   "metadata": {
    "papermill": {
     "duration": 0.070844,
     "end_time": "2022-04-14T14:28:36.591475",
     "exception": false,
     "start_time": "2022-04-14T14:28:36.520631",
     "status": "completed"
    },
    "tags": []
   },
   "source": [
    "\n",
    "<h1  style=\"text-align: center\" class=\"list-group-item list-group-item-action active\">1. Introduction</h1><a id = \"1\" ></a>\n",
    "\n",
    "\n",
    "\n",
    "We all know the Importance of good features for machine learning models. In Machine learning task we have features which we need to process to make them good and this is done by data preprocessing  tasks.\n",
    "\n",
    "**Data Preprocessing** : Data preprocessing is a process of preparing the raw data and making it suitable for a machine learning model. It is the first and crucial step while creating a machine learning model. When creating a machine learning project, it is not always a case that we come across the clean and formatted data. And while doing any operation with data, it is mandatory to clean it and put in a formatted way. So for this, we use data preprocessing task.\n",
    "\n",
    "A real-world data generally contains noises, missing values, and maybe in an unusable format which cannot be directly used for machine learning models. Data preprocessing is required tasks for cleaning the data and making it suitable for a machine learning model which also increases the accuracy and efficiency of a machine learning model.\n",
    "\n",
    "Data Preprocessing involves below steps:\n",
    "\n",
    "- Getting the dataset\n",
    "- Importing libraries\n",
    "- Importing datasets\n",
    "- Finding Missing Data\n",
    "- Encoding Categorical Data\n",
    "\n",
    "Many of us know traditional approaches for above listed steps but in this notebook I will discuss some different approaches which could be game changer for your next project. "
   ]
  },
  {
   "cell_type": "code",
   "execution_count": 1,
   "id": "4401a0f6",
   "metadata": {
    "execution": {
     "iopub.execute_input": "2022-04-14T14:28:36.737293Z",
     "iopub.status.busy": "2022-04-14T14:28:36.736746Z",
     "iopub.status.idle": "2022-04-14T14:28:36.746286Z",
     "shell.execute_reply": "2022-04-14T14:28:36.745596Z"
    },
    "papermill": {
     "duration": 0.085874,
     "end_time": "2022-04-14T14:28:36.748536",
     "exception": false,
     "start_time": "2022-04-14T14:28:36.662662",
     "status": "completed"
    },
    "tags": []
   },
   "outputs": [],
   "source": [
    "import pandas as pd\n",
    "import numpy as np\n",
    "import matplotlib.pyplot as plt"
   ]
  },
  {
   "cell_type": "code",
   "execution_count": 2,
   "id": "b96ebd91",
   "metadata": {
    "execution": {
     "iopub.execute_input": "2022-04-14T14:28:36.893483Z",
     "iopub.status.busy": "2022-04-14T14:28:36.892952Z",
     "iopub.status.idle": "2022-04-14T14:28:38.074229Z",
     "shell.execute_reply": "2022-04-14T14:28:38.073266Z"
    },
    "papermill": {
     "duration": 1.259018,
     "end_time": "2022-04-14T14:28:38.078465",
     "exception": false,
     "start_time": "2022-04-14T14:28:36.819447",
     "status": "completed"
    },
    "tags": []
   },
   "outputs": [
    {
     "data": {
      "text/html": [
       "<div>\n",
       "<style scoped>\n",
       "    .dataframe tbody tr th:only-of-type {\n",
       "        vertical-align: middle;\n",
       "    }\n",
       "\n",
       "    .dataframe tbody tr th {\n",
       "        vertical-align: top;\n",
       "    }\n",
       "\n",
       "    .dataframe thead th {\n",
       "        text-align: right;\n",
       "    }\n",
       "</style>\n",
       "<table border=\"1\" class=\"dataframe\">\n",
       "  <thead>\n",
       "    <tr style=\"text-align: right;\">\n",
       "      <th></th>\n",
       "      <th>ID</th>\n",
       "      <th>year</th>\n",
       "      <th>loan_limit</th>\n",
       "      <th>Gender</th>\n",
       "      <th>approv_in_adv</th>\n",
       "      <th>loan_type</th>\n",
       "      <th>loan_purpose</th>\n",
       "      <th>Credit_Worthiness</th>\n",
       "      <th>open_credit</th>\n",
       "      <th>business_or_commercial</th>\n",
       "      <th>...</th>\n",
       "      <th>credit_type</th>\n",
       "      <th>Credit_Score</th>\n",
       "      <th>co-applicant_credit_type</th>\n",
       "      <th>age</th>\n",
       "      <th>submission_of_application</th>\n",
       "      <th>LTV</th>\n",
       "      <th>Region</th>\n",
       "      <th>Security_Type</th>\n",
       "      <th>Status</th>\n",
       "      <th>dtir1</th>\n",
       "    </tr>\n",
       "  </thead>\n",
       "  <tbody>\n",
       "    <tr>\n",
       "      <th>0</th>\n",
       "      <td>24890</td>\n",
       "      <td>2019</td>\n",
       "      <td>cf</td>\n",
       "      <td>Sex Not Available</td>\n",
       "      <td>nopre</td>\n",
       "      <td>type1</td>\n",
       "      <td>p1</td>\n",
       "      <td>l1</td>\n",
       "      <td>nopc</td>\n",
       "      <td>nob/c</td>\n",
       "      <td>...</td>\n",
       "      <td>EXP</td>\n",
       "      <td>758</td>\n",
       "      <td>CIB</td>\n",
       "      <td>25-34</td>\n",
       "      <td>to_inst</td>\n",
       "      <td>98.728814</td>\n",
       "      <td>south</td>\n",
       "      <td>direct</td>\n",
       "      <td>1</td>\n",
       "      <td>45.0</td>\n",
       "    </tr>\n",
       "    <tr>\n",
       "      <th>1</th>\n",
       "      <td>24891</td>\n",
       "      <td>2019</td>\n",
       "      <td>cf</td>\n",
       "      <td>Male</td>\n",
       "      <td>nopre</td>\n",
       "      <td>type2</td>\n",
       "      <td>p1</td>\n",
       "      <td>l1</td>\n",
       "      <td>nopc</td>\n",
       "      <td>b/c</td>\n",
       "      <td>...</td>\n",
       "      <td>EQUI</td>\n",
       "      <td>552</td>\n",
       "      <td>EXP</td>\n",
       "      <td>55-64</td>\n",
       "      <td>to_inst</td>\n",
       "      <td>NaN</td>\n",
       "      <td>North</td>\n",
       "      <td>direct</td>\n",
       "      <td>1</td>\n",
       "      <td>NaN</td>\n",
       "    </tr>\n",
       "    <tr>\n",
       "      <th>2</th>\n",
       "      <td>24892</td>\n",
       "      <td>2019</td>\n",
       "      <td>cf</td>\n",
       "      <td>Male</td>\n",
       "      <td>pre</td>\n",
       "      <td>type1</td>\n",
       "      <td>p1</td>\n",
       "      <td>l1</td>\n",
       "      <td>nopc</td>\n",
       "      <td>nob/c</td>\n",
       "      <td>...</td>\n",
       "      <td>EXP</td>\n",
       "      <td>834</td>\n",
       "      <td>CIB</td>\n",
       "      <td>35-44</td>\n",
       "      <td>to_inst</td>\n",
       "      <td>80.019685</td>\n",
       "      <td>south</td>\n",
       "      <td>direct</td>\n",
       "      <td>0</td>\n",
       "      <td>46.0</td>\n",
       "    </tr>\n",
       "    <tr>\n",
       "      <th>3</th>\n",
       "      <td>24893</td>\n",
       "      <td>2019</td>\n",
       "      <td>cf</td>\n",
       "      <td>Male</td>\n",
       "      <td>nopre</td>\n",
       "      <td>type1</td>\n",
       "      <td>p4</td>\n",
       "      <td>l1</td>\n",
       "      <td>nopc</td>\n",
       "      <td>nob/c</td>\n",
       "      <td>...</td>\n",
       "      <td>EXP</td>\n",
       "      <td>587</td>\n",
       "      <td>CIB</td>\n",
       "      <td>45-54</td>\n",
       "      <td>not_inst</td>\n",
       "      <td>69.376900</td>\n",
       "      <td>North</td>\n",
       "      <td>direct</td>\n",
       "      <td>0</td>\n",
       "      <td>42.0</td>\n",
       "    </tr>\n",
       "    <tr>\n",
       "      <th>4</th>\n",
       "      <td>24894</td>\n",
       "      <td>2019</td>\n",
       "      <td>cf</td>\n",
       "      <td>Joint</td>\n",
       "      <td>pre</td>\n",
       "      <td>type1</td>\n",
       "      <td>p1</td>\n",
       "      <td>l1</td>\n",
       "      <td>nopc</td>\n",
       "      <td>nob/c</td>\n",
       "      <td>...</td>\n",
       "      <td>CRIF</td>\n",
       "      <td>602</td>\n",
       "      <td>EXP</td>\n",
       "      <td>25-34</td>\n",
       "      <td>not_inst</td>\n",
       "      <td>91.886544</td>\n",
       "      <td>North</td>\n",
       "      <td>direct</td>\n",
       "      <td>0</td>\n",
       "      <td>39.0</td>\n",
       "    </tr>\n",
       "  </tbody>\n",
       "</table>\n",
       "<p>5 rows × 34 columns</p>\n",
       "</div>"
      ],
      "text/plain": [
       "      ID  year loan_limit             Gender approv_in_adv loan_type  \\\n",
       "0  24890  2019         cf  Sex Not Available         nopre     type1   \n",
       "1  24891  2019         cf               Male         nopre     type2   \n",
       "2  24892  2019         cf               Male           pre     type1   \n",
       "3  24893  2019         cf               Male         nopre     type1   \n",
       "4  24894  2019         cf              Joint           pre     type1   \n",
       "\n",
       "  loan_purpose Credit_Worthiness open_credit business_or_commercial  ...  \\\n",
       "0           p1                l1        nopc                  nob/c  ...   \n",
       "1           p1                l1        nopc                    b/c  ...   \n",
       "2           p1                l1        nopc                  nob/c  ...   \n",
       "3           p4                l1        nopc                  nob/c  ...   \n",
       "4           p1                l1        nopc                  nob/c  ...   \n",
       "\n",
       "   credit_type  Credit_Score  co-applicant_credit_type    age  \\\n",
       "0          EXP           758                       CIB  25-34   \n",
       "1         EQUI           552                       EXP  55-64   \n",
       "2          EXP           834                       CIB  35-44   \n",
       "3          EXP           587                       CIB  45-54   \n",
       "4         CRIF           602                       EXP  25-34   \n",
       "\n",
       "   submission_of_application        LTV Region Security_Type  Status dtir1  \n",
       "0                    to_inst  98.728814  south        direct       1  45.0  \n",
       "1                    to_inst        NaN  North        direct       1   NaN  \n",
       "2                    to_inst  80.019685  south        direct       0  46.0  \n",
       "3                   not_inst  69.376900  North        direct       0  42.0  \n",
       "4                   not_inst  91.886544  North        direct       0  39.0  \n",
       "\n",
       "[5 rows x 34 columns]"
      ]
     },
     "execution_count": 2,
     "metadata": {},
     "output_type": "execute_result"
    }
   ],
   "source": [
    "df = pd.read_csv(\"../input/loan-default-dataset/Loan_Default.csv\")\n",
    "df.head()"
   ]
  },
  {
   "cell_type": "code",
   "execution_count": 3,
   "id": "4b7102e8",
   "metadata": {
    "execution": {
     "iopub.execute_input": "2022-04-14T14:28:38.245254Z",
     "iopub.status.busy": "2022-04-14T14:28:38.244482Z",
     "iopub.status.idle": "2022-04-14T14:28:38.613172Z",
     "shell.execute_reply": "2022-04-14T14:28:38.612333Z"
    },
    "papermill": {
     "duration": 0.454718,
     "end_time": "2022-04-14T14:28:38.616135",
     "exception": false,
     "start_time": "2022-04-14T14:28:38.161417",
     "status": "completed"
    },
    "tags": []
   },
   "outputs": [
    {
     "name": "stdout",
     "output_type": "stream",
     "text": [
      "<class 'pandas.core.frame.DataFrame'>\n",
      "RangeIndex: 148670 entries, 0 to 148669\n",
      "Data columns (total 34 columns):\n",
      " #   Column                     Non-Null Count   Dtype  \n",
      "---  ------                     --------------   -----  \n",
      " 0   ID                         148670 non-null  int64  \n",
      " 1   year                       148670 non-null  int64  \n",
      " 2   loan_limit                 145326 non-null  object \n",
      " 3   Gender                     148670 non-null  object \n",
      " 4   approv_in_adv              147762 non-null  object \n",
      " 5   loan_type                  148670 non-null  object \n",
      " 6   loan_purpose               148536 non-null  object \n",
      " 7   Credit_Worthiness          148670 non-null  object \n",
      " 8   open_credit                148670 non-null  object \n",
      " 9   business_or_commercial     148670 non-null  object \n",
      " 10  loan_amount                148670 non-null  int64  \n",
      " 11  rate_of_interest           112231 non-null  float64\n",
      " 12  Interest_rate_spread       112031 non-null  float64\n",
      " 13  Upfront_charges            109028 non-null  float64\n",
      " 14  term                       148629 non-null  float64\n",
      " 15  Neg_ammortization          148549 non-null  object \n",
      " 16  interest_only              148670 non-null  object \n",
      " 17  lump_sum_payment           148670 non-null  object \n",
      " 18  property_value             133572 non-null  float64\n",
      " 19  construction_type          148670 non-null  object \n",
      " 20  occupancy_type             148670 non-null  object \n",
      " 21  Secured_by                 148670 non-null  object \n",
      " 22  total_units                148670 non-null  object \n",
      " 23  income                     139520 non-null  float64\n",
      " 24  credit_type                148670 non-null  object \n",
      " 25  Credit_Score               148670 non-null  int64  \n",
      " 26  co-applicant_credit_type   148670 non-null  object \n",
      " 27  age                        148470 non-null  object \n",
      " 28  submission_of_application  148470 non-null  object \n",
      " 29  LTV                        133572 non-null  float64\n",
      " 30  Region                     148670 non-null  object \n",
      " 31  Security_Type              148670 non-null  object \n",
      " 32  Status                     148670 non-null  int64  \n",
      " 33  dtir1                      124549 non-null  float64\n",
      "dtypes: float64(8), int64(5), object(21)\n",
      "memory usage: 38.6+ MB\n"
     ]
    }
   ],
   "source": [
    "df.info()"
   ]
  },
  {
   "cell_type": "markdown",
   "id": "c81180fb",
   "metadata": {
    "papermill": {
     "duration": 0.075734,
     "end_time": "2022-04-14T14:28:38.770469",
     "exception": false,
     "start_time": "2022-04-14T14:28:38.694735",
     "status": "completed"
    },
    "tags": []
   },
   "source": [
    "<h1  style=\"text-align: center\" class=\"list-group-item list-group-item-action active\">2. Handling Missing Values</h1><a id = \"2\" ></a>\n",
    "\n",
    "Missing data are not rare in real data sets. In fact, the chance that at least one data point is missing increases as the data set size increases. Missing data can occur any number of ways, some of which include the following.\n",
    "\n",
    "- Merging of source data sets\n",
    "- Random events\n",
    "- Failures of measurement\n",
    "\n"
   ]
  },
  {
   "cell_type": "markdown",
   "id": "94ad8eb1",
   "metadata": {
    "papermill": {
     "duration": 0.073689,
     "end_time": "2022-04-14T14:28:38.916605",
     "exception": false,
     "start_time": "2022-04-14T14:28:38.842916",
     "status": "completed"
    },
    "tags": []
   },
   "source": [
    "<h2  style=\"text-align: center\" class=\"list-group-item list-group-item-success\"> 2.1 Visualizing Missing Data</h2><a id = \"2.1\" ></a>\n",
    "\n",
    "\n",
    "Visualizations as well as numeric summaries are the first step in understanding the challenge of missing information in a data set. For small to moderate data (100s of samples and 100s of attributes), several techniques are available that allow the visualization of all of the samples and Attributes simultaneously.\n",
    "\n",
    "In this notebook I'll Cover Following visualizations for missing values:-\n",
    "- Matrix\n",
    "- Correlation Heatmap\n",
    "- Dendrogram\n",
    "- Simple numerical summaries\n",
    "\n",
    "Question may arise that why we need Visualizations?\n",
    "Because it is wise to explore relationships within the attributes that might be related to missingness. "
   ]
  },
  {
   "cell_type": "markdown",
   "id": "70f9f462",
   "metadata": {
    "papermill": {
     "duration": 0.073006,
     "end_time": "2022-04-14T14:28:39.063155",
     "exception": false,
     "start_time": "2022-04-14T14:28:38.990149",
     "status": "completed"
    },
    "tags": []
   },
   "source": [
    "<h3  style=\"text-align: center\" class=\"list-group-item list-group-item-warning\"> 2.1.1 Matrix</h3><a id = \"2.1.1\" ></a>\n",
    "\n",
    "It is the nullity matrix that allows us to see the distribution of data across all columns in the whole dataset. It also shows a sparkline (or, in some cases, a striped line) that emphasizes rows in a dataset with the highest and lowest nullity."
   ]
  },
  {
   "cell_type": "code",
   "execution_count": 4,
   "id": "32d3895f",
   "metadata": {
    "execution": {
     "iopub.execute_input": "2022-04-14T14:28:39.209319Z",
     "iopub.status.busy": "2022-04-14T14:28:39.209045Z",
     "iopub.status.idle": "2022-04-14T14:28:40.364042Z",
     "shell.execute_reply": "2022-04-14T14:28:40.362997Z"
    },
    "papermill": {
     "duration": 1.231127,
     "end_time": "2022-04-14T14:28:40.366686",
     "exception": false,
     "start_time": "2022-04-14T14:28:39.135559",
     "status": "completed"
    },
    "tags": []
   },
   "outputs": [],
   "source": [
    "import missingno as msno"
   ]
  },
  {
   "cell_type": "code",
   "execution_count": 5,
   "id": "d289e55b",
   "metadata": {
    "execution": {
     "iopub.execute_input": "2022-04-14T14:28:40.514446Z",
     "iopub.status.busy": "2022-04-14T14:28:40.513823Z",
     "iopub.status.idle": "2022-04-14T14:28:43.127275Z",
     "shell.execute_reply": "2022-04-14T14:28:43.126629Z"
    },
    "papermill": {
     "duration": 2.691366,
     "end_time": "2022-04-14T14:28:43.130106",
     "exception": false,
     "start_time": "2022-04-14T14:28:40.438740",
     "status": "completed"
    },
    "tags": []
   },
   "outputs": [
    {
     "data": {
      "image/png": "[encoded data removed]",
      "text/plain": [
       "<Figure size 1800x720 with 2 Axes>"
      ]
     },
     "metadata": {
      "needs_background": "light"
     },
     "output_type": "display_data"
    },
    {
     "data": {
      "text/plain": [
       "<Figure size 1080x648 with 0 Axes>"
      ]
     },
     "metadata": {},
     "output_type": "display_data"
    }
   ],
   "source": [
    "msno.matrix(df)\n",
    "plt.figure(figsize = (15,9))\n",
    "plt.show()"
   ]
  },
  {
   "cell_type": "markdown",
   "id": "43c096c3",
   "metadata": {
    "papermill": {
     "duration": 0.07539,
     "end_time": "2022-04-14T14:28:43.283476",
     "exception": false,
     "start_time": "2022-04-14T14:28:43.208086",
     "status": "completed"
    },
    "tags": []
   },
   "source": [
    "From the above plot we can interpret our dataset has lots of missing values in it "
   ]
  },
  {
   "cell_type": "markdown",
   "id": "3060590e",
   "metadata": {
    "papermill": {
     "duration": 0.075288,
     "end_time": "2022-04-14T14:28:43.434338",
     "exception": false,
     "start_time": "2022-04-14T14:28:43.359050",
     "status": "completed"
    },
    "tags": []
   },
   "source": [
    "<h3  style=\"text-align: center\" class=\"list-group-item list-group-item-warning\"> 2.1.2 Correlation Heatmap </h3><a id = \"2.1.2\" ></a>\n",
    "\n",
    "Correlation heatmap measures nullity correlation between columns of the dataset. It shows how strongly the presence or absence of one feature affects the other.\n",
    "\n",
    "Nullity correlation ranges from(-1 to 1):\n",
    "- -1 means if one column(attribute) is present, the other is almost certainly absent.\n",
    "- 0 means there is no dependence between the columns(attributes).\n",
    "- 1 means if one column(attributes) is present, the other is also certainly present.\n",
    "\n",
    "Unlike in a familiar correlation heatmap, if you see here, many columns are missing. Those columns which are always full or always empty have no meaningful correlation and are removed from the visualization.\n",
    "\n",
    "The heatmap is helpful for identifying data completeness correlations between attribute pairs, but it has the limited explanatory ability for broader relationships and no special support for really big datasets."
   ]
  },
  {
   "cell_type": "code",
   "execution_count": 6,
   "id": "a633b0d6",
   "metadata": {
    "execution": {
     "iopub.execute_input": "2022-04-14T14:28:43.588644Z",
     "iopub.status.busy": "2022-04-14T14:28:43.588322Z",
     "iopub.status.idle": "2022-04-14T14:28:44.902870Z",
     "shell.execute_reply": "2022-04-14T14:28:44.902109Z"
    },
    "papermill": {
     "duration": 1.394471,
     "end_time": "2022-04-14T14:28:44.905726",
     "exception": false,
     "start_time": "2022-04-14T14:28:43.511255",
     "status": "completed"
    },
    "tags": []
   },
   "outputs": [
    {
     "data": {
      "text/plain": [
       "<AxesSubplot:>"
      ]
     },
     "execution_count": 6,
     "metadata": {},
     "output_type": "execute_result"
    },
    {
     "data": {
      "image/png": "[encoded data removed]",
      "text/plain": [
       "<Figure size 1440x864 with 2 Axes>"
      ]
     },
     "metadata": {
      "needs_background": "light"
     },
     "output_type": "display_data"
    }
   ],
   "source": [
    "msno.heatmap(df, labels = True)"
   ]
  },
  {
   "cell_type": "markdown",
   "id": "e2e29658",
   "metadata": {
    "papermill": {
     "duration": 0.078414,
     "end_time": "2022-04-14T14:28:45.064202",
     "exception": false,
     "start_time": "2022-04-14T14:28:44.985788",
     "status": "completed"
    },
    "tags": []
   },
   "source": [
    "From above visualization we can easily interpret missingness of attribute rate_of_interest and upfront_charges is dependent on each other(correlation value = 1) means if one will be present another will be present. "
   ]
  },
  {
   "cell_type": "markdown",
   "id": "13600a25",
   "metadata": {
    "papermill": {
     "duration": 0.080878,
     "end_time": "2022-04-14T14:28:45.226684",
     "exception": false,
     "start_time": "2022-04-14T14:28:45.145806",
     "status": "completed"
    },
    "tags": []
   },
   "source": [
    "<h3  style=\"text-align: center\" class=\"list-group-item list-group-item-warning\"> 2.1.3 Dendrogram </h3><a id = \"2.1.3\" ></a>\n",
    "\n",
    "\n",
    "The dendrogram shows the hierarchical nullity relationship between columns. The dendrogram uses a hierarchical clustering algorithm against one another by their nullity correlation.\n",
    "\n",
    "[More about Hierarchical Clustering Algorithm](http://docs.scipy.org/doc/scipy/reference/cluster.hierarchy.html)"
   ]
  },
  {
   "cell_type": "code",
   "execution_count": 7,
   "id": "834eb1a1",
   "metadata": {
    "execution": {
     "iopub.execute_input": "2022-04-14T14:28:45.387695Z",
     "iopub.status.busy": "2022-04-14T14:28:45.387185Z",
     "iopub.status.idle": "2022-04-14T14:28:45.749674Z",
     "shell.execute_reply": "2022-04-14T14:28:45.748971Z"
    },
    "papermill": {
     "duration": 0.445322,
     "end_time": "2022-04-14T14:28:45.751564",
     "exception": false,
     "start_time": "2022-04-14T14:28:45.306242",
     "status": "completed"
    },
    "tags": []
   },
   "outputs": [
    {
     "data": {
      "text/plain": [
       "['loan_limit',\n",
       " 'approv_in_adv',\n",
       " 'loan_purpose',\n",
       " 'rate_of_interest',\n",
       " 'Interest_rate_spread',\n",
       " 'Upfront_charges',\n",
       " 'term',\n",
       " 'Neg_ammortization',\n",
       " 'property_value',\n",
       " 'income',\n",
       " 'age',\n",
       " 'submission_of_application',\n",
       " 'LTV',\n",
       " 'dtir1']"
      ]
     },
     "execution_count": 7,
     "metadata": {},
     "output_type": "execute_result"
    }
   ],
   "source": [
    "# Columns having missing values\n",
    "missing_columns = [col for col in df.columns if df[col].isnull().sum() > 0]\n",
    "missing_columns"
   ]
  },
  {
   "cell_type": "code",
   "execution_count": 8,
   "id": "05ff4d15",
   "metadata": {
    "execution": {
     "iopub.execute_input": "2022-04-14T14:28:45.913924Z",
     "iopub.status.busy": "2022-04-14T14:28:45.913501Z",
     "iopub.status.idle": "2022-04-14T14:28:46.458622Z",
     "shell.execute_reply": "2022-04-14T14:28:46.457700Z"
    },
    "papermill": {
     "duration": 0.628518,
     "end_time": "2022-04-14T14:28:46.461319",
     "exception": false,
     "start_time": "2022-04-14T14:28:45.832801",
     "status": "completed"
    },
    "tags": []
   },
   "outputs": [
    {
     "data": {
      "text/plain": [
       "<AxesSubplot:>"
      ]
     },
     "execution_count": 8,
     "metadata": {},
     "output_type": "execute_result"
    },
    {
     "data": {
      "image/png": "[encoded data removed]",
      "text/plain": [
       "<Figure size 1800x720 with 1 Axes>"
      ]
     },
     "metadata": {
      "needs_background": "light"
     },
     "output_type": "display_data"
    }
   ],
   "source": [
    "msno.dendrogram(df[missing_columns])"
   ]
  },
  {
   "cell_type": "markdown",
   "id": "8357a7df",
   "metadata": {
    "papermill": {
     "duration": 0.083146,
     "end_time": "2022-04-14T14:28:46.626399",
     "exception": false,
     "start_time": "2022-04-14T14:28:46.543253",
     "status": "completed"
    },
    "tags": []
   },
   "source": [
    "We interpret the dendrogram based on a top-down approach, i.e., to focus on the height at which any two columns are joined together with matters of nullity. More will be the height less will be the relation and vice versa is also True. \n",
    "\n",
    "For example if we see pair of attributes LTV and property value has height 0 implies they are highly correlated in case of nullity. Similarly attribute LTV and rate_of_interest have maximum height implies they are less correlated with each other.  "
   ]
  },
  {
   "cell_type": "markdown",
   "id": "c8ce1de1",
   "metadata": {
    "papermill": {
     "duration": 0.08237,
     "end_time": "2022-04-14T14:28:46.792729",
     "exception": false,
     "start_time": "2022-04-14T14:28:46.710359",
     "status": "completed"
    },
    "tags": []
   },
   "source": [
    "<h3  style=\"text-align: center\" class=\"list-group-item list-group-item-warning\"> 2.1.4 Simple Numerical Summaries </h3><a id = \"2.1.4\" ></a>\n",
    "\n",
    "\n",
    "Moving Forward lets try to analyse numerical summary of missing attributes. Simple numerical summaries are effective at identifying problematic predictors and samples when the data become too large to visually inspect."
   ]
  },
  {
   "cell_type": "code",
   "execution_count": 9,
   "id": "90443c3f",
   "metadata": {
    "execution": {
     "iopub.execute_input": "2022-04-14T14:28:46.959435Z",
     "iopub.status.busy": "2022-04-14T14:28:46.959017Z",
     "iopub.status.idle": "2022-04-14T14:28:46.965072Z",
     "shell.execute_reply": "2022-04-14T14:28:46.964180Z"
    },
    "papermill": {
     "duration": 0.092352,
     "end_time": "2022-04-14T14:28:46.967154",
     "exception": false,
     "start_time": "2022-04-14T14:28:46.874802",
     "status": "completed"
    },
    "tags": []
   },
   "outputs": [],
   "source": [
    "def get_numerical_summary(df):\n",
    "    total = df.shape[0]\n",
    "    missing_columns = [col for col in df.columns if df[col].isnull().sum() > 0]\n",
    "    missing_percent = {}\n",
    "    for col in missing_columns:\n",
    "        null_count = df[col].isnull().sum()\n",
    "        per = (null_count/total) * 100\n",
    "        missing_percent[col] = per\n",
    "        print(\"{} : {} ({}%)\".format(col, null_count, round(per, 3)))\n",
    "    return missing_percent"
   ]
  },
  {
   "cell_type": "code",
   "execution_count": 10,
   "id": "33a54f20",
   "metadata": {
    "execution": {
     "iopub.execute_input": "2022-04-14T14:28:47.134511Z",
     "iopub.status.busy": "2022-04-14T14:28:47.134069Z",
     "iopub.status.idle": "2022-04-14T14:28:47.590937Z",
     "shell.execute_reply": "2022-04-14T14:28:47.589422Z"
    },
    "papermill": {
     "duration": 0.542852,
     "end_time": "2022-04-14T14:28:47.593527",
     "exception": false,
     "start_time": "2022-04-14T14:28:47.050675",
     "status": "completed"
    },
    "tags": []
   },
   "outputs": [
    {
     "name": "stdout",
     "output_type": "stream",
     "text": [
      "loan_limit : 3344 (2.249%)\n",
      "approv_in_adv : 908 (0.611%)\n",
      "loan_purpose : 134 (0.09%)\n",
      "rate_of_interest : 36439 (24.51%)\n",
      "Interest_rate_spread : 36639 (24.645%)\n",
      "Upfront_charges : 39642 (26.664%)\n",
      "term : 41 (0.028%)\n",
      "Neg_ammortization : 121 (0.081%)\n",
      "property_value : 15098 (10.155%)\n",
      "income : 9150 (6.155%)\n",
      "age : 200 (0.135%)\n",
      "submission_of_application : 200 (0.135%)\n",
      "LTV : 15098 (10.155%)\n",
      "dtir1 : 24121 (16.225%)\n"
     ]
    }
   ],
   "source": [
    "missing_percent = get_numerical_summary(df)"
   ]
  },
  {
   "cell_type": "markdown",
   "id": "ec8cd4bc",
   "metadata": {
    "papermill": {
     "duration": 0.08464,
     "end_time": "2022-04-14T14:28:47.764213",
     "exception": false,
     "start_time": "2022-04-14T14:28:47.679573",
     "status": "completed"
    },
    "tags": []
   },
   "source": [
    "Now I guess visualization part is done lets move forward to methods which we can use to handle missing values."
   ]
  },
  {
   "cell_type": "markdown",
   "id": "0f5922dd",
   "metadata": {
    "papermill": {
     "duration": 0.082712,
     "end_time": "2022-04-14T14:28:47.932066",
     "exception": false,
     "start_time": "2022-04-14T14:28:47.849354",
     "status": "completed"
    },
    "tags": []
   },
   "source": [
    "\n",
    "<h2  style=\"text-align: center\" class=\"list-group-item list-group-item-success\"> 2.2 Methods to Handle Missing Data</h2><a id = \"2.2\" ></a>\n",
    "\n",
    "As we Know if our data has missing values than our model will not train except few models which can tolerate them like some tree based models but the point is we want to handle this and how can we handle them. So, in this notebook to handle missing data I will discuss following techniques :-\n",
    "\n",
    "- Deletion of Data \n",
    "- Encoding Missingness\n",
    "- Imputation Methods\n"
   ]
  },
  {
   "cell_type": "markdown",
   "id": "bedf6f40",
   "metadata": {
    "papermill": {
     "duration": 0.085186,
     "end_time": "2022-04-14T14:28:48.101552",
     "exception": false,
     "start_time": "2022-04-14T14:28:48.016366",
     "status": "completed"
    },
    "tags": []
   },
   "source": [
    "<h3  style=\"text-align: center\" class=\"list-group-item list-group-item-warning\"> 2.2.1 Deletion of Data </h3><a id = \"2.2.1\" ></a>\n",
    "\n",
    "\n",
    "\n",
    "The simplest approach for dealing with missing values is to remove entire attribute(s) and/or sample(s) that contain missing values. However, one must carefully consider a number of aspects of the data prior to taking this approach. For example, missing values could be eliminated by removing all predictors that contain at least one missing value. Similarly, missing values could be eliminated by removing all samples with any missing values.\n",
    "\n",
    "**Note: When it is difficult to obtain samples or when the data contain a small number of samples (i.e., rows), then it is not desirable to remove samples from the data.**\n",
    "\n",
    "Consider this small intuition shown below\n",
    "\n",
    "Let M = Number of Samples(rows).\\\n",
    "and Let N = Number of Attributes(columns).\n",
    "\n",
    "\n",
    "Case 1: Deletion of Attributes\n",
    "\n",
    "If N has range of [1-10]\\\n",
    "Then don't delete the attribute that contain missing values but if that attribute has missing values around 80-90% then deletion of that attribute will be good option instead of just predicting values of those 80-90% data based on that 10-20% data. \n",
    "\n",
    "Case 2: Deletion of Samples\n",
    "\n",
    "If M is a large number according to your task\\\n",
    "Then deletion of sample can be a Good step but if that sample has few missing values with respect to attribute, then you should consider methods to fill those missing values.\n",
    "\n",
    "Lets move on to the implementation part, I will just show how to delete data for both cases but you can interpret more according to your tasks."
   ]
  },
  {
   "cell_type": "markdown",
   "id": "1a40d2a8",
   "metadata": {
    "papermill": {
     "duration": 0.082762,
     "end_time": "2022-04-14T14:28:48.267130",
     "exception": false,
     "start_time": "2022-04-14T14:28:48.184368",
     "status": "completed"
    },
    "tags": []
   },
   "source": [
    "**Deletion of an Attribute**\n",
    "\n",
    "According to Simple numerical Summaries the attribute Upfront_charges has largest missing values percentage of (26.664%) which is not ideal percentage to remove a feature but just for sake of implementation I will remove that feature."
   ]
  },
  {
   "cell_type": "code",
   "execution_count": 11,
   "id": "d8439b2e",
   "metadata": {
    "execution": {
     "iopub.execute_input": "2022-04-14T14:28:48.434863Z",
     "iopub.status.busy": "2022-04-14T14:28:48.434553Z",
     "iopub.status.idle": "2022-04-14T14:28:48.479105Z",
     "shell.execute_reply": "2022-04-14T14:28:48.478085Z"
    },
    "papermill": {
     "duration": 0.13057,
     "end_time": "2022-04-14T14:28:48.481516",
     "exception": false,
     "start_time": "2022-04-14T14:28:48.350946",
     "status": "completed"
    },
    "tags": []
   },
   "outputs": [],
   "source": [
    "df_temp = df.copy()"
   ]
  },
  {
   "cell_type": "code",
   "execution_count": 12,
   "id": "eb5f0011",
   "metadata": {
    "execution": {
     "iopub.execute_input": "2022-04-14T14:28:48.650855Z",
     "iopub.status.busy": "2022-04-14T14:28:48.650531Z",
     "iopub.status.idle": "2022-04-14T14:28:48.698970Z",
     "shell.execute_reply": "2022-04-14T14:28:48.697901Z"
    },
    "papermill": {
     "duration": 0.136013,
     "end_time": "2022-04-14T14:28:48.701547",
     "exception": false,
     "start_time": "2022-04-14T14:28:48.565534",
     "status": "completed"
    },
    "tags": []
   },
   "outputs": [],
   "source": [
    "# Threshold to remove attribute having missing values greater than threshold\n",
    "ATTRIBUTE_THRESHOLD = 25 #25% in this case \n",
    "\n",
    "for col, per in missing_percent.items():\n",
    "    if per > ATTRIBUTE_THRESHOLD:\n",
    "        df_temp.drop(col, axis = 1, inplace = True)\n"
   ]
  },
  {
   "cell_type": "markdown",
   "id": "3eaaa995",
   "metadata": {
    "papermill": {
     "duration": 0.083689,
     "end_time": "2022-04-14T14:28:48.867704",
     "exception": false,
     "start_time": "2022-04-14T14:28:48.784015",
     "status": "completed"
    },
    "tags": []
   },
   "source": [
    "By generating numerical summary of df_temp we can see now attribute Upfont_chargers being removed from the dataset as it has missing values percentage greater than threshold we defined"
   ]
  },
  {
   "cell_type": "code",
   "execution_count": 13,
   "id": "73ac2933",
   "metadata": {
    "execution": {
     "iopub.execute_input": "2022-04-14T14:28:49.036683Z",
     "iopub.status.busy": "2022-04-14T14:28:49.036142Z",
     "iopub.status.idle": "2022-04-14T14:28:49.491850Z",
     "shell.execute_reply": "2022-04-14T14:28:49.490962Z"
    },
    "papermill": {
     "duration": 0.543337,
     "end_time": "2022-04-14T14:28:49.494444",
     "exception": false,
     "start_time": "2022-04-14T14:28:48.951107",
     "status": "completed"
    },
    "tags": []
   },
   "outputs": [
    {
     "name": "stdout",
     "output_type": "stream",
     "text": [
      "loan_limit : 3344 (2.249%)\n",
      "approv_in_adv : 908 (0.611%)\n",
      "loan_purpose : 134 (0.09%)\n",
      "rate_of_interest : 36439 (24.51%)\n",
      "Interest_rate_spread : 36639 (24.645%)\n",
      "term : 41 (0.028%)\n",
      "Neg_ammortization : 121 (0.081%)\n",
      "property_value : 15098 (10.155%)\n",
      "income : 9150 (6.155%)\n",
      "age : 200 (0.135%)\n",
      "submission_of_application : 200 (0.135%)\n",
      "LTV : 15098 (10.155%)\n",
      "dtir1 : 24121 (16.225%)\n"
     ]
    }
   ],
   "source": [
    "_ = get_numerical_summary(df_temp)"
   ]
  },
  {
   "cell_type": "code",
   "execution_count": 14,
   "id": "3bea3779",
   "metadata": {
    "execution": {
     "iopub.execute_input": "2022-04-14T14:28:49.662699Z",
     "iopub.status.busy": "2022-04-14T14:28:49.662396Z",
     "iopub.status.idle": "2022-04-14T14:28:49.675680Z",
     "shell.execute_reply": "2022-04-14T14:28:49.674674Z"
    },
    "papermill": {
     "duration": 0.100192,
     "end_time": "2022-04-14T14:28:49.677860",
     "exception": false,
     "start_time": "2022-04-14T14:28:49.577668",
     "status": "completed"
    },
    "tags": []
   },
   "outputs": [],
   "source": [
    "del df_temp"
   ]
  },
  {
   "cell_type": "markdown",
   "id": "ba780be9",
   "metadata": {
    "papermill": {
     "duration": 0.0835,
     "end_time": "2022-04-14T14:28:49.846154",
     "exception": false,
     "start_time": "2022-04-14T14:28:49.762654",
     "status": "completed"
    },
    "tags": []
   },
   "source": [
    "**Deletion of the Samples**\n",
    "\n",
    "We will try to delete those samples having missing values in more than 5 attributes  "
   ]
  },
  {
   "cell_type": "code",
   "execution_count": 15,
   "id": "466550fe",
   "metadata": {
    "execution": {
     "iopub.execute_input": "2022-04-14T14:28:50.016323Z",
     "iopub.status.busy": "2022-04-14T14:28:50.015556Z",
     "iopub.status.idle": "2022-04-14T14:28:50.060648Z",
     "shell.execute_reply": "2022-04-14T14:28:50.059686Z"
    },
    "papermill": {
     "duration": 0.134007,
     "end_time": "2022-04-14T14:28:50.062972",
     "exception": false,
     "start_time": "2022-04-14T14:28:49.928965",
     "status": "completed"
    },
    "tags": []
   },
   "outputs": [],
   "source": [
    "df_temp = df.copy()"
   ]
  },
  {
   "cell_type": "code",
   "execution_count": 16,
   "id": "fbd25c38",
   "metadata": {
    "execution": {
     "iopub.execute_input": "2022-04-14T14:28:50.232095Z",
     "iopub.status.busy": "2022-04-14T14:28:50.231257Z",
     "iopub.status.idle": "2022-04-14T14:31:21.319838Z",
     "shell.execute_reply": "2022-04-14T14:31:21.318809Z"
    },
    "papermill": {
     "duration": 151.175947,
     "end_time": "2022-04-14T14:31:21.322669",
     "exception": false,
     "start_time": "2022-04-14T14:28:50.146722",
     "status": "completed"
    },
    "tags": []
   },
   "outputs": [],
   "source": [
    "# Getting Missing count of each sample            \n",
    "\n",
    "for idx in range(df_temp.shape[0]):\n",
    "    df_temp.loc[idx, 'missing_count'] = df_temp.iloc[idx, :].isnull().sum()  "
   ]
  },
  {
   "cell_type": "code",
   "execution_count": 17,
   "id": "34bb5ed0",
   "metadata": {
    "execution": {
     "iopub.execute_input": "2022-04-14T14:31:21.492859Z",
     "iopub.status.busy": "2022-04-14T14:31:21.492298Z",
     "iopub.status.idle": "2022-04-14T14:31:21.561560Z",
     "shell.execute_reply": "2022-04-14T14:31:21.560576Z"
    },
    "papermill": {
     "duration": 0.157654,
     "end_time": "2022-04-14T14:31:21.563898",
     "exception": false,
     "start_time": "2022-04-14T14:31:21.406244",
     "status": "completed"
    },
    "tags": []
   },
   "outputs": [
    {
     "name": "stdout",
     "output_type": "stream",
     "text": [
      "Samples Before Removal : 148670\n",
      "Samples After Removal : 132360\n"
     ]
    }
   ],
   "source": [
    "# Threshold to remove samples having missing values greater than threshold\n",
    "SAMPLE_THRESHOLD = 5\n",
    "\n",
    "print(\"Samples Before Removal : {}\".format(df_temp.shape[0]))\n",
    "\n",
    "df_temp.drop(df_temp[df_temp['missing_count'] > SAMPLE_THRESHOLD].index, axis = 0, inplace = True)\n",
    "\n",
    "print(\"Samples After Removal : {}\".format(df_temp.shape[0]))\n"
   ]
  },
  {
   "cell_type": "code",
   "execution_count": 18,
   "id": "cc72ea23",
   "metadata": {
    "execution": {
     "iopub.execute_input": "2022-04-14T14:31:21.733628Z",
     "iopub.status.busy": "2022-04-14T14:31:21.733302Z",
     "iopub.status.idle": "2022-04-14T14:31:21.745981Z",
     "shell.execute_reply": "2022-04-14T14:31:21.745339Z"
    },
    "papermill": {
     "duration": 0.101122,
     "end_time": "2022-04-14T14:31:21.747834",
     "exception": false,
     "start_time": "2022-04-14T14:31:21.646712",
     "status": "completed"
    },
    "tags": []
   },
   "outputs": [],
   "source": [
    "del df_temp"
   ]
  },
  {
   "cell_type": "markdown",
   "id": "7544ce0b",
   "metadata": {
    "papermill": {
     "duration": 0.082796,
     "end_time": "2022-04-14T14:31:21.915352",
     "exception": false,
     "start_time": "2022-04-14T14:31:21.832556",
     "status": "completed"
    },
    "tags": []
   },
   "source": [
    "<h3  style=\"text-align: center\" class=\"list-group-item list-group-item-warning\"> 2.2.2 Encoding Missingness </h3><a id = \"2.2.2\" ></a>\n",
    "\n",
    "\n",
    "\n",
    "When an attribute is discrete in nature, missingness can be directly encoded into the attribute as if it were a naturally occurring category. For example in this dataset the attribute loan_limit has 3344 missing values so we can assign some new category to these missing values. "
   ]
  },
  {
   "cell_type": "code",
   "execution_count": 19,
   "id": "da05420b",
   "metadata": {
    "execution": {
     "iopub.execute_input": "2022-04-14T14:31:22.085816Z",
     "iopub.status.busy": "2022-04-14T14:31:22.084935Z",
     "iopub.status.idle": "2022-04-14T14:31:22.092056Z",
     "shell.execute_reply": "2022-04-14T14:31:22.091375Z"
    },
    "papermill": {
     "duration": 0.09394,
     "end_time": "2022-04-14T14:31:22.093785",
     "exception": false,
     "start_time": "2022-04-14T14:31:21.999845",
     "status": "completed"
    },
    "tags": []
   },
   "outputs": [
    {
     "data": {
      "text/plain": [
       "['loan_limit',\n",
       " 'approv_in_adv',\n",
       " 'loan_purpose',\n",
       " 'Neg_ammortization',\n",
       " 'age',\n",
       " 'submission_of_application']"
      ]
     },
     "execution_count": 19,
     "metadata": {},
     "output_type": "execute_result"
    }
   ],
   "source": [
    "cat_missing_cols = [col for col in missing_columns if df[col].dtype == 'object']\n",
    "cat_missing_cols"
   ]
  },
  {
   "cell_type": "code",
   "execution_count": 20,
   "id": "52bc8e98",
   "metadata": {
    "execution": {
     "iopub.execute_input": "2022-04-14T14:31:22.263725Z",
     "iopub.status.busy": "2022-04-14T14:31:22.263191Z",
     "iopub.status.idle": "2022-04-14T14:31:22.293181Z",
     "shell.execute_reply": "2022-04-14T14:31:22.292200Z"
    },
    "papermill": {
     "duration": 0.118306,
     "end_time": "2022-04-14T14:31:22.295742",
     "exception": false,
     "start_time": "2022-04-14T14:31:22.177436",
     "status": "completed"
    },
    "tags": []
   },
   "outputs": [
    {
     "data": {
      "text/plain": [
       "cf     135348\n",
       "ncf      9978\n",
       "Name: loan_limit, dtype: int64"
      ]
     },
     "execution_count": 20,
     "metadata": {},
     "output_type": "execute_result"
    }
   ],
   "source": [
    "df.loan_limit.value_counts()"
   ]
  },
  {
   "cell_type": "code",
   "execution_count": 21,
   "id": "4849b9fa",
   "metadata": {
    "execution": {
     "iopub.execute_input": "2022-04-14T14:31:22.465366Z",
     "iopub.status.busy": "2022-04-14T14:31:22.465056Z",
     "iopub.status.idle": "2022-04-14T14:31:22.620499Z",
     "shell.execute_reply": "2022-04-14T14:31:22.619379Z"
    },
    "papermill": {
     "duration": 0.243307,
     "end_time": "2022-04-14T14:31:22.622872",
     "exception": false,
     "start_time": "2022-04-14T14:31:22.379565",
     "status": "completed"
    },
    "tags": []
   },
   "outputs": [
    {
     "data": {
      "text/plain": [
       "cf         135348\n",
       "ncf          9978\n",
       "Missing      3344\n",
       "Name: loan_limit, dtype: int64"
      ]
     },
     "execution_count": 21,
     "metadata": {},
     "output_type": "execute_result"
    }
   ],
   "source": [
    "df[cat_missing_cols] = df[cat_missing_cols].fillna('Missing')\n",
    "df.loan_limit.value_counts()"
   ]
  },
  {
   "cell_type": "code",
   "execution_count": 22,
   "id": "a22fd359",
   "metadata": {
    "execution": {
     "iopub.execute_input": "2022-04-14T14:31:22.796356Z",
     "iopub.status.busy": "2022-04-14T14:31:22.795886Z",
     "iopub.status.idle": "2022-04-14T14:31:22.908929Z",
     "shell.execute_reply": "2022-04-14T14:31:22.907443Z"
    },
    "papermill": {
     "duration": 0.202452,
     "end_time": "2022-04-14T14:31:22.911440",
     "exception": false,
     "start_time": "2022-04-14T14:31:22.708988",
     "status": "completed"
    },
    "tags": []
   },
   "outputs": [
    {
     "name": "stdout",
     "output_type": "stream",
     "text": [
      "<class 'pandas.core.frame.DataFrame'>\n",
      "RangeIndex: 148670 entries, 0 to 148669\n",
      "Data columns (total 6 columns):\n",
      " #   Column                     Non-Null Count   Dtype \n",
      "---  ------                     --------------   ----- \n",
      " 0   loan_limit                 148670 non-null  object\n",
      " 1   approv_in_adv              148670 non-null  object\n",
      " 2   loan_purpose               148670 non-null  object\n",
      " 3   Neg_ammortization          148670 non-null  object\n",
      " 4   age                        148670 non-null  object\n",
      " 5   submission_of_application  148670 non-null  object\n",
      "dtypes: object(6)\n",
      "memory usage: 6.8+ MB\n"
     ]
    }
   ],
   "source": [
    "df[cat_missing_cols].info()"
   ]
  },
  {
   "cell_type": "markdown",
   "id": "05cefdb9",
   "metadata": {
    "papermill": {
     "duration": 0.085246,
     "end_time": "2022-04-14T14:31:23.081986",
     "exception": false,
     "start_time": "2022-04-14T14:31:22.996740",
     "status": "completed"
    },
    "tags": []
   },
   "source": [
    "<h3  style=\"text-align: center\" class=\"list-group-item list-group-item-warning\"> 2.2.3 Imputation Methods</h3><a id = \"2.2.3\" ></a>\n",
    "\n",
    "\n",
    "\n",
    "Another approach to handling missing values is to impute or estimate them. Imputation uses information and relationships among the non-missing\n",
    "attributes to provide an estimate to fill in the missing value.\n",
    "\n",
    "In this section we will work on imputation models which will help us impute missing values by extracting interesting patterns from attributes which don't have missing values at that point on time.\n",
    "\n",
    "\n",
    "- Within a sample data point, other variables may also be missing. For this reason, an imputation method should be tolerant of other missing data.\n",
    "\n",
    "- Imputation creates a model embedded within another model. There is a prediction equation associated with every attribute in the training set that might have missing data. It is desirable for the imputation method to be fast and have a compact prediction equation.\n",
    "\n",
    "- Many data sets often contain both numeric and discrete attributes. Rather than generating dummy variables for discrete attributes, a useful imputation method would be able to use attributes of various types as inputs.\n",
    "\n",
    "- The model for predicting missing values should be numerically stable and not be overly influenced by outlying data points.\n",
    "\n",
    "Virtually any machine learning model could be used to impute the data. Here, the focus will be on several that are good candidates to consider.\n",
    "\n",
    "Question arise if an attribute has missing values around 50-60% then can we use imputation methods? And the answer is it depends upon datasets which we are using because an attribute with 60% missing values may has very good correlation with some other attribute which can be helpful to fill those missing values on the other side if let say some column like ID column which is independent of all columns has missing values around 10% using imputation methods we may not get results we wanted. "
   ]
  },
  {
   "cell_type": "markdown",
   "id": "be078982",
   "metadata": {
    "papermill": {
     "duration": 0.084617,
     "end_time": "2022-04-14T14:31:23.251420",
     "exception": false,
     "start_time": "2022-04-14T14:31:23.166803",
     "status": "completed"
    },
    "tags": []
   },
   "source": [
    "In this notebook we are gonna work on following imputation methods:-\n",
    "\n",
    "- KNN for Imputation\n",
    "- Tree Based Imputation\n",
    "- Linear Models for Imputation   "
   ]
  },
  {
   "cell_type": "markdown",
   "id": "0815cd71",
   "metadata": {
    "papermill": {
     "duration": 0.083914,
     "end_time": "2022-04-14T14:31:23.419540",
     "exception": false,
     "start_time": "2022-04-14T14:31:23.335626",
     "status": "completed"
    },
    "tags": []
   },
   "source": [
    "<h3>(a) K-Nearest Neighbors(KNN) for Imputation</h3>\n",
    "\n",
    "When the training set is small or moderate in size, K-nearest neighbors can be a quick and effective method for imputing missing values. This procedure identifies a sample with one or more missing values. Then it identifies the K most similar samples in the training data that are complete (i.e., have no missing values in some columns). Similarity of samples for this method is defined by a distance metric. When all of the predictors are\n",
    "numeric, standard Euclidean distance is commonly used as the similarity metric. \n",
    "\n",
    "After computing the distances, the K closest samples to the sample with the missing value are identified and the average value of the predictor of interest is calculated. This value is then used to replace the missing value of the sample."
   ]
  },
  {
   "cell_type": "code",
   "execution_count": 23,
   "id": "a306d292",
   "metadata": {
    "execution": {
     "iopub.execute_input": "2022-04-14T14:31:23.589912Z",
     "iopub.status.busy": "2022-04-14T14:31:23.589648Z",
     "iopub.status.idle": "2022-04-14T14:31:24.005051Z",
     "shell.execute_reply": "2022-04-14T14:31:24.004228Z"
    },
    "papermill": {
     "duration": 0.50343,
     "end_time": "2022-04-14T14:31:24.007218",
     "exception": false,
     "start_time": "2022-04-14T14:31:23.503788",
     "status": "completed"
    },
    "tags": []
   },
   "outputs": [],
   "source": [
    "from sklearn.impute import KNNImputer\n",
    "\n",
    "df_temp = df.copy()"
   ]
  },
  {
   "cell_type": "markdown",
   "id": "1fc07644",
   "metadata": {
    "papermill": {
     "duration": 0.085441,
     "end_time": "2022-04-14T14:31:24.179316",
     "exception": false,
     "start_time": "2022-04-14T14:31:24.093875",
     "status": "completed"
    },
    "tags": []
   },
   "source": [
    "As we haven't done categorical encoding yet (We'll cover it in next section) so, for time being lets impute on numerical data only later we will impute on full data after encoding."
   ]
  },
  {
   "cell_type": "code",
   "execution_count": 24,
   "id": "6ab77a59",
   "metadata": {
    "execution": {
     "iopub.execute_input": "2022-04-14T14:31:24.351060Z",
     "iopub.status.busy": "2022-04-14T14:31:24.350533Z",
     "iopub.status.idle": "2022-04-14T14:31:24.371897Z",
     "shell.execute_reply": "2022-04-14T14:31:24.370833Z"
    },
    "papermill": {
     "duration": 0.109586,
     "end_time": "2022-04-14T14:31:24.373809",
     "exception": false,
     "start_time": "2022-04-14T14:31:24.264223",
     "status": "completed"
    },
    "tags": []
   },
   "outputs": [
    {
     "name": "stdout",
     "output_type": "stream",
     "text": [
      "['ID', 'year', 'loan_amount', 'rate_of_interest', 'Interest_rate_spread', 'Upfront_charges', 'term', 'property_value', 'income', 'Credit_Score', 'LTV', 'Status', 'dtir1']\n"
     ]
    }
   ],
   "source": [
    "num_cols = [col for col in df_temp.columns if df_temp[col].dtype != 'object']\n",
    "print(num_cols)\n",
    "df_temp = df_temp[num_cols]"
   ]
  },
  {
   "cell_type": "code",
   "execution_count": 25,
   "id": "f372458e",
   "metadata": {
    "execution": {
     "iopub.execute_input": "2022-04-14T14:31:24.544663Z",
     "iopub.status.busy": "2022-04-14T14:31:24.544126Z",
     "iopub.status.idle": "2022-04-14T14:31:24.565281Z",
     "shell.execute_reply": "2022-04-14T14:31:24.564583Z"
    },
    "papermill": {
     "duration": 0.109039,
     "end_time": "2022-04-14T14:31:24.567490",
     "exception": false,
     "start_time": "2022-04-14T14:31:24.458451",
     "status": "completed"
    },
    "tags": []
   },
   "outputs": [
    {
     "data": {
      "text/plain": [
       "KNNImputer(n_neighbors=3)"
      ]
     },
     "execution_count": 25,
     "metadata": {},
     "output_type": "execute_result"
    }
   ],
   "source": [
    "# Initializing KNNImputer\n",
    "knn = KNNImputer(n_neighbors = 3)\n",
    "\n",
    "knn.fit(df_temp)"
   ]
  },
  {
   "cell_type": "code",
   "execution_count": 26,
   "id": "e64294d0",
   "metadata": {
    "execution": {
     "iopub.execute_input": "2022-04-14T14:31:24.742207Z",
     "iopub.status.busy": "2022-04-14T14:31:24.741605Z",
     "iopub.status.idle": "2022-04-14T14:45:36.717817Z",
     "shell.execute_reply": "2022-04-14T14:45:36.716197Z"
    },
    "papermill": {
     "duration": 852.070007,
     "end_time": "2022-04-14T14:45:36.723202",
     "exception": false,
     "start_time": "2022-04-14T14:31:24.653195",
     "status": "completed"
    },
    "tags": []
   },
   "outputs": [],
   "source": [
    "X = knn.transform(df_temp)"
   ]
  },
  {
   "cell_type": "code",
   "execution_count": 27,
   "id": "c01bc2a5",
   "metadata": {
    "execution": {
     "iopub.execute_input": "2022-04-14T14:45:36.910340Z",
     "iopub.status.busy": "2022-04-14T14:45:36.909742Z",
     "iopub.status.idle": "2022-04-14T14:45:37.262524Z",
     "shell.execute_reply": "2022-04-14T14:45:37.261318Z"
    },
    "papermill": {
     "duration": 0.447446,
     "end_time": "2022-04-14T14:45:37.266487",
     "exception": false,
     "start_time": "2022-04-14T14:45:36.819041",
     "status": "completed"
    },
    "tags": []
   },
   "outputs": [
    {
     "name": "stdout",
     "output_type": "stream",
     "text": [
      "<class 'pandas.core.frame.DataFrame'>\n",
      "RangeIndex: 148670 entries, 0 to 148669\n",
      "Data columns (total 34 columns):\n",
      " #   Column                     Non-Null Count   Dtype  \n",
      "---  ------                     --------------   -----  \n",
      " 0   ID                         148670 non-null  int64  \n",
      " 1   year                       148670 non-null  int64  \n",
      " 2   loan_limit                 148670 non-null  object \n",
      " 3   Gender                     148670 non-null  object \n",
      " 4   approv_in_adv              148670 non-null  object \n",
      " 5   loan_type                  148670 non-null  object \n",
      " 6   loan_purpose               148670 non-null  object \n",
      " 7   Credit_Worthiness          148670 non-null  object \n",
      " 8   open_credit                148670 non-null  object \n",
      " 9   business_or_commercial     148670 non-null  object \n",
      " 10  loan_amount                148670 non-null  int64  \n",
      " 11  rate_of_interest           112231 non-null  float64\n",
      " 12  Interest_rate_spread       112031 non-null  float64\n",
      " 13  Upfront_charges            109028 non-null  float64\n",
      " 14  term                       148629 non-null  float64\n",
      " 15  Neg_ammortization          148670 non-null  object \n",
      " 16  interest_only              148670 non-null  object \n",
      " 17  lump_sum_payment           148670 non-null  object \n",
      " 18  property_value             133572 non-null  float64\n",
      " 19  construction_type          148670 non-null  object \n",
      " 20  occupancy_type             148670 non-null  object \n",
      " 21  Secured_by                 148670 non-null  object \n",
      " 22  total_units                148670 non-null  object \n",
      " 23  income                     139520 non-null  float64\n",
      " 24  credit_type                148670 non-null  object \n",
      " 25  Credit_Score               148670 non-null  int64  \n",
      " 26  co-applicant_credit_type   148670 non-null  object \n",
      " 27  age                        148670 non-null  object \n",
      " 28  submission_of_application  148670 non-null  object \n",
      " 29  LTV                        133572 non-null  float64\n",
      " 30  Region                     148670 non-null  object \n",
      " 31  Security_Type              148670 non-null  object \n",
      " 32  Status                     148670 non-null  int64  \n",
      " 33  dtir1                      124549 non-null  float64\n",
      "dtypes: float64(8), int64(5), object(21)\n",
      "memory usage: 38.6+ MB\n"
     ]
    }
   ],
   "source": [
    "df_temp = pd.DataFrame(X, columns = num_cols)\n",
    "df.info()"
   ]
  },
  {
   "cell_type": "code",
   "execution_count": 28,
   "id": "cd96362a",
   "metadata": {
    "execution": {
     "iopub.execute_input": "2022-04-14T14:45:37.456306Z",
     "iopub.status.busy": "2022-04-14T14:45:37.455707Z",
     "iopub.status.idle": "2022-04-14T14:45:37.459380Z",
     "shell.execute_reply": "2022-04-14T14:45:37.458777Z"
    },
    "papermill": {
     "duration": 0.098142,
     "end_time": "2022-04-14T14:45:37.461476",
     "exception": false,
     "start_time": "2022-04-14T14:45:37.363334",
     "status": "completed"
    },
    "tags": []
   },
   "outputs": [],
   "source": [
    "del df_temp"
   ]
  },
  {
   "cell_type": "markdown",
   "id": "7b29a0bb",
   "metadata": {
    "papermill": {
     "duration": 0.105991,
     "end_time": "2022-04-14T14:45:37.656128",
     "exception": false,
     "start_time": "2022-04-14T14:45:37.550137",
     "status": "completed"
    },
    "tags": []
   },
   "source": [
    "<h3>(b) Trees</h3>\n",
    "\n",
    "Tree-based models are a reasonable choice for an imputation technique since a tree can be constructed in the presence of other missing data. While a single tree could be used as an imputation technique, it is known to produce results that have low bias but high variance. And we all know who kills the bias its Ensembles of trees. \n",
    "\n",
    "Random forests is one such technique and has been studied for this purpose. However, there are a couple of notable drawbacks when using this technique in a predictive modeling setting. First and foremost, the random selection of predictors at each split necessitates a large number of trees (500 to 2000) to achieve a stable, reliable model. This can present a challenge as the number of attributes with missing data increases since a separate model must be built and retained for each predictor. Also Random forest will have heavy computations.\n",
    "\n",
    "A good alternative that has a smaller computational footprint is a bagged tree. A bagged tree is constructed in a similar fashion to a random forest.\n",
    "The primary difference is that in a bagged model, all attributes are evaluated at each split in each tree. The performance of a bagged tree using 25–50 trees is generally in the ballpark of the performance of a random forest model. And the smaller number of trees is a clear advantage when the goal is to find reasonable imputed values for missing data.\n",
    "\n",
    "\n"
   ]
  },
  {
   "cell_type": "code",
   "execution_count": 29,
   "id": "b6558654",
   "metadata": {
    "execution": {
     "iopub.execute_input": "2022-04-14T14:45:37.844206Z",
     "iopub.status.busy": "2022-04-14T14:45:37.843564Z",
     "iopub.status.idle": "2022-04-14T14:45:37.849312Z",
     "shell.execute_reply": "2022-04-14T14:45:37.848685Z"
    },
    "papermill": {
     "duration": 0.09739,
     "end_time": "2022-04-14T14:45:37.851299",
     "exception": false,
     "start_time": "2022-04-14T14:45:37.753909",
     "status": "completed"
    },
    "tags": []
   },
   "outputs": [
    {
     "data": {
      "text/plain": [
       "['loan_limit',\n",
       " 'approv_in_adv',\n",
       " 'loan_purpose',\n",
       " 'rate_of_interest',\n",
       " 'Interest_rate_spread',\n",
       " 'Upfront_charges',\n",
       " 'term',\n",
       " 'Neg_ammortization',\n",
       " 'property_value',\n",
       " 'income',\n",
       " 'age',\n",
       " 'submission_of_application',\n",
       " 'LTV',\n",
       " 'dtir1']"
      ]
     },
     "execution_count": 29,
     "metadata": {},
     "output_type": "execute_result"
    }
   ],
   "source": [
    "missing_columns"
   ]
  },
  {
   "cell_type": "code",
   "execution_count": 30,
   "id": "2ad75345",
   "metadata": {
    "execution": {
     "iopub.execute_input": "2022-04-14T14:45:38.033537Z",
     "iopub.status.busy": "2022-04-14T14:45:38.033025Z",
     "iopub.status.idle": "2022-04-14T14:45:38.075269Z",
     "shell.execute_reply": "2022-04-14T14:45:38.074624Z"
    },
    "papermill": {
     "duration": 0.134862,
     "end_time": "2022-04-14T14:45:38.077653",
     "exception": false,
     "start_time": "2022-04-14T14:45:37.942791",
     "status": "completed"
    },
    "tags": []
   },
   "outputs": [],
   "source": [
    "from sklearn.tree import DecisionTreeRegressor\n",
    "\n",
    "dr = DecisionTreeRegressor()"
   ]
  },
  {
   "cell_type": "code",
   "execution_count": 31,
   "id": "2e3a6bab",
   "metadata": {
    "execution": {
     "iopub.execute_input": "2022-04-14T14:45:38.257834Z",
     "iopub.status.busy": "2022-04-14T14:45:38.256954Z",
     "iopub.status.idle": "2022-04-14T14:45:38.261470Z",
     "shell.execute_reply": "2022-04-14T14:45:38.260831Z"
    },
    "papermill": {
     "duration": 0.096743,
     "end_time": "2022-04-14T14:45:38.263734",
     "exception": false,
     "start_time": "2022-04-14T14:45:38.166991",
     "status": "completed"
    },
    "tags": []
   },
   "outputs": [],
   "source": [
    "income = df['income']"
   ]
  },
  {
   "cell_type": "markdown",
   "id": "346d14a8",
   "metadata": {
    "papermill": {
     "duration": 0.088359,
     "end_time": "2022-04-14T14:45:38.443807",
     "exception": false,
     "start_time": "2022-04-14T14:45:38.355448",
     "status": "completed"
    },
    "tags": []
   },
   "source": [
    "As we have to encode categorical variables into numerical data to use sklearn's tree based models so for the time being I am encoding categorical variables using Label Encoding Method"
   ]
  },
  {
   "cell_type": "code",
   "execution_count": 32,
   "id": "711791a3",
   "metadata": {
    "execution": {
     "iopub.execute_input": "2022-04-14T14:45:38.622940Z",
     "iopub.status.busy": "2022-04-14T14:45:38.622381Z",
     "iopub.status.idle": "2022-04-14T14:45:38.639987Z",
     "shell.execute_reply": "2022-04-14T14:45:38.639010Z"
    },
    "papermill": {
     "duration": 0.10966,
     "end_time": "2022-04-14T14:45:38.642704",
     "exception": false,
     "start_time": "2022-04-14T14:45:38.533044",
     "status": "completed"
    },
    "tags": []
   },
   "outputs": [],
   "source": [
    "df_temp = df.copy()"
   ]
  },
  {
   "cell_type": "code",
   "execution_count": 33,
   "id": "f282ee89",
   "metadata": {
    "execution": {
     "iopub.execute_input": "2022-04-14T14:45:38.826548Z",
     "iopub.status.busy": "2022-04-14T14:45:38.825942Z",
     "iopub.status.idle": "2022-04-14T14:45:40.033038Z",
     "shell.execute_reply": "2022-04-14T14:45:40.032252Z"
    },
    "papermill": {
     "duration": 1.302425,
     "end_time": "2022-04-14T14:45:40.035644",
     "exception": false,
     "start_time": "2022-04-14T14:45:38.733219",
     "status": "completed"
    },
    "tags": []
   },
   "outputs": [],
   "source": [
    "from sklearn.preprocessing import LabelEncoder\n",
    "\n",
    "lb = LabelEncoder()\n",
    "\n",
    "cat_cols = [col for col in df.columns if df[col].dtype == 'object']\n",
    "\n",
    "for col in cat_cols:\n",
    "    df_temp[col] = lb.fit_transform(df_temp[col])\n"
   ]
  },
  {
   "cell_type": "code",
   "execution_count": 34,
   "id": "0d7cef71",
   "metadata": {
    "execution": {
     "iopub.execute_input": "2022-04-14T14:45:40.216973Z",
     "iopub.status.busy": "2022-04-14T14:45:40.216684Z",
     "iopub.status.idle": "2022-04-14T14:45:40.468900Z",
     "shell.execute_reply": "2022-04-14T14:45:40.467868Z"
    },
    "papermill": {
     "duration": 0.347865,
     "end_time": "2022-04-14T14:45:40.471603",
     "exception": false,
     "start_time": "2022-04-14T14:45:40.123738",
     "status": "completed"
    },
    "tags": []
   },
   "outputs": [],
   "source": [
    "from sklearn.ensemble import BaggingRegressor\n",
    "from sklearn.tree import DecisionTreeRegressor\n",
    "\n",
    "\n",
    "def tree_imputation(df):\n",
    "    missing_cols = [col for col in df.columns if df[col].isnull().sum() > 0]\n",
    "    non_missing_cols = [col for col in df.columns if df[col].isnull().sum() == 0]\n",
    "    # num_cols = [col for col in missing_cols if df[col].dtype != 'object']\n",
    "\n",
    "    # df = df[num_cols]\n",
    "    for col in missing_cols:\n",
    "\n",
    "        # Defining a new bagging model for each attribute  \n",
    "        model = BaggingRegressor(DecisionTreeRegressor(), n_estimators = 40, max_samples = 1.0, max_features = 1.0, bootstrap = False, n_jobs = -1)\n",
    "\n",
    "        col_missing = df[df[col].isnull()]\n",
    "        temp = df.drop(df[df[col].isnull()].index, axis = 0)\n",
    "\n",
    "        # print(temp.columns)\n",
    "        # X = temp.drop(col, axis = 1)\n",
    "        X = temp.loc[:, non_missing_cols]\n",
    "        y = temp[col]\n",
    "\n",
    "        model.fit(X, y)\n",
    "\n",
    "        y_pred = model.predict(col_missing[non_missing_cols])\n",
    "        # col_missing[col] = y_pred\n",
    "\n",
    "        df.loc[col_missing.index, col] = y_pred\n",
    "        \n",
    "    return df\n",
    "    "
   ]
  },
  {
   "cell_type": "code",
   "execution_count": 35,
   "id": "1d1dd4f4",
   "metadata": {
    "execution": {
     "iopub.execute_input": "2022-04-14T14:45:40.651520Z",
     "iopub.status.busy": "2022-04-14T14:45:40.650961Z",
     "iopub.status.idle": "2022-04-14T14:48:50.222001Z",
     "shell.execute_reply": "2022-04-14T14:48:50.220927Z"
    },
    "papermill": {
     "duration": 189.751579,
     "end_time": "2022-04-14T14:48:50.312369",
     "exception": false,
     "start_time": "2022-04-14T14:45:40.560790",
     "status": "completed"
    },
    "tags": []
   },
   "outputs": [
    {
     "name": "stdout",
     "output_type": "stream",
     "text": [
      "<class 'pandas.core.frame.DataFrame'>\n",
      "RangeIndex: 148670 entries, 0 to 148669\n",
      "Data columns (total 34 columns):\n",
      " #   Column                     Non-Null Count   Dtype  \n",
      "---  ------                     --------------   -----  \n",
      " 0   ID                         148670 non-null  int64  \n",
      " 1   year                       148670 non-null  int64  \n",
      " 2   loan_limit                 148670 non-null  int64  \n",
      " 3   Gender                     148670 non-null  int64  \n",
      " 4   approv_in_adv              148670 non-null  int64  \n",
      " 5   loan_type                  148670 non-null  int64  \n",
      " 6   loan_purpose               148670 non-null  int64  \n",
      " 7   Credit_Worthiness          148670 non-null  int64  \n",
      " 8   open_credit                148670 non-null  int64  \n",
      " 9   business_or_commercial     148670 non-null  int64  \n",
      " 10  loan_amount                148670 non-null  int64  \n",
      " 11  rate_of_interest           148670 non-null  float64\n",
      " 12  Interest_rate_spread       148670 non-null  float64\n",
      " 13  Upfront_charges            148670 non-null  float64\n",
      " 14  term                       148670 non-null  float64\n",
      " 15  Neg_ammortization          148670 non-null  int64  \n",
      " 16  interest_only              148670 non-null  int64  \n",
      " 17  lump_sum_payment           148670 non-null  int64  \n",
      " 18  property_value             148670 non-null  float64\n",
      " 19  construction_type          148670 non-null  int64  \n",
      " 20  occupancy_type             148670 non-null  int64  \n",
      " 21  Secured_by                 148670 non-null  int64  \n",
      " 22  total_units                148670 non-null  int64  \n",
      " 23  income                     148670 non-null  float64\n",
      " 24  credit_type                148670 non-null  int64  \n",
      " 25  Credit_Score               148670 non-null  int64  \n",
      " 26  co-applicant_credit_type   148670 non-null  int64  \n",
      " 27  age                        148670 non-null  int64  \n",
      " 28  submission_of_application  148670 non-null  int64  \n",
      " 29  LTV                        148670 non-null  float64\n",
      " 30  Region                     148670 non-null  int64  \n",
      " 31  Security_Type              148670 non-null  int64  \n",
      " 32  Status                     148670 non-null  int64  \n",
      " 33  dtir1                      148670 non-null  float64\n",
      "dtypes: float64(8), int64(26)\n",
      "memory usage: 38.6 MB\n"
     ]
    }
   ],
   "source": [
    "df_new = tree_imputation(df_temp)\n",
    "df_new.info()"
   ]
  },
  {
   "cell_type": "code",
   "execution_count": 36,
   "id": "cd3eac59",
   "metadata": {
    "execution": {
     "iopub.execute_input": "2022-04-14T14:48:50.493188Z",
     "iopub.status.busy": "2022-04-14T14:48:50.492587Z",
     "iopub.status.idle": "2022-04-14T14:48:53.374381Z",
     "shell.execute_reply": "2022-04-14T14:48:53.373458Z"
    },
    "papermill": {
     "duration": 2.976597,
     "end_time": "2022-04-14T14:48:53.376846",
     "exception": false,
     "start_time": "2022-04-14T14:48:50.400249",
     "status": "completed"
    },
    "tags": []
   },
   "outputs": [
    {
     "data": {
      "image/png": "[encoded data removed]",
      "text/plain": [
       "<Figure size 1728x720 with 3 Axes>"
      ]
     },
     "metadata": {
      "needs_background": "light"
     },
     "output_type": "display_data"
    }
   ],
   "source": [
    "msno.bar(df_new)\n",
    "plt.show()"
   ]
  },
  {
   "cell_type": "markdown",
   "id": "1f0d0495",
   "metadata": {
    "papermill": {
     "duration": 0.09365,
     "end_time": "2022-04-14T14:48:53.561836",
     "exception": false,
     "start_time": "2022-04-14T14:48:53.468186",
     "status": "completed"
    },
    "tags": []
   },
   "source": [
    "We can see all missing values from the dataset are gone. Now as we temporarily encode categorical variables because we will encode them in later section so lets decode them."
   ]
  },
  {
   "cell_type": "code",
   "execution_count": 37,
   "id": "c69e894f",
   "metadata": {
    "execution": {
     "iopub.execute_input": "2022-04-14T14:48:53.748174Z",
     "iopub.status.busy": "2022-04-14T14:48:53.747522Z",
     "iopub.status.idle": "2022-04-14T14:48:53.856782Z",
     "shell.execute_reply": "2022-04-14T14:48:53.855868Z"
    },
    "papermill": {
     "duration": 0.204324,
     "end_time": "2022-04-14T14:48:53.858839",
     "exception": false,
     "start_time": "2022-04-14T14:48:53.654515",
     "status": "completed"
    },
    "tags": []
   },
   "outputs": [
    {
     "data": {
      "text/html": [
       "<div>\n",
       "<style scoped>\n",
       "    .dataframe tbody tr th:only-of-type {\n",
       "        vertical-align: middle;\n",
       "    }\n",
       "\n",
       "    .dataframe tbody tr th {\n",
       "        vertical-align: top;\n",
       "    }\n",
       "\n",
       "    .dataframe thead th {\n",
       "        text-align: right;\n",
       "    }\n",
       "</style>\n",
       "<table border=\"1\" class=\"dataframe\">\n",
       "  <thead>\n",
       "    <tr style=\"text-align: right;\">\n",
       "      <th></th>\n",
       "      <th>loan_limit</th>\n",
       "      <th>Gender</th>\n",
       "      <th>approv_in_adv</th>\n",
       "      <th>loan_type</th>\n",
       "      <th>loan_purpose</th>\n",
       "      <th>Credit_Worthiness</th>\n",
       "      <th>open_credit</th>\n",
       "      <th>business_or_commercial</th>\n",
       "      <th>Neg_ammortization</th>\n",
       "      <th>interest_only</th>\n",
       "      <th>...</th>\n",
       "      <th>rate_of_interest</th>\n",
       "      <th>Interest_rate_spread</th>\n",
       "      <th>Upfront_charges</th>\n",
       "      <th>term</th>\n",
       "      <th>property_value</th>\n",
       "      <th>income</th>\n",
       "      <th>Credit_Score</th>\n",
       "      <th>LTV</th>\n",
       "      <th>Status</th>\n",
       "      <th>dtir1</th>\n",
       "    </tr>\n",
       "  </thead>\n",
       "  <tbody>\n",
       "    <tr>\n",
       "      <th>0</th>\n",
       "      <td>cf</td>\n",
       "      <td>Sex Not Available</td>\n",
       "      <td>nopre</td>\n",
       "      <td>type1</td>\n",
       "      <td>p1</td>\n",
       "      <td>l1</td>\n",
       "      <td>nopc</td>\n",
       "      <td>nob/c</td>\n",
       "      <td>not_neg</td>\n",
       "      <td>not_int</td>\n",
       "      <td>...</td>\n",
       "      <td>4.095875</td>\n",
       "      <td>0.596290</td>\n",
       "      <td>3681.810</td>\n",
       "      <td>360.0</td>\n",
       "      <td>118000.0</td>\n",
       "      <td>1740.0</td>\n",
       "      <td>758</td>\n",
       "      <td>98.728814</td>\n",
       "      <td>1</td>\n",
       "      <td>45.000</td>\n",
       "    </tr>\n",
       "    <tr>\n",
       "      <th>1</th>\n",
       "      <td>cf</td>\n",
       "      <td>Male</td>\n",
       "      <td>nopre</td>\n",
       "      <td>type2</td>\n",
       "      <td>p1</td>\n",
       "      <td>l1</td>\n",
       "      <td>nopc</td>\n",
       "      <td>b/c</td>\n",
       "      <td>not_neg</td>\n",
       "      <td>not_int</td>\n",
       "      <td>...</td>\n",
       "      <td>3.487500</td>\n",
       "      <td>1.179555</td>\n",
       "      <td>1332.226</td>\n",
       "      <td>360.0</td>\n",
       "      <td>189000.0</td>\n",
       "      <td>4980.0</td>\n",
       "      <td>552</td>\n",
       "      <td>99.351089</td>\n",
       "      <td>1</td>\n",
       "      <td>40.275</td>\n",
       "    </tr>\n",
       "    <tr>\n",
       "      <th>2</th>\n",
       "      <td>cf</td>\n",
       "      <td>Male</td>\n",
       "      <td>pre</td>\n",
       "      <td>type1</td>\n",
       "      <td>p1</td>\n",
       "      <td>l1</td>\n",
       "      <td>nopc</td>\n",
       "      <td>nob/c</td>\n",
       "      <td>neg_amm</td>\n",
       "      <td>not_int</td>\n",
       "      <td>...</td>\n",
       "      <td>4.560000</td>\n",
       "      <td>0.200000</td>\n",
       "      <td>595.000</td>\n",
       "      <td>360.0</td>\n",
       "      <td>508000.0</td>\n",
       "      <td>9480.0</td>\n",
       "      <td>834</td>\n",
       "      <td>80.019685</td>\n",
       "      <td>0</td>\n",
       "      <td>46.000</td>\n",
       "    </tr>\n",
       "    <tr>\n",
       "      <th>3</th>\n",
       "      <td>cf</td>\n",
       "      <td>Male</td>\n",
       "      <td>nopre</td>\n",
       "      <td>type1</td>\n",
       "      <td>p4</td>\n",
       "      <td>l1</td>\n",
       "      <td>nopc</td>\n",
       "      <td>nob/c</td>\n",
       "      <td>not_neg</td>\n",
       "      <td>not_int</td>\n",
       "      <td>...</td>\n",
       "      <td>4.250000</td>\n",
       "      <td>0.681000</td>\n",
       "      <td>13016.460</td>\n",
       "      <td>360.0</td>\n",
       "      <td>658000.0</td>\n",
       "      <td>11880.0</td>\n",
       "      <td>587</td>\n",
       "      <td>69.376900</td>\n",
       "      <td>0</td>\n",
       "      <td>42.000</td>\n",
       "    </tr>\n",
       "    <tr>\n",
       "      <th>4</th>\n",
       "      <td>cf</td>\n",
       "      <td>Joint</td>\n",
       "      <td>pre</td>\n",
       "      <td>type1</td>\n",
       "      <td>p1</td>\n",
       "      <td>l1</td>\n",
       "      <td>nopc</td>\n",
       "      <td>nob/c</td>\n",
       "      <td>not_neg</td>\n",
       "      <td>not_int</td>\n",
       "      <td>...</td>\n",
       "      <td>4.000000</td>\n",
       "      <td>0.304200</td>\n",
       "      <td>0.000</td>\n",
       "      <td>360.0</td>\n",
       "      <td>758000.0</td>\n",
       "      <td>10440.0</td>\n",
       "      <td>602</td>\n",
       "      <td>91.886544</td>\n",
       "      <td>0</td>\n",
       "      <td>39.000</td>\n",
       "    </tr>\n",
       "  </tbody>\n",
       "</table>\n",
       "<p>5 rows × 34 columns</p>\n",
       "</div>"
      ],
      "text/plain": [
       "  loan_limit             Gender approv_in_adv loan_type loan_purpose  \\\n",
       "0         cf  Sex Not Available         nopre     type1           p1   \n",
       "1         cf               Male         nopre     type2           p1   \n",
       "2         cf               Male           pre     type1           p1   \n",
       "3         cf               Male         nopre     type1           p4   \n",
       "4         cf              Joint           pre     type1           p1   \n",
       "\n",
       "  Credit_Worthiness open_credit business_or_commercial Neg_ammortization  \\\n",
       "0                l1        nopc                  nob/c           not_neg   \n",
       "1                l1        nopc                    b/c           not_neg   \n",
       "2                l1        nopc                  nob/c           neg_amm   \n",
       "3                l1        nopc                  nob/c           not_neg   \n",
       "4                l1        nopc                  nob/c           not_neg   \n",
       "\n",
       "  interest_only  ... rate_of_interest Interest_rate_spread Upfront_charges  \\\n",
       "0       not_int  ...         4.095875             0.596290        3681.810   \n",
       "1       not_int  ...         3.487500             1.179555        1332.226   \n",
       "2       not_int  ...         4.560000             0.200000         595.000   \n",
       "3       not_int  ...         4.250000             0.681000       13016.460   \n",
       "4       not_int  ...         4.000000             0.304200           0.000   \n",
       "\n",
       "    term property_value   income Credit_Score        LTV Status   dtir1  \n",
       "0  360.0       118000.0   1740.0          758  98.728814      1  45.000  \n",
       "1  360.0       189000.0   4980.0          552  99.351089      1  40.275  \n",
       "2  360.0       508000.0   9480.0          834  80.019685      0  46.000  \n",
       "3  360.0       658000.0  11880.0          587  69.376900      0  42.000  \n",
       "4  360.0       758000.0  10440.0          602  91.886544      0  39.000  \n",
       "\n",
       "[5 rows x 34 columns]"
      ]
     },
     "execution_count": 37,
     "metadata": {},
     "output_type": "execute_result"
    }
   ],
   "source": [
    "df_new = pd.concat([df[cat_cols], df_new.drop(cat_cols, axis = 1)], axis = 1)\n",
    "df_new.head()"
   ]
  },
  {
   "cell_type": "code",
   "execution_count": 38,
   "id": "cb26ddd8",
   "metadata": {
    "execution": {
     "iopub.execute_input": "2022-04-14T14:48:54.043743Z",
     "iopub.status.busy": "2022-04-14T14:48:54.043157Z",
     "iopub.status.idle": "2022-04-14T14:48:54.389080Z",
     "shell.execute_reply": "2022-04-14T14:48:54.388114Z"
    },
    "papermill": {
     "duration": 0.440675,
     "end_time": "2022-04-14T14:48:54.391460",
     "exception": false,
     "start_time": "2022-04-14T14:48:53.950785",
     "status": "completed"
    },
    "tags": []
   },
   "outputs": [
    {
     "name": "stdout",
     "output_type": "stream",
     "text": [
      "<class 'pandas.core.frame.DataFrame'>\n",
      "RangeIndex: 148670 entries, 0 to 148669\n",
      "Data columns (total 34 columns):\n",
      " #   Column                     Non-Null Count   Dtype  \n",
      "---  ------                     --------------   -----  \n",
      " 0   loan_limit                 148670 non-null  object \n",
      " 1   Gender                     148670 non-null  object \n",
      " 2   approv_in_adv              148670 non-null  object \n",
      " 3   loan_type                  148670 non-null  object \n",
      " 4   loan_purpose               148670 non-null  object \n",
      " 5   Credit_Worthiness          148670 non-null  object \n",
      " 6   open_credit                148670 non-null  object \n",
      " 7   business_or_commercial     148670 non-null  object \n",
      " 8   Neg_ammortization          148670 non-null  object \n",
      " 9   interest_only              148670 non-null  object \n",
      " 10  lump_sum_payment           148670 non-null  object \n",
      " 11  construction_type          148670 non-null  object \n",
      " 12  occupancy_type             148670 non-null  object \n",
      " 13  Secured_by                 148670 non-null  object \n",
      " 14  total_units                148670 non-null  object \n",
      " 15  credit_type                148670 non-null  object \n",
      " 16  co-applicant_credit_type   148670 non-null  object \n",
      " 17  age                        148670 non-null  object \n",
      " 18  submission_of_application  148670 non-null  object \n",
      " 19  Region                     148670 non-null  object \n",
      " 20  Security_Type              148670 non-null  object \n",
      " 21  ID                         148670 non-null  int64  \n",
      " 22  year                       148670 non-null  int64  \n",
      " 23  loan_amount                148670 non-null  int64  \n",
      " 24  rate_of_interest           148670 non-null  float64\n",
      " 25  Interest_rate_spread       148670 non-null  float64\n",
      " 26  Upfront_charges            148670 non-null  float64\n",
      " 27  term                       148670 non-null  float64\n",
      " 28  property_value             148670 non-null  float64\n",
      " 29  income                     148670 non-null  float64\n",
      " 30  Credit_Score               148670 non-null  int64  \n",
      " 31  LTV                        148670 non-null  float64\n",
      " 32  Status                     148670 non-null  int64  \n",
      " 33  dtir1                      148670 non-null  float64\n",
      "dtypes: float64(8), int64(5), object(21)\n",
      "memory usage: 38.6+ MB\n"
     ]
    }
   ],
   "source": [
    "df_new.info()"
   ]
  },
  {
   "cell_type": "markdown",
   "id": "ae717c67",
   "metadata": {
    "papermill": {
     "duration": 0.094458,
     "end_time": "2022-04-14T14:48:54.577886",
     "exception": false,
     "start_time": "2022-04-14T14:48:54.483428",
     "status": "completed"
    },
    "tags": []
   },
   "source": [
    "<h3>(c) Linear Methods</h3>\n",
    "\n",
    "When a complete Attribute shows a strong linear relationship with a attribute that requires imputation, a straightforward linear model may be the best approach. Linear models can be computed very quickly. Linear regression can be used for a numeric attribute that requires imputation.\n",
    "Similarly, logistic regression is appropriate for a categorical attribute that requires imputation.\n",
    "\n",
    "Let say feature rate_of_interest and Interest_rate_spread are dependent features means one feature can be defined using other. If feature rate_of_interest has missing values than it can be imputed using simple linear model trained on Interest_rate_spread."
   ]
  },
  {
   "cell_type": "markdown",
   "id": "fe686757",
   "metadata": {
    "papermill": {
     "duration": 0.091688,
     "end_time": "2022-04-14T14:48:54.761383",
     "exception": false,
     "start_time": "2022-04-14T14:48:54.669695",
     "status": "completed"
    },
    "tags": []
   },
   "source": [
    "<h1  style=\"text-align: center\" class=\"list-group-item list-group-item-action active\">3. Encoding Categorical Attributes</h1><a id = \"3\" ></a>\n",
    "\n",
    "\n",
    "Categorical Features are those that contain qualitative data.This Section focuses primarily on methods that encode categorical data to numeric values.\n",
    "\n",
    "Categorical variables/features are any feature type can be classified into three major types:\n",
    "\n",
    "- Nominal\n",
    "- Ordinal\n",
    "- Binary\n",
    "\n",
    "**Nominal variables** are variables that have two or more categories which do not have any kind of order associated with them. For Example if our dataset has any 4 types of colors, i.e. Red, Blue, Orange, Green it can be considered as a nominal variable.\n",
    "\n",
    "**Ordinal variables** on the other hand, have “levels” or categories with a particular order associated with them. For example, an ordinal categorical variable can be a feature with three different levels: low, medium and high. Order is important.\n",
    "\n",
    "**Binary Variables** are same as nominal variables but with only categories For example, if gender is classified into two groups, i.e. male and female.\n",
    "\n",
    "For Nominal Variables We generally uses Label Encoding Scheme in which we encode each category by just converting it to some integer values this kind of encoding can work in case of Ordinal variables but **for label encoding it has the disadvantage that the numeric values can be misinterpreted by algorithms as having some sort of hierarchy/order in them**. This ordering issue is addressed in another common alternative approach called 'One-Hot Encoding'.\n",
    "\n",
    "One-Hot-Encoding has the advantage that the result is binary rather than ordinal and that everything sits in an orthogonal vector space. **The disadvantage is that for high cardinality, the feature space can really blow up quickly and you start fighting with the curse of dimensionality.**\n",
    "\n",
    "Another big issue with encoding schemes is new category or while splitting data in train/validation/test set all samples of the rare classes may split into validation/test set then during it will raise error while predicting.  \n"
   ]
  },
  {
   "cell_type": "markdown",
   "id": "2edfbd93",
   "metadata": {
    "papermill": {
     "duration": 0.093401,
     "end_time": "2022-04-14T14:48:54.946380",
     "exception": false,
     "start_time": "2022-04-14T14:48:54.852979",
     "status": "completed"
    },
    "tags": []
   },
   "source": [
    "Because of few potential issues with traditional approaches we now need to search for some unique approaches some of them are listed below:-\n",
    "\n",
    "- Supervised Encoding Methods\n",
    "- Approaching for Novel Categories \n",
    "\n",
    "Starting from Supervised Encoding Methods lets define it first \n",
    "\n",
    "\n",
    "<h2  style=\"text-align: center\" class=\"list-group-item list-group-item-success\"> 3.1 Supervised Encoding Methods</h2><a id = \"3.1\" ></a>\n",
    "\n",
    "\n",
    "There are several methods of encoding categorical variable to numeric columns using the output data as a guide (so that they are supervised methods). In Supervised Techniques we will discuss following methods to encode categorical variable:-\n",
    "\n",
    "- Effect or Likelihood Encoding  \n",
    "- Target Encoding \n",
    "- Deep Learning Methods\n",
    "\n",
    "\n",
    "\n",
    "<h3  style=\"text-align: center\" class=\"list-group-item list-group-item-warning\"> 3.1.1 Likelihood Encoding</h3><a id = \"3.1.1\" ></a>\n",
    "\n",
    "\n",
    "\n",
    "The effect of the factor level on the output data is measured and this effect is used as the numeric encoding. Here effect of that particular category on output data can be calculated using simple linear models or mean, mode and median methods. \n",
    "\n",
    "For classification problems, a simple logistic regression model can be used to measure the effect between the categorical outcome and the categorical predictor. After Computing Effects we will compute log-odds of those effects, If the effect is p, the odds of that event are defined as p/(1 − p) and log odds by simply taking log of odds. After when we get the log odds of each category we than encode each category with them using map function.     \n"
   ]
  },
  {
   "cell_type": "code",
   "execution_count": 39,
   "id": "bb0f9759",
   "metadata": {
    "execution": {
     "iopub.execute_input": "2022-04-14T14:48:55.132890Z",
     "iopub.status.busy": "2022-04-14T14:48:55.132268Z",
     "iopub.status.idle": "2022-04-14T14:48:55.160985Z",
     "shell.execute_reply": "2022-04-14T14:48:55.159963Z"
    },
    "papermill": {
     "duration": 0.123952,
     "end_time": "2022-04-14T14:48:55.163398",
     "exception": false,
     "start_time": "2022-04-14T14:48:55.039446",
     "status": "completed"
    },
    "tags": []
   },
   "outputs": [],
   "source": [
    "df_temp = df_new.copy()"
   ]
  },
  {
   "cell_type": "code",
   "execution_count": 40,
   "id": "741a3818",
   "metadata": {
    "execution": {
     "iopub.execute_input": "2022-04-14T14:48:55.349079Z",
     "iopub.status.busy": "2022-04-14T14:48:55.348768Z",
     "iopub.status.idle": "2022-04-14T14:48:56.569788Z",
     "shell.execute_reply": "2022-04-14T14:48:56.568718Z"
    },
    "papermill": {
     "duration": 1.317213,
     "end_time": "2022-04-14T14:48:56.572249",
     "exception": false,
     "start_time": "2022-04-14T14:48:55.255036",
     "status": "completed"
    },
    "tags": []
   },
   "outputs": [],
   "source": [
    "from sklearn.linear_model import LogisticRegression\n",
    "from sklearn.metrics import accuracy_score\n",
    "from sklearn.preprocessing import LabelEncoder\n",
    "\n",
    "\n",
    "## Again we have to temporarily encode variables\n",
    "lb = LabelEncoder()\n",
    "\n",
    "cat_cols = [col for col in df_temp.columns if df_temp[col].dtype == 'object']\n",
    "\n",
    "for col in cat_cols:\n",
    "    df_temp[col] = lb.fit_transform(df_temp[col])\n"
   ]
  },
  {
   "cell_type": "code",
   "execution_count": 41,
   "id": "9c2d8b89",
   "metadata": {
    "execution": {
     "iopub.execute_input": "2022-04-14T14:48:56.761223Z",
     "iopub.status.busy": "2022-04-14T14:48:56.760921Z",
     "iopub.status.idle": "2022-04-14T14:48:56.770438Z",
     "shell.execute_reply": "2022-04-14T14:48:56.769710Z"
    },
    "papermill": {
     "duration": 0.107666,
     "end_time": "2022-04-14T14:48:56.772246",
     "exception": false,
     "start_time": "2022-04-14T14:48:56.664580",
     "status": "completed"
    },
    "tags": []
   },
   "outputs": [],
   "source": [
    "def likelihood_encoding(df, cat_cols, target_variable = \"Status\"):\n",
    "    # cat_cols.remove(target_variable)\n",
    "    df_temp = df.copy()\n",
    "    for col in cat_cols:\n",
    "        effect = {}\n",
    "        print(col)\n",
    "        for category in df[col].unique():\n",
    "            print(category)\n",
    "\n",
    "            try:\n",
    "                temp = df[df[col] == category]\n",
    "                lr = LogisticRegression()\n",
    "                X = temp.drop(target_variable, axis = 1, inplace = False)\n",
    "                y = temp[target_variable]\n",
    "                # print(temp.drop(target_variable, axis = 1).isnull().sum())\n",
    "                lr.fit(X, y)\n",
    "\n",
    "                effect[category] = accuracy_score(y, lr.predict(X))\n",
    "            except Exception as E:\n",
    "                print(E)\n",
    "        \n",
    "        for key, value in effect.items():\n",
    "            effect[key] = np.log(effect[key] / (1 - effect[key] + 1e-6))\n",
    "            \n",
    "        df_temp.loc[:, col] = df_temp.loc[:, col].map(effect)\n",
    "    return df_temp"
   ]
  },
  {
   "cell_type": "code",
   "execution_count": 42,
   "id": "22b21b2d",
   "metadata": {
    "_kg_hide-input": false,
    "_kg_hide-output": true,
    "execution": {
     "iopub.execute_input": "2022-04-14T14:48:56.960466Z",
     "iopub.status.busy": "2022-04-14T14:48:56.960127Z",
     "iopub.status.idle": "2022-04-14T14:49:44.670965Z",
     "shell.execute_reply": "2022-04-14T14:49:44.670061Z"
    },
    "papermill": {
     "duration": 47.80869,
     "end_time": "2022-04-14T14:49:44.674327",
     "exception": false,
     "start_time": "2022-04-14T14:48:56.865637",
     "status": "completed"
    },
    "scrolled": true,
    "tags": []
   },
   "outputs": [
    {
     "name": "stdout",
     "output_type": "stream",
     "text": [
      "loan_limit\n",
      "1\n",
      "0\n",
      "2\n",
      "Gender\n",
      "3\n"
     ]
    },
    {
     "name": "stderr",
     "output_type": "stream",
     "text": [
      "/opt/conda/lib/python3.7/site-packages/sklearn/linear_model/_logistic.py:818: ConvergenceWarning: lbfgs failed to converge (status=1):\n",
      "STOP: TOTAL NO. of ITERATIONS REACHED LIMIT.\n",
      "\n",
      "Increase the number of iterations (max_iter) or scale the data as shown in:\n",
      "    https://scikit-learn.org/stable/modules/preprocessing.html\n",
      "Please also refer to the documentation for alternative solver options:\n",
      "    https://scikit-learn.org/stable/modules/linear_model.html#logistic-regression\n",
      "  extra_warning_msg=_LOGISTIC_SOLVER_CONVERGENCE_MSG,\n"
     ]
    },
    {
     "name": "stdout",
     "output_type": "stream",
     "text": [
      "2\n",
      "1\n",
      "0\n",
      "approv_in_adv\n",
      "1\n",
      "2\n",
      "0\n",
      "loan_type\n",
      "0\n",
      "1\n"
     ]
    },
    {
     "name": "stderr",
     "output_type": "stream",
     "text": [
      "/opt/conda/lib/python3.7/site-packages/sklearn/linear_model/_logistic.py:818: ConvergenceWarning: lbfgs failed to converge (status=1):\n",
      "STOP: TOTAL NO. of ITERATIONS REACHED LIMIT.\n",
      "\n",
      "Increase the number of iterations (max_iter) or scale the data as shown in:\n",
      "    https://scikit-learn.org/stable/modules/preprocessing.html\n",
      "Please also refer to the documentation for alternative solver options:\n",
      "    https://scikit-learn.org/stable/modules/linear_model.html#logistic-regression\n",
      "  extra_warning_msg=_LOGISTIC_SOLVER_CONVERGENCE_MSG,\n"
     ]
    },
    {
     "name": "stdout",
     "output_type": "stream",
     "text": [
      "2\n"
     ]
    },
    {
     "name": "stderr",
     "output_type": "stream",
     "text": [
      "/opt/conda/lib/python3.7/site-packages/sklearn/linear_model/_logistic.py:818: ConvergenceWarning: lbfgs failed to converge (status=1):\n",
      "STOP: TOTAL NO. of ITERATIONS REACHED LIMIT.\n",
      "\n",
      "Increase the number of iterations (max_iter) or scale the data as shown in:\n",
      "    https://scikit-learn.org/stable/modules/preprocessing.html\n",
      "Please also refer to the documentation for alternative solver options:\n",
      "    https://scikit-learn.org/stable/modules/linear_model.html#logistic-regression\n",
      "  extra_warning_msg=_LOGISTIC_SOLVER_CONVERGENCE_MSG,\n"
     ]
    },
    {
     "name": "stdout",
     "output_type": "stream",
     "text": [
      "loan_purpose\n",
      "1\n",
      "4\n"
     ]
    },
    {
     "name": "stderr",
     "output_type": "stream",
     "text": [
      "/opt/conda/lib/python3.7/site-packages/sklearn/linear_model/_logistic.py:818: ConvergenceWarning: lbfgs failed to converge (status=1):\n",
      "STOP: TOTAL NO. of ITERATIONS REACHED LIMIT.\n",
      "\n",
      "Increase the number of iterations (max_iter) or scale the data as shown in:\n",
      "    https://scikit-learn.org/stable/modules/preprocessing.html\n",
      "Please also refer to the documentation for alternative solver options:\n",
      "    https://scikit-learn.org/stable/modules/linear_model.html#logistic-regression\n",
      "  extra_warning_msg=_LOGISTIC_SOLVER_CONVERGENCE_MSG,\n"
     ]
    },
    {
     "name": "stdout",
     "output_type": "stream",
     "text": [
      "3\n",
      "2\n",
      "0\n",
      "Credit_Worthiness\n",
      "0\n"
     ]
    },
    {
     "name": "stderr",
     "output_type": "stream",
     "text": [
      "/opt/conda/lib/python3.7/site-packages/sklearn/linear_model/_logistic.py:818: ConvergenceWarning: lbfgs failed to converge (status=1):\n",
      "STOP: TOTAL NO. of ITERATIONS REACHED LIMIT.\n",
      "\n",
      "Increase the number of iterations (max_iter) or scale the data as shown in:\n",
      "    https://scikit-learn.org/stable/modules/preprocessing.html\n",
      "Please also refer to the documentation for alternative solver options:\n",
      "    https://scikit-learn.org/stable/modules/linear_model.html#logistic-regression\n",
      "  extra_warning_msg=_LOGISTIC_SOLVER_CONVERGENCE_MSG,\n"
     ]
    },
    {
     "name": "stdout",
     "output_type": "stream",
     "text": [
      "1\n",
      "open_credit\n",
      "0\n"
     ]
    },
    {
     "name": "stderr",
     "output_type": "stream",
     "text": [
      "/opt/conda/lib/python3.7/site-packages/sklearn/linear_model/_logistic.py:818: ConvergenceWarning: lbfgs failed to converge (status=1):\n",
      "STOP: TOTAL NO. of ITERATIONS REACHED LIMIT.\n",
      "\n",
      "Increase the number of iterations (max_iter) or scale the data as shown in:\n",
      "    https://scikit-learn.org/stable/modules/preprocessing.html\n",
      "Please also refer to the documentation for alternative solver options:\n",
      "    https://scikit-learn.org/stable/modules/linear_model.html#logistic-regression\n",
      "  extra_warning_msg=_LOGISTIC_SOLVER_CONVERGENCE_MSG,\n"
     ]
    },
    {
     "name": "stdout",
     "output_type": "stream",
     "text": [
      "1\n",
      "business_or_commercial\n",
      "1\n"
     ]
    },
    {
     "name": "stderr",
     "output_type": "stream",
     "text": [
      "/opt/conda/lib/python3.7/site-packages/sklearn/linear_model/_logistic.py:818: ConvergenceWarning: lbfgs failed to converge (status=1):\n",
      "STOP: TOTAL NO. of ITERATIONS REACHED LIMIT.\n",
      "\n",
      "Increase the number of iterations (max_iter) or scale the data as shown in:\n",
      "    https://scikit-learn.org/stable/modules/preprocessing.html\n",
      "Please also refer to the documentation for alternative solver options:\n",
      "    https://scikit-learn.org/stable/modules/linear_model.html#logistic-regression\n",
      "  extra_warning_msg=_LOGISTIC_SOLVER_CONVERGENCE_MSG,\n"
     ]
    },
    {
     "name": "stdout",
     "output_type": "stream",
     "text": [
      "0\n"
     ]
    },
    {
     "name": "stderr",
     "output_type": "stream",
     "text": [
      "/opt/conda/lib/python3.7/site-packages/sklearn/linear_model/_logistic.py:818: ConvergenceWarning: lbfgs failed to converge (status=1):\n",
      "STOP: TOTAL NO. of ITERATIONS REACHED LIMIT.\n",
      "\n",
      "Increase the number of iterations (max_iter) or scale the data as shown in:\n",
      "    https://scikit-learn.org/stable/modules/preprocessing.html\n",
      "Please also refer to the documentation for alternative solver options:\n",
      "    https://scikit-learn.org/stable/modules/linear_model.html#logistic-regression\n",
      "  extra_warning_msg=_LOGISTIC_SOLVER_CONVERGENCE_MSG,\n"
     ]
    },
    {
     "name": "stdout",
     "output_type": "stream",
     "text": [
      "Neg_ammortization\n",
      "2\n"
     ]
    },
    {
     "name": "stderr",
     "output_type": "stream",
     "text": [
      "/opt/conda/lib/python3.7/site-packages/sklearn/linear_model/_logistic.py:818: ConvergenceWarning: lbfgs failed to converge (status=1):\n",
      "STOP: TOTAL NO. of ITERATIONS REACHED LIMIT.\n",
      "\n",
      "Increase the number of iterations (max_iter) or scale the data as shown in:\n",
      "    https://scikit-learn.org/stable/modules/preprocessing.html\n",
      "Please also refer to the documentation for alternative solver options:\n",
      "    https://scikit-learn.org/stable/modules/linear_model.html#logistic-regression\n",
      "  extra_warning_msg=_LOGISTIC_SOLVER_CONVERGENCE_MSG,\n"
     ]
    },
    {
     "name": "stdout",
     "output_type": "stream",
     "text": [
      "1\n"
     ]
    },
    {
     "name": "stderr",
     "output_type": "stream",
     "text": [
      "/opt/conda/lib/python3.7/site-packages/sklearn/linear_model/_logistic.py:818: ConvergenceWarning: lbfgs failed to converge (status=1):\n",
      "STOP: TOTAL NO. of ITERATIONS REACHED LIMIT.\n",
      "\n",
      "Increase the number of iterations (max_iter) or scale the data as shown in:\n",
      "    https://scikit-learn.org/stable/modules/preprocessing.html\n",
      "Please also refer to the documentation for alternative solver options:\n",
      "    https://scikit-learn.org/stable/modules/linear_model.html#logistic-regression\n",
      "  extra_warning_msg=_LOGISTIC_SOLVER_CONVERGENCE_MSG,\n"
     ]
    },
    {
     "name": "stdout",
     "output_type": "stream",
     "text": [
      "0\n",
      "interest_only\n",
      "1\n"
     ]
    },
    {
     "name": "stderr",
     "output_type": "stream",
     "text": [
      "/opt/conda/lib/python3.7/site-packages/sklearn/linear_model/_logistic.py:818: ConvergenceWarning: lbfgs failed to converge (status=1):\n",
      "STOP: TOTAL NO. of ITERATIONS REACHED LIMIT.\n",
      "\n",
      "Increase the number of iterations (max_iter) or scale the data as shown in:\n",
      "    https://scikit-learn.org/stable/modules/preprocessing.html\n",
      "Please also refer to the documentation for alternative solver options:\n",
      "    https://scikit-learn.org/stable/modules/linear_model.html#logistic-regression\n",
      "  extra_warning_msg=_LOGISTIC_SOLVER_CONVERGENCE_MSG,\n"
     ]
    },
    {
     "name": "stdout",
     "output_type": "stream",
     "text": [
      "0\n",
      "lump_sum_payment\n",
      "1\n",
      "0\n",
      "construction_type\n",
      "1\n"
     ]
    },
    {
     "name": "stderr",
     "output_type": "stream",
     "text": [
      "/opt/conda/lib/python3.7/site-packages/sklearn/linear_model/_logistic.py:818: ConvergenceWarning: lbfgs failed to converge (status=1):\n",
      "STOP: TOTAL NO. of ITERATIONS REACHED LIMIT.\n",
      "\n",
      "Increase the number of iterations (max_iter) or scale the data as shown in:\n",
      "    https://scikit-learn.org/stable/modules/preprocessing.html\n",
      "Please also refer to the documentation for alternative solver options:\n",
      "    https://scikit-learn.org/stable/modules/linear_model.html#logistic-regression\n",
      "  extra_warning_msg=_LOGISTIC_SOLVER_CONVERGENCE_MSG,\n"
     ]
    },
    {
     "name": "stdout",
     "output_type": "stream",
     "text": [
      "0\n",
      "This solver needs samples of at least 2 classes in the data, but the data contains only one class: 1\n",
      "occupancy_type\n",
      "1\n",
      "2\n",
      "0\n",
      "Secured_by\n",
      "0\n",
      "1\n",
      "This solver needs samples of at least 2 classes in the data, but the data contains only one class: 1\n",
      "total_units\n",
      "0\n"
     ]
    },
    {
     "name": "stderr",
     "output_type": "stream",
     "text": [
      "/opt/conda/lib/python3.7/site-packages/sklearn/linear_model/_logistic.py:818: ConvergenceWarning: lbfgs failed to converge (status=1):\n",
      "STOP: TOTAL NO. of ITERATIONS REACHED LIMIT.\n",
      "\n",
      "Increase the number of iterations (max_iter) or scale the data as shown in:\n",
      "    https://scikit-learn.org/stable/modules/preprocessing.html\n",
      "Please also refer to the documentation for alternative solver options:\n",
      "    https://scikit-learn.org/stable/modules/linear_model.html#logistic-regression\n",
      "  extra_warning_msg=_LOGISTIC_SOLVER_CONVERGENCE_MSG,\n"
     ]
    },
    {
     "name": "stdout",
     "output_type": "stream",
     "text": [
      "1\n",
      "2\n",
      "3\n",
      "credit_type\n",
      "3\n"
     ]
    },
    {
     "name": "stderr",
     "output_type": "stream",
     "text": [
      "/opt/conda/lib/python3.7/site-packages/sklearn/linear_model/_logistic.py:818: ConvergenceWarning: lbfgs failed to converge (status=1):\n",
      "STOP: TOTAL NO. of ITERATIONS REACHED LIMIT.\n",
      "\n",
      "Increase the number of iterations (max_iter) or scale the data as shown in:\n",
      "    https://scikit-learn.org/stable/modules/preprocessing.html\n",
      "Please also refer to the documentation for alternative solver options:\n",
      "    https://scikit-learn.org/stable/modules/linear_model.html#logistic-regression\n",
      "  extra_warning_msg=_LOGISTIC_SOLVER_CONVERGENCE_MSG,\n"
     ]
    },
    {
     "name": "stdout",
     "output_type": "stream",
     "text": [
      "2\n"
     ]
    },
    {
     "name": "stderr",
     "output_type": "stream",
     "text": [
      "/opt/conda/lib/python3.7/site-packages/sklearn/linear_model/_logistic.py:818: ConvergenceWarning: lbfgs failed to converge (status=1):\n",
      "STOP: TOTAL NO. of ITERATIONS REACHED LIMIT.\n",
      "\n",
      "Increase the number of iterations (max_iter) or scale the data as shown in:\n",
      "    https://scikit-learn.org/stable/modules/preprocessing.html\n",
      "Please also refer to the documentation for alternative solver options:\n",
      "    https://scikit-learn.org/stable/modules/linear_model.html#logistic-regression\n",
      "  extra_warning_msg=_LOGISTIC_SOLVER_CONVERGENCE_MSG,\n"
     ]
    },
    {
     "name": "stdout",
     "output_type": "stream",
     "text": [
      "1\n",
      "0\n",
      "co-applicant_credit_type\n",
      "0\n",
      "1\n",
      "age\n",
      "0\n",
      "3\n",
      "1\n",
      "2\n",
      "4\n",
      "6\n",
      "5\n",
      "7\n",
      "This solver needs samples of at least 2 classes in the data, but the data contains only one class: 1\n",
      "submission_of_application\n",
      "2\n",
      "1\n",
      "0\n",
      "This solver needs samples of at least 2 classes in the data, but the data contains only one class: 1\n",
      "Region\n",
      "3\n",
      "0\n",
      "2\n",
      "1\n",
      "Security_Type\n",
      "1\n",
      "0\n",
      "This solver needs samples of at least 2 classes in the data, but the data contains only one class: 1\n"
     ]
    }
   ],
   "source": [
    "df_temp = likelihood_encoding(df_temp, cat_cols)"
   ]
  },
  {
   "cell_type": "code",
   "execution_count": 43,
   "id": "07d2d410",
   "metadata": {
    "execution": {
     "iopub.execute_input": "2022-04-14T14:49:44.942038Z",
     "iopub.status.busy": "2022-04-14T14:49:44.941751Z",
     "iopub.status.idle": "2022-04-14T14:49:44.969990Z",
     "shell.execute_reply": "2022-04-14T14:49:44.969159Z"
    },
    "papermill": {
     "duration": 0.147045,
     "end_time": "2022-04-14T14:49:44.972071",
     "exception": false,
     "start_time": "2022-04-14T14:49:44.825026",
     "status": "completed"
    },
    "tags": []
   },
   "outputs": [
    {
     "data": {
      "text/html": [
       "<div>\n",
       "<style scoped>\n",
       "    .dataframe tbody tr th:only-of-type {\n",
       "        vertical-align: middle;\n",
       "    }\n",
       "\n",
       "    .dataframe tbody tr th {\n",
       "        vertical-align: top;\n",
       "    }\n",
       "\n",
       "    .dataframe thead th {\n",
       "        text-align: right;\n",
       "    }\n",
       "</style>\n",
       "<table border=\"1\" class=\"dataframe\">\n",
       "  <thead>\n",
       "    <tr style=\"text-align: right;\">\n",
       "      <th></th>\n",
       "      <th>loan_limit</th>\n",
       "      <th>Gender</th>\n",
       "      <th>approv_in_adv</th>\n",
       "      <th>loan_type</th>\n",
       "      <th>loan_purpose</th>\n",
       "      <th>Credit_Worthiness</th>\n",
       "      <th>open_credit</th>\n",
       "      <th>business_or_commercial</th>\n",
       "      <th>Neg_ammortization</th>\n",
       "      <th>interest_only</th>\n",
       "      <th>...</th>\n",
       "      <th>rate_of_interest</th>\n",
       "      <th>Interest_rate_spread</th>\n",
       "      <th>Upfront_charges</th>\n",
       "      <th>term</th>\n",
       "      <th>property_value</th>\n",
       "      <th>income</th>\n",
       "      <th>Credit_Score</th>\n",
       "      <th>LTV</th>\n",
       "      <th>Status</th>\n",
       "      <th>dtir1</th>\n",
       "    </tr>\n",
       "  </thead>\n",
       "  <tbody>\n",
       "    <tr>\n",
       "      <th>0</th>\n",
       "      <td>1.154277</td>\n",
       "      <td>0.915600</td>\n",
       "      <td>1.081530</td>\n",
       "      <td>1.221264</td>\n",
       "      <td>1.052529</td>\n",
       "      <td>1.13506</td>\n",
       "      <td>1.116531</td>\n",
       "      <td>1.206447</td>\n",
       "      <td>1.243584</td>\n",
       "      <td>1.125119</td>\n",
       "      <td>...</td>\n",
       "      <td>4.095875</td>\n",
       "      <td>0.596290</td>\n",
       "      <td>3681.810</td>\n",
       "      <td>360.0</td>\n",
       "      <td>118000.0</td>\n",
       "      <td>1740.0</td>\n",
       "      <td>758</td>\n",
       "      <td>98.728814</td>\n",
       "      <td>1</td>\n",
       "      <td>45.000</td>\n",
       "    </tr>\n",
       "    <tr>\n",
       "      <th>1</th>\n",
       "      <td>1.154277</td>\n",
       "      <td>1.036775</td>\n",
       "      <td>1.081530</td>\n",
       "      <td>0.774842</td>\n",
       "      <td>1.052529</td>\n",
       "      <td>1.13506</td>\n",
       "      <td>1.116531</td>\n",
       "      <td>0.774842</td>\n",
       "      <td>1.243584</td>\n",
       "      <td>1.125119</td>\n",
       "      <td>...</td>\n",
       "      <td>3.487500</td>\n",
       "      <td>1.179555</td>\n",
       "      <td>1332.226</td>\n",
       "      <td>360.0</td>\n",
       "      <td>189000.0</td>\n",
       "      <td>4980.0</td>\n",
       "      <td>552</td>\n",
       "      <td>99.351089</td>\n",
       "      <td>1</td>\n",
       "      <td>40.275</td>\n",
       "    </tr>\n",
       "    <tr>\n",
       "      <th>2</th>\n",
       "      <td>1.154277</td>\n",
       "      <td>1.036775</td>\n",
       "      <td>1.332912</td>\n",
       "      <td>1.221264</td>\n",
       "      <td>1.052529</td>\n",
       "      <td>1.13506</td>\n",
       "      <td>1.116531</td>\n",
       "      <td>1.206447</td>\n",
       "      <td>0.285213</td>\n",
       "      <td>1.125119</td>\n",
       "      <td>...</td>\n",
       "      <td>4.560000</td>\n",
       "      <td>0.200000</td>\n",
       "      <td>595.000</td>\n",
       "      <td>360.0</td>\n",
       "      <td>508000.0</td>\n",
       "      <td>9480.0</td>\n",
       "      <td>834</td>\n",
       "      <td>80.019685</td>\n",
       "      <td>0</td>\n",
       "      <td>46.000</td>\n",
       "    </tr>\n",
       "    <tr>\n",
       "      <th>3</th>\n",
       "      <td>1.154277</td>\n",
       "      <td>1.036775</td>\n",
       "      <td>1.081530</td>\n",
       "      <td>1.221264</td>\n",
       "      <td>1.210345</td>\n",
       "      <td>1.13506</td>\n",
       "      <td>1.116531</td>\n",
       "      <td>1.206447</td>\n",
       "      <td>1.243584</td>\n",
       "      <td>1.125119</td>\n",
       "      <td>...</td>\n",
       "      <td>4.250000</td>\n",
       "      <td>0.681000</td>\n",
       "      <td>13016.460</td>\n",
       "      <td>360.0</td>\n",
       "      <td>658000.0</td>\n",
       "      <td>11880.0</td>\n",
       "      <td>587</td>\n",
       "      <td>69.376900</td>\n",
       "      <td>0</td>\n",
       "      <td>42.000</td>\n",
       "    </tr>\n",
       "    <tr>\n",
       "      <th>4</th>\n",
       "      <td>1.154277</td>\n",
       "      <td>1.439338</td>\n",
       "      <td>1.332912</td>\n",
       "      <td>1.221264</td>\n",
       "      <td>1.052529</td>\n",
       "      <td>1.13506</td>\n",
       "      <td>1.116531</td>\n",
       "      <td>1.206447</td>\n",
       "      <td>1.243584</td>\n",
       "      <td>1.125119</td>\n",
       "      <td>...</td>\n",
       "      <td>4.000000</td>\n",
       "      <td>0.304200</td>\n",
       "      <td>0.000</td>\n",
       "      <td>360.0</td>\n",
       "      <td>758000.0</td>\n",
       "      <td>10440.0</td>\n",
       "      <td>602</td>\n",
       "      <td>91.886544</td>\n",
       "      <td>0</td>\n",
       "      <td>39.000</td>\n",
       "    </tr>\n",
       "  </tbody>\n",
       "</table>\n",
       "<p>5 rows × 34 columns</p>\n",
       "</div>"
      ],
      "text/plain": [
       "   loan_limit    Gender  approv_in_adv  loan_type  loan_purpose  \\\n",
       "0    1.154277  0.915600       1.081530   1.221264      1.052529   \n",
       "1    1.154277  1.036775       1.081530   0.774842      1.052529   \n",
       "2    1.154277  1.036775       1.332912   1.221264      1.052529   \n",
       "3    1.154277  1.036775       1.081530   1.221264      1.210345   \n",
       "4    1.154277  1.439338       1.332912   1.221264      1.052529   \n",
       "\n",
       "   Credit_Worthiness  open_credit  business_or_commercial  Neg_ammortization  \\\n",
       "0            1.13506     1.116531                1.206447           1.243584   \n",
       "1            1.13506     1.116531                0.774842           1.243584   \n",
       "2            1.13506     1.116531                1.206447           0.285213   \n",
       "3            1.13506     1.116531                1.206447           1.243584   \n",
       "4            1.13506     1.116531                1.206447           1.243584   \n",
       "\n",
       "   interest_only  ...  rate_of_interest  Interest_rate_spread  \\\n",
       "0       1.125119  ...          4.095875              0.596290   \n",
       "1       1.125119  ...          3.487500              1.179555   \n",
       "2       1.125119  ...          4.560000              0.200000   \n",
       "3       1.125119  ...          4.250000              0.681000   \n",
       "4       1.125119  ...          4.000000              0.304200   \n",
       "\n",
       "   Upfront_charges   term  property_value   income  Credit_Score        LTV  \\\n",
       "0         3681.810  360.0        118000.0   1740.0           758  98.728814   \n",
       "1         1332.226  360.0        189000.0   4980.0           552  99.351089   \n",
       "2          595.000  360.0        508000.0   9480.0           834  80.019685   \n",
       "3        13016.460  360.0        658000.0  11880.0           587  69.376900   \n",
       "4            0.000  360.0        758000.0  10440.0           602  91.886544   \n",
       "\n",
       "   Status   dtir1  \n",
       "0       1  45.000  \n",
       "1       1  40.275  \n",
       "2       0  46.000  \n",
       "3       0  42.000  \n",
       "4       0  39.000  \n",
       "\n",
       "[5 rows x 34 columns]"
      ]
     },
     "execution_count": 43,
     "metadata": {},
     "output_type": "execute_result"
    }
   ],
   "source": [
    "df_temp.head()"
   ]
  },
  {
   "cell_type": "code",
   "execution_count": 44,
   "id": "bab23e63",
   "metadata": {
    "execution": {
     "iopub.execute_input": "2022-04-14T14:49:45.201292Z",
     "iopub.status.busy": "2022-04-14T14:49:45.200984Z",
     "iopub.status.idle": "2022-04-14T14:49:45.232158Z",
     "shell.execute_reply": "2022-04-14T14:49:45.231056Z"
    },
    "papermill": {
     "duration": 0.148149,
     "end_time": "2022-04-14T14:49:45.234337",
     "exception": false,
     "start_time": "2022-04-14T14:49:45.086188",
     "status": "completed"
    },
    "tags": []
   },
   "outputs": [
    {
     "name": "stdout",
     "output_type": "stream",
     "text": [
      "<class 'pandas.core.frame.DataFrame'>\n",
      "RangeIndex: 148670 entries, 0 to 148669\n",
      "Data columns (total 34 columns):\n",
      " #   Column                     Non-Null Count   Dtype  \n",
      "---  ------                     --------------   -----  \n",
      " 0   loan_limit                 148670 non-null  float64\n",
      " 1   Gender                     148670 non-null  float64\n",
      " 2   approv_in_adv              148670 non-null  float64\n",
      " 3   loan_type                  148670 non-null  float64\n",
      " 4   loan_purpose               148670 non-null  float64\n",
      " 5   Credit_Worthiness          148670 non-null  float64\n",
      " 6   open_credit                148670 non-null  float64\n",
      " 7   business_or_commercial     148670 non-null  float64\n",
      " 8   Neg_ammortization          148670 non-null  float64\n",
      " 9   interest_only              148670 non-null  float64\n",
      " 10  lump_sum_payment           148670 non-null  float64\n",
      " 11  construction_type          148637 non-null  float64\n",
      " 12  occupancy_type             148670 non-null  float64\n",
      " 13  Secured_by                 148637 non-null  float64\n",
      " 14  total_units                148670 non-null  float64\n",
      " 15  credit_type                148670 non-null  float64\n",
      " 16  co-applicant_credit_type   148670 non-null  float64\n",
      " 17  age                        148470 non-null  float64\n",
      " 18  submission_of_application  148470 non-null  float64\n",
      " 19  Region                     148670 non-null  float64\n",
      " 20  Security_Type              148637 non-null  float64\n",
      " 21  ID                         148670 non-null  int64  \n",
      " 22  year                       148670 non-null  int64  \n",
      " 23  loan_amount                148670 non-null  int64  \n",
      " 24  rate_of_interest           148670 non-null  float64\n",
      " 25  Interest_rate_spread       148670 non-null  float64\n",
      " 26  Upfront_charges            148670 non-null  float64\n",
      " 27  term                       148670 non-null  float64\n",
      " 28  property_value             148670 non-null  float64\n",
      " 29  income                     148670 non-null  float64\n",
      " 30  Credit_Score               148670 non-null  int64  \n",
      " 31  LTV                        148670 non-null  float64\n",
      " 32  Status                     148670 non-null  int64  \n",
      " 33  dtir1                      148670 non-null  float64\n",
      "dtypes: float64(29), int64(5)\n",
      "memory usage: 38.6 MB\n"
     ]
    }
   ],
   "source": [
    "df_temp.info()"
   ]
  },
  {
   "cell_type": "code",
   "execution_count": 45,
   "id": "891b67d9",
   "metadata": {
    "execution": {
     "iopub.execute_input": "2022-04-14T14:49:45.465630Z",
     "iopub.status.busy": "2022-04-14T14:49:45.464709Z",
     "iopub.status.idle": "2022-04-14T14:49:45.468928Z",
     "shell.execute_reply": "2022-04-14T14:49:45.468168Z"
    },
    "papermill": {
     "duration": 0.121702,
     "end_time": "2022-04-14T14:49:45.470658",
     "exception": false,
     "start_time": "2022-04-14T14:49:45.348956",
     "status": "completed"
    },
    "tags": []
   },
   "outputs": [],
   "source": [
    "del df_temp"
   ]
  },
  {
   "cell_type": "markdown",
   "id": "b5913499",
   "metadata": {
    "papermill": {
     "duration": 0.114611,
     "end_time": "2022-04-14T14:49:45.700519",
     "exception": false,
     "start_time": "2022-04-14T14:49:45.585908",
     "status": "completed"
    },
    "tags": []
   },
   "source": [
    "Implementation part is done While very fast, it has drawbacks. For example, what happens when a factor level has a single value? Theoretically, the log-odds should be infinite in the appropriate direction i.e. p/(1 - p) tends to infinity if p = 1. And numerically, it is usually capped at a large (and inaccurate) value.\n",
    "\n",
    "For example in above implementation for column construction_type their are 2 categories 1 has around 148637 values and other has 33 values so for category mh which has 33 values p becomes 1 and it raises the error. Then This lead us to move to next technique known as target encoding which is simpler that likelihood encoding. \n",
    "\n",
    "\n",
    "\n",
    "<h3  style=\"text-align: center\" class=\"list-group-item list-group-item-warning\"> 3.1.2 Target Encoding</h3><a id = \"3.1.2\" ></a>\n",
    "\n",
    "\n",
    "It is same as likelihood encoding but the difference is we use average of output variable for that particular category to encode values inplace of some linear model. Lets move to the implementation."
   ]
  },
  {
   "cell_type": "code",
   "execution_count": 46,
   "id": "2ab2a1d2",
   "metadata": {
    "execution": {
     "iopub.execute_input": "2022-04-14T14:49:45.932534Z",
     "iopub.status.busy": "2022-04-14T14:49:45.931961Z",
     "iopub.status.idle": "2022-04-14T14:49:45.938245Z",
     "shell.execute_reply": "2022-04-14T14:49:45.937216Z"
    },
    "papermill": {
     "duration": 0.125493,
     "end_time": "2022-04-14T14:49:45.940351",
     "exception": false,
     "start_time": "2022-04-14T14:49:45.814858",
     "status": "completed"
    },
    "tags": []
   },
   "outputs": [],
   "source": [
    "def target_encoding(df, cat_cols, target_variable = \"Status\"):\n",
    "\n",
    "    for col in cat_cols:\n",
    "        weight = 7\n",
    "        feat = df.groupby(col)[target_variable].agg([\"mean\", \"count\"])\n",
    "        mean = feat['mean']\n",
    "        count = feat['count']\n",
    "        \n",
    "        smooth = (count * mean + weight * mean) / (weight + count)\n",
    "\n",
    "        df.loc[:, col] = df.loc[:, col].map(smooth)\n",
    "\n",
    "    return df"
   ]
  },
  {
   "cell_type": "code",
   "execution_count": 47,
   "id": "14781a01",
   "metadata": {
    "execution": {
     "iopub.execute_input": "2022-04-14T14:49:46.174396Z",
     "iopub.status.busy": "2022-04-14T14:49:46.173327Z",
     "iopub.status.idle": "2022-04-14T14:49:46.198560Z",
     "shell.execute_reply": "2022-04-14T14:49:46.197731Z"
    },
    "papermill": {
     "duration": 0.143471,
     "end_time": "2022-04-14T14:49:46.200870",
     "exception": false,
     "start_time": "2022-04-14T14:49:46.057399",
     "status": "completed"
    },
    "tags": []
   },
   "outputs": [],
   "source": [
    "df_temp = df_new.copy()"
   ]
  },
  {
   "cell_type": "code",
   "execution_count": 48,
   "id": "8c458d9a",
   "metadata": {
    "execution": {
     "iopub.execute_input": "2022-04-14T14:49:46.433482Z",
     "iopub.status.busy": "2022-04-14T14:49:46.432377Z",
     "iopub.status.idle": "2022-04-14T14:49:47.595374Z",
     "shell.execute_reply": "2022-04-14T14:49:47.594169Z"
    },
    "papermill": {
     "duration": 1.281306,
     "end_time": "2022-04-14T14:49:47.597844",
     "exception": false,
     "start_time": "2022-04-14T14:49:46.316538",
     "status": "completed"
    },
    "tags": []
   },
   "outputs": [],
   "source": [
    "from sklearn.linear_model import LogisticRegression\n",
    "from sklearn.metrics import accuracy_score\n",
    "from sklearn.preprocessing import LabelEncoder\n",
    "\n",
    "\n",
    "## Again we have to temporarily encode variables\n",
    "lb = LabelEncoder()\n",
    "\n",
    "cat_cols = [col for col in df_temp.columns if df_temp[col].dtype == 'object']\n",
    "\n",
    "for col in cat_cols:\n",
    "    df_temp[col] = lb.fit_transform(df_temp[col])\n"
   ]
  },
  {
   "cell_type": "code",
   "execution_count": 49,
   "id": "5f3cc1bb",
   "metadata": {
    "execution": {
     "iopub.execute_input": "2022-04-14T14:49:47.835103Z",
     "iopub.status.busy": "2022-04-14T14:49:47.834775Z",
     "iopub.status.idle": "2022-04-14T14:49:48.011200Z",
     "shell.execute_reply": "2022-04-14T14:49:48.010281Z"
    },
    "papermill": {
     "duration": 0.297583,
     "end_time": "2022-04-14T14:49:48.013793",
     "exception": false,
     "start_time": "2022-04-14T14:49:47.716210",
     "status": "completed"
    },
    "tags": []
   },
   "outputs": [],
   "source": [
    "df_temp = target_encoding(df_temp, cat_cols)"
   ]
  },
  {
   "cell_type": "code",
   "execution_count": 50,
   "id": "6e331a7b",
   "metadata": {
    "execution": {
     "iopub.execute_input": "2022-04-14T14:49:48.245396Z",
     "iopub.status.busy": "2022-04-14T14:49:48.244814Z",
     "iopub.status.idle": "2022-04-14T14:49:48.272890Z",
     "shell.execute_reply": "2022-04-14T14:49:48.272204Z"
    },
    "papermill": {
     "duration": 0.146819,
     "end_time": "2022-04-14T14:49:48.274819",
     "exception": false,
     "start_time": "2022-04-14T14:49:48.128000",
     "status": "completed"
    },
    "tags": []
   },
   "outputs": [
    {
     "data": {
      "text/html": [
       "<div>\n",
       "<style scoped>\n",
       "    .dataframe tbody tr th:only-of-type {\n",
       "        vertical-align: middle;\n",
       "    }\n",
       "\n",
       "    .dataframe tbody tr th {\n",
       "        vertical-align: top;\n",
       "    }\n",
       "\n",
       "    .dataframe thead th {\n",
       "        text-align: right;\n",
       "    }\n",
       "</style>\n",
       "<table border=\"1\" class=\"dataframe\">\n",
       "  <thead>\n",
       "    <tr style=\"text-align: right;\">\n",
       "      <th></th>\n",
       "      <th>loan_limit</th>\n",
       "      <th>Gender</th>\n",
       "      <th>approv_in_adv</th>\n",
       "      <th>loan_type</th>\n",
       "      <th>loan_purpose</th>\n",
       "      <th>Credit_Worthiness</th>\n",
       "      <th>open_credit</th>\n",
       "      <th>business_or_commercial</th>\n",
       "      <th>Neg_ammortization</th>\n",
       "      <th>interest_only</th>\n",
       "      <th>...</th>\n",
       "      <th>rate_of_interest</th>\n",
       "      <th>Interest_rate_spread</th>\n",
       "      <th>Upfront_charges</th>\n",
       "      <th>term</th>\n",
       "      <th>property_value</th>\n",
       "      <th>income</th>\n",
       "      <th>Credit_Score</th>\n",
       "      <th>LTV</th>\n",
       "      <th>Status</th>\n",
       "      <th>dtir1</th>\n",
       "    </tr>\n",
       "  </thead>\n",
       "  <tbody>\n",
       "    <tr>\n",
       "      <th>0</th>\n",
       "      <td>0.239708</td>\n",
       "      <td>0.285908</td>\n",
       "      <td>0.253272</td>\n",
       "      <td>0.227749</td>\n",
       "      <td>0.258768</td>\n",
       "      <td>0.243277</td>\n",
       "      <td>0.246709</td>\n",
       "      <td>0.230377</td>\n",
       "      <td>0.223805</td>\n",
       "      <td>0.245105</td>\n",
       "      <td>...</td>\n",
       "      <td>4.095875</td>\n",
       "      <td>0.596290</td>\n",
       "      <td>3681.810</td>\n",
       "      <td>360.0</td>\n",
       "      <td>118000.0</td>\n",
       "      <td>1740.0</td>\n",
       "      <td>758</td>\n",
       "      <td>98.728814</td>\n",
       "      <td>1</td>\n",
       "      <td>45.000</td>\n",
       "    </tr>\n",
       "    <tr>\n",
       "      <th>1</th>\n",
       "      <td>0.239708</td>\n",
       "      <td>0.261914</td>\n",
       "      <td>0.253272</td>\n",
       "      <td>0.345439</td>\n",
       "      <td>0.258768</td>\n",
       "      <td>0.243277</td>\n",
       "      <td>0.246709</td>\n",
       "      <td>0.345439</td>\n",
       "      <td>0.223805</td>\n",
       "      <td>0.245105</td>\n",
       "      <td>...</td>\n",
       "      <td>3.487500</td>\n",
       "      <td>1.179555</td>\n",
       "      <td>1332.226</td>\n",
       "      <td>360.0</td>\n",
       "      <td>189000.0</td>\n",
       "      <td>4980.0</td>\n",
       "      <td>552</td>\n",
       "      <td>99.351089</td>\n",
       "      <td>1</td>\n",
       "      <td>40.275</td>\n",
       "    </tr>\n",
       "    <tr>\n",
       "      <th>2</th>\n",
       "      <td>0.239708</td>\n",
       "      <td>0.261914</td>\n",
       "      <td>0.208937</td>\n",
       "      <td>0.227749</td>\n",
       "      <td>0.258768</td>\n",
       "      <td>0.243277</td>\n",
       "      <td>0.246709</td>\n",
       "      <td>0.230377</td>\n",
       "      <td>0.445965</td>\n",
       "      <td>0.245105</td>\n",
       "      <td>...</td>\n",
       "      <td>4.560000</td>\n",
       "      <td>0.200000</td>\n",
       "      <td>595.000</td>\n",
       "      <td>360.0</td>\n",
       "      <td>508000.0</td>\n",
       "      <td>9480.0</td>\n",
       "      <td>834</td>\n",
       "      <td>80.019685</td>\n",
       "      <td>0</td>\n",
       "      <td>46.000</td>\n",
       "    </tr>\n",
       "    <tr>\n",
       "      <th>3</th>\n",
       "      <td>0.239708</td>\n",
       "      <td>0.261914</td>\n",
       "      <td>0.253272</td>\n",
       "      <td>0.227749</td>\n",
       "      <td>0.229749</td>\n",
       "      <td>0.243277</td>\n",
       "      <td>0.246709</td>\n",
       "      <td>0.230377</td>\n",
       "      <td>0.223805</td>\n",
       "      <td>0.245105</td>\n",
       "      <td>...</td>\n",
       "      <td>4.250000</td>\n",
       "      <td>0.681000</td>\n",
       "      <td>13016.460</td>\n",
       "      <td>360.0</td>\n",
       "      <td>658000.0</td>\n",
       "      <td>11880.0</td>\n",
       "      <td>587</td>\n",
       "      <td>69.376900</td>\n",
       "      <td>0</td>\n",
       "      <td>42.000</td>\n",
       "    </tr>\n",
       "    <tr>\n",
       "      <th>4</th>\n",
       "      <td>0.239708</td>\n",
       "      <td>0.191623</td>\n",
       "      <td>0.208937</td>\n",
       "      <td>0.227749</td>\n",
       "      <td>0.258768</td>\n",
       "      <td>0.243277</td>\n",
       "      <td>0.246709</td>\n",
       "      <td>0.230377</td>\n",
       "      <td>0.223805</td>\n",
       "      <td>0.245105</td>\n",
       "      <td>...</td>\n",
       "      <td>4.000000</td>\n",
       "      <td>0.304200</td>\n",
       "      <td>0.000</td>\n",
       "      <td>360.0</td>\n",
       "      <td>758000.0</td>\n",
       "      <td>10440.0</td>\n",
       "      <td>602</td>\n",
       "      <td>91.886544</td>\n",
       "      <td>0</td>\n",
       "      <td>39.000</td>\n",
       "    </tr>\n",
       "  </tbody>\n",
       "</table>\n",
       "<p>5 rows × 34 columns</p>\n",
       "</div>"
      ],
      "text/plain": [
       "   loan_limit    Gender  approv_in_adv  loan_type  loan_purpose  \\\n",
       "0    0.239708  0.285908       0.253272   0.227749      0.258768   \n",
       "1    0.239708  0.261914       0.253272   0.345439      0.258768   \n",
       "2    0.239708  0.261914       0.208937   0.227749      0.258768   \n",
       "3    0.239708  0.261914       0.253272   0.227749      0.229749   \n",
       "4    0.239708  0.191623       0.208937   0.227749      0.258768   \n",
       "\n",
       "   Credit_Worthiness  open_credit  business_or_commercial  Neg_ammortization  \\\n",
       "0           0.243277     0.246709                0.230377           0.223805   \n",
       "1           0.243277     0.246709                0.345439           0.223805   \n",
       "2           0.243277     0.246709                0.230377           0.445965   \n",
       "3           0.243277     0.246709                0.230377           0.223805   \n",
       "4           0.243277     0.246709                0.230377           0.223805   \n",
       "\n",
       "   interest_only  ...  rate_of_interest  Interest_rate_spread  \\\n",
       "0       0.245105  ...          4.095875              0.596290   \n",
       "1       0.245105  ...          3.487500              1.179555   \n",
       "2       0.245105  ...          4.560000              0.200000   \n",
       "3       0.245105  ...          4.250000              0.681000   \n",
       "4       0.245105  ...          4.000000              0.304200   \n",
       "\n",
       "   Upfront_charges   term  property_value   income  Credit_Score        LTV  \\\n",
       "0         3681.810  360.0        118000.0   1740.0           758  98.728814   \n",
       "1         1332.226  360.0        189000.0   4980.0           552  99.351089   \n",
       "2          595.000  360.0        508000.0   9480.0           834  80.019685   \n",
       "3        13016.460  360.0        658000.0  11880.0           587  69.376900   \n",
       "4            0.000  360.0        758000.0  10440.0           602  91.886544   \n",
       "\n",
       "   Status   dtir1  \n",
       "0       1  45.000  \n",
       "1       1  40.275  \n",
       "2       0  46.000  \n",
       "3       0  42.000  \n",
       "4       0  39.000  \n",
       "\n",
       "[5 rows x 34 columns]"
      ]
     },
     "execution_count": 50,
     "metadata": {},
     "output_type": "execute_result"
    }
   ],
   "source": [
    "df_temp.head()"
   ]
  },
  {
   "cell_type": "markdown",
   "id": "e6ff54a8",
   "metadata": {
    "papermill": {
     "duration": 0.117047,
     "end_time": "2022-04-14T14:49:48.508418",
     "exception": false,
     "start_time": "2022-04-14T14:49:48.391371",
     "status": "completed"
    },
    "tags": []
   },
   "source": [
    "- Target Encoding could be good choice for binary classification but for regression it is not, because it ignores intra-category variation of the target variable. This is addressed in Bayesian Target Encoding.\n",
    "\n",
    "- Target encoding has a tendency to overfit due to the target leakage.\n",
    "\n",
    "- Another problem is that some of the categories have few training examples, and the mean target value for these categories may assume extreme values, so encoding these values with mean may reduce the model performance.\n",
    "\n",
    "These issues are addressed in Bayesian Target Encoding. Which you can read from this informational blog [Target Encoding and Bayesian Target Encoding](https://towardsdatascience.com/target-encoding-and-bayesian-target-encoding-5c6a6c58ae8c)\n"
   ]
  },
  {
   "cell_type": "code",
   "execution_count": 51,
   "id": "1d2fd21d",
   "metadata": {
    "execution": {
     "iopub.execute_input": "2022-04-14T14:49:48.746707Z",
     "iopub.status.busy": "2022-04-14T14:49:48.746177Z",
     "iopub.status.idle": "2022-04-14T14:49:48.775735Z",
     "shell.execute_reply": "2022-04-14T14:49:48.775047Z"
    },
    "papermill": {
     "duration": 0.152622,
     "end_time": "2022-04-14T14:49:48.777562",
     "exception": false,
     "start_time": "2022-04-14T14:49:48.624940",
     "status": "completed"
    },
    "tags": []
   },
   "outputs": [
    {
     "data": {
      "text/plain": [
       "45-54      34720\n",
       "35-44      32818\n",
       "55-64      32534\n",
       "65-74      20744\n",
       "25-34      19142\n",
       ">74         7175\n",
       "<25         1337\n",
       "Missing      200\n",
       "Name: age, dtype: int64"
      ]
     },
     "execution_count": 51,
     "metadata": {},
     "output_type": "execute_result"
    }
   ],
   "source": [
    "df['age'].value_counts()"
   ]
  },
  {
   "cell_type": "markdown",
   "id": "6ae74481",
   "metadata": {
    "papermill": {
     "duration": 0.116694,
     "end_time": "2022-04-14T14:49:49.010818",
     "exception": false,
     "start_time": "2022-04-14T14:49:48.894124",
     "status": "completed"
    },
    "tags": []
   },
   "source": [
    "<h3  style=\"text-align: center\" class=\"list-group-item list-group-item-warning\"> 3.1.3 Deep Learning Methods</h3><a id = \"3.1.3\" ></a>\n",
    "\n",
    "\n",
    "Another supervised approach comes from the deep learning literature on the analysis of textual data. In this case, large amounts of text can be cut up into individual words. Rather than making each of these words into its own indicator variable, word embedding or entity embedding approaches have been developed. Similar to the dimension reduction methods, the idea is to estimate a smaller set of numeric features that can be used to adequately represent the categorical predictors.\n",
    "\n",
    "In addition to the dimension reduction, there is the possibility that these methods can estimate semantic relationships between words so that words with similar themes (e.g., “dog”, “pet”, etc.) have similar values in the new encodings. This technique is not limited to text data and can be used to encode any type of qualitative variable.\n",
    "\n",
    "The idea is well very simple do not extract features manually use neural network to do the hard part and just wait for the results."
   ]
  },
  {
   "cell_type": "markdown",
   "id": "c7aa30f3",
   "metadata": {
    "papermill": {
     "duration": 0.116333,
     "end_time": "2022-04-14T14:49:49.244779",
     "exception": false,
     "start_time": "2022-04-14T14:49:49.128446",
     "status": "completed"
    },
    "tags": []
   },
   "source": [
    "<h2  style=\"text-align: center\" class=\"list-group-item list-group-item-success\"> 3.2 Approaches for Novel Categories</h2><a id = \"3.2\" ></a>\n",
    "\n",
    "\n",
    "\n",
    "What if some new category introduce to some attribute in future how will we encode that variable then? If there is a possibility of encountering a new category in the future, one strategy would be to use the \"other\" category to capture new values. \n",
    "\n",
    "While this approach may not be the most effective at extracting predictive information relative to the response for this specific category, it does enable the original model to be applied to new data without completely refitting and we do need to ensure that the \"other\" category is present in the training/testing data.\n",
    "\n",
    "After assigning \"other\" category to novel category than we can do all kinds of encodings we studied above"
   ]
  },
  {
   "cell_type": "markdown",
   "id": "8279a768",
   "metadata": {
    "papermill": {
     "duration": 0.117452,
     "end_time": "2022-04-14T14:49:49.478331",
     "exception": false,
     "start_time": "2022-04-14T14:49:49.360879",
     "status": "completed"
    },
    "tags": []
   },
   "source": [
    "This is it for this notebook in upcoming notebooks will try to cover more data preprocessing techniques like Binning for reducing noise, application of PCA in feature engineering, advance feature selection techniques and many more. "
   ]
  },
  {
   "cell_type": "markdown",
   "id": "cbe0d1be",
   "metadata": {
    "papermill": {
     "duration": 0.117145,
     "end_time": "2022-04-14T14:49:49.717720",
     "exception": false,
     "start_time": "2022-04-14T14:49:49.600575",
     "status": "completed"
    },
    "tags": []
   },
   "source": [
    "<h1 style=\"text-align: center\" class=\"list-group-item list-group-item-action active\">References</h1><a id = \"\" ></a>\n",
    "\n",
    "- [Data Preprocessing in Machine Learning](https://www.javatpoint.com/data-preprocessing-machine-learning)\n",
    "- [Easy Way of Finding and Visualizing Missing Data in Python](https://medium.datadriveninvestor.com/easy-way-of-finding-and-visualizing-missing-data-in-python-bf5e3f622dc5)\n",
    "- [Visualizing Missing Values in Python is Shockingly Easy](https://towardsdatascience.com/visualizing-missing-values-in-python-is-shockingly-easy-56ed5bc2e7ea)\n",
    "- [Encoding categorical variables using likelihood estimation](https://datascience.stackexchange.com/questions/11024/encoding-categorical-variables-using-likelihood-estimation)\n",
    "- [Target Encoding and Bayesian Target Encoding](https://towardsdatascience.com/target-encoding-and-bayesian-target-encoding-5c6a6c58ae8c)"
   ]
  },
  {
   "cell_type": "code",
   "execution_count": null,
   "id": "5e887062",
   "metadata": {
    "papermill": {
     "duration": 0.122787,
     "end_time": "2022-04-14T14:49:49.958635",
     "exception": false,
     "start_time": "2022-04-14T14:49:49.835848",
     "status": "completed"
    },
    "tags": []
   },
   "outputs": [],
   "source": []
  }
 ],
 "metadata": {
  "kernelspec": {
   "display_name": "Python 3",
   "language": "python",
   "name": "python3"
  },
  "language_info": {
   "codemirror_mode": {
    "name": "ipython",
    "version": 3
   },
   "file_extension": ".py",
   "mimetype": "text/x-python",
   "name": "python",
   "nbconvert_exporter": "python",
   "pygments_lexer": "ipython3",
   "version": "3.7.12"
  },
  "papermill": {
   "default_parameters": {},
   "duration": 1286.881238,
   "end_time": "2022-04-14T14:49:52.805839",
   "environment_variables": {},
   "exception": null,
   "input_path": "__notebook__.ipynb",
   "output_path": "__notebook__.ipynb",
   "parameters": {},
   "start_time": "2022-04-14T14:28:25.924601",
   "version": "2.3.4"
  }
 },
 "nbformat": 4,
 "nbformat_minor": 5
}
