{
 "cells": [
  {
   "cell_type": "code",
   "execution_count": 1,
   "id": "10591e65-4feb-4954-88b4-a849d43c3d9b",
   "metadata": {},
   "outputs": [
    {
     "name": "stderr",
     "output_type": "stream",
     "text": [
      "── \u001b[1mAttaching packages\u001b[22m ────────────────────────────────────────────────────────────────────────────────────────────────────────── tidyverse 1.3.1 ──\n",
      "\n",
      "\u001b[32m✔\u001b[39m \u001b[34mggplot2\u001b[39m 3.3.5     \u001b[32m✔\u001b[39m \u001b[34mpurrr  \u001b[39m 0.3.4\n",
      "\u001b[32m✔\u001b[39m \u001b[34mtibble \u001b[39m 3.1.6     \u001b[32m✔\u001b[39m \u001b[34mdplyr  \u001b[39m 1.0.8\n",
      "\u001b[32m✔\u001b[39m \u001b[34mtidyr  \u001b[39m 1.2.0     \u001b[32m✔\u001b[39m \u001b[34mstringr\u001b[39m 1.4.0\n",
      "\u001b[32m✔\u001b[39m \u001b[34mreadr  \u001b[39m 2.1.2     \u001b[32m✔\u001b[39m \u001b[34mforcats\u001b[39m 0.5.1\n",
      "\n",
      "── \u001b[1mConflicts\u001b[22m ───────────────────────────────────────────────────────────────────────────────────────────────────────────── tidyverse_conflicts() ──\n",
      "\u001b[31m✖\u001b[39m \u001b[34mdplyr\u001b[39m::\u001b[32mfilter()\u001b[39m masks \u001b[34mstats\u001b[39m::filter()\n",
      "\u001b[31m✖\u001b[39m \u001b[34mdplyr\u001b[39m::\u001b[32mlag()\u001b[39m    masks \u001b[34mstats\u001b[39m::lag()\n",
      "\n",
      "Загрузка требуемого пакета: grid\n",
      "\n"
     ]
    }
   ],
   "source": [
    "library(tidyverse)\n",
    "library(ggplot2)\n",
    "library(PropCIs)\n",
    "library(zeallot)\n",
    "library(DBI)\n",
    "library(vcd)\n",
    "con <- DBI::dbConnect(odbc::odbc(), driver = \"/usr/local/Cellar/psqlodbc/13.02.0000/lib/psqlodbcw.so\", database = \"yukontaf\", UID = \"glebsokolov\", host = \"localhost\",\n",
    "  port = 5432)"
   ]
  },
  {
   "cell_type": "code",
   "execution_count": 2,
   "id": "a08236fa-c2c8-42cd-8327-688ecb2f101a",
   "metadata": {},
   "outputs": [],
   "source": [
    "credit_score <- dbSendQuery(con, \"SELECT * FROM credit_score\")\n",
    "credit_score <- dbFetch(credit_score)"
   ]
  },
  {
   "cell_type": "markdown",
   "id": "dc4155b7-6b59-441e-9410-8a561e6a2869",
   "metadata": {},
   "source": [
    "Let's convert the columns in the receieved data to the right types."
   ]
  },
  {
   "cell_type": "code",
   "execution_count": 3,
   "id": "2a70e7d5-8afb-454a-b7a7-30ac2271fc57",
   "metadata": {},
   "outputs": [],
   "source": [
    "for (col in 1:ncol(credit_score)) {\n",
    "  colnames(credit_score)[col] <- tolower(colnames(credit_score)[col])\n",
    "}"
   ]
  },
  {
   "cell_type": "code",
   "execution_count": 4,
   "id": "3add9dfd-b81e-4953-9be1-164866a8f8c4",
   "metadata": {},
   "outputs": [],
   "source": [
    "credit_score <- subset(credit_score, select = -c(index, id))\n",
    "categories <- c(\"sex\", \"education\", \"marriage\", \"default\")\n",
    "for (col in categories) {\n",
    "  credit_score[, col] <- as.factor(credit_score[, col])\n",
    "}\n",
    "numerical <- names(subset(credit_score, select = -c(sex, education, marriage, default)))\n",
    "for (n in numerical) {\n",
    "  credit_score[, n] <- as.double(credit_score[, n])\n",
    "}"
   ]
  },
  {
   "cell_type": "code",
   "execution_count": 7,
   "id": "867e23e4-2e0a-472d-830c-bc23f3224fe5",
   "metadata": {},
   "outputs": [
    {
     "name": "stdout",
     "output_type": "stream",
     "text": [
      "\u001b[90m# A tibble: 30,000 × 24\u001b[39m\n",
      "   limit_bal sex   education marriage   age pay_0 pay_2 pay_3 pay_4 pay_5 pay_6\n",
      "       \u001b[3m\u001b[90m<dbl>\u001b[39m\u001b[23m \u001b[3m\u001b[90m<fct>\u001b[39m\u001b[23m \u001b[3m\u001b[90m<fct>\u001b[39m\u001b[23m     \u001b[3m\u001b[90m<fct>\u001b[39m\u001b[23m    \u001b[3m\u001b[90m<dbl>\u001b[39m\u001b[23m \u001b[3m\u001b[90m<dbl>\u001b[39m\u001b[23m \u001b[3m\u001b[90m<dbl>\u001b[39m\u001b[23m \u001b[3m\u001b[90m<dbl>\u001b[39m\u001b[23m \u001b[3m\u001b[90m<dbl>\u001b[39m\u001b[23m \u001b[3m\u001b[90m<dbl>\u001b[39m\u001b[23m \u001b[3m\u001b[90m<dbl>\u001b[39m\u001b[23m\n",
      "\u001b[90m 1\u001b[39m     \u001b[4m2\u001b[24m\u001b[4m0\u001b[24m000 2     2         1           24     2     2     0     0     0     0\n",
      "\u001b[90m 2\u001b[39m    \u001b[4m1\u001b[24m\u001b[4m2\u001b[24m\u001b[4m0\u001b[24m000 2     2         2           26     0     2     0     0     0     2\n",
      "\u001b[90m 3\u001b[39m     \u001b[4m9\u001b[24m\u001b[4m0\u001b[24m000 2     2         2           34     0     0     0     0     0     0\n",
      "\u001b[90m 4\u001b[39m     \u001b[4m5\u001b[24m\u001b[4m0\u001b[24m000 2     2         1           37     0     0     0     0     0     0\n",
      "\u001b[90m 5\u001b[39m     \u001b[4m5\u001b[24m\u001b[4m0\u001b[24m000 1     2         1           57     0     0     0     0     0     0\n",
      "\u001b[90m 6\u001b[39m     \u001b[4m5\u001b[24m\u001b[4m0\u001b[24m000 1     1         2           37     0     0     0     0     0     0\n",
      "\u001b[90m 7\u001b[39m    \u001b[4m5\u001b[24m\u001b[4m0\u001b[24m\u001b[4m0\u001b[24m000 1     1         2           29     0     0     0     0     0     0\n",
      "\u001b[90m 8\u001b[39m    \u001b[4m1\u001b[24m\u001b[4m0\u001b[24m\u001b[4m0\u001b[24m000 2     2         2           23     0     0     0     0     0     0\n",
      "\u001b[90m 9\u001b[39m    \u001b[4m1\u001b[24m\u001b[4m4\u001b[24m\u001b[4m0\u001b[24m000 2     3         1           28     0     0     2     0     0     0\n",
      "\u001b[90m10\u001b[39m     \u001b[4m2\u001b[24m\u001b[4m0\u001b[24m000 1     3         2           35     0     0     0     0     0     0\n",
      "\u001b[90m# … with 29,990 more rows, and 13 more variables: bill_amt1 <dbl>,\u001b[39m\n",
      "\u001b[90m#   bill_amt2 <dbl>, bill_amt3 <dbl>, bill_amt4 <dbl>, bill_amt5 <dbl>,\u001b[39m\n",
      "\u001b[90m#   bill_amt6 <dbl>, pay_amt1 <dbl>, pay_amt2 <dbl>, pay_amt3 <dbl>,\u001b[39m\n",
      "\u001b[90m#   pay_amt4 <dbl>, pay_amt5 <dbl>, pay_amt6 <dbl>, default <fct>\u001b[39m\n"
     ]
    }
   ],
   "source": [
    "credit_score %>% as_tibble() %>% print(n=10)"
   ]
  },
  {
   "cell_type": "markdown",
   "id": "408a5975-5f29-4ded-9f47-8604a427546c",
   "metadata": {},
   "source": [
    "Let's test two hypothesis: \n",
    "- Are the mean credit limits (limit_bal) value for two groups default = 0 (didn't returned the credit) and default = 1 equal to each other?\n",
    "- Are the distributions of the limit_bal for these two groups also equal to each other?\n",
    "\n",
    "In order to answer these and the following questions I will calculate **confidence intervals**."
   ]
  },
  {
   "cell_type": "code",
   "execution_count": 6,
   "id": "57622a65-9464-4981-a763-531467d7d8ac",
   "metadata": {},
   "outputs": [
    {
     "data": {
      "text/plain": [
       "\n",
       "\tWelch Two Sample t-test\n",
       "\n",
       "data:  limit_bal by default\n",
       "t = 28.952, df = 11982, p-value < 2.2e-16\n",
       "alternative hypothesis: true difference in means between group 0 and group 1 is not equal to 0\n",
       "95 percent confidence interval:\n",
       " 44740.91 51239.23\n",
       "sample estimates:\n",
       "mean in group 0 mean in group 1 \n",
       "       178099.7        130109.7 \n"
      ]
     },
     "metadata": {},
     "output_type": "display_data"
    },
    {
     "data": {
      "text/plain": [
       "\n",
       "\tWilcoxon rank sum test with continuity correction\n",
       "\n",
       "data:  limit_bal by default\n",
       "W = 95786286, p-value < 2.2e-16\n",
       "alternative hypothesis: true location shift is not equal to 0\n"
      ]
     },
     "metadata": {},
     "output_type": "display_data"
    }
   ],
   "source": [
    "p <- ggplot(credit_score, aes(x = default, y = limit_bal)) + geom_boxplot()\n",
    "t.test(limit_bal ~ default, data = credit_score)\n",
    "wilcox.test(limit_bal ~ default, data = credit_score)"
   ]
  },
  {
   "cell_type": "markdown",
   "id": "c90f0631-a2a8-4f90-9e17-30b19a87cf6e",
   "metadata": {},
   "source": [
    "**These results are obviously practically significant.**"
   ]
  },
  {
   "cell_type": "markdown",
   "id": "746f0290-4272-47a1-929b-2016f9041798",
   "metadata": {},
   "source": [
    "Now, lets test another pair of hypothesis:\n",
    "- Are the mean ages and their distributions for these two groups equal to each other?"
   ]
  },
  {
   "cell_type": "code",
   "execution_count": 7,
   "id": "8bfd4b5b-ef6f-4caf-8471-83b1d0f3a051",
   "metadata": {},
   "outputs": [
    {
     "data": {
      "text/plain": [
       "\n",
       "\tWelch Two Sample t-test\n",
       "\n",
       "data:  age by default\n",
       "t = -2.3195, df = 10173, p-value = 0.02039\n",
       "alternative hypothesis: true difference in means between group 0 and group 1 is not equal to 0\n",
       "95 percent confidence interval:\n",
       " -0.56915863 -0.04778641\n",
       "sample estimates:\n",
       "mean in group 0 mean in group 1 \n",
       "       35.41727        35.72574 \n"
      ]
     },
     "metadata": {},
     "output_type": "display_data"
    },
    {
     "data": {
      "text/plain": [
       "\n",
       "\tWilcoxon rank sum test with continuity correction\n",
       "\n",
       "data:  age by default\n",
       "W = 76966880, p-value = 0.3725\n",
       "alternative hypothesis: true location shift is not equal to 0\n"
      ]
     },
     "metadata": {},
     "output_type": "display_data"
    }
   ],
   "source": [
    "t.test(age ~ default, credit_score)\n",
    "wilcox.test(age ~ default, credit_score)"
   ]
  },
  {
   "cell_type": "markdown",
   "id": "6430464a-86fa-49fa-ac49-04a28698ca0a",
   "metadata": {},
   "source": [
    "The result we received tells us that statistically, mean ages *are* different, but from the confidence interval value we can see that **this difference is hardly practically signigicant.**"
   ]
  },
  {
   "cell_type": "markdown",
   "id": "e5da980b-376b-4da6-b15b-6bb70277c05e",
   "metadata": {},
   "source": [
    "Now let's see if the gender composition for the two groups differ."
   ]
  },
  {
   "cell_type": "code",
   "execution_count": 6,
   "id": "5b486fdf-141e-4edf-8788-24f28e3ca0a8",
   "metadata": {},
   "outputs": [
    {
     "data": {
      "text/plain": [
       "\n",
       "\n",
       "\n",
       "data:  \n",
       "\n",
       "95 percent confidence interval:\n",
       " -0.06057240 -0.03366348\n"
      ]
     },
     "metadata": {},
     "output_type": "display_data"
    }
   ],
   "source": [
    "good <- filter(credit_score, default == 0)\n",
    "bad <- filter(credit_score, default == 1)\n",
    "c(ngoodmen, total_good, nbadmen, total_bad) %<-% c(table(good$sex)[1], sum(table(good$sex)), table(bad$sex)[1], sum(table(bad$sex)))\n",
    "diffscoreci(ngoodmen, total_good, nbadmen, total_bad, conf.level = 0.95)"
   ]
  },
  {
   "cell_type": "markdown",
   "id": "e4b914bc-1e2d-4515-866e-5007262c8d4e",
   "metadata": {},
   "source": [
    "That means that men do not return their credits **slightly more often** (3-6%) than women."
   ]
  },
  {
   "cell_type": "markdown",
   "id": "c166c849-0f0d-4a30-b105-46cf3e37385f",
   "metadata": {},
   "source": [
    "Now, let's see if the education level impacts default rate. First, calculate table which will show us the sizes of default and no-default groups for each education level, secondly, let's see how do these sizes differ from the expected ones, next calculate the value of the statistical criteria."
   ]
  },
  {
   "cell_type": "code",
   "execution_count": 13,
   "id": "b3b8df0a-1ec3-402e-8aae-e45912af80eb",
   "metadata": {},
   "outputs": [
    {
     "data": {
      "text/plain": [
       "   \n",
       "        0     1\n",
       "  0    14     0\n",
       "  1  8549  2036\n",
       "  2 10700  3330\n",
       "  3  3680  1237\n",
       "  4   116     7\n",
       "  5   262    18\n",
       "  6    43     8"
      ]
     },
     "metadata": {},
     "output_type": "display_data"
    },
    {
     "name": "stderr",
     "output_type": "stream",
     "text": [
      "Warning message in chisq.test(crosstab):\n",
      "“Chi-squared approximation may be incorrect”\n"
     ]
    },
    {
     "data": {
      "text/plain": [
       "   \n",
       "            0         1\n",
       "  0    3.0968   -3.0968\n",
       "  1  305.4020 -305.4020\n",
       "  2 -226.5640  226.5640\n",
       "  3 -149.3596  149.3596\n",
       "  4   20.2076  -20.2076\n",
       "  5   43.9360  -43.9360\n",
       "  6    3.2812   -3.2812"
      ]
     },
     "metadata": {},
     "output_type": "display_data"
    },
    {
     "name": "stderr",
     "output_type": "stream",
     "text": [
      "Warning message in chisq.test(crosstab):\n",
      "“Chi-squared approximation may be incorrect”\n"
     ]
    },
    {
     "data": {
      "text/plain": [
       "\n",
       "\tPearson's Chi-squared test\n",
       "\n",
       "data:  crosstab\n",
       "X-squared = 163.22, df = 6, p-value < 2.2e-16\n"
      ]
     },
     "metadata": {},
     "output_type": "display_data"
    },
    {
     "data": {
      "text/plain": [
       "                    X^2 df P(> X^2)\n",
       "Likelihood Ratio 184.71  6        0\n",
       "Pearson          163.22  6        0\n",
       "\n",
       "Phi-Coefficient   : NA \n",
       "Contingency Coeff.: 0.074 \n",
       "Cramer's V        : 0.074 "
      ]
     },
     "metadata": {},
     "output_type": "display_data"
    }
   ],
   "source": [
    "crosstab <- table(credit_score$education, credit_score$default)\n",
    "crosstab\n",
    "crosstab - chisq.test(crosstab)$expected\n",
    "chisq.test(crosstab)\n",
    "assocstats(crosstab)"
   ]
  },
  {
   "cell_type": "markdown",
   "id": "5243c6bc-c33e-43e9-9b06-f97dc39c4ba0",
   "metadata": {},
   "source": [
    "Finally, let's see if the marriage category impacts the default category."
   ]
  },
  {
   "cell_type": "code",
   "execution_count": 14,
   "id": "14bbd715-7689-42e2-83f8-a1bd693a99f6",
   "metadata": {},
   "outputs": [
    {
     "data": {
      "text/plain": [
       "   \n",
       "        0     1\n",
       "  0    49     5\n",
       "  1 10453  3206\n",
       "  2 12623  3341\n",
       "  3   239    84"
      ]
     },
     "metadata": {},
     "output_type": "display_data"
    },
    {
     "data": {
      "text/plain": [
       "                    X^2 df   P(> X^2)\n",
       "Likelihood Ratio 36.609  3 5.5663e-08\n",
       "Pearson          35.662  3 8.8259e-08\n",
       "\n",
       "Phi-Coefficient   : NA \n",
       "Contingency Coeff.: 0.034 \n",
       "Cramer's V        : 0.034 "
      ]
     },
     "metadata": {},
     "output_type": "display_data"
    }
   ],
   "source": [
    "marriage_crosstab <- table(credit_score$marriage, credit_score$default)\n",
    "marriage_crosstab\n",
    "assocstats(marriage_crosstab)"
   ]
  },
  {
   "cell_type": "markdown",
   "id": "dca32417-43c6-4693-af2c-9f0cee66bc2e",
   "metadata": {},
   "source": [
    "For both variables (education and marriage) we see that **they statitically significant impact the default category**. However, the contigency coefficients (which tells us how strong the features are correlated) are relatively small."
   ]
  },
  {
   "cell_type": "code",
   "execution_count": null,
   "id": "e3d0ba1e-fc7f-4e21-8f3b-e7e637dda096",
   "metadata": {},
   "outputs": [],
   "source": []
  }
 ],
 "metadata": {
  "kernelspec": {
   "display_name": "R",
   "language": "R",
   "name": "ir"
  },
  "language_info": {
   "codemirror_mode": "r",
   "file_extension": ".r",
   "mimetype": "text/x-r-source",
   "name": "R",
   "pygments_lexer": "r",
   "version": "4.1.2"
  }
 },
 "nbformat": 4,
 "nbformat_minor": 5
}
