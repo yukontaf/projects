{
 "cells": [
  {
   "cell_type": "code",
   "execution_count": 12,
   "metadata": {},
   "outputs": [
    {
     "ename": "ValueError",
     "evalue": "The truth value of an array with more than one element is ambiguous. Use a.any() or a.all()",
     "output_type": "error",
     "traceback": [
      "\u001b[0;31m---------------------------------------------------------------------------\u001b[0m",
      "\u001b[0;31mValueError\u001b[0m                                Traceback (most recent call last)",
      "\u001b[1;32m/Users/glebsokolov/projects/sentimentAnalysis.ipynb Cell 1'\u001b[0m in \u001b[0;36m<cell line: 7>\u001b[0;34m()\u001b[0m\n\u001b[1;32m      <a href='vscode-notebook-cell:/Users/glebsokolov/projects/sentimentAnalysis.ipynb#ch0000000?line=3'>4</a>\u001b[0m InteractiveShell\u001b[39m.\u001b[39mast_node_interactivity \u001b[39m=\u001b[39m \u001b[39m\"\u001b[39m\u001b[39mall\u001b[39m\u001b[39m\"\u001b[39m\n\u001b[1;32m      <a href='vscode-notebook-cell:/Users/glebsokolov/projects/sentimentAnalysis.ipynb#ch0000000?line=4'>5</a>\u001b[0m f \u001b[39m=\u001b[39m tf\u001b[39m.\u001b[39mio\u001b[39m.\u001b[39mmatch_filenames_once(\u001b[39m'\u001b[39m\u001b[39m/Users/glebsokolov/Downloads/User Identification From Walking Activity/*.csv\u001b[39m\u001b[39m'\u001b[39m)\n\u001b[0;32m----> <a href='vscode-notebook-cell:/Users/glebsokolov/projects/sentimentAnalysis.ipynb#ch0000000?line=6'>7</a>\u001b[0m tf\u001b[39m.\u001b[39;49mtrain\u001b[39m.\u001b[39;49mstring_input_producer(f)\n",
      "File \u001b[0;32m~/opt/miniconda3/envs/default/lib/python3.10/site-packages/tensorflow/python/util/deprecation.py:344\u001b[0m, in \u001b[0;36mdeprecated.<locals>.deprecated_wrapper.<locals>.new_func\u001b[0;34m(*args, **kwargs)\u001b[0m\n\u001b[1;32m    <a href='file:///Users/glebsokolov/opt/miniconda3/envs/default/lib/python3.10/site-packages/tensorflow/python/util/deprecation.py?line=335'>336</a>\u001b[0m       _PRINTED_WARNING[func] \u001b[39m=\u001b[39m \u001b[39mTrue\u001b[39;00m\n\u001b[1;32m    <a href='file:///Users/glebsokolov/opt/miniconda3/envs/default/lib/python3.10/site-packages/tensorflow/python/util/deprecation.py?line=336'>337</a>\u001b[0m     logging\u001b[39m.\u001b[39mwarning(\n\u001b[1;32m    <a href='file:///Users/glebsokolov/opt/miniconda3/envs/default/lib/python3.10/site-packages/tensorflow/python/util/deprecation.py?line=337'>338</a>\u001b[0m         \u001b[39m'\u001b[39m\u001b[39mFrom \u001b[39m\u001b[39m%s\u001b[39;00m\u001b[39m: \u001b[39m\u001b[39m%s\u001b[39;00m\u001b[39m (from \u001b[39m\u001b[39m%s\u001b[39;00m\u001b[39m) is deprecated and will be removed \u001b[39m\u001b[39m%s\u001b[39;00m\u001b[39m.\u001b[39m\u001b[39m\\n\u001b[39;00m\u001b[39m'\u001b[39m\n\u001b[1;32m    <a href='file:///Users/glebsokolov/opt/miniconda3/envs/default/lib/python3.10/site-packages/tensorflow/python/util/deprecation.py?line=338'>339</a>\u001b[0m         \u001b[39m'\u001b[39m\u001b[39mInstructions for updating:\u001b[39m\u001b[39m\\n\u001b[39;00m\u001b[39m%s\u001b[39;00m\u001b[39m'\u001b[39m,\n\u001b[0;32m   (...)\u001b[0m\n\u001b[1;32m    <a href='file:///Users/glebsokolov/opt/miniconda3/envs/default/lib/python3.10/site-packages/tensorflow/python/util/deprecation.py?line=341'>342</a>\u001b[0m         \u001b[39m'\u001b[39m\u001b[39min a future version\u001b[39m\u001b[39m'\u001b[39m \u001b[39mif\u001b[39;00m date \u001b[39mis\u001b[39;00m \u001b[39mNone\u001b[39;00m \u001b[39melse\u001b[39;00m (\u001b[39m'\u001b[39m\u001b[39mafter \u001b[39m\u001b[39m%s\u001b[39;00m\u001b[39m'\u001b[39m \u001b[39m%\u001b[39m date),\n\u001b[1;32m    <a href='file:///Users/glebsokolov/opt/miniconda3/envs/default/lib/python3.10/site-packages/tensorflow/python/util/deprecation.py?line=342'>343</a>\u001b[0m         instructions)\n\u001b[0;32m--> <a href='file:///Users/glebsokolov/opt/miniconda3/envs/default/lib/python3.10/site-packages/tensorflow/python/util/deprecation.py?line=343'>344</a>\u001b[0m \u001b[39mreturn\u001b[39;00m func(\u001b[39m*\u001b[39;49margs, \u001b[39m*\u001b[39;49m\u001b[39m*\u001b[39;49mkwargs)\n",
      "File \u001b[0;32m~/opt/miniconda3/envs/default/lib/python3.10/site-packages/tensorflow/python/training/input.py:252\u001b[0m, in \u001b[0;36mstring_input_producer\u001b[0;34m(string_tensor, num_epochs, shuffle, seed, capacity, shared_name, name, cancel_op)\u001b[0m\n\u001b[1;32m    <a href='file:///Users/glebsokolov/opt/miniconda3/envs/default/lib/python3.10/site-packages/tensorflow/python/training/input.py?line=213'>214</a>\u001b[0m \u001b[39m\"\"\"Output strings (e.g. filenames) to a queue for an input pipeline.\u001b[39;00m\n\u001b[1;32m    <a href='file:///Users/glebsokolov/opt/miniconda3/envs/default/lib/python3.10/site-packages/tensorflow/python/training/input.py?line=214'>215</a>\u001b[0m \n\u001b[1;32m    <a href='file:///Users/glebsokolov/opt/miniconda3/envs/default/lib/python3.10/site-packages/tensorflow/python/training/input.py?line=215'>216</a>\u001b[0m \u001b[39mNote: if `num_epochs` is not `None`, this function creates local counter\u001b[39;00m\n\u001b[0;32m   (...)\u001b[0m\n\u001b[1;32m    <a href='file:///Users/glebsokolov/opt/miniconda3/envs/default/lib/python3.10/site-packages/tensorflow/python/training/input.py?line=248'>249</a>\u001b[0m \u001b[39m@end_compatibility\u001b[39;00m\n\u001b[1;32m    <a href='file:///Users/glebsokolov/opt/miniconda3/envs/default/lib/python3.10/site-packages/tensorflow/python/training/input.py?line=249'>250</a>\u001b[0m \u001b[39m\"\"\"\u001b[39;00m\n\u001b[1;32m    <a href='file:///Users/glebsokolov/opt/miniconda3/envs/default/lib/python3.10/site-packages/tensorflow/python/training/input.py?line=250'>251</a>\u001b[0m not_null_err \u001b[39m=\u001b[39m \u001b[39m\"\u001b[39m\u001b[39mstring_input_producer requires a non-null input tensor\u001b[39m\u001b[39m\"\u001b[39m\n\u001b[0;32m--> <a href='file:///Users/glebsokolov/opt/miniconda3/envs/default/lib/python3.10/site-packages/tensorflow/python/training/input.py?line=251'>252</a>\u001b[0m \u001b[39mif\u001b[39;00m \u001b[39mnot\u001b[39;00m \u001b[39misinstance\u001b[39m(string_tensor, ops\u001b[39m.\u001b[39mTensor) \u001b[39mand\u001b[39;00m \u001b[39mnot\u001b[39;00m string_tensor:\n\u001b[1;32m    <a href='file:///Users/glebsokolov/opt/miniconda3/envs/default/lib/python3.10/site-packages/tensorflow/python/training/input.py?line=252'>253</a>\u001b[0m   \u001b[39mraise\u001b[39;00m \u001b[39mValueError\u001b[39;00m(not_null_err)\n\u001b[1;32m    <a href='file:///Users/glebsokolov/opt/miniconda3/envs/default/lib/python3.10/site-packages/tensorflow/python/training/input.py?line=254'>255</a>\u001b[0m \u001b[39mwith\u001b[39;00m ops\u001b[39m.\u001b[39mname_scope(name, \u001b[39m\"\u001b[39m\u001b[39minput_producer\u001b[39m\u001b[39m\"\u001b[39m, [string_tensor]) \u001b[39mas\u001b[39;00m name:\n",
      "File \u001b[0;32m~/opt/miniconda3/envs/default/lib/python3.10/site-packages/tensorflow/python/ops/resource_variable_ops.py:541\u001b[0m, in \u001b[0;36mBaseResourceVariable.__bool__\u001b[0;34m(self)\u001b[0m\n\u001b[1;32m    <a href='file:///Users/glebsokolov/opt/miniconda3/envs/default/lib/python3.10/site-packages/tensorflow/python/ops/resource_variable_ops.py?line=539'>540</a>\u001b[0m \u001b[39mdef\u001b[39;00m \u001b[39m__bool__\u001b[39m(\u001b[39mself\u001b[39m):\n\u001b[0;32m--> <a href='file:///Users/glebsokolov/opt/miniconda3/envs/default/lib/python3.10/site-packages/tensorflow/python/ops/resource_variable_ops.py?line=540'>541</a>\u001b[0m   \u001b[39mreturn\u001b[39;00m \u001b[39mbool\u001b[39;49m(\u001b[39mself\u001b[39;49m\u001b[39m.\u001b[39;49mread_value())\n",
      "File \u001b[0;32m~/opt/miniconda3/envs/default/lib/python3.10/site-packages/tensorflow/python/framework/ops.py:1134\u001b[0m, in \u001b[0;36m_EagerTensorBase.__bool__\u001b[0;34m(self)\u001b[0m\n\u001b[1;32m   <a href='file:///Users/glebsokolov/opt/miniconda3/envs/default/lib/python3.10/site-packages/tensorflow/python/framework/ops.py?line=1132'>1133</a>\u001b[0m \u001b[39mdef\u001b[39;00m \u001b[39m__bool__\u001b[39m(\u001b[39mself\u001b[39m):\n\u001b[0;32m-> <a href='file:///Users/glebsokolov/opt/miniconda3/envs/default/lib/python3.10/site-packages/tensorflow/python/framework/ops.py?line=1133'>1134</a>\u001b[0m   \u001b[39mreturn\u001b[39;00m \u001b[39mbool\u001b[39;49m(\u001b[39mself\u001b[39;49m\u001b[39m.\u001b[39;49m_numpy())\n",
      "\u001b[0;31mValueError\u001b[0m: The truth value of an array with more than one element is ambiguous. Use a.any() or a.all()"
     ]
    }
   ],
   "source": [
    "import tensorflow as tf\n",
    "import tensorflow.compat.v1 as tf\n",
    "from IPython.core.interactiveshell import InteractiveShell\n",
    "InteractiveShell.ast_node_interactivity = \"all\"\n",
    "f = tf.io.match_filenames_once('/Users/glebsokolov/Downloads/User Identification From Walking Activity/*.csv')\n",
    "\n",
    "tf.train.string_input_producer(f)"
   ]
  },
  {
   "cell_type": "code",
   "execution_count": null,
   "metadata": {},
   "outputs": [],
   "source": []
  }
 ],
 "metadata": {
  "interpreter": {
   "hash": "e7f8c39f94ce41927e6d33e76e031e3d25c6e172b1fb844798ae765e8d4a6752"
  },
  "kernelspec": {
   "display_name": "Python 3.10.4 ('default')",
   "language": "python",
   "name": "python3"
  },
  "language_info": {
   "codemirror_mode": {
    "name": "ipython",
    "version": 3
   },
   "file_extension": ".py",
   "mimetype": "text/x-python",
   "name": "python",
   "nbconvert_exporter": "python",
   "pygments_lexer": "ipython3",
   "version": "3.10.4"
  },
  "orig_nbformat": 4
 },
 "nbformat": 4,
 "nbformat_minor": 2
}
