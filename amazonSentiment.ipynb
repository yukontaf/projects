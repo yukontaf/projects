{
 "cells": [
  {
   "cell_type": "code",
   "execution_count": 15,
   "metadata": {},
   "outputs": [],
   "source": [
    "import pandas as pd, numpy as np, matplotlib.pyplot as plt, matplotlib\n",
    "from pprint import pprint as print\n",
    "import hvplot.pandas\n",
    "\n",
    "pd.options.plotting.backend = 'holoviews'\n",
    "matplotlib.style.use(\"seaborn-whitegrid\")\n",
    "pd.set_option(\"display.width\", 5000)\n",
    "pd.set_option(\"display.max_columns\", 60)\n",
    "plt.rcParams[\"figure.figsize\"] = (15, 10)\n",
    "\n",
    "%config InlineBackend.figure_format = 'retina'\n",
    "# %config InlineBackend.figure_format = 'svg' \n",
    "\n",
    "from IPython.core.interactiveshell import InteractiveShell\n",
    "InteractiveShell.ast_node_interactivity = \"all\"\n",
    "import tensorflow as tf\n",
    "\n",
    "import warnings\n",
    "warnings.simplefilter('ignore')\n",
    "pd.set_option('display.float_format', lambda x: '%.3f' % x)\n",
    "\n",
    "cred = {\"host\": 'localhost', 'dbname': 'yukontaf', 'user': 'glebsokolov', 'password': ''}\n",
    "from sqlalchemy import create_engine\n",
    "\n",
    "con = create_engine(\n",
    "    f'postgresql://{cred[\"user\"]}:{cred[\"password\"]}@{cred[\"host\"]}/{cred[\"dbname\"]}'\n",
    ")\n",
    "def select(sql):\n",
    "    return pd.read_sql(sql, con)"
   ]
  },
  {
   "cell_type": "code",
   "execution_count": 24,
   "metadata": {},
   "outputs": [
    {
     "name": "stderr",
     "output_type": "stream",
     "text": [
      "100%|██████████| 999000/999000 [03:39<00:00, 4556.46it/s]\n"
     ]
    }
   ],
   "source": [
    "import io, pickle, tqdm, mmap\n",
    "\n",
    "fname = \"/Users/glebsokolov/Datasets/wikiNewsVec.vec\"\n",
    "with open(fname, mode=\"r\", encoding=\"utf-8\") as file_obj:\n",
    "    with mmap.mmap(file_obj.fileno(), length=0, access=mmap.ACCESS_READ) as mmap_obj:\n",
    "        data = {}\n",
    "        for _ in tqdm.trange(999000):\n",
    "            line = mmap_obj.readline()\n",
    "            # tokens = line.rstrip().split(' ')\n",
    "            word = str(line).split(\" \")[0].replace(\"b'\", \"\")\n",
    "            vec = str(line).split(\" \")[1:]\n",
    "            vec[-1] = vec[-1].replace('\\\\n\"', \"\").replace(\"\\\\n'\", \"\")\n",
    "            data[word] = list(map(float, vec))\n"
   ]
  },
  {
   "cell_type": "code",
   "execution_count": 11,
   "metadata": {},
   "outputs": [
    {
     "name": "stderr",
     "output_type": "stream",
     "text": [
      "999994it [02:04, 8058.88it/s] \n"
     ]
    }
   ],
   "source": [
    "import io, pickle, tqdm, mmap\n",
    "\n",
    "fname = \"/Volumes/ENVIRONMENT/Datasets/wikiNewsVec.vec\"\n",
    "\n",
    "\n",
    "def load_vectors(fname):\n",
    "    fin = io.open(fname, \"r\", encoding=\"utf-8\", newline=\"\\n\", errors=\"ignore\")\n",
    "    num_lines = sum(1 for _ in io.open(fname))\n",
    "    n, d = map(int, fin.readline().split())\n",
    "    data = {}\n",
    "    for line in tqdm.tqdm(fin):\n",
    "        tokens = line.rstrip().split(\" \")\n",
    "        data[tokens[0]] = list(map(float, tokens[1:]))\n",
    "    return data\n",
    "\n",
    "\n",
    "vectors = load_vectors(fname)\n"
   ]
  },
  {
   "cell_type": "code",
   "execution_count": 2,
   "metadata": {},
   "outputs": [],
   "source": [
    "from keras.datasets import reuters\n",
    "\n",
    "(train_data, train_labels), (test_data, test_labels) = reuters.load_data(\n",
    "    num_words=10000\n",
    ")\n",
    "word_index = reuters.get_word_index()\n",
    "reverse_word_index = dict([(value, key) for (key, value) in word_index.items()])\n",
    "decoded_newswire = \" \".join([reverse_word_index.get(i - 3, \"?\") for i in train_data[0]])\n"
   ]
  },
  {
   "cell_type": "code",
   "execution_count": 3,
   "metadata": {},
   "outputs": [],
   "source": [
    "import numpy as np\n",
    "\n",
    "\n",
    "def vectorize_sequences(sequences, dimension):\n",
    "    results = np.zeros((len(sequences), dimension))\n",
    "    for i, sequence in enumerate(sequences):\n",
    "        results[i, sequence] = 1.0\n",
    "    return results\n",
    "\n",
    "\n",
    "x_train = vectorize_sequences(train_data, 10000)\n",
    "x_test = vectorize_sequences(test_data, 10000)\n"
   ]
  },
  {
   "cell_type": "code",
   "execution_count": 4,
   "metadata": {},
   "outputs": [],
   "source": [
    "from keras.utils.np_utils import to_categorical\n",
    "\n",
    "one_hot_train_labels = to_categorical(train_labels)\n",
    "one_hot_test_labels = to_categorical(test_labels)\n"
   ]
  },
  {
   "cell_type": "code",
   "execution_count": 5,
   "metadata": {},
   "outputs": [
    {
     "name": "stderr",
     "output_type": "stream",
     "text": [
      "2022-05-24 20:09:34.688321: I tensorflow/core/platform/cpu_feature_guard.cc:151] This TensorFlow binary is optimized with oneAPI Deep Neural Network Library (oneDNN) to use the following CPU instructions in performance-critical operations:  AVX2 FMA\n",
      "To enable them in other operations, rebuild TensorFlow with the appropriate compiler flags.\n"
     ]
    }
   ],
   "source": [
    "from keras import models\n",
    "from keras import layers\n",
    "\n",
    "model = models.Sequential()\n",
    "model.add(layers.Dense(64, activation=\"relu\", input_shape=(10000,)))\n",
    "model.add(layers.Dense(64, activation=\"relu\"))\n",
    "model.add(layers.Dense(46, activation=\"softmax\"))\n"
   ]
  },
  {
   "cell_type": "code",
   "execution_count": 6,
   "metadata": {},
   "outputs": [],
   "source": [
    "model.compile(\n",
    "    optimizer=\"rmsprop\", loss=\"categorical_crossentropy\", metrics=[\"accuracy\"]\n",
    ")\n"
   ]
  },
  {
   "cell_type": "code",
   "execution_count": 7,
   "metadata": {},
   "outputs": [],
   "source": [
    "x_val = x_train[:1000]\n",
    "partial_x_train = x_train[1000:]\n",
    "y_val = one_hot_train_labels[:1000]\n",
    "partial_y_train = one_hot_train_labels[1000:]\n"
   ]
  },
  {
   "cell_type": "code",
   "execution_count": 9,
   "metadata": {},
   "outputs": [
    {
     "name": "stdout",
     "output_type": "stream",
     "text": [
      "Epoch 1/20\n",
      "16/16 [==============================] - 2s 47ms/step - loss: 2.5897 - accuracy: 0.5279 - val_loss: 1.7161 - val_accuracy: 0.6450\n",
      "Epoch 2/20\n",
      "16/16 [==============================] - 0s 31ms/step - loss: 1.4009 - accuracy: 0.7081 - val_loss: 1.2863 - val_accuracy: 0.7140\n",
      "Epoch 3/20\n",
      "16/16 [==============================] - 1s 32ms/step - loss: 1.0415 - accuracy: 0.7789 - val_loss: 1.1110 - val_accuracy: 0.7640\n",
      "Epoch 4/20\n",
      "16/16 [==============================] - 1s 37ms/step - loss: 0.8209 - accuracy: 0.8241 - val_loss: 1.0295 - val_accuracy: 0.7710\n",
      "Epoch 5/20\n",
      "16/16 [==============================] - 0s 30ms/step - loss: 0.6532 - accuracy: 0.8626 - val_loss: 0.9739 - val_accuracy: 0.7960\n",
      "Epoch 6/20\n",
      "16/16 [==============================] - 1s 31ms/step - loss: 0.5247 - accuracy: 0.8899 - val_loss: 0.9305 - val_accuracy: 0.8070\n",
      "Epoch 7/20\n",
      "16/16 [==============================] - 0s 31ms/step - loss: 0.4207 - accuracy: 0.9136 - val_loss: 0.9024 - val_accuracy: 0.8150\n",
      "Epoch 8/20\n",
      "16/16 [==============================] - 0s 32ms/step - loss: 0.3426 - accuracy: 0.9288 - val_loss: 0.9044 - val_accuracy: 0.8110\n",
      "Epoch 9/20\n",
      "16/16 [==============================] - 1s 32ms/step - loss: 0.2838 - accuracy: 0.9374 - val_loss: 0.9403 - val_accuracy: 0.8010\n",
      "Epoch 10/20\n",
      "16/16 [==============================] - 1s 38ms/step - loss: 0.2397 - accuracy: 0.9454 - val_loss: 0.9360 - val_accuracy: 0.8100\n",
      "Epoch 11/20\n",
      "16/16 [==============================] - 0s 32ms/step - loss: 0.2072 - accuracy: 0.9488 - val_loss: 0.9260 - val_accuracy: 0.8150\n",
      "Epoch 12/20\n",
      "16/16 [==============================] - 1s 31ms/step - loss: 0.1830 - accuracy: 0.9503 - val_loss: 1.0386 - val_accuracy: 0.7930\n",
      "Epoch 13/20\n",
      "16/16 [==============================] - 0s 27ms/step - loss: 0.1641 - accuracy: 0.9533 - val_loss: 0.9494 - val_accuracy: 0.8160\n",
      "Epoch 14/20\n",
      "16/16 [==============================] - 1s 33ms/step - loss: 0.1538 - accuracy: 0.9567 - val_loss: 0.9881 - val_accuracy: 0.8100\n",
      "Epoch 15/20\n",
      "16/16 [==============================] - 1s 36ms/step - loss: 0.1437 - accuracy: 0.9536 - val_loss: 0.9979 - val_accuracy: 0.8190\n",
      "Epoch 16/20\n",
      "16/16 [==============================] - 1s 38ms/step - loss: 0.1310 - accuracy: 0.9580 - val_loss: 1.0393 - val_accuracy: 0.8000\n",
      "Epoch 17/20\n",
      "16/16 [==============================] - 0s 28ms/step - loss: 0.1241 - accuracy: 0.9562 - val_loss: 1.1153 - val_accuracy: 0.7900\n",
      "Epoch 18/20\n",
      "16/16 [==============================] - 1s 39ms/step - loss: 0.1161 - accuracy: 0.9575 - val_loss: 1.0586 - val_accuracy: 0.8080\n",
      "Epoch 19/20\n",
      "16/16 [==============================] - 1s 47ms/step - loss: 0.1211 - accuracy: 0.9564 - val_loss: 1.0853 - val_accuracy: 0.8000\n",
      "Epoch 20/20\n",
      "16/16 [==============================] - 1s 33ms/step - loss: 0.1161 - accuracy: 0.9550 - val_loss: 1.0630 - val_accuracy: 0.8120\n"
     ]
    },
    {
     "data": {
      "text/plain": [
       "<keras.callbacks.History at 0x7f8cb18541f0>"
      ]
     },
     "execution_count": 9,
     "metadata": {},
     "output_type": "execute_result"
    }
   ],
   "source": [
    "model.fit(\n",
    "    partial_x_train,\n",
    "    partial_y_train,\n",
    "    epochs=20,\n",
    "    batch_size=512,\n",
    "    validation_data=(x_val, y_val),\n",
    ")\n"
   ]
  },
  {
   "cell_type": "code",
   "execution_count": 16,
   "metadata": {},
   "outputs": [],
   "source": [
    "from keras.preprocessing.text import Tokenizer\n",
    "from keras.preprocessing.sequence import pad_sequences\n",
    "\n",
    "maxlen = 300\n",
    "training_samples = 50000\n"
   ]
  },
  {
   "cell_type": "code",
   "execution_count": 34,
   "metadata": {},
   "outputs": [],
   "source": [
    "def vectorize_sequences(sequences, dimension=10000):\n",
    "    results = np.zeros((len(sequences), dimension))\n",
    "    for i, sequence in enumerate(sequences):\n",
    "        results[i, sequence] = 1.0\n",
    "    return results\n"
   ]
  },
  {
   "cell_type": "code",
   "execution_count": 18,
   "metadata": {},
   "outputs": [],
   "source": [
    "from fast_ml.model_development import train_valid_test_split\n",
    "\n",
    "max_words = 10000\n",
    "\n",
    "df = pd.read_feather(\"/Volumes/ENVIRONMENT/Datasets/amazonSentiment.feather\")\n",
    "sample = df.sample(60000)\n",
    "sample.rating = sample.rating.apply(lambda x: int(float(x)))\n",
    "tokenizer = Tokenizer(num_words=max_words)\n",
    "texts, labels = sample.text, sample.rating\n",
    "tokenizer.fit_on_texts(texts)\n",
    "sequences = tokenizer.texts_to_sequences(sample.text)\n",
    "data = pad_sequences(sequences, maxlen=maxlen)\n"
   ]
  },
  {
   "cell_type": "code",
   "execution_count": 19,
   "metadata": {},
   "outputs": [],
   "source": [
    "indices = np.arange(data.shape[0])\n",
    "np.random.shuffle(indices)\n",
    "data = data[indices]\n",
    "labels = to_categorical(labels)[indices]\n"
   ]
  },
  {
   "cell_type": "code",
   "execution_count": 47,
   "metadata": {},
   "outputs": [],
   "source": [
    "validation_samples = 10000\n",
    "x_train = data[:training_samples]\n",
    "y_train = labels[:training_samples]\n",
    "x_val = data[training_samples : training_samples + validation_samples]\n",
    "y_val = labels[training_samples : training_samples + validation_samples]\n"
   ]
  },
  {
   "cell_type": "code",
   "execution_count": 53,
   "metadata": {},
   "outputs": [],
   "source": [
    "x_train = vectorize_sequences(x_train)\n",
    "x_test = vectorize_sequences(x_val)\n"
   ]
  },
  {
   "cell_type": "code",
   "execution_count": 50,
   "metadata": {},
   "outputs": [
    {
     "data": {
      "text/plain": [
       "array([[0., 0., 0., 1., 0., 0.],\n",
       "       [0., 1., 0., 0., 0., 0.],\n",
       "       [0., 0., 0., 0., 1., 0.],\n",
       "       ...,\n",
       "       [0., 0., 0., 0., 1., 0.],\n",
       "       [0., 0., 0., 1., 0., 0.],\n",
       "       [0., 0., 0., 0., 0., 1.]], dtype=float32)"
      ]
     },
     "execution_count": 50,
     "metadata": {},
     "output_type": "execute_result"
    }
   ],
   "source": [
    "y_train\n"
   ]
  },
  {
   "cell_type": "code",
   "execution_count": 43,
   "metadata": {},
   "outputs": [],
   "source": [
    "y_train, y_test = to_categorical(y_train), to_categorical(y_val)\n"
   ]
  },
  {
   "cell_type": "code",
   "execution_count": 21,
   "metadata": {},
   "outputs": [],
   "source": [
    "embedding_dim = 300\n",
    "word_index = tokenizer.word_index\n",
    "embedding_matrix = np.zeros((max_words, embedding_dim))\n",
    "for word, i in word_index.items():\n",
    "    if i < max_words:\n",
    "        embedding_vector = vectors.get(word)\n",
    "        if embedding_vector is not None:\n",
    "            embedding_matrix[i] = embedding_vector\n"
   ]
  },
  {
   "cell_type": "code",
   "execution_count": 31,
   "metadata": {},
   "outputs": [
    {
     "name": "stdout",
     "output_type": "stream",
     "text": [
      "Model: \"sequential_4\"\n",
      "_________________________________________________________________\n",
      " Layer (type)                Output Shape              Param #   \n",
      "=================================================================\n",
      " embedding_3 (Embedding)     (None, 300, 300)          3000000   \n",
      "                                                                 \n",
      " flatten_3 (Flatten)         (None, 90000)             0         \n",
      "                                                                 \n",
      " dense_10 (Dense)            (None, 256)               23040256  \n",
      "                                                                 \n",
      " dense_11 (Dense)            (None, 6)                 1542      \n",
      "                                                                 \n",
      "=================================================================\n",
      "Total params: 26,041,798\n",
      "Trainable params: 23,041,798\n",
      "Non-trainable params: 3,000,000\n",
      "_________________________________________________________________\n"
     ]
    }
   ],
   "source": [
    "from keras.models import Sequential\n",
    "from keras.layers import Embedding, Flatten, Dense\n",
    "\n",
    "model = Sequential()\n",
    "model.add(Embedding(max_words, embedding_dim, input_length=maxlen))\n",
    "model.add(Flatten())\n",
    "model.add(Dense(256, activation=\"relu\"))\n",
    "model.add(Dense(6, activation=\"softmax\"))\n",
    "model.layers[0].set_weights([embedding_matrix])\n",
    "model.layers[0].trainable = False\n",
    "model.summary()\n"
   ]
  },
  {
   "cell_type": "code",
   "execution_count": 60,
   "metadata": {},
   "outputs": [],
   "source": [
    "from keras import models\n",
    "from keras import layers\n",
    "\n",
    "model = models.Sequential()\n",
    "model.add(layers.Dense(256, activation=\"relu\", input_shape=(10000,)))\n",
    "model.add(layers.Dense(256, activation=\"relu\"))\n",
    "model.add(layers.Dense(6, activation=\"softmax\"))\n"
   ]
  },
  {
   "cell_type": "code",
   "execution_count": 54,
   "metadata": {},
   "outputs": [
    {
     "data": {
      "text/plain": [
       "(50000, 10000)"
      ]
     },
     "execution_count": 54,
     "metadata": {},
     "output_type": "execute_result"
    }
   ],
   "source": [
    "x_train.shape\n"
   ]
  },
  {
   "cell_type": "code",
   "execution_count": 61,
   "metadata": {},
   "outputs": [],
   "source": [
    "model.compile(optimizer=\"rmsprop\", loss=\"categorical_crossentropy\", metrics=[\"acc\"])\n"
   ]
  },
  {
   "cell_type": "code",
   "execution_count": 66,
   "metadata": {},
   "outputs": [],
   "source": [
    "# twitter hate speech\n",
    "train_path, test_path = (\n",
    "    \"/Volumes/ENVIRONMENT/Datasets/twitterHateSpeech/train.csv\",\n",
    "    \"/Volumes/ENVIRONMENT/Datasets/twitterHateSpeech/test.csv\",\n",
    ")\n",
    "train, test = pd.read_csv(train_path), pd.read_csv(test_path)\n",
    "df = pd.concat([train, test])\n",
    "\n",
    "df.reset_index().dropna().to_feather(\n",
    "    \"/Volumes/ENVIRONMENT/Datasets/twitterHateSpeech/combined.feather\"\n",
    ")\n"
   ]
  },
  {
   "cell_type": "code",
   "execution_count": 68,
   "metadata": {},
   "outputs": [
    {
     "name": "stdout",
     "output_type": "stream",
     "text": [
      "<class 'pandas.core.frame.DataFrame'>\n",
      "Int64Index: 49159 entries, 0 to 17196\n",
      "Data columns (total 3 columns):\n",
      " #   Column  Non-Null Count  Dtype  \n",
      "---  ------  --------------  -----  \n",
      " 0   id      49159 non-null  int64  \n",
      " 1   label   31962 non-null  float64\n",
      " 2   tweet   49159 non-null  object \n",
      "dtypes: float64(1), int64(1), object(1)\n",
      "memory usage: 1.5+ MB\n"
     ]
    },
    {
     "data": {
      "text/plain": [
       "0.000    29720\n",
       "1.000     2242\n",
       "Name: label, dtype: int64"
      ]
     },
     "execution_count": 68,
     "metadata": {},
     "output_type": "execute_result"
    }
   ],
   "source": [
    "df.info()\n",
    "df.label.value_counts()\n"
   ]
  },
  {
   "cell_type": "code",
   "execution_count": 63,
   "metadata": {},
   "outputs": [
    {
     "name": "stdout",
     "output_type": "stream",
     "text": [
      "Epoch 1/30\n",
      "3125/3125 [==============================] - 66s 21ms/step - loss: 0.2578 - acc: 0.9153 - val_loss: 3.1684 - val_acc: 0.4178\n",
      "Epoch 2/30\n",
      "1946/3125 [=================>............] - ETA: 23s - loss: 0.2051 - acc: 0.9371"
     ]
    },
    {
     "ename": "KeyboardInterrupt",
     "evalue": "",
     "output_type": "error",
     "traceback": [
      "\u001b[0;31m---------------------------------------------------------------------------\u001b[0m",
      "\u001b[0;31mKeyboardInterrupt\u001b[0m                         Traceback (most recent call last)",
      "\u001b[1;32m/Users/glebsokolov/projects/amazonSentiment.ipynb Cell 24'\u001b[0m in \u001b[0;36m<cell line: 1>\u001b[0;34m()\u001b[0m\n\u001b[0;32m----> <a href='vscode-notebook-cell:/Users/glebsokolov/projects/amazonSentiment.ipynb#ch0000035?line=0'>1</a>\u001b[0m model\u001b[39m.\u001b[39;49mfit(x_train, y_train, epochs\u001b[39m=\u001b[39;49m\u001b[39m30\u001b[39;49m,\n\u001b[1;32m      <a href='vscode-notebook-cell:/Users/glebsokolov/projects/amazonSentiment.ipynb#ch0000035?line=1'>2</a>\u001b[0m                     batch_size\u001b[39m=\u001b[39;49m\u001b[39m16\u001b[39;49m,\n\u001b[1;32m      <a href='vscode-notebook-cell:/Users/glebsokolov/projects/amazonSentiment.ipynb#ch0000035?line=2'>3</a>\u001b[0m                     validation_data\u001b[39m=\u001b[39;49m(x_test, y_val))\n",
      "File \u001b[0;32m/Volumes/Environment/conda/miniconda3/envs/defaultenv/lib/python3.10/site-packages/keras/utils/traceback_utils.py:64\u001b[0m, in \u001b[0;36mfilter_traceback.<locals>.error_handler\u001b[0;34m(*args, **kwargs)\u001b[0m\n\u001b[1;32m     <a href='file:///Volumes/Environment/conda/miniconda3/envs/defaultenv/lib/python3.10/site-packages/keras/utils/traceback_utils.py?line=61'>62</a>\u001b[0m filtered_tb \u001b[39m=\u001b[39m \u001b[39mNone\u001b[39;00m\n\u001b[1;32m     <a href='file:///Volumes/Environment/conda/miniconda3/envs/defaultenv/lib/python3.10/site-packages/keras/utils/traceback_utils.py?line=62'>63</a>\u001b[0m \u001b[39mtry\u001b[39;00m:\n\u001b[0;32m---> <a href='file:///Volumes/Environment/conda/miniconda3/envs/defaultenv/lib/python3.10/site-packages/keras/utils/traceback_utils.py?line=63'>64</a>\u001b[0m   \u001b[39mreturn\u001b[39;00m fn(\u001b[39m*\u001b[39;49margs, \u001b[39m*\u001b[39;49m\u001b[39m*\u001b[39;49mkwargs)\n\u001b[1;32m     <a href='file:///Volumes/Environment/conda/miniconda3/envs/defaultenv/lib/python3.10/site-packages/keras/utils/traceback_utils.py?line=64'>65</a>\u001b[0m \u001b[39mexcept\u001b[39;00m \u001b[39mException\u001b[39;00m \u001b[39mas\u001b[39;00m e:  \u001b[39m# pylint: disable=broad-except\u001b[39;00m\n\u001b[1;32m     <a href='file:///Volumes/Environment/conda/miniconda3/envs/defaultenv/lib/python3.10/site-packages/keras/utils/traceback_utils.py?line=65'>66</a>\u001b[0m   filtered_tb \u001b[39m=\u001b[39m _process_traceback_frames(e\u001b[39m.\u001b[39m__traceback__)\n",
      "File \u001b[0;32m/Volumes/Environment/conda/miniconda3/envs/defaultenv/lib/python3.10/site-packages/keras/engine/training.py:1384\u001b[0m, in \u001b[0;36mModel.fit\u001b[0;34m(self, x, y, batch_size, epochs, verbose, callbacks, validation_split, validation_data, shuffle, class_weight, sample_weight, initial_epoch, steps_per_epoch, validation_steps, validation_batch_size, validation_freq, max_queue_size, workers, use_multiprocessing)\u001b[0m\n\u001b[1;32m   <a href='file:///Volumes/Environment/conda/miniconda3/envs/defaultenv/lib/python3.10/site-packages/keras/engine/training.py?line=1376'>1377</a>\u001b[0m \u001b[39mwith\u001b[39;00m tf\u001b[39m.\u001b[39mprofiler\u001b[39m.\u001b[39mexperimental\u001b[39m.\u001b[39mTrace(\n\u001b[1;32m   <a href='file:///Volumes/Environment/conda/miniconda3/envs/defaultenv/lib/python3.10/site-packages/keras/engine/training.py?line=1377'>1378</a>\u001b[0m     \u001b[39m'\u001b[39m\u001b[39mtrain\u001b[39m\u001b[39m'\u001b[39m,\n\u001b[1;32m   <a href='file:///Volumes/Environment/conda/miniconda3/envs/defaultenv/lib/python3.10/site-packages/keras/engine/training.py?line=1378'>1379</a>\u001b[0m     epoch_num\u001b[39m=\u001b[39mepoch,\n\u001b[1;32m   <a href='file:///Volumes/Environment/conda/miniconda3/envs/defaultenv/lib/python3.10/site-packages/keras/engine/training.py?line=1379'>1380</a>\u001b[0m     step_num\u001b[39m=\u001b[39mstep,\n\u001b[1;32m   <a href='file:///Volumes/Environment/conda/miniconda3/envs/defaultenv/lib/python3.10/site-packages/keras/engine/training.py?line=1380'>1381</a>\u001b[0m     batch_size\u001b[39m=\u001b[39mbatch_size,\n\u001b[1;32m   <a href='file:///Volumes/Environment/conda/miniconda3/envs/defaultenv/lib/python3.10/site-packages/keras/engine/training.py?line=1381'>1382</a>\u001b[0m     _r\u001b[39m=\u001b[39m\u001b[39m1\u001b[39m):\n\u001b[1;32m   <a href='file:///Volumes/Environment/conda/miniconda3/envs/defaultenv/lib/python3.10/site-packages/keras/engine/training.py?line=1382'>1383</a>\u001b[0m   callbacks\u001b[39m.\u001b[39mon_train_batch_begin(step)\n\u001b[0;32m-> <a href='file:///Volumes/Environment/conda/miniconda3/envs/defaultenv/lib/python3.10/site-packages/keras/engine/training.py?line=1383'>1384</a>\u001b[0m   tmp_logs \u001b[39m=\u001b[39m \u001b[39mself\u001b[39;49m\u001b[39m.\u001b[39;49mtrain_function(iterator)\n\u001b[1;32m   <a href='file:///Volumes/Environment/conda/miniconda3/envs/defaultenv/lib/python3.10/site-packages/keras/engine/training.py?line=1384'>1385</a>\u001b[0m   \u001b[39mif\u001b[39;00m data_handler\u001b[39m.\u001b[39mshould_sync:\n\u001b[1;32m   <a href='file:///Volumes/Environment/conda/miniconda3/envs/defaultenv/lib/python3.10/site-packages/keras/engine/training.py?line=1385'>1386</a>\u001b[0m     context\u001b[39m.\u001b[39masync_wait()\n",
      "File \u001b[0;32m/Volumes/Environment/conda/miniconda3/envs/defaultenv/lib/python3.10/site-packages/tensorflow/python/util/traceback_utils.py:150\u001b[0m, in \u001b[0;36mfilter_traceback.<locals>.error_handler\u001b[0;34m(*args, **kwargs)\u001b[0m\n\u001b[1;32m    <a href='file:///Volumes/Environment/conda/miniconda3/envs/defaultenv/lib/python3.10/site-packages/tensorflow/python/util/traceback_utils.py?line=147'>148</a>\u001b[0m filtered_tb \u001b[39m=\u001b[39m \u001b[39mNone\u001b[39;00m\n\u001b[1;32m    <a href='file:///Volumes/Environment/conda/miniconda3/envs/defaultenv/lib/python3.10/site-packages/tensorflow/python/util/traceback_utils.py?line=148'>149</a>\u001b[0m \u001b[39mtry\u001b[39;00m:\n\u001b[0;32m--> <a href='file:///Volumes/Environment/conda/miniconda3/envs/defaultenv/lib/python3.10/site-packages/tensorflow/python/util/traceback_utils.py?line=149'>150</a>\u001b[0m   \u001b[39mreturn\u001b[39;00m fn(\u001b[39m*\u001b[39;49margs, \u001b[39m*\u001b[39;49m\u001b[39m*\u001b[39;49mkwargs)\n\u001b[1;32m    <a href='file:///Volumes/Environment/conda/miniconda3/envs/defaultenv/lib/python3.10/site-packages/tensorflow/python/util/traceback_utils.py?line=150'>151</a>\u001b[0m \u001b[39mexcept\u001b[39;00m \u001b[39mException\u001b[39;00m \u001b[39mas\u001b[39;00m e:\n\u001b[1;32m    <a href='file:///Volumes/Environment/conda/miniconda3/envs/defaultenv/lib/python3.10/site-packages/tensorflow/python/util/traceback_utils.py?line=151'>152</a>\u001b[0m   filtered_tb \u001b[39m=\u001b[39m _process_traceback_frames(e\u001b[39m.\u001b[39m__traceback__)\n",
      "File \u001b[0;32m/Volumes/Environment/conda/miniconda3/envs/defaultenv/lib/python3.10/site-packages/tensorflow/python/eager/def_function.py:915\u001b[0m, in \u001b[0;36mFunction.__call__\u001b[0;34m(self, *args, **kwds)\u001b[0m\n\u001b[1;32m    <a href='file:///Volumes/Environment/conda/miniconda3/envs/defaultenv/lib/python3.10/site-packages/tensorflow/python/eager/def_function.py?line=911'>912</a>\u001b[0m compiler \u001b[39m=\u001b[39m \u001b[39m\"\u001b[39m\u001b[39mxla\u001b[39m\u001b[39m\"\u001b[39m \u001b[39mif\u001b[39;00m \u001b[39mself\u001b[39m\u001b[39m.\u001b[39m_jit_compile \u001b[39melse\u001b[39;00m \u001b[39m\"\u001b[39m\u001b[39mnonXla\u001b[39m\u001b[39m\"\u001b[39m\n\u001b[1;32m    <a href='file:///Volumes/Environment/conda/miniconda3/envs/defaultenv/lib/python3.10/site-packages/tensorflow/python/eager/def_function.py?line=913'>914</a>\u001b[0m \u001b[39mwith\u001b[39;00m OptionalXlaContext(\u001b[39mself\u001b[39m\u001b[39m.\u001b[39m_jit_compile):\n\u001b[0;32m--> <a href='file:///Volumes/Environment/conda/miniconda3/envs/defaultenv/lib/python3.10/site-packages/tensorflow/python/eager/def_function.py?line=914'>915</a>\u001b[0m   result \u001b[39m=\u001b[39m \u001b[39mself\u001b[39;49m\u001b[39m.\u001b[39;49m_call(\u001b[39m*\u001b[39;49margs, \u001b[39m*\u001b[39;49m\u001b[39m*\u001b[39;49mkwds)\n\u001b[1;32m    <a href='file:///Volumes/Environment/conda/miniconda3/envs/defaultenv/lib/python3.10/site-packages/tensorflow/python/eager/def_function.py?line=916'>917</a>\u001b[0m new_tracing_count \u001b[39m=\u001b[39m \u001b[39mself\u001b[39m\u001b[39m.\u001b[39mexperimental_get_tracing_count()\n\u001b[1;32m    <a href='file:///Volumes/Environment/conda/miniconda3/envs/defaultenv/lib/python3.10/site-packages/tensorflow/python/eager/def_function.py?line=917'>918</a>\u001b[0m without_tracing \u001b[39m=\u001b[39m (tracing_count \u001b[39m==\u001b[39m new_tracing_count)\n",
      "File \u001b[0;32m/Volumes/Environment/conda/miniconda3/envs/defaultenv/lib/python3.10/site-packages/tensorflow/python/eager/def_function.py:947\u001b[0m, in \u001b[0;36mFunction._call\u001b[0;34m(self, *args, **kwds)\u001b[0m\n\u001b[1;32m    <a href='file:///Volumes/Environment/conda/miniconda3/envs/defaultenv/lib/python3.10/site-packages/tensorflow/python/eager/def_function.py?line=943'>944</a>\u001b[0m   \u001b[39mself\u001b[39m\u001b[39m.\u001b[39m_lock\u001b[39m.\u001b[39mrelease()\n\u001b[1;32m    <a href='file:///Volumes/Environment/conda/miniconda3/envs/defaultenv/lib/python3.10/site-packages/tensorflow/python/eager/def_function.py?line=944'>945</a>\u001b[0m   \u001b[39m# In this case we have created variables on the first call, so we run the\u001b[39;00m\n\u001b[1;32m    <a href='file:///Volumes/Environment/conda/miniconda3/envs/defaultenv/lib/python3.10/site-packages/tensorflow/python/eager/def_function.py?line=945'>946</a>\u001b[0m   \u001b[39m# defunned version which is guaranteed to never create variables.\u001b[39;00m\n\u001b[0;32m--> <a href='file:///Volumes/Environment/conda/miniconda3/envs/defaultenv/lib/python3.10/site-packages/tensorflow/python/eager/def_function.py?line=946'>947</a>\u001b[0m   \u001b[39mreturn\u001b[39;00m \u001b[39mself\u001b[39;49m\u001b[39m.\u001b[39;49m_stateless_fn(\u001b[39m*\u001b[39;49margs, \u001b[39m*\u001b[39;49m\u001b[39m*\u001b[39;49mkwds)  \u001b[39m# pylint: disable=not-callable\u001b[39;00m\n\u001b[1;32m    <a href='file:///Volumes/Environment/conda/miniconda3/envs/defaultenv/lib/python3.10/site-packages/tensorflow/python/eager/def_function.py?line=947'>948</a>\u001b[0m \u001b[39melif\u001b[39;00m \u001b[39mself\u001b[39m\u001b[39m.\u001b[39m_stateful_fn \u001b[39mis\u001b[39;00m \u001b[39mnot\u001b[39;00m \u001b[39mNone\u001b[39;00m:\n\u001b[1;32m    <a href='file:///Volumes/Environment/conda/miniconda3/envs/defaultenv/lib/python3.10/site-packages/tensorflow/python/eager/def_function.py?line=948'>949</a>\u001b[0m   \u001b[39m# Release the lock early so that multiple threads can perform the call\u001b[39;00m\n\u001b[1;32m    <a href='file:///Volumes/Environment/conda/miniconda3/envs/defaultenv/lib/python3.10/site-packages/tensorflow/python/eager/def_function.py?line=949'>950</a>\u001b[0m   \u001b[39m# in parallel.\u001b[39;00m\n\u001b[1;32m    <a href='file:///Volumes/Environment/conda/miniconda3/envs/defaultenv/lib/python3.10/site-packages/tensorflow/python/eager/def_function.py?line=950'>951</a>\u001b[0m   \u001b[39mself\u001b[39m\u001b[39m.\u001b[39m_lock\u001b[39m.\u001b[39mrelease()\n",
      "File \u001b[0;32m/Volumes/Environment/conda/miniconda3/envs/defaultenv/lib/python3.10/site-packages/tensorflow/python/eager/function.py:2956\u001b[0m, in \u001b[0;36mFunction.__call__\u001b[0;34m(self, *args, **kwargs)\u001b[0m\n\u001b[1;32m   <a href='file:///Volumes/Environment/conda/miniconda3/envs/defaultenv/lib/python3.10/site-packages/tensorflow/python/eager/function.py?line=2952'>2953</a>\u001b[0m \u001b[39mwith\u001b[39;00m \u001b[39mself\u001b[39m\u001b[39m.\u001b[39m_lock:\n\u001b[1;32m   <a href='file:///Volumes/Environment/conda/miniconda3/envs/defaultenv/lib/python3.10/site-packages/tensorflow/python/eager/function.py?line=2953'>2954</a>\u001b[0m   (graph_function,\n\u001b[1;32m   <a href='file:///Volumes/Environment/conda/miniconda3/envs/defaultenv/lib/python3.10/site-packages/tensorflow/python/eager/function.py?line=2954'>2955</a>\u001b[0m    filtered_flat_args) \u001b[39m=\u001b[39m \u001b[39mself\u001b[39m\u001b[39m.\u001b[39m_maybe_define_function(args, kwargs)\n\u001b[0;32m-> <a href='file:///Volumes/Environment/conda/miniconda3/envs/defaultenv/lib/python3.10/site-packages/tensorflow/python/eager/function.py?line=2955'>2956</a>\u001b[0m \u001b[39mreturn\u001b[39;00m graph_function\u001b[39m.\u001b[39;49m_call_flat(\n\u001b[1;32m   <a href='file:///Volumes/Environment/conda/miniconda3/envs/defaultenv/lib/python3.10/site-packages/tensorflow/python/eager/function.py?line=2956'>2957</a>\u001b[0m     filtered_flat_args, captured_inputs\u001b[39m=\u001b[39;49mgraph_function\u001b[39m.\u001b[39;49mcaptured_inputs)\n",
      "File \u001b[0;32m/Volumes/Environment/conda/miniconda3/envs/defaultenv/lib/python3.10/site-packages/tensorflow/python/eager/function.py:1853\u001b[0m, in \u001b[0;36mConcreteFunction._call_flat\u001b[0;34m(self, args, captured_inputs, cancellation_manager)\u001b[0m\n\u001b[1;32m   <a href='file:///Volumes/Environment/conda/miniconda3/envs/defaultenv/lib/python3.10/site-packages/tensorflow/python/eager/function.py?line=1848'>1849</a>\u001b[0m possible_gradient_type \u001b[39m=\u001b[39m gradients_util\u001b[39m.\u001b[39mPossibleTapeGradientTypes(args)\n\u001b[1;32m   <a href='file:///Volumes/Environment/conda/miniconda3/envs/defaultenv/lib/python3.10/site-packages/tensorflow/python/eager/function.py?line=1849'>1850</a>\u001b[0m \u001b[39mif\u001b[39;00m (possible_gradient_type \u001b[39m==\u001b[39m gradients_util\u001b[39m.\u001b[39mPOSSIBLE_GRADIENT_TYPES_NONE\n\u001b[1;32m   <a href='file:///Volumes/Environment/conda/miniconda3/envs/defaultenv/lib/python3.10/site-packages/tensorflow/python/eager/function.py?line=1850'>1851</a>\u001b[0m     \u001b[39mand\u001b[39;00m executing_eagerly):\n\u001b[1;32m   <a href='file:///Volumes/Environment/conda/miniconda3/envs/defaultenv/lib/python3.10/site-packages/tensorflow/python/eager/function.py?line=1851'>1852</a>\u001b[0m   \u001b[39m# No tape is watching; skip to running the function.\u001b[39;00m\n\u001b[0;32m-> <a href='file:///Volumes/Environment/conda/miniconda3/envs/defaultenv/lib/python3.10/site-packages/tensorflow/python/eager/function.py?line=1852'>1853</a>\u001b[0m   \u001b[39mreturn\u001b[39;00m \u001b[39mself\u001b[39m\u001b[39m.\u001b[39m_build_call_outputs(\u001b[39mself\u001b[39;49m\u001b[39m.\u001b[39;49m_inference_function\u001b[39m.\u001b[39;49mcall(\n\u001b[1;32m   <a href='file:///Volumes/Environment/conda/miniconda3/envs/defaultenv/lib/python3.10/site-packages/tensorflow/python/eager/function.py?line=1853'>1854</a>\u001b[0m       ctx, args, cancellation_manager\u001b[39m=\u001b[39;49mcancellation_manager))\n\u001b[1;32m   <a href='file:///Volumes/Environment/conda/miniconda3/envs/defaultenv/lib/python3.10/site-packages/tensorflow/python/eager/function.py?line=1854'>1855</a>\u001b[0m forward_backward \u001b[39m=\u001b[39m \u001b[39mself\u001b[39m\u001b[39m.\u001b[39m_select_forward_and_backward_functions(\n\u001b[1;32m   <a href='file:///Volumes/Environment/conda/miniconda3/envs/defaultenv/lib/python3.10/site-packages/tensorflow/python/eager/function.py?line=1855'>1856</a>\u001b[0m     args,\n\u001b[1;32m   <a href='file:///Volumes/Environment/conda/miniconda3/envs/defaultenv/lib/python3.10/site-packages/tensorflow/python/eager/function.py?line=1856'>1857</a>\u001b[0m     possible_gradient_type,\n\u001b[1;32m   <a href='file:///Volumes/Environment/conda/miniconda3/envs/defaultenv/lib/python3.10/site-packages/tensorflow/python/eager/function.py?line=1857'>1858</a>\u001b[0m     executing_eagerly)\n\u001b[1;32m   <a href='file:///Volumes/Environment/conda/miniconda3/envs/defaultenv/lib/python3.10/site-packages/tensorflow/python/eager/function.py?line=1858'>1859</a>\u001b[0m forward_function, args_with_tangents \u001b[39m=\u001b[39m forward_backward\u001b[39m.\u001b[39mforward()\n",
      "File \u001b[0;32m/Volumes/Environment/conda/miniconda3/envs/defaultenv/lib/python3.10/site-packages/tensorflow/python/eager/function.py:499\u001b[0m, in \u001b[0;36m_EagerDefinedFunction.call\u001b[0;34m(self, ctx, args, cancellation_manager)\u001b[0m\n\u001b[1;32m    <a href='file:///Volumes/Environment/conda/miniconda3/envs/defaultenv/lib/python3.10/site-packages/tensorflow/python/eager/function.py?line=496'>497</a>\u001b[0m \u001b[39mwith\u001b[39;00m _InterpolateFunctionError(\u001b[39mself\u001b[39m):\n\u001b[1;32m    <a href='file:///Volumes/Environment/conda/miniconda3/envs/defaultenv/lib/python3.10/site-packages/tensorflow/python/eager/function.py?line=497'>498</a>\u001b[0m   \u001b[39mif\u001b[39;00m cancellation_manager \u001b[39mis\u001b[39;00m \u001b[39mNone\u001b[39;00m:\n\u001b[0;32m--> <a href='file:///Volumes/Environment/conda/miniconda3/envs/defaultenv/lib/python3.10/site-packages/tensorflow/python/eager/function.py?line=498'>499</a>\u001b[0m     outputs \u001b[39m=\u001b[39m execute\u001b[39m.\u001b[39;49mexecute(\n\u001b[1;32m    <a href='file:///Volumes/Environment/conda/miniconda3/envs/defaultenv/lib/python3.10/site-packages/tensorflow/python/eager/function.py?line=499'>500</a>\u001b[0m         \u001b[39mstr\u001b[39;49m(\u001b[39mself\u001b[39;49m\u001b[39m.\u001b[39;49msignature\u001b[39m.\u001b[39;49mname),\n\u001b[1;32m    <a href='file:///Volumes/Environment/conda/miniconda3/envs/defaultenv/lib/python3.10/site-packages/tensorflow/python/eager/function.py?line=500'>501</a>\u001b[0m         num_outputs\u001b[39m=\u001b[39;49m\u001b[39mself\u001b[39;49m\u001b[39m.\u001b[39;49m_num_outputs,\n\u001b[1;32m    <a href='file:///Volumes/Environment/conda/miniconda3/envs/defaultenv/lib/python3.10/site-packages/tensorflow/python/eager/function.py?line=501'>502</a>\u001b[0m         inputs\u001b[39m=\u001b[39;49margs,\n\u001b[1;32m    <a href='file:///Volumes/Environment/conda/miniconda3/envs/defaultenv/lib/python3.10/site-packages/tensorflow/python/eager/function.py?line=502'>503</a>\u001b[0m         attrs\u001b[39m=\u001b[39;49mattrs,\n\u001b[1;32m    <a href='file:///Volumes/Environment/conda/miniconda3/envs/defaultenv/lib/python3.10/site-packages/tensorflow/python/eager/function.py?line=503'>504</a>\u001b[0m         ctx\u001b[39m=\u001b[39;49mctx)\n\u001b[1;32m    <a href='file:///Volumes/Environment/conda/miniconda3/envs/defaultenv/lib/python3.10/site-packages/tensorflow/python/eager/function.py?line=504'>505</a>\u001b[0m   \u001b[39melse\u001b[39;00m:\n\u001b[1;32m    <a href='file:///Volumes/Environment/conda/miniconda3/envs/defaultenv/lib/python3.10/site-packages/tensorflow/python/eager/function.py?line=505'>506</a>\u001b[0m     outputs \u001b[39m=\u001b[39m execute\u001b[39m.\u001b[39mexecute_with_cancellation(\n\u001b[1;32m    <a href='file:///Volumes/Environment/conda/miniconda3/envs/defaultenv/lib/python3.10/site-packages/tensorflow/python/eager/function.py?line=506'>507</a>\u001b[0m         \u001b[39mstr\u001b[39m(\u001b[39mself\u001b[39m\u001b[39m.\u001b[39msignature\u001b[39m.\u001b[39mname),\n\u001b[1;32m    <a href='file:///Volumes/Environment/conda/miniconda3/envs/defaultenv/lib/python3.10/site-packages/tensorflow/python/eager/function.py?line=507'>508</a>\u001b[0m         num_outputs\u001b[39m=\u001b[39m\u001b[39mself\u001b[39m\u001b[39m.\u001b[39m_num_outputs,\n\u001b[0;32m   (...)\u001b[0m\n\u001b[1;32m    <a href='file:///Volumes/Environment/conda/miniconda3/envs/defaultenv/lib/python3.10/site-packages/tensorflow/python/eager/function.py?line=510'>511</a>\u001b[0m         ctx\u001b[39m=\u001b[39mctx,\n\u001b[1;32m    <a href='file:///Volumes/Environment/conda/miniconda3/envs/defaultenv/lib/python3.10/site-packages/tensorflow/python/eager/function.py?line=511'>512</a>\u001b[0m         cancellation_manager\u001b[39m=\u001b[39mcancellation_manager)\n",
      "File \u001b[0;32m/Volumes/Environment/conda/miniconda3/envs/defaultenv/lib/python3.10/site-packages/tensorflow/python/eager/execute.py:54\u001b[0m, in \u001b[0;36mquick_execute\u001b[0;34m(op_name, num_outputs, inputs, attrs, ctx, name)\u001b[0m\n\u001b[1;32m     <a href='file:///Volumes/Environment/conda/miniconda3/envs/defaultenv/lib/python3.10/site-packages/tensorflow/python/eager/execute.py?line=51'>52</a>\u001b[0m \u001b[39mtry\u001b[39;00m:\n\u001b[1;32m     <a href='file:///Volumes/Environment/conda/miniconda3/envs/defaultenv/lib/python3.10/site-packages/tensorflow/python/eager/execute.py?line=52'>53</a>\u001b[0m   ctx\u001b[39m.\u001b[39mensure_initialized()\n\u001b[0;32m---> <a href='file:///Volumes/Environment/conda/miniconda3/envs/defaultenv/lib/python3.10/site-packages/tensorflow/python/eager/execute.py?line=53'>54</a>\u001b[0m   tensors \u001b[39m=\u001b[39m pywrap_tfe\u001b[39m.\u001b[39;49mTFE_Py_Execute(ctx\u001b[39m.\u001b[39;49m_handle, device_name, op_name,\n\u001b[1;32m     <a href='file:///Volumes/Environment/conda/miniconda3/envs/defaultenv/lib/python3.10/site-packages/tensorflow/python/eager/execute.py?line=54'>55</a>\u001b[0m                                       inputs, attrs, num_outputs)\n\u001b[1;32m     <a href='file:///Volumes/Environment/conda/miniconda3/envs/defaultenv/lib/python3.10/site-packages/tensorflow/python/eager/execute.py?line=55'>56</a>\u001b[0m \u001b[39mexcept\u001b[39;00m core\u001b[39m.\u001b[39m_NotOkStatusException \u001b[39mas\u001b[39;00m e:\n\u001b[1;32m     <a href='file:///Volumes/Environment/conda/miniconda3/envs/defaultenv/lib/python3.10/site-packages/tensorflow/python/eager/execute.py?line=56'>57</a>\u001b[0m   \u001b[39mif\u001b[39;00m name \u001b[39mis\u001b[39;00m \u001b[39mnot\u001b[39;00m \u001b[39mNone\u001b[39;00m:\n",
      "\u001b[0;31mKeyboardInterrupt\u001b[0m: "
     ]
    }
   ],
   "source": [
    "model.fit(x_train, y_train, epochs=30, batch_size=16, validation_data=(x_test, y_val))\n"
   ]
  },
  {
   "cell_type": "code",
   "execution_count": 2,
   "metadata": {},
   "outputs": [
    {
     "data": {
      "text/html": [
       "<pre>Unexpected characters after last column. \"\"The Nightmare Before Christmas...\"\"\n",
       "Parse failed at token ending at: \n",
       "\tll work for me! :\\\"\n",
       "\"3\",\"The Nightmare Before Christmas...\",\u001b[1;31m^\u001b[0m\"Burton doesn't falter in his imaginative screen\n",
       "Successfully parsed 3 tokens: \n",
       "\t0: 1\n",
       "\t1: I'm such a dummy\n",
       "\t2: I didn't p ... or me! :\"</pre>"
      ],
      "text/plain": [
       "Unexpected characters after last column. \"\"The Nightmare Before Christmas...\"\"\n",
       "Parse failed at token ending at: \n",
       "\tll work for me! :\\\"\n",
       "\"3\",\"The Nightmare Before Christmas...\",\u001b[1;31m^\u001b[0m\"Burton doesn't falter in his imaginative screen\n",
       "Successfully parsed 3 tokens: \n",
       "\t0: 1\n",
       "\t1: I'm such a dummy\n",
       "\t2: I didn't p ... or me! :\""
      ]
     },
     "metadata": {},
     "output_type": "display_data"
    },
    {
     "data": {
      "text/html": [
       "<pre>Unexpected characters after last column. \"\"Excellent product\"\"\n",
       "Parse failed at token ending at: \n",
       "\tbly will not purchase it again. :\\\"\n",
       "\"5\",\"Excellent product\",\u001b[1;31m^\u001b[0m\"I needed an Omega 3 product that would have the\n",
       "Successfully parsed 3 tokens: \n",
       "\t0: 2\n",
       "\t1: I like it, ... n don't :|\n",
       "\t2: I love thi ... again. :\"</pre>"
      ],
      "text/plain": [
       "Unexpected characters after last column. \"\"Excellent product\"\"\n",
       "Parse failed at token ending at: \n",
       "\tbly will not purchase it again. :\\\"\n",
       "\"5\",\"Excellent product\",\u001b[1;31m^\u001b[0m\"I needed an Omega 3 product that would have the\n",
       "Successfully parsed 3 tokens: \n",
       "\t0: 2\n",
       "\t1: I like it, ... n don't :|\n",
       "\t2: I love thi ... again. :\""
      ]
     },
     "metadata": {},
     "output_type": "display_data"
    },
    {
     "data": {
      "text/html": [
       "<pre>Unexpected characters after last column. \"\"How many different plot lines at the same time?\"\"\n",
       "Parse failed at token ending at: \n",
       "\t =o\\\"\n",
       "\"2\",\"How many different plot lines at the same time?\",\u001b[1;31m^\u001b[0m\"Wow, truly how many plot lines can you put into\n",
       "Successfully parsed 3 tokens: \n",
       "\t0: 1\n",
       "\t1: Terrible m ... t anyway.\"\n",
       "\t2: What to sa ... ther. =o\"</pre>"
      ],
      "text/plain": [
       "Unexpected characters after last column. \"\"How many different plot lines at the same time?\"\"\n",
       "Parse failed at token ending at: \n",
       "\t =o\\\"\n",
       "\"2\",\"How many different plot lines at the same time?\",\u001b[1;31m^\u001b[0m\"Wow, truly how many plot lines can you put into\n",
       "Successfully parsed 3 tokens: \n",
       "\t0: 1\n",
       "\t1: Terrible m ... t anyway.\"\n",
       "\t2: What to sa ... ther. =o\""
      ]
     },
     "metadata": {},
     "output_type": "display_data"
    },
    {
     "data": {
      "text/html": [
       "<pre>3 lines failed to parse correctly</pre>"
      ],
      "text/plain": [
       "3 lines failed to parse correctly"
      ]
     },
     "metadata": {},
     "output_type": "display_data"
    },
    {
     "data": {
      "text/html": [
       "<pre>Finished parsing file /Users/glebsokolov/Dropbox/Datasets/amazon_review_full_csv/train.csv</pre>"
      ],
      "text/plain": [
       "Finished parsing file /Users/glebsokolov/Dropbox/Datasets/amazon_review_full_csv/train.csv"
      ]
     },
     "metadata": {},
     "output_type": "display_data"
    },
    {
     "data": {
      "text/html": [
       "<pre>Parsing completed. Parsed 100 lines in 0.697448 secs.</pre>"
      ],
      "text/plain": [
       "Parsing completed. Parsed 100 lines in 0.697448 secs."
      ]
     },
     "metadata": {},
     "output_type": "display_data"
    },
    {
     "name": "stdout",
     "output_type": "stream",
     "text": [
      "------------------------------------------------------\n",
      "Inferred types from first 100 line(s) of file as \n",
      "column_type_hints=[int,str,str]\n",
      "If parsing fails due to incorrect types, you can correct\n",
      "the inferred type list above and pass it to read_csv in\n",
      "the column_type_hints argument\n",
      "------------------------------------------------------\n"
     ]
    },
    {
     "data": {
      "text/html": [
       "<pre>Unexpected characters after last column. \"\"The Nightmare Before Christmas...\"\"\n",
       "Parse failed at token ending at: \n",
       "\tll work for me! :\\\"\n",
       "\"3\",\"The Nightmare Before Christmas...\",\u001b[1;31m^\u001b[0m\"Burton doesn't falter in his imaginative screen\n",
       "Successfully parsed 3 tokens: \n",
       "\t0: 1\n",
       "\t1: I'm such a dummy\n",
       "\t2: I didn't p ...  me! :\"\n",
       "\"3</pre>"
      ],
      "text/plain": [
       "Unexpected characters after last column. \"\"The Nightmare Before Christmas...\"\"\n",
       "Parse failed at token ending at: \n",
       "\tll work for me! :\\\"\n",
       "\"3\",\"The Nightmare Before Christmas...\",\u001b[1;31m^\u001b[0m\"Burton doesn't falter in his imaginative screen\n",
       "Successfully parsed 3 tokens: \n",
       "\t0: 1\n",
       "\t1: I'm such a dummy\n",
       "\t2: I didn't p ...  me! :\"\n",
       "\"3"
      ]
     },
     "metadata": {},
     "output_type": "display_data"
    },
    {
     "data": {
      "text/html": [
       "<pre>Unexpected characters after last column. \"\"Excellent product\"\"\n",
       "Parse failed at token ending at: \n",
       "\tbly will not purchase it again. :\\\"\n",
       "\"5\",\"Excellent product\",\u001b[1;31m^\u001b[0m\"I needed an Omega 3 product that would have the\n",
       "Successfully parsed 3 tokens: \n",
       "\t0: 2\n",
       "\t1: I like it, ... n don't :|\n",
       "\t2: I love thi ... ain. :\"\n",
       "\"5</pre>"
      ],
      "text/plain": [
       "Unexpected characters after last column. \"\"Excellent product\"\"\n",
       "Parse failed at token ending at: \n",
       "\tbly will not purchase it again. :\\\"\n",
       "\"5\",\"Excellent product\",\u001b[1;31m^\u001b[0m\"I needed an Omega 3 product that would have the\n",
       "Successfully parsed 3 tokens: \n",
       "\t0: 2\n",
       "\t1: I like it, ... n don't :|\n",
       "\t2: I love thi ... ain. :\"\n",
       "\"5"
      ]
     },
     "metadata": {},
     "output_type": "display_data"
    },
    {
     "data": {
      "text/html": [
       "<pre>Unexpected characters after last column. \"\"How many different plot lines at the same time?\"\"\n",
       "Parse failed at token ending at: \n",
       "\t =o\\\"\n",
       "\"2\",\"How many different plot lines at the same time?\",\u001b[1;31m^\u001b[0m\"Wow, truly how many plot lines can you put into\n",
       "Successfully parsed 3 tokens: \n",
       "\t0: 1\n",
       "\t1: Terrible m ... t anyway.\"\n",
       "\t2: What to sa ... er. =o\"\n",
       "\"2</pre>"
      ],
      "text/plain": [
       "Unexpected characters after last column. \"\"How many different plot lines at the same time?\"\"\n",
       "Parse failed at token ending at: \n",
       "\t =o\\\"\n",
       "\"2\",\"How many different plot lines at the same time?\",\u001b[1;31m^\u001b[0m\"Wow, truly how many plot lines can you put into\n",
       "Successfully parsed 3 tokens: \n",
       "\t0: 1\n",
       "\t1: Terrible m ... t anyway.\"\n",
       "\t2: What to sa ... er. =o\"\n",
       "\"2"
      ]
     },
     "metadata": {},
     "output_type": "display_data"
    },
    {
     "data": {
      "text/html": [
       "<pre>Unexpected characters after last column. \"\"Brilliant\"\"\n",
       "Parse failed at token ending at: \n",
       "\tstening to for very long... oh well... d=\\\"\n",
       "\"5\",\"Brilliant\",\u001b[1;31m^\u001b[0m\"I brought this when it first came out here and \n",
       "Successfully parsed 3 tokens: \n",
       "\t0: 2\n",
       "\t1: Ok.. I've decided..\n",
       "\t2: Well I've  ... ... d=\"\n",
       "\"5</pre>"
      ],
      "text/plain": [
       "Unexpected characters after last column. \"\"Brilliant\"\"\n",
       "Parse failed at token ending at: \n",
       "\tstening to for very long... oh well... d=\\\"\n",
       "\"5\",\"Brilliant\",\u001b[1;31m^\u001b[0m\"I brought this when it first came out here and \n",
       "Successfully parsed 3 tokens: \n",
       "\t0: 2\n",
       "\t1: Ok.. I've decided..\n",
       "\t2: Well I've  ... ... d=\"\n",
       "\"5"
      ]
     },
     "metadata": {},
     "output_type": "display_data"
    },
    {
     "data": {
      "text/html": [
       "<pre>Unexpected characters after last column. \"\"motorola 722i\"\"\n",
       "Parse failed at token ending at: \n",
       "\tash back deal... but glad i didn't. =\\\"\n",
       "\"1\",\"motorola 722i\",\u001b[1;31m^\u001b[0m\"Don't loose the camera. Difficult to replace wi\n",
       "Successfully parsed 3 tokens: \n",
       "\t0: 1\n",
       "\t1: complaints...\n",
       "\t2: one of my  ... n't. =\"\n",
       "\"1</pre>"
      ],
      "text/plain": [
       "Unexpected characters after last column. \"\"motorola 722i\"\"\n",
       "Parse failed at token ending at: \n",
       "\tash back deal... but glad i didn't. =\\\"\n",
       "\"1\",\"motorola 722i\",\u001b[1;31m^\u001b[0m\"Don't loose the camera. Difficult to replace wi\n",
       "Successfully parsed 3 tokens: \n",
       "\t0: 1\n",
       "\t1: complaints...\n",
       "\t2: one of my  ... n't. =\"\n",
       "\"1"
      ]
     },
     "metadata": {},
     "output_type": "display_data"
    },
    {
     "data": {
      "text/html": [
       "<pre>Unexpected characters after last column. \"\"enjoy ... while they last\"\"\n",
       "Parse failed at token ending at: \n",
       "\tN THESE WERE TRULY AWFUL \\\"\n",
       "\"2\",\"enjoy ... while they last\",\u001b[1;31m^\u001b[0m\"I can't argue with the sound quality (although \n",
       "Successfully parsed 3 tokens: \n",
       "\t0: 1\n",
       "\t1: MAJOR DUD\n",
       "\t2: READ ALL R ... AWFUL \"\n",
       "\"2</pre>"
      ],
      "text/plain": [
       "Unexpected characters after last column. \"\"enjoy ... while they last\"\"\n",
       "Parse failed at token ending at: \n",
       "\tN THESE WERE TRULY AWFUL \\\"\n",
       "\"2\",\"enjoy ... while they last\",\u001b[1;31m^\u001b[0m\"I can't argue with the sound quality (although \n",
       "Successfully parsed 3 tokens: \n",
       "\t0: 1\n",
       "\t1: MAJOR DUD\n",
       "\t2: READ ALL R ... AWFUL \"\n",
       "\"2"
      ]
     },
     "metadata": {},
     "output_type": "display_data"
    },
    {
     "data": {
      "text/html": [
       "<pre>Read 62865 lines. Lines per second: 45455.8</pre>"
      ],
      "text/plain": [
       "Read 62865 lines. Lines per second: 45455.8"
      ]
     },
     "metadata": {},
     "output_type": "display_data"
    },
    {
     "data": {
      "text/html": [
       "<pre>Unexpected characters after last column. \"\"NOT as described\"\"\n",
       "Parse failed at token ending at: \n",
       "\tto get an exchange by Christmas! :\\\"\n",
       "\"1\",\"NOT as described\",\u001b[1;31m^\u001b[0m\"To my disappointment, this USB pocket knife arr\n",
       "Successfully parsed 3 tokens: \n",
       "\t0: 1\n",
       "\t1: Not as advertised\n",
       "\t2: I had the  ... mas! :\"\n",
       "\"1</pre>"
      ],
      "text/plain": [
       "Unexpected characters after last column. \"\"NOT as described\"\"\n",
       "Parse failed at token ending at: \n",
       "\tto get an exchange by Christmas! :\\\"\n",
       "\"1\",\"NOT as described\",\u001b[1;31m^\u001b[0m\"To my disappointment, this USB pocket knife arr\n",
       "Successfully parsed 3 tokens: \n",
       "\t0: 1\n",
       "\t1: Not as advertised\n",
       "\t2: I had the  ... mas! :\"\n",
       "\"1"
      ]
     },
     "metadata": {},
     "output_type": "display_data"
    },
    {
     "data": {
      "text/html": [
       "<pre>Unexpected characters after last column. \"\"Sheets were ok\"\"\n",
       "Parse failed at token ending at: \n",
       "\terial for the cost was a great value.\"\n",
       "\"3\",\"Sheets were ok\",\u001b[1;31m^\u001b[0m\"Sheets are nice, thick... I washed them and som\n",
       "Successfully parsed 3 tokens: \n",
       "\t0: 3\n",
       "\t1: \"\\teal is  ... ppointment\n",
       "\t2: but the qu ... alue.\"\n",
       "\"3\"</pre>"
      ],
      "text/plain": [
       "Unexpected characters after last column. \"\"Sheets were ok\"\"\n",
       "Parse failed at token ending at: \n",
       "\terial for the cost was a great value.\"\n",
       "\"3\",\"Sheets were ok\",\u001b[1;31m^\u001b[0m\"Sheets are nice, thick... I washed them and som\n",
       "Successfully parsed 3 tokens: \n",
       "\t0: 3\n",
       "\t1: \"\\teal is  ... ppointment\n",
       "\t2: but the qu ... alue.\"\n",
       "\"3\""
      ]
     },
     "metadata": {},
     "output_type": "display_data"
    },
    {
     "data": {
      "text/html": [
       "<pre>Unexpected characters after last column. \"\"For the price, you can't beat it.....\"\"\n",
       "Parse failed at token ending at: \n",
       "\t, it's great \\\"\n",
       "\"4\",\"For the price, you can't beat it.....\",\u001b[1;31m^\u001b[0m\"Definitely a buy for $12.98 but the fit is not \n",
       "Successfully parsed 3 tokens: \n",
       "\t0: 2\n",
       "\t1: tight thighs\n",
       "\t2: this pant  ... great \"\n",
       "\"4</pre>"
      ],
      "text/plain": [
       "Unexpected characters after last column. \"\"For the price, you can't beat it.....\"\"\n",
       "Parse failed at token ending at: \n",
       "\t, it's great \\\"\n",
       "\"4\",\"For the price, you can't beat it.....\",\u001b[1;31m^\u001b[0m\"Definitely a buy for $12.98 but the fit is not \n",
       "Successfully parsed 3 tokens: \n",
       "\t0: 2\n",
       "\t1: tight thighs\n",
       "\t2: this pant  ... great \"\n",
       "\"4"
      ]
     },
     "metadata": {},
     "output_type": "display_data"
    },
    {
     "data": {
      "text/html": [
       "<pre>Unexpected characters after last column. \"\"Movie good! New restored transfer no!\"\"\n",
       "Parse failed at token ending at: \n",
       "\ts in the DVD.\\\"\n",
       "\"2\",\"Movie good! New restored transfer no!\",\u001b[1;31m^\u001b[0m\"Not worth double dipping if you have the old dv\n",
       "Successfully parsed 3 tokens: \n",
       "\t0: 1\n",
       "\t1: The Robe\n",
       "\t2: This produ ... e DVD.\"\n",
       "\"2</pre>"
      ],
      "text/plain": [
       "Unexpected characters after last column. \"\"Movie good! New restored transfer no!\"\"\n",
       "Parse failed at token ending at: \n",
       "\ts in the DVD.\\\"\n",
       "\"2\",\"Movie good! New restored transfer no!\",\u001b[1;31m^\u001b[0m\"Not worth double dipping if you have the old dv\n",
       "Successfully parsed 3 tokens: \n",
       "\t0: 1\n",
       "\t1: The Robe\n",
       "\t2: This produ ... e DVD.\"\n",
       "\"2"
      ]
     },
     "metadata": {},
     "output_type": "display_data"
    },
    {
     "data": {
      "text/html": [
       "<pre>Read 522668 lines. Lines per second: 70694.4</pre>"
      ],
      "text/plain": [
       "Read 522668 lines. Lines per second: 70694.4"
      ]
     },
     "metadata": {},
     "output_type": "display_data"
    },
    {
     "data": {
      "text/html": [
       "<pre>Read 993072 lines. Lines per second: 79565.5</pre>"
      ],
      "text/plain": [
       "Read 993072 lines. Lines per second: 79565.5"
      ]
     },
     "metadata": {},
     "output_type": "display_data"
    },
    {
     "data": {
      "text/html": [
       "<pre>Read 1459185 lines. Lines per second: 82432.7</pre>"
      ],
      "text/plain": [
       "Read 1459185 lines. Lines per second: 82432.7"
      ]
     },
     "metadata": {},
     "output_type": "display_data"
    },
    {
     "data": {
      "text/html": [
       "<pre>73 lines failed to parse correctly</pre>"
      ],
      "text/plain": [
       "73 lines failed to parse correctly"
      ]
     },
     "metadata": {},
     "output_type": "display_data"
    },
    {
     "data": {
      "text/html": [
       "<pre>Finished parsing file /Users/glebsokolov/Dropbox/Datasets/amazon_review_full_csv/train.csv</pre>"
      ],
      "text/plain": [
       "Finished parsing file /Users/glebsokolov/Dropbox/Datasets/amazon_review_full_csv/train.csv"
      ]
     },
     "metadata": {},
     "output_type": "display_data"
    },
    {
     "data": {
      "text/html": [
       "<pre>Parsing completed. Parsed 1611764 lines in 20.1397 secs.</pre>"
      ],
      "text/plain": [
       "Parsing completed. Parsed 1611764 lines in 20.1397 secs."
      ]
     },
     "metadata": {},
     "output_type": "display_data"
    }
   ],
   "source": [
    "data = tc.SFrame.read_csv(\n",
    "    \"/Users/glebsokolov/Dropbox/Datasets/amazon_review_full_csv/train.csv\", header=False\n",
    ")\n",
    "data = data.rename({\"X1\": \"label\", \"X2\": \"sup\", \"X3\": \"text\"})\n"
   ]
  },
  {
   "cell_type": "code",
   "execution_count": 8,
   "metadata": {},
   "outputs": [
    {
     "name": "stdout",
     "output_type": "stream",
     "text": [
      "PROGRESS: Creating a validation set from 5 percent of training data. This may take a while.\n",
      "          You can set ``validation_set=None`` to disable validation tracking.\n",
      "\n"
     ]
    },
    {
     "data": {
      "text/html": [
       "<pre>Logistic regression:</pre>"
      ],
      "text/plain": [
       "Logistic regression:"
      ]
     },
     "metadata": {},
     "output_type": "display_data"
    },
    {
     "data": {
      "text/html": [
       "<pre>--------------------------------------------------------</pre>"
      ],
      "text/plain": [
       "--------------------------------------------------------"
      ]
     },
     "metadata": {},
     "output_type": "display_data"
    },
    {
     "data": {
      "text/html": [
       "<pre>Number of examples          : 1224818</pre>"
      ],
      "text/plain": [
       "Number of examples          : 1224818"
      ]
     },
     "metadata": {},
     "output_type": "display_data"
    },
    {
     "data": {
      "text/html": [
       "<pre>Number of classes           : 5</pre>"
      ],
      "text/plain": [
       "Number of classes           : 5"
      ]
     },
     "metadata": {},
     "output_type": "display_data"
    },
    {
     "data": {
      "text/html": [
       "<pre>Number of feature columns   : 1</pre>"
      ],
      "text/plain": [
       "Number of feature columns   : 1"
      ]
     },
     "metadata": {},
     "output_type": "display_data"
    },
    {
     "data": {
      "text/html": [
       "<pre>Number of unpacked features : 209701</pre>"
      ],
      "text/plain": [
       "Number of unpacked features : 209701"
      ]
     },
     "metadata": {},
     "output_type": "display_data"
    },
    {
     "data": {
      "text/html": [
       "<pre>Number of coefficients      : 838808</pre>"
      ],
      "text/plain": [
       "Number of coefficients      : 838808"
      ]
     },
     "metadata": {},
     "output_type": "display_data"
    },
    {
     "data": {
      "text/html": [
       "<pre>Starting L-BFGS</pre>"
      ],
      "text/plain": [
       "Starting L-BFGS"
      ]
     },
     "metadata": {},
     "output_type": "display_data"
    },
    {
     "data": {
      "text/html": [
       "<pre>--------------------------------------------------------</pre>"
      ],
      "text/plain": [
       "--------------------------------------------------------"
      ]
     },
     "metadata": {},
     "output_type": "display_data"
    },
    {
     "data": {
      "text/html": [
       "<pre>+-----------+----------+-----------+--------------+-------------------+---------------------+</pre>"
      ],
      "text/plain": [
       "+-----------+----------+-----------+--------------+-------------------+---------------------+"
      ]
     },
     "metadata": {},
     "output_type": "display_data"
    },
    {
     "data": {
      "text/html": [
       "<pre>| Iteration | Passes   | Step size | Elapsed Time | Training Accuracy | Validation Accuracy |</pre>"
      ],
      "text/plain": [
       "| Iteration | Passes   | Step size | Elapsed Time | Training Accuracy | Validation Accuracy |"
      ]
     },
     "metadata": {},
     "output_type": "display_data"
    },
    {
     "data": {
      "text/html": [
       "<pre>+-----------+----------+-----------+--------------+-------------------+---------------------+</pre>"
      ],
      "text/plain": [
       "+-----------+----------+-----------+--------------+-------------------+---------------------+"
      ]
     },
     "metadata": {},
     "output_type": "display_data"
    },
    {
     "data": {
      "text/html": [
       "<pre>| 0         | 2        | 1.000000  | 6.484780     | 0.450113          | 0.361964            |</pre>"
      ],
      "text/plain": [
       "| 0         | 2        | 1.000000  | 6.484780     | 0.450113          | 0.361964            |"
      ]
     },
     "metadata": {},
     "output_type": "display_data"
    },
    {
     "data": {
      "text/html": [
       "<pre>| 1         | 4        | 1.000000  | 639.285837   | 0.497165          | 0.398588            |</pre>"
      ],
      "text/plain": [
       "| 1         | 4        | 1.000000  | 639.285837   | 0.497165          | 0.398588            |"
      ]
     },
     "metadata": {},
     "output_type": "display_data"
    },
    {
     "data": {
      "text/html": [
       "<pre>| 2         | 6        | 1.000000  | 1320.990155  | 0.542041          | 0.416164            |</pre>"
      ],
      "text/plain": [
       "| 2         | 6        | 1.000000  | 1320.990155  | 0.542041          | 0.416164            |"
      ]
     },
     "metadata": {},
     "output_type": "display_data"
    },
    {
     "data": {
      "text/html": [
       "<pre>| 3         | 7        | 1.000000  | 1973.481452  | 0.556462          | 0.422229            |</pre>"
      ],
      "text/plain": [
       "| 3         | 7        | 1.000000  | 1973.481452  | 0.556462          | 0.422229            |"
      ]
     },
     "metadata": {},
     "output_type": "display_data"
    },
    {
     "data": {
      "text/html": [
       "<pre>| 4         | 8        | 1.000000  | 2635.285269  | 0.569433          | 0.425549            |</pre>"
      ],
      "text/plain": [
       "| 4         | 8        | 1.000000  | 2635.285269  | 0.569433          | 0.425549            |"
      ]
     },
     "metadata": {},
     "output_type": "display_data"
    }
   ],
   "source": [
    "training_data, test_data = data.random_split(0.8)\n",
    "\n",
    "model = tc.text_classifier.create(\n",
    "    training_data, \"label\", features=[\"text\"], max_iterations=100\n",
    ")\n"
   ]
  },
  {
   "cell_type": "code",
   "execution_count": 7,
   "metadata": {},
   "outputs": [
    {
     "data": {
      "text/html": [
       "<div style=\"max-height:1000px;max-width:1500px;overflow:auto;\"><table frame=\"box\" rules=\"cols\">\n",
       "    <tr>\n",
       "        <th style=\"padding-left: 1em; padding-right: 1em; text-align: center\">label</th>\n",
       "        <th style=\"padding-left: 1em; padding-right: 1em; text-align: center\">sup</th>\n",
       "        <th style=\"padding-left: 1em; padding-right: 1em; text-align: center\">text</th>\n",
       "    </tr>\n",
       "    <tr>\n",
       "        <td style=\"padding-left: 1em; padding-right: 1em; text-align: center; vertical-align: top\">3</td>\n",
       "        <td style=\"padding-left: 1em; padding-right: 1em; text-align: center; vertical-align: top\">more like funchuck</td>\n",
       "        <td style=\"padding-left: 1em; padding-right: 1em; text-align: center; vertical-align: top\">Gave this to my dad for a<br>gag gift after directing ...</td>\n",
       "    </tr>\n",
       "    <tr>\n",
       "        <td style=\"padding-left: 1em; padding-right: 1em; text-align: center; vertical-align: top\">5</td>\n",
       "        <td style=\"padding-left: 1em; padding-right: 1em; text-align: center; vertical-align: top\">Inspiring</td>\n",
       "        <td style=\"padding-left: 1em; padding-right: 1em; text-align: center; vertical-align: top\">I hope a lot of people<br>hear this cd. We need ...</td>\n",
       "    </tr>\n",
       "    <tr>\n",
       "        <td style=\"padding-left: 1em; padding-right: 1em; text-align: center; vertical-align: top\">5</td>\n",
       "        <td style=\"padding-left: 1em; padding-right: 1em; text-align: center; vertical-align: top\">The best soundtrack ever<br>to anything. ...</td>\n",
       "        <td style=\"padding-left: 1em; padding-right: 1em; text-align: center; vertical-align: top\">I&#x27;m reading a lot of<br>reviews saying that this ...</td>\n",
       "    </tr>\n",
       "    <tr>\n",
       "        <td style=\"padding-left: 1em; padding-right: 1em; text-align: center; vertical-align: top\">4</td>\n",
       "        <td style=\"padding-left: 1em; padding-right: 1em; text-align: center; vertical-align: top\">Chrono Cross OST</td>\n",
       "        <td style=\"padding-left: 1em; padding-right: 1em; text-align: center; vertical-align: top\">The music of Yasunori<br>Misuda is without ...</td>\n",
       "    </tr>\n",
       "    <tr>\n",
       "        <td style=\"padding-left: 1em; padding-right: 1em; text-align: center; vertical-align: top\">5</td>\n",
       "        <td style=\"padding-left: 1em; padding-right: 1em; text-align: center; vertical-align: top\">Too good to be true</td>\n",
       "        <td style=\"padding-left: 1em; padding-right: 1em; text-align: center; vertical-align: top\">Probably the greatest<br>soundtrack in history! ...</td>\n",
       "    </tr>\n",
       "    <tr>\n",
       "        <td style=\"padding-left: 1em; padding-right: 1em; text-align: center; vertical-align: top\">5</td>\n",
       "        <td style=\"padding-left: 1em; padding-right: 1em; text-align: center; vertical-align: top\">There&#x27;s a reason for the<br>price ...</td>\n",
       "        <td style=\"padding-left: 1em; padding-right: 1em; text-align: center; vertical-align: top\">There&#x27;s a reason this CD<br>is so expensive, even ...</td>\n",
       "    </tr>\n",
       "    <tr>\n",
       "        <td style=\"padding-left: 1em; padding-right: 1em; text-align: center; vertical-align: top\">1</td>\n",
       "        <td style=\"padding-left: 1em; padding-right: 1em; text-align: center; vertical-align: top\">Buyer beware</td>\n",
       "        <td style=\"padding-left: 1em; padding-right: 1em; text-align: center; vertical-align: top\">This is a self-published<br>book, and if you want to ...</td>\n",
       "    </tr>\n",
       "    <tr>\n",
       "        <td style=\"padding-left: 1em; padding-right: 1em; text-align: center; vertical-align: top\">4</td>\n",
       "        <td style=\"padding-left: 1em; padding-right: 1em; text-align: center; vertical-align: top\">Errors, but great story</td>\n",
       "        <td style=\"padding-left: 1em; padding-right: 1em; text-align: center; vertical-align: top\">I was a dissapointed to<br>see errors on the back ...</td>\n",
       "    </tr>\n",
       "    <tr>\n",
       "        <td style=\"padding-left: 1em; padding-right: 1em; text-align: center; vertical-align: top\">1</td>\n",
       "        <td style=\"padding-left: 1em; padding-right: 1em; text-align: center; vertical-align: top\">The Worst!</td>\n",
       "        <td style=\"padding-left: 1em; padding-right: 1em; text-align: center; vertical-align: top\">A complete waste of time.<br>Typographical errors, ...</td>\n",
       "    </tr>\n",
       "    <tr>\n",
       "        <td style=\"padding-left: 1em; padding-right: 1em; text-align: center; vertical-align: top\">1</td>\n",
       "        <td style=\"padding-left: 1em; padding-right: 1em; text-align: center; vertical-align: top\">Oh please</td>\n",
       "        <td style=\"padding-left: 1em; padding-right: 1em; text-align: center; vertical-align: top\">I guess you have to be a<br>romance novel lover for ...</td>\n",
       "    </tr>\n",
       "</table>\n",
       "[1611764 rows x 3 columns]<br/>Note: Only the head of the SFrame is printed.<br/>You can use print_rows(num_rows=m, num_columns=n) to print more rows and columns.\n",
       "</div>"
      ],
      "text/plain": [
       "Columns:\n",
       "\tlabel\tint\n",
       "\tsup\tstr\n",
       "\ttext\tstr\n",
       "\n",
       "Rows: 1611764\n",
       "\n",
       "Data:\n",
       "+-------+--------------------------------+-------------------------------+\n",
       "| label |              sup               |              text             |\n",
       "+-------+--------------------------------+-------------------------------+\n",
       "|   3   |       more like funchuck       | Gave this to my dad for a ... |\n",
       "|   5   |           Inspiring            | I hope a lot of people hea... |\n",
       "|   5   | The best soundtrack ever t...  | I'm reading a lot of revie... |\n",
       "|   4   |        Chrono Cross OST        | The music of Yasunori Misu... |\n",
       "|   5   |      Too good to be true       | Probably the greatest soun... |\n",
       "|   5   | There's a reason for the price | There's a reason this CD i... |\n",
       "|   1   |          Buyer beware          | This is a self-published b... |\n",
       "|   4   |    Errors, but great story     | I was a dissapointed to se... |\n",
       "|   1   |           The Worst!           | A complete waste of time. ... |\n",
       "|   1   |           Oh please            | I guess you have to be a r... |\n",
       "+-------+--------------------------------+-------------------------------+\n",
       "[1611764 rows x 3 columns]\n",
       "Note: Only the head of the SFrame is printed.\n",
       "You can use print_rows(num_rows=m, num_columns=n) to print more rows and columns."
      ]
     },
     "execution_count": 7,
     "metadata": {},
     "output_type": "execute_result"
    }
   ],
   "source": [
    "data\n"
   ]
  },
  {
   "cell_type": "code",
   "execution_count": 32,
   "metadata": {},
   "outputs": [],
   "source": [
    "model.compile(optimizer=\"rmsprop\", loss=\"categorical_crossentropy\", metrics=[\"acc\"])\n"
   ]
  },
  {
   "cell_type": "code",
   "execution_count": 33,
   "metadata": {},
   "outputs": [
    {
     "name": "stdout",
     "output_type": "stream",
     "text": [
      "Epoch 1/30\n",
      "49/49 [==============================] - 48s 983ms/step - loss: 1.6636 - acc: 0.2569 - val_loss: 1.5965 - val_acc: 0.2748\n",
      "Epoch 2/30\n",
      "49/49 [==============================] - 51s 1s/step - loss: 1.4918 - acc: 0.3513 - val_loss: 1.5607 - val_acc: 0.2989\n",
      "Epoch 3/30\n",
      "49/49 [==============================] - 49s 997ms/step - loss: 1.3979 - acc: 0.4124 - val_loss: 1.5238 - val_acc: 0.3329\n",
      "Epoch 4/30\n",
      "49/49 [==============================] - 51s 1s/step - loss: 1.3061 - acc: 0.4675 - val_loss: 1.4870 - val_acc: 0.3469\n",
      "Epoch 5/30\n",
      "49/49 [==============================] - 48s 989ms/step - loss: 1.2165 - acc: 0.5215 - val_loss: 1.5523 - val_acc: 0.3361\n",
      "Epoch 6/30\n",
      "49/49 [==============================] - 50s 1s/step - loss: 1.1277 - acc: 0.5603 - val_loss: 1.5476 - val_acc: 0.3438\n",
      "Epoch 7/30\n",
      "49/49 [==============================] - 43s 878ms/step - loss: 1.0519 - acc: 0.5972 - val_loss: 1.5548 - val_acc: 0.3576\n",
      "Epoch 8/30\n",
      "49/49 [==============================] - 45s 911ms/step - loss: 0.9700 - acc: 0.6399 - val_loss: 1.5537 - val_acc: 0.3590\n",
      "Epoch 9/30\n",
      "49/49 [==============================] - 44s 895ms/step - loss: 0.8968 - acc: 0.6749 - val_loss: 1.5955 - val_acc: 0.3575\n",
      "Epoch 10/30\n",
      "49/49 [==============================] - 45s 917ms/step - loss: 0.8168 - acc: 0.7119 - val_loss: 1.8011 - val_acc: 0.3421\n",
      "Epoch 11/30\n",
      " 3/49 [>.............................] - ETA: 35s - loss: 0.7664 - acc: 0.7428"
     ]
    },
    {
     "ename": "KeyboardInterrupt",
     "evalue": "",
     "output_type": "error",
     "traceback": [
      "\u001b[0;31m---------------------------------------------------------------------------\u001b[0m",
      "\u001b[0;31mKeyboardInterrupt\u001b[0m                         Traceback (most recent call last)",
      "\u001b[1;32m/Users/glebsokolov/projects/amazonSentiment.ipynb Cell 21'\u001b[0m in \u001b[0;36m<cell line: 1>\u001b[0;34m()\u001b[0m\n\u001b[0;32m----> <a href='vscode-notebook-cell:/Users/glebsokolov/projects/amazonSentiment.ipynb#ch0000021?line=0'>1</a>\u001b[0m model\u001b[39m.\u001b[39;49mfit(x_train, y_train, epochs\u001b[39m=\u001b[39;49m\u001b[39m30\u001b[39;49m,\n\u001b[1;32m      <a href='vscode-notebook-cell:/Users/glebsokolov/projects/amazonSentiment.ipynb#ch0000021?line=1'>2</a>\u001b[0m                     batch_size\u001b[39m=\u001b[39;49m\u001b[39m1024\u001b[39;49m,\n\u001b[1;32m      <a href='vscode-notebook-cell:/Users/glebsokolov/projects/amazonSentiment.ipynb#ch0000021?line=2'>3</a>\u001b[0m                     validation_data\u001b[39m=\u001b[39;49m(x_val, y_val))\n",
      "File \u001b[0;32m/Volumes/Environment/conda/miniconda3/envs/defaultenv/lib/python3.10/site-packages/keras/utils/traceback_utils.py:64\u001b[0m, in \u001b[0;36mfilter_traceback.<locals>.error_handler\u001b[0;34m(*args, **kwargs)\u001b[0m\n\u001b[1;32m     <a href='file:///Volumes/Environment/conda/miniconda3/envs/defaultenv/lib/python3.10/site-packages/keras/utils/traceback_utils.py?line=61'>62</a>\u001b[0m filtered_tb \u001b[39m=\u001b[39m \u001b[39mNone\u001b[39;00m\n\u001b[1;32m     <a href='file:///Volumes/Environment/conda/miniconda3/envs/defaultenv/lib/python3.10/site-packages/keras/utils/traceback_utils.py?line=62'>63</a>\u001b[0m \u001b[39mtry\u001b[39;00m:\n\u001b[0;32m---> <a href='file:///Volumes/Environment/conda/miniconda3/envs/defaultenv/lib/python3.10/site-packages/keras/utils/traceback_utils.py?line=63'>64</a>\u001b[0m   \u001b[39mreturn\u001b[39;00m fn(\u001b[39m*\u001b[39;49margs, \u001b[39m*\u001b[39;49m\u001b[39m*\u001b[39;49mkwargs)\n\u001b[1;32m     <a href='file:///Volumes/Environment/conda/miniconda3/envs/defaultenv/lib/python3.10/site-packages/keras/utils/traceback_utils.py?line=64'>65</a>\u001b[0m \u001b[39mexcept\u001b[39;00m \u001b[39mException\u001b[39;00m \u001b[39mas\u001b[39;00m e:  \u001b[39m# pylint: disable=broad-except\u001b[39;00m\n\u001b[1;32m     <a href='file:///Volumes/Environment/conda/miniconda3/envs/defaultenv/lib/python3.10/site-packages/keras/utils/traceback_utils.py?line=65'>66</a>\u001b[0m   filtered_tb \u001b[39m=\u001b[39m _process_traceback_frames(e\u001b[39m.\u001b[39m__traceback__)\n",
      "File \u001b[0;32m/Volumes/Environment/conda/miniconda3/envs/defaultenv/lib/python3.10/site-packages/keras/engine/training.py:1384\u001b[0m, in \u001b[0;36mModel.fit\u001b[0;34m(self, x, y, batch_size, epochs, verbose, callbacks, validation_split, validation_data, shuffle, class_weight, sample_weight, initial_epoch, steps_per_epoch, validation_steps, validation_batch_size, validation_freq, max_queue_size, workers, use_multiprocessing)\u001b[0m\n\u001b[1;32m   <a href='file:///Volumes/Environment/conda/miniconda3/envs/defaultenv/lib/python3.10/site-packages/keras/engine/training.py?line=1376'>1377</a>\u001b[0m \u001b[39mwith\u001b[39;00m tf\u001b[39m.\u001b[39mprofiler\u001b[39m.\u001b[39mexperimental\u001b[39m.\u001b[39mTrace(\n\u001b[1;32m   <a href='file:///Volumes/Environment/conda/miniconda3/envs/defaultenv/lib/python3.10/site-packages/keras/engine/training.py?line=1377'>1378</a>\u001b[0m     \u001b[39m'\u001b[39m\u001b[39mtrain\u001b[39m\u001b[39m'\u001b[39m,\n\u001b[1;32m   <a href='file:///Volumes/Environment/conda/miniconda3/envs/defaultenv/lib/python3.10/site-packages/keras/engine/training.py?line=1378'>1379</a>\u001b[0m     epoch_num\u001b[39m=\u001b[39mepoch,\n\u001b[1;32m   <a href='file:///Volumes/Environment/conda/miniconda3/envs/defaultenv/lib/python3.10/site-packages/keras/engine/training.py?line=1379'>1380</a>\u001b[0m     step_num\u001b[39m=\u001b[39mstep,\n\u001b[1;32m   <a href='file:///Volumes/Environment/conda/miniconda3/envs/defaultenv/lib/python3.10/site-packages/keras/engine/training.py?line=1380'>1381</a>\u001b[0m     batch_size\u001b[39m=\u001b[39mbatch_size,\n\u001b[1;32m   <a href='file:///Volumes/Environment/conda/miniconda3/envs/defaultenv/lib/python3.10/site-packages/keras/engine/training.py?line=1381'>1382</a>\u001b[0m     _r\u001b[39m=\u001b[39m\u001b[39m1\u001b[39m):\n\u001b[1;32m   <a href='file:///Volumes/Environment/conda/miniconda3/envs/defaultenv/lib/python3.10/site-packages/keras/engine/training.py?line=1382'>1383</a>\u001b[0m   callbacks\u001b[39m.\u001b[39mon_train_batch_begin(step)\n\u001b[0;32m-> <a href='file:///Volumes/Environment/conda/miniconda3/envs/defaultenv/lib/python3.10/site-packages/keras/engine/training.py?line=1383'>1384</a>\u001b[0m   tmp_logs \u001b[39m=\u001b[39m \u001b[39mself\u001b[39;49m\u001b[39m.\u001b[39;49mtrain_function(iterator)\n\u001b[1;32m   <a href='file:///Volumes/Environment/conda/miniconda3/envs/defaultenv/lib/python3.10/site-packages/keras/engine/training.py?line=1384'>1385</a>\u001b[0m   \u001b[39mif\u001b[39;00m data_handler\u001b[39m.\u001b[39mshould_sync:\n\u001b[1;32m   <a href='file:///Volumes/Environment/conda/miniconda3/envs/defaultenv/lib/python3.10/site-packages/keras/engine/training.py?line=1385'>1386</a>\u001b[0m     context\u001b[39m.\u001b[39masync_wait()\n",
      "File \u001b[0;32m/Volumes/Environment/conda/miniconda3/envs/defaultenv/lib/python3.10/site-packages/tensorflow/python/util/traceback_utils.py:150\u001b[0m, in \u001b[0;36mfilter_traceback.<locals>.error_handler\u001b[0;34m(*args, **kwargs)\u001b[0m\n\u001b[1;32m    <a href='file:///Volumes/Environment/conda/miniconda3/envs/defaultenv/lib/python3.10/site-packages/tensorflow/python/util/traceback_utils.py?line=147'>148</a>\u001b[0m filtered_tb \u001b[39m=\u001b[39m \u001b[39mNone\u001b[39;00m\n\u001b[1;32m    <a href='file:///Volumes/Environment/conda/miniconda3/envs/defaultenv/lib/python3.10/site-packages/tensorflow/python/util/traceback_utils.py?line=148'>149</a>\u001b[0m \u001b[39mtry\u001b[39;00m:\n\u001b[0;32m--> <a href='file:///Volumes/Environment/conda/miniconda3/envs/defaultenv/lib/python3.10/site-packages/tensorflow/python/util/traceback_utils.py?line=149'>150</a>\u001b[0m   \u001b[39mreturn\u001b[39;00m fn(\u001b[39m*\u001b[39;49margs, \u001b[39m*\u001b[39;49m\u001b[39m*\u001b[39;49mkwargs)\n\u001b[1;32m    <a href='file:///Volumes/Environment/conda/miniconda3/envs/defaultenv/lib/python3.10/site-packages/tensorflow/python/util/traceback_utils.py?line=150'>151</a>\u001b[0m \u001b[39mexcept\u001b[39;00m \u001b[39mException\u001b[39;00m \u001b[39mas\u001b[39;00m e:\n\u001b[1;32m    <a href='file:///Volumes/Environment/conda/miniconda3/envs/defaultenv/lib/python3.10/site-packages/tensorflow/python/util/traceback_utils.py?line=151'>152</a>\u001b[0m   filtered_tb \u001b[39m=\u001b[39m _process_traceback_frames(e\u001b[39m.\u001b[39m__traceback__)\n",
      "File \u001b[0;32m/Volumes/Environment/conda/miniconda3/envs/defaultenv/lib/python3.10/site-packages/tensorflow/python/eager/def_function.py:915\u001b[0m, in \u001b[0;36mFunction.__call__\u001b[0;34m(self, *args, **kwds)\u001b[0m\n\u001b[1;32m    <a href='file:///Volumes/Environment/conda/miniconda3/envs/defaultenv/lib/python3.10/site-packages/tensorflow/python/eager/def_function.py?line=911'>912</a>\u001b[0m compiler \u001b[39m=\u001b[39m \u001b[39m\"\u001b[39m\u001b[39mxla\u001b[39m\u001b[39m\"\u001b[39m \u001b[39mif\u001b[39;00m \u001b[39mself\u001b[39m\u001b[39m.\u001b[39m_jit_compile \u001b[39melse\u001b[39;00m \u001b[39m\"\u001b[39m\u001b[39mnonXla\u001b[39m\u001b[39m\"\u001b[39m\n\u001b[1;32m    <a href='file:///Volumes/Environment/conda/miniconda3/envs/defaultenv/lib/python3.10/site-packages/tensorflow/python/eager/def_function.py?line=913'>914</a>\u001b[0m \u001b[39mwith\u001b[39;00m OptionalXlaContext(\u001b[39mself\u001b[39m\u001b[39m.\u001b[39m_jit_compile):\n\u001b[0;32m--> <a href='file:///Volumes/Environment/conda/miniconda3/envs/defaultenv/lib/python3.10/site-packages/tensorflow/python/eager/def_function.py?line=914'>915</a>\u001b[0m   result \u001b[39m=\u001b[39m \u001b[39mself\u001b[39;49m\u001b[39m.\u001b[39;49m_call(\u001b[39m*\u001b[39;49margs, \u001b[39m*\u001b[39;49m\u001b[39m*\u001b[39;49mkwds)\n\u001b[1;32m    <a href='file:///Volumes/Environment/conda/miniconda3/envs/defaultenv/lib/python3.10/site-packages/tensorflow/python/eager/def_function.py?line=916'>917</a>\u001b[0m new_tracing_count \u001b[39m=\u001b[39m \u001b[39mself\u001b[39m\u001b[39m.\u001b[39mexperimental_get_tracing_count()\n\u001b[1;32m    <a href='file:///Volumes/Environment/conda/miniconda3/envs/defaultenv/lib/python3.10/site-packages/tensorflow/python/eager/def_function.py?line=917'>918</a>\u001b[0m without_tracing \u001b[39m=\u001b[39m (tracing_count \u001b[39m==\u001b[39m new_tracing_count)\n",
      "File \u001b[0;32m/Volumes/Environment/conda/miniconda3/envs/defaultenv/lib/python3.10/site-packages/tensorflow/python/eager/def_function.py:947\u001b[0m, in \u001b[0;36mFunction._call\u001b[0;34m(self, *args, **kwds)\u001b[0m\n\u001b[1;32m    <a href='file:///Volumes/Environment/conda/miniconda3/envs/defaultenv/lib/python3.10/site-packages/tensorflow/python/eager/def_function.py?line=943'>944</a>\u001b[0m   \u001b[39mself\u001b[39m\u001b[39m.\u001b[39m_lock\u001b[39m.\u001b[39mrelease()\n\u001b[1;32m    <a href='file:///Volumes/Environment/conda/miniconda3/envs/defaultenv/lib/python3.10/site-packages/tensorflow/python/eager/def_function.py?line=944'>945</a>\u001b[0m   \u001b[39m# In this case we have created variables on the first call, so we run the\u001b[39;00m\n\u001b[1;32m    <a href='file:///Volumes/Environment/conda/miniconda3/envs/defaultenv/lib/python3.10/site-packages/tensorflow/python/eager/def_function.py?line=945'>946</a>\u001b[0m   \u001b[39m# defunned version which is guaranteed to never create variables.\u001b[39;00m\n\u001b[0;32m--> <a href='file:///Volumes/Environment/conda/miniconda3/envs/defaultenv/lib/python3.10/site-packages/tensorflow/python/eager/def_function.py?line=946'>947</a>\u001b[0m   \u001b[39mreturn\u001b[39;00m \u001b[39mself\u001b[39;49m\u001b[39m.\u001b[39;49m_stateless_fn(\u001b[39m*\u001b[39;49margs, \u001b[39m*\u001b[39;49m\u001b[39m*\u001b[39;49mkwds)  \u001b[39m# pylint: disable=not-callable\u001b[39;00m\n\u001b[1;32m    <a href='file:///Volumes/Environment/conda/miniconda3/envs/defaultenv/lib/python3.10/site-packages/tensorflow/python/eager/def_function.py?line=947'>948</a>\u001b[0m \u001b[39melif\u001b[39;00m \u001b[39mself\u001b[39m\u001b[39m.\u001b[39m_stateful_fn \u001b[39mis\u001b[39;00m \u001b[39mnot\u001b[39;00m \u001b[39mNone\u001b[39;00m:\n\u001b[1;32m    <a href='file:///Volumes/Environment/conda/miniconda3/envs/defaultenv/lib/python3.10/site-packages/tensorflow/python/eager/def_function.py?line=948'>949</a>\u001b[0m   \u001b[39m# Release the lock early so that multiple threads can perform the call\u001b[39;00m\n\u001b[1;32m    <a href='file:///Volumes/Environment/conda/miniconda3/envs/defaultenv/lib/python3.10/site-packages/tensorflow/python/eager/def_function.py?line=949'>950</a>\u001b[0m   \u001b[39m# in parallel.\u001b[39;00m\n\u001b[1;32m    <a href='file:///Volumes/Environment/conda/miniconda3/envs/defaultenv/lib/python3.10/site-packages/tensorflow/python/eager/def_function.py?line=950'>951</a>\u001b[0m   \u001b[39mself\u001b[39m\u001b[39m.\u001b[39m_lock\u001b[39m.\u001b[39mrelease()\n",
      "File \u001b[0;32m/Volumes/Environment/conda/miniconda3/envs/defaultenv/lib/python3.10/site-packages/tensorflow/python/eager/function.py:2956\u001b[0m, in \u001b[0;36mFunction.__call__\u001b[0;34m(self, *args, **kwargs)\u001b[0m\n\u001b[1;32m   <a href='file:///Volumes/Environment/conda/miniconda3/envs/defaultenv/lib/python3.10/site-packages/tensorflow/python/eager/function.py?line=2952'>2953</a>\u001b[0m \u001b[39mwith\u001b[39;00m \u001b[39mself\u001b[39m\u001b[39m.\u001b[39m_lock:\n\u001b[1;32m   <a href='file:///Volumes/Environment/conda/miniconda3/envs/defaultenv/lib/python3.10/site-packages/tensorflow/python/eager/function.py?line=2953'>2954</a>\u001b[0m   (graph_function,\n\u001b[1;32m   <a href='file:///Volumes/Environment/conda/miniconda3/envs/defaultenv/lib/python3.10/site-packages/tensorflow/python/eager/function.py?line=2954'>2955</a>\u001b[0m    filtered_flat_args) \u001b[39m=\u001b[39m \u001b[39mself\u001b[39m\u001b[39m.\u001b[39m_maybe_define_function(args, kwargs)\n\u001b[0;32m-> <a href='file:///Volumes/Environment/conda/miniconda3/envs/defaultenv/lib/python3.10/site-packages/tensorflow/python/eager/function.py?line=2955'>2956</a>\u001b[0m \u001b[39mreturn\u001b[39;00m graph_function\u001b[39m.\u001b[39;49m_call_flat(\n\u001b[1;32m   <a href='file:///Volumes/Environment/conda/miniconda3/envs/defaultenv/lib/python3.10/site-packages/tensorflow/python/eager/function.py?line=2956'>2957</a>\u001b[0m     filtered_flat_args, captured_inputs\u001b[39m=\u001b[39;49mgraph_function\u001b[39m.\u001b[39;49mcaptured_inputs)\n",
      "File \u001b[0;32m/Volumes/Environment/conda/miniconda3/envs/defaultenv/lib/python3.10/site-packages/tensorflow/python/eager/function.py:1853\u001b[0m, in \u001b[0;36mConcreteFunction._call_flat\u001b[0;34m(self, args, captured_inputs, cancellation_manager)\u001b[0m\n\u001b[1;32m   <a href='file:///Volumes/Environment/conda/miniconda3/envs/defaultenv/lib/python3.10/site-packages/tensorflow/python/eager/function.py?line=1848'>1849</a>\u001b[0m possible_gradient_type \u001b[39m=\u001b[39m gradients_util\u001b[39m.\u001b[39mPossibleTapeGradientTypes(args)\n\u001b[1;32m   <a href='file:///Volumes/Environment/conda/miniconda3/envs/defaultenv/lib/python3.10/site-packages/tensorflow/python/eager/function.py?line=1849'>1850</a>\u001b[0m \u001b[39mif\u001b[39;00m (possible_gradient_type \u001b[39m==\u001b[39m gradients_util\u001b[39m.\u001b[39mPOSSIBLE_GRADIENT_TYPES_NONE\n\u001b[1;32m   <a href='file:///Volumes/Environment/conda/miniconda3/envs/defaultenv/lib/python3.10/site-packages/tensorflow/python/eager/function.py?line=1850'>1851</a>\u001b[0m     \u001b[39mand\u001b[39;00m executing_eagerly):\n\u001b[1;32m   <a href='file:///Volumes/Environment/conda/miniconda3/envs/defaultenv/lib/python3.10/site-packages/tensorflow/python/eager/function.py?line=1851'>1852</a>\u001b[0m   \u001b[39m# No tape is watching; skip to running the function.\u001b[39;00m\n\u001b[0;32m-> <a href='file:///Volumes/Environment/conda/miniconda3/envs/defaultenv/lib/python3.10/site-packages/tensorflow/python/eager/function.py?line=1852'>1853</a>\u001b[0m   \u001b[39mreturn\u001b[39;00m \u001b[39mself\u001b[39m\u001b[39m.\u001b[39m_build_call_outputs(\u001b[39mself\u001b[39;49m\u001b[39m.\u001b[39;49m_inference_function\u001b[39m.\u001b[39;49mcall(\n\u001b[1;32m   <a href='file:///Volumes/Environment/conda/miniconda3/envs/defaultenv/lib/python3.10/site-packages/tensorflow/python/eager/function.py?line=1853'>1854</a>\u001b[0m       ctx, args, cancellation_manager\u001b[39m=\u001b[39;49mcancellation_manager))\n\u001b[1;32m   <a href='file:///Volumes/Environment/conda/miniconda3/envs/defaultenv/lib/python3.10/site-packages/tensorflow/python/eager/function.py?line=1854'>1855</a>\u001b[0m forward_backward \u001b[39m=\u001b[39m \u001b[39mself\u001b[39m\u001b[39m.\u001b[39m_select_forward_and_backward_functions(\n\u001b[1;32m   <a href='file:///Volumes/Environment/conda/miniconda3/envs/defaultenv/lib/python3.10/site-packages/tensorflow/python/eager/function.py?line=1855'>1856</a>\u001b[0m     args,\n\u001b[1;32m   <a href='file:///Volumes/Environment/conda/miniconda3/envs/defaultenv/lib/python3.10/site-packages/tensorflow/python/eager/function.py?line=1856'>1857</a>\u001b[0m     possible_gradient_type,\n\u001b[1;32m   <a href='file:///Volumes/Environment/conda/miniconda3/envs/defaultenv/lib/python3.10/site-packages/tensorflow/python/eager/function.py?line=1857'>1858</a>\u001b[0m     executing_eagerly)\n\u001b[1;32m   <a href='file:///Volumes/Environment/conda/miniconda3/envs/defaultenv/lib/python3.10/site-packages/tensorflow/python/eager/function.py?line=1858'>1859</a>\u001b[0m forward_function, args_with_tangents \u001b[39m=\u001b[39m forward_backward\u001b[39m.\u001b[39mforward()\n",
      "File \u001b[0;32m/Volumes/Environment/conda/miniconda3/envs/defaultenv/lib/python3.10/site-packages/tensorflow/python/eager/function.py:499\u001b[0m, in \u001b[0;36m_EagerDefinedFunction.call\u001b[0;34m(self, ctx, args, cancellation_manager)\u001b[0m\n\u001b[1;32m    <a href='file:///Volumes/Environment/conda/miniconda3/envs/defaultenv/lib/python3.10/site-packages/tensorflow/python/eager/function.py?line=496'>497</a>\u001b[0m \u001b[39mwith\u001b[39;00m _InterpolateFunctionError(\u001b[39mself\u001b[39m):\n\u001b[1;32m    <a href='file:///Volumes/Environment/conda/miniconda3/envs/defaultenv/lib/python3.10/site-packages/tensorflow/python/eager/function.py?line=497'>498</a>\u001b[0m   \u001b[39mif\u001b[39;00m cancellation_manager \u001b[39mis\u001b[39;00m \u001b[39mNone\u001b[39;00m:\n\u001b[0;32m--> <a href='file:///Volumes/Environment/conda/miniconda3/envs/defaultenv/lib/python3.10/site-packages/tensorflow/python/eager/function.py?line=498'>499</a>\u001b[0m     outputs \u001b[39m=\u001b[39m execute\u001b[39m.\u001b[39;49mexecute(\n\u001b[1;32m    <a href='file:///Volumes/Environment/conda/miniconda3/envs/defaultenv/lib/python3.10/site-packages/tensorflow/python/eager/function.py?line=499'>500</a>\u001b[0m         \u001b[39mstr\u001b[39;49m(\u001b[39mself\u001b[39;49m\u001b[39m.\u001b[39;49msignature\u001b[39m.\u001b[39;49mname),\n\u001b[1;32m    <a href='file:///Volumes/Environment/conda/miniconda3/envs/defaultenv/lib/python3.10/site-packages/tensorflow/python/eager/function.py?line=500'>501</a>\u001b[0m         num_outputs\u001b[39m=\u001b[39;49m\u001b[39mself\u001b[39;49m\u001b[39m.\u001b[39;49m_num_outputs,\n\u001b[1;32m    <a href='file:///Volumes/Environment/conda/miniconda3/envs/defaultenv/lib/python3.10/site-packages/tensorflow/python/eager/function.py?line=501'>502</a>\u001b[0m         inputs\u001b[39m=\u001b[39;49margs,\n\u001b[1;32m    <a href='file:///Volumes/Environment/conda/miniconda3/envs/defaultenv/lib/python3.10/site-packages/tensorflow/python/eager/function.py?line=502'>503</a>\u001b[0m         attrs\u001b[39m=\u001b[39;49mattrs,\n\u001b[1;32m    <a href='file:///Volumes/Environment/conda/miniconda3/envs/defaultenv/lib/python3.10/site-packages/tensorflow/python/eager/function.py?line=503'>504</a>\u001b[0m         ctx\u001b[39m=\u001b[39;49mctx)\n\u001b[1;32m    <a href='file:///Volumes/Environment/conda/miniconda3/envs/defaultenv/lib/python3.10/site-packages/tensorflow/python/eager/function.py?line=504'>505</a>\u001b[0m   \u001b[39melse\u001b[39;00m:\n\u001b[1;32m    <a href='file:///Volumes/Environment/conda/miniconda3/envs/defaultenv/lib/python3.10/site-packages/tensorflow/python/eager/function.py?line=505'>506</a>\u001b[0m     outputs \u001b[39m=\u001b[39m execute\u001b[39m.\u001b[39mexecute_with_cancellation(\n\u001b[1;32m    <a href='file:///Volumes/Environment/conda/miniconda3/envs/defaultenv/lib/python3.10/site-packages/tensorflow/python/eager/function.py?line=506'>507</a>\u001b[0m         \u001b[39mstr\u001b[39m(\u001b[39mself\u001b[39m\u001b[39m.\u001b[39msignature\u001b[39m.\u001b[39mname),\n\u001b[1;32m    <a href='file:///Volumes/Environment/conda/miniconda3/envs/defaultenv/lib/python3.10/site-packages/tensorflow/python/eager/function.py?line=507'>508</a>\u001b[0m         num_outputs\u001b[39m=\u001b[39m\u001b[39mself\u001b[39m\u001b[39m.\u001b[39m_num_outputs,\n\u001b[0;32m   (...)\u001b[0m\n\u001b[1;32m    <a href='file:///Volumes/Environment/conda/miniconda3/envs/defaultenv/lib/python3.10/site-packages/tensorflow/python/eager/function.py?line=510'>511</a>\u001b[0m         ctx\u001b[39m=\u001b[39mctx,\n\u001b[1;32m    <a href='file:///Volumes/Environment/conda/miniconda3/envs/defaultenv/lib/python3.10/site-packages/tensorflow/python/eager/function.py?line=511'>512</a>\u001b[0m         cancellation_manager\u001b[39m=\u001b[39mcancellation_manager)\n",
      "File \u001b[0;32m/Volumes/Environment/conda/miniconda3/envs/defaultenv/lib/python3.10/site-packages/tensorflow/python/eager/execute.py:54\u001b[0m, in \u001b[0;36mquick_execute\u001b[0;34m(op_name, num_outputs, inputs, attrs, ctx, name)\u001b[0m\n\u001b[1;32m     <a href='file:///Volumes/Environment/conda/miniconda3/envs/defaultenv/lib/python3.10/site-packages/tensorflow/python/eager/execute.py?line=51'>52</a>\u001b[0m \u001b[39mtry\u001b[39;00m:\n\u001b[1;32m     <a href='file:///Volumes/Environment/conda/miniconda3/envs/defaultenv/lib/python3.10/site-packages/tensorflow/python/eager/execute.py?line=52'>53</a>\u001b[0m   ctx\u001b[39m.\u001b[39mensure_initialized()\n\u001b[0;32m---> <a href='file:///Volumes/Environment/conda/miniconda3/envs/defaultenv/lib/python3.10/site-packages/tensorflow/python/eager/execute.py?line=53'>54</a>\u001b[0m   tensors \u001b[39m=\u001b[39m pywrap_tfe\u001b[39m.\u001b[39;49mTFE_Py_Execute(ctx\u001b[39m.\u001b[39;49m_handle, device_name, op_name,\n\u001b[1;32m     <a href='file:///Volumes/Environment/conda/miniconda3/envs/defaultenv/lib/python3.10/site-packages/tensorflow/python/eager/execute.py?line=54'>55</a>\u001b[0m                                       inputs, attrs, num_outputs)\n\u001b[1;32m     <a href='file:///Volumes/Environment/conda/miniconda3/envs/defaultenv/lib/python3.10/site-packages/tensorflow/python/eager/execute.py?line=55'>56</a>\u001b[0m \u001b[39mexcept\u001b[39;00m core\u001b[39m.\u001b[39m_NotOkStatusException \u001b[39mas\u001b[39;00m e:\n\u001b[1;32m     <a href='file:///Volumes/Environment/conda/miniconda3/envs/defaultenv/lib/python3.10/site-packages/tensorflow/python/eager/execute.py?line=56'>57</a>\u001b[0m   \u001b[39mif\u001b[39;00m name \u001b[39mis\u001b[39;00m \u001b[39mnot\u001b[39;00m \u001b[39mNone\u001b[39;00m:\n",
      "\u001b[0;31mKeyboardInterrupt\u001b[0m: "
     ]
    }
   ],
   "source": [
    "model.fit(x_train, y_train, epochs=30, batch_size=1024, validation_data=(x_val, y_val))\n"
   ]
  },
  {
   "cell_type": "code",
   "execution_count": 51,
   "metadata": {},
   "outputs": [],
   "source": [
    "path = \"/Volumes/Environment/Datasets/preTrainedWikiNews.h5\"\n",
    "model.save_weights(path)\n"
   ]
  },
  {
   "cell_type": "code",
   "execution_count": 14,
   "metadata": {},
   "outputs": [],
   "source": [
    "model.load_weights(\"/Volumes/ENVIRONMENT/Datasets/preTrainedWikiNews.h5\")\n"
   ]
  }
 ],
 "metadata": {
  "kernelspec": {
   "display_name": "Python 3.10.0",
   "language": "python",
   "name": "python3"
  },
  "language_info": {
   "codemirror_mode": {
    "name": "ipython",
    "version": 3
   },
   "file_extension": ".py",
   "mimetype": "text/x-python",
   "name": "python",
   "nbconvert_exporter": "python",
   "pygments_lexer": "ipython3",
   "version": "3.10.0"
  },
  "orig_nbformat": 4,
  "vscode": {
   "interpreter": {
    "hash": "c1d7054af77ba560f87b9c7884b1cfb54f44503b6d572a00787a3ee06861aa5a"
   }
  }
 },
 "nbformat": 4,
 "nbformat_minor": 2
}
